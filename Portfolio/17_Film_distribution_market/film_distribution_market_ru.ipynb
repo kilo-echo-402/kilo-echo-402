{
 "cells": [
  {
   "cell_type": "markdown",
   "metadata": {
    "toc": true
   },
   "source": [
    "<h1>Table of Contents<span class=\"tocSkip\"></span></h1>\n",
    "<div class=\"toc\"><ul class=\"toc-item\"><li><span><a href=\"#Описание-проекта\" data-toc-modified-id=\"Описание-проекта-1\"><span class=\"toc-item-num\">1&nbsp;&nbsp;</span>Описание проекта</a></span></li><li><span><a href=\"#План-работ\" data-toc-modified-id=\"План-работ-2\"><span class=\"toc-item-num\">2&nbsp;&nbsp;</span>План работ</a></span></li><li><span><a href=\"#Обзор-данных\" data-toc-modified-id=\"Обзор-данных-3\"><span class=\"toc-item-num\">3&nbsp;&nbsp;</span>Обзор данных</a></span><ul class=\"toc-item\"><li><span><a href=\"#Обзор-mkrf_movies\" data-toc-modified-id=\"Обзор-mkrf_movies-3.1\"><span class=\"toc-item-num\">3.1&nbsp;&nbsp;</span>Обзор mkrf_movies</a></span></li><li><span><a href=\"#Обзор-mkrf_shows\" data-toc-modified-id=\"Обзор-mkrf_shows-3.2\"><span class=\"toc-item-num\">3.2&nbsp;&nbsp;</span>Обзор mkrf_shows</a></span></li><li><span><a href=\"#Обзор-общего-столбца\" data-toc-modified-id=\"Обзор-общего-столбца-3.3\"><span class=\"toc-item-num\">3.3&nbsp;&nbsp;</span>Обзор общего столбца</a></span></li><li><span><a href=\"#Выводы-по-обзору-данных\" data-toc-modified-id=\"Выводы-по-обзору-данных-3.4\"><span class=\"toc-item-num\">3.4&nbsp;&nbsp;</span>Выводы по обзору данных</a></span></li></ul></li><li><span><a href=\"#Предобработка-данных\" data-toc-modified-id=\"Предобработка-данных-4\"><span class=\"toc-item-num\">4&nbsp;&nbsp;</span>Предобработка данных</a></span><ul class=\"toc-item\"><li><span><a href=\"#Переименование-столбцов\" data-toc-modified-id=\"Переименование-столбцов-4.1\"><span class=\"toc-item-num\">4.1&nbsp;&nbsp;</span>Переименование столбцов</a></span></li><li><span><a href=\"#Обработка-пропусков\" data-toc-modified-id=\"Обработка-пропусков-4.2\"><span class=\"toc-item-num\">4.2&nbsp;&nbsp;</span>Обработка пропусков</a></span><ul class=\"toc-item\"><li><span><a href=\"#Датасет-df_movies\" data-toc-modified-id=\"Датасет-df_movies-4.2.1\"><span class=\"toc-item-num\">4.2.1&nbsp;&nbsp;</span>Датасет df_movies</a></span></li><li><span><a href=\"#Датасет-df_shows\" data-toc-modified-id=\"Датасет-df_shows-4.2.2\"><span class=\"toc-item-num\">4.2.2&nbsp;&nbsp;</span>Датасет df_shows</a></span></li><li><span><a href=\"#Выводы-по-пропускам\" data-toc-modified-id=\"Выводы-по-пропускам-4.2.3\"><span class=\"toc-item-num\">4.2.3&nbsp;&nbsp;</span>Выводы по пропускам</a></span></li></ul></li><li><span><a href=\"#Изменение-типов-данных\" data-toc-modified-id=\"Изменение-типов-данных-4.3\"><span class=\"toc-item-num\">4.3&nbsp;&nbsp;</span>Изменение типов данных</a></span><ul class=\"toc-item\"><li><span><a href=\"#Столбец-pu_number\" data-toc-modified-id=\"Столбец-pu_number-4.3.1\"><span class=\"toc-item-num\">4.3.1&nbsp;&nbsp;</span>Столбец pu_number</a></span></li><li><span><a href=\"#Столбец-show_start_date\" data-toc-modified-id=\"Столбец-show_start_date-4.3.2\"><span class=\"toc-item-num\">4.3.2&nbsp;&nbsp;</span>Столбец show_start_date</a></span></li><li><span><a href=\"#Столбец-ratings\" data-toc-modified-id=\"Столбец-ratings-4.3.3\"><span class=\"toc-item-num\">4.3.3&nbsp;&nbsp;</span>Столбец ratings</a></span></li><li><span><a href=\"#Выводы-по-изменению-типов-данных\" data-toc-modified-id=\"Выводы-по-изменению-типов-данных-4.3.4\"><span class=\"toc-item-num\">4.3.4&nbsp;&nbsp;</span>Выводы по изменению типов данных</a></span></li></ul></li><li><span><a href=\"#Объединение-датасетов\" data-toc-modified-id=\"Объединение-датасетов-4.4\"><span class=\"toc-item-num\">4.4&nbsp;&nbsp;</span>Объединение датасетов</a></span></li><li><span><a href=\"#Обработка-дубликатов\" data-toc-modified-id=\"Обработка-дубликатов-4.5\"><span class=\"toc-item-num\">4.5&nbsp;&nbsp;</span>Обработка дубликатов</a></span><ul class=\"toc-item\"><li><span><a href=\"#Явные-дубликаты\" data-toc-modified-id=\"Явные-дубликаты-4.5.1\"><span class=\"toc-item-num\">4.5.1&nbsp;&nbsp;</span>Явные дубликаты</a></span></li><li><span><a href=\"#Неявные-дубликаты\" data-toc-modified-id=\"Неявные-дубликаты-4.5.2\"><span class=\"toc-item-num\">4.5.2&nbsp;&nbsp;</span>Неявные дубликаты</a></span><ul class=\"toc-item\"><li><span><a href=\"#Столбец-title\" data-toc-modified-id=\"Столбец-title-4.5.2.1\"><span class=\"toc-item-num\">4.5.2.1&nbsp;&nbsp;</span>Столбец title</a></span></li><li><span><a href=\"#Столбец-type\" data-toc-modified-id=\"Столбец-type-4.5.2.2\"><span class=\"toc-item-num\">4.5.2.2&nbsp;&nbsp;</span>Столбец type</a></span></li><li><span><a href=\"#Столбец-film_studio\" data-toc-modified-id=\"Столбец-film_studio-4.5.2.3\"><span class=\"toc-item-num\">4.5.2.3&nbsp;&nbsp;</span>Столбец film_studio</a></span></li><li><span><a href=\"#Столбец-production_country\" data-toc-modified-id=\"Столбец-production_country-4.5.2.4\"><span class=\"toc-item-num\">4.5.2.4&nbsp;&nbsp;</span>Столбец production_country</a></span></li><li><span><a href=\"#Столбец-director\" data-toc-modified-id=\"Столбец-director-4.5.2.5\"><span class=\"toc-item-num\">4.5.2.5&nbsp;&nbsp;</span>Столбец director</a></span></li><li><span><a href=\"#Столбец-producer\" data-toc-modified-id=\"Столбец-producer-4.5.2.6\"><span class=\"toc-item-num\">4.5.2.6&nbsp;&nbsp;</span>Столбец producer</a></span></li><li><span><a href=\"#Столбец-age_restriction\" data-toc-modified-id=\"Столбец-age_restriction-4.5.2.7\"><span class=\"toc-item-num\">4.5.2.7&nbsp;&nbsp;</span>Столбец age_restriction</a></span></li><li><span><a href=\"#Столбец-financing_source\" data-toc-modified-id=\"Столбец-financing_source-4.5.2.8\"><span class=\"toc-item-num\">4.5.2.8&nbsp;&nbsp;</span>Столбец financing_source</a></span></li><li><span><a href=\"#Столбец-genres\" data-toc-modified-id=\"Столбец-genres-4.5.2.9\"><span class=\"toc-item-num\">4.5.2.9&nbsp;&nbsp;</span>Столбец genres</a></span></li></ul></li><li><span><a href=\"#Выводы-по-обработке-дубликатов\" data-toc-modified-id=\"Выводы-по-обработке-дубликатов-4.5.3\"><span class=\"toc-item-num\">4.5.3&nbsp;&nbsp;</span>Выводы по обработке дубликатов</a></span></li></ul></li><li><span><a href=\"#Изучение-столбцов-с-количественными-данными\" data-toc-modified-id=\"Изучение-столбцов-с-количественными-данными-4.6\"><span class=\"toc-item-num\">4.6&nbsp;&nbsp;</span>Изучение столбцов с количественными данными</a></span><ul class=\"toc-item\"><li><span><a href=\"#Столбец-refundable_support\" data-toc-modified-id=\"Столбец-refundable_support-4.6.1\"><span class=\"toc-item-num\">4.6.1&nbsp;&nbsp;</span>Столбец refundable_support</a></span></li><li><span><a href=\"#Столбец-nonrefundable_support\" data-toc-modified-id=\"Столбец-nonrefundable_support-4.6.2\"><span class=\"toc-item-num\">4.6.2&nbsp;&nbsp;</span>Столбец nonrefundable_support</a></span></li><li><span><a href=\"#Столбец-budget\" data-toc-modified-id=\"Столбец-budget-4.6.3\"><span class=\"toc-item-num\">4.6.3&nbsp;&nbsp;</span>Столбец budget</a></span></li><li><span><a href=\"#Столбец-box_office\" data-toc-modified-id=\"Столбец-box_office-4.6.4\"><span class=\"toc-item-num\">4.6.4&nbsp;&nbsp;</span>Столбец box_office</a></span></li><li><span><a href=\"#Выводы-по-изучению-столбцов-с-количественными-данными\" data-toc-modified-id=\"Выводы-по-изучению-столбцов-с-количественными-данными-4.6.5\"><span class=\"toc-item-num\">4.6.5&nbsp;&nbsp;</span>Выводы по изучению столбцов с количественными данными</a></span></li></ul></li><li><span><a href=\"#Добавление-новых-столбцов\" data-toc-modified-id=\"Добавление-новых-столбцов-4.7\"><span class=\"toc-item-num\">4.7&nbsp;&nbsp;</span>Добавление новых столбцов</a></span><ul class=\"toc-item\"><li><span><a href=\"#Год-проката\" data-toc-modified-id=\"Год-проката-4.7.1\"><span class=\"toc-item-num\">4.7.1&nbsp;&nbsp;</span>Год проката</a></span></li><li><span><a href=\"#Имя-и-фамилия-главного-режиссёра\" data-toc-modified-id=\"Имя-и-фамилия-главного-режиссёра-4.7.2\"><span class=\"toc-item-num\">4.7.2&nbsp;&nbsp;</span>Имя и фамилия главного режиссёра</a></span></li><li><span><a href=\"#Основной-жанр-фильма\" data-toc-modified-id=\"Основной-жанр-фильма-4.7.3\"><span class=\"toc-item-num\">4.7.3&nbsp;&nbsp;</span>Основной жанр фильма</a></span></li><li><span><a href=\"#Доля-гос.поддержки-в-общем-бюджете-фильма\" data-toc-modified-id=\"Доля-гос.поддержки-в-общем-бюджете-фильма-4.7.4\"><span class=\"toc-item-num\">4.7.4&nbsp;&nbsp;</span>Доля гос.поддержки в общем бюджете фильма</a></span></li><li><span><a href=\"#Выводы-по-добавлению-столбцов\" data-toc-modified-id=\"Выводы-по-добавлению-столбцов-4.7.5\"><span class=\"toc-item-num\">4.7.5&nbsp;&nbsp;</span>Выводы по добавлению столбцов</a></span></li></ul></li><li><span><a href=\"#Выводы-по-предобработке-данных\" data-toc-modified-id=\"Выводы-по-предобработке-данных-4.8\"><span class=\"toc-item-num\">4.8&nbsp;&nbsp;</span>Выводы по предобработке данных</a></span></li></ul></li><li><span><a href=\"#Исследовательский-анализ-данных\" data-toc-modified-id=\"Исследовательский-анализ-данных-5\"><span class=\"toc-item-num\">5&nbsp;&nbsp;</span>Исследовательский анализ данных</a></span><ul class=\"toc-item\"><li><span><a href=\"#Исследование-проката-по-годам,-определение-доли-фильмов-с-указанной-суммой-сборов\" data-toc-modified-id=\"Исследование-проката-по-годам,-определение-доли-фильмов-с-указанной-суммой-сборов-5.1\"><span class=\"toc-item-num\">5.1&nbsp;&nbsp;</span>Исследование проката по годам, определение доли фильмов с указанной суммой сборов</a></span></li><li><span><a href=\"#Исследование-динамики-проката-по-годам\" data-toc-modified-id=\"Исследование-динамики-проката-по-годам-5.2\"><span class=\"toc-item-num\">5.2&nbsp;&nbsp;</span>Исследование динамики проката по годам</a></span></li><li><span><a href=\"#Вычисление-средней-и-медианной-суммы-сборов-для-каждого-года\" data-toc-modified-id=\"Вычисление-средней-и-медианной-суммы-сборов-для-каждого-года-5.3\"><span class=\"toc-item-num\">5.3&nbsp;&nbsp;</span>Вычисление средней и медианной суммы сборов для каждого года</a></span></li><li><span><a href=\"#Изучение-влияния-категорий-возрастного-ограничения-на-сборы-за-период-2015-2019-годов\" data-toc-modified-id=\"Изучение-влияния-категорий-возрастного-ограничения-на-сборы-за-период-2015-2019-годов-5.4\"><span class=\"toc-item-num\">5.4&nbsp;&nbsp;</span>Изучение влияния категорий возрастного ограничения на сборы за период 2015-2019 годов</a></span></li><li><span><a href=\"#Выводы-по-исследовательскому-анализу-данных\" data-toc-modified-id=\"Выводы-по-исследовательскому-анализу-данных-5.5\"><span class=\"toc-item-num\">5.5&nbsp;&nbsp;</span>Выводы по исследовательскому анализу данных</a></span></li></ul></li><li><span><a href=\"#Исследование-фильмов,-получивших-гос.поддержку\" data-toc-modified-id=\"Исследование-фильмов,-получивших-гос.поддержку-6\"><span class=\"toc-item-num\">6&nbsp;&nbsp;</span>Исследование фильмов, получивших гос.поддержку</a></span><ul class=\"toc-item\"><li><span><a href=\"#Выводы-по-исследованию-фильмов,-получивших-гос.поддержку\" data-toc-modified-id=\"Выводы-по-исследованию-фильмов,-получивших-гос.поддержку-6.1\"><span class=\"toc-item-num\">6.1&nbsp;&nbsp;</span>Выводы по исследованию фильмов, получивших гос.поддержку</a></span></li></ul></li><li><span><a href=\"#Итоговые-выводы-по-проекту\" data-toc-modified-id=\"Итоговые-выводы-по-проекту-7\"><span class=\"toc-item-num\">7&nbsp;&nbsp;</span>Итоговые выводы по проекту</a></span><ul class=\"toc-item\"><li><span><a href=\"#Обзор-данных\" data-toc-modified-id=\"Обзор-данных-7.1\"><span class=\"toc-item-num\">7.1&nbsp;&nbsp;</span>Обзор данных</a></span></li><li><span><a href=\"#Предобработка-данных\" data-toc-modified-id=\"Предобработка-данных-7.2\"><span class=\"toc-item-num\">7.2&nbsp;&nbsp;</span>Предобработка данных</a></span></li><li><span><a href=\"#Исследовательский-анализ-данных\" data-toc-modified-id=\"Исследовательский-анализ-данных-7.3\"><span class=\"toc-item-num\">7.3&nbsp;&nbsp;</span>Исследовательский анализ данных</a></span></li><li><span><a href=\"#Исследование-фильмов,-получивших-гос.поддержку\" data-toc-modified-id=\"Исследование-фильмов,-получивших-гос.поддержку-7.4\"><span class=\"toc-item-num\">7.4&nbsp;&nbsp;</span>Исследование фильмов, получивших гос.поддержку</a></span></li></ul></li></ul></div>"
   ]
  },
  {
   "cell_type": "markdown",
   "metadata": {
    "id": "AjsbPoldOp8e"
   },
   "source": [
    "# Исследование рынка российского кинопроката"
   ]
  },
  {
   "cell_type": "markdown",
   "metadata": {
    "id": "na3NgobFTJ4l"
   },
   "source": [
    "## Описание проекта"
   ]
  },
  {
   "cell_type": "markdown",
   "metadata": {
    "id": "Uw_xel_0OVRv"
   },
   "source": [
    "Заказчик этого исследования — Министерство культуры Российской Федерации.\n",
    "Нам нужно изучить рынок российского кинопроката и выявить текущие тренды. Необходимо уделить внимание фильмам, которые получили государственную поддержку. Попробуем ответить на вопрос, насколько такие фильмы интересны зрителю.\n",
    "Мы будем работать с данными, опубликованными на портале открытых данных Министерства культуры. Набор данных содержит информацию о прокатных удостоверениях, сборах и государственной поддержке фильмов, а также информацию с сайта КиноПоиск.\n",
    "\n",
    "Цели и задачи:\n",
    "1. Исследование проката фильмов по годам, определение доли фильмов с указанной суммой сборов в прокате.\n",
    "2. Исследование динамики проката по годам.\n",
    "3. Вычисление средней и медианной суммы сборов для каждого года.\n",
    "4. Изучение влияния категорий возрастного ограничения на сборы за период 2015-2019 гг.\n",
    "5. Исследование фильмов, получивших гос.поддержку. Определение того, какое влияние оказывает гос.поддержка на рейтинг фильма, его сборы. Изучение выделяемых на гос.поддержку средств по годам."
   ]
  },
  {
   "cell_type": "markdown",
   "metadata": {
    "id": "8aK78YZNblbu"
   },
   "source": [
    "## План работ"
   ]
  },
  {
   "cell_type": "markdown",
   "metadata": {
    "id": "YZ5eNklgbpUE"
   },
   "source": [
    "1. Обзор данных.\n",
    "2. Предобработка данных.\n",
    "3. Исследовательский анализ данных.\n",
    "4. Исследование фильмов, получивших гос.поддержку.\n",
    "5. Итоговые выводы по проекту.\n"
   ]
  },
  {
   "cell_type": "markdown",
   "metadata": {
    "id": "X0uVCw6gP4Sm"
   },
   "source": [
    "## Обзор данных"
   ]
  },
  {
   "cell_type": "code",
   "execution_count": 1,
   "metadata": {
    "id": "aRnw29f2N0yW"
   },
   "outputs": [],
   "source": [
    "# Как всегда начнём с импорта Pandas\n",
    "import pandas as pd\n",
    "\n",
    "# Импортируем модуль для работы с регулярными выражениями, он нам пригодится\n",
    "import re\n",
    "\n",
    "# Pyplot понадобится для работы с диаграммами\n",
    "import matplotlib.pyplot as plt"
   ]
  },
  {
   "cell_type": "code",
   "execution_count": 2,
   "metadata": {
    "id": "OEFRSx8krM8Y"
   },
   "outputs": [],
   "source": [
    "# Выключим предупреждения о цепном присваивании\n",
    "pd.options.mode.chained_assignment = None"
   ]
  },
  {
   "cell_type": "markdown",
   "metadata": {
    "id": "9fRNwFs6UwnB"
   },
   "source": [
    "Данные по проекту представлены в двух csv-файлах:\n",
    "\n",
    "\n",
    "1.   `mkrf_movies.csv` — данные о прокатных удостоверениях.\n",
    "2.   `mkrf_shows.csv` — данные о прокате в российских кинотеатрах.\n",
    "\n",
    "Нам необходимо будет объединить данные из этих файлов таким образом, чтобы все объекты из датасета `mkrf_movies` обязательно вошли в получившийся датафрейм.\n"
   ]
  },
  {
   "cell_type": "markdown",
   "metadata": {
    "id": "VRms8ztpNZE8"
   },
   "source": [
    "### Обзор mkrf_movies"
   ]
  },
  {
   "cell_type": "code",
   "execution_count": 3,
   "metadata": {
    "colab": {
     "base_uri": "https://localhost:8080/",
     "height": 756
    },
    "id": "RIfS5OM_Mc7u",
    "outputId": "54a7f6a0-91a0-48ac-a883-4a0fba550ad5"
   },
   "outputs": [
    {
     "data": {
      "text/html": [
       "<div>\n",
       "<style scoped>\n",
       "    .dataframe tbody tr th:only-of-type {\n",
       "        vertical-align: middle;\n",
       "    }\n",
       "\n",
       "    .dataframe tbody tr th {\n",
       "        vertical-align: top;\n",
       "    }\n",
       "\n",
       "    .dataframe thead th {\n",
       "        text-align: right;\n",
       "    }\n",
       "</style>\n",
       "<table border=\"1\" class=\"dataframe\">\n",
       "  <thead>\n",
       "    <tr style=\"text-align: right;\">\n",
       "      <th></th>\n",
       "      <th>title</th>\n",
       "      <th>puNumber</th>\n",
       "      <th>show_start_date</th>\n",
       "      <th>type</th>\n",
       "      <th>film_studio</th>\n",
       "      <th>production_country</th>\n",
       "      <th>director</th>\n",
       "      <th>producer</th>\n",
       "      <th>age_restriction</th>\n",
       "      <th>refundable_support</th>\n",
       "      <th>nonrefundable_support</th>\n",
       "      <th>budget</th>\n",
       "      <th>financing_source</th>\n",
       "      <th>ratings</th>\n",
       "      <th>genres</th>\n",
       "    </tr>\n",
       "  </thead>\n",
       "  <tbody>\n",
       "    <tr>\n",
       "      <th>0</th>\n",
       "      <td>Открытый простор</td>\n",
       "      <td>221048915</td>\n",
       "      <td>2015-11-27T12:00:00.000Z</td>\n",
       "      <td>Художественный</td>\n",
       "      <td>Тачстоун Пикчерз, Кобальт Пикчерз, Бикон Пикче...</td>\n",
       "      <td>США</td>\n",
       "      <td>Кевин Костнер</td>\n",
       "      <td>Дэвид Валдес, Кевин Костнер, Джейк Эбертс</td>\n",
       "      <td>«18+» - запрещено для детей</td>\n",
       "      <td>NaN</td>\n",
       "      <td>NaN</td>\n",
       "      <td>NaN</td>\n",
       "      <td>NaN</td>\n",
       "      <td>7.2</td>\n",
       "      <td>боевик,драма,мелодрама</td>\n",
       "    </tr>\n",
       "    <tr>\n",
       "      <th>1</th>\n",
       "      <td>Особо важное задание</td>\n",
       "      <td>111013716</td>\n",
       "      <td>2016-09-13T12:00:00.000Z</td>\n",
       "      <td>Художественный</td>\n",
       "      <td>Киностудия \"Мосфильм\"</td>\n",
       "      <td>СССР</td>\n",
       "      <td>Е.Матвеев</td>\n",
       "      <td>NaN</td>\n",
       "      <td>«6+» - для детей старше 6 лет</td>\n",
       "      <td>NaN</td>\n",
       "      <td>NaN</td>\n",
       "      <td>NaN</td>\n",
       "      <td>NaN</td>\n",
       "      <td>6.6</td>\n",
       "      <td>драма,военный</td>\n",
       "    </tr>\n",
       "    <tr>\n",
       "      <th>2</th>\n",
       "      <td>Особо опасен</td>\n",
       "      <td>221038416</td>\n",
       "      <td>2016-10-10T12:00:00.000Z</td>\n",
       "      <td>Художественный</td>\n",
       "      <td>Юниверсал Пикчерз, Кикстарт Продакшнз, Марк Пл...</td>\n",
       "      <td>США</td>\n",
       "      <td>Тимур Бекмамбетов</td>\n",
       "      <td>Джим Лемли, Джейсон Нетер, Марк Е.Платт, Яйн Смит</td>\n",
       "      <td>«18+» - запрещено для детей</td>\n",
       "      <td>NaN</td>\n",
       "      <td>NaN</td>\n",
       "      <td>NaN</td>\n",
       "      <td>NaN</td>\n",
       "      <td>6.8</td>\n",
       "      <td>фантастика,боевик,триллер</td>\n",
       "    </tr>\n",
       "    <tr>\n",
       "      <th>3</th>\n",
       "      <td>Особо опасен</td>\n",
       "      <td>221026916</td>\n",
       "      <td>2016-06-10T12:00:00.000Z</td>\n",
       "      <td>Художественный</td>\n",
       "      <td>Юниверсал Пикчерз, Кикстарт Продакшнз, Марк Пл...</td>\n",
       "      <td>США</td>\n",
       "      <td>Тимур Бекмамбетов</td>\n",
       "      <td>Джим Лемли, Джейсон Нетер, Марк Е.Платт, Яйн Смит</td>\n",
       "      <td>«18+» - запрещено для детей</td>\n",
       "      <td>NaN</td>\n",
       "      <td>NaN</td>\n",
       "      <td>NaN</td>\n",
       "      <td>NaN</td>\n",
       "      <td>6.8</td>\n",
       "      <td>фантастика,боевик,триллер</td>\n",
       "    </tr>\n",
       "    <tr>\n",
       "      <th>4</th>\n",
       "      <td>Особо опасен</td>\n",
       "      <td>221030815</td>\n",
       "      <td>2015-07-29T12:00:00.000Z</td>\n",
       "      <td>Художественный</td>\n",
       "      <td>Юниверсал Пикчерз, Кикстарт Продакшнз, Марк Пл...</td>\n",
       "      <td>США</td>\n",
       "      <td>Тимур Бекмамбетов</td>\n",
       "      <td>Джим Лемли, Джейсон Нетер, Марк Е.Платт, Яйн Смит</td>\n",
       "      <td>«18+» - запрещено для детей</td>\n",
       "      <td>NaN</td>\n",
       "      <td>NaN</td>\n",
       "      <td>NaN</td>\n",
       "      <td>NaN</td>\n",
       "      <td>6.8</td>\n",
       "      <td>фантастика,боевик,триллер</td>\n",
       "    </tr>\n",
       "  </tbody>\n",
       "</table>\n",
       "</div>"
      ],
      "text/plain": [
       "                  title   puNumber           show_start_date            type  \\\n",
       "0      Открытый простор  221048915  2015-11-27T12:00:00.000Z  Художественный   \n",
       "1  Особо важное задание  111013716  2016-09-13T12:00:00.000Z  Художественный   \n",
       "2          Особо опасен  221038416  2016-10-10T12:00:00.000Z  Художественный   \n",
       "3          Особо опасен  221026916  2016-06-10T12:00:00.000Z  Художественный   \n",
       "4          Особо опасен  221030815  2015-07-29T12:00:00.000Z  Художественный   \n",
       "\n",
       "                                         film_studio production_country  \\\n",
       "0  Тачстоун Пикчерз, Кобальт Пикчерз, Бикон Пикче...                США   \n",
       "1                              Киностудия \"Мосфильм\"               СССР   \n",
       "2  Юниверсал Пикчерз, Кикстарт Продакшнз, Марк Пл...                США   \n",
       "3  Юниверсал Пикчерз, Кикстарт Продакшнз, Марк Пл...                США   \n",
       "4  Юниверсал Пикчерз, Кикстарт Продакшнз, Марк Пл...                США   \n",
       "\n",
       "            director                                           producer  \\\n",
       "0      Кевин Костнер          Дэвид Валдес, Кевин Костнер, Джейк Эбертс   \n",
       "1          Е.Матвеев                                                NaN   \n",
       "2  Тимур Бекмамбетов  Джим Лемли, Джейсон Нетер, Марк Е.Платт, Яйн Смит   \n",
       "3  Тимур Бекмамбетов  Джим Лемли, Джейсон Нетер, Марк Е.Платт, Яйн Смит   \n",
       "4  Тимур Бекмамбетов  Джим Лемли, Джейсон Нетер, Марк Е.Платт, Яйн Смит   \n",
       "\n",
       "                 age_restriction  refundable_support  nonrefundable_support  \\\n",
       "0    «18+» - запрещено для детей                 NaN                    NaN   \n",
       "1  «6+» - для детей старше 6 лет                 NaN                    NaN   \n",
       "2    «18+» - запрещено для детей                 NaN                    NaN   \n",
       "3    «18+» - запрещено для детей                 NaN                    NaN   \n",
       "4    «18+» - запрещено для детей                 NaN                    NaN   \n",
       "\n",
       "   budget financing_source ratings                     genres  \n",
       "0     NaN              NaN     7.2     боевик,драма,мелодрама  \n",
       "1     NaN              NaN     6.6              драма,военный  \n",
       "2     NaN              NaN     6.8  фантастика,боевик,триллер  \n",
       "3     NaN              NaN     6.8  фантастика,боевик,триллер  \n",
       "4     NaN              NaN     6.8  фантастика,боевик,триллер  "
      ]
     },
     "execution_count": 3,
     "metadata": {},
     "output_type": "execute_result"
    }
   ],
   "source": [
    "# Взглянем на датасет mkrf_movies\n",
    "try:\n",
    "    df_movies = pd.read_csv('/content/drive/MyDrive/Colab Notebooks/Praktikum/mkrf_movies.csv')\n",
    "except:\n",
    "    df_movies = pd.read_csv('/datasets/mkrf_movies.csv')\n",
    "\n",
    "df_movies.head(5)"
   ]
  },
  {
   "cell_type": "markdown",
   "metadata": {
    "id": "hnAxs0AfMc7v"
   },
   "source": [
    "Данные обработались корректно, перейдём к описанию колонок.\n",
    "Датасет `df_movies` содержит информацию из реестра прокатных удостоверений. У одного фильма может быть несколько прокатных удостоверений.\n",
    "* `title` — название фильма;\n",
    "* `puNumber` — номер прокатного удостоверения;\n",
    "* `show_start_date` — дата премьеры фильма;\n",
    "* `type` — тип фильма;\n",
    "* `film_studio` — студия-производитель;\n",
    "* `production_country` — страна-производитель;\n",
    "* `director` — режиссёр;\n",
    "* `producer` — продюсер;\n",
    "* `age_restriction` — возрастная категория;\n",
    "* `refundable_support` — объём возвратных средств государственной поддержки;\n",
    "* `nonrefundable_support` — объём невозвратных средств государственной поддержки;\n",
    "* `financing_source` — источник государственного финансирования;\n",
    "* `budget` — общий бюджет фильма;\n",
    "* `ratings` — рейтинг фильма на КиноПоиске;\n",
    "* `genres` — жанр фильма.\n",
    "\n",
    "Важное примечание: столбец `budget` уже включает в себя полный объём государственной поддержки. Данные в этом столбце указаны только для тех фильмов, которые получили государственную поддержку."
   ]
  },
  {
   "cell_type": "code",
   "execution_count": 5,
   "metadata": {
    "colab": {
     "base_uri": "https://localhost:8080/"
    },
    "id": "x6NFMOd8Mc7v",
    "outputId": "036befdc-5fbe-4289-ef3e-cf98117bbcdc"
   },
   "outputs": [
    {
     "name": "stdout",
     "output_type": "stream",
     "text": [
      "<class 'pandas.core.frame.DataFrame'>\n",
      "RangeIndex: 7486 entries, 0 to 7485\n",
      "Data columns (total 15 columns):\n",
      " #   Column                 Non-Null Count  Dtype  \n",
      "---  ------                 --------------  -----  \n",
      " 0   title                  7486 non-null   object \n",
      " 1   puNumber               7486 non-null   object \n",
      " 2   show_start_date        7486 non-null   object \n",
      " 3   type                   7486 non-null   object \n",
      " 4   film_studio            7468 non-null   object \n",
      " 5   production_country     7484 non-null   object \n",
      " 6   director               7477 non-null   object \n",
      " 7   producer               6918 non-null   object \n",
      " 8   age_restriction        7486 non-null   object \n",
      " 9   refundable_support     332 non-null    float64\n",
      " 10  nonrefundable_support  332 non-null    float64\n",
      " 11  budget                 332 non-null    float64\n",
      " 12  financing_source       332 non-null    object \n",
      " 13  ratings                6519 non-null   object \n",
      " 14  genres                 6510 non-null   object \n",
      "dtypes: float64(3), object(12)\n",
      "memory usage: 877.4+ KB\n"
     ]
    }
   ],
   "source": [
    "# Взглянем на информацию по датасету df_movies\n",
    "df_movies.info()"
   ]
  },
  {
   "cell_type": "markdown",
   "metadata": {
    "id": "VZkzBZoIMc7w"
   },
   "source": [
    "Длина датасета составляет 7486 строк. Ширина - 15 колонок. 12 колонок используют строковый тип данный и 3 колонки используют числовой тип данных (вещественные числа). Судя по описанию колонки `budget` в датасете только 332 строки, где присутствовала господдержка."
   ]
  },
  {
   "cell_type": "markdown",
   "metadata": {
    "id": "UoLCe6qRLnAD"
   },
   "source": [
    "### Обзор mkrf_shows"
   ]
  },
  {
   "cell_type": "code",
   "execution_count": 6,
   "metadata": {
    "colab": {
     "base_uri": "https://localhost:8080/",
     "height": 206
    },
    "id": "pP_0YUDXPMDY",
    "outputId": "cbbb9449-1e2c-40f9-f46a-21d68625a74e"
   },
   "outputs": [
    {
     "data": {
      "text/html": [
       "<div>\n",
       "<style scoped>\n",
       "    .dataframe tbody tr th:only-of-type {\n",
       "        vertical-align: middle;\n",
       "    }\n",
       "\n",
       "    .dataframe tbody tr th {\n",
       "        vertical-align: top;\n",
       "    }\n",
       "\n",
       "    .dataframe thead th {\n",
       "        text-align: right;\n",
       "    }\n",
       "</style>\n",
       "<table border=\"1\" class=\"dataframe\">\n",
       "  <thead>\n",
       "    <tr style=\"text-align: right;\">\n",
       "      <th></th>\n",
       "      <th>puNumber</th>\n",
       "      <th>box_office</th>\n",
       "    </tr>\n",
       "  </thead>\n",
       "  <tbody>\n",
       "    <tr>\n",
       "      <th>0</th>\n",
       "      <td>111000113</td>\n",
       "      <td>2.450000e+03</td>\n",
       "    </tr>\n",
       "    <tr>\n",
       "      <th>1</th>\n",
       "      <td>111000115</td>\n",
       "      <td>6.104000e+04</td>\n",
       "    </tr>\n",
       "    <tr>\n",
       "      <th>2</th>\n",
       "      <td>111000116</td>\n",
       "      <td>1.530300e+08</td>\n",
       "    </tr>\n",
       "    <tr>\n",
       "      <th>3</th>\n",
       "      <td>111000117</td>\n",
       "      <td>1.226096e+07</td>\n",
       "    </tr>\n",
       "    <tr>\n",
       "      <th>4</th>\n",
       "      <td>111000118</td>\n",
       "      <td>1.636841e+08</td>\n",
       "    </tr>\n",
       "  </tbody>\n",
       "</table>\n",
       "</div>"
      ],
      "text/plain": [
       "    puNumber    box_office\n",
       "0  111000113  2.450000e+03\n",
       "1  111000115  6.104000e+04\n",
       "2  111000116  1.530300e+08\n",
       "3  111000117  1.226096e+07\n",
       "4  111000118  1.636841e+08"
      ]
     },
     "execution_count": 6,
     "metadata": {},
     "output_type": "execute_result"
    }
   ],
   "source": [
    "# Взглянем на датасет mkrf_shows\n",
    "try:\n",
    "    df_shows = pd.read_csv('/content/drive/MyDrive/Colab Notebooks/Praktikum/mkrf_shows.csv')\n",
    "except:\n",
    "    df_shows = pd.read_csv('/datasets/mkrf_shows.csv')\n",
    "\n",
    "df_shows.head(5)"
   ]
  },
  {
   "cell_type": "markdown",
   "metadata": {
    "id": "6MdmfM74QpSq"
   },
   "source": [
    "Датасет `df_shows` содержит сведения о показах фильмов в российских кинотеатрах.\n",
    "* `puNumber` — номер прокатного удостоверения;\n",
    "* `box_office` — сборы в рублях."
   ]
  },
  {
   "cell_type": "code",
   "execution_count": 8,
   "metadata": {
    "colab": {
     "base_uri": "https://localhost:8080/"
    },
    "id": "nRMAZYg7RWjv",
    "outputId": "8abd7347-60d1-4895-f389-fb4e437a986b"
   },
   "outputs": [
    {
     "name": "stdout",
     "output_type": "stream",
     "text": [
      "<class 'pandas.core.frame.DataFrame'>\n",
      "RangeIndex: 3158 entries, 0 to 3157\n",
      "Data columns (total 2 columns):\n",
      " #   Column      Non-Null Count  Dtype  \n",
      "---  ------      --------------  -----  \n",
      " 0   puNumber    3158 non-null   int64  \n",
      " 1   box_office  3158 non-null   float64\n",
      "dtypes: float64(1), int64(1)\n",
      "memory usage: 49.5 KB\n"
     ]
    }
   ],
   "source": [
    "# Взглянем на информацию по датасету df_shows\n",
    "df_shows.info()"
   ]
  },
  {
   "cell_type": "markdown",
   "metadata": {
    "id": "v8vYR78XSZvg"
   },
   "source": [
    "Длина датасета составляет 3158 строк. Ширина - 2 колонки. В одной колонке используются вещественные числа, в другой - целые. "
   ]
  },
  {
   "cell_type": "markdown",
   "metadata": {
    "id": "pv85yabmXOCo"
   },
   "source": [
    "### Обзор общего столбца"
   ]
  },
  {
   "cell_type": "markdown",
   "metadata": {
    "id": "P__7am3_WJdo"
   },
   "source": [
    "Нам необходимо объеденить датасеты. Каждый датасет содержит общий столбец `puNumber`. Для корректного объединения необходимо, чтобы записи в столбце не содержали дубликатов. Предположим, что столбец `puNumber` содержит уникальные записи. Проверим это."
   ]
  },
  {
   "cell_type": "code",
   "execution_count": 9,
   "metadata": {
    "colab": {
     "base_uri": "https://localhost:8080/"
    },
    "id": "r-UM5H_7UQHP",
    "outputId": "3a67c2df-ec16-449d-9d70-11173b24d5cb"
   },
   "outputs": [
    {
     "data": {
      "text/plain": [
       "2"
      ]
     },
     "execution_count": 9,
     "metadata": {},
     "output_type": "execute_result"
    }
   ],
   "source": [
    "# Количество дубликатов в столбце puNumber датасета df_movies\n",
    "df_movies.puNumber.duplicated().sum()"
   ]
  },
  {
   "cell_type": "code",
   "execution_count": 10,
   "metadata": {
    "colab": {
     "base_uri": "https://localhost:8080/"
    },
    "id": "ESKoE1MRXtpK",
    "outputId": "3a6e182f-e0d9-44de-afd2-a4e5d78fadc7"
   },
   "outputs": [
    {
     "data": {
      "text/plain": [
       "0"
      ]
     },
     "execution_count": 10,
     "metadata": {},
     "output_type": "execute_result"
    }
   ],
   "source": [
    "# Количество дубликатов в столбце puNumber датасета df_shows\n",
    "df_shows.puNumber.duplicated().sum()"
   ]
  },
  {
   "cell_type": "markdown",
   "metadata": {
    "id": "RumjMaSrhuNd"
   },
   "source": [
    "Предположение оказалось почти верным - дубликаты есть только в датасете `df_movies` и их всего два."
   ]
  },
  {
   "cell_type": "markdown",
   "metadata": {
    "id": "Qnf68_Y7QzBD"
   },
   "source": [
    "### Выводы по обзору данных"
   ]
  },
  {
   "cell_type": "markdown",
   "metadata": {
    "id": "vUXw14ieS6HF"
   },
   "source": [
    "Длина датасета `df_movies` составляет 7486 строк. Ширина - 15 колонок. 12 колонок используют строковый тип данный и 3 колонки используют числовой тип данных (вещественные числа). Судя по описанию колонки `budget` в датасете только 332 строки, где присутствовала господдержка.\n",
    "\n",
    "Длина датасета `df_shows` составляет 3158 строк. Ширина - 2 колонки. В одной колонке используются вещественные числа, в другой - целые.\n",
    "\n",
    "Общий столбец для объединения датасетов - `puNumber`."
   ]
  },
  {
   "cell_type": "markdown",
   "metadata": {
    "id": "zWU1dr3YTima"
   },
   "source": [
    "## Предобработка данных"
   ]
  },
  {
   "cell_type": "markdown",
   "metadata": {
    "id": "wnWsZhYi9wDh"
   },
   "source": [
    "В данном обширном разделе мы займёмся предобработкой данных."
   ]
  },
  {
   "cell_type": "markdown",
   "metadata": {
    "id": "uX9uUcKmTlw8"
   },
   "source": [
    "### Переименование столбцов"
   ]
  },
  {
   "cell_type": "code",
   "execution_count": 11,
   "metadata": {
    "colab": {
     "base_uri": "https://localhost:8080/",
     "height": 295
    },
    "id": "xEuxqMbOWtPd",
    "outputId": "ccd58230-b662-4825-9249-c42e4a1349f3"
   },
   "outputs": [
    {
     "data": {
      "text/html": [
       "<div>\n",
       "<style scoped>\n",
       "    .dataframe tbody tr th:only-of-type {\n",
       "        vertical-align: middle;\n",
       "    }\n",
       "\n",
       "    .dataframe tbody tr th {\n",
       "        vertical-align: top;\n",
       "    }\n",
       "\n",
       "    .dataframe thead th {\n",
       "        text-align: right;\n",
       "    }\n",
       "</style>\n",
       "<table border=\"1\" class=\"dataframe\">\n",
       "  <thead>\n",
       "    <tr style=\"text-align: right;\">\n",
       "      <th></th>\n",
       "      <th>title</th>\n",
       "      <th>pu_number</th>\n",
       "      <th>show_start_date</th>\n",
       "      <th>type</th>\n",
       "      <th>film_studio</th>\n",
       "      <th>production_country</th>\n",
       "      <th>director</th>\n",
       "      <th>producer</th>\n",
       "      <th>age_restriction</th>\n",
       "      <th>refundable_support</th>\n",
       "      <th>nonrefundable_support</th>\n",
       "      <th>budget</th>\n",
       "      <th>financing_source</th>\n",
       "      <th>ratings</th>\n",
       "      <th>genres</th>\n",
       "    </tr>\n",
       "  </thead>\n",
       "  <tbody>\n",
       "    <tr>\n",
       "      <th>0</th>\n",
       "      <td>Открытый простор</td>\n",
       "      <td>221048915</td>\n",
       "      <td>2015-11-27T12:00:00.000Z</td>\n",
       "      <td>Художественный</td>\n",
       "      <td>Тачстоун Пикчерз, Кобальт Пикчерз, Бикон Пикче...</td>\n",
       "      <td>США</td>\n",
       "      <td>Кевин Костнер</td>\n",
       "      <td>Дэвид Валдес, Кевин Костнер, Джейк Эбертс</td>\n",
       "      <td>«18+» - запрещено для детей</td>\n",
       "      <td>NaN</td>\n",
       "      <td>NaN</td>\n",
       "      <td>NaN</td>\n",
       "      <td>NaN</td>\n",
       "      <td>7.2</td>\n",
       "      <td>боевик,драма,мелодрама</td>\n",
       "    </tr>\n",
       "  </tbody>\n",
       "</table>\n",
       "</div>"
      ],
      "text/plain": [
       "              title  pu_number           show_start_date            type  \\\n",
       "0  Открытый простор  221048915  2015-11-27T12:00:00.000Z  Художественный   \n",
       "\n",
       "                                         film_studio production_country  \\\n",
       "0  Тачстоун Пикчерз, Кобальт Пикчерз, Бикон Пикче...                США   \n",
       "\n",
       "        director                                   producer  \\\n",
       "0  Кевин Костнер  Дэвид Валдес, Кевин Костнер, Джейк Эбертс   \n",
       "\n",
       "               age_restriction  refundable_support  nonrefundable_support  \\\n",
       "0  «18+» - запрещено для детей                 NaN                    NaN   \n",
       "\n",
       "   budget financing_source ratings                  genres  \n",
       "0     NaN              NaN     7.2  боевик,драма,мелодрама  "
      ]
     },
     "metadata": {},
     "output_type": "display_data"
    },
    {
     "data": {
      "text/html": [
       "<div>\n",
       "<style scoped>\n",
       "    .dataframe tbody tr th:only-of-type {\n",
       "        vertical-align: middle;\n",
       "    }\n",
       "\n",
       "    .dataframe tbody tr th {\n",
       "        vertical-align: top;\n",
       "    }\n",
       "\n",
       "    .dataframe thead th {\n",
       "        text-align: right;\n",
       "    }\n",
       "</style>\n",
       "<table border=\"1\" class=\"dataframe\">\n",
       "  <thead>\n",
       "    <tr style=\"text-align: right;\">\n",
       "      <th></th>\n",
       "      <th>pu_number</th>\n",
       "      <th>box_office</th>\n",
       "    </tr>\n",
       "  </thead>\n",
       "  <tbody>\n",
       "    <tr>\n",
       "      <th>0</th>\n",
       "      <td>111000113</td>\n",
       "      <td>2450.0</td>\n",
       "    </tr>\n",
       "  </tbody>\n",
       "</table>\n",
       "</div>"
      ],
      "text/plain": [
       "   pu_number  box_office\n",
       "0  111000113      2450.0"
      ]
     },
     "execution_count": 11,
     "metadata": {},
     "output_type": "execute_result"
    }
   ],
   "source": [
    "# Приведем название столбца puNumber в обоих датасетах к единому виду с другими столбцами и проверим результат\n",
    "df_movies = df_movies.rename(columns={'puNumber': 'pu_number'})\n",
    "df_shows = df_shows.rename(columns={'puNumber': 'pu_number'})\n",
    "display(df_movies.head(1))\n",
    "df_shows.head(1)"
   ]
  },
  {
   "cell_type": "markdown",
   "metadata": {
    "id": "U5QGQegMTpLm"
   },
   "source": [
    "### Обработка пропусков"
   ]
  },
  {
   "cell_type": "markdown",
   "metadata": {
    "id": "0TV4OiiC9m_8"
   },
   "source": [
    "Обработаем пропуски в данных в наших датасетах."
   ]
  },
  {
   "cell_type": "markdown",
   "metadata": {
    "id": "a7aac4F2iG8W"
   },
   "source": [
    "#### Датасет df_movies"
   ]
  },
  {
   "cell_type": "code",
   "execution_count": 12,
   "metadata": {
    "colab": {
     "base_uri": "https://localhost:8080/"
    },
    "id": "DO9AVHQPiUfO",
    "outputId": "36f2e28b-4b34-406f-cbf5-05cd137e49f4"
   },
   "outputs": [
    {
     "data": {
      "text/plain": [
       "title                       0\n",
       "pu_number                   0\n",
       "show_start_date             0\n",
       "type                        0\n",
       "film_studio                18\n",
       "production_country          2\n",
       "director                    9\n",
       "producer                  568\n",
       "age_restriction             0\n",
       "refundable_support       7154\n",
       "nonrefundable_support    7154\n",
       "budget                   7154\n",
       "financing_source         7154\n",
       "ratings                   967\n",
       "genres                    976\n",
       "dtype: int64"
      ]
     },
     "execution_count": 12,
     "metadata": {},
     "output_type": "execute_result"
    }
   ],
   "source": [
    "# Взглянем на количество пропущенных значений в df_movies\n",
    "df_movies.isna().sum()"
   ]
  },
  {
   "cell_type": "markdown",
   "metadata": {
    "id": "Rnqjntcajcn_"
   },
   "source": [
    "Пропуски у нас делятся, условно, на две категории:\n",
    "1. Случайные или неслучайные пропуски.\n",
    "2. Отсутствие финансирования со стороны Министерства Культуры РФ.\n",
    "\n",
    "К первой категории отнесём пропуски в столбцах `film_studio`, `production_country`, `director`, `producer`, `ratings`, `genres`. Строки с данными пропусками мы удалим. Их не очень много, можно ими пожертвовать для упрощения дальнейшего исследования.\n",
    "\n",
    "Ко второй категории относятся пропуски в столбцах `refundable_support`, `nonrefundable_support`, `budget`, `financing_source`. Пропуски в данных столбцах означают что финансирования данных фильмов со стороны МинКульта РФ не было. Удалять такие пропуски мы не будем. Заполним пропуски в колонке `financing_source` заглушкой \"Отсутствует\". В разделе про изучение количественных данных взглянем остальные столбцы поподробнее и, возможно, определимся, стоит ли их заполнять."
   ]
  },
  {
   "cell_type": "code",
   "execution_count": 13,
   "metadata": {
    "colab": {
     "base_uri": "https://localhost:8080/"
    },
    "id": "DX3XDLO2leVL",
    "outputId": "743908d4-583b-437a-f789-33caab0fe5d9",
    "scrolled": true
   },
   "outputs": [
    {
     "data": {
      "text/plain": [
       "title                       0\n",
       "pu_number                   0\n",
       "show_start_date             0\n",
       "type                        0\n",
       "film_studio                 0\n",
       "production_country          0\n",
       "director                    0\n",
       "producer                    0\n",
       "age_restriction             0\n",
       "refundable_support       5711\n",
       "nonrefundable_support    5711\n",
       "budget                   5711\n",
       "financing_source            0\n",
       "ratings                     0\n",
       "genres                      0\n",
       "dtype: int64"
      ]
     },
     "execution_count": 13,
     "metadata": {},
     "output_type": "execute_result"
    }
   ],
   "source": [
    "# Заполним в столбце financing_source пропуски заглушкой\n",
    "# и выведем количество пропусков ещё раз\n",
    "df_movies = df_movies.dropna(subset=['film_studio', 'production_country', 'director', 'producer', 'ratings', 'genres'])\n",
    "df_movies.financing_source = df_movies.financing_source.fillna('Отсутствует')\n",
    "df_movies.isna().sum()"
   ]
  },
  {
   "cell_type": "code",
   "execution_count": 14,
   "metadata": {
    "colab": {
     "base_uri": "https://localhost:8080/",
     "height": 35
    },
    "id": "fZUSAcL8l4D-",
    "outputId": "dfb85781-b328-492f-a0a8-8ca5e2e5800f"
   },
   "outputs": [
    {
     "data": {
      "text/plain": [
       "'Количество строк в датасете df_movies после удаления пропусков: 6025'"
      ]
     },
     "execution_count": 14,
     "metadata": {},
     "output_type": "execute_result"
    }
   ],
   "source": [
    "# Отобразим количество строк в датасете df_movies после удаления пропусков\n",
    "f'Количество строк в датасете df_movies после удаления пропусков: {df_movies.shape[0]}'"
   ]
  },
  {
   "cell_type": "markdown",
   "metadata": {
    "id": "ntShJdN1nGiP"
   },
   "source": [
    "#### Датасет df_shows"
   ]
  },
  {
   "cell_type": "code",
   "execution_count": 15,
   "metadata": {
    "colab": {
     "base_uri": "https://localhost:8080/"
    },
    "id": "lt6qv5iynRD3",
    "outputId": "38889279-e4e6-45ca-9732-c1faead80ac9"
   },
   "outputs": [
    {
     "data": {
      "text/plain": [
       "pu_number     0\n",
       "box_office    0\n",
       "dtype: int64"
      ]
     },
     "execution_count": 15,
     "metadata": {},
     "output_type": "execute_result"
    }
   ],
   "source": [
    "# Взглянем на количество пропущенных значений в df_movies\n",
    "df_shows.isna().sum()"
   ]
  },
  {
   "cell_type": "markdown",
   "metadata": {
    "id": "zF2ug7QonVoQ"
   },
   "source": [
    "В датасете `df_shows` пропуски отсутствуют."
   ]
  },
  {
   "cell_type": "markdown",
   "metadata": {
    "id": "WnTummjhncSb"
   },
   "source": [
    "#### Выводы по пропускам"
   ]
  },
  {
   "cell_type": "markdown",
   "metadata": {
    "id": "RBfE88_hK_KE"
   },
   "source": [
    "В датасете `df_movies` удалены пропуски в колонках, которые не относились к финансированию МинКультом РФ.\n",
    "\n",
    "В датасете `df_shows` пропуски отсутствуют."
   ]
  },
  {
   "cell_type": "markdown",
   "metadata": {
    "id": "pTNVvKsMheTl"
   },
   "source": [
    "### Изменение типов данных"
   ]
  },
  {
   "cell_type": "markdown",
   "metadata": {
    "id": "NWYgrUf-9g_9"
   },
   "source": [
    "Приведём несколько колонок к корректным типам данных."
   ]
  },
  {
   "cell_type": "code",
   "execution_count": 16,
   "metadata": {
    "colab": {
     "base_uri": "https://localhost:8080/",
     "height": 374
    },
    "id": "nJTIS5M-pthT",
    "outputId": "dd62b87a-42e3-48c2-edf4-2d3ce02b89e2"
   },
   "outputs": [
    {
     "data": {
      "text/plain": [
       "title                     object\n",
       "pu_number                 object\n",
       "show_start_date           object\n",
       "type                      object\n",
       "film_studio               object\n",
       "production_country        object\n",
       "director                  object\n",
       "producer                  object\n",
       "age_restriction           object\n",
       "refundable_support       float64\n",
       "nonrefundable_support    float64\n",
       "budget                   float64\n",
       "financing_source          object\n",
       "ratings                   object\n",
       "genres                    object\n",
       "dtype: object"
      ]
     },
     "metadata": {},
     "output_type": "display_data"
    },
    {
     "data": {
      "text/plain": [
       "'-------'"
      ]
     },
     "metadata": {},
     "output_type": "display_data"
    },
    {
     "data": {
      "text/plain": [
       "pu_number       int64\n",
       "box_office    float64\n",
       "dtype: object"
      ]
     },
     "execution_count": 16,
     "metadata": {},
     "output_type": "execute_result"
    }
   ],
   "source": [
    "# Выведем типы столбцов в датасетах\n",
    "display(df_movies.dtypes)\n",
    "display('-------')\n",
    "df_shows.dtypes"
   ]
  },
  {
   "cell_type": "code",
   "execution_count": 17,
   "metadata": {
    "colab": {
     "base_uri": "https://localhost:8080/",
     "height": 537
    },
    "id": "ob119S9Ytm7Q",
    "outputId": "f8b22651-76c9-4402-a47d-e896e7e4933f"
   },
   "outputs": [
    {
     "data": {
      "text/html": [
       "<div>\n",
       "<style scoped>\n",
       "    .dataframe tbody tr th:only-of-type {\n",
       "        vertical-align: middle;\n",
       "    }\n",
       "\n",
       "    .dataframe tbody tr th {\n",
       "        vertical-align: top;\n",
       "    }\n",
       "\n",
       "    .dataframe thead th {\n",
       "        text-align: right;\n",
       "    }\n",
       "</style>\n",
       "<table border=\"1\" class=\"dataframe\">\n",
       "  <thead>\n",
       "    <tr style=\"text-align: right;\">\n",
       "      <th></th>\n",
       "      <th>title</th>\n",
       "      <th>pu_number</th>\n",
       "      <th>show_start_date</th>\n",
       "      <th>type</th>\n",
       "      <th>film_studio</th>\n",
       "      <th>production_country</th>\n",
       "      <th>director</th>\n",
       "      <th>producer</th>\n",
       "      <th>age_restriction</th>\n",
       "      <th>refundable_support</th>\n",
       "      <th>nonrefundable_support</th>\n",
       "      <th>budget</th>\n",
       "      <th>financing_source</th>\n",
       "      <th>ratings</th>\n",
       "      <th>genres</th>\n",
       "    </tr>\n",
       "  </thead>\n",
       "  <tbody>\n",
       "    <tr>\n",
       "      <th>0</th>\n",
       "      <td>Открытый простор</td>\n",
       "      <td>221048915</td>\n",
       "      <td>2015-11-27T12:00:00.000Z</td>\n",
       "      <td>Художественный</td>\n",
       "      <td>Тачстоун Пикчерз, Кобальт Пикчерз, Бикон Пикче...</td>\n",
       "      <td>США</td>\n",
       "      <td>Кевин Костнер</td>\n",
       "      <td>Дэвид Валдес, Кевин Костнер, Джейк Эбертс</td>\n",
       "      <td>«18+» - запрещено для детей</td>\n",
       "      <td>NaN</td>\n",
       "      <td>NaN</td>\n",
       "      <td>NaN</td>\n",
       "      <td>Отсутствует</td>\n",
       "      <td>7.2</td>\n",
       "      <td>боевик,драма,мелодрама</td>\n",
       "    </tr>\n",
       "    <tr>\n",
       "      <th>2</th>\n",
       "      <td>Особо опасен</td>\n",
       "      <td>221038416</td>\n",
       "      <td>2016-10-10T12:00:00.000Z</td>\n",
       "      <td>Художественный</td>\n",
       "      <td>Юниверсал Пикчерз, Кикстарт Продакшнз, Марк Пл...</td>\n",
       "      <td>США</td>\n",
       "      <td>Тимур Бекмамбетов</td>\n",
       "      <td>Джим Лемли, Джейсон Нетер, Марк Е.Платт, Яйн Смит</td>\n",
       "      <td>«18+» - запрещено для детей</td>\n",
       "      <td>NaN</td>\n",
       "      <td>NaN</td>\n",
       "      <td>NaN</td>\n",
       "      <td>Отсутствует</td>\n",
       "      <td>6.8</td>\n",
       "      <td>фантастика,боевик,триллер</td>\n",
       "    </tr>\n",
       "    <tr>\n",
       "      <th>3</th>\n",
       "      <td>Особо опасен</td>\n",
       "      <td>221026916</td>\n",
       "      <td>2016-06-10T12:00:00.000Z</td>\n",
       "      <td>Художественный</td>\n",
       "      <td>Юниверсал Пикчерз, Кикстарт Продакшнз, Марк Пл...</td>\n",
       "      <td>США</td>\n",
       "      <td>Тимур Бекмамбетов</td>\n",
       "      <td>Джим Лемли, Джейсон Нетер, Марк Е.Платт, Яйн Смит</td>\n",
       "      <td>«18+» - запрещено для детей</td>\n",
       "      <td>NaN</td>\n",
       "      <td>NaN</td>\n",
       "      <td>NaN</td>\n",
       "      <td>Отсутствует</td>\n",
       "      <td>6.8</td>\n",
       "      <td>фантастика,боевик,триллер</td>\n",
       "    </tr>\n",
       "  </tbody>\n",
       "</table>\n",
       "</div>"
      ],
      "text/plain": [
       "              title  pu_number           show_start_date            type  \\\n",
       "0  Открытый простор  221048915  2015-11-27T12:00:00.000Z  Художественный   \n",
       "2      Особо опасен  221038416  2016-10-10T12:00:00.000Z  Художественный   \n",
       "3      Особо опасен  221026916  2016-06-10T12:00:00.000Z  Художественный   \n",
       "\n",
       "                                         film_studio production_country  \\\n",
       "0  Тачстоун Пикчерз, Кобальт Пикчерз, Бикон Пикче...                США   \n",
       "2  Юниверсал Пикчерз, Кикстарт Продакшнз, Марк Пл...                США   \n",
       "3  Юниверсал Пикчерз, Кикстарт Продакшнз, Марк Пл...                США   \n",
       "\n",
       "            director                                           producer  \\\n",
       "0      Кевин Костнер          Дэвид Валдес, Кевин Костнер, Джейк Эбертс   \n",
       "2  Тимур Бекмамбетов  Джим Лемли, Джейсон Нетер, Марк Е.Платт, Яйн Смит   \n",
       "3  Тимур Бекмамбетов  Джим Лемли, Джейсон Нетер, Марк Е.Платт, Яйн Смит   \n",
       "\n",
       "               age_restriction  refundable_support  nonrefundable_support  \\\n",
       "0  «18+» - запрещено для детей                 NaN                    NaN   \n",
       "2  «18+» - запрещено для детей                 NaN                    NaN   \n",
       "3  «18+» - запрещено для детей                 NaN                    NaN   \n",
       "\n",
       "   budget financing_source ratings                     genres  \n",
       "0     NaN      Отсутствует     7.2     боевик,драма,мелодрама  \n",
       "2     NaN      Отсутствует     6.8  фантастика,боевик,триллер  \n",
       "3     NaN      Отсутствует     6.8  фантастика,боевик,триллер  "
      ]
     },
     "execution_count": 17,
     "metadata": {},
     "output_type": "execute_result"
    }
   ],
   "source": [
    "# Выведем первые 3 строки датасета df_movies для того, чтобы понять, тип данных в каких столбцах стоит изменить\n",
    "df_movies.head(3)"
   ]
  },
  {
   "cell_type": "code",
   "execution_count": 18,
   "metadata": {
    "colab": {
     "base_uri": "https://localhost:8080/",
     "height": 143
    },
    "id": "kxCjr2TTN2j8",
    "outputId": "1797cd27-d93d-49bf-cf69-93cf7b9c0407"
   },
   "outputs": [
    {
     "data": {
      "text/html": [
       "<div>\n",
       "<style scoped>\n",
       "    .dataframe tbody tr th:only-of-type {\n",
       "        vertical-align: middle;\n",
       "    }\n",
       "\n",
       "    .dataframe tbody tr th {\n",
       "        vertical-align: top;\n",
       "    }\n",
       "\n",
       "    .dataframe thead th {\n",
       "        text-align: right;\n",
       "    }\n",
       "</style>\n",
       "<table border=\"1\" class=\"dataframe\">\n",
       "  <thead>\n",
       "    <tr style=\"text-align: right;\">\n",
       "      <th></th>\n",
       "      <th>pu_number</th>\n",
       "      <th>box_office</th>\n",
       "    </tr>\n",
       "  </thead>\n",
       "  <tbody>\n",
       "    <tr>\n",
       "      <th>0</th>\n",
       "      <td>111000113</td>\n",
       "      <td>2450.0</td>\n",
       "    </tr>\n",
       "    <tr>\n",
       "      <th>1</th>\n",
       "      <td>111000115</td>\n",
       "      <td>61040.0</td>\n",
       "    </tr>\n",
       "    <tr>\n",
       "      <th>2</th>\n",
       "      <td>111000116</td>\n",
       "      <td>153030013.4</td>\n",
       "    </tr>\n",
       "  </tbody>\n",
       "</table>\n",
       "</div>"
      ],
      "text/plain": [
       "   pu_number   box_office\n",
       "0  111000113       2450.0\n",
       "1  111000115      61040.0\n",
       "2  111000116  153030013.4"
      ]
     },
     "execution_count": 18,
     "metadata": {},
     "output_type": "execute_result"
    }
   ],
   "source": [
    "# Так же отобразим датасет df_shows\n",
    "df_shows.head(3)"
   ]
  },
  {
   "cell_type": "markdown",
   "metadata": {
    "id": "pwkVn4UMxnWY"
   },
   "source": [
    "#### Столбец pu_number"
   ]
  },
  {
   "cell_type": "markdown",
   "metadata": {
    "id": "SJnl_gQHqRPv"
   },
   "source": [
    "В первую очередь нужно привести значение столбца `pu_number` в датасете `df_movies` к целочисленному типу для последующего объединения датасетов."
   ]
  },
  {
   "cell_type": "code",
   "execution_count": 19,
   "metadata": {
    "colab": {
     "base_uri": "https://localhost:8080/"
    },
    "id": "PkQzTm9Lqjf5",
    "outputId": "e34e6e55-a762-46b7-8372-978335a974a6"
   },
   "outputs": [
    {
     "data": {
      "text/plain": [
       "dtype('int64')"
      ]
     },
     "execution_count": 19,
     "metadata": {},
     "output_type": "execute_result"
    }
   ],
   "source": [
    "# Изменим тип колонки pu_number в датасете df_movies и проверим результат\n",
    "df_movies.pu_number = df_movies.pu_number.astype('int64')\n",
    "df_movies.pu_number.dtypes"
   ]
  },
  {
   "cell_type": "markdown",
   "metadata": {
    "id": "uDqe1YQ0xspZ"
   },
   "source": [
    "#### Столбец show_start_date"
   ]
  },
  {
   "cell_type": "markdown",
   "metadata": {
    "id": "_ewM1wlLsMu4"
   },
   "source": [
    "Теперь приведём столбец `show_start_date` к корректному формату даты."
   ]
  },
  {
   "cell_type": "code",
   "execution_count": 20,
   "metadata": {
    "colab": {
     "base_uri": "https://localhost:8080/"
    },
    "id": "KVP5pJEgsx59",
    "outputId": "c2e227c5-2b0b-48ce-ea38-3a6aaac8c3ef"
   },
   "outputs": [
    {
     "data": {
      "text/plain": [
       "0    2015-11-27T12:00:00.000Z\n",
       "2    2016-10-10T12:00:00.000Z\n",
       "3    2016-06-10T12:00:00.000Z\n",
       "4    2015-07-29T12:00:00.000Z\n",
       "7    2014-12-29T12:00:00.000Z\n",
       "Name: show_start_date, dtype: object"
      ]
     },
     "execution_count": 20,
     "metadata": {},
     "output_type": "execute_result"
    }
   ],
   "source": [
    "# Для помощи в переводе в формат datetime, выведем несколько строк этого столбца\n",
    "df_movies.show_start_date.head()"
   ]
  },
  {
   "cell_type": "code",
   "execution_count": 21,
   "metadata": {
    "colab": {
     "base_uri": "https://localhost:8080/"
    },
    "id": "t34WYbpDsXbs",
    "outputId": "094f7f87-efb1-473f-b7c2-b81f3f52ddf9"
   },
   "outputs": [
    {
     "data": {
      "text/plain": [
       "0   2015-11-27 12:00:00+00:00\n",
       "2   2016-10-10 12:00:00+00:00\n",
       "3   2016-06-10 12:00:00+00:00\n",
       "4   2015-07-29 12:00:00+00:00\n",
       "7   2014-12-29 12:00:00+00:00\n",
       "Name: show_start_date, dtype: datetime64[ns, UTC]"
      ]
     },
     "execution_count": 21,
     "metadata": {},
     "output_type": "execute_result"
    }
   ],
   "source": [
    "# Изменим тип колонки show_start_date в датасете df_movies и проверим результат\n",
    "df_movies.show_start_date = pd.to_datetime(df_movies.show_start_date, format='%Y-%m-%dT%H:%M:%S')\n",
    "df_movies.show_start_date.head(5)"
   ]
  },
  {
   "cell_type": "markdown",
   "metadata": {
    "id": "FgGpZx72xywL"
   },
   "source": [
    "#### Столбец ratings"
   ]
  },
  {
   "cell_type": "markdown",
   "metadata": {
    "id": "eEZOu60HEr3V"
   },
   "source": [
    "Столбец `ratings` просто так не перевести в числа, т.к. он содержит значения со знаком процента: `%`. Думаю, что данные значения можно сконвертировать в чисто числовые. Но перед этим посмотрим на все уникальные значения в столбце."
   ]
  },
  {
   "cell_type": "code",
   "execution_count": 22,
   "metadata": {
    "colab": {
     "base_uri": "https://localhost:8080/"
    },
    "id": "Wh3luk3-vaQL",
    "outputId": "a75ea264-3441-4cdd-a4cd-8ed66bb62af9"
   },
   "outputs": [
    {
     "data": {
      "text/plain": [
       "6.6    294\n",
       "6.7    290\n",
       "6.8    244\n",
       "6.2    229\n",
       "6.1    223\n",
       "7.1    221\n",
       "7.2    218\n",
       "6.9    211\n",
       "7.0    207\n",
       "6.5    202\n",
       "6.3    195\n",
       "5.8    192\n",
       "6.4    189\n",
       "6.0    189\n",
       "7.4    170\n",
       "7.6    169\n",
       "5.9    165\n",
       "7.7    164\n",
       "7.3    155\n",
       "5.7    152\n",
       "5.6    149\n",
       "7.9    140\n",
       "7.5    138\n",
       "7.8    125\n",
       "8.0    101\n",
       "5.2     93\n",
       "5.3     91\n",
       "5.5     87\n",
       "5.4     80\n",
       "5.1     78\n",
       "8.1     70\n",
       "4.8     64\n",
       "4.9     61\n",
       "8.2     55\n",
       "4.7     47\n",
       "5.0     46\n",
       "4.3     46\n",
       "4.6     42\n",
       "3.9     37\n",
       "4.1     32\n",
       "4.5     29\n",
       "4.2     27\n",
       "8.5     26\n",
       "4.4     22\n",
       "8.3     22\n",
       "8.6     20\n",
       "3.8     19\n",
       "4.0     19\n",
       "3.7     16\n",
       "8.4     15\n",
       "3.2     11\n",
       "2.9     10\n",
       "3.5     10\n",
       "8.7      8\n",
       "3.3      8\n",
       "3.0      8\n",
       "3.4      7\n",
       "8.8      6\n",
       "2.8      6\n",
       "1.6      5\n",
       "2.6      5\n",
       "2.4      4\n",
       "99%      4\n",
       "2.7      4\n",
       "3.1      4\n",
       "97%      3\n",
       "2.5      3\n",
       "1.5      3\n",
       "91%      3\n",
       "94%      3\n",
       "3.6      3\n",
       "1.4      2\n",
       "1.1      2\n",
       "9.0      2\n",
       "88%      2\n",
       "98%      2\n",
       "79%      2\n",
       "2.1      2\n",
       "1.7      2\n",
       "89%      1\n",
       "64%      1\n",
       "19%      1\n",
       "1.0      1\n",
       "1.9      1\n",
       "62%      1\n",
       "8.9      1\n",
       "1.8      1\n",
       "1.3      1\n",
       "28%      1\n",
       "9.2      1\n",
       "83%      1\n",
       "90%      1\n",
       "9.1      1\n",
       "1.2      1\n",
       "Name: ratings, dtype: int64"
      ]
     },
     "execution_count": 22,
     "metadata": {},
     "output_type": "execute_result"
    }
   ],
   "source": [
    "# Для отображения всех значений увеличим максимально выводимое количество строк\n",
    "pd.set_option('display.max_rows', 100)\n",
    "df_movies.ratings.value_counts()"
   ]
  },
  {
   "cell_type": "markdown",
   "metadata": {
    "id": "fVpsYh8OGTMH"
   },
   "source": [
    "Мы убедились, что присутствует только два типа значений: оценка в диапазоне 0-10 с десятками после запятой и значения в процентах. Значения в процентах можно привести к формату оценки в диапазоне 0-10."
   ]
  },
  {
   "cell_type": "code",
   "execution_count": 23,
   "metadata": {
    "id": "PdFudhuaIjOt"
   },
   "outputs": [],
   "source": [
    "# Напишем функцию для конвертации процентной оценки в оценку в единицах с одним знаком после запятой \n",
    "def set_decimal_rating(rating: str) -> str:\n",
    "  \"\"\"\n",
    "  Функция принимает на вход строку\n",
    "  Если строка содержит знак процента, то значение делится на 10, а знак процента отбрасывается\n",
    "  Если строка не содержит знака процента, то возвращается значение, полученное на вход\n",
    "  \"\"\"\n",
    "  try:\n",
    "    if '%' in rating:    \n",
    "      rating_decimal = str(int(rating.split('%')[0]) / 10)\n",
    "      return rating_decimal\n",
    "    else:\n",
    "      return rating\n",
    "  except:\n",
    "    print('Возникла ошибка во время выполнения функции set_decimal_rating')"
   ]
  },
  {
   "cell_type": "code",
   "execution_count": 24,
   "metadata": {
    "colab": {
     "base_uri": "https://localhost:8080/"
    },
    "id": "jOu8oKipHJ8f",
    "outputId": "1d18004b-486e-478e-c315-fbfb96f401c6"
   },
   "outputs": [
    {
     "data": {
      "text/plain": [
       "6.6    294\n",
       "6.7    290\n",
       "6.8    244\n",
       "6.2    230\n",
       "6.1    223\n",
       "7.1    221\n",
       "7.2    218\n",
       "6.9    211\n",
       "7.0    207\n",
       "6.5    202\n",
       "6.3    195\n",
       "5.8    192\n",
       "6.4    190\n",
       "6.0    189\n",
       "7.4    170\n",
       "7.6    169\n",
       "5.9    165\n",
       "7.7    164\n",
       "7.3    155\n",
       "5.7    152\n",
       "5.6    149\n",
       "7.9    142\n",
       "7.5    138\n",
       "7.8    125\n",
       "8.0    101\n",
       "5.2     93\n",
       "5.3     91\n",
       "5.5     87\n",
       "5.4     80\n",
       "5.1     78\n",
       "8.1     70\n",
       "4.8     64\n",
       "4.9     61\n",
       "8.2     55\n",
       "4.7     47\n",
       "4.3     46\n",
       "5.0     46\n",
       "4.6     42\n",
       "3.9     37\n",
       "4.1     32\n",
       "4.5     29\n",
       "4.2     27\n",
       "8.5     26\n",
       "8.3     23\n",
       "4.4     22\n",
       "8.6     20\n",
       "4.0     19\n",
       "3.8     19\n",
       "3.7     16\n",
       "8.4     15\n",
       "3.2     11\n",
       "3.5     10\n",
       "2.9     10\n",
       "8.7      8\n",
       "3.3      8\n",
       "8.8      8\n",
       "3.0      8\n",
       "3.4      7\n",
       "2.8      7\n",
       "2.6      5\n",
       "1.6      5\n",
       "2.7      4\n",
       "9.1      4\n",
       "9.9      4\n",
       "3.1      4\n",
       "2.4      4\n",
       "2.5      3\n",
       "9.0      3\n",
       "9.4      3\n",
       "3.6      3\n",
       "9.7      3\n",
       "1.5      3\n",
       "1.4      2\n",
       "8.9      2\n",
       "1.7      2\n",
       "9.8      2\n",
       "1.9      2\n",
       "2.1      2\n",
       "1.1      2\n",
       "1.3      1\n",
       "9.2      1\n",
       "1.2      1\n",
       "1.8      1\n",
       "1.0      1\n",
       "Name: ratings, dtype: int64"
      ]
     },
     "execution_count": 24,
     "metadata": {},
     "output_type": "execute_result"
    }
   ],
   "source": [
    "# Применим функцию к столбцу ratings и посмотрим на результат\n",
    "df_movies.ratings = df_movies.ratings.apply(set_decimal_rating)\n",
    "df_movies.ratings.value_counts()"
   ]
  },
  {
   "cell_type": "markdown",
   "metadata": {
    "id": "yDsKU8TOM6gk"
   },
   "source": [
    "Отлично, значений оценок в процентах не осталось"
   ]
  },
  {
   "cell_type": "code",
   "execution_count": 25,
   "metadata": {
    "id": "yV_oUKeOxcC4"
   },
   "outputs": [],
   "source": [
    "# Сбросим максимальное количество выводимых строк на значение по-умолчанию\n",
    "pd.reset_option('display.max_rows')"
   ]
  },
  {
   "cell_type": "code",
   "execution_count": 26,
   "metadata": {
    "colab": {
     "base_uri": "https://localhost:8080/"
    },
    "id": "BRIuLSmIFj41",
    "outputId": "98eb601b-ae0a-498f-f12f-673f1e6b498a"
   },
   "outputs": [
    {
     "data": {
      "text/plain": [
       "0    7.2\n",
       "2    6.8\n",
       "3    6.8\n",
       "4    6.8\n",
       "7    6.6\n",
       "Name: ratings, dtype: float64"
      ]
     },
     "execution_count": 26,
     "metadata": {},
     "output_type": "execute_result"
    }
   ],
   "source": [
    "# Изменим тип колонки ratings в датасете df_movies и проверим результат\n",
    "df_movies.ratings = pd.to_numeric(df_movies.ratings)\n",
    "df_movies.ratings.head(5)"
   ]
  },
  {
   "cell_type": "markdown",
   "metadata": {
    "id": "jfUxqyGiNPxo"
   },
   "source": [
    "#### Выводы по изменению типов данных"
   ]
  },
  {
   "cell_type": "markdown",
   "metadata": {
    "id": "TgZOLCpHOMN2"
   },
   "source": [
    "Датасет `df_movies`:\n",
    "* Столбец `pu_number` в датасете `df_movies` приведён к целочисленному типу данных для последующего объединения датасетов.\n",
    "* Столбец `show_start_date` приведён к корректному формату даты.\n",
    "* В столбце `ratings` обнаружено два типа значений: оценка от 0 до 10 с одним знаком после запятой и оценка от 0 до 100 со знаком процента. Оценки со знаком процента были сконвертированы в оценки от 0 до 10, знак процента отброшен. После этого весь столбец был приведён к типу данных `float`.\n",
    "\n",
    "Датасет `df_shows`:\n",
    "* Изменение типов данных не требуется"
   ]
  },
  {
   "cell_type": "markdown",
   "metadata": {
    "id": "vAAPK2yu2JJC"
   },
   "source": [
    "### Объединение датасетов"
   ]
  },
  {
   "cell_type": "markdown",
   "metadata": {
    "id": "AP-RVM0G2QQZ"
   },
   "source": [
    "После изменения типа данных в столбце `pu_number` в датасете `df_movies` стало возможным объединить две таблицы по данному столбцу."
   ]
  },
  {
   "cell_type": "code",
   "execution_count": 27,
   "metadata": {
    "colab": {
     "base_uri": "https://localhost:8080/",
     "height": 537
    },
    "id": "MN8bKv9E2Ms6",
    "outputId": "114f45f5-f443-40c6-aa6c-db729a4bc67e"
   },
   "outputs": [
    {
     "data": {
      "text/html": [
       "<div>\n",
       "<style scoped>\n",
       "    .dataframe tbody tr th:only-of-type {\n",
       "        vertical-align: middle;\n",
       "    }\n",
       "\n",
       "    .dataframe tbody tr th {\n",
       "        vertical-align: top;\n",
       "    }\n",
       "\n",
       "    .dataframe thead th {\n",
       "        text-align: right;\n",
       "    }\n",
       "</style>\n",
       "<table border=\"1\" class=\"dataframe\">\n",
       "  <thead>\n",
       "    <tr style=\"text-align: right;\">\n",
       "      <th></th>\n",
       "      <th>title</th>\n",
       "      <th>pu_number</th>\n",
       "      <th>show_start_date</th>\n",
       "      <th>type</th>\n",
       "      <th>film_studio</th>\n",
       "      <th>production_country</th>\n",
       "      <th>director</th>\n",
       "      <th>producer</th>\n",
       "      <th>age_restriction</th>\n",
       "      <th>refundable_support</th>\n",
       "      <th>nonrefundable_support</th>\n",
       "      <th>budget</th>\n",
       "      <th>financing_source</th>\n",
       "      <th>ratings</th>\n",
       "      <th>genres</th>\n",
       "      <th>box_office</th>\n",
       "    </tr>\n",
       "  </thead>\n",
       "  <tbody>\n",
       "    <tr>\n",
       "      <th>0</th>\n",
       "      <td>Открытый простор</td>\n",
       "      <td>221048915</td>\n",
       "      <td>2015-11-27 12:00:00+00:00</td>\n",
       "      <td>Художественный</td>\n",
       "      <td>Тачстоун Пикчерз, Кобальт Пикчерз, Бикон Пикче...</td>\n",
       "      <td>США</td>\n",
       "      <td>Кевин Костнер</td>\n",
       "      <td>Дэвид Валдес, Кевин Костнер, Джейк Эбертс</td>\n",
       "      <td>«18+» - запрещено для детей</td>\n",
       "      <td>NaN</td>\n",
       "      <td>NaN</td>\n",
       "      <td>NaN</td>\n",
       "      <td>Отсутствует</td>\n",
       "      <td>7.2</td>\n",
       "      <td>боевик,драма,мелодрама</td>\n",
       "      <td>NaN</td>\n",
       "    </tr>\n",
       "    <tr>\n",
       "      <th>1</th>\n",
       "      <td>Особо опасен</td>\n",
       "      <td>221038416</td>\n",
       "      <td>2016-10-10 12:00:00+00:00</td>\n",
       "      <td>Художественный</td>\n",
       "      <td>Юниверсал Пикчерз, Кикстарт Продакшнз, Марк Пл...</td>\n",
       "      <td>США</td>\n",
       "      <td>Тимур Бекмамбетов</td>\n",
       "      <td>Джим Лемли, Джейсон Нетер, Марк Е.Платт, Яйн Смит</td>\n",
       "      <td>«18+» - запрещено для детей</td>\n",
       "      <td>NaN</td>\n",
       "      <td>NaN</td>\n",
       "      <td>NaN</td>\n",
       "      <td>Отсутствует</td>\n",
       "      <td>6.8</td>\n",
       "      <td>фантастика,боевик,триллер</td>\n",
       "      <td>NaN</td>\n",
       "    </tr>\n",
       "    <tr>\n",
       "      <th>2</th>\n",
       "      <td>Особо опасен</td>\n",
       "      <td>221026916</td>\n",
       "      <td>2016-06-10 12:00:00+00:00</td>\n",
       "      <td>Художественный</td>\n",
       "      <td>Юниверсал Пикчерз, Кикстарт Продакшнз, Марк Пл...</td>\n",
       "      <td>США</td>\n",
       "      <td>Тимур Бекмамбетов</td>\n",
       "      <td>Джим Лемли, Джейсон Нетер, Марк Е.Платт, Яйн Смит</td>\n",
       "      <td>«18+» - запрещено для детей</td>\n",
       "      <td>NaN</td>\n",
       "      <td>NaN</td>\n",
       "      <td>NaN</td>\n",
       "      <td>Отсутствует</td>\n",
       "      <td>6.8</td>\n",
       "      <td>фантастика,боевик,триллер</td>\n",
       "      <td>NaN</td>\n",
       "    </tr>\n",
       "  </tbody>\n",
       "</table>\n",
       "</div>"
      ],
      "text/plain": [
       "              title  pu_number           show_start_date            type  \\\n",
       "0  Открытый простор  221048915 2015-11-27 12:00:00+00:00  Художественный   \n",
       "1      Особо опасен  221038416 2016-10-10 12:00:00+00:00  Художественный   \n",
       "2      Особо опасен  221026916 2016-06-10 12:00:00+00:00  Художественный   \n",
       "\n",
       "                                         film_studio production_country  \\\n",
       "0  Тачстоун Пикчерз, Кобальт Пикчерз, Бикон Пикче...                США   \n",
       "1  Юниверсал Пикчерз, Кикстарт Продакшнз, Марк Пл...                США   \n",
       "2  Юниверсал Пикчерз, Кикстарт Продакшнз, Марк Пл...                США   \n",
       "\n",
       "            director                                           producer  \\\n",
       "0      Кевин Костнер          Дэвид Валдес, Кевин Костнер, Джейк Эбертс   \n",
       "1  Тимур Бекмамбетов  Джим Лемли, Джейсон Нетер, Марк Е.Платт, Яйн Смит   \n",
       "2  Тимур Бекмамбетов  Джим Лемли, Джейсон Нетер, Марк Е.Платт, Яйн Смит   \n",
       "\n",
       "               age_restriction  refundable_support  nonrefundable_support  \\\n",
       "0  «18+» - запрещено для детей                 NaN                    NaN   \n",
       "1  «18+» - запрещено для детей                 NaN                    NaN   \n",
       "2  «18+» - запрещено для детей                 NaN                    NaN   \n",
       "\n",
       "   budget financing_source  ratings                     genres  box_office  \n",
       "0     NaN      Отсутствует      7.2     боевик,драма,мелодрама         NaN  \n",
       "1     NaN      Отсутствует      6.8  фантастика,боевик,триллер         NaN  \n",
       "2     NaN      Отсутствует      6.8  фантастика,боевик,триллер         NaN  "
      ]
     },
     "execution_count": 27,
     "metadata": {},
     "output_type": "execute_result"
    }
   ],
   "source": [
    "# Создадим объединенный датасет и выведем первые 3 строки\n",
    "df = df_movies.merge(df_shows, on='pu_number', how='left')\n",
    "df.head(3)"
   ]
  },
  {
   "cell_type": "code",
   "execution_count": 28,
   "metadata": {
    "colab": {
     "base_uri": "https://localhost:8080/",
     "height": 216
    },
    "id": "K2BJzucQ27NB",
    "outputId": "2d02faaf-f770-4520-ef23-7105a3728f49"
   },
   "outputs": [
    {
     "data": {
      "text/html": [
       "<div>\n",
       "<style scoped>\n",
       "    .dataframe tbody tr th:only-of-type {\n",
       "        vertical-align: middle;\n",
       "    }\n",
       "\n",
       "    .dataframe tbody tr th {\n",
       "        vertical-align: top;\n",
       "    }\n",
       "\n",
       "    .dataframe thead th {\n",
       "        text-align: right;\n",
       "    }\n",
       "</style>\n",
       "<table border=\"1\" class=\"dataframe\">\n",
       "  <thead>\n",
       "    <tr style=\"text-align: right;\">\n",
       "      <th></th>\n",
       "      <th>pu_number</th>\n",
       "      <th>box_office</th>\n",
       "    </tr>\n",
       "  </thead>\n",
       "  <tbody>\n",
       "    <tr>\n",
       "      <th>0</th>\n",
       "      <td>111000113</td>\n",
       "      <td>2450.0</td>\n",
       "    </tr>\n",
       "  </tbody>\n",
       "</table>\n",
       "</div>"
      ],
      "text/plain": [
       "   pu_number  box_office\n",
       "0  111000113      2450.0"
      ]
     },
     "metadata": {},
     "output_type": "display_data"
    },
    {
     "data": {
      "text/html": [
       "<div>\n",
       "<style scoped>\n",
       "    .dataframe tbody tr th:only-of-type {\n",
       "        vertical-align: middle;\n",
       "    }\n",
       "\n",
       "    .dataframe tbody tr th {\n",
       "        vertical-align: top;\n",
       "    }\n",
       "\n",
       "    .dataframe thead th {\n",
       "        text-align: right;\n",
       "    }\n",
       "</style>\n",
       "<table border=\"1\" class=\"dataframe\">\n",
       "  <thead>\n",
       "    <tr style=\"text-align: right;\">\n",
       "      <th></th>\n",
       "      <th>title</th>\n",
       "      <th>pu_number</th>\n",
       "      <th>show_start_date</th>\n",
       "      <th>type</th>\n",
       "      <th>film_studio</th>\n",
       "      <th>production_country</th>\n",
       "      <th>director</th>\n",
       "      <th>producer</th>\n",
       "      <th>age_restriction</th>\n",
       "      <th>refundable_support</th>\n",
       "      <th>nonrefundable_support</th>\n",
       "      <th>budget</th>\n",
       "      <th>financing_source</th>\n",
       "      <th>ratings</th>\n",
       "      <th>genres</th>\n",
       "      <th>box_office</th>\n",
       "    </tr>\n",
       "  </thead>\n",
       "  <tbody>\n",
       "    <tr>\n",
       "      <th>864</th>\n",
       "      <td>Тайна перевала Дятлова</td>\n",
       "      <td>111000113</td>\n",
       "      <td>2013-01-17 12:00:00+00:00</td>\n",
       "      <td>Художественный</td>\n",
       "      <td>ООО \"Нон-Стоп Продакшн\"</td>\n",
       "      <td>Россия</td>\n",
       "      <td>Ренни Харлин</td>\n",
       "      <td>А.Роднянский, С.Мелькумов, С.Беспалов, Киа Джэм</td>\n",
       "      <td>«16+» - для детей старше 16 лет</td>\n",
       "      <td>NaN</td>\n",
       "      <td>NaN</td>\n",
       "      <td>NaN</td>\n",
       "      <td>Отсутствует</td>\n",
       "      <td>5.1</td>\n",
       "      <td>ужасы,фантастика</td>\n",
       "      <td>2450.0</td>\n",
       "    </tr>\n",
       "  </tbody>\n",
       "</table>\n",
       "</div>"
      ],
      "text/plain": [
       "                      title  pu_number           show_start_date  \\\n",
       "864  Тайна перевала Дятлова  111000113 2013-01-17 12:00:00+00:00   \n",
       "\n",
       "               type              film_studio production_country      director  \\\n",
       "864  Художественный  ООО \"Нон-Стоп Продакшн\"             Россия  Ренни Харлин   \n",
       "\n",
       "                                            producer  \\\n",
       "864  А.Роднянский, С.Мелькумов, С.Беспалов, Киа Джэм   \n",
       "\n",
       "                     age_restriction  refundable_support  \\\n",
       "864  «16+» - для детей старше 16 лет                 NaN   \n",
       "\n",
       "     nonrefundable_support  budget financing_source  ratings  \\\n",
       "864                    NaN     NaN      Отсутствует      5.1   \n",
       "\n",
       "               genres  box_office  \n",
       "864  ужасы,фантастика      2450.0  "
      ]
     },
     "execution_count": 28,
     "metadata": {},
     "output_type": "execute_result"
    }
   ],
   "source": [
    "# Проверим, что объединение прошло корректно\n",
    "display(df_shows.head(1))\n",
    "df.query('pu_number == 111000113')"
   ]
  },
  {
   "cell_type": "markdown",
   "metadata": {
    "id": "gfY08wAF4Czz"
   },
   "source": [
    "Датасеты успешно объединены."
   ]
  },
  {
   "cell_type": "markdown",
   "metadata": {
    "id": "6FKOn5R50Yi4"
   },
   "source": [
    "### Обработка дубликатов"
   ]
  },
  {
   "cell_type": "markdown",
   "metadata": {
    "id": "y2Yc7E4q9X3B"
   },
   "source": [
    "В данном разделе мы будем искать явные и неявные дубликаты в данных."
   ]
  },
  {
   "cell_type": "markdown",
   "metadata": {
    "id": "vW7FK5SEdO4U"
   },
   "source": [
    "#### Явные дубликаты"
   ]
  },
  {
   "cell_type": "code",
   "execution_count": 29,
   "metadata": {
    "colab": {
     "base_uri": "https://localhost:8080/",
     "height": 35
    },
    "id": "brIY_kL40eTk",
    "outputId": "de01aad6-b662-42ae-a751-8a1ff3181354"
   },
   "outputs": [
    {
     "data": {
      "text/plain": [
       "'Количество полных дубликатов в датасете: 0'"
      ]
     },
     "execution_count": 29,
     "metadata": {},
     "output_type": "execute_result"
    }
   ],
   "source": [
    "# Проверим наличие полных дубликатов\n",
    "f'Количество полных дубликатов в датасете: {df.duplicated().sum()}'"
   ]
  },
  {
   "cell_type": "markdown",
   "metadata": {
    "id": "hdLJxe5B09a9"
   },
   "source": [
    "Полных дубликатов в датасете нет. Взглянем на данные, чтобы определить, какие колонки стоит проверить на дубликаты."
   ]
  },
  {
   "cell_type": "code",
   "execution_count": 30,
   "metadata": {
    "colab": {
     "base_uri": "https://localhost:8080/",
     "height": 808
    },
    "id": "OGj-D72g17JB",
    "outputId": "f0d19647-9950-4e75-b897-dd236020bbfa"
   },
   "outputs": [
    {
     "data": {
      "text/html": [
       "<div>\n",
       "<style scoped>\n",
       "    .dataframe tbody tr th:only-of-type {\n",
       "        vertical-align: middle;\n",
       "    }\n",
       "\n",
       "    .dataframe tbody tr th {\n",
       "        vertical-align: top;\n",
       "    }\n",
       "\n",
       "    .dataframe thead th {\n",
       "        text-align: right;\n",
       "    }\n",
       "</style>\n",
       "<table border=\"1\" class=\"dataframe\">\n",
       "  <thead>\n",
       "    <tr style=\"text-align: right;\">\n",
       "      <th></th>\n",
       "      <th>title</th>\n",
       "      <th>pu_number</th>\n",
       "      <th>show_start_date</th>\n",
       "      <th>type</th>\n",
       "      <th>film_studio</th>\n",
       "      <th>production_country</th>\n",
       "      <th>director</th>\n",
       "      <th>producer</th>\n",
       "      <th>age_restriction</th>\n",
       "      <th>refundable_support</th>\n",
       "      <th>nonrefundable_support</th>\n",
       "      <th>budget</th>\n",
       "      <th>financing_source</th>\n",
       "      <th>ratings</th>\n",
       "      <th>genres</th>\n",
       "      <th>box_office</th>\n",
       "    </tr>\n",
       "  </thead>\n",
       "  <tbody>\n",
       "    <tr>\n",
       "      <th>0</th>\n",
       "      <td>Открытый простор</td>\n",
       "      <td>221048915</td>\n",
       "      <td>2015-11-27 12:00:00+00:00</td>\n",
       "      <td>Художественный</td>\n",
       "      <td>Тачстоун Пикчерз, Кобальт Пикчерз, Бикон Пикче...</td>\n",
       "      <td>США</td>\n",
       "      <td>Кевин Костнер</td>\n",
       "      <td>Дэвид Валдес, Кевин Костнер, Джейк Эбертс</td>\n",
       "      <td>«18+» - запрещено для детей</td>\n",
       "      <td>NaN</td>\n",
       "      <td>NaN</td>\n",
       "      <td>NaN</td>\n",
       "      <td>Отсутствует</td>\n",
       "      <td>7.2</td>\n",
       "      <td>боевик,драма,мелодрама</td>\n",
       "      <td>NaN</td>\n",
       "    </tr>\n",
       "    <tr>\n",
       "      <th>1</th>\n",
       "      <td>Особо опасен</td>\n",
       "      <td>221038416</td>\n",
       "      <td>2016-10-10 12:00:00+00:00</td>\n",
       "      <td>Художественный</td>\n",
       "      <td>Юниверсал Пикчерз, Кикстарт Продакшнз, Марк Пл...</td>\n",
       "      <td>США</td>\n",
       "      <td>Тимур Бекмамбетов</td>\n",
       "      <td>Джим Лемли, Джейсон Нетер, Марк Е.Платт, Яйн Смит</td>\n",
       "      <td>«18+» - запрещено для детей</td>\n",
       "      <td>NaN</td>\n",
       "      <td>NaN</td>\n",
       "      <td>NaN</td>\n",
       "      <td>Отсутствует</td>\n",
       "      <td>6.8</td>\n",
       "      <td>фантастика,боевик,триллер</td>\n",
       "      <td>NaN</td>\n",
       "    </tr>\n",
       "    <tr>\n",
       "      <th>2</th>\n",
       "      <td>Особо опасен</td>\n",
       "      <td>221026916</td>\n",
       "      <td>2016-06-10 12:00:00+00:00</td>\n",
       "      <td>Художественный</td>\n",
       "      <td>Юниверсал Пикчерз, Кикстарт Продакшнз, Марк Пл...</td>\n",
       "      <td>США</td>\n",
       "      <td>Тимур Бекмамбетов</td>\n",
       "      <td>Джим Лемли, Джейсон Нетер, Марк Е.Платт, Яйн Смит</td>\n",
       "      <td>«18+» - запрещено для детей</td>\n",
       "      <td>NaN</td>\n",
       "      <td>NaN</td>\n",
       "      <td>NaN</td>\n",
       "      <td>Отсутствует</td>\n",
       "      <td>6.8</td>\n",
       "      <td>фантастика,боевик,триллер</td>\n",
       "      <td>NaN</td>\n",
       "    </tr>\n",
       "    <tr>\n",
       "      <th>3</th>\n",
       "      <td>Особо опасен</td>\n",
       "      <td>221030815</td>\n",
       "      <td>2015-07-29 12:00:00+00:00</td>\n",
       "      <td>Художественный</td>\n",
       "      <td>Юниверсал Пикчерз, Кикстарт Продакшнз, Марк Пл...</td>\n",
       "      <td>США</td>\n",
       "      <td>Тимур Бекмамбетов</td>\n",
       "      <td>Джим Лемли, Джейсон Нетер, Марк Е.Платт, Яйн Смит</td>\n",
       "      <td>«18+» - запрещено для детей</td>\n",
       "      <td>NaN</td>\n",
       "      <td>NaN</td>\n",
       "      <td>NaN</td>\n",
       "      <td>Отсутствует</td>\n",
       "      <td>6.8</td>\n",
       "      <td>фантастика,боевик,триллер</td>\n",
       "      <td>NaN</td>\n",
       "    </tr>\n",
       "    <tr>\n",
       "      <th>4</th>\n",
       "      <td>Любовь и сигареты</td>\n",
       "      <td>221074614</td>\n",
       "      <td>2014-12-29 12:00:00+00:00</td>\n",
       "      <td>Художественный</td>\n",
       "      <td>Юнайтед Артистс, Грин Стрит Филмз, Айкон Интер...</td>\n",
       "      <td>США</td>\n",
       "      <td>Джон Туртурро</td>\n",
       "      <td>Джон Пенотти, Джон Туртурро</td>\n",
       "      <td>«18+» - запрещено для детей</td>\n",
       "      <td>NaN</td>\n",
       "      <td>NaN</td>\n",
       "      <td>NaN</td>\n",
       "      <td>Отсутствует</td>\n",
       "      <td>6.6</td>\n",
       "      <td>мюзикл,мелодрама,комедия</td>\n",
       "      <td>NaN</td>\n",
       "    </tr>\n",
       "  </tbody>\n",
       "</table>\n",
       "</div>"
      ],
      "text/plain": [
       "               title  pu_number           show_start_date            type  \\\n",
       "0   Открытый простор  221048915 2015-11-27 12:00:00+00:00  Художественный   \n",
       "1       Особо опасен  221038416 2016-10-10 12:00:00+00:00  Художественный   \n",
       "2       Особо опасен  221026916 2016-06-10 12:00:00+00:00  Художественный   \n",
       "3       Особо опасен  221030815 2015-07-29 12:00:00+00:00  Художественный   \n",
       "4  Любовь и сигареты  221074614 2014-12-29 12:00:00+00:00  Художественный   \n",
       "\n",
       "                                         film_studio production_country  \\\n",
       "0  Тачстоун Пикчерз, Кобальт Пикчерз, Бикон Пикче...                США   \n",
       "1  Юниверсал Пикчерз, Кикстарт Продакшнз, Марк Пл...                США   \n",
       "2  Юниверсал Пикчерз, Кикстарт Продакшнз, Марк Пл...                США   \n",
       "3  Юниверсал Пикчерз, Кикстарт Продакшнз, Марк Пл...                США   \n",
       "4  Юнайтед Артистс, Грин Стрит Филмз, Айкон Интер...                США   \n",
       "\n",
       "            director                                           producer  \\\n",
       "0      Кевин Костнер          Дэвид Валдес, Кевин Костнер, Джейк Эбертс   \n",
       "1  Тимур Бекмамбетов  Джим Лемли, Джейсон Нетер, Марк Е.Платт, Яйн Смит   \n",
       "2  Тимур Бекмамбетов  Джим Лемли, Джейсон Нетер, Марк Е.Платт, Яйн Смит   \n",
       "3  Тимур Бекмамбетов  Джим Лемли, Джейсон Нетер, Марк Е.Платт, Яйн Смит   \n",
       "4      Джон Туртурро                        Джон Пенотти, Джон Туртурро   \n",
       "\n",
       "               age_restriction  refundable_support  nonrefundable_support  \\\n",
       "0  «18+» - запрещено для детей                 NaN                    NaN   \n",
       "1  «18+» - запрещено для детей                 NaN                    NaN   \n",
       "2  «18+» - запрещено для детей                 NaN                    NaN   \n",
       "3  «18+» - запрещено для детей                 NaN                    NaN   \n",
       "4  «18+» - запрещено для детей                 NaN                    NaN   \n",
       "\n",
       "   budget financing_source  ratings                     genres  box_office  \n",
       "0     NaN      Отсутствует      7.2     боевик,драма,мелодрама         NaN  \n",
       "1     NaN      Отсутствует      6.8  фантастика,боевик,триллер         NaN  \n",
       "2     NaN      Отсутствует      6.8  фантастика,боевик,триллер         NaN  \n",
       "3     NaN      Отсутствует      6.8  фантастика,боевик,триллер         NaN  \n",
       "4     NaN      Отсутствует      6.6   мюзикл,мелодрама,комедия         NaN  "
      ]
     },
     "execution_count": 30,
     "metadata": {},
     "output_type": "execute_result"
    }
   ],
   "source": [
    "df.head()"
   ]
  },
  {
   "cell_type": "markdown",
   "metadata": {
    "id": "STC03SVd4zPK"
   },
   "source": [
    "На явные дубликаты проверим `pu_number`. Во всех остальных колонках данные могут дублироваться и это нормально"
   ]
  },
  {
   "cell_type": "code",
   "execution_count": 31,
   "metadata": {
    "colab": {
     "base_uri": "https://localhost:8080/",
     "height": 35
    },
    "id": "nCjr8MU25ylt",
    "outputId": "e1859824-52e6-4453-89c3-bc63d737c1f4"
   },
   "outputs": [
    {
     "data": {
      "text/plain": [
       "'Количество дубликатов в колонке pu_number: 2'"
      ]
     },
     "execution_count": 31,
     "metadata": {},
     "output_type": "execute_result"
    }
   ],
   "source": [
    "f'Количество дубликатов в колонке pu_number: {df.pu_number.duplicated().sum()}'"
   ]
  },
  {
   "cell_type": "code",
   "execution_count": 32,
   "metadata": {
    "colab": {
     "base_uri": "https://localhost:8080/",
     "height": 551
    },
    "id": "kmoysmk05fG4",
    "outputId": "087eea6d-7db7-4448-b187-4fca637c83ac"
   },
   "outputs": [
    {
     "data": {
      "text/html": [
       "<div>\n",
       "<style scoped>\n",
       "    .dataframe tbody tr th:only-of-type {\n",
       "        vertical-align: middle;\n",
       "    }\n",
       "\n",
       "    .dataframe tbody tr th {\n",
       "        vertical-align: top;\n",
       "    }\n",
       "\n",
       "    .dataframe thead th {\n",
       "        text-align: right;\n",
       "    }\n",
       "</style>\n",
       "<table border=\"1\" class=\"dataframe\">\n",
       "  <thead>\n",
       "    <tr style=\"text-align: right;\">\n",
       "      <th></th>\n",
       "      <th>title</th>\n",
       "      <th>pu_number</th>\n",
       "      <th>show_start_date</th>\n",
       "      <th>type</th>\n",
       "      <th>film_studio</th>\n",
       "      <th>production_country</th>\n",
       "      <th>director</th>\n",
       "      <th>producer</th>\n",
       "      <th>age_restriction</th>\n",
       "      <th>refundable_support</th>\n",
       "      <th>nonrefundable_support</th>\n",
       "      <th>budget</th>\n",
       "      <th>financing_source</th>\n",
       "      <th>ratings</th>\n",
       "      <th>genres</th>\n",
       "      <th>box_office</th>\n",
       "    </tr>\n",
       "  </thead>\n",
       "  <tbody>\n",
       "    <tr>\n",
       "      <th>3788</th>\n",
       "      <td>Как жениться и остаться холостым</td>\n",
       "      <td>221154310</td>\n",
       "      <td>2010-12-17 12:00:00+00:00</td>\n",
       "      <td>Художественный</td>\n",
       "      <td>Ше Вам, Скрипт Ассосье, Тэ Фэ 1 Фильм Продюксь...</td>\n",
       "      <td>Франция</td>\n",
       "      <td>Эрик Лартиго</td>\n",
       "      <td>Амандин Било, Алан Шаба</td>\n",
       "      <td>«16+» - для детей старше 16 лет</td>\n",
       "      <td>NaN</td>\n",
       "      <td>NaN</td>\n",
       "      <td>NaN</td>\n",
       "      <td>Отсутствует</td>\n",
       "      <td>7.0</td>\n",
       "      <td>мелодрама,комедия</td>\n",
       "      <td>NaN</td>\n",
       "    </tr>\n",
       "    <tr>\n",
       "      <th>3789</th>\n",
       "      <td>Иоанна - женщина на папском престоле /По роман...</td>\n",
       "      <td>221154310</td>\n",
       "      <td>2010-12-17 12:00:00+00:00</td>\n",
       "      <td>Художественный</td>\n",
       "      <td>Константин Фильм, А Эр Ди Дегето Фильм, Дюне ...</td>\n",
       "      <td>Германия - Великобритания - Италия - Испания</td>\n",
       "      <td>Зенке Вортманн</td>\n",
       "      <td>Оливер Бербен, Дорис Д.Хайнце, Фарук Элтан</td>\n",
       "      <td>«16+» - для детей старше 16 лет</td>\n",
       "      <td>NaN</td>\n",
       "      <td>NaN</td>\n",
       "      <td>NaN</td>\n",
       "      <td>Отсутствует</td>\n",
       "      <td>7.6</td>\n",
       "      <td>драма,мелодрама,история</td>\n",
       "      <td>NaN</td>\n",
       "    </tr>\n",
       "    <tr>\n",
       "      <th>4183</th>\n",
       "      <td>Анализируй это!</td>\n",
       "      <td>221054410</td>\n",
       "      <td>2010-05-25 12:00:00+00:00</td>\n",
       "      <td>Художественный</td>\n",
       "      <td>Уорнер Бразерс, Вилладж Роудшоу Филмз ЛТД</td>\n",
       "      <td>США-Австралия</td>\n",
       "      <td>ХЭрольд Рэмис</td>\n",
       "      <td>Джейн Розенталь, Пола Уейнстейн</td>\n",
       "      <td>«16+» - для детей старше 16 лет</td>\n",
       "      <td>NaN</td>\n",
       "      <td>NaN</td>\n",
       "      <td>NaN</td>\n",
       "      <td>Отсутствует</td>\n",
       "      <td>7.4</td>\n",
       "      <td>комедия,криминал</td>\n",
       "      <td>NaN</td>\n",
       "    </tr>\n",
       "    <tr>\n",
       "      <th>4184</th>\n",
       "      <td>Анализируй то!</td>\n",
       "      <td>221054410</td>\n",
       "      <td>2010-05-25 12:00:00+00:00</td>\n",
       "      <td>Художественный</td>\n",
       "      <td>Уорнер Бразерс, Виллидж Роадшоу Пикчерз, Эн-Пи...</td>\n",
       "      <td>США</td>\n",
       "      <td>Гарольд Реймис</td>\n",
       "      <td>Джейн Розенталь, Паул Уэйнстейн</td>\n",
       "      <td>«12+» - для детей старше 12 лет</td>\n",
       "      <td>NaN</td>\n",
       "      <td>NaN</td>\n",
       "      <td>NaN</td>\n",
       "      <td>Отсутствует</td>\n",
       "      <td>6.8</td>\n",
       "      <td>комедия,криминал</td>\n",
       "      <td>NaN</td>\n",
       "    </tr>\n",
       "  </tbody>\n",
       "</table>\n",
       "</div>"
      ],
      "text/plain": [
       "                                                  title  pu_number  \\\n",
       "3788                   Как жениться и остаться холостым  221154310   \n",
       "3789  Иоанна - женщина на папском престоле /По роман...  221154310   \n",
       "4183                                    Анализируй это!  221054410   \n",
       "4184                                     Анализируй то!  221054410   \n",
       "\n",
       "               show_start_date            type  \\\n",
       "3788 2010-12-17 12:00:00+00:00  Художественный   \n",
       "3789 2010-12-17 12:00:00+00:00  Художественный   \n",
       "4183 2010-05-25 12:00:00+00:00  Художественный   \n",
       "4184 2010-05-25 12:00:00+00:00  Художественный   \n",
       "\n",
       "                                            film_studio  \\\n",
       "3788  Ше Вам, Скрипт Ассосье, Тэ Фэ 1 Фильм Продюксь...   \n",
       "3789   Константин Фильм, А Эр Ди Дегето Фильм, Дюне ...   \n",
       "4183          Уорнер Бразерс, Вилладж Роудшоу Филмз ЛТД   \n",
       "4184  Уорнер Бразерс, Виллидж Роадшоу Пикчерз, Эн-Пи...   \n",
       "\n",
       "                                production_country        director  \\\n",
       "3788                                       Франция    Эрик Лартиго   \n",
       "3789  Германия - Великобритания - Италия - Испания  Зенке Вортманн   \n",
       "4183                                 США-Австралия   ХЭрольд Рэмис   \n",
       "4184                                           США  Гарольд Реймис   \n",
       "\n",
       "                                        producer  \\\n",
       "3788                     Амандин Било, Алан Шаба   \n",
       "3789  Оливер Бербен, Дорис Д.Хайнце, Фарук Элтан   \n",
       "4183             Джейн Розенталь, Пола Уейнстейн   \n",
       "4184             Джейн Розенталь, Паул Уэйнстейн   \n",
       "\n",
       "                      age_restriction  refundable_support  \\\n",
       "3788  «16+» - для детей старше 16 лет                 NaN   \n",
       "3789  «16+» - для детей старше 16 лет                 NaN   \n",
       "4183  «16+» - для детей старше 16 лет                 NaN   \n",
       "4184  «12+» - для детей старше 12 лет                 NaN   \n",
       "\n",
       "      nonrefundable_support  budget financing_source  ratings  \\\n",
       "3788                    NaN     NaN      Отсутствует      7.0   \n",
       "3789                    NaN     NaN      Отсутствует      7.6   \n",
       "4183                    NaN     NaN      Отсутствует      7.4   \n",
       "4184                    NaN     NaN      Отсутствует      6.8   \n",
       "\n",
       "                       genres  box_office  \n",
       "3788        мелодрама,комедия         NaN  \n",
       "3789  драма,мелодрама,история         NaN  \n",
       "4183         комедия,криминал         NaN  \n",
       "4184         комедия,криминал         NaN  "
      ]
     },
     "execution_count": 32,
     "metadata": {},
     "output_type": "execute_result"
    }
   ],
   "source": [
    "# Отобразим дублирующиеся строки\n",
    "df[df.pu_number.duplicated(keep=False)]"
   ]
  },
  {
   "cell_type": "markdown",
   "metadata": {
    "id": "1aCYVYQk7igP"
   },
   "source": [
    "Интересный результат. В строках 3788 и 3789 разные фильмы, но прокатное удостоверение у них одно. Видимо результат ошибки.\n",
    "\n",
    "В строках 4183 и 4184 так же указаны разные фильмы.\n",
    "\n",
    "В обоих случаях заменим номер прокатного удостоверения на свободные числа."
   ]
  },
  {
   "cell_type": "code",
   "execution_count": 33,
   "metadata": {
    "colab": {
     "base_uri": "https://localhost:8080/",
     "height": 113
    },
    "id": "IemmZX2H8i1c",
    "outputId": "df81dc9d-bf52-4dd0-ddf7-242c83a29224"
   },
   "outputs": [
    {
     "data": {
      "text/html": [
       "<div>\n",
       "<style scoped>\n",
       "    .dataframe tbody tr th:only-of-type {\n",
       "        vertical-align: middle;\n",
       "    }\n",
       "\n",
       "    .dataframe tbody tr th {\n",
       "        vertical-align: top;\n",
       "    }\n",
       "\n",
       "    .dataframe thead th {\n",
       "        text-align: right;\n",
       "    }\n",
       "</style>\n",
       "<table border=\"1\" class=\"dataframe\">\n",
       "  <thead>\n",
       "    <tr style=\"text-align: right;\">\n",
       "      <th></th>\n",
       "      <th>title</th>\n",
       "      <th>pu_number</th>\n",
       "      <th>show_start_date</th>\n",
       "      <th>type</th>\n",
       "      <th>film_studio</th>\n",
       "      <th>production_country</th>\n",
       "      <th>director</th>\n",
       "      <th>producer</th>\n",
       "      <th>age_restriction</th>\n",
       "      <th>refundable_support</th>\n",
       "      <th>nonrefundable_support</th>\n",
       "      <th>budget</th>\n",
       "      <th>financing_source</th>\n",
       "      <th>ratings</th>\n",
       "      <th>genres</th>\n",
       "      <th>box_office</th>\n",
       "    </tr>\n",
       "  </thead>\n",
       "  <tbody>\n",
       "  </tbody>\n",
       "</table>\n",
       "</div>"
      ],
      "text/plain": [
       "Empty DataFrame\n",
       "Columns: [title, pu_number, show_start_date, type, film_studio, production_country, director, producer, age_restriction, refundable_support, nonrefundable_support, budget, financing_source, ratings, genres, box_office]\n",
       "Index: []"
      ]
     },
     "metadata": {},
     "output_type": "display_data"
    },
    {
     "data": {
      "text/html": [
       "<div>\n",
       "<style scoped>\n",
       "    .dataframe tbody tr th:only-of-type {\n",
       "        vertical-align: middle;\n",
       "    }\n",
       "\n",
       "    .dataframe tbody tr th {\n",
       "        vertical-align: top;\n",
       "    }\n",
       "\n",
       "    .dataframe thead th {\n",
       "        text-align: right;\n",
       "    }\n",
       "</style>\n",
       "<table border=\"1\" class=\"dataframe\">\n",
       "  <thead>\n",
       "    <tr style=\"text-align: right;\">\n",
       "      <th></th>\n",
       "      <th>title</th>\n",
       "      <th>pu_number</th>\n",
       "      <th>show_start_date</th>\n",
       "      <th>type</th>\n",
       "      <th>film_studio</th>\n",
       "      <th>production_country</th>\n",
       "      <th>director</th>\n",
       "      <th>producer</th>\n",
       "      <th>age_restriction</th>\n",
       "      <th>refundable_support</th>\n",
       "      <th>nonrefundable_support</th>\n",
       "      <th>budget</th>\n",
       "      <th>financing_source</th>\n",
       "      <th>ratings</th>\n",
       "      <th>genres</th>\n",
       "      <th>box_office</th>\n",
       "    </tr>\n",
       "  </thead>\n",
       "  <tbody>\n",
       "  </tbody>\n",
       "</table>\n",
       "</div>"
      ],
      "text/plain": [
       "Empty DataFrame\n",
       "Columns: [title, pu_number, show_start_date, type, film_studio, production_country, director, producer, age_restriction, refundable_support, nonrefundable_support, budget, financing_source, ratings, genres, box_office]\n",
       "Index: []"
      ]
     },
     "execution_count": 33,
     "metadata": {},
     "output_type": "execute_result"
    }
   ],
   "source": [
    "# Проверим, свободны ли два следующих порядковых номера для прокатных удостоверений\n",
    "display(df.query('pu_number == 221154311'))\n",
    "df.query('pu_number == 221154312')"
   ]
  },
  {
   "cell_type": "markdown",
   "metadata": {
    "id": "EHABSMI181Dy"
   },
   "source": [
    "Числа 221154311 и 221154312 можно использовать в качестве замены. Прокатных удостоверений с таким номером в базе нет."
   ]
  },
  {
   "cell_type": "code",
   "execution_count": 34,
   "metadata": {
    "colab": {
     "base_uri": "https://localhost:8080/"
    },
    "id": "1ufNunvK8_WU",
    "outputId": "c4098a95-8a30-4ea9-c21b-73c9042a50cf"
   },
   "outputs": [
    {
     "data": {
      "text/html": [
       "<div>\n",
       "<style scoped>\n",
       "    .dataframe tbody tr th:only-of-type {\n",
       "        vertical-align: middle;\n",
       "    }\n",
       "\n",
       "    .dataframe tbody tr th {\n",
       "        vertical-align: top;\n",
       "    }\n",
       "\n",
       "    .dataframe thead th {\n",
       "        text-align: right;\n",
       "    }\n",
       "</style>\n",
       "<table border=\"1\" class=\"dataframe\">\n",
       "  <thead>\n",
       "    <tr style=\"text-align: right;\">\n",
       "      <th></th>\n",
       "      <th>title</th>\n",
       "      <th>pu_number</th>\n",
       "      <th>show_start_date</th>\n",
       "      <th>type</th>\n",
       "      <th>film_studio</th>\n",
       "      <th>production_country</th>\n",
       "      <th>director</th>\n",
       "      <th>producer</th>\n",
       "      <th>age_restriction</th>\n",
       "      <th>refundable_support</th>\n",
       "      <th>nonrefundable_support</th>\n",
       "      <th>budget</th>\n",
       "      <th>financing_source</th>\n",
       "      <th>ratings</th>\n",
       "      <th>genres</th>\n",
       "      <th>box_office</th>\n",
       "    </tr>\n",
       "  </thead>\n",
       "  <tbody>\n",
       "    <tr>\n",
       "      <th>3789</th>\n",
       "      <td>Иоанна - женщина на папском престоле /По роман...</td>\n",
       "      <td>221154311</td>\n",
       "      <td>2010-12-17 12:00:00+00:00</td>\n",
       "      <td>Художественный</td>\n",
       "      <td>Константин Фильм, А Эр Ди Дегето Фильм, Дюне ...</td>\n",
       "      <td>Германия - Великобритания - Италия - Испания</td>\n",
       "      <td>Зенке Вортманн</td>\n",
       "      <td>Оливер Бербен, Дорис Д.Хайнце, Фарук Элтан</td>\n",
       "      <td>«16+» - для детей старше 16 лет</td>\n",
       "      <td>NaN</td>\n",
       "      <td>NaN</td>\n",
       "      <td>NaN</td>\n",
       "      <td>Отсутствует</td>\n",
       "      <td>7.6</td>\n",
       "      <td>драма,мелодрама,история</td>\n",
       "      <td>NaN</td>\n",
       "    </tr>\n",
       "    <tr>\n",
       "      <th>4184</th>\n",
       "      <td>Анализируй то!</td>\n",
       "      <td>221154312</td>\n",
       "      <td>2010-05-25 12:00:00+00:00</td>\n",
       "      <td>Художественный</td>\n",
       "      <td>Уорнер Бразерс, Виллидж Роадшоу Пикчерз, Эн-Пи...</td>\n",
       "      <td>США</td>\n",
       "      <td>Гарольд Реймис</td>\n",
       "      <td>Джейн Розенталь, Паул Уэйнстейн</td>\n",
       "      <td>«12+» - для детей старше 12 лет</td>\n",
       "      <td>NaN</td>\n",
       "      <td>NaN</td>\n",
       "      <td>NaN</td>\n",
       "      <td>Отсутствует</td>\n",
       "      <td>6.8</td>\n",
       "      <td>комедия,криминал</td>\n",
       "      <td>NaN</td>\n",
       "    </tr>\n",
       "  </tbody>\n",
       "</table>\n",
       "</div>"
      ],
      "text/plain": [
       "                                                  title  pu_number  \\\n",
       "3789  Иоанна - женщина на папском престоле /По роман...  221154311   \n",
       "4184                                     Анализируй то!  221154312   \n",
       "\n",
       "               show_start_date            type  \\\n",
       "3789 2010-12-17 12:00:00+00:00  Художественный   \n",
       "4184 2010-05-25 12:00:00+00:00  Художественный   \n",
       "\n",
       "                                            film_studio  \\\n",
       "3789   Константин Фильм, А Эр Ди Дегето Фильм, Дюне ...   \n",
       "4184  Уорнер Бразерс, Виллидж Роадшоу Пикчерз, Эн-Пи...   \n",
       "\n",
       "                                production_country        director  \\\n",
       "3789  Германия - Великобритания - Италия - Испания  Зенке Вортманн   \n",
       "4184                                           США  Гарольд Реймис   \n",
       "\n",
       "                                        producer  \\\n",
       "3789  Оливер Бербен, Дорис Д.Хайнце, Фарук Элтан   \n",
       "4184             Джейн Розенталь, Паул Уэйнстейн   \n",
       "\n",
       "                      age_restriction  refundable_support  \\\n",
       "3789  «16+» - для детей старше 16 лет                 NaN   \n",
       "4184  «12+» - для детей старше 12 лет                 NaN   \n",
       "\n",
       "      nonrefundable_support  budget financing_source  ratings  \\\n",
       "3789                    NaN     NaN      Отсутствует      7.6   \n",
       "4184                    NaN     NaN      Отсутствует      6.8   \n",
       "\n",
       "                       genres  box_office  \n",
       "3789  драма,мелодрама,история         NaN  \n",
       "4184         комедия,криминал         NaN  "
      ]
     },
     "execution_count": 34,
     "metadata": {},
     "output_type": "execute_result"
    }
   ],
   "source": [
    "# Присвоим строкам 3789 и 4184 свободные номера в качестве № прокатного удостоверения и проверим результат \n",
    "df.at[3789, 'pu_number'] = 221154311\n",
    "df.at[4184, 'pu_number'] = 221154312\n",
    "df.loc[[3789, 4184]]"
   ]
  },
  {
   "cell_type": "code",
   "execution_count": 35,
   "metadata": {
    "colab": {
     "base_uri": "https://localhost:8080/",
     "height": 35
    },
    "id": "nCjr8MU25ylt",
    "outputId": "e1859824-52e6-4453-89c3-bc63d737c1f4"
   },
   "outputs": [
    {
     "data": {
      "text/plain": [
       "'Количество дубликатов в колонке pu_number: 0'"
      ]
     },
     "execution_count": 35,
     "metadata": {},
     "output_type": "execute_result"
    }
   ],
   "source": [
    "f'Количество дубликатов в колонке pu_number: {df.pu_number.duplicated().sum()}'"
   ]
  },
  {
   "cell_type": "markdown",
   "metadata": {
    "id": "1M3StdwQdS8F"
   },
   "source": [
    "На этом с явными дубликатами мы закончили.\n"
   ]
  },
  {
   "cell_type": "markdown",
   "metadata": {
    "id": "fMCF3KfNdcPc"
   },
   "source": [
    "#### Неявные дубликаты"
   ]
  },
  {
   "cell_type": "markdown",
   "metadata": {
    "id": "dpsWNzW8bRhU"
   },
   "source": [
    "Взглянем на остальные столбцы для выявления возможных неявных дубликатов"
   ]
  },
  {
   "cell_type": "markdown",
   "metadata": {
    "id": "qLWHqftuiFXA"
   },
   "source": [
    "##### Столбец title"
   ]
  },
  {
   "cell_type": "code",
   "execution_count": 36,
   "metadata": {
    "colab": {
     "base_uri": "https://localhost:8080/"
    },
    "id": "m87nl2r01vgG",
    "outputId": "40248187-6b31-44a8-d2b8-739a5a807811"
   },
   "outputs": [
    {
     "data": {
      "text/plain": [
       "День святого Валентина_                                                                           5\n",
       "Химера                                                                                            4\n",
       "Белая мгла /По комиксу Грега Рукка и Стива Либера/                                                4\n",
       "Секс в большом городе 2                                                                           4\n",
       "Гарри Поттер и Дары Смерти - Часть 1/По роману Дж.К.Ролинг/                                       4\n",
       "                                                                                                 ..\n",
       "Белоснежка (Snow White; Blancanieves)                                                             1\n",
       "Ужастики 2: Беспокойный Хэллоуин                                                                  1\n",
       "В следующий раз я буду стрелять в сердце /По роману Ивана Стефановича \"Убийца вне подозрений\"/    1\n",
       "План побега                                                                                       1\n",
       "Отсчет убийств                                                                                    1\n",
       "Name: title, Length: 5334, dtype: int64"
      ]
     },
     "execution_count": 36,
     "metadata": {},
     "output_type": "execute_result"
    }
   ],
   "source": [
    "df.title.value_counts()"
   ]
  },
  {
   "cell_type": "markdown",
   "metadata": {
    "id": "1RLB_k1_ds88"
   },
   "source": [
    "Сразу бросается в глаза очень большое разнообразие вариантов написания названия фильмов. У некоторых фильмов есть подчёркивания в конце, у некоторых нет. Где-то название заканчивается точкой. Где-то дополняется годом в скобках и тому подобное. Вероятно здесь присутствует много дубликатов, но обработать их корректно не представляется возможным. Оставим как есть.  \n",
    "\n",
    "Рекомендуется проверить, каким образом заполняются данные в данной колонке и есть ли возможность избежать такого разнообразного написания. Например, через введение автоматического заполнения названия с какой-либо известной, крупной базы данных (например, тот же Кинопоиск)."
   ]
  },
  {
   "cell_type": "markdown",
   "metadata": {
    "id": "8Ok5DHxZiNYN"
   },
   "source": [
    "##### Столбец type"
   ]
  },
  {
   "cell_type": "code",
   "execution_count": 37,
   "metadata": {
    "colab": {
     "base_uri": "https://localhost:8080/"
    },
    "id": "vYK0XrZOhkwW",
    "outputId": "ce0fc9f4-172b-43a3-cd63-714510a5bd2f"
   },
   "outputs": [
    {
     "data": {
      "text/plain": [
       "Художественный                3907\n",
       " Художественный               1181\n",
       "Анимационный                   553\n",
       "Прочие                         195\n",
       "Документальный                 153\n",
       "Научно-популярный               34\n",
       " Анимационный                    1\n",
       "Музыкально-развлекательный       1\n",
       "Name: type, dtype: int64"
      ]
     },
     "execution_count": 37,
     "metadata": {},
     "output_type": "execute_result"
    }
   ],
   "source": [
    "df.type.value_counts()"
   ]
  },
  {
   "cell_type": "markdown",
   "metadata": {
    "id": "7mtNsFPji-Ds"
   },
   "source": [
    "Хорошо заметно присутствие неявного дублирования: у некоторых названий жанров перед первой буквой стоит пробел. Исправим это."
   ]
  },
  {
   "cell_type": "code",
   "execution_count": 38,
   "metadata": {
    "id": "MaZXafNuj6fj"
   },
   "outputs": [],
   "source": [
    "# Напишем функцию для обработки строк с пробелами в начале\n",
    "def clear_first_space_in_str(string: str) -> str:\n",
    "  \"\"\"\n",
    "  Функция принимает на вход строку\n",
    "  Если строка содержит на месте первого символа пробел, то возвращается строка без пробела\n",
    "  Если строка не содержит на месте первого символа пробел, то возвращается значение, полученное на вход\n",
    "  \"\"\"\n",
    "  try:\n",
    "    if ' ' in string[0]:    \n",
    "      cleared_string = string[1:]\n",
    "      return cleared_string\n",
    "    else:\n",
    "      return string\n",
    "  except:\n",
    "    print('Возникла ошибка во время выполнения функции clear_first_space_in_str')"
   ]
  },
  {
   "cell_type": "code",
   "execution_count": 39,
   "metadata": {
    "colab": {
     "base_uri": "https://localhost:8080/"
    },
    "id": "RCNfZFTUj6fk",
    "outputId": "10a2ad55-2265-4761-ef56-a5fea1e67382"
   },
   "outputs": [
    {
     "data": {
      "text/plain": [
       "Художественный                5088\n",
       "Анимационный                   554\n",
       "Прочие                         195\n",
       "Документальный                 153\n",
       "Научно-популярный               34\n",
       "Музыкально-развлекательный       1\n",
       "Name: type, dtype: int64"
      ]
     },
     "execution_count": 39,
     "metadata": {},
     "output_type": "execute_result"
    }
   ],
   "source": [
    "# Применим функцию к столбцу type и посмотрим на результат\n",
    "df.type = df.type.apply(clear_first_space_in_str)\n",
    "df.type.value_counts()"
   ]
  },
  {
   "cell_type": "markdown",
   "metadata": {
    "id": "0TIl4o5GmmFQ"
   },
   "source": [
    "Всё получилось отлично, названия жанров теперь в порядке. Двигаемся дальше."
   ]
  },
  {
   "cell_type": "markdown",
   "metadata": {
    "id": "LHgCcdntmupY"
   },
   "source": [
    "##### Столбец film_studio"
   ]
  },
  {
   "cell_type": "code",
   "execution_count": 40,
   "metadata": {
    "colab": {
     "base_uri": "https://localhost:8080/"
    },
    "id": "hC6DNjerm4xL",
    "outputId": "9a26ad54-fcc0-45de-8407-35d935a61bca"
   },
   "outputs": [
    {
     "data": {
      "text/plain": [
       "ООО \"Студия анимационного кино \"Мельница\"                                                                                                                                                                     13\n",
       "ООО \"ТаББаК\"                                                                                                                                                                                                  12\n",
       "ООО \"Кинокомпания \"СТВ\"                                                                                                                                                                                       12\n",
       "ООО \"Мульт в кино\"                                                                                                                                                                                            11\n",
       "ООО \"Энджой мувиз\"                                                                                                                                                                                             9\n",
       "                                                                                                                                                                                                              ..\n",
       "Метро Голдвин Майер, Нью Крим Продюксьон, Юнайтед Артистс                                                                                                                                                      1\n",
       "Экейша Филмд Интертейнмент, Филм 44, Инджениоуз Медиа, Савви Медиа Холдингз, Стар Фроуе Интертейнмент, Синерджикс Филмз, Фандер Роад Пикчерз, Туника-Билокси Трайб оф Луизиана, Волтаж Пикчерз, Уайлд Банч     1\n",
       "02 Филмз, Ромбэс Медиа                                                                                                                                                                                         1\n",
       "Алькатрац Фильм, Арт Франс Синема, Бэ Эф И Фильм Фонд, Канал +, Сине +, Мадант, Пандора Филмпродуцион, Польски Институт Штуки Фильмови, Цвайтес Дойче Ферншейн, Эндрю Лорен Продакшнз                          1\n",
       "Радар Фильм, Эпти Фильм, Гомон, Эм6 Фильм, Рон-Альп Синема, Оранж Синема, Национальный центр кинематографии                                                                                                    1\n",
       "Name: film_studio, Length: 4828, dtype: int64"
      ]
     },
     "execution_count": 40,
     "metadata": {},
     "output_type": "execute_result"
    }
   ],
   "source": [
    "df.film_studio.value_counts()"
   ]
  },
  {
   "cell_type": "markdown",
   "metadata": {
    "id": "-qVuMw-Qm_MQ"
   },
   "source": [
    "Ситуация примерно такая же, как и с названиями - много вариантов написания. Оставим как есть."
   ]
  },
  {
   "cell_type": "markdown",
   "metadata": {
    "id": "nUhYYx6ynkIG"
   },
   "source": [
    "##### Столбец production_country"
   ]
  },
  {
   "cell_type": "code",
   "execution_count": 41,
   "metadata": {
    "colab": {
     "base_uri": "https://localhost:8080/"
    },
    "id": "V--GC8a5nkIG",
    "outputId": "e5157db4-c5c3-46df-8bd3-fe3277d9b758"
   },
   "outputs": [
    {
     "data": {
      "text/plain": [
       "США                                       2081\n",
       "Россия                                    1266\n",
       "Франция                                    282\n",
       "Великобритания                             184\n",
       "Германия                                    95\n",
       "                                          ... \n",
       "Великобритания, Новая Зеландия               1\n",
       "Италия - Фрация - Бразилия - Германия        1\n",
       "США-Колумбия                                 1\n",
       "США - Великобритания - Канада - Швеция       1\n",
       "Испания - Аргентина - Индия - США            1\n",
       "Name: production_country, Length: 839, dtype: int64"
      ]
     },
     "execution_count": 41,
     "metadata": {},
     "output_type": "execute_result"
    }
   ],
   "source": [
    "df.production_country.value_counts()"
   ]
  },
  {
   "cell_type": "code",
   "execution_count": 42,
   "metadata": {
    "colab": {
     "base_uri": "https://localhost:8080/"
    },
    "id": "sN8ittfEq_hJ",
    "outputId": "20e9a1bd-c1d1-4205-c71d-d7de7b2a3c8c"
   },
   "outputs": [
    {
     "data": {
      "text/plain": [
       "США                     2081\n",
       "Россия                  1266\n",
       "Франция                  282\n",
       "Великобритания           184\n",
       "Германия                  95\n",
       "США - Великобритания      88\n",
       "Испания                   70\n",
       "Италия                    69\n",
       "Япония                    64\n",
       "Франция - Бельгия         55\n",
       "США - Канада              43\n",
       "Канада                    42\n",
       "Австралия                 39\n",
       "Великобритания - США      38\n",
       "США - Германия            29\n",
       "США-Австралия             29\n",
       "США - Франция             29\n",
       "КНР                       28\n",
       "Южная Корея               23\n",
       "США - Австралия           21\n",
       "Норвегия                  18\n",
       "Индия                     18\n",
       "США-Германия              18\n",
       "Дания                     18\n",
       "Франция - США             14\n",
       "Ирландия                  14\n",
       "США-Великобритания        13\n",
       "Швеция                    12\n",
       "Великобритания-США        12\n",
       "США - Новая Зеландия      12\n",
       "Name: production_country, dtype: int64"
      ]
     },
     "execution_count": 42,
     "metadata": {},
     "output_type": "execute_result"
    }
   ],
   "source": [
    "# Взглянем на первые 30 стран по количеству снятых фильмов\n",
    "df.production_country.value_counts().head(30)"
   ]
  },
  {
   "cell_type": "markdown",
   "metadata": {
    "id": "QTdhAevqnkIH"
   },
   "source": [
    "Если фильм снимался в нескольких странах, то это может записано в нескольких вариантах. С пробелами, без пробелов, через дефис, через запятую. Исправим это с помощью регулярного выражения."
   ]
  },
  {
   "cell_type": "code",
   "execution_count": 43,
   "metadata": {
    "id": "id4Szspuu3bJ"
   },
   "outputs": [],
   "source": [
    "# Напишем функцию для обработки столбца production_country\n",
    "def set_countries_str_to_format(string: str) -> str:\n",
    "  \"\"\"\n",
    "  На вход принимается строка\n",
    "  Строка обрабатывается по шаблону: символы, отличные от букв А-Я и а-я заменяются на ' - '\n",
    "  \"\"\"\n",
    "  try:\n",
    "    return re.sub('[^А-Яа-я]+', ' - ', string)\n",
    "  except:\n",
    "    print(f'Возникла ошибка при выполнении функции set_countries_str_to_format')"
   ]
  },
  {
   "cell_type": "code",
   "execution_count": 44,
   "metadata": {
    "colab": {
     "base_uri": "https://localhost:8080/"
    },
    "id": "kR5eq1iuwzu5",
    "outputId": "f688db37-ec15-4a16-c05b-29ee80b75f59"
   },
   "outputs": [
    {
     "data": {
      "text/plain": [
       "США                                                      2081\n",
       "Россия                                                   1266\n",
       "Франция                                                   282\n",
       "Великобритания                                            184\n",
       "США - Великобритания                                      102\n",
       "                                                         ... \n",
       "США - Франция - Канада - Германия - Австралия - Индия       1\n",
       "Финляндия - Германия                                        1\n",
       "Польша - Португалия - Франция - Великобритания              1\n",
       "Австрия - Франция - Германия                                1\n",
       "Великобритания - Гонконг - Венгрия - США - Ирландия         1\n",
       "Name: production_country, Length: 727, dtype: int64"
      ]
     },
     "execution_count": 44,
     "metadata": {},
     "output_type": "execute_result"
    }
   ],
   "source": [
    "# Применим функцию к столбцу production_country и посмотрим на результат\n",
    "df.production_country = df.production_country.apply(set_countries_str_to_format)\n",
    "df.production_country.value_counts()"
   ]
  },
  {
   "cell_type": "markdown",
   "metadata": {
    "id": "913kTBAayQI1"
   },
   "source": [
    "Всё получилось, продолжим дальше."
   ]
  },
  {
   "cell_type": "markdown",
   "metadata": {
    "id": "vz53zfw6yaUM"
   },
   "source": [
    "##### Столбец director"
   ]
  },
  {
   "cell_type": "code",
   "execution_count": 45,
   "metadata": {
    "colab": {
     "base_uri": "https://localhost:8080/"
    },
    "id": "q81lxsvHyaUN",
    "outputId": "3cdabe66-ce4b-4403-a1dd-e31b1b3840a0"
   },
   "outputs": [
    {
     "data": {
      "text/plain": [
       "Стивен Содерберг    17\n",
       "Ридли Скотт         16\n",
       "Тиль Швайгер        14\n",
       "Клинт Иствуд        13\n",
       "Вуди Аллен          13\n",
       "                    ..\n",
       "Джонатан Хопкинс     1\n",
       "Бигас Луна           1\n",
       "М.Барынин            1\n",
       "Томми О'Хавер        1\n",
       "Франк Манкузо        1\n",
       "Name: director, Length: 3880, dtype: int64"
      ]
     },
     "execution_count": 45,
     "metadata": {},
     "output_type": "execute_result"
    }
   ],
   "source": [
    "df.director.value_counts()"
   ]
  },
  {
   "cell_type": "markdown",
   "metadata": {
    "id": "NRHaFXdQzRHK"
   },
   "source": [
    "На первый взгляд неявных дубликатов, которые бросались бы в глаза, нет. Продолжим."
   ]
  },
  {
   "cell_type": "markdown",
   "metadata": {
    "id": "t2UiIde7zert"
   },
   "source": [
    "##### Столбец producer"
   ]
  },
  {
   "cell_type": "code",
   "execution_count": 46,
   "metadata": {
    "colab": {
     "base_uri": "https://localhost:8080/"
    },
    "id": "8C_CKhE8zert",
    "outputId": "134d5992-690f-449f-ba44-7e923499f994"
   },
   "outputs": [
    {
     "data": {
      "text/plain": [
       "С.Сельянов                                                                                                                                   18\n",
       "Кевин Фейги                                                                                                                                  11\n",
       "П.Смирнов                                                                                                                                    11\n",
       "Джерри Брукхаймер                                                                                                                            11\n",
       "Тони Майерс                                                                                                                                  11\n",
       "                                                                                                                                             ..\n",
       "Ли Клей                                                                                                                                       1\n",
       "Джейсон Блум, Дэн Клифтон, Питер Сафран                                                                                                       1\n",
       "Тим Биван, Джи МакБраун, Лиза Чейзин                                                                                                          1\n",
       "Ара Оганесян                                                                                                                                  1\n",
       "Д.Батсек, К.Ризер, М.Тирнаур, Д.Чигнелл, Г.Хай, А.Льюис, Н.О'Тул, Н.Стотт, М.Томпсон, Т.Бенджамин, Э.Фронтейн Брайант, Э.Шнапп, Р.Шареноу     1\n",
       "Name: producer, Length: 4778, dtype: int64"
      ]
     },
     "execution_count": 46,
     "metadata": {},
     "output_type": "execute_result"
    }
   ],
   "source": [
    "df.producer.value_counts()"
   ]
  },
  {
   "cell_type": "markdown",
   "metadata": {
    "id": "YGLuIoM5zke2"
   },
   "source": [
    "Аналогично колонке с режиссером: явных проблем не замечено."
   ]
  },
  {
   "cell_type": "markdown",
   "metadata": {
    "id": "xLK2I2tjzwLn"
   },
   "source": [
    "##### Столбец age_restriction"
   ]
  },
  {
   "cell_type": "code",
   "execution_count": 47,
   "metadata": {
    "colab": {
     "base_uri": "https://localhost:8080/"
    },
    "id": "qbNgI6ZSzwLo",
    "outputId": "b8851b57-df2b-4db6-b84a-59e7217fc596"
   },
   "outputs": [
    {
     "data": {
      "text/plain": [
       "«16+» - для детей старше 16 лет           2606\n",
       "«18+» - запрещено для детей               1492\n",
       "«12+» - для детей старше 12 лет           1083\n",
       "«6+» - для детей старше 6 лет              423\n",
       "«0+» - для любой зрительской аудитории     421\n",
       "Name: age_restriction, dtype: int64"
      ]
     },
     "execution_count": 47,
     "metadata": {},
     "output_type": "execute_result"
    }
   ],
   "source": [
    "df.age_restriction.value_counts()"
   ]
  },
  {
   "cell_type": "markdown",
   "metadata": {
    "id": "xgPjTMlbzwLo"
   },
   "source": [
    "Никаких лишних значений, всё корректно."
   ]
  },
  {
   "cell_type": "markdown",
   "metadata": {
    "id": "TWHy5Amfz6t1"
   },
   "source": [
    "##### Столбец financing_source"
   ]
  },
  {
   "cell_type": "code",
   "execution_count": 48,
   "metadata": {
    "colab": {
     "base_uri": "https://localhost:8080/"
    },
    "id": "DB8uoTOzz6t1",
    "outputId": "64579ee9-0585-4f7f-85d7-c69146f1e1fe"
   },
   "outputs": [
    {
     "data": {
      "text/plain": [
       "Отсутствует                         5711\n",
       "Министерство культуры                152\n",
       "Фонд кино                            141\n",
       "Министерство культуры, Фонд кино      21\n",
       "Name: financing_source, dtype: int64"
      ]
     },
     "execution_count": 48,
     "metadata": {},
     "output_type": "execute_result"
    }
   ],
   "source": [
    "df.financing_source.value_counts()"
   ]
  },
  {
   "cell_type": "markdown",
   "metadata": {
    "id": "u5QOw7sbz6t2"
   },
   "source": [
    "Так же никаких лишних значений, всё корректно."
   ]
  },
  {
   "cell_type": "markdown",
   "metadata": {
    "id": "I_p8Ojxa0Ffm"
   },
   "source": [
    "##### Столбец genres"
   ]
  },
  {
   "cell_type": "code",
   "execution_count": 49,
   "metadata": {
    "colab": {
     "base_uri": "https://localhost:8080/"
    },
    "id": "BBiB8aBg0Ffm",
    "outputId": "19ecc600-7a38-47b1-99ae-d2e73277ee70"
   },
   "outputs": [
    {
     "data": {
      "text/plain": [
       "драма                           398\n",
       "комедия                         322\n",
       "мелодрама,комедия               204\n",
       "драма,мелодрама,комедия         174\n",
       "драма,мелодрама                 148\n",
       "                               ... \n",
       "комедия,криминал,биография        1\n",
       "детектив,фантастика,криминал      1\n",
       "боевик,детектив                   1\n",
       "комедия,приключения,вестерн       1\n",
       "мюзикл,мелодрама,фэнтези          1\n",
       "Name: genres, Length: 718, dtype: int64"
      ]
     },
     "execution_count": 49,
     "metadata": {},
     "output_type": "execute_result"
    }
   ],
   "source": [
    "df.genres.value_counts()"
   ]
  },
  {
   "cell_type": "markdown",
   "metadata": {
    "id": "zGRRku4N0Ffn"
   },
   "source": [
    "Кажется, что значения здесь описаны корректно и в определенном формате. С дубликатами закончили."
   ]
  },
  {
   "cell_type": "markdown",
   "metadata": {
    "id": "Wk5mZ1Ms2JhB"
   },
   "source": [
    "#### Выводы по обработке дубликатов"
   ]
  },
  {
   "cell_type": "markdown",
   "metadata": {
    "id": "FvFgYMcS2OFv"
   },
   "source": [
    "Были обработаны явные и неявные дубликаты:\n",
    "\n",
    "\n",
    "1.   В строках 3788 и 3789 указаны разные фильмы, но прокатное удостоверение у них одно. Такая же ситуация в строках 4183-4184. Видимо результат ошибки. Заменили один из номеров в каждой паре прокатного удостоверения на свободное число.\n",
    "\n",
    "2.   Среди неявных дубликатов было обнаружено:\n",
    "\n",
    "    1.   Значения с лишними пробелами в столбце `type`. Отформатировано.\n",
    "    2.   Страны в столбце `production_country` записаны в нескольких вариантах. С пробелами, без пробелов, через дефис, через запятую. Исправили это с помощью регулярного выражения и привели к единому формату.\n",
    "\n",
    "\n",
    "\n"
   ]
  },
  {
   "cell_type": "markdown",
   "metadata": {
    "id": "aF8LCGXH9DG-"
   },
   "source": [
    "### Изучение столбцов с количественными данными"
   ]
  },
  {
   "cell_type": "markdown",
   "metadata": {
    "id": "cOIlRIpy9OjG"
   },
   "source": [
    "В этом разделе мы изучим столбцы, которые содержат количественные данные. Попробуем найти аномалии и обработать их"
   ]
  },
  {
   "cell_type": "code",
   "execution_count": 50,
   "metadata": {
    "colab": {
     "base_uri": "https://localhost:8080/"
    },
    "id": "Nr4DMgX69-9f",
    "outputId": "8a6a2537-65b8-45dd-affa-d326aee366c9"
   },
   "outputs": [
    {
     "data": {
      "text/plain": [
       "title                                 object\n",
       "pu_number                              int64\n",
       "show_start_date          datetime64[ns, UTC]\n",
       "type                                  object\n",
       "film_studio                           object\n",
       "production_country                    object\n",
       "director                              object\n",
       "producer                              object\n",
       "age_restriction                       object\n",
       "refundable_support                   float64\n",
       "nonrefundable_support                float64\n",
       "budget                               float64\n",
       "financing_source                      object\n",
       "ratings                              float64\n",
       "genres                                object\n",
       "box_office                           float64\n",
       "dtype: object"
      ]
     },
     "execution_count": 50,
     "metadata": {},
     "output_type": "execute_result"
    }
   ],
   "source": [
    "df.dtypes"
   ]
  },
  {
   "cell_type": "markdown",
   "metadata": {
    "id": "kKni3hXg-aOa"
   },
   "source": [
    "К колонкам с количественным типом данных относятся следующие колонки:\n",
    "\n",
    "\n",
    "* `refundable_support`\n",
    "* `nonrefundable_support`\n",
    "* `budget`\n",
    "* `ratings`\n",
    "* `box_office`\n",
    "\n",
    "Колонка `pu_number` хоть и содержит числа, относится к категориальным переменным, т.к. каждая строка принимает только одно, неповторяющееся, значение.\n",
    "\n",
    "С колонкой `ratings` мы уже взаимодействовали в разделе по изменению типов данных.\n",
    "\n"
   ]
  },
  {
   "cell_type": "markdown",
   "metadata": {
    "id": "nQtt036J_gJV"
   },
   "source": [
    "#### Столбец refundable_support"
   ]
  },
  {
   "cell_type": "markdown",
   "metadata": {
    "id": "PX5yPCvr_9cw"
   },
   "source": [
    "Взглянем на содержимое колонки поподробнее."
   ]
  },
  {
   "cell_type": "code",
   "execution_count": 51,
   "metadata": {
    "colab": {
     "base_uri": "https://localhost:8080/"
    },
    "id": "iche3qx0_lGF",
    "outputId": "6a2ba1e9-305e-4fd0-8bb1-55cd8731549b"
   },
   "outputs": [
    {
     "data": {
      "text/plain": [
       "count    3.140000e+02\n",
       "mean     1.216242e+07\n",
       "std      2.538094e+07\n",
       "min      0.000000e+00\n",
       "25%      0.000000e+00\n",
       "50%      0.000000e+00\n",
       "75%      1.500000e+07\n",
       "max      1.800000e+08\n",
       "Name: refundable_support, dtype: float64"
      ]
     },
     "execution_count": 51,
     "metadata": {},
     "output_type": "execute_result"
    }
   ],
   "source": [
    "df.refundable_support.describe()"
   ]
  },
  {
   "cell_type": "code",
   "execution_count": 52,
   "metadata": {
    "colab": {
     "base_uri": "https://localhost:8080/"
    },
    "id": "uS5BJSav_uPB",
    "outputId": "aa4f9c82-c50b-48c8-e40c-3ad020a02291"
   },
   "outputs": [
    {
     "data": {
      "text/plain": [
       "0.0            207\n",
       "20000000.0      11\n",
       "10000000.0      10\n",
       "15000000.0       9\n",
       "5000000.0        9\n",
       "40000000.0       8\n",
       "25000000.0       8\n",
       "30000000.0       7\n",
       "50000000.0       7\n",
       "60000000.0       6\n",
       "100000000.0      5\n",
       "110000000.0      2\n",
       "55000000.0       2\n",
       "19000000.0       2\n",
       "75000000.0       2\n",
       "7153119.0        1\n",
       "35000000.0       1\n",
       "9000000.0        1\n",
       "150000000.0      1\n",
       "36000000.0       1\n",
       "29000000.0       1\n",
       "17000000.0       1\n",
       "180000000.0      1\n",
       "115000000.0      1\n",
       "41000000.0       1\n",
       "26000000.0       1\n",
       "7000000.0        1\n",
       "7346881.0        1\n",
       "3500000.0        1\n",
       "8000000.0        1\n",
       "38000000.0       1\n",
       "44000000.0       1\n",
       "28000000.0       1\n",
       "80000000.0       1\n",
       "Name: refundable_support, dtype: int64"
      ]
     },
     "execution_count": 52,
     "metadata": {},
     "output_type": "execute_result"
    }
   ],
   "source": [
    "df.refundable_support.value_counts()"
   ]
  },
  {
   "cell_type": "markdown",
   "metadata": {
    "id": "Lizbmj0LATUi"
   },
   "source": [
    "Каких-либо аномальных значений не наблюдается. Присутствует две сотни нулевых значений, т.е. финансирования от Минкульта на данные картины не было. Учитывая это и то, что у нас есть пропуски в данном столбце, заполним пропуски нулями."
   ]
  },
  {
   "cell_type": "code",
   "execution_count": 53,
   "metadata": {
    "colab": {
     "base_uri": "https://localhost:8080/"
    },
    "id": "W8YD-97qA787",
    "outputId": "794ec05d-f7d5-4e10-c7d0-8ec0e1d15f20"
   },
   "outputs": [
    {
     "data": {
      "text/plain": [
       "title                       0\n",
       "pu_number                   0\n",
       "show_start_date             0\n",
       "type                        0\n",
       "film_studio                 0\n",
       "production_country          0\n",
       "director                    0\n",
       "producer                    0\n",
       "age_restriction             0\n",
       "refundable_support          0\n",
       "nonrefundable_support    5711\n",
       "budget                   5711\n",
       "financing_source            0\n",
       "ratings                     0\n",
       "genres                      0\n",
       "box_office               3225\n",
       "dtype: int64"
      ]
     },
     "execution_count": 53,
     "metadata": {},
     "output_type": "execute_result"
    }
   ],
   "source": [
    "# Заполним пропуски нулями и взглянем на количество пропусков по всему датасету\n",
    "df.refundable_support = df.refundable_support.fillna(0)\n",
    "df.isna().sum()"
   ]
  },
  {
   "cell_type": "markdown",
   "metadata": {
    "id": "o1CSCHPyDmdy"
   },
   "source": [
    "#### Столбец nonrefundable_support"
   ]
  },
  {
   "cell_type": "markdown",
   "metadata": {
    "id": "QHaiHWWkDmdz"
   },
   "source": [
    "Взглянем на содержимое колонки поподробнее."
   ]
  },
  {
   "cell_type": "code",
   "execution_count": 54,
   "metadata": {
    "colab": {
     "base_uri": "https://localhost:8080/"
    },
    "id": "lmmcZFcXDmd0",
    "outputId": "0f6295f2-c823-4d47-a301-ef33be3142a1"
   },
   "outputs": [
    {
     "data": {
      "text/plain": [
       "count    3.140000e+02\n",
       "mean     4.940356e+07\n",
       "std      6.123714e+07\n",
       "min      0.000000e+00\n",
       "25%      2.500000e+07\n",
       "50%      3.000000e+07\n",
       "75%      4.112500e+07\n",
       "max      4.000000e+08\n",
       "Name: nonrefundable_support, dtype: float64"
      ]
     },
     "execution_count": 54,
     "metadata": {},
     "output_type": "execute_result"
    }
   ],
   "source": [
    "df.nonrefundable_support.describe()"
   ]
  },
  {
   "cell_type": "code",
   "execution_count": 55,
   "metadata": {
    "colab": {
     "base_uri": "https://localhost:8080/"
    },
    "id": "LBJG7i4QDmd1",
    "outputId": "864027a9-149c-47d0-cce8-bc918231b03c"
   },
   "outputs": [
    {
     "data": {
      "text/plain": [
       "25000000.0     50\n",
       "30000000.0     42\n",
       "35000000.0     27\n",
       "40000000.0     26\n",
       "20000000.0     19\n",
       "               ..\n",
       "29000000.0      1\n",
       "11520000.0      1\n",
       "110000000.0     1\n",
       "3000000.0       1\n",
       "25900000.0      1\n",
       "Name: nonrefundable_support, Length: 74, dtype: int64"
      ]
     },
     "execution_count": 55,
     "metadata": {},
     "output_type": "execute_result"
    }
   ],
   "source": [
    "df.nonrefundable_support.value_counts()"
   ]
  },
  {
   "cell_type": "markdown",
   "metadata": {
    "id": "Ea4GF0IkDukk"
   },
   "source": [
    "Никаких аномалий не наблюдается, так же заполним пропуски нулями."
   ]
  },
  {
   "cell_type": "code",
   "execution_count": 56,
   "metadata": {
    "colab": {
     "base_uri": "https://localhost:8080/"
    },
    "id": "xTbIX40lEvdq",
    "outputId": "c5db92d0-3e04-4ff5-958d-96314978b02a"
   },
   "outputs": [
    {
     "data": {
      "text/plain": [
       "title                       0\n",
       "pu_number                   0\n",
       "show_start_date             0\n",
       "type                        0\n",
       "film_studio                 0\n",
       "production_country          0\n",
       "director                    0\n",
       "producer                    0\n",
       "age_restriction             0\n",
       "refundable_support          0\n",
       "nonrefundable_support       0\n",
       "budget                   5711\n",
       "financing_source            0\n",
       "ratings                     0\n",
       "genres                      0\n",
       "box_office               3225\n",
       "dtype: int64"
      ]
     },
     "execution_count": 56,
     "metadata": {},
     "output_type": "execute_result"
    }
   ],
   "source": [
    "df.nonrefundable_support = df.nonrefundable_support.fillna(0)\n",
    "df.isna().sum()"
   ]
  },
  {
   "cell_type": "markdown",
   "metadata": {
    "id": "Yxpx-rwYE1cU"
   },
   "source": [
    "#### Столбец budget"
   ]
  },
  {
   "cell_type": "markdown",
   "metadata": {
    "id": "RYSN4I6zE1cU"
   },
   "source": [
    "Взглянем на содержимое колонки поподробнее."
   ]
  },
  {
   "cell_type": "code",
   "execution_count": 57,
   "metadata": {
    "colab": {
     "base_uri": "https://localhost:8080/"
    },
    "id": "0CsaWjGxE1cV",
    "outputId": "55b7cbee-7543-455f-9ccb-cc92b99e8d78"
   },
   "outputs": [
    {
     "data": {
      "text/plain": [
       "count    3.140000e+02\n",
       "mean     1.306681e+08\n",
       "std      1.929768e+08\n",
       "min      0.000000e+00\n",
       "25%      4.206313e+07\n",
       "50%      7.015250e+07\n",
       "75%      1.500000e+08\n",
       "max      2.305074e+09\n",
       "Name: budget, dtype: float64"
      ]
     },
     "execution_count": 57,
     "metadata": {},
     "output_type": "execute_result"
    }
   ],
   "source": [
    "df.budget.describe()"
   ]
  },
  {
   "cell_type": "code",
   "execution_count": 58,
   "metadata": {
    "colab": {
     "base_uri": "https://localhost:8080/"
    },
    "id": "fFIyxnuDE1cW",
    "outputId": "9bc5cc95-5cdd-4c28-fbba-c9079a4f5402"
   },
   "outputs": [
    {
     "data": {
      "text/plain": [
       "0.0            16\n",
       "38000000.0      6\n",
       "80000000.0      4\n",
       "50000000.0      4\n",
       "40000000.0      3\n",
       "               ..\n",
       "57874375.0      1\n",
       "55404963.0      1\n",
       "210405981.0     1\n",
       "219398491.0     1\n",
       "42252509.0      1\n",
       "Name: budget, Length: 276, dtype: int64"
      ]
     },
     "execution_count": 58,
     "metadata": {},
     "output_type": "execute_result"
    }
   ],
   "source": [
    "df.budget.value_counts()"
   ]
  },
  {
   "cell_type": "markdown",
   "metadata": {
    "id": "0w4x5RlDF-OD"
   },
   "source": [
    "Никаких аномалий не наблюдается, так же заполним пропуски нулями."
   ]
  },
  {
   "cell_type": "code",
   "execution_count": 59,
   "metadata": {
    "colab": {
     "base_uri": "https://localhost:8080/"
    },
    "id": "Q-Yt_slGF-OE",
    "outputId": "c9e2ad9c-f590-4329-8262-497534a71fe2"
   },
   "outputs": [
    {
     "data": {
      "text/plain": [
       "title                       0\n",
       "pu_number                   0\n",
       "show_start_date             0\n",
       "type                        0\n",
       "film_studio                 0\n",
       "production_country          0\n",
       "director                    0\n",
       "producer                    0\n",
       "age_restriction             0\n",
       "refundable_support          0\n",
       "nonrefundable_support       0\n",
       "budget                      0\n",
       "financing_source            0\n",
       "ratings                     0\n",
       "genres                      0\n",
       "box_office               3225\n",
       "dtype: int64"
      ]
     },
     "execution_count": 59,
     "metadata": {},
     "output_type": "execute_result"
    }
   ],
   "source": [
    "df.budget = df.budget.fillna(0)\n",
    "df.isna().sum()"
   ]
  },
  {
   "cell_type": "markdown",
   "metadata": {
    "id": "b1uz9VCnGC60"
   },
   "source": [
    "#### Столбец box_office"
   ]
  },
  {
   "cell_type": "markdown",
   "metadata": {
    "id": "Y-fXn81IGC61"
   },
   "source": [
    "Взглянем на содержимое колонки поподробнее."
   ]
  },
  {
   "cell_type": "code",
   "execution_count": 60,
   "metadata": {
    "colab": {
     "base_uri": "https://localhost:8080/"
    },
    "id": "BFZlxZDyGC61",
    "outputId": "52b10470-ed3e-4f7e-ef79-f190818ec785"
   },
   "outputs": [
    {
     "data": {
      "text/plain": [
       "count    2.800000e+03\n",
       "mean     8.291192e+07\n",
       "std      2.501326e+08\n",
       "min      0.000000e+00\n",
       "25%      1.488522e+05\n",
       "50%      2.963171e+06\n",
       "75%      3.153360e+07\n",
       "max      3.073569e+09\n",
       "Name: box_office, dtype: float64"
      ]
     },
     "execution_count": 60,
     "metadata": {},
     "output_type": "execute_result"
    }
   ],
   "source": [
    "df.box_office.describe()"
   ]
  },
  {
   "cell_type": "code",
   "execution_count": 61,
   "metadata": {
    "colab": {
     "base_uri": "https://localhost:8080/"
    },
    "id": "RQ_MH2cEGC62",
    "outputId": "ce682a74-0ba0-4e86-9328-6cb04a490e40"
   },
   "outputs": [
    {
     "data": {
      "text/plain": [
       "0.0           17\n",
       "200.0         10\n",
       "300.0          9\n",
       "250.0          8\n",
       "600.0          7\n",
       "              ..\n",
       "60840.0        1\n",
       "1154562.5      1\n",
       "4827.0         1\n",
       "2525662.3      1\n",
       "52984377.0     1\n",
       "Name: box_office, Length: 2636, dtype: int64"
      ]
     },
     "execution_count": 61,
     "metadata": {},
     "output_type": "execute_result"
    }
   ],
   "source": [
    "df.box_office.value_counts()"
   ]
  },
  {
   "cell_type": "markdown",
   "metadata": {
    "id": "t7X2aOqpGC62"
   },
   "source": [
    "Никаких аномалий не наблюдается, так же заполним пропуски нулями."
   ]
  },
  {
   "cell_type": "code",
   "execution_count": 62,
   "metadata": {
    "colab": {
     "base_uri": "https://localhost:8080/"
    },
    "id": "WS8028nhGC63",
    "outputId": "244112ca-918c-4d5b-dc39-3ff5dd2089f1"
   },
   "outputs": [
    {
     "data": {
      "text/plain": [
       "title                    0\n",
       "pu_number                0\n",
       "show_start_date          0\n",
       "type                     0\n",
       "film_studio              0\n",
       "production_country       0\n",
       "director                 0\n",
       "producer                 0\n",
       "age_restriction          0\n",
       "refundable_support       0\n",
       "nonrefundable_support    0\n",
       "budget                   0\n",
       "financing_source         0\n",
       "ratings                  0\n",
       "genres                   0\n",
       "box_office               0\n",
       "dtype: int64"
      ]
     },
     "execution_count": 62,
     "metadata": {},
     "output_type": "execute_result"
    }
   ],
   "source": [
    "df.box_office = df.box_office.fillna(0)\n",
    "df.isna().sum()"
   ]
  },
  {
   "cell_type": "markdown",
   "metadata": {
    "id": "wlPZwvL3I5y8"
   },
   "source": [
    "#### Выводы по изучению столбцов с количественными данными"
   ]
  },
  {
   "cell_type": "markdown",
   "metadata": {
    "id": "pWYyUIBvI4y7"
   },
   "source": [
    "Аномалий не обнаружено, пропуски заполнены нулями."
   ]
  },
  {
   "cell_type": "markdown",
   "metadata": {
    "id": "zMl_OJkmJrF-"
   },
   "source": [
    "### Добавление новых столбцов"
   ]
  },
  {
   "cell_type": "markdown",
   "metadata": {
    "id": "4NBTFq3Zzjbr"
   },
   "source": [
    "Добавим следующие столбцы:\n",
    "* Год проката\n",
    "* Имя и фамилия главного режиссёра\n",
    "* Основной жанр фильма\n",
    "* Доля гос.поддержки в общем бюджете фильма"
   ]
  },
  {
   "cell_type": "markdown",
   "metadata": {
    "id": "84uOtZFW0IC6"
   },
   "source": [
    "#### Год проката"
   ]
  },
  {
   "cell_type": "code",
   "execution_count": 63,
   "metadata": {
    "colab": {
     "base_uri": "https://localhost:8080/",
     "height": 537
    },
    "id": "_PhHQach0mx-",
    "outputId": "4249b663-447a-4e8c-d09c-eb60448a9b32"
   },
   "outputs": [
    {
     "data": {
      "text/html": [
       "<div>\n",
       "<style scoped>\n",
       "    .dataframe tbody tr th:only-of-type {\n",
       "        vertical-align: middle;\n",
       "    }\n",
       "\n",
       "    .dataframe tbody tr th {\n",
       "        vertical-align: top;\n",
       "    }\n",
       "\n",
       "    .dataframe thead th {\n",
       "        text-align: right;\n",
       "    }\n",
       "</style>\n",
       "<table border=\"1\" class=\"dataframe\">\n",
       "  <thead>\n",
       "    <tr style=\"text-align: right;\">\n",
       "      <th></th>\n",
       "      <th>title</th>\n",
       "      <th>pu_number</th>\n",
       "      <th>show_start_date</th>\n",
       "      <th>type</th>\n",
       "      <th>film_studio</th>\n",
       "      <th>production_country</th>\n",
       "      <th>director</th>\n",
       "      <th>producer</th>\n",
       "      <th>age_restriction</th>\n",
       "      <th>refundable_support</th>\n",
       "      <th>nonrefundable_support</th>\n",
       "      <th>budget</th>\n",
       "      <th>financing_source</th>\n",
       "      <th>ratings</th>\n",
       "      <th>genres</th>\n",
       "      <th>box_office</th>\n",
       "      <th>show_start_year</th>\n",
       "    </tr>\n",
       "  </thead>\n",
       "  <tbody>\n",
       "    <tr>\n",
       "      <th>0</th>\n",
       "      <td>Открытый простор</td>\n",
       "      <td>221048915</td>\n",
       "      <td>2015-11-27 12:00:00+00:00</td>\n",
       "      <td>Художественный</td>\n",
       "      <td>Тачстоун Пикчерз, Кобальт Пикчерз, Бикон Пикче...</td>\n",
       "      <td>США</td>\n",
       "      <td>Кевин Костнер</td>\n",
       "      <td>Дэвид Валдес, Кевин Костнер, Джейк Эбертс</td>\n",
       "      <td>«18+» - запрещено для детей</td>\n",
       "      <td>0.0</td>\n",
       "      <td>0.0</td>\n",
       "      <td>0.0</td>\n",
       "      <td>Отсутствует</td>\n",
       "      <td>7.2</td>\n",
       "      <td>боевик,драма,мелодрама</td>\n",
       "      <td>0.0</td>\n",
       "      <td>2015</td>\n",
       "    </tr>\n",
       "    <tr>\n",
       "      <th>1</th>\n",
       "      <td>Особо опасен</td>\n",
       "      <td>221038416</td>\n",
       "      <td>2016-10-10 12:00:00+00:00</td>\n",
       "      <td>Художественный</td>\n",
       "      <td>Юниверсал Пикчерз, Кикстарт Продакшнз, Марк Пл...</td>\n",
       "      <td>США</td>\n",
       "      <td>Тимур Бекмамбетов</td>\n",
       "      <td>Джим Лемли, Джейсон Нетер, Марк Е.Платт, Яйн Смит</td>\n",
       "      <td>«18+» - запрещено для детей</td>\n",
       "      <td>0.0</td>\n",
       "      <td>0.0</td>\n",
       "      <td>0.0</td>\n",
       "      <td>Отсутствует</td>\n",
       "      <td>6.8</td>\n",
       "      <td>фантастика,боевик,триллер</td>\n",
       "      <td>0.0</td>\n",
       "      <td>2016</td>\n",
       "    </tr>\n",
       "    <tr>\n",
       "      <th>2</th>\n",
       "      <td>Особо опасен</td>\n",
       "      <td>221026916</td>\n",
       "      <td>2016-06-10 12:00:00+00:00</td>\n",
       "      <td>Художественный</td>\n",
       "      <td>Юниверсал Пикчерз, Кикстарт Продакшнз, Марк Пл...</td>\n",
       "      <td>США</td>\n",
       "      <td>Тимур Бекмамбетов</td>\n",
       "      <td>Джим Лемли, Джейсон Нетер, Марк Е.Платт, Яйн Смит</td>\n",
       "      <td>«18+» - запрещено для детей</td>\n",
       "      <td>0.0</td>\n",
       "      <td>0.0</td>\n",
       "      <td>0.0</td>\n",
       "      <td>Отсутствует</td>\n",
       "      <td>6.8</td>\n",
       "      <td>фантастика,боевик,триллер</td>\n",
       "      <td>0.0</td>\n",
       "      <td>2016</td>\n",
       "    </tr>\n",
       "  </tbody>\n",
       "</table>\n",
       "</div>"
      ],
      "text/plain": [
       "              title  pu_number           show_start_date            type  \\\n",
       "0  Открытый простор  221048915 2015-11-27 12:00:00+00:00  Художественный   \n",
       "1      Особо опасен  221038416 2016-10-10 12:00:00+00:00  Художественный   \n",
       "2      Особо опасен  221026916 2016-06-10 12:00:00+00:00  Художественный   \n",
       "\n",
       "                                         film_studio production_country  \\\n",
       "0  Тачстоун Пикчерз, Кобальт Пикчерз, Бикон Пикче...                США   \n",
       "1  Юниверсал Пикчерз, Кикстарт Продакшнз, Марк Пл...                США   \n",
       "2  Юниверсал Пикчерз, Кикстарт Продакшнз, Марк Пл...                США   \n",
       "\n",
       "            director                                           producer  \\\n",
       "0      Кевин Костнер          Дэвид Валдес, Кевин Костнер, Джейк Эбертс   \n",
       "1  Тимур Бекмамбетов  Джим Лемли, Джейсон Нетер, Марк Е.Платт, Яйн Смит   \n",
       "2  Тимур Бекмамбетов  Джим Лемли, Джейсон Нетер, Марк Е.Платт, Яйн Смит   \n",
       "\n",
       "               age_restriction  refundable_support  nonrefundable_support  \\\n",
       "0  «18+» - запрещено для детей                 0.0                    0.0   \n",
       "1  «18+» - запрещено для детей                 0.0                    0.0   \n",
       "2  «18+» - запрещено для детей                 0.0                    0.0   \n",
       "\n",
       "   budget financing_source  ratings                     genres  box_office  \\\n",
       "0     0.0      Отсутствует      7.2     боевик,драма,мелодрама         0.0   \n",
       "1     0.0      Отсутствует      6.8  фантастика,боевик,триллер         0.0   \n",
       "2     0.0      Отсутствует      6.8  фантастика,боевик,триллер         0.0   \n",
       "\n",
       "   show_start_year  \n",
       "0             2015  \n",
       "1             2016  \n",
       "2             2016  "
      ]
     },
     "execution_count": 63,
     "metadata": {},
     "output_type": "execute_result"
    }
   ],
   "source": [
    "# Добавим столбец с годом проката и проверим результат\n",
    "df['show_start_year'] = pd.DatetimeIndex(df['show_start_date']).year\n",
    "df.head(3)"
   ]
  },
  {
   "cell_type": "markdown",
   "metadata": {
    "id": "gqrIHnrZ17-P"
   },
   "source": [
    "#### Имя и фамилия главного режиссёра"
   ]
  },
  {
   "cell_type": "code",
   "execution_count": 64,
   "metadata": {
    "colab": {
     "base_uri": "https://localhost:8080/",
     "height": 990
    },
    "id": "D_LTEkGe2kho",
    "outputId": "77931161-a1af-429f-f063-08425cca4426"
   },
   "outputs": [
    {
     "data": {
      "text/html": [
       "<div>\n",
       "<style scoped>\n",
       "    .dataframe tbody tr th:only-of-type {\n",
       "        vertical-align: middle;\n",
       "    }\n",
       "\n",
       "    .dataframe tbody tr th {\n",
       "        vertical-align: top;\n",
       "    }\n",
       "\n",
       "    .dataframe thead th {\n",
       "        text-align: right;\n",
       "    }\n",
       "</style>\n",
       "<table border=\"1\" class=\"dataframe\">\n",
       "  <thead>\n",
       "    <tr style=\"text-align: right;\">\n",
       "      <th></th>\n",
       "      <th>director</th>\n",
       "      <th>main_director</th>\n",
       "    </tr>\n",
       "  </thead>\n",
       "  <tbody>\n",
       "    <tr>\n",
       "      <th>0</th>\n",
       "      <td>Кевин Костнер</td>\n",
       "      <td>Кевин Костнер</td>\n",
       "    </tr>\n",
       "    <tr>\n",
       "      <th>1</th>\n",
       "      <td>Тимур Бекмамбетов</td>\n",
       "      <td>Тимур Бекмамбетов</td>\n",
       "    </tr>\n",
       "    <tr>\n",
       "      <th>2</th>\n",
       "      <td>Тимур Бекмамбетов</td>\n",
       "      <td>Тимур Бекмамбетов</td>\n",
       "    </tr>\n",
       "    <tr>\n",
       "      <th>3</th>\n",
       "      <td>Тимур Бекмамбетов</td>\n",
       "      <td>Тимур Бекмамбетов</td>\n",
       "    </tr>\n",
       "    <tr>\n",
       "      <th>4</th>\n",
       "      <td>Джон Туртурро</td>\n",
       "      <td>Джон Туртурро</td>\n",
       "    </tr>\n",
       "    <tr>\n",
       "      <th>5</th>\n",
       "      <td>Эрик Беснард</td>\n",
       "      <td>Эрик Беснард</td>\n",
       "    </tr>\n",
       "    <tr>\n",
       "      <th>6</th>\n",
       "      <td>Пол Грингросс</td>\n",
       "      <td>Пол Грингросс</td>\n",
       "    </tr>\n",
       "    <tr>\n",
       "      <th>7</th>\n",
       "      <td>Клинт Иствуд</td>\n",
       "      <td>Клинт Иствуд</td>\n",
       "    </tr>\n",
       "    <tr>\n",
       "      <th>8</th>\n",
       "      <td>Фернанду Мейрелльеш</td>\n",
       "      <td>Фернанду Мейрелльеш</td>\n",
       "    </tr>\n",
       "    <tr>\n",
       "      <th>9</th>\n",
       "      <td>Майк Фиггис</td>\n",
       "      <td>Майк Фиггис</td>\n",
       "    </tr>\n",
       "    <tr>\n",
       "      <th>10</th>\n",
       "      <td>Лассе Халлстрем</td>\n",
       "      <td>Лассе Халлстрем</td>\n",
       "    </tr>\n",
       "    <tr>\n",
       "      <th>11</th>\n",
       "      <td>Эндрю Никкол</td>\n",
       "      <td>Эндрю Никкол</td>\n",
       "    </tr>\n",
       "    <tr>\n",
       "      <th>12</th>\n",
       "      <td>Джонатан Кинг</td>\n",
       "      <td>Джонатан Кинг</td>\n",
       "    </tr>\n",
       "    <tr>\n",
       "      <th>13</th>\n",
       "      <td>Даниэль Робишо</td>\n",
       "      <td>Даниэль Робишо</td>\n",
       "    </tr>\n",
       "    <tr>\n",
       "      <th>14</th>\n",
       "      <td>Грегори Хоблит</td>\n",
       "      <td>Грегори Хоблит</td>\n",
       "    </tr>\n",
       "    <tr>\n",
       "      <th>15</th>\n",
       "      <td>Крис Нунан</td>\n",
       "      <td>Крис Нунан</td>\n",
       "    </tr>\n",
       "    <tr>\n",
       "      <th>16</th>\n",
       "      <td>Стивен Фрирз</td>\n",
       "      <td>Стивен Фрирз</td>\n",
       "    </tr>\n",
       "    <tr>\n",
       "      <th>17</th>\n",
       "      <td>Йэн Софтли</td>\n",
       "      <td>Йэн Софтли</td>\n",
       "    </tr>\n",
       "    <tr>\n",
       "      <th>18</th>\n",
       "      <td>Найл Джонсон</td>\n",
       "      <td>Найл Джонсон</td>\n",
       "    </tr>\n",
       "    <tr>\n",
       "      <th>19</th>\n",
       "      <td>Роб Райнер</td>\n",
       "      <td>Роб Райнер</td>\n",
       "    </tr>\n",
       "    <tr>\n",
       "      <th>20</th>\n",
       "      <td>Роб Райнер</td>\n",
       "      <td>Роб Райнер</td>\n",
       "    </tr>\n",
       "    <tr>\n",
       "      <th>21</th>\n",
       "      <td>Бен Янгер</td>\n",
       "      <td>Бен Янгер</td>\n",
       "    </tr>\n",
       "    <tr>\n",
       "      <th>22</th>\n",
       "      <td>Оливье Маршал</td>\n",
       "      <td>Оливье Маршал</td>\n",
       "    </tr>\n",
       "    <tr>\n",
       "      <th>23</th>\n",
       "      <td>Иоахим Реннинг, Эспен Сандберг</td>\n",
       "      <td>Иоахим Реннинг</td>\n",
       "    </tr>\n",
       "    <tr>\n",
       "      <th>24</th>\n",
       "      <td>Питер Сигал</td>\n",
       "      <td>Питер Сигал</td>\n",
       "    </tr>\n",
       "    <tr>\n",
       "      <th>25</th>\n",
       "      <td>Дрю Дэйуолт, Дэвид Шнейдер</td>\n",
       "      <td>Дрю Дэйуолт</td>\n",
       "    </tr>\n",
       "    <tr>\n",
       "      <th>26</th>\n",
       "      <td>Айрон Блейз, Роберт Уокер</td>\n",
       "      <td>Айрон Блейз</td>\n",
       "    </tr>\n",
       "    <tr>\n",
       "      <th>27</th>\n",
       "      <td>Тиль Швайгер</td>\n",
       "      <td>Тиль Швайгер</td>\n",
       "    </tr>\n",
       "    <tr>\n",
       "      <th>28</th>\n",
       "      <td>Джеймс Айвори</td>\n",
       "      <td>Джеймс Айвори</td>\n",
       "    </tr>\n",
       "    <tr>\n",
       "      <th>29</th>\n",
       "      <td>Майк Слии</td>\n",
       "      <td>Майк Слии</td>\n",
       "    </tr>\n",
       "  </tbody>\n",
       "</table>\n",
       "</div>"
      ],
      "text/plain": [
       "                          director        main_director\n",
       "0                    Кевин Костнер        Кевин Костнер\n",
       "1                Тимур Бекмамбетов    Тимур Бекмамбетов\n",
       "2                Тимур Бекмамбетов    Тимур Бекмамбетов\n",
       "3                Тимур Бекмамбетов    Тимур Бекмамбетов\n",
       "4                    Джон Туртурро        Джон Туртурро\n",
       "5                     Эрик Беснард         Эрик Беснард\n",
       "6                    Пол Грингросс        Пол Грингросс\n",
       "7                     Клинт Иствуд         Клинт Иствуд\n",
       "8              Фернанду Мейрелльеш  Фернанду Мейрелльеш\n",
       "9                      Майк Фиггис          Майк Фиггис\n",
       "10                 Лассе Халлстрем      Лассе Халлстрем\n",
       "11                    Эндрю Никкол         Эндрю Никкол\n",
       "12                   Джонатан Кинг        Джонатан Кинг\n",
       "13                  Даниэль Робишо       Даниэль Робишо\n",
       "14                  Грегори Хоблит       Грегори Хоблит\n",
       "15                      Крис Нунан           Крис Нунан\n",
       "16                    Стивен Фрирз         Стивен Фрирз\n",
       "17                      Йэн Софтли           Йэн Софтли\n",
       "18                    Найл Джонсон         Найл Джонсон\n",
       "19                      Роб Райнер           Роб Райнер\n",
       "20                      Роб Райнер           Роб Райнер\n",
       "21                       Бен Янгер            Бен Янгер\n",
       "22                   Оливье Маршал        Оливье Маршал\n",
       "23  Иоахим Реннинг, Эспен Сандберг       Иоахим Реннинг\n",
       "24                     Питер Сигал          Питер Сигал\n",
       "25      Дрю Дэйуолт, Дэвид Шнейдер          Дрю Дэйуолт\n",
       "26       Айрон Блейз, Роберт Уокер          Айрон Блейз\n",
       "27                    Тиль Швайгер         Тиль Швайгер\n",
       "28                   Джеймс Айвори        Джеймс Айвори\n",
       "29                       Майк Слии            Майк Слии"
      ]
     },
     "execution_count": 64,
     "metadata": {},
     "output_type": "execute_result"
    }
   ],
   "source": [
    "# Напишем простую функцию для выделения имени и фамилии главного режиссёра\n",
    "# Применим её и проверим результат\n",
    "def get_main_director_name(row):\n",
    "  \"\"\"\n",
    "  Функция принимает строку датасета\n",
    "  Разделяет значение в столбце director по запятой\n",
    "  И возвращает нулевой элемент полученного списка\n",
    "  \"\"\"\n",
    "  main_director = row.director.split(',')[0]\n",
    "  return main_director\n",
    "\n",
    "df['main_director'] = df.apply(get_main_director_name, axis=1)\n",
    "df.loc[:, ('director', 'main_director')].head(30)"
   ]
  },
  {
   "cell_type": "markdown",
   "metadata": {
    "id": "7GpyLdFcD1pM"
   },
   "source": [
    "#### Основной жанр фильма"
   ]
  },
  {
   "cell_type": "code",
   "execution_count": 65,
   "metadata": {
    "colab": {
     "base_uri": "https://localhost:8080/",
     "height": 363
    },
    "id": "P_oc-QpTD9-5",
    "outputId": "590ad56b-11f7-46a5-a2e5-6522583389d5"
   },
   "outputs": [
    {
     "data": {
      "text/html": [
       "<div>\n",
       "<style scoped>\n",
       "    .dataframe tbody tr th:only-of-type {\n",
       "        vertical-align: middle;\n",
       "    }\n",
       "\n",
       "    .dataframe tbody tr th {\n",
       "        vertical-align: top;\n",
       "    }\n",
       "\n",
       "    .dataframe thead th {\n",
       "        text-align: right;\n",
       "    }\n",
       "</style>\n",
       "<table border=\"1\" class=\"dataframe\">\n",
       "  <thead>\n",
       "    <tr style=\"text-align: right;\">\n",
       "      <th></th>\n",
       "      <th>genres</th>\n",
       "      <th>main_genre</th>\n",
       "    </tr>\n",
       "  </thead>\n",
       "  <tbody>\n",
       "    <tr>\n",
       "      <th>0</th>\n",
       "      <td>боевик,драма,мелодрама</td>\n",
       "      <td>боевик</td>\n",
       "    </tr>\n",
       "    <tr>\n",
       "      <th>1</th>\n",
       "      <td>фантастика,боевик,триллер</td>\n",
       "      <td>фантастика</td>\n",
       "    </tr>\n",
       "    <tr>\n",
       "      <th>2</th>\n",
       "      <td>фантастика,боевик,триллер</td>\n",
       "      <td>фантастика</td>\n",
       "    </tr>\n",
       "    <tr>\n",
       "      <th>3</th>\n",
       "      <td>фантастика,боевик,триллер</td>\n",
       "      <td>фантастика</td>\n",
       "    </tr>\n",
       "    <tr>\n",
       "      <th>4</th>\n",
       "      <td>мюзикл,мелодрама,комедия</td>\n",
       "      <td>мюзикл</td>\n",
       "    </tr>\n",
       "    <tr>\n",
       "      <th>5</th>\n",
       "      <td>комедия,криминал</td>\n",
       "      <td>комедия</td>\n",
       "    </tr>\n",
       "    <tr>\n",
       "      <th>6</th>\n",
       "      <td>боевик,триллер,детектив</td>\n",
       "      <td>боевик</td>\n",
       "    </tr>\n",
       "    <tr>\n",
       "      <th>7</th>\n",
       "      <td>драма,спорт</td>\n",
       "      <td>драма</td>\n",
       "    </tr>\n",
       "    <tr>\n",
       "      <th>8</th>\n",
       "      <td>триллер,драма,мелодрама</td>\n",
       "      <td>триллер</td>\n",
       "    </tr>\n",
       "    <tr>\n",
       "      <th>9</th>\n",
       "      <td>комедия,мелодрама</td>\n",
       "      <td>комедия</td>\n",
       "    </tr>\n",
       "  </tbody>\n",
       "</table>\n",
       "</div>"
      ],
      "text/plain": [
       "                      genres  main_genre\n",
       "0     боевик,драма,мелодрама      боевик\n",
       "1  фантастика,боевик,триллер  фантастика\n",
       "2  фантастика,боевик,триллер  фантастика\n",
       "3  фантастика,боевик,триллер  фантастика\n",
       "4   мюзикл,мелодрама,комедия      мюзикл\n",
       "5           комедия,криминал     комедия\n",
       "6    боевик,триллер,детектив      боевик\n",
       "7                драма,спорт       драма\n",
       "8    триллер,драма,мелодрама     триллер\n",
       "9          комедия,мелодрама     комедия"
      ]
     },
     "execution_count": 65,
     "metadata": {},
     "output_type": "execute_result"
    }
   ],
   "source": [
    "# Напишем простую функцию для выделения основного жанра\n",
    "# Применим её и проверим результат\n",
    "def get_main_genre(row):\n",
    "  \"\"\"\n",
    "  Функция принимает строку датасета\n",
    "  Разделяет значение в столбце genres по запятой\n",
    "  И возвращает нулевой элемент полученного списка\n",
    "  \"\"\"\n",
    "  main_genre = row.genres.split(',')[0]\n",
    "  return main_genre\n",
    "\n",
    "df['main_genre'] = df.apply(get_main_genre, axis=1)\n",
    "df.loc[:, ('genres', 'main_genre')].head(10)"
   ]
  },
  {
   "cell_type": "markdown",
   "metadata": {
    "id": "z5EWzlY5EZpd"
   },
   "source": [
    "#### Доля гос.поддержки в общем бюджете фильма"
   ]
  },
  {
   "cell_type": "markdown",
   "metadata": {
    "id": "g04w0pA4GtQj"
   },
   "source": [
    "Долю гос.поддержки в бюджете фильма посчитаем так:\n",
    "\n",
    "(объём возвратных средств государственной поддержки + объём невозвратных средств государственной поддержки)  /  \n",
    "общий бюджет фильма"
   ]
  },
  {
   "cell_type": "code",
   "execution_count": 66,
   "metadata": {
    "colab": {
     "base_uri": "https://localhost:8080/",
     "height": 398
    },
    "id": "E4sfMfI7F02q",
    "outputId": "511488b5-9200-457f-8ee2-827a950534ec"
   },
   "outputs": [
    {
     "data": {
      "text/html": [
       "<div>\n",
       "<style scoped>\n",
       "    .dataframe tbody tr th:only-of-type {\n",
       "        vertical-align: middle;\n",
       "    }\n",
       "\n",
       "    .dataframe tbody tr th {\n",
       "        vertical-align: top;\n",
       "    }\n",
       "\n",
       "    .dataframe thead th {\n",
       "        text-align: right;\n",
       "    }\n",
       "</style>\n",
       "<table border=\"1\" class=\"dataframe\">\n",
       "  <thead>\n",
       "    <tr style=\"text-align: right;\">\n",
       "      <th></th>\n",
       "      <th>title</th>\n",
       "      <th>pu_number</th>\n",
       "      <th>show_start_date</th>\n",
       "      <th>type</th>\n",
       "      <th>film_studio</th>\n",
       "      <th>production_country</th>\n",
       "      <th>director</th>\n",
       "      <th>producer</th>\n",
       "      <th>age_restriction</th>\n",
       "      <th>refundable_support</th>\n",
       "      <th>nonrefundable_support</th>\n",
       "      <th>budget</th>\n",
       "      <th>financing_source</th>\n",
       "      <th>ratings</th>\n",
       "      <th>genres</th>\n",
       "      <th>box_office</th>\n",
       "      <th>show_start_year</th>\n",
       "      <th>main_director</th>\n",
       "      <th>main_genre</th>\n",
       "      <th>support_to_budget_ratio</th>\n",
       "    </tr>\n",
       "  </thead>\n",
       "  <tbody>\n",
       "    <tr>\n",
       "      <th>1605</th>\n",
       "      <td>Елки Лохматые</td>\n",
       "      <td>111023114</td>\n",
       "      <td>2014-12-10 12:00:00+00:00</td>\n",
       "      <td>Художественный</td>\n",
       "      <td>ООО \"ТаББаК\"</td>\n",
       "      <td>Россия</td>\n",
       "      <td>Максим Свешников</td>\n",
       "      <td>Тимур Бекмамбетов, Евгения Аронова</td>\n",
       "      <td>«6+» - для детей старше 6 лет</td>\n",
       "      <td>26000000.0</td>\n",
       "      <td>30000000.0</td>\n",
       "      <td>80000000.0</td>\n",
       "      <td>Фонд кино</td>\n",
       "      <td>5.0</td>\n",
       "      <td>семейный,комедия</td>\n",
       "      <td>121225633.8</td>\n",
       "      <td>2014</td>\n",
       "      <td>Максим Свешников</td>\n",
       "      <td>семейный</td>\n",
       "      <td>0.700000</td>\n",
       "    </tr>\n",
       "    <tr>\n",
       "      <th>1620</th>\n",
       "      <td>Снежная Королева 2: Перезаморозка</td>\n",
       "      <td>114000214</td>\n",
       "      <td>2014-11-13 12:00:00+00:00</td>\n",
       "      <td>Анимационный</td>\n",
       "      <td>ООО \"ВИЗАРТ ФИЛЬМ\"</td>\n",
       "      <td>Россия</td>\n",
       "      <td>А.Цицилин</td>\n",
       "      <td>ООО \"ВИЗАРТ ФИЛЬМ\", ООО \"ТаББаК\"</td>\n",
       "      <td>«0+» - для любой зрительской аудитории</td>\n",
       "      <td>30000000.0</td>\n",
       "      <td>40000000.0</td>\n",
       "      <td>252489571.0</td>\n",
       "      <td>Фонд кино</td>\n",
       "      <td>6.5</td>\n",
       "      <td>мультфильм,фэнтези,приключения</td>\n",
       "      <td>313489846.5</td>\n",
       "      <td>2014</td>\n",
       "      <td>А.Цицилин</td>\n",
       "      <td>мультфильм</td>\n",
       "      <td>0.277239</td>\n",
       "    </tr>\n",
       "    <tr>\n",
       "      <th>1713</th>\n",
       "      <td>Территория</td>\n",
       "      <td>111000515</td>\n",
       "      <td>2015-01-27 12:00:00+00:00</td>\n",
       "      <td>Художественный</td>\n",
       "      <td>ООО \"Творческое объединение \"Кинокомпания \"Анд...</td>\n",
       "      <td>Россия</td>\n",
       "      <td>А.Мельник</td>\n",
       "      <td>А.Мельник</td>\n",
       "      <td>«12+» - для детей старше 12 лет</td>\n",
       "      <td>30000000.0</td>\n",
       "      <td>30000000.0</td>\n",
       "      <td>500000000.0</td>\n",
       "      <td>Фонд кино</td>\n",
       "      <td>6.8</td>\n",
       "      <td>детектив,фэнтези,триллер</td>\n",
       "      <td>72578317.4</td>\n",
       "      <td>2015</td>\n",
       "      <td>А.Мельник</td>\n",
       "      <td>детектив</td>\n",
       "      <td>0.120000</td>\n",
       "    </tr>\n",
       "  </tbody>\n",
       "</table>\n",
       "</div>"
      ],
      "text/plain": [
       "                                  title  pu_number           show_start_date  \\\n",
       "1605                      Елки Лохматые  111023114 2014-12-10 12:00:00+00:00   \n",
       "1620  Снежная Королева 2: Перезаморозка  114000214 2014-11-13 12:00:00+00:00   \n",
       "1713                         Территория  111000515 2015-01-27 12:00:00+00:00   \n",
       "\n",
       "                type                                        film_studio  \\\n",
       "1605  Художественный                                       ООО \"ТаББаК\"   \n",
       "1620    Анимационный                                 ООО \"ВИЗАРТ ФИЛЬМ\"   \n",
       "1713  Художественный  ООО \"Творческое объединение \"Кинокомпания \"Анд...   \n",
       "\n",
       "     production_country          director                            producer  \\\n",
       "1605             Россия  Максим Свешников  Тимур Бекмамбетов, Евгения Аронова   \n",
       "1620             Россия         А.Цицилин    ООО \"ВИЗАРТ ФИЛЬМ\", ООО \"ТаББаК\"   \n",
       "1713             Россия         А.Мельник                           А.Мельник   \n",
       "\n",
       "                             age_restriction  refundable_support  \\\n",
       "1605           «6+» - для детей старше 6 лет          26000000.0   \n",
       "1620  «0+» - для любой зрительской аудитории          30000000.0   \n",
       "1713         «12+» - для детей старше 12 лет          30000000.0   \n",
       "\n",
       "      nonrefundable_support       budget financing_source  ratings  \\\n",
       "1605             30000000.0   80000000.0        Фонд кино      5.0   \n",
       "1620             40000000.0  252489571.0        Фонд кино      6.5   \n",
       "1713             30000000.0  500000000.0        Фонд кино      6.8   \n",
       "\n",
       "                              genres   box_office  show_start_year  \\\n",
       "1605                семейный,комедия  121225633.8             2014   \n",
       "1620  мультфильм,фэнтези,приключения  313489846.5             2014   \n",
       "1713        детектив,фэнтези,триллер   72578317.4             2015   \n",
       "\n",
       "         main_director  main_genre  support_to_budget_ratio  \n",
       "1605  Максим Свешников    семейный                 0.700000  \n",
       "1620         А.Цицилин  мультфильм                 0.277239  \n",
       "1713         А.Мельник    детектив                 0.120000  "
      ]
     },
     "execution_count": 66,
     "metadata": {},
     "output_type": "execute_result"
    }
   ],
   "source": [
    "df['support_to_budget_ratio'] = (df.refundable_support + df.nonrefundable_support) / df.budget\n",
    "df.query('refundable_support != 0').head(3)"
   ]
  },
  {
   "cell_type": "markdown",
   "metadata": {
    "id": "N0iPaisyLqq1"
   },
   "source": [
    "#### Выводы по добавлению столбцов"
   ]
  },
  {
   "cell_type": "markdown",
   "metadata": {
    "id": "WYd55EMQLvTy"
   },
   "source": [
    "Были добавлены столбцы:\n",
    "* Год проката\n",
    "* Имя и фамилия главного режиссёра\n",
    "* Основной жанр фильма\n",
    "* Доля гос.поддержки в общем бюджете фильма"
   ]
  },
  {
   "cell_type": "markdown",
   "metadata": {
    "id": "ybm0j529Kpjo"
   },
   "source": [
    "### Выводы по предобработке данных"
   ]
  },
  {
   "cell_type": "markdown",
   "metadata": {
    "id": "0niBpiMkKtsx"
   },
   "source": [
    "Был переименован столбец `puNumber` в `pu_number`."
   ]
  },
  {
   "cell_type": "markdown",
   "metadata": {
    "id": "RBfE88_hK_KE"
   },
   "source": [
    "В датасете `df_movies` удалены пропуски в колонках, которые не относились к финансированию МинКультом РФ.\n",
    "\n",
    "В датасете `df_shows` пропуски отсутствуют."
   ]
  },
  {
   "cell_type": "markdown",
   "metadata": {
    "id": "Tlfa7UhsLD40"
   },
   "source": [
    "Изменение типов данных:\n",
    "\n",
    "Датасет `df_movies`:\n",
    "* Столбец `pu_number` в датасете `df_movies` приведён к целочисленному типу данных для последующего объединения датасетов.\n",
    "* Столбец `show_start_date` приведён к корректному формату даты.\n",
    "* В столбце `ratings` обнаружено два типа значений: оценка от 0 до 10 с одним знаком после запятой и оценка от 0 до 100 со знаком процента. Оценки со знаком процента были сконвертированы в оценки от 0 до 10, знак процента отброшен. После этого весь столбец был приведён к типу данных `float`.\n",
    "\n",
    "Датасет `df_shows`:\n",
    "* Изменение типов данных не требуется"
   ]
  },
  {
   "cell_type": "markdown",
   "metadata": {
    "id": "BQvO5F1yLSSq"
   },
   "source": [
    "После операций выше датасеты были объединены в один."
   ]
  },
  {
   "cell_type": "markdown",
   "metadata": {
    "id": "FvFgYMcS2OFv"
   },
   "source": [
    "Были обработаны явные и неявные дубликаты:\n",
    "\n",
    "\n",
    "1.   В строках 3788 и 3789 указаны разные фильмы, но прокатное удостоверение у них одно. Такая же ситуация в строках 4183-4184. Видимо результат ошибки. Заменили один из номеров в каждой паре прокатного удостоверения на свободное число.\n",
    "\n",
    "2.   Среди неявных дубликатов было обнаружено:\n",
    "\n",
    "    1.   Значения с лишними пробелами в столбце `type`. Отформатировано.\n",
    "    2.   Страны в столбце `production_country` записаны в нескольких вариантах. С пробелами, без пробелов, через дефис, через запятую. Исправили это с помощью регулярного выражения и привели к единому формату.\n",
    "\n",
    "\n",
    "\n"
   ]
  },
  {
   "cell_type": "markdown",
   "metadata": {
    "id": "o6-g38AnLfa8"
   },
   "source": [
    "Были изучены столбцы с количественными данными:  \n",
    "Аномалий не обнаружено, пропуски заполнены нулями."
   ]
  },
  {
   "cell_type": "markdown",
   "metadata": {
    "id": "LFS699siL4zk"
   },
   "source": [
    "Были добавлены столбцы:\n",
    "* Год проката\n",
    "* Имя и фамилия главного режиссёра\n",
    "* Основной жанр фильма\n",
    "* Доля гос.поддержки в общем бюджете фильма"
   ]
  },
  {
   "cell_type": "markdown",
   "metadata": {
    "id": "YP-5mXHkL6n_"
   },
   "source": [
    "## Исследовательский анализ данных"
   ]
  },
  {
   "cell_type": "markdown",
   "metadata": {
    "id": "DNl1X4iRMItz"
   },
   "source": [
    "Проведём следующие исследования:\n",
    "* Посмотрим, сколько фильмов выходило в прокат каждый год. Заявлено, что данные о прокате в кинотеатрах известны не для всех фильмов (столбец `box_office`). Посчитаем, какую долю составляют фильмы с указанной информацией о прокате в кинотеатрах. Проанализируем, как эта доля менялась по годам. Сделаем вывод о том, какой период полнее всего представлен в данных.\n",
    "* Изучим, как менялась динамика проката по годам. Ответим на вопрос, в каком году сумма сборов была минимальной и максимальной?\n",
    "* С помощью сводной таблицы посчитаем среднюю и медианную сумму сборов для каждого года.\n",
    "* Определим, влияет ли возрастное ограничение аудитории («6+», «12+», «16+», «18+» и т. д.) на сборы фильма в прокате в период с 2015 по 2019 год? Ответим на вопросы:\n",
    "  * Фильмы с каким возрастным ограничением собрали больше всего денег в прокате?\n",
    "  * Меняется ли картина в зависимости от года? Если да, предположим, с чем это может быть связано."
   ]
  },
  {
   "cell_type": "markdown",
   "metadata": {
    "id": "o7yFQNnDTJhK"
   },
   "source": [
    "### Исследование проката по годам, определение доли фильмов с указанной суммой сборов"
   ]
  },
  {
   "cell_type": "code",
   "execution_count": 67,
   "metadata": {
    "colab": {
     "base_uri": "https://localhost:8080/",
     "height": 35
    },
    "id": "MgQ4ZMSgSD5K",
    "outputId": "66900427-11d7-409b-a44d-6859e4a649cd"
   },
   "outputs": [
    {
     "data": {
      "text/plain": [
       "'Процент фильмов с указанной суммой сборов равен 46.19% (2783 строки) от всего датасета .'"
      ]
     },
     "execution_count": 67,
     "metadata": {},
     "output_type": "execute_result"
    }
   ],
   "source": [
    "# Для начала определим, какова в датасете доля фильмов с указанной суммой кассовых сборов\n",
    "box_office_count = df.query('box_office != 0').box_office.count()\n",
    "ratio = round(box_office_count / df.shape[0] * 100, 2)\n",
    "f'Процент фильмов с указанной суммой сборов равен {ratio}% ({box_office_count} строки) от всего датасета .'"
   ]
  },
  {
   "cell_type": "code",
   "execution_count": 68,
   "metadata": {
    "colab": {
     "base_uri": "https://localhost:8080/",
     "height": 528
    },
    "id": "S7lqVyVARFj0",
    "outputId": "7528157e-b2ea-4d39-f9a9-d50754f4688b"
   },
   "outputs": [
    {
     "data": {
      "image/png": "[encoded data removed]",
      "text/plain": [
       "<Figure size 864x576 with 1 Axes>"
      ]
     },
     "metadata": {
      "needs_background": "light"
     },
     "output_type": "display_data"
    }
   ],
   "source": [
    "# Взглянем на количетсво фильмов по годам выхода, когда сумма сборов не известна и когда известна\n",
    "(df\n",
    " .query('box_office != 0')\n",
    " .groupby('show_start_year')\n",
    " ['show_start_year']\n",
    " .count()\n",
    " .plot(kind='bar', grid=True, color='red'))\n",
    "ax = (df\n",
    "      .groupby('show_start_year')\n",
    "      ['show_start_year']\n",
    "      .count()\n",
    "      .plot(kind='bar', grid=True, alpha=0.5, figsize=(12, 8)))\n",
    "ax.set(xlabel='Год выхода фильма в прокат', ylabel='Количество фильмов', title='Количество фильмов в прокате по годам')\n",
    "ax.legend(['Известна сумма кассовых сборов', 'Включая фильмы с неизвестной суммой кассовых сборов']);"
   ]
  },
  {
   "cell_type": "markdown",
   "metadata": {
    "id": "b6OiUA_7jJ7Z"
   },
   "source": [
    "Выводы по количеству фильмов в прокате по годам:\n",
    "1. Больше всего прокатных удостоверений выдано было в 2010 году, почти 900. В последующие годы ежегодно в прокат выходило 500-700 фильмов. Исключением является 2017 год, в котором выдано 400 прокатных удостоверений. Интересно, с чем это может быть связано? \n",
    "2. Год от года заметен рост количества фильмов с указанной суммой кассовых сборов. Так же эти данные можно назвать \"данными по прокату в кинотеатрах\". Почти в два раза выросло число таких фильмов в 2015 году - с 200 до 400. С 2015 по 2019 количество таких фильмов примерно одинаково - около 450 фильмов в год. В 2017 году так же заметна просадка по количеству фильмов."
   ]
  },
  {
   "cell_type": "code",
   "execution_count": 69,
   "metadata": {
    "colab": {
     "base_uri": "https://localhost:8080/",
     "height": 528
    },
    "id": "AErb6j8KtQfX",
    "outputId": "c41b0550-2162-494d-e440-44ea59515df9"
   },
   "outputs": [
    {
     "data": {
      "image/png": "[encoded data removed]",
      "text/plain": [
       "<Figure size 864x576 with 1 Axes>"
      ]
     },
     "metadata": {
      "needs_background": "light"
     },
     "output_type": "display_data"
    }
   ],
   "source": [
    "# Изучим долю фильмов с известной суммой кассовых сборов по годам\n",
    "a = df.query('box_office != 0').groupby('show_start_year')['show_start_year'].count() \n",
    "b = df.groupby('show_start_year')['show_start_year'].count()\n",
    "ax = (a / b * 100).plot(kind='bar', grid=True, figsize=(12, 8))\n",
    "ax.set(\n",
    "    xlabel='Год выхода фильмов в прокат', \n",
    "    ylabel='Процент от общего количества фильмов в прокате в этот год', \n",
    "    title='Доля фильмов с известной суммой кассовых сборов по годам (от общего количества фильмов в прокате в этот год)');"
   ]
  },
  {
   "cell_type": "markdown",
   "metadata": {
    "id": "57wjcciQywfv"
   },
   "source": [
    "Выводы по доле фильмов с известной суммой кассовых сборов по годам (от общего количества фильмов в прокате):\n",
    "1. Примерно только по 10% фильмов были известны данные о прокате в кинотеатрах в 2010 году. Это минимальное значение данной характеристики.\n",
    "2. С 2010 по 2014 года наблюдается стабильный ежегодный рост доли фильмов с известными данными по прокату, примерно 7-10% в год.\n",
    "3. В 2015 году произошёл скачкообразный рост - с 40% до более чем 70%.\n",
    "4. С 2015 по 2019 года доля фильмов с прокатной информацией колебалась от ~68% до более чем 80% в 2017 году.\n",
    "5. Можно сделать вывод, что наиболее полно, в плане информации о прокате, представлены года с 2015 по 2019."
   ]
  },
  {
   "cell_type": "markdown",
   "metadata": {
    "id": "NtCwa2nG2OPG"
   },
   "source": [
    "### Исследование динамики проката по годам"
   ]
  },
  {
   "cell_type": "code",
   "execution_count": 70,
   "metadata": {
    "colab": {
     "base_uri": "https://localhost:8080/"
    },
    "id": "ikWdRWoL3ODK",
    "outputId": "d61febf6-21f8-45b1-cf63-8fe0cd1ab5bb"
   },
   "outputs": [
    {
     "data": {
      "text/plain": [
       "show_start_year\n",
       "2010    2.414254e+06\n",
       "2011    2.049770e+06\n",
       "2012    6.862498e+06\n",
       "2013    2.941964e+07\n",
       "2014    7.311224e+09\n",
       "2015    3.785259e+10\n",
       "2016    4.580231e+10\n",
       "2017    4.611679e+10\n",
       "2018    4.677616e+10\n",
       "2019    4.825356e+10\n",
       "Name: box_office, dtype: float64"
      ]
     },
     "execution_count": 70,
     "metadata": {},
     "output_type": "execute_result"
    }
   ],
   "source": [
    "# Просуммируем сборы по годам\n",
    "box_office_sum_by_year = df.query('box_office != 0').groupby('show_start_year')['box_office'].sum()\n",
    "box_office_sum_by_year"
   ]
  },
  {
   "cell_type": "code",
   "execution_count": 71,
   "metadata": {
    "colab": {
     "base_uri": "https://localhost:8080/",
     "height": 528
    },
    "id": "oZOusj9H2bwa",
    "outputId": "30d57d65-52c7-4c90-d968-ce3a8a525d06"
   },
   "outputs": [
    {
     "data": {
      "image/png": "[encoded data removed]",
      "text/plain": [
       "<Figure size 864x576 with 1 Axes>"
      ]
     },
     "metadata": {
      "needs_background": "light"
     },
     "output_type": "display_data"
    }
   ],
   "source": [
    "# Отобразим эти данные в виде столбчатой диаграммы\n",
    "ax = (box_office_sum_by_year\n",
    "      .plot(kind='bar', grid=True, figsize=(12, 8)))\n",
    "ax.set(\n",
    "    xlabel='Год выхода фильмов в прокат', \n",
    "    ylabel='Сумма сборов в прокате за год, десятков млрд. руб.', \n",
    "    title='Диаграмма сборов в прокате по годам');"
   ]
  },
  {
   "cell_type": "markdown",
   "metadata": {
    "id": "TfY93Tl68Jd6"
   },
   "source": [
    "Сразу бросается в глаза, что сборы за период с 2010 по 2013 года даже не заметны на диаграмме. Связано это с тем, что сборы за эти года были очень небольшие относительно масштаба по оси Y в десятки миллиардов рублей. Построим диаграмму с логарифмическим масштабированием по оси Y."
   ]
  },
  {
   "cell_type": "code",
   "execution_count": 72,
   "metadata": {
    "colab": {
     "base_uri": "https://localhost:8080/",
     "height": 528
    },
    "id": "lrYob_Jr81kF",
    "outputId": "5f9b9b59-1535-4b72-d4b2-74c8366fc80c"
   },
   "outputs": [
    {
     "data": {
      "image/png": "[encoded data removed]",
      "text/plain": [
       "<Figure size 864x576 with 1 Axes>"
      ]
     },
     "metadata": {
      "needs_background": "light"
     },
     "output_type": "display_data"
    }
   ],
   "source": [
    "# Теперь постоим диаграмму с логарифмическим масштабированием по оси Y\n",
    "ax = (box_office_sum_by_year\n",
    "      .plot(kind='bar', grid=True, figsize=(12, 8), logy=True))\n",
    "ax.set(\n",
    "    xlabel='Год выхода фильмов в прокат', \n",
    "    ylabel='Сумма сборов в прокате за год, руб.', \n",
    "    title='Диаграмма сборов в прокате по годам');"
   ]
  },
  {
   "cell_type": "markdown",
   "metadata": {
    "id": "aKEr3PZV9c4J"
   },
   "source": [
    "Выводы по сумме сборов по годам следующие:\n",
    "1. Сумма сборов за период с 2010 по 2012 года составила менее 10 млн. руб. в год.\n",
    "2. В 2013 году сумма сборов составила около 30 млн. руб.\n",
    "3. В 2014 году указанная сумма сборов значительно выросла - до 7,3 млрд. руб.\n",
    "4. За период с 2015 по 2019 гг. указанная сумма сборов выросла ещё больше и колебалась в диапазоне 37-48 млрд. руб. в год."
   ]
  },
  {
   "cell_type": "code",
   "execution_count": 73,
   "metadata": {
    "colab": {
     "base_uri": "https://localhost:8080/",
     "height": 53
    },
    "id": "gbQzm72L_fOM",
    "outputId": "c5cb617d-5d19-4ead-ae49-90aa5aa2e452"
   },
   "outputs": [
    {
     "data": {
      "text/plain": [
       "'Минимальная указанная сумма кассовых сборов была в 2011 году и она равна 2.05 млн. руб.'"
      ]
     },
     "metadata": {},
     "output_type": "display_data"
    },
    {
     "data": {
      "text/plain": [
       "'Максимальная указанная сумма кассовых сборов была в 2019 году и она равна 48.25 млрд. руб.'"
      ]
     },
     "metadata": {},
     "output_type": "display_data"
    }
   ],
   "source": [
    "# Найдем года с минимальной и максимальной указанной суммой сборов\n",
    "min_box_office = box_office_sum_by_year.min()\n",
    "min_box_office_year = box_office_sum_by_year.idxmin()\n",
    "max_box_office = box_office_sum_by_year.max()\n",
    "max_box_office_year = box_office_sum_by_year.idxmax()\n",
    "display(f'Минимальная указанная сумма кассовых сборов была в {min_box_office_year} году и она равна {round(min_box_office / 1e6, 2)} млн. руб.')\n",
    "display(f'Максимальная указанная сумма кассовых сборов была в {max_box_office_year} году и она равна {round(max_box_office / 1e9, 2)} млрд. руб.')"
   ]
  },
  {
   "cell_type": "markdown",
   "metadata": {
    "id": "gbL9tKxCDCW1"
   },
   "source": [
    "### Вычисление средней и медианной суммы сборов для каждого года"
   ]
  },
  {
   "cell_type": "code",
   "execution_count": 74,
   "metadata": {
    "colab": {
     "base_uri": "https://localhost:8080/",
     "height": 394
    },
    "id": "FWyrHRLsDzPl",
    "outputId": "fc4fa697-5998-4213-91ae-0bbc05ddf55a"
   },
   "outputs": [
    {
     "data": {
      "text/html": [
       "<div>\n",
       "<style scoped>\n",
       "    .dataframe tbody tr th:only-of-type {\n",
       "        vertical-align: middle;\n",
       "    }\n",
       "\n",
       "    .dataframe tbody tr th {\n",
       "        vertical-align: top;\n",
       "    }\n",
       "\n",
       "    .dataframe thead th {\n",
       "        text-align: right;\n",
       "    }\n",
       "</style>\n",
       "<table border=\"1\" class=\"dataframe\">\n",
       "  <thead>\n",
       "    <tr style=\"text-align: right;\">\n",
       "      <th></th>\n",
       "      <th>mean</th>\n",
       "      <th>median</th>\n",
       "    </tr>\n",
       "    <tr>\n",
       "      <th>show_start_year</th>\n",
       "      <th></th>\n",
       "      <th></th>\n",
       "    </tr>\n",
       "  </thead>\n",
       "  <tbody>\n",
       "    <tr>\n",
       "      <th>2010</th>\n",
       "      <td>2.463524e+04</td>\n",
       "      <td>1705.00</td>\n",
       "    </tr>\n",
       "    <tr>\n",
       "      <th>2011</th>\n",
       "      <td>2.009578e+04</td>\n",
       "      <td>2995.00</td>\n",
       "    </tr>\n",
       "    <tr>\n",
       "      <th>2012</th>\n",
       "      <td>5.865383e+04</td>\n",
       "      <td>6220.00</td>\n",
       "    </tr>\n",
       "    <tr>\n",
       "      <th>2013</th>\n",
       "      <td>2.001336e+05</td>\n",
       "      <td>4827.00</td>\n",
       "    </tr>\n",
       "    <tr>\n",
       "      <th>2014</th>\n",
       "      <td>3.293344e+07</td>\n",
       "      <td>78267.50</td>\n",
       "    </tr>\n",
       "    <tr>\n",
       "      <th>2015</th>\n",
       "      <td>9.369452e+07</td>\n",
       "      <td>8227800.60</td>\n",
       "    </tr>\n",
       "    <tr>\n",
       "      <th>2016</th>\n",
       "      <td>1.008861e+08</td>\n",
       "      <td>5789346.42</td>\n",
       "    </tr>\n",
       "    <tr>\n",
       "      <th>2017</th>\n",
       "      <td>1.393256e+08</td>\n",
       "      <td>10739479.00</td>\n",
       "    </tr>\n",
       "    <tr>\n",
       "      <th>2018</th>\n",
       "      <td>1.067949e+08</td>\n",
       "      <td>10614963.72</td>\n",
       "    </tr>\n",
       "    <tr>\n",
       "      <th>2019</th>\n",
       "      <td>1.026672e+08</td>\n",
       "      <td>5741572.80</td>\n",
       "    </tr>\n",
       "  </tbody>\n",
       "</table>\n",
       "</div>"
      ],
      "text/plain": [
       "                         mean       median\n",
       "show_start_year                           \n",
       "2010             2.463524e+04      1705.00\n",
       "2011             2.009578e+04      2995.00\n",
       "2012             5.865383e+04      6220.00\n",
       "2013             2.001336e+05      4827.00\n",
       "2014             3.293344e+07     78267.50\n",
       "2015             9.369452e+07   8227800.60\n",
       "2016             1.008861e+08   5789346.42\n",
       "2017             1.393256e+08  10739479.00\n",
       "2018             1.067949e+08  10614963.72\n",
       "2019             1.026672e+08   5741572.80"
      ]
     },
     "execution_count": 74,
     "metadata": {},
     "output_type": "execute_result"
    }
   ],
   "source": [
    "# Сформируем сводную таблицу с расчётом средней и медианной суммы сборов по годам\n",
    "# Не забудем, что пропуски мы заменяли нулями, исключим строки с ними из выборки\n",
    "box_office_by_year_pivot = (df\n",
    "                            .query('box_office != 0')\n",
    "                            .pivot_table(\n",
    "                                index='show_start_year', \n",
    "                                values='box_office', \n",
    "                                aggfunc=('mean', 'median')\n",
    "                                )\n",
    "                            )\n",
    "box_office_by_year_pivot"
   ]
  },
  {
   "cell_type": "code",
   "execution_count": 75,
   "metadata": {
    "colab": {
     "base_uri": "https://localhost:8080/",
     "height": 528
    },
    "id": "wIS4XOPhH9YD",
    "outputId": "c4671888-8ed8-4ed6-ef89-70d240b7ee4d"
   },
   "outputs": [
    {
     "data": {
      "image/png": "[encoded data removed]",
      "text/plain": [
       "<Figure size 864x576 with 1 Axes>"
      ]
     },
     "metadata": {
      "needs_background": "light"
     },
     "output_type": "display_data"
    }
   ],
   "source": [
    "# Для наглядности построим столбчатую диаграмму с логарифмическим масштабированием по оси Y\n",
    "ax = (box_office_by_year_pivot\n",
    "      .plot(\n",
    "          kind='bar', \n",
    "          grid=True, \n",
    "          figsize=(12, 8), \n",
    "          logy=True))\n",
    "ax.set(\n",
    "    xlabel='Год выхода фильмов в прокат', \n",
    "    ylabel='Медианная или средняя сумма, руб.', \n",
    "    title='Диаграмма распределения средней и медианной суммы кассовых сборов по годам')\n",
    "ax.legend(['Средняя сумма кассовых сборов', 'Медианная сумма кассовых сборов']);"
   ]
  },
  {
   "cell_type": "markdown",
   "metadata": {
    "id": "cYV2dUwQKW87"
   },
   "source": [
    "Выводы по средней и медианной сумме сборов по годам:\n",
    "1. За период с 2010 по 2013 года средняя сумма сборов находилась в диапазоне 20-200 тыс. руб. Медианная - в диапазоне 1,7-4,8 тыс. руб.\n",
    "2. В 2014 году средняя сумма сборов резко увеличилась - почти до 33 млн. руб. Медианное значение так же стало больше и составило 78 тыс. руб.\n",
    "3. В периоде с 2015 по 2019 года средняя и медианная сумма кассовых сборов выросли ещё сильнее относительно прошлых лет. Но между собой год от года значения почти не менялись и составили более 100 млн. руб. для средней суммы и 5 - 10 млн. руб. для медианного значения.\n",
    "\n",
    "Заметен довольно большой разрыв между средним и медианным значением в пользу первого. Это говорит о том, что существует небольшое количество фильмов, сумма сборов по которым оказалась гораздо больше, чем у большинства других фильмов. И сборы этих фильмов тянут среднее значение сильно вверх."
   ]
  },
  {
   "cell_type": "markdown",
   "metadata": {
    "id": "9H82ERDVO500"
   },
   "source": [
    "### Изучение влияния категорий возрастного ограничения на сборы за период 2015-2019 годов"
   ]
  },
  {
   "cell_type": "code",
   "execution_count": 76,
   "metadata": {
    "colab": {
     "base_uri": "https://localhost:8080/"
    },
    "id": "wmpGEdbW1rJ3",
    "outputId": "8a4f21b6-3f55-4239-ec3f-53a9ce8b044b"
   },
   "outputs": [
    {
     "data": {
      "text/plain": [
       "age_restriction\n",
       "«16+» - для детей старше 16 лет           7.307691e+10\n",
       "«12+» - для детей старше 12 лет           5.798172e+10\n",
       "«6+» - для детей старше 6 лет             5.263295e+10\n",
       "«18+» - запрещено для детей               4.045577e+10\n",
       "«0+» - для любой зрительской аудитории    6.540508e+08\n",
       "Name: box_office, dtype: float64"
      ]
     },
     "execution_count": 76,
     "metadata": {},
     "output_type": "execute_result"
    }
   ],
   "source": [
    "# Посчитаем сумму сборов в прокате с групировкой по возрастным категориям\n",
    "(df\n",
    " .query('(box_office != 0) and (2015 <= show_start_year <= 2019)')\n",
    " .groupby('age_restriction')\n",
    " ['box_office']\n",
    " .sum()\n",
    " .sort_values(ascending=False))"
   ]
  },
  {
   "cell_type": "markdown",
   "metadata": {
    "id": "KQFgVljd2Pxw"
   },
   "source": [
    "Сборы фильмов в прокате за 2015-2019 года по категориям составили:\n",
    "1. Фильмы категории \"16+\" - 73 млрд. руб.\n",
    "2. Фильмы категории \"12+\" - 58 млрд. руб.  \n",
    "3. Фильмы категории \"6+\" - 53 млрд. руб.\n",
    "4. Фильмы категории \"18+\" - 40 млрд. руб.\n",
    "5. Фильмы категории \"0+\" - 654 млн. руб.\n"
   ]
  },
  {
   "cell_type": "code",
   "execution_count": 77,
   "metadata": {
    "id": "qzdhGJX0Q_7W"
   },
   "outputs": [],
   "source": [
    "# Напишем функцию для группировки датасета с суммой\n",
    "def get_box_office_sum_with_age_restriction(age: str):\n",
    "  return (\n",
    "    df\n",
    "    [df.age_restriction.str.contains(age)]\n",
    "    .query('(box_office != 0) and (2015 <= show_start_year <= 2019)')\n",
    "    .groupby('show_start_year')\n",
    "    ['box_office']\n",
    "    .sum()\n",
    "    )\n",
    "\n",
    "box_office_sum_age_restriction_18 = get_box_office_sum_with_age_restriction('18+')\n",
    "box_office_sum_age_restriction_16 = get_box_office_sum_with_age_restriction('16+')\n",
    "box_office_sum_age_restriction_12 = get_box_office_sum_with_age_restriction('12+')\n",
    "box_office_sum_age_restriction_6 = get_box_office_sum_with_age_restriction('6+')\n",
    "box_office_sum_age_restriction_0 = get_box_office_sum_with_age_restriction('0+')"
   ]
  },
  {
   "cell_type": "code",
   "execution_count": 78,
   "metadata": {
    "colab": {
     "base_uri": "https://localhost:8080/",
     "height": 855
    },
    "id": "toT4-sFQkdIC",
    "outputId": "2a505f17-14af-4634-8045-cc00901300b3"
   },
   "outputs": [
    {
     "data": {
      "image/png": "[encoded data removed]",
      "text/plain": [
       "<Figure size 1296x1008 with 6 Axes>"
      ]
     },
     "metadata": {
      "needs_background": "light"
     },
     "output_type": "display_data"
    }
   ],
   "source": [
    "# Построим столбчатые диаграммы по полученным выборкам для сумм сборов в прокате за годы\n",
    "fig, axes = plt.subplots(nrows=2, ncols=3)\n",
    "\n",
    "box_office_sum_age_restriction_18.plot(\n",
    "    kind='bar', \n",
    "    ax=axes[0,0], \n",
    "    grid=True, \n",
    "    title='Фильмы 18+',\n",
    "    figsize=((18, 14)\n",
    "    ))\n",
    "box_office_sum_age_restriction_16.plot(\n",
    "    kind='bar',\n",
    "    ax=axes[0,1],\n",
    "    title='Фильмы 16+', \n",
    "    grid=True)\n",
    "box_office_sum_age_restriction_12.plot(\n",
    "    kind='bar',\n",
    "    ax=axes[0,2], \n",
    "    title='Фильмы 12+',\n",
    "    grid=True)\n",
    "box_office_sum_age_restriction_6.plot(\n",
    "    kind='bar',\n",
    "    ax=axes[1,0], \n",
    "    title='Фильмы 6+',\n",
    "    grid=True)\n",
    "box_office_sum_age_restriction_0.plot(\n",
    "    kind='bar',\n",
    "    ax=axes[1,1], \n",
    "    title='Фильмы 0+',\n",
    "    grid=True);"
   ]
  },
  {
   "cell_type": "markdown",
   "metadata": {
    "id": "2t1E4zqYoNnP"
   },
   "source": [
    "Вывод по сумме сборов в прокате по годам с разделением по возрастным категориям:\n",
    "1. По фильмам категории \"18+\" за период 2015-2019 гг. наблюдается положительный тренд с увеличением суммы кассовых сборов за исключением небольшого падения в 2018 году.\n",
    "2. По фильмам категории \"16+\" наблюдается сначала рост с пиков в 2017 году и затем спад сумм кассовых сборов.\n",
    "3. Фильмы категории \"12+\" показывают стабильные суммы сборов в прокате за исключением двухкратного сокращения сборов в 2017 году.\n",
    "4. Фильмы категории \"6+\" до 2018 года показывали рост сборов, затем в 2018-19 гг. произошёл небольшой спад.\n",
    "5. Фильмы категории \"0+\" показали относительно большие сборы в 2015 году с последующим более чем трёхкратным падением в 2016 году. В 2017 году сборы составили примерно 2/3 от уровня 2015 года. В 2018-19 гг. сборы были на минимальном уровне, менее 10% от уровня 2015 года.\n"
   ]
  },
  {
   "cell_type": "markdown",
   "metadata": {
    "id": "H6O_6sWt8mWp"
   },
   "source": [
    "### Выводы по исследовательскому анализу данных"
   ]
  },
  {
   "cell_type": "markdown",
   "metadata": {
    "id": "Tt-2SUwr8s9D"
   },
   "source": [
    "Выводы по количеству фильмов в прокате по годам:\n",
    "1. Больше всего прокатных удостоверений выдано было в 2010 году, почти 900. В последующие годы ежегодно в прокат выходило 500-700 фильмов. Исключением является 2017 год, в котором выдано 400 прокатных удостоверений. Интересно, с чем это может быть связано? \n",
    "2. Год от года заметен рост количества фильмов с указанной суммой кассовых сборов. Так же эти данные можно назвать \"данными по прокату в кинотеатрах\". Почти в два раза выросло число таких фильмов в 2015 году - с 200 до 400. С 2015 по 2019 количество таких фильмов примерно одинаково - около 450 фильмов в год. В 2017 году так же заметна просадка по количеству фильмов."
   ]
  },
  {
   "cell_type": "markdown",
   "metadata": {
    "id": "IBT20XHJ8xGf"
   },
   "source": [
    "Выводы по доле фильмов с известной суммой кассовых сборов по годам (от общего количества фильмов в прокате):\n",
    "1. Примерно только по 10% фильмов были известны данные о прокате в кинотеатрах в 2010 году. Это минимальное значение данной характеристики.\n",
    "2. С 2010 по 2014 года наблюдается стабильный ежегодный рост доли фильмов с известными данными по прокату, примерно 7-10% в год.\n",
    "3. В 2015 году произошёл скачкообразный рост - с 40% до более чем 70%.\n",
    "4. С 2015 по 2019 года доля фильмов с прокатной информацией колебалась от ~68% до более чем 80% в 2017 году.\n",
    "5. Можно сделать вывод, что наиболее полно, в плане информации о прокате, представлены года с 2015 по 2019."
   ]
  },
  {
   "cell_type": "markdown",
   "metadata": {
    "id": "rxOQ7j8N841c"
   },
   "source": [
    "Выводы по сумме сборов по годам следующие:\n",
    "1. Сумма сборов за период с 2010 по 2012 года составила менее 10 млн. руб. в год.\n",
    "2. В 2013 году сумма сборов составила около 30 млн. руб.\n",
    "3. В 2014 году указанная сумма сборов значительно выросла - до 7,3 млрд. руб.\n",
    "4. За период с 2015 по 2019 гг. указанная сумма сборов выросла ещё больше и колебалась в диапазоне 37-48 млрд. руб. в год."
   ]
  },
  {
   "cell_type": "markdown",
   "metadata": {
    "id": "VZKkYdWH89Zm"
   },
   "source": [
    "Выводы по средней и медианной сумме сборов по годам:\n",
    "1. За период с 2010 по 2013 года средняя сумма сборов находилась в диапазоне 20-200 тыс. руб. Медианная - в диапазоне 1,7-4,8 тыс. руб.\n",
    "2. В 2014 году средняя сумма сборов резко увеличилась - почти до 33 млн. руб. Медианное значение так же стало больше и составило 78 тыс. руб.\n",
    "3. В периоде с 2015 по 2019 года средняя и медианная сумма кассовых сборов выросли ещё сильнее относительно прошлых лет. Но между собой год от года значения почти не менялись и составили более 100 млн. руб. для средней суммы и 5 - 10 млн. руб. для медианного значения.\n",
    "\n",
    "Заметен довольно большой разрыв между средним и медианным значением в пользу первого. Это говорит о том, что существует небольшое количество фильмов, сумма сборов по которым оказалась гораздо больше, чем у большинства других фильмов. И сборы этих фильмов тянут среднее значение сильно вверх."
   ]
  },
  {
   "cell_type": "markdown",
   "metadata": {
    "id": "4CnXENbc9AXn"
   },
   "source": [
    "Сборы фильмов в прокате за 2015-2019 года по категориям составили:\n",
    "1. Фильмы категории \"16+\" - 73 млрд. руб.\n",
    "2. Фильмы категории \"12+\" - 58 млрд. руб.  \n",
    "3. Фильмы категории \"6+\" - 53 млрд. руб.\n",
    "4. Фильмы категории \"18+\" - 40 млрд. руб.\n",
    "5. Фильмы категории \"0+\" - 654 млн. руб.\n"
   ]
  },
  {
   "cell_type": "markdown",
   "metadata": {
    "id": "IeShHIEz9C6K"
   },
   "source": [
    "Вывод по сумме сборов в прокате по годам с разделением по возрастным категориям:\n",
    "1. По фильмам категории \"18+\" за период 2015-2019 гг. наблюдается положительный тренд с увеличением суммы кассовых сборов за исключением небольшого падения в 2018 году.\n",
    "2. По фильмам категории \"16+\" наблюдается сначала рост с пиков в 2017 году и затем спад сумм кассовых сборов.\n",
    "3. Фильмы категории \"12+\" показывают стабильные суммы сборов в прокате за исключением двухкратного сокращения сборов в 2017 году.\n",
    "4. Фильмы категории \"6+\" до 2018 года показывали рост сборов, затем в 2018-19 гг. произошёл небольшой спад.\n",
    "5. Фильмы категории \"0+\" показали относительно большие сборы в 2015 году с последующим более чем трёхкратным падением в 2016 году. В 2017 году сборы составили примерно 2/3 от уровня 2015 года. В 2018-19 гг. сборы были на минимальном уровне, менее 10% от уровня 2015 года.\n"
   ]
  },
  {
   "cell_type": "markdown",
   "metadata": {
    "id": "5hOGb8y79Pak"
   },
   "source": [
    "## Исследование фильмов, получивших гос.поддержку"
   ]
  },
  {
   "cell_type": "markdown",
   "metadata": {
    "id": "fn0zHPTnXddV"
   },
   "source": [
    "Теперь мы поищем различные закономерности в данных по фильмам, которые получили гос.поддержку."
   ]
  },
  {
   "cell_type": "code",
   "execution_count": 79,
   "metadata": {
    "colab": {
     "base_uri": "https://localhost:8080/",
     "height": 300
    },
    "id": "YCMzfM4gG7Dc",
    "outputId": "3edd4d62-d4e9-41aa-ee72-f6e2d36e90c2"
   },
   "outputs": [
    {
     "data": {
      "text/html": [
       "<div>\n",
       "<style scoped>\n",
       "    .dataframe tbody tr th:only-of-type {\n",
       "        vertical-align: middle;\n",
       "    }\n",
       "\n",
       "    .dataframe tbody tr th {\n",
       "        vertical-align: top;\n",
       "    }\n",
       "\n",
       "    .dataframe thead th {\n",
       "        text-align: right;\n",
       "    }\n",
       "</style>\n",
       "<table border=\"1\" class=\"dataframe\">\n",
       "  <thead>\n",
       "    <tr style=\"text-align: right;\">\n",
       "      <th></th>\n",
       "      <th>pu_number</th>\n",
       "      <th>refundable_support</th>\n",
       "      <th>nonrefundable_support</th>\n",
       "      <th>budget</th>\n",
       "      <th>ratings</th>\n",
       "      <th>box_office</th>\n",
       "      <th>show_start_year</th>\n",
       "      <th>support_to_budget_ratio</th>\n",
       "    </tr>\n",
       "  </thead>\n",
       "  <tbody>\n",
       "    <tr>\n",
       "      <th>pu_number</th>\n",
       "      <td>1.000000</td>\n",
       "      <td>0.002951</td>\n",
       "      <td>-0.036023</td>\n",
       "      <td>-0.018901</td>\n",
       "      <td>0.041686</td>\n",
       "      <td>-0.011875</td>\n",
       "      <td>-0.025186</td>\n",
       "      <td>0.003308</td>\n",
       "    </tr>\n",
       "    <tr>\n",
       "      <th>refundable_support</th>\n",
       "      <td>0.002951</td>\n",
       "      <td>1.000000</td>\n",
       "      <td>0.368432</td>\n",
       "      <td>0.667529</td>\n",
       "      <td>-0.004832</td>\n",
       "      <td>0.314291</td>\n",
       "      <td>0.092880</td>\n",
       "      <td>-0.021049</td>\n",
       "    </tr>\n",
       "    <tr>\n",
       "      <th>nonrefundable_support</th>\n",
       "      <td>-0.036023</td>\n",
       "      <td>0.368432</td>\n",
       "      <td>1.000000</td>\n",
       "      <td>0.626496</td>\n",
       "      <td>0.124742</td>\n",
       "      <td>0.418357</td>\n",
       "      <td>0.123471</td>\n",
       "      <td>0.131897</td>\n",
       "    </tr>\n",
       "    <tr>\n",
       "      <th>budget</th>\n",
       "      <td>-0.018901</td>\n",
       "      <td>0.667529</td>\n",
       "      <td>0.626496</td>\n",
       "      <td>1.000000</td>\n",
       "      <td>0.084047</td>\n",
       "      <td>0.366712</td>\n",
       "      <td>0.165261</td>\n",
       "      <td>-0.290784</td>\n",
       "    </tr>\n",
       "    <tr>\n",
       "      <th>ratings</th>\n",
       "      <td>0.041686</td>\n",
       "      <td>-0.004832</td>\n",
       "      <td>0.124742</td>\n",
       "      <td>0.084047</td>\n",
       "      <td>1.000000</td>\n",
       "      <td>0.143079</td>\n",
       "      <td>0.040257</td>\n",
       "      <td>-0.054034</td>\n",
       "    </tr>\n",
       "    <tr>\n",
       "      <th>box_office</th>\n",
       "      <td>-0.011875</td>\n",
       "      <td>0.314291</td>\n",
       "      <td>0.418357</td>\n",
       "      <td>0.366712</td>\n",
       "      <td>0.143079</td>\n",
       "      <td>1.000000</td>\n",
       "      <td>0.104710</td>\n",
       "      <td>-0.114955</td>\n",
       "    </tr>\n",
       "    <tr>\n",
       "      <th>show_start_year</th>\n",
       "      <td>-0.025186</td>\n",
       "      <td>0.092880</td>\n",
       "      <td>0.123471</td>\n",
       "      <td>0.165261</td>\n",
       "      <td>0.040257</td>\n",
       "      <td>0.104710</td>\n",
       "      <td>1.000000</td>\n",
       "      <td>-0.063891</td>\n",
       "    </tr>\n",
       "    <tr>\n",
       "      <th>support_to_budget_ratio</th>\n",
       "      <td>0.003308</td>\n",
       "      <td>-0.021049</td>\n",
       "      <td>0.131897</td>\n",
       "      <td>-0.290784</td>\n",
       "      <td>-0.054034</td>\n",
       "      <td>-0.114955</td>\n",
       "      <td>-0.063891</td>\n",
       "      <td>1.000000</td>\n",
       "    </tr>\n",
       "  </tbody>\n",
       "</table>\n",
       "</div>"
      ],
      "text/plain": [
       "                         pu_number  refundable_support  nonrefundable_support  \\\n",
       "pu_number                 1.000000            0.002951              -0.036023   \n",
       "refundable_support        0.002951            1.000000               0.368432   \n",
       "nonrefundable_support    -0.036023            0.368432               1.000000   \n",
       "budget                   -0.018901            0.667529               0.626496   \n",
       "ratings                   0.041686           -0.004832               0.124742   \n",
       "box_office               -0.011875            0.314291               0.418357   \n",
       "show_start_year          -0.025186            0.092880               0.123471   \n",
       "support_to_budget_ratio   0.003308           -0.021049               0.131897   \n",
       "\n",
       "                           budget   ratings  box_office  show_start_year  \\\n",
       "pu_number               -0.018901  0.041686   -0.011875        -0.025186   \n",
       "refundable_support       0.667529 -0.004832    0.314291         0.092880   \n",
       "nonrefundable_support    0.626496  0.124742    0.418357         0.123471   \n",
       "budget                   1.000000  0.084047    0.366712         0.165261   \n",
       "ratings                  0.084047  1.000000    0.143079         0.040257   \n",
       "box_office               0.366712  0.143079    1.000000         0.104710   \n",
       "show_start_year          0.165261  0.040257    0.104710         1.000000   \n",
       "support_to_budget_ratio -0.290784 -0.054034   -0.114955        -0.063891   \n",
       "\n",
       "                         support_to_budget_ratio  \n",
       "pu_number                               0.003308  \n",
       "refundable_support                     -0.021049  \n",
       "nonrefundable_support                   0.131897  \n",
       "budget                                 -0.290784  \n",
       "ratings                                -0.054034  \n",
       "box_office                             -0.114955  \n",
       "show_start_year                        -0.063891  \n",
       "support_to_budget_ratio                 1.000000  "
      ]
     },
     "execution_count": 79,
     "metadata": {},
     "output_type": "execute_result"
    }
   ],
   "source": [
    "# Отфильтруем наш датасет: возьмём только те строки, в которых указан бюджет\n",
    "# И указан объем возвращаемой поддержки или объем невозвращаемой поддержки\n",
    "# Взглянем на таблицу корреляции по новому датасету\n",
    "df_supported = df.query('(budget != 0) and ((refundable_support != 0) or (nonrefundable_support != 0))')\n",
    "df_supported.corr()"
   ]
  },
  {
   "cell_type": "code",
   "execution_count": 80,
   "metadata": {
    "colab": {
     "base_uri": "https://localhost:8080/",
     "height": 943
    },
    "id": "x3NDWs3RRTjh",
    "outputId": "c257db8d-31f4-4e8d-d7c6-976af769b628"
   },
   "outputs": [
    {
     "data": {
      "image/png": "[encoded data removed]",
      "text/plain": [
       "<Figure size 1728x1152 with 64 Axes>"
      ]
     },
     "metadata": {
      "needs_background": "light"
     },
     "output_type": "display_data"
    }
   ],
   "source": [
    "# Визуализируем таблицу корреляции через матрицу рассеяния\n",
    "ax = pd.plotting.scatter_matrix(df_supported, figsize=(24, 16))"
   ]
  },
  {
   "cell_type": "markdown",
   "metadata": {
    "id": "PsnGLHqEIkXm"
   },
   "source": [
    "Интересные наблюдения по таблице корреляции:\n",
    "1. Корреляция между бюджетом фильма и возвращаемой поддержкой и бюджетом фильма и невозвращаемой поддержкой практически одинакова. Вероятно это говорит просто о том, что объемы средств гос.поддержки расчитываются исходя из объема бюджета фильма.\n",
    "2. Корреляции между рейтингом фильма и долей господдержки почти нулевая. Можно сказать, что гос.поддержка не оказывает влияния на рейтинг фильма.\n",
    "3. Средне-слабая положительная корреляция между сборами в прокате и гос.поддержкой. Можно предположить, что гос.поддержка положительно сказывается на сборах фильмов в прокате.\n",
    "4. Отрицательная средне-слабая корреляция между бюджетом фильма и долей гос.поддержки в этом самом бюджете. Чем больше бюджет фильма, тем меньше гос.поддержка.\n",
    "5. Средне-слабая положительная корреляция между бюджетом фильма и сборами в прокате. Высокобюджетные фильмы склонны больше собирать в прокате."
   ]
  },
  {
   "cell_type": "code",
   "execution_count": 81,
   "metadata": {
    "colab": {
     "base_uri": "https://localhost:8080/",
     "height": 528
    },
    "id": "kjikX0sg9brX",
    "outputId": "44158844-9da4-486d-9cdc-718071cc9ed8"
   },
   "outputs": [
    {
     "data": {
      "image/png": "[encoded data removed]",
      "text/plain": [
       "<Figure size 864x576 with 1 Axes>"
      ]
     },
     "metadata": {
      "needs_background": "light"
     },
     "output_type": "display_data"
    }
   ],
   "source": [
    "# Оценим динамику доли гос.поддержки в бюджетах фильмов по годам\n",
    "ax = (df_supported\n",
    "      .groupby('show_start_year')\n",
    "      ['support_to_budget_ratio']\n",
    "      .mean()\n",
    "      .plot(\n",
    "          kind='bar',\n",
    "          grid=True,\n",
    "          figsize=(12, 8)\n",
    "          )\n",
    "      )\n",
    "ax.set(\n",
    "    xlabel='Год', \n",
    "    ylabel='Средняя доля гос.поддержки в бюджете фильма',\n",
    "    title='Средняя доля гос.поодержки по годам');"
   ]
  },
  {
   "cell_type": "markdown",
   "metadata": {
    "id": "RH0apT0gES82"
   },
   "source": [
    "В результате изучения динамики изменения гос.поддержки по годам в выборку попал период с 2013 по 2019 года. На диаграмме хорошо заметно, что в среднем доля гос.поддержки в фильмах год от года менялась незначительно и составляет около 50%."
   ]
  },
  {
   "cell_type": "code",
   "execution_count": 82,
   "metadata": {
    "colab": {
     "base_uri": "https://localhost:8080/",
     "height": 528
    },
    "id": "naSD8FUaGRuA",
    "outputId": "7bda8e58-640e-4fab-d6ae-79c344f50fd1"
   },
   "outputs": [
    {
     "data": {
      "image/png": "[encoded data removed]",
      "text/plain": [
       "<Figure size 864x576 with 1 Axes>"
      ]
     },
     "metadata": {
      "needs_background": "light"
     },
     "output_type": "display_data"
    }
   ],
   "source": [
    "# Оценим динамику выделяемых на гос.поддержку средств\n",
    "ax = (df_supported\n",
    "      .pivot_table(\n",
    "          index='show_start_year',\n",
    "          values=['refundable_support', 'nonrefundable_support'],\n",
    "          aggfunc='sum'\n",
    "      )\n",
    "      .plot(\n",
    "          kind='bar',\n",
    "          grid=True,\n",
    "          figsize=(12, 8)\n",
    "          )\n",
    "      )\n",
    "ax.legend(['Невозвращаемые средства', 'Возвращаемые средства'])\n",
    "ax.set(\n",
    "    xlabel='Год', \n",
    "    ylabel='Объем средств, выделяемых на гос.поддержку, млрд.руб.',\n",
    "    title='Объем средств, затрачиваемых на гос.поддержку по годам');"
   ]
  },
  {
   "cell_type": "markdown",
   "metadata": {
    "id": "eCLdwqV2Vf7y"
   },
   "source": [
    "Объем невозвращаемых средств, затрачиваемых на гос.поддержку сильно вырос в 2015 году: с 0,5 млрд. руб. до 2,5 млрд. руб.  \n",
    "В 2016 году объем затрачиваемых средств вырос ещё на 0,5 млрд. руб. до, почти, 3 млрд. руб.  \n",
    "В 2017-18 гг. выделение средств на гос.поддержку снизилось более чем на 1 млрд. руб.  \n",
    "В 2019 году вновь увеличился объем невозвращаемых средств, затрачиваемых на гос.поддержку - до более чем 3,5 млрд. руб.  \n",
    "Объем возвращаемых средств постоянно колеблется в районе 20-30% от объема невозвращаемых средств."
   ]
  },
  {
   "cell_type": "markdown",
   "metadata": {
    "id": "5C0IMSaJXTDS"
   },
   "source": [
    "### Выводы по исследованию фильмов, получивших гос.поддержку"
   ]
  },
  {
   "cell_type": "markdown",
   "metadata": {
    "id": "fxKS6maeXp9p"
   },
   "source": [
    "Наблюдения по таблице корреляции:\n",
    "1. Корреляция между бюджетом фильма и возвращаемой поддержкой и бюджетом фильма и невозвращаемой поддержкой практически одинакова. Вероятно это говорит просто о том, что объемы средств гос.поддержки расчитываются исходя из объема бюджета фильма.\n",
    "2. Корреляции между рейтингом фильма и долей господдержки почти нулевая. Можно сказать, что гос.поддержка не оказывает влияния на рейтинг фильма.\n",
    "3. Средне-слабая положительная корреляция между сборами в прокате и гос.поддержкой. Можно предположить, что гос.поддержка положительно сказывается на сборах фильмов в прокате.\n",
    "4. Отрицательная средне-слабая корреляция между бюджетом фильма и долей гос.поддержки в этом самом бюджете. Чем больше бюджет фильма, тем меньше гос.поддержка.\n",
    "5. Средне-слабая положительная корреляция между бюджетом фильма и сборами в прокате. Высокобюджетные фильмы склонны больше собирать в прокате."
   ]
  },
  {
   "cell_type": "markdown",
   "metadata": {
    "id": "YS0HvS8oXxA3"
   },
   "source": [
    "В результате изучения динамики изменения гос.поддержки по годам в выборку попал период с 2013 по 2019 года. На диаграмме хорошо заметно, что в среднем доля гос.поддержки в фильмах год от года менялась незначительно и составляет около 50%."
   ]
  },
  {
   "cell_type": "markdown",
   "metadata": {
    "id": "LaMq9MvjXzOU"
   },
   "source": [
    "Объем невозвращаемых средств, затрачиваемых на гос.поддержку сильно вырос в 2015 году: с 0,5 млрд. руб. до 2,5 млрд. руб.  \n",
    "В 2016 году объем затрачиваемых средств вырос ещё на 0,5 млрд. руб. до, почти, 3 млрд. руб.  \n",
    "В 2017-18 гг. выделение средств на гос.поддержку снизилось более чем на 1 млрд. руб.  \n",
    "В 2019 году вновь увеличился объем невозвращаемых средств, затрачиваемых на гос.поддержку - до более чем 3,5 млрд. руб.  \n",
    "Объем возвращаемых средств постоянно колеблется в районе 20-30% от объема невозвращаемых средств."
   ]
  },
  {
   "cell_type": "markdown",
   "metadata": {
    "id": "uJGwVfAPYXwu"
   },
   "source": [
    "## Итоговые выводы по проекту"
   ]
  },
  {
   "cell_type": "markdown",
   "metadata": {
    "id": "uMKphEEwatI9"
   },
   "source": [
    "### Обзор данных"
   ]
  },
  {
   "cell_type": "markdown",
   "metadata": {
    "id": "wiqKNdTqavfI"
   },
   "source": [
    "Длина датасета `df_movies` составляет 7486 строк. Ширина - 15 колонок. 12 колонок используют строковый тип данный и 3 колонки используют числовой тип данных (вещественные числа). Судя по описанию колонки `budget` в датасете только 332 строки, где присутствовала господдержка.\n",
    "\n",
    "Длина датасета `df_shows` составляет 3158 строк. Ширина - 2 колонки. В одной колонке используются вещественные числа, в другой - целые.\n",
    "\n",
    "Общий столбец для объединения датасетов - `puNumber`."
   ]
  },
  {
   "cell_type": "markdown",
   "metadata": {
    "id": "saLrVdtqafLW"
   },
   "source": [
    "### Предобработка данных"
   ]
  },
  {
   "cell_type": "markdown",
   "metadata": {
    "id": "tWlDYjQpbSUM"
   },
   "source": [
    "Был переименован столбец `puNumber` в `pu_number`."
   ]
  },
  {
   "cell_type": "markdown",
   "metadata": {
    "id": "hbDcqv5AbSUN"
   },
   "source": [
    "В датасете `df_movies` удалены пропуски в колонках, которые не относились к финансированию МинКультом РФ.\n",
    "\n",
    "В датасете `df_shows` пропуски отсутствуют."
   ]
  },
  {
   "cell_type": "markdown",
   "metadata": {
    "id": "74OdujoFbSUO"
   },
   "source": [
    "Изменение типов данных:\n",
    "\n",
    "Датасет `df_movies`:\n",
    "* Столбец `pu_number` в датасете `df_movies` приведён к целочисленному типу данных для последующего объединения датасетов.\n",
    "* Столбец `show_start_date` приведён к корректному формату даты.\n",
    "* В столбце `ratings` обнаружено два типа значений: оценка от 0 до 10 с одним знаком после запятой и оценка от 0 до 100 со знаком процента. Оценки со знаком процента были сконвертированы в оценки от 0 до 10, знак процента отброшен. После этого весь столбец был приведён к типу данных `float`.\n",
    "\n",
    "Датасет `df_shows`:\n",
    "* Изменение типов данных не требуется"
   ]
  },
  {
   "cell_type": "markdown",
   "metadata": {
    "id": "LEXb3ezLbSUP"
   },
   "source": [
    "После операций выше датасеты были объединены в один."
   ]
  },
  {
   "cell_type": "markdown",
   "metadata": {
    "id": "FvFgYMcS2OFv"
   },
   "source": [
    "Были обработаны явные и неявные дубликаты:\n",
    "\n",
    "\n",
    "1.   В строках 3788 и 3789 указаны разные фильмы, но прокатное удостоверение у них одно. Такая же ситуация в строках 4183-4184. Видимо результат ошибки. Заменили один из номеров в каждой паре прокатного удостоверения на свободное число.\n",
    "\n",
    "2.   Среди неявных дубликатов было обнаружено:\n",
    "\n",
    "    1.   Значения с лишними пробелами в столбце `type`. Отформатировано.\n",
    "    2.   Страны в столбце `production_country` записаны в нескольких вариантах. С пробелами, без пробелов, через дефис, через запятую. Исправили это с помощью регулярного выражения и привели к единому формату.\n",
    "\n",
    "\n",
    "\n"
   ]
  },
  {
   "cell_type": "markdown",
   "metadata": {
    "id": "HQTWt2Q-bSUQ"
   },
   "source": [
    "Были изучены столбцы с количественными данными:  \n",
    "Аномалий не обнаружено, пропуски заполнены нулями."
   ]
  },
  {
   "cell_type": "markdown",
   "metadata": {
    "id": "bVH-pcQ9bSUR"
   },
   "source": [
    "Были добавлены столбцы:\n",
    "* Год проката\n",
    "* Имя и фамилия главного режиссёра\n",
    "* Основной жанр фильма\n",
    "* Доля гос.поддержки в общем бюджете фильма"
   ]
  },
  {
   "cell_type": "markdown",
   "metadata": {
    "id": "g3ZKE7PZbaW5"
   },
   "source": [
    "### Исследовательский анализ данных"
   ]
  },
  {
   "cell_type": "markdown",
   "metadata": {
    "id": "RL1MBGTKbf3q"
   },
   "source": [
    "Выводы по количеству фильмов в прокате по годам:\n",
    "1. Больше всего прокатных удостоверений выдано было в 2010 году, почти 900. В последующие годы ежегодно в прокат выходило 500-700 фильмов. Исключением является 2017 год, в котором выдано 400 прокатных удостоверений. Интересно, с чем это может быть связано? \n",
    "2. Год от года заметен рост количества фильмов с указанной суммой кассовых сборов. Так же эти данные можно назвать \"данными по прокату в кинотеатрах\". Почти в два раза выросло число таких фильмов в 2015 году - с 200 до 400. С 2015 по 2019 количество таких фильмов примерно одинаково - около 450 фильмов в год. В 2017 году так же заметна просадка по количеству фильмов."
   ]
  },
  {
   "cell_type": "markdown",
   "metadata": {
    "id": "AZlagzv6bf3r"
   },
   "source": [
    "Выводы по доле фильмов с известной суммой кассовых сборов по годам (от общего количества фильмов в прокате):\n",
    "1. Примерно только по 10% фильмов были известны данные о прокате в кинотеатрах в 2010 году. Это минимальное значение данной характеристики.\n",
    "2. С 2010 по 2014 года наблюдается стабильный ежегодный рост доли фильмов с известными данными по прокату, примерно 7-10% в год.\n",
    "3. В 2015 году произошёл скачкообразный рост - с 40% до более чем 70%.\n",
    "4. С 2015 по 2019 года доля фильмов с прокатной информацией колебалась от ~68% до более чем 80% в 2017 году.\n",
    "5. Можно сделать вывод, что наиболее полно, в плане информации о прокате, представлены года с 2015 по 2019."
   ]
  },
  {
   "cell_type": "markdown",
   "metadata": {
    "id": "O_0nYxy8bf3s"
   },
   "source": [
    "Выводы по сумме сборов по годам следующие:\n",
    "1. Сумма сборов за период с 2010 по 2012 года составила менее 10 млн. руб. в год.\n",
    "2. В 2013 году сумма сборов составила около 30 млн. руб.\n",
    "3. В 2014 году указанная сумма сборов значительно выросла - до 7,3 млрд. руб.\n",
    "4. За период с 2015 по 2019 гг. указанная сумма сборов выросла ещё больше и колебалась в диапазоне 37-48 млрд. руб. в год."
   ]
  },
  {
   "cell_type": "markdown",
   "metadata": {
    "id": "Y7sCyCwfbf3t"
   },
   "source": [
    "Выводы по средней и медианной сумме сборов по годам:\n",
    "1. За период с 2010 по 2013 года средняя сумма сборов находилась в диапазоне 20-200 тыс. руб. Медианная - в диапазоне 1,7-4,8 тыс. руб.\n",
    "2. В 2014 году средняя сумма сборов резко увеличилась - почти до 33 млн. руб. Медианное значение так же стало больше и составило 78 тыс. руб.\n",
    "3. В периоде с 2015 по 2019 года средняя и медианная сумма кассовых сборов выросли ещё сильнее относительно прошлых лет. Но между собой год от года значения почти не менялись и составили более 100 млн. руб. для средней суммы и 5 - 10 млн. руб. для медианного значения.\n",
    "\n",
    "Заметен довольно большой разрыв между средним и медианным значением в пользу первого. Это говорит о том, что существует небольшое количество фильмов, сумма сборов по которым оказалась гораздо больше, чем у большинства других фильмов. И сборы этих фильмов тянут среднее значение сильно вверх."
   ]
  },
  {
   "cell_type": "markdown",
   "metadata": {
    "id": "0yba1bnmbf3t"
   },
   "source": [
    "Сборы фильмов в прокате за 2015-2019 года по категориям составили:\n",
    "1. Фильмы категории \"16+\" - 73 млрд. руб.\n",
    "2. Фильмы категории \"12+\" - 58 млрд. руб.  \n",
    "3. Фильмы категории \"6+\" - 53 млрд. руб.\n",
    "4. Фильмы категории \"18+\" - 40 млрд. руб.\n",
    "5. Фильмы категории \"0+\" - 654 млн. руб.\n"
   ]
  },
  {
   "cell_type": "markdown",
   "metadata": {
    "id": "vGCNdTpFbf3t"
   },
   "source": [
    "Вывод по сумме сборов в прокате по годам с разделением по возрастным категориям:\n",
    "1. По фильмам категории \"18+\" за период 2015-2019 гг. наблюдается положительный тренд с увеличением суммы кассовых сборов за исключением небольшого падения в 2018 году.\n",
    "2. По фильмам категории \"16+\" наблюдается сначала рост с пиков в 2017 году и затем спад сумм кассовых сборов.\n",
    "3. Фильмы категории \"12+\" показывают стабильные суммы сборов в прокате за исключением двухкратного сокращения сборов в 2017 году.\n",
    "4. Фильмы категории \"6+\" до 2018 года показывали рост сборов, затем в 2018-19 гг. произошёл небольшой спад.\n",
    "5. Фильмы категории \"0+\" показали относительно большие сборы в 2015 году с последующим более чем трёхкратным падением в 2016 году. В 2017 году сборы составили примерно 2/3 от уровня 2015 года. В 2018-19 гг. сборы были на минимальном уровне, менее 10% от уровня 2015 года.\n"
   ]
  },
  {
   "cell_type": "markdown",
   "metadata": {
    "id": "WKMUlYAfbgqR"
   },
   "source": [
    "### Исследование фильмов, получивших гос.поддержку"
   ]
  },
  {
   "cell_type": "markdown",
   "metadata": {
    "id": "lJ6dMHYZbm43"
   },
   "source": [
    "Наблюдения по таблице корреляции:\n",
    "1. Корреляция между бюджетом фильма и возвращаемой поддержкой и бюджетом фильма и невозвращаемой поддержкой практически одинакова. Вероятно это говорит просто о том, что объемы средств гос.поддержки расчитываются исходя из объема бюджета фильма.\n",
    "2. Корреляции между рейтингом фильма и долей господдержки почти нулевая. Можно сказать, что гос.поддержка не оказывает влияния на рейтинг фильма.\n",
    "3. Средне-слабая положительная корреляция между сборами в прокате и гос.поддержкой. Можно предположить, что гос.поддержка положительно сказывается на сборах фильмов в прокате.\n",
    "4. Отрицательная средне-слабая корреляция между бюджетом фильма и долей гос.поддержки в этом самом бюджете. Чем больше бюджет фильма, тем меньше гос.поддержка.\n",
    "5. Средне-слабая положительная корреляция между бюджетом фильма и сборами в прокате. Высокобюджетные фильмы склонны больше собирать в прокате."
   ]
  },
  {
   "cell_type": "markdown",
   "metadata": {
    "id": "_UzzYBoGbm44"
   },
   "source": [
    "В результате изучения динамики изменения гос.поддержки по годам в выборку попал период с 2013 по 2019 года. На диаграмме хорошо заметно, что в среднем доля гос.поддержки в фильмах год от года менялась незначительно и составляет около 50%."
   ]
  },
  {
   "cell_type": "markdown",
   "metadata": {
    "id": "5-lX555cbm44"
   },
   "source": [
    "Объем невозвращаемых средств, затрачиваемых на гос.поддержку сильно вырос в 2015 году: с 0,5 млрд. руб. до 2,5 млрд. руб.  \n",
    "В 2016 году объем затрачиваемых средств вырос ещё на 0,5 млрд. руб. до, почти, 3 млрд. руб.  \n",
    "В 2017-18 гг. выделение средств на гос.поддержку снизилось более чем на 1 млрд. руб.  \n",
    "В 2019 году вновь увеличился объем невозвращаемых средств, затрачиваемых на гос.поддержку - до более чем 3,5 млрд. руб.  \n",
    "Объем возвращаемых средств постоянно колеблется в районе 20-30% от объема невозвращаемых средств."
   ]
  }
 ],
 "metadata": {
  "ExecuteTimeLog": [
   {
    "duration": 1057,
    "start_time": "2022-04-29T15:36:28.476Z"
   },
   {
    "duration": 4,
    "start_time": "2022-04-29T15:36:29.536Z"
   },
   {
    "duration": 124,
    "start_time": "2022-04-29T15:36:29.542Z"
   },
   {
    "duration": 0,
    "start_time": "2022-04-29T15:36:29.672Z"
   },
   {
    "duration": 1,
    "start_time": "2022-04-29T15:36:29.673Z"
   },
   {
    "duration": 0,
    "start_time": "2022-04-29T15:36:29.675Z"
   },
   {
    "duration": 0,
    "start_time": "2022-04-29T15:36:29.677Z"
   },
   {
    "duration": 0,
    "start_time": "2022-04-29T15:36:29.678Z"
   },
   {
    "duration": 0,
    "start_time": "2022-04-29T15:36:29.680Z"
   },
   {
    "duration": 0,
    "start_time": "2022-04-29T15:36:29.681Z"
   },
   {
    "duration": 0,
    "start_time": "2022-04-29T15:36:29.683Z"
   },
   {
    "duration": 0,
    "start_time": "2022-04-29T15:36:29.684Z"
   },
   {
    "duration": 0,
    "start_time": "2022-04-29T15:36:29.686Z"
   },
   {
    "duration": 0,
    "start_time": "2022-04-29T15:36:29.687Z"
   },
   {
    "duration": 0,
    "start_time": "2022-04-29T15:36:29.688Z"
   },
   {
    "duration": 0,
    "start_time": "2022-04-29T15:36:29.690Z"
   },
   {
    "duration": 0,
    "start_time": "2022-04-29T15:36:29.691Z"
   },
   {
    "duration": 0,
    "start_time": "2022-04-29T15:36:29.693Z"
   },
   {
    "duration": 0,
    "start_time": "2022-04-29T15:36:29.694Z"
   },
   {
    "duration": 0,
    "start_time": "2022-04-29T15:36:29.695Z"
   },
   {
    "duration": 0,
    "start_time": "2022-04-29T15:36:29.697Z"
   },
   {
    "duration": 0,
    "start_time": "2022-04-29T15:36:29.698Z"
   },
   {
    "duration": 0,
    "start_time": "2022-04-29T15:36:29.700Z"
   },
   {
    "duration": 0,
    "start_time": "2022-04-29T15:36:29.701Z"
   },
   {
    "duration": 0,
    "start_time": "2022-04-29T15:36:29.752Z"
   },
   {
    "duration": 0,
    "start_time": "2022-04-29T15:36:29.754Z"
   },
   {
    "duration": 0,
    "start_time": "2022-04-29T15:36:29.755Z"
   },
   {
    "duration": 0,
    "start_time": "2022-04-29T15:36:29.757Z"
   },
   {
    "duration": 0,
    "start_time": "2022-04-29T15:36:29.758Z"
   },
   {
    "duration": 0,
    "start_time": "2022-04-29T15:36:29.760Z"
   },
   {
    "duration": 0,
    "start_time": "2022-04-29T15:36:29.761Z"
   },
   {
    "duration": 0,
    "start_time": "2022-04-29T15:36:29.763Z"
   },
   {
    "duration": 0,
    "start_time": "2022-04-29T15:36:29.764Z"
   },
   {
    "duration": 0,
    "start_time": "2022-04-29T15:36:29.766Z"
   },
   {
    "duration": 0,
    "start_time": "2022-04-29T15:36:29.767Z"
   },
   {
    "duration": 0,
    "start_time": "2022-04-29T15:36:29.769Z"
   },
   {
    "duration": 0,
    "start_time": "2022-04-29T15:36:29.770Z"
   },
   {
    "duration": 0,
    "start_time": "2022-04-29T15:36:29.771Z"
   },
   {
    "duration": 0,
    "start_time": "2022-04-29T15:36:29.773Z"
   },
   {
    "duration": 0,
    "start_time": "2022-04-29T15:36:29.774Z"
   },
   {
    "duration": 1,
    "start_time": "2022-04-29T15:36:29.775Z"
   },
   {
    "duration": 0,
    "start_time": "2022-04-29T15:36:29.777Z"
   },
   {
    "duration": 0,
    "start_time": "2022-04-29T15:36:29.779Z"
   },
   {
    "duration": 0,
    "start_time": "2022-04-29T15:36:29.780Z"
   },
   {
    "duration": 0,
    "start_time": "2022-04-29T15:36:29.781Z"
   },
   {
    "duration": 0,
    "start_time": "2022-04-29T15:36:29.783Z"
   },
   {
    "duration": 0,
    "start_time": "2022-04-29T15:36:29.785Z"
   },
   {
    "duration": 0,
    "start_time": "2022-04-29T15:36:29.786Z"
   },
   {
    "duration": 0,
    "start_time": "2022-04-29T15:36:29.788Z"
   },
   {
    "duration": 0,
    "start_time": "2022-04-29T15:36:29.789Z"
   },
   {
    "duration": 0,
    "start_time": "2022-04-29T15:36:29.790Z"
   },
   {
    "duration": 0,
    "start_time": "2022-04-29T15:36:29.852Z"
   },
   {
    "duration": 0,
    "start_time": "2022-04-29T15:36:29.854Z"
   },
   {
    "duration": 0,
    "start_time": "2022-04-29T15:36:29.855Z"
   },
   {
    "duration": 0,
    "start_time": "2022-04-29T15:36:29.856Z"
   },
   {
    "duration": 0,
    "start_time": "2022-04-29T15:36:29.858Z"
   },
   {
    "duration": 0,
    "start_time": "2022-04-29T15:36:29.859Z"
   },
   {
    "duration": 0,
    "start_time": "2022-04-29T15:36:29.861Z"
   },
   {
    "duration": 0,
    "start_time": "2022-04-29T15:36:29.862Z"
   },
   {
    "duration": 0,
    "start_time": "2022-04-29T15:36:29.864Z"
   },
   {
    "duration": 0,
    "start_time": "2022-04-29T15:36:29.866Z"
   },
   {
    "duration": 0,
    "start_time": "2022-04-29T15:36:29.867Z"
   },
   {
    "duration": 0,
    "start_time": "2022-04-29T15:36:29.869Z"
   },
   {
    "duration": 0,
    "start_time": "2022-04-29T15:36:29.871Z"
   },
   {
    "duration": 0,
    "start_time": "2022-04-29T15:36:29.873Z"
   },
   {
    "duration": 0,
    "start_time": "2022-04-29T15:36:29.875Z"
   },
   {
    "duration": 1,
    "start_time": "2022-04-29T15:36:29.876Z"
   },
   {
    "duration": 0,
    "start_time": "2022-04-29T15:36:29.878Z"
   },
   {
    "duration": 0,
    "start_time": "2022-04-29T15:36:29.880Z"
   },
   {
    "duration": 0,
    "start_time": "2022-04-29T15:36:29.881Z"
   },
   {
    "duration": 0,
    "start_time": "2022-04-29T15:36:29.883Z"
   },
   {
    "duration": 0,
    "start_time": "2022-04-29T15:36:29.884Z"
   },
   {
    "duration": 0,
    "start_time": "2022-04-29T15:36:29.886Z"
   },
   {
    "duration": 0,
    "start_time": "2022-04-29T15:36:29.953Z"
   },
   {
    "duration": 0,
    "start_time": "2022-04-29T15:36:29.954Z"
   },
   {
    "duration": 0,
    "start_time": "2022-04-29T15:36:29.956Z"
   },
   {
    "duration": 1,
    "start_time": "2022-04-29T15:36:29.957Z"
   },
   {
    "duration": 0,
    "start_time": "2022-04-29T15:36:29.959Z"
   },
   {
    "duration": 0,
    "start_time": "2022-04-29T15:36:29.961Z"
   },
   {
    "duration": 0,
    "start_time": "2022-04-29T15:36:29.962Z"
   },
   {
    "duration": 2,
    "start_time": "2022-04-29T15:45:38.998Z"
   },
   {
    "duration": 86,
    "start_time": "2022-04-29T15:46:34.524Z"
   },
   {
    "duration": 821,
    "start_time": "2022-04-29T15:46:40.169Z"
   },
   {
    "duration": 4,
    "start_time": "2022-04-29T15:46:40.993Z"
   },
   {
    "duration": 9,
    "start_time": "2022-04-29T15:46:40.999Z"
   },
   {
    "duration": 96,
    "start_time": "2022-04-29T15:46:41.010Z"
   },
   {
    "duration": 21,
    "start_time": "2022-04-29T15:46:41.110Z"
   },
   {
    "duration": 132,
    "start_time": "2022-04-29T15:46:41.133Z"
   },
   {
    "duration": 0,
    "start_time": "2022-04-29T15:46:41.270Z"
   },
   {
    "duration": 0,
    "start_time": "2022-04-29T15:46:41.271Z"
   },
   {
    "duration": 0,
    "start_time": "2022-04-29T15:46:41.273Z"
   },
   {
    "duration": 0,
    "start_time": "2022-04-29T15:46:41.274Z"
   },
   {
    "duration": 0,
    "start_time": "2022-04-29T15:46:41.275Z"
   },
   {
    "duration": 0,
    "start_time": "2022-04-29T15:46:41.277Z"
   },
   {
    "duration": 0,
    "start_time": "2022-04-29T15:46:41.279Z"
   },
   {
    "duration": 0,
    "start_time": "2022-04-29T15:46:41.280Z"
   },
   {
    "duration": 0,
    "start_time": "2022-04-29T15:46:41.282Z"
   },
   {
    "duration": 0,
    "start_time": "2022-04-29T15:46:41.283Z"
   },
   {
    "duration": 0,
    "start_time": "2022-04-29T15:46:41.284Z"
   },
   {
    "duration": 0,
    "start_time": "2022-04-29T15:46:41.286Z"
   },
   {
    "duration": 0,
    "start_time": "2022-04-29T15:46:41.287Z"
   },
   {
    "duration": 0,
    "start_time": "2022-04-29T15:46:41.289Z"
   },
   {
    "duration": 0,
    "start_time": "2022-04-29T15:46:41.290Z"
   },
   {
    "duration": 0,
    "start_time": "2022-04-29T15:46:41.291Z"
   },
   {
    "duration": 0,
    "start_time": "2022-04-29T15:46:41.293Z"
   },
   {
    "duration": 0,
    "start_time": "2022-04-29T15:46:41.295Z"
   },
   {
    "duration": 0,
    "start_time": "2022-04-29T15:46:41.296Z"
   },
   {
    "duration": 0,
    "start_time": "2022-04-29T15:46:41.297Z"
   },
   {
    "duration": 0,
    "start_time": "2022-04-29T15:46:41.299Z"
   },
   {
    "duration": 0,
    "start_time": "2022-04-29T15:46:41.352Z"
   },
   {
    "duration": 0,
    "start_time": "2022-04-29T15:46:41.354Z"
   },
   {
    "duration": 0,
    "start_time": "2022-04-29T15:46:41.355Z"
   },
   {
    "duration": 0,
    "start_time": "2022-04-29T15:46:41.357Z"
   },
   {
    "duration": 0,
    "start_time": "2022-04-29T15:46:41.358Z"
   },
   {
    "duration": 0,
    "start_time": "2022-04-29T15:46:41.359Z"
   },
   {
    "duration": 0,
    "start_time": "2022-04-29T15:46:41.361Z"
   },
   {
    "duration": 0,
    "start_time": "2022-04-29T15:46:41.362Z"
   },
   {
    "duration": 0,
    "start_time": "2022-04-29T15:46:41.364Z"
   },
   {
    "duration": 0,
    "start_time": "2022-04-29T15:46:41.365Z"
   },
   {
    "duration": 0,
    "start_time": "2022-04-29T15:46:41.367Z"
   },
   {
    "duration": 0,
    "start_time": "2022-04-29T15:46:41.368Z"
   },
   {
    "duration": 0,
    "start_time": "2022-04-29T15:46:41.369Z"
   },
   {
    "duration": 0,
    "start_time": "2022-04-29T15:46:41.371Z"
   },
   {
    "duration": 0,
    "start_time": "2022-04-29T15:46:41.372Z"
   },
   {
    "duration": 0,
    "start_time": "2022-04-29T15:46:41.374Z"
   },
   {
    "duration": 0,
    "start_time": "2022-04-29T15:46:41.376Z"
   },
   {
    "duration": 0,
    "start_time": "2022-04-29T15:46:41.378Z"
   },
   {
    "duration": 0,
    "start_time": "2022-04-29T15:46:41.379Z"
   },
   {
    "duration": 0,
    "start_time": "2022-04-29T15:46:41.381Z"
   },
   {
    "duration": 0,
    "start_time": "2022-04-29T15:46:41.382Z"
   },
   {
    "duration": 0,
    "start_time": "2022-04-29T15:46:41.384Z"
   },
   {
    "duration": 0,
    "start_time": "2022-04-29T15:46:41.385Z"
   },
   {
    "duration": 0,
    "start_time": "2022-04-29T15:46:41.387Z"
   },
   {
    "duration": 0,
    "start_time": "2022-04-29T15:46:41.453Z"
   },
   {
    "duration": 0,
    "start_time": "2022-04-29T15:46:41.454Z"
   },
   {
    "duration": 1,
    "start_time": "2022-04-29T15:46:41.455Z"
   },
   {
    "duration": 0,
    "start_time": "2022-04-29T15:46:41.457Z"
   },
   {
    "duration": 0,
    "start_time": "2022-04-29T15:46:41.458Z"
   },
   {
    "duration": 0,
    "start_time": "2022-04-29T15:46:41.460Z"
   },
   {
    "duration": 0,
    "start_time": "2022-04-29T15:46:41.461Z"
   },
   {
    "duration": 0,
    "start_time": "2022-04-29T15:46:41.463Z"
   },
   {
    "duration": 0,
    "start_time": "2022-04-29T15:46:41.464Z"
   },
   {
    "duration": 0,
    "start_time": "2022-04-29T15:46:41.465Z"
   },
   {
    "duration": 0,
    "start_time": "2022-04-29T15:46:41.467Z"
   },
   {
    "duration": 0,
    "start_time": "2022-04-29T15:46:41.468Z"
   },
   {
    "duration": 0,
    "start_time": "2022-04-29T15:46:41.471Z"
   },
   {
    "duration": 0,
    "start_time": "2022-04-29T15:46:41.472Z"
   },
   {
    "duration": 0,
    "start_time": "2022-04-29T15:46:41.474Z"
   },
   {
    "duration": 0,
    "start_time": "2022-04-29T15:46:41.475Z"
   },
   {
    "duration": 0,
    "start_time": "2022-04-29T15:46:41.476Z"
   },
   {
    "duration": 0,
    "start_time": "2022-04-29T15:46:41.477Z"
   },
   {
    "duration": 0,
    "start_time": "2022-04-29T15:46:41.479Z"
   },
   {
    "duration": 0,
    "start_time": "2022-04-29T15:46:41.480Z"
   },
   {
    "duration": 0,
    "start_time": "2022-04-29T15:46:41.482Z"
   },
   {
    "duration": 0,
    "start_time": "2022-04-29T15:46:41.483Z"
   },
   {
    "duration": 0,
    "start_time": "2022-04-29T15:46:41.485Z"
   },
   {
    "duration": 0,
    "start_time": "2022-04-29T15:46:41.486Z"
   },
   {
    "duration": 0,
    "start_time": "2022-04-29T15:46:41.487Z"
   },
   {
    "duration": 0,
    "start_time": "2022-04-29T15:46:41.489Z"
   },
   {
    "duration": 0,
    "start_time": "2022-04-29T15:46:41.552Z"
   },
   {
    "duration": 0,
    "start_time": "2022-04-29T15:46:41.554Z"
   },
   {
    "duration": 0,
    "start_time": "2022-04-29T15:46:41.555Z"
   },
   {
    "duration": 0,
    "start_time": "2022-04-29T15:46:41.556Z"
   },
   {
    "duration": 4,
    "start_time": "2022-04-29T15:47:02.795Z"
   },
   {
    "duration": 845,
    "start_time": "2022-04-29T15:47:26.655Z"
   },
   {
    "duration": 4,
    "start_time": "2022-04-29T15:47:27.502Z"
   },
   {
    "duration": 9,
    "start_time": "2022-04-29T15:47:27.508Z"
   },
   {
    "duration": 96,
    "start_time": "2022-04-29T15:47:27.519Z"
   },
   {
    "duration": 21,
    "start_time": "2022-04-29T15:47:27.617Z"
   },
   {
    "duration": 3,
    "start_time": "2022-04-29T15:47:27.652Z"
   },
   {
    "duration": 29,
    "start_time": "2022-04-29T15:47:27.657Z"
   },
   {
    "duration": 15,
    "start_time": "2022-04-29T15:47:27.688Z"
   },
   {
    "duration": 18,
    "start_time": "2022-04-29T15:47:27.705Z"
   },
   {
    "duration": 8,
    "start_time": "2022-04-29T15:47:27.727Z"
   },
   {
    "duration": 44,
    "start_time": "2022-04-29T15:47:27.737Z"
   },
   {
    "duration": 12,
    "start_time": "2022-04-29T15:47:27.783Z"
   },
   {
    "duration": 25,
    "start_time": "2022-04-29T15:47:27.797Z"
   },
   {
    "duration": 29,
    "start_time": "2022-04-29T15:47:27.824Z"
   },
   {
    "duration": 13,
    "start_time": "2022-04-29T15:47:27.855Z"
   },
   {
    "duration": 12,
    "start_time": "2022-04-29T15:47:27.870Z"
   },
   {
    "duration": 26,
    "start_time": "2022-04-29T15:47:27.884Z"
   },
   {
    "duration": 46,
    "start_time": "2022-04-29T15:47:27.912Z"
   },
   {
    "duration": 10,
    "start_time": "2022-04-29T15:47:27.960Z"
   },
   {
    "duration": 6,
    "start_time": "2022-04-29T15:47:27.972Z"
   },
   {
    "duration": 18,
    "start_time": "2022-04-29T15:47:27.980Z"
   },
   {
    "duration": 9,
    "start_time": "2022-04-29T15:47:28.000Z"
   },
   {
    "duration": 42,
    "start_time": "2022-04-29T15:47:28.011Z"
   },
   {
    "duration": 16,
    "start_time": "2022-04-29T15:47:28.056Z"
   },
   {
    "duration": 4,
    "start_time": "2022-04-29T15:47:28.074Z"
   },
   {
    "duration": 14,
    "start_time": "2022-04-29T15:47:28.081Z"
   },
   {
    "duration": 62,
    "start_time": "2022-04-29T15:47:28.097Z"
   },
   {
    "duration": 35,
    "start_time": "2022-04-29T15:47:28.168Z"
   },
   {
    "duration": 56,
    "start_time": "2022-04-29T15:47:28.206Z"
   },
   {
    "duration": 23,
    "start_time": "2022-04-29T15:47:28.265Z"
   },
   {
    "duration": 8,
    "start_time": "2022-04-29T15:47:28.291Z"
   },
   {
    "duration": 52,
    "start_time": "2022-04-29T15:47:28.301Z"
   },
   {
    "duration": 16,
    "start_time": "2022-04-29T15:47:28.355Z"
   },
   {
    "duration": 9,
    "start_time": "2022-04-29T15:47:28.373Z"
   },
   {
    "duration": 12,
    "start_time": "2022-04-29T15:47:28.385Z"
   },
   {
    "duration": 12,
    "start_time": "2022-04-29T15:47:28.399Z"
   },
   {
    "duration": 9,
    "start_time": "2022-04-29T15:47:28.453Z"
   },
   {
    "duration": 9,
    "start_time": "2022-04-29T15:47:28.464Z"
   },
   {
    "duration": 14,
    "start_time": "2022-04-29T15:47:28.475Z"
   },
   {
    "duration": 12,
    "start_time": "2022-04-29T15:47:28.491Z"
   },
   {
    "duration": 11,
    "start_time": "2022-04-29T15:47:28.505Z"
   },
   {
    "duration": 9,
    "start_time": "2022-04-29T15:47:28.551Z"
   },
   {
    "duration": 13,
    "start_time": "2022-04-29T15:47:28.562Z"
   },
   {
    "duration": 26,
    "start_time": "2022-04-29T15:47:28.577Z"
   },
   {
    "duration": 10,
    "start_time": "2022-04-29T15:47:28.605Z"
   },
   {
    "duration": 40,
    "start_time": "2022-04-29T15:47:28.617Z"
   },
   {
    "duration": 7,
    "start_time": "2022-04-29T15:47:28.660Z"
   },
   {
    "duration": 10,
    "start_time": "2022-04-29T15:47:28.669Z"
   },
   {
    "duration": 11,
    "start_time": "2022-04-29T15:47:28.681Z"
   },
   {
    "duration": 8,
    "start_time": "2022-04-29T15:47:28.694Z"
   },
   {
    "duration": 49,
    "start_time": "2022-04-29T15:47:28.704Z"
   },
   {
    "duration": 8,
    "start_time": "2022-04-29T15:47:28.755Z"
   },
   {
    "duration": 15,
    "start_time": "2022-04-29T15:47:28.765Z"
   },
   {
    "duration": 11,
    "start_time": "2022-04-29T15:47:28.782Z"
   },
   {
    "duration": 8,
    "start_time": "2022-04-29T15:47:28.795Z"
   },
   {
    "duration": 54,
    "start_time": "2022-04-29T15:47:28.806Z"
   },
   {
    "duration": 11,
    "start_time": "2022-04-29T15:47:28.862Z"
   },
   {
    "duration": 8,
    "start_time": "2022-04-29T15:47:28.875Z"
   },
   {
    "duration": 14,
    "start_time": "2022-04-29T15:47:28.885Z"
   },
   {
    "duration": 11,
    "start_time": "2022-04-29T15:47:28.901Z"
   },
   {
    "duration": 8,
    "start_time": "2022-04-29T15:47:28.952Z"
   },
   {
    "duration": 13,
    "start_time": "2022-04-29T15:47:28.962Z"
   },
   {
    "duration": 27,
    "start_time": "2022-04-29T15:47:28.976Z"
   },
   {
    "duration": 162,
    "start_time": "2022-04-29T15:47:29.005Z"
   },
   {
    "duration": 134,
    "start_time": "2022-04-29T15:47:29.169Z"
   },
   {
    "duration": 49,
    "start_time": "2022-04-29T15:47:29.305Z"
   },
   {
    "duration": 12,
    "start_time": "2022-04-29T15:47:29.356Z"
   },
   {
    "duration": 406,
    "start_time": "2022-04-29T15:47:29.371Z"
   },
   {
    "duration": 349,
    "start_time": "2022-04-29T15:47:29.779Z"
   },
   {
    "duration": 29,
    "start_time": "2022-04-29T15:47:30.131Z"
   },
   {
    "duration": 363,
    "start_time": "2022-04-29T15:47:30.162Z"
   },
   {
    "duration": 898,
    "start_time": "2022-04-29T15:47:30.528Z"
   },
   {
    "duration": 9,
    "start_time": "2022-04-29T15:47:31.429Z"
   },
   {
    "duration": 31,
    "start_time": "2022-04-29T15:47:31.451Z"
   },
   {
    "duration": 842,
    "start_time": "2022-04-29T15:47:31.484Z"
   },
   {
    "duration": 30,
    "start_time": "2022-04-29T15:47:32.328Z"
   },
   {
    "duration": 71,
    "start_time": "2022-04-29T15:47:32.360Z"
   },
   {
    "duration": 1284,
    "start_time": "2022-04-29T15:47:32.434Z"
   },
   {
    "duration": 37,
    "start_time": "2022-04-29T15:47:33.721Z"
   },
   {
    "duration": 5856,
    "start_time": "2022-04-29T15:47:33.760Z"
   },
   {
    "duration": 287,
    "start_time": "2022-04-29T15:47:39.619Z"
   },
   {
    "duration": 473,
    "start_time": "2022-04-29T15:47:39.916Z"
   },
   {
    "duration": 6,
    "start_time": "2022-04-29T16:10:15.897Z"
   },
   {
    "duration": 6,
    "start_time": "2022-04-29T16:11:29.715Z"
   },
   {
    "duration": 20,
    "start_time": "2022-04-29T16:19:44.614Z"
   },
   {
    "duration": 4,
    "start_time": "2022-04-30T12:57:33.390Z"
   },
   {
    "duration": 70,
    "start_time": "2022-04-30T12:57:47.861Z"
   },
   {
    "duration": 1113,
    "start_time": "2022-04-30T12:57:51.850Z"
   },
   {
    "duration": 4,
    "start_time": "2022-04-30T12:57:54.699Z"
   },
   {
    "duration": 117,
    "start_time": "2022-04-30T12:57:55.579Z"
   },
   {
    "duration": 110,
    "start_time": "2022-04-30T12:58:52.646Z"
   },
   {
    "duration": 22,
    "start_time": "2022-04-30T13:01:34.445Z"
   },
   {
    "duration": 29,
    "start_time": "2022-04-30T13:02:24.291Z"
   },
   {
    "duration": 14,
    "start_time": "2022-04-30T13:02:31.922Z"
   },
   {
    "duration": 8,
    "start_time": "2022-04-30T13:02:35.495Z"
   },
   {
    "duration": 7,
    "start_time": "2022-04-30T13:02:38.081Z"
   },
   {
    "duration": 31,
    "start_time": "2022-04-30T13:02:57.975Z"
   },
   {
    "duration": 13,
    "start_time": "2022-04-30T13:03:09.946Z"
   },
   {
    "duration": 27,
    "start_time": "2022-04-30T13:03:19.182Z"
   },
   {
    "duration": 98,
    "start_time": "2022-05-03T09:04:04.041Z"
   },
   {
    "duration": 1433,
    "start_time": "2022-05-03T09:06:46.458Z"
   },
   {
    "duration": 5,
    "start_time": "2022-05-03T09:06:47.895Z"
   },
   {
    "duration": 416,
    "start_time": "2022-05-03T09:06:47.902Z"
   },
   {
    "duration": 4,
    "start_time": "2022-05-03T09:06:48.323Z"
   },
   {
    "duration": 43,
    "start_time": "2022-05-03T09:06:48.331Z"
   },
   {
    "duration": 102,
    "start_time": "2022-05-03T09:06:48.376Z"
   },
   {
    "duration": 4,
    "start_time": "2022-05-03T09:06:48.480Z"
   },
   {
    "duration": 43,
    "start_time": "2022-05-03T09:06:48.487Z"
   },
   {
    "duration": 18,
    "start_time": "2022-05-03T09:06:48.533Z"
   },
   {
    "duration": 11,
    "start_time": "2022-05-03T09:06:48.555Z"
   },
   {
    "duration": 44,
    "start_time": "2022-05-03T09:06:48.568Z"
   },
   {
    "duration": 18,
    "start_time": "2022-05-03T09:06:48.615Z"
   },
   {
    "duration": 23,
    "start_time": "2022-05-03T09:06:48.636Z"
   },
   {
    "duration": 5,
    "start_time": "2022-05-03T09:08:12.611Z"
   },
   {
    "duration": 1029,
    "start_time": "2022-05-03T09:16:54.791Z"
   },
   {
    "duration": 4,
    "start_time": "2022-05-03T09:16:55.822Z"
   },
   {
    "duration": 142,
    "start_time": "2022-05-03T09:16:55.829Z"
   },
   {
    "duration": 4,
    "start_time": "2022-05-03T09:16:55.975Z"
   },
   {
    "duration": 47,
    "start_time": "2022-05-03T09:16:55.982Z"
   },
   {
    "duration": 51,
    "start_time": "2022-05-03T09:16:56.032Z"
   },
   {
    "duration": 11,
    "start_time": "2022-05-03T09:16:56.086Z"
   },
   {
    "duration": 32,
    "start_time": "2022-05-03T09:16:56.099Z"
   },
   {
    "duration": 8,
    "start_time": "2022-05-03T09:16:56.134Z"
   },
   {
    "duration": 10,
    "start_time": "2022-05-03T09:16:56.147Z"
   },
   {
    "duration": 61,
    "start_time": "2022-05-03T09:16:56.160Z"
   },
   {
    "duration": 20,
    "start_time": "2022-05-03T09:16:56.226Z"
   },
   {
    "duration": 51,
    "start_time": "2022-05-03T09:16:56.249Z"
   },
   {
    "duration": 9,
    "start_time": "2022-05-03T09:16:56.305Z"
   },
   {
    "duration": 17,
    "start_time": "2022-05-03T09:16:56.318Z"
   },
   {
    "duration": 23,
    "start_time": "2022-05-03T09:16:56.337Z"
   },
   {
    "duration": 73,
    "start_time": "2022-05-03T09:16:56.362Z"
   },
   {
    "duration": 12,
    "start_time": "2022-05-03T09:16:56.437Z"
   },
   {
    "duration": 12,
    "start_time": "2022-05-03T09:16:56.451Z"
   },
   {
    "duration": 37,
    "start_time": "2022-05-03T09:16:56.466Z"
   },
   {
    "duration": 26,
    "start_time": "2022-05-03T09:16:56.506Z"
   },
   {
    "duration": 13,
    "start_time": "2022-05-03T09:16:56.534Z"
   },
   {
    "duration": 8,
    "start_time": "2022-05-03T09:16:56.549Z"
   },
   {
    "duration": 64,
    "start_time": "2022-05-03T09:16:56.559Z"
   },
   {
    "duration": 5,
    "start_time": "2022-05-03T09:16:56.626Z"
   },
   {
    "duration": 22,
    "start_time": "2022-05-03T09:16:56.633Z"
   },
   {
    "duration": 54,
    "start_time": "2022-05-03T09:16:56.659Z"
   },
   {
    "duration": 42,
    "start_time": "2022-05-03T09:16:56.719Z"
   },
   {
    "duration": 59,
    "start_time": "2022-05-03T09:16:56.764Z"
   },
   {
    "duration": 25,
    "start_time": "2022-05-03T09:16:56.826Z"
   },
   {
    "duration": 9,
    "start_time": "2022-05-03T09:16:56.854Z"
   },
   {
    "duration": 65,
    "start_time": "2022-05-03T09:16:56.866Z"
   },
   {
    "duration": 16,
    "start_time": "2022-05-03T09:16:56.937Z"
   },
   {
    "duration": 12,
    "start_time": "2022-05-03T09:16:56.956Z"
   },
   {
    "duration": 48,
    "start_time": "2022-05-03T09:16:56.970Z"
   },
   {
    "duration": 13,
    "start_time": "2022-05-03T09:16:57.021Z"
   },
   {
    "duration": 16,
    "start_time": "2022-05-03T09:16:57.037Z"
   },
   {
    "duration": 9,
    "start_time": "2022-05-03T09:16:57.056Z"
   },
   {
    "duration": 30,
    "start_time": "2022-05-03T09:16:57.067Z"
   },
   {
    "duration": 34,
    "start_time": "2022-05-03T09:16:57.099Z"
   },
   {
    "duration": 15,
    "start_time": "2022-05-03T09:16:57.135Z"
   },
   {
    "duration": 13,
    "start_time": "2022-05-03T09:16:57.152Z"
   },
   {
    "duration": 32,
    "start_time": "2022-05-03T09:16:57.168Z"
   },
   {
    "duration": 50,
    "start_time": "2022-05-03T09:16:57.202Z"
   },
   {
    "duration": 12,
    "start_time": "2022-05-03T09:16:57.255Z"
   },
   {
    "duration": 21,
    "start_time": "2022-05-03T09:16:57.270Z"
   },
   {
    "duration": 10,
    "start_time": "2022-05-03T09:16:57.298Z"
   },
   {
    "duration": 27,
    "start_time": "2022-05-03T09:16:57.311Z"
   },
   {
    "duration": 11,
    "start_time": "2022-05-03T09:16:57.341Z"
   },
   {
    "duration": 16,
    "start_time": "2022-05-03T09:16:57.355Z"
   },
   {
    "duration": 41,
    "start_time": "2022-05-03T09:16:57.373Z"
   },
   {
    "duration": 21,
    "start_time": "2022-05-03T09:16:57.417Z"
   },
   {
    "duration": 19,
    "start_time": "2022-05-03T09:16:57.441Z"
   },
   {
    "duration": 44,
    "start_time": "2022-05-03T09:16:57.463Z"
   },
   {
    "duration": 22,
    "start_time": "2022-05-03T09:16:57.510Z"
   },
   {
    "duration": 25,
    "start_time": "2022-05-03T09:16:57.535Z"
   },
   {
    "duration": 33,
    "start_time": "2022-05-03T09:16:57.563Z"
   },
   {
    "duration": 19,
    "start_time": "2022-05-03T09:16:57.599Z"
   },
   {
    "duration": 23,
    "start_time": "2022-05-03T09:16:57.621Z"
   },
   {
    "duration": 15,
    "start_time": "2022-05-03T09:16:57.647Z"
   },
   {
    "duration": 47,
    "start_time": "2022-05-03T09:16:57.664Z"
   },
   {
    "duration": 30,
    "start_time": "2022-05-03T09:16:57.713Z"
   },
   {
    "duration": 55,
    "start_time": "2022-05-03T09:16:57.746Z"
   },
   {
    "duration": 251,
    "start_time": "2022-05-03T09:16:57.806Z"
   },
   {
    "duration": 175,
    "start_time": "2022-05-03T09:16:58.060Z"
   },
   {
    "duration": 81,
    "start_time": "2022-05-03T09:16:58.238Z"
   },
   {
    "duration": 20,
    "start_time": "2022-05-03T09:16:58.322Z"
   },
   {
    "duration": 578,
    "start_time": "2022-05-03T09:16:58.345Z"
   },
   {
    "duration": 554,
    "start_time": "2022-05-03T09:16:58.926Z"
   },
   {
    "duration": 16,
    "start_time": "2022-05-03T09:16:59.482Z"
   },
   {
    "duration": 443,
    "start_time": "2022-05-03T09:16:59.501Z"
   },
   {
    "duration": 1266,
    "start_time": "2022-05-03T09:16:59.946Z"
   },
   {
    "duration": 19,
    "start_time": "2022-05-03T09:17:01.223Z"
   },
   {
    "duration": 99,
    "start_time": "2022-05-03T09:17:01.246Z"
   },
   {
    "duration": 1287,
    "start_time": "2022-05-03T09:17:01.349Z"
   },
   {
    "duration": 19,
    "start_time": "2022-05-03T09:17:02.641Z"
   },
   {
    "duration": 104,
    "start_time": "2022-05-03T09:17:02.663Z"
   },
   {
    "duration": 1804,
    "start_time": "2022-05-03T09:17:02.770Z"
   },
   {
    "duration": 43,
    "start_time": "2022-05-03T09:17:04.578Z"
   },
   {
    "duration": 7324,
    "start_time": "2022-05-03T09:17:04.626Z"
   },
   {
    "duration": 446,
    "start_time": "2022-05-03T09:17:11.953Z"
   },
   {
    "duration": 911,
    "start_time": "2022-05-03T09:17:12.414Z"
   },
   {
    "duration": 14,
    "start_time": "2022-05-03T09:38:59.277Z"
   },
   {
    "duration": 1245,
    "start_time": "2022-05-03T09:39:33.438Z"
   },
   {
    "duration": 3,
    "start_time": "2022-05-03T09:39:34.686Z"
   },
   {
    "duration": 143,
    "start_time": "2022-05-03T09:39:34.693Z"
   },
   {
    "duration": 4,
    "start_time": "2022-05-03T09:39:34.839Z"
   },
   {
    "duration": 28,
    "start_time": "2022-05-03T09:39:34.845Z"
   },
   {
    "duration": 116,
    "start_time": "2022-05-03T09:39:34.876Z"
   },
   {
    "duration": 3,
    "start_time": "2022-05-03T09:39:34.995Z"
   },
   {
    "duration": 320,
    "start_time": "2022-05-03T09:39:35.002Z"
   },
   {
    "duration": 11,
    "start_time": "2022-05-03T09:39:35.324Z"
   },
   {
    "duration": 8,
    "start_time": "2022-05-03T09:39:35.338Z"
   },
   {
    "duration": 51,
    "start_time": "2022-05-03T09:39:35.349Z"
   },
   {
    "duration": 17,
    "start_time": "2022-05-03T09:39:35.404Z"
   },
   {
    "duration": 18,
    "start_time": "2022-05-03T09:39:45.262Z"
   },
   {
    "duration": 7,
    "start_time": "2022-05-03T09:39:52.150Z"
   },
   {
    "duration": 8,
    "start_time": "2022-05-03T09:40:20.214Z"
   },
   {
    "duration": 11,
    "start_time": "2022-05-03T09:42:04.209Z"
   },
   {
    "duration": 32,
    "start_time": "2022-05-03T09:42:12.222Z"
   },
   {
    "duration": 37,
    "start_time": "2022-05-03T09:44:20.666Z"
   },
   {
    "duration": 10,
    "start_time": "2022-05-03T09:44:42.179Z"
   },
   {
    "duration": 874,
    "start_time": "2022-05-03T09:44:45.025Z"
   },
   {
    "duration": 10,
    "start_time": "2022-05-03T09:45:27.481Z"
   },
   {
    "duration": 17,
    "start_time": "2022-05-03T09:45:36.350Z"
   },
   {
    "duration": 12,
    "start_time": "2022-05-03T09:46:07.900Z"
   },
   {
    "duration": 22,
    "start_time": "2022-05-03T09:52:09.261Z"
   },
   {
    "duration": 6,
    "start_time": "2022-05-03T09:52:21.852Z"
   },
   {
    "duration": 11,
    "start_time": "2022-05-03T09:52:25.799Z"
   },
   {
    "duration": 12,
    "start_time": "2022-05-03T09:52:28.087Z"
   },
   {
    "duration": 22,
    "start_time": "2022-05-03T09:52:29.818Z"
   },
   {
    "duration": 10,
    "start_time": "2022-05-03T09:52:32.156Z"
   },
   {
    "duration": 16,
    "start_time": "2022-05-03T09:52:33.490Z"
   },
   {
    "duration": 14,
    "start_time": "2022-05-03T09:52:37.493Z"
   },
   {
    "duration": 8,
    "start_time": "2022-05-03T10:00:38.546Z"
   },
   {
    "duration": 14,
    "start_time": "2022-05-03T10:00:40.700Z"
   },
   {
    "duration": 22,
    "start_time": "2022-05-03T10:00:42.126Z"
   },
   {
    "duration": 10,
    "start_time": "2022-05-03T10:00:43.852Z"
   },
   {
    "duration": 7,
    "start_time": "2022-05-03T10:00:45.888Z"
   },
   {
    "duration": 861,
    "start_time": "2022-05-03T10:01:16.888Z"
   },
   {
    "duration": 4,
    "start_time": "2022-05-03T10:01:17.751Z"
   },
   {
    "duration": 113,
    "start_time": "2022-05-03T10:01:17.757Z"
   },
   {
    "duration": 3,
    "start_time": "2022-05-03T10:01:17.873Z"
   },
   {
    "duration": 33,
    "start_time": "2022-05-03T10:01:17.878Z"
   },
   {
    "duration": 58,
    "start_time": "2022-05-03T10:01:17.914Z"
   },
   {
    "duration": 3,
    "start_time": "2022-05-03T10:01:17.974Z"
   },
   {
    "duration": 23,
    "start_time": "2022-05-03T10:01:17.980Z"
   },
   {
    "duration": 9,
    "start_time": "2022-05-03T10:01:18.006Z"
   },
   {
    "duration": 6,
    "start_time": "2022-05-03T10:01:18.018Z"
   },
   {
    "duration": 30,
    "start_time": "2022-05-03T10:01:18.027Z"
   },
   {
    "duration": 13,
    "start_time": "2022-05-03T10:01:18.093Z"
   },
   {
    "duration": 26,
    "start_time": "2022-05-03T10:01:18.109Z"
   },
   {
    "duration": 5,
    "start_time": "2022-05-03T10:01:18.137Z"
   },
   {
    "duration": 10,
    "start_time": "2022-05-03T10:01:18.144Z"
   },
   {
    "duration": 47,
    "start_time": "2022-05-03T10:01:18.156Z"
   },
   {
    "duration": 22,
    "start_time": "2022-05-03T10:01:18.205Z"
   },
   {
    "duration": 10,
    "start_time": "2022-05-03T10:01:18.229Z"
   },
   {
    "duration": 11,
    "start_time": "2022-05-03T10:01:18.241Z"
   },
   {
    "duration": 15,
    "start_time": "2022-05-03T10:01:22.703Z"
   },
   {
    "duration": 7,
    "start_time": "2022-05-03T10:01:26.587Z"
   },
   {
    "duration": 10,
    "start_time": "2022-05-03T10:01:34.950Z"
   },
   {
    "duration": 6,
    "start_time": "2022-05-03T10:01:39.047Z"
   },
   {
    "duration": 13,
    "start_time": "2022-05-03T10:01:41.641Z"
   },
   {
    "duration": 4,
    "start_time": "2022-05-03T10:01:44.473Z"
   },
   {
    "duration": 12,
    "start_time": "2022-05-03T10:01:48.911Z"
   },
   {
    "duration": 33,
    "start_time": "2022-05-03T10:01:56.338Z"
   },
   {
    "duration": 33,
    "start_time": "2022-05-03T10:01:58.175Z"
   },
   {
    "duration": 29,
    "start_time": "2022-05-03T10:02:02.737Z"
   },
   {
    "duration": 25,
    "start_time": "2022-05-03T10:02:04.227Z"
   },
   {
    "duration": 6,
    "start_time": "2022-05-03T10:02:11.851Z"
   },
   {
    "duration": 24,
    "start_time": "2022-05-03T10:02:14.633Z"
   },
   {
    "duration": 5,
    "start_time": "2022-05-03T10:15:03.868Z"
   },
   {
    "duration": 1034,
    "start_time": "2022-05-03T10:15:05.374Z"
   },
   {
    "duration": 941,
    "start_time": "2022-05-03T10:15:16.943Z"
   },
   {
    "duration": 3,
    "start_time": "2022-05-03T10:15:17.888Z"
   },
   {
    "duration": 128,
    "start_time": "2022-05-03T10:15:17.894Z"
   },
   {
    "duration": 5,
    "start_time": "2022-05-03T10:15:18.024Z"
   },
   {
    "duration": 23,
    "start_time": "2022-05-03T10:15:18.033Z"
   },
   {
    "duration": 46,
    "start_time": "2022-05-03T10:15:18.058Z"
   },
   {
    "duration": 4,
    "start_time": "2022-05-03T10:15:18.107Z"
   },
   {
    "duration": 16,
    "start_time": "2022-05-03T10:15:18.113Z"
   },
   {
    "duration": 14,
    "start_time": "2022-05-03T10:15:18.131Z"
   },
   {
    "duration": 8,
    "start_time": "2022-05-03T10:15:18.147Z"
   },
   {
    "duration": 62,
    "start_time": "2022-05-03T10:15:18.157Z"
   },
   {
    "duration": 12,
    "start_time": "2022-05-03T10:15:18.221Z"
   },
   {
    "duration": 25,
    "start_time": "2022-05-03T10:15:18.235Z"
   },
   {
    "duration": 6,
    "start_time": "2022-05-03T10:15:18.293Z"
   },
   {
    "duration": 11,
    "start_time": "2022-05-03T10:15:18.301Z"
   },
   {
    "duration": 12,
    "start_time": "2022-05-03T10:15:18.314Z"
   },
   {
    "duration": 21,
    "start_time": "2022-05-03T10:15:18.328Z"
   },
   {
    "duration": 12,
    "start_time": "2022-05-03T10:15:18.393Z"
   },
   {
    "duration": 11,
    "start_time": "2022-05-03T10:15:18.408Z"
   },
   {
    "duration": 18,
    "start_time": "2022-05-03T10:15:18.421Z"
   },
   {
    "duration": 24,
    "start_time": "2022-05-03T10:15:18.441Z"
   },
   {
    "duration": 30,
    "start_time": "2022-05-03T10:15:18.467Z"
   },
   {
    "duration": 9,
    "start_time": "2022-05-03T10:15:18.499Z"
   },
   {
    "duration": 19,
    "start_time": "2022-05-03T10:15:18.510Z"
   },
   {
    "duration": 6,
    "start_time": "2022-05-03T10:15:18.531Z"
   },
   {
    "duration": 14,
    "start_time": "2022-05-03T10:15:18.539Z"
   },
   {
    "duration": 66,
    "start_time": "2022-05-03T10:15:18.555Z"
   },
   {
    "duration": 33,
    "start_time": "2022-05-03T10:15:18.623Z"
   },
   {
    "duration": 47,
    "start_time": "2022-05-03T10:15:18.658Z"
   },
   {
    "duration": 23,
    "start_time": "2022-05-03T10:15:18.707Z"
   },
   {
    "duration": 8,
    "start_time": "2022-05-03T10:15:18.733Z"
   },
   {
    "duration": 54,
    "start_time": "2022-05-03T10:15:18.744Z"
   },
   {
    "duration": 19,
    "start_time": "2022-05-03T10:15:18.800Z"
   },
   {
    "duration": 10,
    "start_time": "2022-05-03T10:15:18.821Z"
   },
   {
    "duration": 17,
    "start_time": "2022-05-03T10:15:18.834Z"
   },
   {
    "duration": 49,
    "start_time": "2022-05-03T10:15:18.853Z"
   },
   {
    "duration": 9,
    "start_time": "2022-05-03T10:15:18.905Z"
   },
   {
    "duration": 7,
    "start_time": "2022-05-03T10:15:18.916Z"
   },
   {
    "duration": 19,
    "start_time": "2022-05-03T10:15:18.925Z"
   },
   {
    "duration": 48,
    "start_time": "2022-05-03T10:15:18.946Z"
   },
   {
    "duration": 11,
    "start_time": "2022-05-03T10:15:19.003Z"
   },
   {
    "duration": 12,
    "start_time": "2022-05-03T10:15:19.017Z"
   },
   {
    "duration": 7,
    "start_time": "2022-05-03T10:15:19.031Z"
   },
   {
    "duration": 53,
    "start_time": "2022-05-03T10:15:19.041Z"
   },
   {
    "duration": 14,
    "start_time": "2022-05-03T10:15:19.097Z"
   },
   {
    "duration": 13,
    "start_time": "2022-05-03T10:15:19.114Z"
   },
   {
    "duration": 9,
    "start_time": "2022-05-03T10:15:19.129Z"
   },
   {
    "duration": 12,
    "start_time": "2022-05-03T10:15:19.140Z"
   },
   {
    "duration": 10,
    "start_time": "2022-05-03T10:15:19.193Z"
   },
   {
    "duration": 12,
    "start_time": "2022-05-03T10:15:19.205Z"
   },
   {
    "duration": 14,
    "start_time": "2022-05-03T10:15:19.220Z"
   },
   {
    "duration": 9,
    "start_time": "2022-05-03T10:15:19.237Z"
   },
   {
    "duration": 57,
    "start_time": "2022-05-03T10:15:19.249Z"
   },
   {
    "duration": 11,
    "start_time": "2022-05-03T10:15:19.308Z"
   },
   {
    "duration": 8,
    "start_time": "2022-05-03T10:15:19.321Z"
   },
   {
    "duration": 13,
    "start_time": "2022-05-03T10:15:19.331Z"
   },
   {
    "duration": 47,
    "start_time": "2022-05-03T10:15:19.347Z"
   },
   {
    "duration": 9,
    "start_time": "2022-05-03T10:15:19.396Z"
   },
   {
    "duration": 17,
    "start_time": "2022-05-03T10:15:19.407Z"
   },
   {
    "duration": 11,
    "start_time": "2022-05-03T10:15:19.426Z"
   },
   {
    "duration": 55,
    "start_time": "2022-05-03T10:15:19.439Z"
   },
   {
    "duration": 13,
    "start_time": "2022-05-03T10:15:19.497Z"
   },
   {
    "duration": 26,
    "start_time": "2022-05-03T10:15:19.513Z"
   },
   {
    "duration": 157,
    "start_time": "2022-05-03T10:15:19.541Z"
   },
   {
    "duration": 135,
    "start_time": "2022-05-03T10:15:19.700Z"
   },
   {
    "duration": 33,
    "start_time": "2022-05-03T10:15:19.837Z"
   },
   {
    "duration": 12,
    "start_time": "2022-05-03T10:15:19.892Z"
   },
   {
    "duration": 398,
    "start_time": "2022-05-03T10:15:19.907Z"
   },
   {
    "duration": 366,
    "start_time": "2022-05-03T10:15:20.307Z"
   },
   {
    "duration": 24,
    "start_time": "2022-05-03T10:15:20.676Z"
   },
   {
    "duration": 383,
    "start_time": "2022-05-03T10:15:20.702Z"
   },
   {
    "duration": 753,
    "start_time": "2022-05-03T10:15:21.087Z"
   },
   {
    "duration": 9,
    "start_time": "2022-05-03T10:15:21.843Z"
   },
   {
    "duration": 51,
    "start_time": "2022-05-03T10:15:21.854Z"
   },
   {
    "duration": 838,
    "start_time": "2022-05-03T10:15:21.907Z"
   },
   {
    "duration": 19,
    "start_time": "2022-05-03T10:15:22.747Z"
   },
   {
    "duration": 92,
    "start_time": "2022-05-03T10:15:22.769Z"
   },
   {
    "duration": 1173,
    "start_time": "2022-05-03T10:15:22.864Z"
   },
   {
    "duration": 25,
    "start_time": "2022-05-03T10:15:24.039Z"
   },
   {
    "duration": 5044,
    "start_time": "2022-05-03T10:15:24.066Z"
   },
   {
    "duration": 271,
    "start_time": "2022-05-03T10:15:29.113Z"
   },
   {
    "duration": 528,
    "start_time": "2022-05-03T10:15:29.393Z"
   },
   {
    "duration": 30,
    "start_time": "2022-05-03T10:17:44.362Z"
   },
   {
    "duration": 28,
    "start_time": "2022-05-03T10:20:21.804Z"
   },
   {
    "duration": 839,
    "start_time": "2022-05-03T10:20:49.319Z"
   },
   {
    "duration": 4,
    "start_time": "2022-05-03T10:20:50.160Z"
   },
   {
    "duration": 138,
    "start_time": "2022-05-03T10:20:50.166Z"
   },
   {
    "duration": 4,
    "start_time": "2022-05-03T10:20:50.308Z"
   },
   {
    "duration": 38,
    "start_time": "2022-05-03T10:20:50.315Z"
   },
   {
    "duration": 86,
    "start_time": "2022-05-03T10:20:50.355Z"
   },
   {
    "duration": 4,
    "start_time": "2022-05-03T10:20:50.444Z"
   },
   {
    "duration": 32,
    "start_time": "2022-05-03T10:20:50.450Z"
   },
   {
    "duration": 13,
    "start_time": "2022-05-03T10:20:50.485Z"
   },
   {
    "duration": 9,
    "start_time": "2022-05-03T10:20:50.503Z"
   },
   {
    "duration": 31,
    "start_time": "2022-05-03T10:20:50.514Z"
   },
   {
    "duration": 45,
    "start_time": "2022-05-03T10:20:50.548Z"
   },
   {
    "duration": 41,
    "start_time": "2022-05-03T10:20:50.596Z"
   },
   {
    "duration": 6,
    "start_time": "2022-05-03T10:20:50.639Z"
   },
   {
    "duration": 11,
    "start_time": "2022-05-03T10:20:50.647Z"
   },
   {
    "duration": 39,
    "start_time": "2022-05-03T10:20:50.661Z"
   },
   {
    "duration": 23,
    "start_time": "2022-05-03T10:20:50.702Z"
   },
   {
    "duration": 18,
    "start_time": "2022-05-03T10:20:50.727Z"
   },
   {
    "duration": 12,
    "start_time": "2022-05-03T10:20:50.748Z"
   },
   {
    "duration": 11,
    "start_time": "2022-05-03T10:20:50.794Z"
   },
   {
    "duration": 19,
    "start_time": "2022-05-03T10:20:50.807Z"
   },
   {
    "duration": 9,
    "start_time": "2022-05-03T10:20:50.828Z"
   },
   {
    "duration": 9,
    "start_time": "2022-05-03T10:20:50.839Z"
   },
   {
    "duration": 49,
    "start_time": "2022-05-03T10:20:50.850Z"
   },
   {
    "duration": 6,
    "start_time": "2022-05-03T10:20:50.902Z"
   },
   {
    "duration": 13,
    "start_time": "2022-05-03T10:20:50.910Z"
   },
   {
    "duration": 36,
    "start_time": "2022-05-03T10:20:50.925Z"
   },
   {
    "duration": 40,
    "start_time": "2022-05-03T10:20:50.996Z"
   },
   {
    "duration": 57,
    "start_time": "2022-05-03T10:20:51.038Z"
   },
   {
    "duration": 38,
    "start_time": "2022-05-03T10:20:51.098Z"
   },
   {
    "duration": 10,
    "start_time": "2022-05-03T10:20:51.139Z"
   },
   {
    "duration": 59,
    "start_time": "2022-05-03T10:20:51.153Z"
   },
   {
    "duration": 16,
    "start_time": "2022-05-03T10:22:22.032Z"
   },
   {
    "duration": 23,
    "start_time": "2022-05-03T10:22:25.467Z"
   },
   {
    "duration": 23,
    "start_time": "2022-05-03T10:22:30.228Z"
   },
   {
    "duration": 19,
    "start_time": "2022-05-03T10:23:26.503Z"
   },
   {
    "duration": 36,
    "start_time": "2022-05-03T10:23:38.120Z"
   },
   {
    "duration": 25,
    "start_time": "2022-05-03T11:26:25.627Z"
   },
   {
    "duration": 6,
    "start_time": "2022-05-03T11:27:16.667Z"
   },
   {
    "duration": 11,
    "start_time": "2022-05-03T12:47:58.755Z"
   },
   {
    "duration": 10,
    "start_time": "2022-05-03T12:48:12.068Z"
   },
   {
    "duration": 5,
    "start_time": "2022-05-03T12:48:21.873Z"
   },
   {
    "duration": 12,
    "start_time": "2022-05-03T12:48:23.511Z"
   },
   {
    "duration": 11,
    "start_time": "2022-05-03T12:51:32.360Z"
   },
   {
    "duration": 15,
    "start_time": "2022-05-03T12:51:34.310Z"
   },
   {
    "duration": 11,
    "start_time": "2022-05-03T12:53:28.671Z"
   },
   {
    "duration": 11,
    "start_time": "2022-05-03T12:53:32.694Z"
   },
   {
    "duration": 4,
    "start_time": "2022-05-03T12:53:51.680Z"
   },
   {
    "duration": 34,
    "start_time": "2022-05-03T12:53:54.139Z"
   },
   {
    "duration": 12,
    "start_time": "2022-05-03T12:54:28.130Z"
   },
   {
    "duration": 12,
    "start_time": "2022-05-03T12:54:30.115Z"
   },
   {
    "duration": 9,
    "start_time": "2022-05-03T12:56:56.227Z"
   },
   {
    "duration": 8,
    "start_time": "2022-05-03T12:56:58.291Z"
   },
   {
    "duration": 11,
    "start_time": "2022-05-03T12:56:59.696Z"
   },
   {
    "duration": 7,
    "start_time": "2022-05-03T13:00:00.083Z"
   },
   {
    "duration": 11,
    "start_time": "2022-05-03T13:00:03.891Z"
   },
   {
    "duration": 9,
    "start_time": "2022-05-03T13:00:06.804Z"
   },
   {
    "duration": 16,
    "start_time": "2022-05-03T13:00:09.635Z"
   },
   {
    "duration": 14,
    "start_time": "2022-05-03T13:00:11.579Z"
   },
   {
    "duration": 10,
    "start_time": "2022-05-03T13:00:14.659Z"
   },
   {
    "duration": 13,
    "start_time": "2022-05-03T13:00:16.040Z"
   },
   {
    "duration": 11,
    "start_time": "2022-05-03T13:00:17.617Z"
   },
   {
    "duration": 10,
    "start_time": "2022-05-03T13:00:18.877Z"
   },
   {
    "duration": 14,
    "start_time": "2022-05-03T13:00:19.967Z"
   },
   {
    "duration": 12,
    "start_time": "2022-05-03T13:00:21.517Z"
   },
   {
    "duration": 12,
    "start_time": "2022-05-03T13:00:22.776Z"
   },
   {
    "duration": 15,
    "start_time": "2022-05-03T13:00:24.045Z"
   },
   {
    "duration": 27,
    "start_time": "2022-05-03T13:00:28.291Z"
   },
   {
    "duration": 127,
    "start_time": "2022-05-03T13:00:30.535Z"
   },
   {
    "duration": 125,
    "start_time": "2022-05-03T13:00:58.074Z"
   },
   {
    "duration": 36,
    "start_time": "2022-05-03T13:01:10.937Z"
   },
   {
    "duration": 14,
    "start_time": "2022-05-03T13:06:10.957Z"
   },
   {
    "duration": 393,
    "start_time": "2022-05-03T13:06:14.653Z"
   },
   {
    "duration": 346,
    "start_time": "2022-05-03T13:07:23.349Z"
   },
   {
    "duration": 13,
    "start_time": "2022-05-03T13:07:25.628Z"
   },
   {
    "duration": 360,
    "start_time": "2022-05-03T13:07:27.262Z"
   },
   {
    "duration": 772,
    "start_time": "2022-05-03T13:07:29.591Z"
   },
   {
    "duration": 13,
    "start_time": "2022-05-03T13:09:09.097Z"
   },
   {
    "duration": 44,
    "start_time": "2022-05-03T13:09:10.868Z"
   },
   {
    "duration": 820,
    "start_time": "2022-05-03T13:09:12.924Z"
   },
   {
    "duration": 28,
    "start_time": "2022-05-03T13:09:50.310Z"
   },
   {
    "duration": 732,
    "start_time": "2022-05-03T13:11:03.468Z"
   },
   {
    "duration": 72,
    "start_time": "2022-05-03T13:11:11.195Z"
   },
   {
    "duration": 1088,
    "start_time": "2022-05-03T13:11:12.308Z"
   },
   {
    "duration": 24,
    "start_time": "2022-05-03T13:17:41.594Z"
   },
   {
    "duration": 4685,
    "start_time": "2022-05-03T13:17:43.245Z"
   },
   {
    "duration": 307,
    "start_time": "2022-05-03T13:17:51.813Z"
   },
   {
    "duration": 429,
    "start_time": "2022-05-03T13:17:53.818Z"
   },
   {
    "duration": 891,
    "start_time": "2022-05-03T14:21:43.774Z"
   },
   {
    "duration": 4,
    "start_time": "2022-05-03T14:21:44.667Z"
   },
   {
    "duration": 121,
    "start_time": "2022-05-03T14:21:44.673Z"
   },
   {
    "duration": 3,
    "start_time": "2022-05-03T14:21:44.798Z"
   },
   {
    "duration": 25,
    "start_time": "2022-05-03T14:21:44.803Z"
   },
   {
    "duration": 48,
    "start_time": "2022-05-03T14:21:44.830Z"
   },
   {
    "duration": 4,
    "start_time": "2022-05-03T14:21:44.880Z"
   },
   {
    "duration": 16,
    "start_time": "2022-05-03T14:21:44.886Z"
   },
   {
    "duration": 7,
    "start_time": "2022-05-03T14:21:44.904Z"
   },
   {
    "duration": 10,
    "start_time": "2022-05-03T14:21:44.915Z"
   },
   {
    "duration": 29,
    "start_time": "2022-05-03T14:21:44.927Z"
   },
   {
    "duration": 17,
    "start_time": "2022-05-03T14:21:44.993Z"
   },
   {
    "duration": 32,
    "start_time": "2022-05-03T14:21:45.012Z"
   },
   {
    "duration": 6,
    "start_time": "2022-05-03T14:21:45.046Z"
   },
   {
    "duration": 14,
    "start_time": "2022-05-03T14:21:45.054Z"
   },
   {
    "duration": 13,
    "start_time": "2022-05-03T14:21:45.093Z"
   },
   {
    "duration": 26,
    "start_time": "2022-05-03T14:21:45.108Z"
   },
   {
    "duration": 11,
    "start_time": "2022-05-03T14:21:45.137Z"
   },
   {
    "duration": 43,
    "start_time": "2022-05-03T14:21:45.150Z"
   },
   {
    "duration": 7,
    "start_time": "2022-05-03T14:21:45.195Z"
   },
   {
    "duration": 15,
    "start_time": "2022-05-03T14:21:45.204Z"
   },
   {
    "duration": 9,
    "start_time": "2022-05-03T14:21:45.221Z"
   },
   {
    "duration": 10,
    "start_time": "2022-05-03T14:21:45.232Z"
   },
   {
    "duration": 53,
    "start_time": "2022-05-03T14:21:45.244Z"
   },
   {
    "duration": 8,
    "start_time": "2022-05-03T14:21:45.299Z"
   },
   {
    "duration": 14,
    "start_time": "2022-05-03T14:21:45.309Z"
   },
   {
    "duration": 33,
    "start_time": "2022-05-03T14:21:45.326Z"
   },
   {
    "duration": 33,
    "start_time": "2022-05-03T14:21:45.392Z"
   },
   {
    "duration": 28,
    "start_time": "2022-05-03T14:21:45.427Z"
   },
   {
    "duration": 44,
    "start_time": "2022-05-03T14:21:45.457Z"
   },
   {
    "duration": 14,
    "start_time": "2022-05-03T14:21:45.503Z"
   },
   {
    "duration": 24,
    "start_time": "2022-05-03T14:21:45.519Z"
   },
   {
    "duration": 56,
    "start_time": "2022-05-03T14:21:45.545Z"
   },
   {
    "duration": 22,
    "start_time": "2022-05-03T14:21:45.603Z"
   },
   {
    "duration": 6,
    "start_time": "2022-05-03T14:21:45.628Z"
   },
   {
    "duration": 12,
    "start_time": "2022-05-03T14:21:45.636Z"
   },
   {
    "duration": 47,
    "start_time": "2022-05-03T14:21:45.650Z"
   },
   {
    "duration": 5,
    "start_time": "2022-05-03T14:21:45.699Z"
   },
   {
    "duration": 22,
    "start_time": "2022-05-03T14:21:45.707Z"
   },
   {
    "duration": 12,
    "start_time": "2022-05-03T14:21:45.731Z"
   },
   {
    "duration": 9,
    "start_time": "2022-05-03T14:21:45.745Z"
   },
   {
    "duration": 41,
    "start_time": "2022-05-03T14:21:45.756Z"
   },
   {
    "duration": 4,
    "start_time": "2022-05-03T14:21:45.799Z"
   },
   {
    "duration": 31,
    "start_time": "2022-05-03T14:21:45.806Z"
   },
   {
    "duration": 11,
    "start_time": "2022-05-03T14:21:45.839Z"
   },
   {
    "duration": 14,
    "start_time": "2022-05-03T14:21:45.853Z"
   },
   {
    "duration": 28,
    "start_time": "2022-05-03T14:21:45.869Z"
   },
   {
    "duration": 9,
    "start_time": "2022-05-03T14:21:45.899Z"
   },
   {
    "duration": 11,
    "start_time": "2022-05-03T14:21:45.910Z"
   },
   {
    "duration": 7,
    "start_time": "2022-05-03T14:21:45.923Z"
   },
   {
    "duration": 11,
    "start_time": "2022-05-03T14:21:45.932Z"
   },
   {
    "duration": 52,
    "start_time": "2022-05-03T14:21:45.945Z"
   },
   {
    "duration": 14,
    "start_time": "2022-05-03T14:21:45.999Z"
   },
   {
    "duration": 10,
    "start_time": "2022-05-03T14:21:46.015Z"
   },
   {
    "duration": 9,
    "start_time": "2022-05-03T14:21:46.027Z"
   },
   {
    "duration": 15,
    "start_time": "2022-05-03T14:21:46.037Z"
   },
   {
    "duration": 11,
    "start_time": "2022-05-03T14:21:46.093Z"
   },
   {
    "duration": 9,
    "start_time": "2022-05-03T14:21:46.106Z"
   },
   {
    "duration": 16,
    "start_time": "2022-05-03T14:21:46.117Z"
   },
   {
    "duration": 10,
    "start_time": "2022-05-03T14:21:46.135Z"
   },
   {
    "duration": 49,
    "start_time": "2022-05-03T14:21:46.146Z"
   },
   {
    "duration": 12,
    "start_time": "2022-05-03T14:21:46.197Z"
   },
   {
    "duration": 26,
    "start_time": "2022-05-03T14:21:46.211Z"
   },
   {
    "duration": 151,
    "start_time": "2022-05-03T14:21:46.239Z"
   },
   {
    "duration": 137,
    "start_time": "2022-05-03T14:21:46.392Z"
   },
   {
    "duration": 35,
    "start_time": "2022-05-03T14:21:46.531Z"
   },
   {
    "duration": 32,
    "start_time": "2022-05-03T14:21:46.568Z"
   },
   {
    "duration": 389,
    "start_time": "2022-05-03T14:21:46.602Z"
   },
   {
    "duration": 329,
    "start_time": "2022-05-03T14:21:46.993Z"
   },
   {
    "duration": 14,
    "start_time": "2022-05-03T14:21:47.324Z"
   },
   {
    "duration": 355,
    "start_time": "2022-05-03T14:21:47.340Z"
   },
   {
    "duration": 752,
    "start_time": "2022-05-03T14:21:47.697Z"
   },
   {
    "duration": 9,
    "start_time": "2022-05-03T14:21:48.451Z"
   },
   {
    "duration": 49,
    "start_time": "2022-05-03T14:21:48.462Z"
   },
   {
    "duration": 808,
    "start_time": "2022-05-03T14:21:48.514Z"
   },
   {
    "duration": 15,
    "start_time": "2022-05-03T14:21:49.324Z"
   },
   {
    "duration": 90,
    "start_time": "2022-05-03T14:21:49.341Z"
   },
   {
    "duration": 1143,
    "start_time": "2022-05-03T14:21:49.433Z"
   },
   {
    "duration": 32,
    "start_time": "2022-05-03T14:21:50.578Z"
   },
   {
    "duration": 4966,
    "start_time": "2022-05-03T14:21:50.612Z"
   },
   {
    "duration": 377,
    "start_time": "2022-05-03T14:21:55.580Z"
   },
   {
    "duration": 363,
    "start_time": "2022-05-03T14:21:55.965Z"
   },
   {
    "duration": 49,
    "start_time": "2022-05-03T15:52:47.617Z"
   },
   {
    "duration": 775,
    "start_time": "2022-05-03T15:52:56.977Z"
   },
   {
    "duration": 3,
    "start_time": "2022-05-03T15:52:57.754Z"
   },
   {
    "duration": 218,
    "start_time": "2022-05-03T15:52:57.758Z"
   },
   {
    "duration": 3,
    "start_time": "2022-05-03T15:52:57.978Z"
   },
   {
    "duration": 17,
    "start_time": "2022-05-03T15:52:57.982Z"
   },
   {
    "duration": 15,
    "start_time": "2022-05-03T15:52:58.000Z"
   },
   {
    "duration": 7,
    "start_time": "2022-05-03T15:52:58.017Z"
   },
   {
    "duration": 12,
    "start_time": "2022-05-03T15:52:58.026Z"
   },
   {
    "duration": 8,
    "start_time": "2022-05-03T15:52:58.040Z"
   },
   {
    "duration": 7,
    "start_time": "2022-05-03T15:52:58.050Z"
   },
   {
    "duration": 19,
    "start_time": "2022-05-03T15:52:58.058Z"
   },
   {
    "duration": 8,
    "start_time": "2022-05-03T15:52:58.079Z"
   },
   {
    "duration": 52,
    "start_time": "2022-05-03T15:52:58.088Z"
   },
   {
    "duration": 4,
    "start_time": "2022-05-03T15:52:58.142Z"
   },
   {
    "duration": 8,
    "start_time": "2022-05-03T15:52:58.148Z"
   },
   {
    "duration": 10,
    "start_time": "2022-05-03T15:52:58.157Z"
   },
   {
    "duration": 12,
    "start_time": "2022-05-03T15:52:58.169Z"
   },
   {
    "duration": 41,
    "start_time": "2022-05-03T15:52:58.183Z"
   },
   {
    "duration": 8,
    "start_time": "2022-05-03T15:52:58.227Z"
   },
   {
    "duration": 8,
    "start_time": "2022-05-03T15:52:58.237Z"
   },
   {
    "duration": 11,
    "start_time": "2022-05-03T15:52:58.247Z"
   },
   {
    "duration": 7,
    "start_time": "2022-05-03T15:52:58.260Z"
   },
   {
    "duration": 4,
    "start_time": "2022-05-03T15:52:58.269Z"
   },
   {
    "duration": 9,
    "start_time": "2022-05-03T15:52:58.275Z"
   },
   {
    "duration": 6,
    "start_time": "2022-05-03T15:52:58.285Z"
   },
   {
    "duration": 38,
    "start_time": "2022-05-03T15:52:58.292Z"
   },
   {
    "duration": 25,
    "start_time": "2022-05-03T15:52:58.332Z"
   },
   {
    "duration": 22,
    "start_time": "2022-05-03T15:52:58.361Z"
   },
   {
    "duration": 40,
    "start_time": "2022-05-03T15:52:58.385Z"
   },
   {
    "duration": 16,
    "start_time": "2022-05-03T15:52:58.427Z"
   },
   {
    "duration": 6,
    "start_time": "2022-05-03T15:52:58.445Z"
   },
   {
    "duration": 20,
    "start_time": "2022-05-03T15:52:58.453Z"
   },
   {
    "duration": 16,
    "start_time": "2022-05-03T15:52:58.475Z"
   },
   {
    "duration": 39,
    "start_time": "2022-05-03T15:52:58.493Z"
   },
   {
    "duration": 7,
    "start_time": "2022-05-03T15:52:58.534Z"
   },
   {
    "duration": 10,
    "start_time": "2022-05-03T15:52:58.543Z"
   },
   {
    "duration": 5,
    "start_time": "2022-05-03T15:52:58.555Z"
   },
   {
    "duration": 5,
    "start_time": "2022-05-03T15:52:58.562Z"
   },
   {
    "duration": 11,
    "start_time": "2022-05-03T15:52:58.569Z"
   },
   {
    "duration": 8,
    "start_time": "2022-05-03T15:52:58.582Z"
   },
   {
    "duration": 33,
    "start_time": "2022-05-03T15:52:58.592Z"
   },
   {
    "duration": 6,
    "start_time": "2022-05-03T15:52:58.627Z"
   },
   {
    "duration": 9,
    "start_time": "2022-05-03T15:52:58.635Z"
   },
   {
    "duration": 19,
    "start_time": "2022-05-03T15:52:58.646Z"
   },
   {
    "duration": 14,
    "start_time": "2022-05-03T15:52:58.666Z"
   },
   {
    "duration": 7,
    "start_time": "2022-05-03T15:52:58.681Z"
   },
   {
    "duration": 4,
    "start_time": "2022-05-03T15:52:58.690Z"
   },
   {
    "duration": 6,
    "start_time": "2022-05-03T15:52:58.723Z"
   },
   {
    "duration": 8,
    "start_time": "2022-05-03T15:52:58.731Z"
   },
   {
    "duration": 5,
    "start_time": "2022-05-03T15:52:58.741Z"
   },
   {
    "duration": 9,
    "start_time": "2022-05-03T15:52:58.748Z"
   },
   {
    "duration": 6,
    "start_time": "2022-05-03T15:52:58.758Z"
   },
   {
    "duration": 10,
    "start_time": "2022-05-03T15:52:58.766Z"
   },
   {
    "duration": 47,
    "start_time": "2022-05-03T15:52:58.777Z"
   },
   {
    "duration": 6,
    "start_time": "2022-05-03T15:52:58.826Z"
   },
   {
    "duration": 10,
    "start_time": "2022-05-03T15:52:58.834Z"
   },
   {
    "duration": 9,
    "start_time": "2022-05-03T15:52:58.846Z"
   },
   {
    "duration": 7,
    "start_time": "2022-05-03T15:52:58.856Z"
   },
   {
    "duration": 14,
    "start_time": "2022-05-03T15:52:58.865Z"
   },
   {
    "duration": 14,
    "start_time": "2022-05-03T15:52:58.880Z"
   },
   {
    "duration": 7,
    "start_time": "2022-05-03T15:52:58.924Z"
   },
   {
    "duration": 16,
    "start_time": "2022-05-03T15:52:58.932Z"
   },
   {
    "duration": 20,
    "start_time": "2022-05-03T15:52:58.949Z"
   },
   {
    "duration": 86,
    "start_time": "2022-05-03T15:52:58.970Z"
   },
   {
    "duration": 82,
    "start_time": "2022-05-03T15:52:59.057Z"
   },
   {
    "duration": 21,
    "start_time": "2022-05-03T15:52:59.140Z"
   },
   {
    "duration": 14,
    "start_time": "2022-05-03T15:52:59.163Z"
   },
   {
    "duration": 237,
    "start_time": "2022-05-03T15:52:59.178Z"
   },
   {
    "duration": 189,
    "start_time": "2022-05-03T15:52:59.417Z"
   },
   {
    "duration": 18,
    "start_time": "2022-05-03T15:52:59.608Z"
   },
   {
    "duration": 211,
    "start_time": "2022-05-03T15:52:59.628Z"
   },
   {
    "duration": 428,
    "start_time": "2022-05-03T15:52:59.840Z"
   },
   {
    "duration": 7,
    "start_time": "2022-05-03T15:53:00.269Z"
   },
   {
    "duration": 36,
    "start_time": "2022-05-03T15:53:00.277Z"
   },
   {
    "duration": 460,
    "start_time": "2022-05-03T15:53:00.314Z"
   },
   {
    "duration": 12,
    "start_time": "2022-05-03T15:53:00.777Z"
   },
   {
    "duration": 65,
    "start_time": "2022-05-03T15:53:00.791Z"
   },
   {
    "duration": 703,
    "start_time": "2022-05-03T15:53:00.858Z"
   },
   {
    "duration": 16,
    "start_time": "2022-05-03T15:53:01.562Z"
   },
   {
    "duration": 2933,
    "start_time": "2022-05-03T15:53:01.579Z"
   },
   {
    "duration": 161,
    "start_time": "2022-05-03T15:53:04.514Z"
   },
   {
    "duration": 204,
    "start_time": "2022-05-03T15:53:04.681Z"
   },
   {
    "duration": 4,
    "start_time": "2022-05-03T16:16:44.972Z"
   },
   {
    "duration": 127,
    "start_time": "2022-05-03T16:19:40.860Z"
   },
   {
    "duration": 10,
    "start_time": "2022-05-03T16:19:47.542Z"
   },
   {
    "duration": 9,
    "start_time": "2022-05-03T16:19:59.559Z"
   },
   {
    "duration": 12,
    "start_time": "2022-05-03T16:20:36.231Z"
   },
   {
    "duration": 9,
    "start_time": "2022-05-03T16:21:14.483Z"
   },
   {
    "duration": 6,
    "start_time": "2022-05-03T16:21:18.287Z"
   },
   {
    "duration": 4,
    "start_time": "2022-05-03T16:21:32.681Z"
   },
   {
    "duration": 388,
    "start_time": "2022-05-03T16:21:43.899Z"
   },
   {
    "duration": 6,
    "start_time": "2022-05-03T16:21:45.683Z"
   },
   {
    "duration": 63,
    "start_time": "2022-05-03T16:22:13.998Z"
   },
   {
    "duration": 10,
    "start_time": "2022-05-03T16:22:21.812Z"
   },
   {
    "duration": 8,
    "start_time": "2022-05-03T16:22:22.316Z"
   },
   {
    "duration": 9,
    "start_time": "2022-05-03T16:22:26.778Z"
   },
   {
    "duration": 4,
    "start_time": "2022-05-03T16:22:34.798Z"
   },
   {
    "duration": 9,
    "start_time": "2022-05-03T16:22:37.847Z"
   },
   {
    "duration": 5,
    "start_time": "2022-05-03T16:22:38.385Z"
   },
   {
    "duration": 9,
    "start_time": "2022-05-03T16:23:12.943Z"
   },
   {
    "duration": 8,
    "start_time": "2022-05-03T16:23:17.453Z"
   },
   {
    "duration": 10,
    "start_time": "2022-05-03T16:23:21.635Z"
   },
   {
    "duration": 8,
    "start_time": "2022-05-03T16:23:22.104Z"
   },
   {
    "duration": 6,
    "start_time": "2022-05-03T16:23:25.647Z"
   },
   {
    "duration": 10,
    "start_time": "2022-05-03T16:23:29.007Z"
   },
   {
    "duration": 9,
    "start_time": "2022-05-03T16:23:30.373Z"
   },
   {
    "duration": 9,
    "start_time": "2022-05-03T16:23:34.176Z"
   },
   {
    "duration": 9,
    "start_time": "2022-05-03T16:23:43.780Z"
   },
   {
    "duration": 11,
    "start_time": "2022-05-03T16:23:51.853Z"
   },
   {
    "duration": 4,
    "start_time": "2022-05-03T16:24:02.073Z"
   },
   {
    "duration": 11,
    "start_time": "2022-05-03T16:24:06.700Z"
   },
   {
    "duration": 5,
    "start_time": "2022-05-03T16:24:07.083Z"
   },
   {
    "duration": 121,
    "start_time": "2022-05-03T16:27:38.805Z"
   },
   {
    "duration": 129,
    "start_time": "2022-05-03T16:27:44.527Z"
   },
   {
    "duration": 95,
    "start_time": "2022-05-03T16:27:54.750Z"
   },
   {
    "duration": 85,
    "start_time": "2022-05-03T16:28:14.164Z"
   },
   {
    "duration": 127,
    "start_time": "2022-05-03T16:28:25.930Z"
   },
   {
    "duration": 119,
    "start_time": "2022-05-03T16:28:29.910Z"
   },
   {
    "duration": 90,
    "start_time": "2022-05-03T16:28:40.498Z"
   },
   {
    "duration": 120,
    "start_time": "2022-05-03T16:29:28.288Z"
   },
   {
    "duration": 106,
    "start_time": "2022-05-03T16:29:51.782Z"
   },
   {
    "duration": 567,
    "start_time": "2022-05-03T16:30:19.873Z"
   },
   {
    "duration": 2823,
    "start_time": "2022-05-03T16:30:30.072Z"
   },
   {
    "duration": 265,
    "start_time": "2022-05-03T16:30:56.878Z"
   }
  ],
  "colab": {
   "collapsed_sections": [],
   "name": "prefab_project_1.ipynb",
   "provenance": [],
   "toc_visible": true
  },
  "kernelspec": {
   "display_name": "Python 3 (ipykernel)",
   "language": "python",
   "name": "python3"
  },
  "language_info": {
   "codemirror_mode": {
    "name": "ipython",
    "version": 3
   },
   "file_extension": ".py",
   "mimetype": "text/x-python",
   "name": "python",
   "nbconvert_exporter": "python",
   "pygments_lexer": "ipython3",
   "version": "3.11.5"
  },
  "toc": {
   "base_numbering": 1,
   "nav_menu": {},
   "number_sections": true,
   "sideBar": true,
   "skip_h1_title": true,
   "title_cell": "Table of Contents",
   "title_sidebar": "Contents",
   "toc_cell": true,
   "toc_position": {
    "height": "calc(100% - 180px)",
    "left": "10px",
    "top": "150px",
    "width": "409px"
   },
   "toc_section_display": true,
   "toc_window_display": true
  }
 },
 "nbformat": 4,
 "nbformat_minor": 4
}
