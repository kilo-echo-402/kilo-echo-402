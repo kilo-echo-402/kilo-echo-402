{
 "cells": [
  {
   "cell_type": "markdown",
   "metadata": {
    "toc": true
   },
   "source": [
    "<h1>Table of Contents<span class=\"tocSkip\"></span></h1>\n",
    "<div class=\"toc\"><ul class=\"toc-item\"><li><span><a href=\"#Описание-проекта\" data-toc-modified-id=\"Описание-проекта-1\"><span class=\"toc-item-num\">1&nbsp;&nbsp;</span>Описание проекта</a></span></li><li><span><a href=\"#Цели-и-задачи\" data-toc-modified-id=\"Цели-и-задачи-2\"><span class=\"toc-item-num\">2&nbsp;&nbsp;</span>Цели и задачи</a></span></li><li><span><a href=\"#План-работ\" data-toc-modified-id=\"План-работ-3\"><span class=\"toc-item-num\">3&nbsp;&nbsp;</span>План работ</a></span></li><li><span><a href=\"#Обзор-данных\" data-toc-modified-id=\"Обзор-данных-4\"><span class=\"toc-item-num\">4&nbsp;&nbsp;</span>Обзор данных</a></span><ul class=\"toc-item\"><li><span><a href=\"#Описание-данных\" data-toc-modified-id=\"Описание-данных-4.1\"><span class=\"toc-item-num\">4.1&nbsp;&nbsp;</span>Описание данных</a></span></li><li><span><a href=\"#Таблица-users\" data-toc-modified-id=\"Таблица-users-4.2\"><span class=\"toc-item-num\">4.2&nbsp;&nbsp;</span>Таблица users</a></span></li><li><span><a href=\"#Таблица-calls\" data-toc-modified-id=\"Таблица-calls-4.3\"><span class=\"toc-item-num\">4.3&nbsp;&nbsp;</span>Таблица calls</a></span></li><li><span><a href=\"#Таблица-messages\" data-toc-modified-id=\"Таблица-messages-4.4\"><span class=\"toc-item-num\">4.4&nbsp;&nbsp;</span>Таблица messages</a></span></li><li><span><a href=\"#Таблица-internet\" data-toc-modified-id=\"Таблица-internet-4.5\"><span class=\"toc-item-num\">4.5&nbsp;&nbsp;</span>Таблица internet</a></span></li><li><span><a href=\"#Таблица-tariffs\" data-toc-modified-id=\"Таблица-tariffs-4.6\"><span class=\"toc-item-num\">4.6&nbsp;&nbsp;</span>Таблица tariffs</a></span></li></ul></li><li><span><a href=\"#Предобработка-данных\" data-toc-modified-id=\"Предобработка-данных-5\"><span class=\"toc-item-num\">5&nbsp;&nbsp;</span>Предобработка данных</a></span><ul class=\"toc-item\"><li><span><a href=\"#Переименование-столбцов\" data-toc-modified-id=\"Переименование-столбцов-5.1\"><span class=\"toc-item-num\">5.1&nbsp;&nbsp;</span>Переименование столбцов</a></span></li><li><span><a href=\"#Пропуски-в-данных\" data-toc-modified-id=\"Пропуски-в-данных-5.2\"><span class=\"toc-item-num\">5.2&nbsp;&nbsp;</span>Пропуски в данных</a></span></li><li><span><a href=\"#Приведение-типов-данных\" data-toc-modified-id=\"Приведение-типов-данных-5.3\"><span class=\"toc-item-num\">5.3&nbsp;&nbsp;</span>Приведение типов данных</a></span></li><li><span><a href=\"#Поиск-дубликатов\" data-toc-modified-id=\"Поиск-дубликатов-5.4\"><span class=\"toc-item-num\">5.4&nbsp;&nbsp;</span>Поиск дубликатов</a></span></li><li><span><a href=\"#Дополнительные-расчёты\" data-toc-modified-id=\"Дополнительные-расчёты-5.5\"><span class=\"toc-item-num\">5.5&nbsp;&nbsp;</span>Дополнительные расчёты</a></span><ul class=\"toc-item\"><li><span><a href=\"#Количество-звонков-и-минут-по-месяцам\" data-toc-modified-id=\"Количество-звонков-и-минут-по-месяцам-5.5.1\"><span class=\"toc-item-num\">5.5.1&nbsp;&nbsp;</span>Количество звонков и минут по месяцам</a></span></li><li><span><a href=\"#Количество-отправленных-сообщений-по-месяцам\" data-toc-modified-id=\"Количество-отправленных-сообщений-по-месяцам-5.5.2\"><span class=\"toc-item-num\">5.5.2&nbsp;&nbsp;</span>Количество отправленных сообщений по месяцам</a></span></li><li><span><a href=\"#Объем-израсходованного-интернет-трафика-по-месяцам\" data-toc-modified-id=\"Объем-израсходованного-интернет-трафика-по-месяцам-5.5.3\"><span class=\"toc-item-num\">5.5.3&nbsp;&nbsp;</span>Объем израсходованного интернет-трафика по месяцам</a></span></li><li><span><a href=\"#Помесячная-выручка-с-каждого-пользователя\" data-toc-modified-id=\"Помесячная-выручка-с-каждого-пользователя-5.5.4\"><span class=\"toc-item-num\">5.5.4&nbsp;&nbsp;</span>Помесячная выручка с каждого пользователя</a></span></li></ul></li><li><span><a href=\"#Выводы-по-предобработке-данных\" data-toc-modified-id=\"Выводы-по-предобработке-данных-5.6\"><span class=\"toc-item-num\">5.6&nbsp;&nbsp;</span>Выводы по предобработке данных</a></span></li></ul></li><li><span><a href=\"#Анализ-данных\" data-toc-modified-id=\"Анализ-данных-6\"><span class=\"toc-item-num\">6&nbsp;&nbsp;</span>Анализ данных</a></span><ul class=\"toc-item\"><li><span><a href=\"#Предварительные-расчёты\" data-toc-modified-id=\"Предварительные-расчёты-6.1\"><span class=\"toc-item-num\">6.1&nbsp;&nbsp;</span>Предварительные расчёты</a></span></li><li><span><a href=\"#Анализ-среднего-количества-минут-по-месяцам\" data-toc-modified-id=\"Анализ-среднего-количества-минут-по-месяцам-6.2\"><span class=\"toc-item-num\">6.2&nbsp;&nbsp;</span>Анализ среднего количества минут по месяцам</a></span></li><li><span><a href=\"#Анализ--среднего-количества-отправленных-сообщений-по-месяцам\" data-toc-modified-id=\"Анализ--среднего-количества-отправленных-сообщений-по-месяцам-6.3\"><span class=\"toc-item-num\">6.3&nbsp;&nbsp;</span>Анализ  среднего количества отправленных сообщений по месяцам</a></span></li><li><span><a href=\"#Анализ--среднего-количества-использованных-гигабайт-по-месяцам\" data-toc-modified-id=\"Анализ--среднего-количества-использованных-гигабайт-по-месяцам-6.4\"><span class=\"toc-item-num\">6.4&nbsp;&nbsp;</span>Анализ  среднего количества использованных гигабайт по месяцам</a></span></li><li><span><a href=\"#Выводы-по-анализу-данных\" data-toc-modified-id=\"Выводы-по-анализу-данных-6.5\"><span class=\"toc-item-num\">6.5&nbsp;&nbsp;</span>Выводы по анализу данных</a></span></li></ul></li><li><span><a href=\"#Проверка-гипотез\" data-toc-modified-id=\"Проверка-гипотез-7\"><span class=\"toc-item-num\">7&nbsp;&nbsp;</span>Проверка гипотез</a></span><ul class=\"toc-item\"><li><span><a href=\"#Предварительные-расчёты\" data-toc-modified-id=\"Предварительные-расчёты-7.1\"><span class=\"toc-item-num\">7.1&nbsp;&nbsp;</span>Предварительные расчёты</a></span><ul class=\"toc-item\"><li><span><a href=\"#Выручкая-с-пользователей-тарифа-Smart\" data-toc-modified-id=\"Выручкая-с-пользователей-тарифа-Smart-7.1.1\"><span class=\"toc-item-num\">7.1.1&nbsp;&nbsp;</span>Выручкая с пользователей тарифа Smart</a></span></li><li><span><a href=\"#Выручкая-с-пользователей-тарифа-Ultra\" data-toc-modified-id=\"Выручкая-с-пользователей-тарифа-Ultra-7.1.2\"><span class=\"toc-item-num\">7.1.2&nbsp;&nbsp;</span>Выручкая с пользователей тарифа Ultra</a></span></li><li><span><a href=\"#Выручкая-с-пользователей-из-Москвы\" data-toc-modified-id=\"Выручкая-с-пользователей-из-Москвы-7.1.3\"><span class=\"toc-item-num\">7.1.3&nbsp;&nbsp;</span>Выручкая с пользователей из Москвы</a></span></li><li><span><a href=\"#Выручкая-с-пользователей-не-из-Москвы\" data-toc-modified-id=\"Выручкая-с-пользователей-не-из-Москвы-7.1.4\"><span class=\"toc-item-num\">7.1.4&nbsp;&nbsp;</span>Выручкая с пользователей не из Москвы</a></span></li></ul></li><li><span><a href=\"#Проверка-гипотезы-№1\" data-toc-modified-id=\"Проверка-гипотезы-№1-7.2\"><span class=\"toc-item-num\">7.2&nbsp;&nbsp;</span>Проверка гипотезы №1</a></span></li><li><span><a href=\"#Проверка-гипотезы-№2\" data-toc-modified-id=\"Проверка-гипотезы-№2-7.3\"><span class=\"toc-item-num\">7.3&nbsp;&nbsp;</span>Проверка гипотезы №2</a></span></li></ul></li><li><span><a href=\"#Общий-вывод\" data-toc-modified-id=\"Общий-вывод-8\"><span class=\"toc-item-num\">8&nbsp;&nbsp;</span>Общий вывод</a></span><ul class=\"toc-item\"><li><span><a href=\"#Анализ-данных\" data-toc-modified-id=\"Анализ-данных-8.1\"><span class=\"toc-item-num\">8.1&nbsp;&nbsp;</span>Анализ данных</a></span><ul class=\"toc-item\"><li><span><a href=\"#Вывод-по-анализу-данных\" data-toc-modified-id=\"Вывод-по-анализу-данных-8.1.1\"><span class=\"toc-item-num\">8.1.1&nbsp;&nbsp;</span>Вывод по анализу данных</a></span></li></ul></li><li><span><a href=\"#Проверка-гипотез\" data-toc-modified-id=\"Проверка-гипотез-8.2\"><span class=\"toc-item-num\">8.2&nbsp;&nbsp;</span>Проверка гипотез</a></span><ul class=\"toc-item\"><li><span><a href=\"#Выводы-по-проверке-гипотез\" data-toc-modified-id=\"Выводы-по-проверке-гипотез-8.2.1\"><span class=\"toc-item-num\">8.2.1&nbsp;&nbsp;</span>Выводы по проверке гипотез</a></span></li></ul></li></ul></li></ul></div>"
   ]
  },
  {
   "cell_type": "markdown",
   "metadata": {
    "tags": []
   },
   "source": [
    "# Определение перспективного тарифа для телеком-компании"
   ]
  },
  {
   "cell_type": "markdown",
   "metadata": {},
   "source": [
    "## Описание проекта"
   ]
  },
  {
   "cell_type": "markdown",
   "metadata": {},
   "source": [
    "Мы выступаем в роли аналитика компании «Мегалайн» — оператора сотовой связи. Клиентам предлагают два тарифных плана: «Смарт» и «Ультра». Чтобы скорректировать рекламный бюджет, коммерческий департамент хочет понять, какой тариф приносит больше денег.\n",
    "Нам предстоит сделать предварительный анализ тарифов на небольшой выборке клиентов. В нашем распоряжении данные 500 пользователей «Мегалайна»: кто они, откуда, каким тарифом пользуются, сколько звонков и сообщений каждый отправил за 2018 год. Нам нужно проанализировать поведение клиентов и сделать вывод — какой тариф лучше."
   ]
  },
  {
   "cell_type": "markdown",
   "metadata": {},
   "source": [
    "## Цели и задачи"
   ]
  },
  {
   "cell_type": "markdown",
   "metadata": {},
   "source": [
    "1. Посчитать для каждого пользователя: \n",
    "    1. Количество сделанных звонков и израсходованных минут разговора по месяцам;\n",
    "    2. Количество отправленных сообщений по месяцам;\n",
    "    3. Объем израсходованного интернет-трафика по месяцам;\n",
    "    4. Помесячную выручку с каждого пользователя.\n",
    "2. Описать поведение клиентов оператора, исходя из выборки. Сколько минут разговора, сколько сообщений и какой объём интернет-трафика требуется пользователям каждого тарифа в месяц? Посчитать среднее количество, дисперсию и стандартное отклонение. Построить гистограммы. Описать распределения.\n",
    "3. Проверить гипотезы:\n",
    "    1. Средняя выручка пользователей тарифов «Ультра» и «Смарт» различаются;\n",
    "    2. Средняя выручка пользователей из Москвы отличается от выручки пользователей из других регионов.\n",
    "4. Написать общий вывод."
   ]
  },
  {
   "cell_type": "markdown",
   "metadata": {},
   "source": [
    "## План работ"
   ]
  },
  {
   "cell_type": "markdown",
   "metadata": {},
   "source": [
    "1. Обзор данных.\n",
    "2. Предобработка данных.\n",
    "3. Анализ данных.\n",
    "4. Проверка гипотез.\n",
    "5. Общий вывод."
   ]
  },
  {
   "cell_type": "markdown",
   "metadata": {},
   "source": [
    "## Обзор данных"
   ]
  },
  {
   "cell_type": "code",
   "execution_count": 1,
   "metadata": {},
   "outputs": [],
   "source": [
    "import pandas as pd\n",
    "import numpy as np\n",
    "import matplotlib.pyplot as plt\n",
    "import random\n",
    "\n",
    "from scipy import stats as st"
   ]
  },
  {
   "cell_type": "code",
   "execution_count": 2,
   "metadata": {},
   "outputs": [],
   "source": [
    "# Выключим предупреждения о цепном присваивании\n",
    "pd.options.mode.chained_assignment = None\n",
    "\n",
    "pd.set_option('display.max_columns', 100)"
   ]
  },
  {
   "cell_type": "markdown",
   "metadata": {},
   "source": [
    "### Описание данных"
   ]
  },
  {
   "cell_type": "markdown",
   "metadata": {},
   "source": [
    "Данные по проекту представлены в пяти csv-файлах:\n",
    "1. users.csv - информация о пользователях\n",
    "2. calls.csv - информация о звонках\n",
    "3. messages.csv - информация о сообщениях\n",
    "4. internet.csv - информация об интернет-сессиях\n",
    "5. tariffs.csv - информация о тарифах"
   ]
  },
  {
   "cell_type": "markdown",
   "metadata": {},
   "source": [
    "### Таблица users"
   ]
  },
  {
   "cell_type": "code",
   "execution_count": 3,
   "metadata": {},
   "outputs": [
    {
     "data": {
      "text/html": [
       "<div>\n",
       "<style scoped>\n",
       "    .dataframe tbody tr th:only-of-type {\n",
       "        vertical-align: middle;\n",
       "    }\n",
       "\n",
       "    .dataframe tbody tr th {\n",
       "        vertical-align: top;\n",
       "    }\n",
       "\n",
       "    .dataframe thead th {\n",
       "        text-align: right;\n",
       "    }\n",
       "</style>\n",
       "<table border=\"1\" class=\"dataframe\">\n",
       "  <thead>\n",
       "    <tr style=\"text-align: right;\">\n",
       "      <th></th>\n",
       "      <th>user_id</th>\n",
       "      <th>age</th>\n",
       "      <th>churn_date</th>\n",
       "      <th>city</th>\n",
       "      <th>first_name</th>\n",
       "      <th>last_name</th>\n",
       "      <th>reg_date</th>\n",
       "      <th>tariff</th>\n",
       "    </tr>\n",
       "  </thead>\n",
       "  <tbody>\n",
       "    <tr>\n",
       "      <th>0</th>\n",
       "      <td>1000</td>\n",
       "      <td>52</td>\n",
       "      <td>NaN</td>\n",
       "      <td>Краснодар</td>\n",
       "      <td>Рафаил</td>\n",
       "      <td>Верещагин</td>\n",
       "      <td>2018-05-25</td>\n",
       "      <td>ultra</td>\n",
       "    </tr>\n",
       "    <tr>\n",
       "      <th>1</th>\n",
       "      <td>1001</td>\n",
       "      <td>41</td>\n",
       "      <td>NaN</td>\n",
       "      <td>Москва</td>\n",
       "      <td>Иван</td>\n",
       "      <td>Ежов</td>\n",
       "      <td>2018-11-01</td>\n",
       "      <td>smart</td>\n",
       "    </tr>\n",
       "    <tr>\n",
       "      <th>2</th>\n",
       "      <td>1002</td>\n",
       "      <td>59</td>\n",
       "      <td>NaN</td>\n",
       "      <td>Стерлитамак</td>\n",
       "      <td>Евгений</td>\n",
       "      <td>Абрамович</td>\n",
       "      <td>2018-06-17</td>\n",
       "      <td>smart</td>\n",
       "    </tr>\n",
       "    <tr>\n",
       "      <th>3</th>\n",
       "      <td>1003</td>\n",
       "      <td>23</td>\n",
       "      <td>NaN</td>\n",
       "      <td>Москва</td>\n",
       "      <td>Белла</td>\n",
       "      <td>Белякова</td>\n",
       "      <td>2018-08-17</td>\n",
       "      <td>ultra</td>\n",
       "    </tr>\n",
       "    <tr>\n",
       "      <th>4</th>\n",
       "      <td>1004</td>\n",
       "      <td>68</td>\n",
       "      <td>NaN</td>\n",
       "      <td>Новокузнецк</td>\n",
       "      <td>Татьяна</td>\n",
       "      <td>Авдеенко</td>\n",
       "      <td>2018-05-14</td>\n",
       "      <td>ultra</td>\n",
       "    </tr>\n",
       "  </tbody>\n",
       "</table>\n",
       "</div>"
      ],
      "text/plain": [
       "   user_id  age churn_date         city first_name  last_name    reg_date  \\\n",
       "0     1000   52        NaN    Краснодар     Рафаил  Верещагин  2018-05-25   \n",
       "1     1001   41        NaN       Москва       Иван       Ежов  2018-11-01   \n",
       "2     1002   59        NaN  Стерлитамак    Евгений  Абрамович  2018-06-17   \n",
       "3     1003   23        NaN       Москва      Белла   Белякова  2018-08-17   \n",
       "4     1004   68        NaN  Новокузнецк    Татьяна   Авдеенко  2018-05-14   \n",
       "\n",
       "  tariff  \n",
       "0  ultra  \n",
       "1  smart  \n",
       "2  smart  \n",
       "3  ultra  \n",
       "4  ultra  "
      ]
     },
     "execution_count": 3,
     "metadata": {},
     "output_type": "execute_result"
    }
   ],
   "source": [
    "# Создадим датафрейм df_users и отобразим первые 5 строк\n",
    "df_users = pd.read_csv('/datasets/users.csv')\n",
    "df_users.head()"
   ]
  },
  {
   "cell_type": "code",
   "execution_count": 4,
   "metadata": {
    "scrolled": true
   },
   "outputs": [
    {
     "name": "stdout",
     "output_type": "stream",
     "text": [
      "<class 'pandas.core.frame.DataFrame'>\n",
      "RangeIndex: 500 entries, 0 to 499\n",
      "Data columns (total 8 columns):\n",
      " #   Column      Non-Null Count  Dtype \n",
      "---  ------      --------------  ----- \n",
      " 0   user_id     500 non-null    int64 \n",
      " 1   age         500 non-null    int64 \n",
      " 2   churn_date  38 non-null     object\n",
      " 3   city        500 non-null    object\n",
      " 4   first_name  500 non-null    object\n",
      " 5   last_name   500 non-null    object\n",
      " 6   reg_date    500 non-null    object\n",
      " 7   tariff      500 non-null    object\n",
      "dtypes: int64(2), object(6)\n",
      "memory usage: 31.4+ KB\n"
     ]
    }
   ],
   "source": [
    "# Взглянем на информацию по датафрейму\n",
    "df_users.info()"
   ]
  },
  {
   "cell_type": "markdown",
   "metadata": {},
   "source": [
    "Таблица users (информация о пользователях):\n",
    "\n",
    "  * user_id — уникальный идентификатор пользователя\n",
    "  * first_name — имя пользователя\n",
    "  * last_name — фамилия пользователя\n",
    "  * age — возраст пользователя (годы)\n",
    "  * reg_date — дата подключения тарифа (день, месяц, год)\n",
    "  * churn_date — дата прекращения пользования тарифом (если значение пропущено, то тариф ещё действовал на момент выгрузки данных)\n",
    "  * city — город проживания пользователя\n",
    "  * tariff — название тарифного плана"
   ]
  },
  {
   "cell_type": "markdown",
   "metadata": {},
   "source": [
    "8 столбцов, 500 строк. 6 столбцов с типом `object`, 2 с типом `int64`. Даты указаны в формате строки, необходим будет перевод."
   ]
  },
  {
   "cell_type": "markdown",
   "metadata": {},
   "source": [
    "### Таблица calls"
   ]
  },
  {
   "cell_type": "code",
   "execution_count": 5,
   "metadata": {},
   "outputs": [
    {
     "data": {
      "text/html": [
       "<div>\n",
       "<style scoped>\n",
       "    .dataframe tbody tr th:only-of-type {\n",
       "        vertical-align: middle;\n",
       "    }\n",
       "\n",
       "    .dataframe tbody tr th {\n",
       "        vertical-align: top;\n",
       "    }\n",
       "\n",
       "    .dataframe thead th {\n",
       "        text-align: right;\n",
       "    }\n",
       "</style>\n",
       "<table border=\"1\" class=\"dataframe\">\n",
       "  <thead>\n",
       "    <tr style=\"text-align: right;\">\n",
       "      <th></th>\n",
       "      <th>id</th>\n",
       "      <th>call_date</th>\n",
       "      <th>duration</th>\n",
       "      <th>user_id</th>\n",
       "    </tr>\n",
       "  </thead>\n",
       "  <tbody>\n",
       "    <tr>\n",
       "      <th>0</th>\n",
       "      <td>1000_0</td>\n",
       "      <td>2018-07-25</td>\n",
       "      <td>0.00</td>\n",
       "      <td>1000</td>\n",
       "    </tr>\n",
       "    <tr>\n",
       "      <th>1</th>\n",
       "      <td>1000_1</td>\n",
       "      <td>2018-08-17</td>\n",
       "      <td>0.00</td>\n",
       "      <td>1000</td>\n",
       "    </tr>\n",
       "    <tr>\n",
       "      <th>2</th>\n",
       "      <td>1000_2</td>\n",
       "      <td>2018-06-11</td>\n",
       "      <td>2.85</td>\n",
       "      <td>1000</td>\n",
       "    </tr>\n",
       "    <tr>\n",
       "      <th>3</th>\n",
       "      <td>1000_3</td>\n",
       "      <td>2018-09-21</td>\n",
       "      <td>13.80</td>\n",
       "      <td>1000</td>\n",
       "    </tr>\n",
       "    <tr>\n",
       "      <th>4</th>\n",
       "      <td>1000_4</td>\n",
       "      <td>2018-12-15</td>\n",
       "      <td>5.18</td>\n",
       "      <td>1000</td>\n",
       "    </tr>\n",
       "  </tbody>\n",
       "</table>\n",
       "</div>"
      ],
      "text/plain": [
       "       id   call_date  duration  user_id\n",
       "0  1000_0  2018-07-25      0.00     1000\n",
       "1  1000_1  2018-08-17      0.00     1000\n",
       "2  1000_2  2018-06-11      2.85     1000\n",
       "3  1000_3  2018-09-21     13.80     1000\n",
       "4  1000_4  2018-12-15      5.18     1000"
      ]
     },
     "execution_count": 5,
     "metadata": {},
     "output_type": "execute_result"
    }
   ],
   "source": [
    "# Создадим датафрейм df_calls и отобразим первые 5 строк\n",
    "df_calls = pd.read_csv('/datasets/calls.csv')\n",
    "df_calls.head()"
   ]
  },
  {
   "cell_type": "code",
   "execution_count": 6,
   "metadata": {
    "scrolled": true
   },
   "outputs": [
    {
     "name": "stdout",
     "output_type": "stream",
     "text": [
      "<class 'pandas.core.frame.DataFrame'>\n",
      "RangeIndex: 202607 entries, 0 to 202606\n",
      "Data columns (total 4 columns):\n",
      " #   Column     Non-Null Count   Dtype  \n",
      "---  ------     --------------   -----  \n",
      " 0   id         202607 non-null  object \n",
      " 1   call_date  202607 non-null  object \n",
      " 2   duration   202607 non-null  float64\n",
      " 3   user_id    202607 non-null  int64  \n",
      "dtypes: float64(1), int64(1), object(2)\n",
      "memory usage: 6.2+ MB\n"
     ]
    }
   ],
   "source": [
    "# Взглянем на информацию по датафрейму\n",
    "df_calls.info()"
   ]
  },
  {
   "cell_type": "markdown",
   "metadata": {},
   "source": [
    "Таблица calls (информация о звонках):\n",
    "\n",
    "  * id — уникальный номер звонка\n",
    "  * call_date — дата звонка\n",
    "  * duration — длительность звонка в минутах\n",
    "  * user_id — идентификатор пользователя, сделавшего звонок"
   ]
  },
  {
   "cell_type": "markdown",
   "metadata": {},
   "source": [
    "4 столбца, 202607 строк. 2 столбца с типом `object`, 1 с типом `int64` и 1 с типом `float64`. Даты так же указаны в формате строки. Объединять будем по столбцу `user_id`, поэтому важно, чтобы тип данных этого столбца у всех таблиц был одинаков."
   ]
  },
  {
   "cell_type": "markdown",
   "metadata": {},
   "source": [
    "### Таблица messages"
   ]
  },
  {
   "cell_type": "code",
   "execution_count": 7,
   "metadata": {},
   "outputs": [
    {
     "data": {
      "text/html": [
       "<div>\n",
       "<style scoped>\n",
       "    .dataframe tbody tr th:only-of-type {\n",
       "        vertical-align: middle;\n",
       "    }\n",
       "\n",
       "    .dataframe tbody tr th {\n",
       "        vertical-align: top;\n",
       "    }\n",
       "\n",
       "    .dataframe thead th {\n",
       "        text-align: right;\n",
       "    }\n",
       "</style>\n",
       "<table border=\"1\" class=\"dataframe\">\n",
       "  <thead>\n",
       "    <tr style=\"text-align: right;\">\n",
       "      <th></th>\n",
       "      <th>id</th>\n",
       "      <th>message_date</th>\n",
       "      <th>user_id</th>\n",
       "    </tr>\n",
       "  </thead>\n",
       "  <tbody>\n",
       "    <tr>\n",
       "      <th>0</th>\n",
       "      <td>1000_0</td>\n",
       "      <td>2018-06-27</td>\n",
       "      <td>1000</td>\n",
       "    </tr>\n",
       "    <tr>\n",
       "      <th>1</th>\n",
       "      <td>1000_1</td>\n",
       "      <td>2018-10-08</td>\n",
       "      <td>1000</td>\n",
       "    </tr>\n",
       "    <tr>\n",
       "      <th>2</th>\n",
       "      <td>1000_2</td>\n",
       "      <td>2018-08-04</td>\n",
       "      <td>1000</td>\n",
       "    </tr>\n",
       "    <tr>\n",
       "      <th>3</th>\n",
       "      <td>1000_3</td>\n",
       "      <td>2018-06-16</td>\n",
       "      <td>1000</td>\n",
       "    </tr>\n",
       "    <tr>\n",
       "      <th>4</th>\n",
       "      <td>1000_4</td>\n",
       "      <td>2018-12-05</td>\n",
       "      <td>1000</td>\n",
       "    </tr>\n",
       "  </tbody>\n",
       "</table>\n",
       "</div>"
      ],
      "text/plain": [
       "       id message_date  user_id\n",
       "0  1000_0   2018-06-27     1000\n",
       "1  1000_1   2018-10-08     1000\n",
       "2  1000_2   2018-08-04     1000\n",
       "3  1000_3   2018-06-16     1000\n",
       "4  1000_4   2018-12-05     1000"
      ]
     },
     "execution_count": 7,
     "metadata": {},
     "output_type": "execute_result"
    }
   ],
   "source": [
    "# Создадим датафрейм df_messages и отобразим первые 5 строк\n",
    "df_messages = pd.read_csv('/datasets/messages.csv')\n",
    "df_messages.head()"
   ]
  },
  {
   "cell_type": "code",
   "execution_count": 8,
   "metadata": {
    "scrolled": true
   },
   "outputs": [
    {
     "name": "stdout",
     "output_type": "stream",
     "text": [
      "<class 'pandas.core.frame.DataFrame'>\n",
      "RangeIndex: 123036 entries, 0 to 123035\n",
      "Data columns (total 3 columns):\n",
      " #   Column        Non-Null Count   Dtype \n",
      "---  ------        --------------   ----- \n",
      " 0   id            123036 non-null  object\n",
      " 1   message_date  123036 non-null  object\n",
      " 2   user_id       123036 non-null  int64 \n",
      "dtypes: int64(1), object(2)\n",
      "memory usage: 2.8+ MB\n"
     ]
    }
   ],
   "source": [
    "# Взглянем на информацию по датафрейму\n",
    "df_messages.info()"
   ]
  },
  {
   "cell_type": "markdown",
   "metadata": {},
   "source": [
    "Таблица messages (информация о сообщениях):\n",
    "\n",
    "  * id — уникальный номер сообщения\n",
    "  * message_date — дата сообщения\n",
    "  * user_id — идентификатор пользователя, отправившего сообщение"
   ]
  },
  {
   "cell_type": "markdown",
   "metadata": {},
   "source": [
    "3 столбца, 123036 строк. 2 столбца с типом `object`, 1 с типом `int64`. Даты так же указаны в формате строки. Столбец `user_id` имеет корректный тип данных."
   ]
  },
  {
   "cell_type": "markdown",
   "metadata": {},
   "source": [
    "### Таблица internet"
   ]
  },
  {
   "cell_type": "code",
   "execution_count": 9,
   "metadata": {},
   "outputs": [
    {
     "data": {
      "text/html": [
       "<div>\n",
       "<style scoped>\n",
       "    .dataframe tbody tr th:only-of-type {\n",
       "        vertical-align: middle;\n",
       "    }\n",
       "\n",
       "    .dataframe tbody tr th {\n",
       "        vertical-align: top;\n",
       "    }\n",
       "\n",
       "    .dataframe thead th {\n",
       "        text-align: right;\n",
       "    }\n",
       "</style>\n",
       "<table border=\"1\" class=\"dataframe\">\n",
       "  <thead>\n",
       "    <tr style=\"text-align: right;\">\n",
       "      <th></th>\n",
       "      <th>id</th>\n",
       "      <th>mb_used</th>\n",
       "      <th>session_date</th>\n",
       "      <th>user_id</th>\n",
       "    </tr>\n",
       "  </thead>\n",
       "  <tbody>\n",
       "    <tr>\n",
       "      <th>0</th>\n",
       "      <td>1000_0</td>\n",
       "      <td>112.95</td>\n",
       "      <td>2018-11-25</td>\n",
       "      <td>1000</td>\n",
       "    </tr>\n",
       "    <tr>\n",
       "      <th>1</th>\n",
       "      <td>1000_1</td>\n",
       "      <td>1052.81</td>\n",
       "      <td>2018-09-07</td>\n",
       "      <td>1000</td>\n",
       "    </tr>\n",
       "    <tr>\n",
       "      <th>2</th>\n",
       "      <td>1000_2</td>\n",
       "      <td>1197.26</td>\n",
       "      <td>2018-06-25</td>\n",
       "      <td>1000</td>\n",
       "    </tr>\n",
       "    <tr>\n",
       "      <th>3</th>\n",
       "      <td>1000_3</td>\n",
       "      <td>550.27</td>\n",
       "      <td>2018-08-22</td>\n",
       "      <td>1000</td>\n",
       "    </tr>\n",
       "    <tr>\n",
       "      <th>4</th>\n",
       "      <td>1000_4</td>\n",
       "      <td>302.56</td>\n",
       "      <td>2018-09-24</td>\n",
       "      <td>1000</td>\n",
       "    </tr>\n",
       "  </tbody>\n",
       "</table>\n",
       "</div>"
      ],
      "text/plain": [
       "       id  mb_used session_date  user_id\n",
       "0  1000_0   112.95   2018-11-25     1000\n",
       "1  1000_1  1052.81   2018-09-07     1000\n",
       "2  1000_2  1197.26   2018-06-25     1000\n",
       "3  1000_3   550.27   2018-08-22     1000\n",
       "4  1000_4   302.56   2018-09-24     1000"
      ]
     },
     "execution_count": 9,
     "metadata": {},
     "output_type": "execute_result"
    }
   ],
   "source": [
    "# Создадим датафрейм df_internet и отобразим первые 5 строк\n",
    "# Удалим так же сразу столбец с дублированным индексом\n",
    "df_internet = pd.read_csv('/datasets/internet.csv', index_col=0)\n",
    "df_internet.head()"
   ]
  },
  {
   "cell_type": "code",
   "execution_count": 10,
   "metadata": {
    "scrolled": true
   },
   "outputs": [
    {
     "name": "stdout",
     "output_type": "stream",
     "text": [
      "<class 'pandas.core.frame.DataFrame'>\n",
      "Int64Index: 149396 entries, 0 to 149395\n",
      "Data columns (total 4 columns):\n",
      " #   Column        Non-Null Count   Dtype  \n",
      "---  ------        --------------   -----  \n",
      " 0   id            149396 non-null  object \n",
      " 1   mb_used       149396 non-null  float64\n",
      " 2   session_date  149396 non-null  object \n",
      " 3   user_id       149396 non-null  int64  \n",
      "dtypes: float64(1), int64(1), object(2)\n",
      "memory usage: 5.7+ MB\n"
     ]
    }
   ],
   "source": [
    "# Взглянем на информацию по датафрейму\n",
    "df_internet.info()"
   ]
  },
  {
   "cell_type": "markdown",
   "metadata": {},
   "source": [
    "Таблица internet (информация об интернет-сессиях):\n",
    "\n",
    "  * id — уникальный номер сессии\n",
    "  * mb_used — объём потраченного за сессию интернет-трафика (в мегабайтах)\n",
    "  * session_date — дата интернет-сессии\n",
    "  * user_id — идентификатор пользователя"
   ]
  },
  {
   "cell_type": "markdown",
   "metadata": {},
   "source": [
    "5 столбцов, 149396 строк. 2 столбца с типом `object`, 2 с типом `int64`. Даты так же указаны в формате строки. Столбец `user_id` имеет корректный тип данных."
   ]
  },
  {
   "cell_type": "markdown",
   "metadata": {},
   "source": [
    "### Таблица tariffs"
   ]
  },
  {
   "cell_type": "code",
   "execution_count": 11,
   "metadata": {},
   "outputs": [
    {
     "data": {
      "text/html": [
       "<div>\n",
       "<style scoped>\n",
       "    .dataframe tbody tr th:only-of-type {\n",
       "        vertical-align: middle;\n",
       "    }\n",
       "\n",
       "    .dataframe tbody tr th {\n",
       "        vertical-align: top;\n",
       "    }\n",
       "\n",
       "    .dataframe thead th {\n",
       "        text-align: right;\n",
       "    }\n",
       "</style>\n",
       "<table border=\"1\" class=\"dataframe\">\n",
       "  <thead>\n",
       "    <tr style=\"text-align: right;\">\n",
       "      <th></th>\n",
       "      <th>messages_included</th>\n",
       "      <th>mb_per_month_included</th>\n",
       "      <th>minutes_included</th>\n",
       "      <th>rub_monthly_fee</th>\n",
       "      <th>rub_per_gb</th>\n",
       "      <th>rub_per_message</th>\n",
       "      <th>rub_per_minute</th>\n",
       "      <th>tariff_name</th>\n",
       "    </tr>\n",
       "  </thead>\n",
       "  <tbody>\n",
       "    <tr>\n",
       "      <th>0</th>\n",
       "      <td>50</td>\n",
       "      <td>15360</td>\n",
       "      <td>500</td>\n",
       "      <td>550</td>\n",
       "      <td>200</td>\n",
       "      <td>3</td>\n",
       "      <td>3</td>\n",
       "      <td>smart</td>\n",
       "    </tr>\n",
       "    <tr>\n",
       "      <th>1</th>\n",
       "      <td>1000</td>\n",
       "      <td>30720</td>\n",
       "      <td>3000</td>\n",
       "      <td>1950</td>\n",
       "      <td>150</td>\n",
       "      <td>1</td>\n",
       "      <td>1</td>\n",
       "      <td>ultra</td>\n",
       "    </tr>\n",
       "  </tbody>\n",
       "</table>\n",
       "</div>"
      ],
      "text/plain": [
       "   messages_included  mb_per_month_included  minutes_included  \\\n",
       "0                 50                  15360               500   \n",
       "1               1000                  30720              3000   \n",
       "\n",
       "   rub_monthly_fee  rub_per_gb  rub_per_message  rub_per_minute tariff_name  \n",
       "0              550         200                3               3       smart  \n",
       "1             1950         150                1               1       ultra  "
      ]
     },
     "execution_count": 11,
     "metadata": {},
     "output_type": "execute_result"
    }
   ],
   "source": [
    "# Создадим датафрейм df_tariffs и отобразим первые 5 строк\n",
    "df_tariffs = pd.read_csv('/datasets/tariffs.csv')\n",
    "df_tariffs.head()"
   ]
  },
  {
   "cell_type": "code",
   "execution_count": 12,
   "metadata": {
    "scrolled": true
   },
   "outputs": [
    {
     "name": "stdout",
     "output_type": "stream",
     "text": [
      "<class 'pandas.core.frame.DataFrame'>\n",
      "RangeIndex: 2 entries, 0 to 1\n",
      "Data columns (total 8 columns):\n",
      " #   Column                 Non-Null Count  Dtype \n",
      "---  ------                 --------------  ----- \n",
      " 0   messages_included      2 non-null      int64 \n",
      " 1   mb_per_month_included  2 non-null      int64 \n",
      " 2   minutes_included       2 non-null      int64 \n",
      " 3   rub_monthly_fee        2 non-null      int64 \n",
      " 4   rub_per_gb             2 non-null      int64 \n",
      " 5   rub_per_message        2 non-null      int64 \n",
      " 6   rub_per_minute         2 non-null      int64 \n",
      " 7   tariff_name            2 non-null      object\n",
      "dtypes: int64(7), object(1)\n",
      "memory usage: 256.0+ bytes\n"
     ]
    }
   ],
   "source": [
    "# Взглянем на информацию по датафрейму\n",
    "df_tariffs.info()"
   ]
  },
  {
   "cell_type": "markdown",
   "metadata": {},
   "source": [
    "Таблица tariffs (информация о тарифах):\n",
    "\n",
    "  * tariff_name — название тарифа\n",
    "  * rub_monthly_fee — ежемесячная абонентская плата в рублях\n",
    "  * minutes_included — количество минут разговора в месяц, включённых в абонентскую плату\n",
    "  * messages_included — количество сообщений в месяц, включённых в абонентскую плату\n",
    "  * mb_per_month_included — объём интернет-трафика, включённого в абонентскую плату (в мегабайтах)\n",
    "  * rub_per_minute — стоимость минуты разговора сверх тарифного пакета (например, если в тарифе 100 минут разговора в месяц, то со 101 минуты будет взиматься плата)\n",
    "  * rub_per_message — стоимость отправки сообщения сверх тарифного пакета\n",
    "  * rub_per_gb — стоимость дополнительного гигабайта интернет-трафика сверх тарифного пакета (1 гигабайт = 1024 мегабайта)"
   ]
  },
  {
   "cell_type": "markdown",
   "metadata": {},
   "source": [
    "8 столбцов, 2 строки. 1 столбец с типом `object`, 7 с типом `int64`. Данную таблицу с остальными будем объединять по столбцу `tariff_name`."
   ]
  },
  {
   "cell_type": "markdown",
   "metadata": {},
   "source": [
    "## Предобработка данных"
   ]
  },
  {
   "cell_type": "markdown",
   "metadata": {},
   "source": [
    "### Переименование столбцов "
   ]
  },
  {
   "cell_type": "markdown",
   "metadata": {},
   "source": [
    "Переименуем столбец в датафрейме `df_tariffs` для последующего соединения таблиц."
   ]
  },
  {
   "cell_type": "code",
   "execution_count": 13,
   "metadata": {},
   "outputs": [
    {
     "data": {
      "text/html": [
       "<div>\n",
       "<style scoped>\n",
       "    .dataframe tbody tr th:only-of-type {\n",
       "        vertical-align: middle;\n",
       "    }\n",
       "\n",
       "    .dataframe tbody tr th {\n",
       "        vertical-align: top;\n",
       "    }\n",
       "\n",
       "    .dataframe thead th {\n",
       "        text-align: right;\n",
       "    }\n",
       "</style>\n",
       "<table border=\"1\" class=\"dataframe\">\n",
       "  <thead>\n",
       "    <tr style=\"text-align: right;\">\n",
       "      <th></th>\n",
       "      <th>messages_included</th>\n",
       "      <th>mb_per_month_included</th>\n",
       "      <th>minutes_included</th>\n",
       "      <th>rub_monthly_fee</th>\n",
       "      <th>rub_per_gb</th>\n",
       "      <th>rub_per_message</th>\n",
       "      <th>rub_per_minute</th>\n",
       "      <th>tariff</th>\n",
       "    </tr>\n",
       "  </thead>\n",
       "  <tbody>\n",
       "    <tr>\n",
       "      <th>0</th>\n",
       "      <td>50</td>\n",
       "      <td>15360</td>\n",
       "      <td>500</td>\n",
       "      <td>550</td>\n",
       "      <td>200</td>\n",
       "      <td>3</td>\n",
       "      <td>3</td>\n",
       "      <td>smart</td>\n",
       "    </tr>\n",
       "    <tr>\n",
       "      <th>1</th>\n",
       "      <td>1000</td>\n",
       "      <td>30720</td>\n",
       "      <td>3000</td>\n",
       "      <td>1950</td>\n",
       "      <td>150</td>\n",
       "      <td>1</td>\n",
       "      <td>1</td>\n",
       "      <td>ultra</td>\n",
       "    </tr>\n",
       "  </tbody>\n",
       "</table>\n",
       "</div>"
      ],
      "text/plain": [
       "   messages_included  mb_per_month_included  minutes_included  \\\n",
       "0                 50                  15360               500   \n",
       "1               1000                  30720              3000   \n",
       "\n",
       "   rub_monthly_fee  rub_per_gb  rub_per_message  rub_per_minute tariff  \n",
       "0              550         200                3               3  smart  \n",
       "1             1950         150                1               1  ultra  "
      ]
     },
     "execution_count": 13,
     "metadata": {},
     "output_type": "execute_result"
    }
   ],
   "source": [
    "df_tariffs = df_tariffs.rename(columns={'tariff_name': 'tariff'})\n",
    "df_tariffs"
   ]
  },
  {
   "cell_type": "markdown",
   "metadata": {},
   "source": [
    "### Пропуски в данных "
   ]
  },
  {
   "cell_type": "code",
   "execution_count": 14,
   "metadata": {},
   "outputs": [
    {
     "data": {
      "text/plain": [
       "user_id         0\n",
       "age             0\n",
       "churn_date    462\n",
       "city            0\n",
       "first_name      0\n",
       "last_name       0\n",
       "reg_date        0\n",
       "tariff          0\n",
       "dtype: int64"
      ]
     },
     "metadata": {},
     "output_type": "display_data"
    },
    {
     "data": {
      "text/plain": [
       "id           0\n",
       "call_date    0\n",
       "duration     0\n",
       "user_id      0\n",
       "dtype: int64"
      ]
     },
     "metadata": {},
     "output_type": "display_data"
    },
    {
     "data": {
      "text/plain": [
       "id              0\n",
       "message_date    0\n",
       "user_id         0\n",
       "dtype: int64"
      ]
     },
     "metadata": {},
     "output_type": "display_data"
    },
    {
     "data": {
      "text/plain": [
       "id              0\n",
       "mb_used         0\n",
       "session_date    0\n",
       "user_id         0\n",
       "dtype: int64"
      ]
     },
     "metadata": {},
     "output_type": "display_data"
    },
    {
     "data": {
      "text/plain": [
       "messages_included        0\n",
       "mb_per_month_included    0\n",
       "minutes_included         0\n",
       "rub_monthly_fee          0\n",
       "rub_per_gb               0\n",
       "rub_per_message          0\n",
       "rub_per_minute           0\n",
       "tariff                   0\n",
       "dtype: int64"
      ]
     },
     "execution_count": 14,
     "metadata": {},
     "output_type": "execute_result"
    }
   ],
   "source": [
    "# Отобразим суммарное количество пропусков во всех датафреймах\n",
    "display(df_users.isna().sum())\n",
    "display(df_calls.isna().sum())\n",
    "display(df_messages.isna().sum())\n",
    "display(df_internet.isna().sum())\n",
    "df_tariffs.isna().sum()"
   ]
  },
  {
   "cell_type": "markdown",
   "metadata": {},
   "source": [
    "Пропуски есть только в столбце `churn_date` датафрейма `df_users`. Данные пропуски так и задуманы. Таким образом обработка пропусков не требуется."
   ]
  },
  {
   "cell_type": "markdown",
   "metadata": {},
   "source": [
    "### Приведение типов данных "
   ]
  },
  {
   "cell_type": "code",
   "execution_count": 15,
   "metadata": {},
   "outputs": [
    {
     "data": {
      "text/plain": [
       "user_id        int64\n",
       "age            int64\n",
       "churn_date    object\n",
       "city          object\n",
       "first_name    object\n",
       "last_name     object\n",
       "reg_date      object\n",
       "tariff        object\n",
       "dtype: object"
      ]
     },
     "metadata": {},
     "output_type": "display_data"
    },
    {
     "data": {
      "text/plain": [
       "id            object\n",
       "call_date     object\n",
       "duration     float64\n",
       "user_id        int64\n",
       "dtype: object"
      ]
     },
     "metadata": {},
     "output_type": "display_data"
    },
    {
     "data": {
      "text/plain": [
       "id              object\n",
       "message_date    object\n",
       "user_id          int64\n",
       "dtype: object"
      ]
     },
     "metadata": {},
     "output_type": "display_data"
    },
    {
     "data": {
      "text/plain": [
       "id               object\n",
       "mb_used         float64\n",
       "session_date     object\n",
       "user_id           int64\n",
       "dtype: object"
      ]
     },
     "metadata": {},
     "output_type": "display_data"
    },
    {
     "data": {
      "text/plain": [
       "messages_included         int64\n",
       "mb_per_month_included     int64\n",
       "minutes_included          int64\n",
       "rub_monthly_fee           int64\n",
       "rub_per_gb                int64\n",
       "rub_per_message           int64\n",
       "rub_per_minute            int64\n",
       "tariff                   object\n",
       "dtype: object"
      ]
     },
     "execution_count": 15,
     "metadata": {},
     "output_type": "execute_result"
    }
   ],
   "source": [
    "# Отобразим типы данных во всех датафреймах\n",
    "display(df_users.dtypes)\n",
    "display(df_calls.dtypes)\n",
    "display(df_messages.dtypes)\n",
    "display(df_internet.dtypes)\n",
    "df_tariffs.dtypes"
   ]
  },
  {
   "cell_type": "markdown",
   "metadata": {},
   "source": [
    "Привести к нужному типу нам необходимо только столбцы с датами в датафреймах. Все остальные столбцы в порядке."
   ]
  },
  {
   "cell_type": "code",
   "execution_count": 16,
   "metadata": {},
   "outputs": [
    {
     "data": {
      "text/plain": [
       "0    2018-05-25\n",
       "Name: reg_date, dtype: object"
      ]
     },
     "metadata": {},
     "output_type": "display_data"
    },
    {
     "data": {
      "text/plain": [
       "19    2018-10-05\n",
       "Name: churn_date, dtype: object"
      ]
     },
     "metadata": {},
     "output_type": "display_data"
    },
    {
     "data": {
      "text/plain": [
       "0    2018-07-25\n",
       "Name: call_date, dtype: object"
      ]
     },
     "metadata": {},
     "output_type": "display_data"
    },
    {
     "data": {
      "text/plain": [
       "0    2018-06-27\n",
       "Name: message_date, dtype: object"
      ]
     },
     "metadata": {},
     "output_type": "display_data"
    },
    {
     "data": {
      "text/plain": [
       "0    2018-11-25\n",
       "Name: session_date, dtype: object"
      ]
     },
     "execution_count": 16,
     "metadata": {},
     "output_type": "execute_result"
    }
   ],
   "source": [
    "# Проверим, как записаны даты в датафреймах\n",
    "display(df_users.reg_date.head(1))\n",
    "display(df_users.churn_date[df_users.churn_date.isna() == False].head(1))\n",
    "display(df_calls.call_date.head(1))\n",
    "display(df_messages.message_date.head(1))\n",
    "df_internet.session_date.head(1)"
   ]
  },
  {
   "cell_type": "markdown",
   "metadata": {},
   "source": [
    "Все столбцы с датами записаны однотипно. Это упрощает обработку."
   ]
  },
  {
   "cell_type": "code",
   "execution_count": 17,
   "metadata": {},
   "outputs": [],
   "source": [
    "# Сконвертируем столбцы с датами\n",
    "df_date_format = '%Y-%m-%d'\n",
    "\n",
    "df_users.reg_date = pd.to_datetime(df_users.reg_date, format=df_date_format)\n",
    "df_users.churn_date = pd.to_datetime(df_users.churn_date, format=df_date_format)\n",
    "df_calls.call_date = pd.to_datetime(df_calls.call_date, format=df_date_format)\n",
    "df_messages.message_date = pd.to_datetime(df_messages.message_date, format=df_date_format)\n",
    "df_internet.session_date = pd.to_datetime(df_internet.session_date, format=df_date_format)"
   ]
  },
  {
   "cell_type": "code",
   "execution_count": 18,
   "metadata": {},
   "outputs": [
    {
     "data": {
      "text/plain": [
       "0   2018-05-25\n",
       "Name: reg_date, dtype: datetime64[ns]"
      ]
     },
     "metadata": {},
     "output_type": "display_data"
    },
    {
     "data": {
      "text/plain": [
       "19   2018-10-05\n",
       "Name: churn_date, dtype: datetime64[ns]"
      ]
     },
     "metadata": {},
     "output_type": "display_data"
    },
    {
     "data": {
      "text/plain": [
       "0   2018-07-25\n",
       "Name: call_date, dtype: datetime64[ns]"
      ]
     },
     "metadata": {},
     "output_type": "display_data"
    },
    {
     "data": {
      "text/plain": [
       "0   2018-06-27\n",
       "Name: message_date, dtype: datetime64[ns]"
      ]
     },
     "metadata": {},
     "output_type": "display_data"
    },
    {
     "data": {
      "text/plain": [
       "0   2018-11-25\n",
       "Name: session_date, dtype: datetime64[ns]"
      ]
     },
     "execution_count": 18,
     "metadata": {},
     "output_type": "execute_result"
    }
   ],
   "source": [
    "# Проверим снова, как записаны даты в датафреймах\n",
    "display(df_users.reg_date.head(1))\n",
    "display(df_users.churn_date[df_users.churn_date.isna() == False].head(1))\n",
    "display(df_calls.call_date.head(1))\n",
    "display(df_messages.message_date.head(1))\n",
    "df_internet.session_date.head(1)"
   ]
  },
  {
   "cell_type": "markdown",
   "metadata": {},
   "source": [
    "Всё столбцы с датами корректно сконвертированы."
   ]
  },
  {
   "cell_type": "markdown",
   "metadata": {},
   "source": [
    "### Поиск дубликатов "
   ]
  },
  {
   "cell_type": "markdown",
   "metadata": {},
   "source": [
    "Дубликаты имеет смысл искать только в столбце `user_id` датафрейма `df_users`. Проверим данный столбец."
   ]
  },
  {
   "cell_type": "code",
   "execution_count": 19,
   "metadata": {},
   "outputs": [
    {
     "data": {
      "text/plain": [
       "0"
      ]
     },
     "execution_count": 19,
     "metadata": {},
     "output_type": "execute_result"
    }
   ],
   "source": [
    "df_users.user_id.duplicated().sum()"
   ]
  },
  {
   "cell_type": "markdown",
   "metadata": {},
   "source": [
    "Дубликатов в данном столбце нет."
   ]
  },
  {
   "cell_type": "markdown",
   "metadata": {},
   "source": [
    "### Дополнительные расчёты"
   ]
  },
  {
   "cell_type": "markdown",
   "metadata": {},
   "source": [
    "Нам необходимо посчитать для каждого пользователя: \n",
    "1. Количество сделанных звонков и израсходованных минут разговора по месяцам;\n",
    "2. Количество отправленных сообщений по месяцам;\n",
    "3. Объем израсходованного интернет-трафика по месяцам;\n",
    "4. Помесячную выручку с каждого пользователя."
   ]
  },
  {
   "cell_type": "markdown",
   "metadata": {},
   "source": [
    "#### Количество звонков и минут по месяцам"
   ]
  },
  {
   "cell_type": "markdown",
   "metadata": {},
   "source": [
    "Для расчёта звонков и минут по месяцам сформируем новую колонку `call_month` в датафрейме `df_calls`:"
   ]
  },
  {
   "cell_type": "code",
   "execution_count": 20,
   "metadata": {},
   "outputs": [
    {
     "data": {
      "text/html": [
       "<div>\n",
       "<style scoped>\n",
       "    .dataframe tbody tr th:only-of-type {\n",
       "        vertical-align: middle;\n",
       "    }\n",
       "\n",
       "    .dataframe tbody tr th {\n",
       "        vertical-align: top;\n",
       "    }\n",
       "\n",
       "    .dataframe thead th {\n",
       "        text-align: right;\n",
       "    }\n",
       "</style>\n",
       "<table border=\"1\" class=\"dataframe\">\n",
       "  <thead>\n",
       "    <tr style=\"text-align: right;\">\n",
       "      <th></th>\n",
       "      <th>id</th>\n",
       "      <th>call_date</th>\n",
       "      <th>duration</th>\n",
       "      <th>user_id</th>\n",
       "      <th>call_month</th>\n",
       "    </tr>\n",
       "  </thead>\n",
       "  <tbody>\n",
       "    <tr>\n",
       "      <th>0</th>\n",
       "      <td>1000_0</td>\n",
       "      <td>2018-07-25</td>\n",
       "      <td>0.00</td>\n",
       "      <td>1000</td>\n",
       "      <td>7</td>\n",
       "    </tr>\n",
       "    <tr>\n",
       "      <th>1</th>\n",
       "      <td>1000_1</td>\n",
       "      <td>2018-08-17</td>\n",
       "      <td>0.00</td>\n",
       "      <td>1000</td>\n",
       "      <td>8</td>\n",
       "    </tr>\n",
       "    <tr>\n",
       "      <th>2</th>\n",
       "      <td>1000_2</td>\n",
       "      <td>2018-06-11</td>\n",
       "      <td>2.85</td>\n",
       "      <td>1000</td>\n",
       "      <td>6</td>\n",
       "    </tr>\n",
       "    <tr>\n",
       "      <th>3</th>\n",
       "      <td>1000_3</td>\n",
       "      <td>2018-09-21</td>\n",
       "      <td>13.80</td>\n",
       "      <td>1000</td>\n",
       "      <td>9</td>\n",
       "    </tr>\n",
       "    <tr>\n",
       "      <th>4</th>\n",
       "      <td>1000_4</td>\n",
       "      <td>2018-12-15</td>\n",
       "      <td>5.18</td>\n",
       "      <td>1000</td>\n",
       "      <td>12</td>\n",
       "    </tr>\n",
       "    <tr>\n",
       "      <th>...</th>\n",
       "      <td>...</td>\n",
       "      <td>...</td>\n",
       "      <td>...</td>\n",
       "      <td>...</td>\n",
       "      <td>...</td>\n",
       "    </tr>\n",
       "    <tr>\n",
       "      <th>202602</th>\n",
       "      <td>1499_215</td>\n",
       "      <td>2018-12-26</td>\n",
       "      <td>0.76</td>\n",
       "      <td>1499</td>\n",
       "      <td>12</td>\n",
       "    </tr>\n",
       "    <tr>\n",
       "      <th>202603</th>\n",
       "      <td>1499_216</td>\n",
       "      <td>2018-10-18</td>\n",
       "      <td>18.83</td>\n",
       "      <td>1499</td>\n",
       "      <td>10</td>\n",
       "    </tr>\n",
       "    <tr>\n",
       "      <th>202604</th>\n",
       "      <td>1499_217</td>\n",
       "      <td>2018-11-10</td>\n",
       "      <td>10.81</td>\n",
       "      <td>1499</td>\n",
       "      <td>11</td>\n",
       "    </tr>\n",
       "    <tr>\n",
       "      <th>202605</th>\n",
       "      <td>1499_218</td>\n",
       "      <td>2018-10-06</td>\n",
       "      <td>4.27</td>\n",
       "      <td>1499</td>\n",
       "      <td>10</td>\n",
       "    </tr>\n",
       "    <tr>\n",
       "      <th>202606</th>\n",
       "      <td>1499_219</td>\n",
       "      <td>2018-12-14</td>\n",
       "      <td>19.62</td>\n",
       "      <td>1499</td>\n",
       "      <td>12</td>\n",
       "    </tr>\n",
       "  </tbody>\n",
       "</table>\n",
       "<p>202607 rows × 5 columns</p>\n",
       "</div>"
      ],
      "text/plain": [
       "              id  call_date  duration  user_id  call_month\n",
       "0         1000_0 2018-07-25      0.00     1000           7\n",
       "1         1000_1 2018-08-17      0.00     1000           8\n",
       "2         1000_2 2018-06-11      2.85     1000           6\n",
       "3         1000_3 2018-09-21     13.80     1000           9\n",
       "4         1000_4 2018-12-15      5.18     1000          12\n",
       "...          ...        ...       ...      ...         ...\n",
       "202602  1499_215 2018-12-26      0.76     1499          12\n",
       "202603  1499_216 2018-10-18     18.83     1499          10\n",
       "202604  1499_217 2018-11-10     10.81     1499          11\n",
       "202605  1499_218 2018-10-06      4.27     1499          10\n",
       "202606  1499_219 2018-12-14     19.62     1499          12\n",
       "\n",
       "[202607 rows x 5 columns]"
      ]
     },
     "execution_count": 20,
     "metadata": {},
     "output_type": "execute_result"
    }
   ],
   "source": [
    "df_calls['call_month'] = pd.DatetimeIndex(df_calls.call_date).month\n",
    "df_calls"
   ]
  },
  {
   "cell_type": "code",
   "execution_count": 21,
   "metadata": {},
   "outputs": [
    {
     "data": {
      "text/html": [
       "<div>\n",
       "<style scoped>\n",
       "    .dataframe tbody tr th:only-of-type {\n",
       "        vertical-align: middle;\n",
       "    }\n",
       "\n",
       "    .dataframe tbody tr th {\n",
       "        vertical-align: top;\n",
       "    }\n",
       "\n",
       "    .dataframe thead th {\n",
       "        text-align: right;\n",
       "    }\n",
       "</style>\n",
       "<table border=\"1\" class=\"dataframe\">\n",
       "  <thead>\n",
       "    <tr style=\"text-align: right;\">\n",
       "      <th></th>\n",
       "      <th>id</th>\n",
       "      <th>call_date</th>\n",
       "      <th>duration</th>\n",
       "      <th>user_id</th>\n",
       "      <th>call_month</th>\n",
       "    </tr>\n",
       "  </thead>\n",
       "  <tbody>\n",
       "    <tr>\n",
       "      <th>0</th>\n",
       "      <td>1000_0</td>\n",
       "      <td>2018-07-25</td>\n",
       "      <td>0</td>\n",
       "      <td>1000</td>\n",
       "      <td>7</td>\n",
       "    </tr>\n",
       "    <tr>\n",
       "      <th>1</th>\n",
       "      <td>1000_1</td>\n",
       "      <td>2018-08-17</td>\n",
       "      <td>0</td>\n",
       "      <td>1000</td>\n",
       "      <td>8</td>\n",
       "    </tr>\n",
       "    <tr>\n",
       "      <th>2</th>\n",
       "      <td>1000_2</td>\n",
       "      <td>2018-06-11</td>\n",
       "      <td>3</td>\n",
       "      <td>1000</td>\n",
       "      <td>6</td>\n",
       "    </tr>\n",
       "    <tr>\n",
       "      <th>3</th>\n",
       "      <td>1000_3</td>\n",
       "      <td>2018-09-21</td>\n",
       "      <td>14</td>\n",
       "      <td>1000</td>\n",
       "      <td>9</td>\n",
       "    </tr>\n",
       "    <tr>\n",
       "      <th>4</th>\n",
       "      <td>1000_4</td>\n",
       "      <td>2018-12-15</td>\n",
       "      <td>6</td>\n",
       "      <td>1000</td>\n",
       "      <td>12</td>\n",
       "    </tr>\n",
       "    <tr>\n",
       "      <th>...</th>\n",
       "      <td>...</td>\n",
       "      <td>...</td>\n",
       "      <td>...</td>\n",
       "      <td>...</td>\n",
       "      <td>...</td>\n",
       "    </tr>\n",
       "    <tr>\n",
       "      <th>202602</th>\n",
       "      <td>1499_215</td>\n",
       "      <td>2018-12-26</td>\n",
       "      <td>1</td>\n",
       "      <td>1499</td>\n",
       "      <td>12</td>\n",
       "    </tr>\n",
       "    <tr>\n",
       "      <th>202603</th>\n",
       "      <td>1499_216</td>\n",
       "      <td>2018-10-18</td>\n",
       "      <td>19</td>\n",
       "      <td>1499</td>\n",
       "      <td>10</td>\n",
       "    </tr>\n",
       "    <tr>\n",
       "      <th>202604</th>\n",
       "      <td>1499_217</td>\n",
       "      <td>2018-11-10</td>\n",
       "      <td>11</td>\n",
       "      <td>1499</td>\n",
       "      <td>11</td>\n",
       "    </tr>\n",
       "    <tr>\n",
       "      <th>202605</th>\n",
       "      <td>1499_218</td>\n",
       "      <td>2018-10-06</td>\n",
       "      <td>5</td>\n",
       "      <td>1499</td>\n",
       "      <td>10</td>\n",
       "    </tr>\n",
       "    <tr>\n",
       "      <th>202606</th>\n",
       "      <td>1499_219</td>\n",
       "      <td>2018-12-14</td>\n",
       "      <td>20</td>\n",
       "      <td>1499</td>\n",
       "      <td>12</td>\n",
       "    </tr>\n",
       "  </tbody>\n",
       "</table>\n",
       "<p>202607 rows × 5 columns</p>\n",
       "</div>"
      ],
      "text/plain": [
       "              id  call_date  duration  user_id  call_month\n",
       "0         1000_0 2018-07-25         0     1000           7\n",
       "1         1000_1 2018-08-17         0     1000           8\n",
       "2         1000_2 2018-06-11         3     1000           6\n",
       "3         1000_3 2018-09-21        14     1000           9\n",
       "4         1000_4 2018-12-15         6     1000          12\n",
       "...          ...        ...       ...      ...         ...\n",
       "202602  1499_215 2018-12-26         1     1499          12\n",
       "202603  1499_216 2018-10-18        19     1499          10\n",
       "202604  1499_217 2018-11-10        11     1499          11\n",
       "202605  1499_218 2018-10-06         5     1499          10\n",
       "202606  1499_219 2018-12-14        20     1499          12\n",
       "\n",
       "[202607 rows x 5 columns]"
      ]
     },
     "execution_count": 21,
     "metadata": {},
     "output_type": "execute_result"
    }
   ],
   "source": [
    "# Округлим в большую сторону длительность звонков по правилам оператора\n",
    "df_calls['duration'] = df_calls['duration'].apply(np.ceil).astype('int64')\n",
    "df_calls"
   ]
  },
  {
   "cell_type": "code",
   "execution_count": 22,
   "metadata": {},
   "outputs": [
    {
     "data": {
      "text/html": [
       "<div>\n",
       "<style scoped>\n",
       "    .dataframe tbody tr th:only-of-type {\n",
       "        vertical-align: middle;\n",
       "    }\n",
       "\n",
       "    .dataframe tbody tr th {\n",
       "        vertical-align: top;\n",
       "    }\n",
       "\n",
       "    .dataframe thead th {\n",
       "        text-align: right;\n",
       "    }\n",
       "</style>\n",
       "<table border=\"1\" class=\"dataframe\">\n",
       "  <thead>\n",
       "    <tr style=\"text-align: right;\">\n",
       "      <th></th>\n",
       "      <th>user_id</th>\n",
       "      <th>calls_count_1_month</th>\n",
       "      <th>calls_count_2_month</th>\n",
       "      <th>calls_count_3_month</th>\n",
       "      <th>calls_count_4_month</th>\n",
       "      <th>calls_count_5_month</th>\n",
       "      <th>calls_count_6_month</th>\n",
       "      <th>calls_count_7_month</th>\n",
       "      <th>calls_count_8_month</th>\n",
       "      <th>calls_count_9_month</th>\n",
       "      <th>calls_count_10_month</th>\n",
       "      <th>calls_count_11_month</th>\n",
       "      <th>calls_count_12_month</th>\n",
       "      <th>calls_sum_1_month</th>\n",
       "      <th>calls_sum_2_month</th>\n",
       "      <th>calls_sum_3_month</th>\n",
       "      <th>calls_sum_4_month</th>\n",
       "      <th>calls_sum_5_month</th>\n",
       "      <th>calls_sum_6_month</th>\n",
       "      <th>calls_sum_7_month</th>\n",
       "      <th>calls_sum_8_month</th>\n",
       "      <th>calls_sum_9_month</th>\n",
       "      <th>calls_sum_10_month</th>\n",
       "      <th>calls_sum_11_month</th>\n",
       "      <th>calls_sum_12_month</th>\n",
       "    </tr>\n",
       "  </thead>\n",
       "  <tbody>\n",
       "    <tr>\n",
       "      <th>0</th>\n",
       "      <td>1000</td>\n",
       "      <td>NaN</td>\n",
       "      <td>NaN</td>\n",
       "      <td>NaN</td>\n",
       "      <td>NaN</td>\n",
       "      <td>22.0</td>\n",
       "      <td>43.0</td>\n",
       "      <td>47.0</td>\n",
       "      <td>52.0</td>\n",
       "      <td>58.0</td>\n",
       "      <td>57.0</td>\n",
       "      <td>43.0</td>\n",
       "      <td>46.0</td>\n",
       "      <td>NaN</td>\n",
       "      <td>NaN</td>\n",
       "      <td>NaN</td>\n",
       "      <td>NaN</td>\n",
       "      <td>159.0</td>\n",
       "      <td>172.0</td>\n",
       "      <td>340.0</td>\n",
       "      <td>408.0</td>\n",
       "      <td>466.0</td>\n",
       "      <td>350.0</td>\n",
       "      <td>338.0</td>\n",
       "      <td>333.0</td>\n",
       "    </tr>\n",
       "    <tr>\n",
       "      <th>1</th>\n",
       "      <td>1001</td>\n",
       "      <td>NaN</td>\n",
       "      <td>NaN</td>\n",
       "      <td>NaN</td>\n",
       "      <td>NaN</td>\n",
       "      <td>NaN</td>\n",
       "      <td>NaN</td>\n",
       "      <td>NaN</td>\n",
       "      <td>NaN</td>\n",
       "      <td>NaN</td>\n",
       "      <td>NaN</td>\n",
       "      <td>59.0</td>\n",
       "      <td>63.0</td>\n",
       "      <td>NaN</td>\n",
       "      <td>NaN</td>\n",
       "      <td>NaN</td>\n",
       "      <td>NaN</td>\n",
       "      <td>NaN</td>\n",
       "      <td>NaN</td>\n",
       "      <td>NaN</td>\n",
       "      <td>NaN</td>\n",
       "      <td>NaN</td>\n",
       "      <td>NaN</td>\n",
       "      <td>430.0</td>\n",
       "      <td>414.0</td>\n",
       "    </tr>\n",
       "    <tr>\n",
       "      <th>2</th>\n",
       "      <td>1002</td>\n",
       "      <td>NaN</td>\n",
       "      <td>NaN</td>\n",
       "      <td>NaN</td>\n",
       "      <td>NaN</td>\n",
       "      <td>NaN</td>\n",
       "      <td>15.0</td>\n",
       "      <td>26.0</td>\n",
       "      <td>42.0</td>\n",
       "      <td>36.0</td>\n",
       "      <td>33.0</td>\n",
       "      <td>32.0</td>\n",
       "      <td>33.0</td>\n",
       "      <td>NaN</td>\n",
       "      <td>NaN</td>\n",
       "      <td>NaN</td>\n",
       "      <td>NaN</td>\n",
       "      <td>NaN</td>\n",
       "      <td>117.0</td>\n",
       "      <td>214.0</td>\n",
       "      <td>289.0</td>\n",
       "      <td>206.0</td>\n",
       "      <td>212.0</td>\n",
       "      <td>243.0</td>\n",
       "      <td>236.0</td>\n",
       "    </tr>\n",
       "    <tr>\n",
       "      <th>3</th>\n",
       "      <td>1003</td>\n",
       "      <td>NaN</td>\n",
       "      <td>NaN</td>\n",
       "      <td>NaN</td>\n",
       "      <td>NaN</td>\n",
       "      <td>NaN</td>\n",
       "      <td>NaN</td>\n",
       "      <td>NaN</td>\n",
       "      <td>55.0</td>\n",
       "      <td>134.0</td>\n",
       "      <td>108.0</td>\n",
       "      <td>115.0</td>\n",
       "      <td>108.0</td>\n",
       "      <td>NaN</td>\n",
       "      <td>NaN</td>\n",
       "      <td>NaN</td>\n",
       "      <td>NaN</td>\n",
       "      <td>NaN</td>\n",
       "      <td>NaN</td>\n",
       "      <td>NaN</td>\n",
       "      <td>380.0</td>\n",
       "      <td>961.0</td>\n",
       "      <td>855.0</td>\n",
       "      <td>824.0</td>\n",
       "      <td>802.0</td>\n",
       "    </tr>\n",
       "    <tr>\n",
       "      <th>4</th>\n",
       "      <td>1004</td>\n",
       "      <td>NaN</td>\n",
       "      <td>NaN</td>\n",
       "      <td>NaN</td>\n",
       "      <td>NaN</td>\n",
       "      <td>9.0</td>\n",
       "      <td>31.0</td>\n",
       "      <td>22.0</td>\n",
       "      <td>19.0</td>\n",
       "      <td>26.0</td>\n",
       "      <td>29.0</td>\n",
       "      <td>19.0</td>\n",
       "      <td>21.0</td>\n",
       "      <td>NaN</td>\n",
       "      <td>NaN</td>\n",
       "      <td>NaN</td>\n",
       "      <td>NaN</td>\n",
       "      <td>35.0</td>\n",
       "      <td>171.0</td>\n",
       "      <td>135.0</td>\n",
       "      <td>137.0</td>\n",
       "      <td>117.0</td>\n",
       "      <td>145.0</td>\n",
       "      <td>117.0</td>\n",
       "      <td>130.0</td>\n",
       "    </tr>\n",
       "    <tr>\n",
       "      <th>...</th>\n",
       "      <td>...</td>\n",
       "      <td>...</td>\n",
       "      <td>...</td>\n",
       "      <td>...</td>\n",
       "      <td>...</td>\n",
       "      <td>...</td>\n",
       "      <td>...</td>\n",
       "      <td>...</td>\n",
       "      <td>...</td>\n",
       "      <td>...</td>\n",
       "      <td>...</td>\n",
       "      <td>...</td>\n",
       "      <td>...</td>\n",
       "      <td>...</td>\n",
       "      <td>...</td>\n",
       "      <td>...</td>\n",
       "      <td>...</td>\n",
       "      <td>...</td>\n",
       "      <td>...</td>\n",
       "      <td>...</td>\n",
       "      <td>...</td>\n",
       "      <td>...</td>\n",
       "      <td>...</td>\n",
       "      <td>...</td>\n",
       "      <td>...</td>\n",
       "    </tr>\n",
       "    <tr>\n",
       "      <th>487</th>\n",
       "      <td>1495</td>\n",
       "      <td>NaN</td>\n",
       "      <td>NaN</td>\n",
       "      <td>NaN</td>\n",
       "      <td>NaN</td>\n",
       "      <td>NaN</td>\n",
       "      <td>NaN</td>\n",
       "      <td>NaN</td>\n",
       "      <td>17.0</td>\n",
       "      <td>112.0</td>\n",
       "      <td>152.0</td>\n",
       "      <td>129.0</td>\n",
       "      <td>155.0</td>\n",
       "      <td>NaN</td>\n",
       "      <td>NaN</td>\n",
       "      <td>NaN</td>\n",
       "      <td>NaN</td>\n",
       "      <td>NaN</td>\n",
       "      <td>NaN</td>\n",
       "      <td>NaN</td>\n",
       "      <td>92.0</td>\n",
       "      <td>813.0</td>\n",
       "      <td>1030.0</td>\n",
       "      <td>954.0</td>\n",
       "      <td>1031.0</td>\n",
       "    </tr>\n",
       "    <tr>\n",
       "      <th>488</th>\n",
       "      <td>1496</td>\n",
       "      <td>7.0</td>\n",
       "      <td>77.0</td>\n",
       "      <td>79.0</td>\n",
       "      <td>67.0</td>\n",
       "      <td>63.0</td>\n",
       "      <td>74.0</td>\n",
       "      <td>73.0</td>\n",
       "      <td>88.0</td>\n",
       "      <td>68.0</td>\n",
       "      <td>72.0</td>\n",
       "      <td>80.0</td>\n",
       "      <td>80.0</td>\n",
       "      <td>48.0</td>\n",
       "      <td>594.0</td>\n",
       "      <td>557.0</td>\n",
       "      <td>521.0</td>\n",
       "      <td>484.0</td>\n",
       "      <td>555.0</td>\n",
       "      <td>582.0</td>\n",
       "      <td>527.0</td>\n",
       "      <td>486.0</td>\n",
       "      <td>450.0</td>\n",
       "      <td>662.0</td>\n",
       "      <td>518.0</td>\n",
       "    </tr>\n",
       "    <tr>\n",
       "      <th>489</th>\n",
       "      <td>1497</td>\n",
       "      <td>NaN</td>\n",
       "      <td>NaN</td>\n",
       "      <td>NaN</td>\n",
       "      <td>NaN</td>\n",
       "      <td>NaN</td>\n",
       "      <td>NaN</td>\n",
       "      <td>NaN</td>\n",
       "      <td>NaN</td>\n",
       "      <td>NaN</td>\n",
       "      <td>66.0</td>\n",
       "      <td>64.0</td>\n",
       "      <td>71.0</td>\n",
       "      <td>NaN</td>\n",
       "      <td>NaN</td>\n",
       "      <td>NaN</td>\n",
       "      <td>NaN</td>\n",
       "      <td>NaN</td>\n",
       "      <td>NaN</td>\n",
       "      <td>NaN</td>\n",
       "      <td>NaN</td>\n",
       "      <td>NaN</td>\n",
       "      <td>490.0</td>\n",
       "      <td>371.0</td>\n",
       "      <td>545.0</td>\n",
       "    </tr>\n",
       "    <tr>\n",
       "      <th>490</th>\n",
       "      <td>1498</td>\n",
       "      <td>NaN</td>\n",
       "      <td>NaN</td>\n",
       "      <td>NaN</td>\n",
       "      <td>NaN</td>\n",
       "      <td>NaN</td>\n",
       "      <td>NaN</td>\n",
       "      <td>23.0</td>\n",
       "      <td>57.0</td>\n",
       "      <td>59.0</td>\n",
       "      <td>41.0</td>\n",
       "      <td>NaN</td>\n",
       "      <td>NaN</td>\n",
       "      <td>NaN</td>\n",
       "      <td>NaN</td>\n",
       "      <td>NaN</td>\n",
       "      <td>NaN</td>\n",
       "      <td>NaN</td>\n",
       "      <td>NaN</td>\n",
       "      <td>175.0</td>\n",
       "      <td>400.0</td>\n",
       "      <td>471.0</td>\n",
       "      <td>247.0</td>\n",
       "      <td>NaN</td>\n",
       "      <td>NaN</td>\n",
       "    </tr>\n",
       "    <tr>\n",
       "      <th>491</th>\n",
       "      <td>1499</td>\n",
       "      <td>NaN</td>\n",
       "      <td>NaN</td>\n",
       "      <td>NaN</td>\n",
       "      <td>NaN</td>\n",
       "      <td>NaN</td>\n",
       "      <td>NaN</td>\n",
       "      <td>NaN</td>\n",
       "      <td>NaN</td>\n",
       "      <td>9.0</td>\n",
       "      <td>68.0</td>\n",
       "      <td>74.0</td>\n",
       "      <td>69.0</td>\n",
       "      <td>NaN</td>\n",
       "      <td>NaN</td>\n",
       "      <td>NaN</td>\n",
       "      <td>NaN</td>\n",
       "      <td>NaN</td>\n",
       "      <td>NaN</td>\n",
       "      <td>NaN</td>\n",
       "      <td>NaN</td>\n",
       "      <td>70.0</td>\n",
       "      <td>449.0</td>\n",
       "      <td>612.0</td>\n",
       "      <td>492.0</td>\n",
       "    </tr>\n",
       "  </tbody>\n",
       "</table>\n",
       "<p>492 rows × 25 columns</p>\n",
       "</div>"
      ],
      "text/plain": [
       "     user_id  calls_count_1_month  calls_count_2_month  calls_count_3_month  \\\n",
       "0       1000                  NaN                  NaN                  NaN   \n",
       "1       1001                  NaN                  NaN                  NaN   \n",
       "2       1002                  NaN                  NaN                  NaN   \n",
       "3       1003                  NaN                  NaN                  NaN   \n",
       "4       1004                  NaN                  NaN                  NaN   \n",
       "..       ...                  ...                  ...                  ...   \n",
       "487     1495                  NaN                  NaN                  NaN   \n",
       "488     1496                  7.0                 77.0                 79.0   \n",
       "489     1497                  NaN                  NaN                  NaN   \n",
       "490     1498                  NaN                  NaN                  NaN   \n",
       "491     1499                  NaN                  NaN                  NaN   \n",
       "\n",
       "     calls_count_4_month  calls_count_5_month  calls_count_6_month  \\\n",
       "0                    NaN                 22.0                 43.0   \n",
       "1                    NaN                  NaN                  NaN   \n",
       "2                    NaN                  NaN                 15.0   \n",
       "3                    NaN                  NaN                  NaN   \n",
       "4                    NaN                  9.0                 31.0   \n",
       "..                   ...                  ...                  ...   \n",
       "487                  NaN                  NaN                  NaN   \n",
       "488                 67.0                 63.0                 74.0   \n",
       "489                  NaN                  NaN                  NaN   \n",
       "490                  NaN                  NaN                  NaN   \n",
       "491                  NaN                  NaN                  NaN   \n",
       "\n",
       "     calls_count_7_month  calls_count_8_month  calls_count_9_month  \\\n",
       "0                   47.0                 52.0                 58.0   \n",
       "1                    NaN                  NaN                  NaN   \n",
       "2                   26.0                 42.0                 36.0   \n",
       "3                    NaN                 55.0                134.0   \n",
       "4                   22.0                 19.0                 26.0   \n",
       "..                   ...                  ...                  ...   \n",
       "487                  NaN                 17.0                112.0   \n",
       "488                 73.0                 88.0                 68.0   \n",
       "489                  NaN                  NaN                  NaN   \n",
       "490                 23.0                 57.0                 59.0   \n",
       "491                  NaN                  NaN                  9.0   \n",
       "\n",
       "     calls_count_10_month  calls_count_11_month  calls_count_12_month  \\\n",
       "0                    57.0                  43.0                  46.0   \n",
       "1                     NaN                  59.0                  63.0   \n",
       "2                    33.0                  32.0                  33.0   \n",
       "3                   108.0                 115.0                 108.0   \n",
       "4                    29.0                  19.0                  21.0   \n",
       "..                    ...                   ...                   ...   \n",
       "487                 152.0                 129.0                 155.0   \n",
       "488                  72.0                  80.0                  80.0   \n",
       "489                  66.0                  64.0                  71.0   \n",
       "490                  41.0                   NaN                   NaN   \n",
       "491                  68.0                  74.0                  69.0   \n",
       "\n",
       "     calls_sum_1_month  calls_sum_2_month  calls_sum_3_month  \\\n",
       "0                  NaN                NaN                NaN   \n",
       "1                  NaN                NaN                NaN   \n",
       "2                  NaN                NaN                NaN   \n",
       "3                  NaN                NaN                NaN   \n",
       "4                  NaN                NaN                NaN   \n",
       "..                 ...                ...                ...   \n",
       "487                NaN                NaN                NaN   \n",
       "488               48.0              594.0              557.0   \n",
       "489                NaN                NaN                NaN   \n",
       "490                NaN                NaN                NaN   \n",
       "491                NaN                NaN                NaN   \n",
       "\n",
       "     calls_sum_4_month  calls_sum_5_month  calls_sum_6_month  \\\n",
       "0                  NaN              159.0              172.0   \n",
       "1                  NaN                NaN                NaN   \n",
       "2                  NaN                NaN              117.0   \n",
       "3                  NaN                NaN                NaN   \n",
       "4                  NaN               35.0              171.0   \n",
       "..                 ...                ...                ...   \n",
       "487                NaN                NaN                NaN   \n",
       "488              521.0              484.0              555.0   \n",
       "489                NaN                NaN                NaN   \n",
       "490                NaN                NaN                NaN   \n",
       "491                NaN                NaN                NaN   \n",
       "\n",
       "     calls_sum_7_month  calls_sum_8_month  calls_sum_9_month  \\\n",
       "0                340.0              408.0              466.0   \n",
       "1                  NaN                NaN                NaN   \n",
       "2                214.0              289.0              206.0   \n",
       "3                  NaN              380.0              961.0   \n",
       "4                135.0              137.0              117.0   \n",
       "..                 ...                ...                ...   \n",
       "487                NaN               92.0              813.0   \n",
       "488              582.0              527.0              486.0   \n",
       "489                NaN                NaN                NaN   \n",
       "490              175.0              400.0              471.0   \n",
       "491                NaN                NaN               70.0   \n",
       "\n",
       "     calls_sum_10_month  calls_sum_11_month  calls_sum_12_month  \n",
       "0                 350.0               338.0               333.0  \n",
       "1                   NaN               430.0               414.0  \n",
       "2                 212.0               243.0               236.0  \n",
       "3                 855.0               824.0               802.0  \n",
       "4                 145.0               117.0               130.0  \n",
       "..                  ...                 ...                 ...  \n",
       "487              1030.0               954.0              1031.0  \n",
       "488               450.0               662.0               518.0  \n",
       "489               490.0               371.0               545.0  \n",
       "490               247.0                 NaN                 NaN  \n",
       "491               449.0               612.0               492.0  \n",
       "\n",
       "[492 rows x 25 columns]"
      ]
     },
     "execution_count": 22,
     "metadata": {},
     "output_type": "execute_result"
    }
   ],
   "source": [
    "# Создадим сводную таблицу\n",
    "df_calls_pivot = (df_calls\n",
    "                  .pivot_table(\n",
    "                      index='user_id', \n",
    "                      columns='call_month', \n",
    "                      values='duration', \n",
    "                      aggfunc=('sum', 'count'))\n",
    "                  .reset_index()\n",
    "                 )\n",
    "df_calls_pivot.columns = df_calls_pivot.columns.to_flat_index()\n",
    "df_calls_pivot = df_calls_pivot.rename(columns={('user_id', ''): 'user_id'})\n",
    "\n",
    "for i in range(1, 13):\n",
    "    df_calls_pivot = df_calls_pivot.rename(columns={('count', i): f'calls_count_{i}_month'})\n",
    "    df_calls_pivot = df_calls_pivot.rename(columns={('sum', i): f'calls_sum_{i}_month'})\n",
    "\n",
    "df_calls_pivot"
   ]
  },
  {
   "cell_type": "markdown",
   "metadata": {},
   "source": [
    "Значения `NaN` в нашей сводной таблице присвоены в том случае, если звонков в указанном периоде не было. Сводная таблица содержит всего лишь 492 строки, хотя нам были предоставлены данные о 500 пользователях. Проверим количество пользователей в датафрейме `df_calls`."
   ]
  },
  {
   "cell_type": "code",
   "execution_count": 23,
   "metadata": {},
   "outputs": [
    {
     "data": {
      "text/plain": [
       "1377    1760\n",
       "1168    1692\n",
       "1375    1560\n",
       "1453    1440\n",
       "1196    1240\n",
       "        ... \n",
       "1397      33\n",
       "1442      28\n",
       "1373      24\n",
       "1016      20\n",
       "1257      14\n",
       "Name: user_id, Length: 492, dtype: int64"
      ]
     },
     "execution_count": 23,
     "metadata": {},
     "output_type": "execute_result"
    }
   ],
   "source": [
    "df_calls.user_id.value_counts()"
   ]
  },
  {
   "cell_type": "markdown",
   "metadata": {},
   "source": [
    "Действительно: данные по звонкам присутствуют только о 492 пользователях. Предположим, что по каким-то причинам остальные 8 пользователей не получали и не совершали звонки. Такое возможно, если, например, сим-карта использовалась в каком-то специфичном оборудовании. На этом мы закончили с расчётами количества звонков и минут по месяцам."
   ]
  },
  {
   "cell_type": "markdown",
   "metadata": {},
   "source": [
    "#### Количество отправленных сообщений по месяцам"
   ]
  },
  {
   "cell_type": "markdown",
   "metadata": {},
   "source": [
    "Для расчёта сообщений по месяцам сформируем новую колонку `message_month` в датафрейме `df_messages`:"
   ]
  },
  {
   "cell_type": "code",
   "execution_count": 24,
   "metadata": {},
   "outputs": [
    {
     "data": {
      "text/html": [
       "<div>\n",
       "<style scoped>\n",
       "    .dataframe tbody tr th:only-of-type {\n",
       "        vertical-align: middle;\n",
       "    }\n",
       "\n",
       "    .dataframe tbody tr th {\n",
       "        vertical-align: top;\n",
       "    }\n",
       "\n",
       "    .dataframe thead th {\n",
       "        text-align: right;\n",
       "    }\n",
       "</style>\n",
       "<table border=\"1\" class=\"dataframe\">\n",
       "  <thead>\n",
       "    <tr style=\"text-align: right;\">\n",
       "      <th></th>\n",
       "      <th>id</th>\n",
       "      <th>message_date</th>\n",
       "      <th>user_id</th>\n",
       "      <th>message_month</th>\n",
       "    </tr>\n",
       "  </thead>\n",
       "  <tbody>\n",
       "    <tr>\n",
       "      <th>0</th>\n",
       "      <td>1000_0</td>\n",
       "      <td>2018-06-27</td>\n",
       "      <td>1000</td>\n",
       "      <td>6</td>\n",
       "    </tr>\n",
       "    <tr>\n",
       "      <th>1</th>\n",
       "      <td>1000_1</td>\n",
       "      <td>2018-10-08</td>\n",
       "      <td>1000</td>\n",
       "      <td>10</td>\n",
       "    </tr>\n",
       "    <tr>\n",
       "      <th>2</th>\n",
       "      <td>1000_2</td>\n",
       "      <td>2018-08-04</td>\n",
       "      <td>1000</td>\n",
       "      <td>8</td>\n",
       "    </tr>\n",
       "    <tr>\n",
       "      <th>3</th>\n",
       "      <td>1000_3</td>\n",
       "      <td>2018-06-16</td>\n",
       "      <td>1000</td>\n",
       "      <td>6</td>\n",
       "    </tr>\n",
       "    <tr>\n",
       "      <th>4</th>\n",
       "      <td>1000_4</td>\n",
       "      <td>2018-12-05</td>\n",
       "      <td>1000</td>\n",
       "      <td>12</td>\n",
       "    </tr>\n",
       "    <tr>\n",
       "      <th>...</th>\n",
       "      <td>...</td>\n",
       "      <td>...</td>\n",
       "      <td>...</td>\n",
       "      <td>...</td>\n",
       "    </tr>\n",
       "    <tr>\n",
       "      <th>123031</th>\n",
       "      <td>1499_179</td>\n",
       "      <td>2018-12-12</td>\n",
       "      <td>1499</td>\n",
       "      <td>12</td>\n",
       "    </tr>\n",
       "    <tr>\n",
       "      <th>123032</th>\n",
       "      <td>1499_180</td>\n",
       "      <td>2018-09-28</td>\n",
       "      <td>1499</td>\n",
       "      <td>9</td>\n",
       "    </tr>\n",
       "    <tr>\n",
       "      <th>123033</th>\n",
       "      <td>1499_181</td>\n",
       "      <td>2018-09-27</td>\n",
       "      <td>1499</td>\n",
       "      <td>9</td>\n",
       "    </tr>\n",
       "    <tr>\n",
       "      <th>123034</th>\n",
       "      <td>1499_182</td>\n",
       "      <td>2018-11-15</td>\n",
       "      <td>1499</td>\n",
       "      <td>11</td>\n",
       "    </tr>\n",
       "    <tr>\n",
       "      <th>123035</th>\n",
       "      <td>1499_183</td>\n",
       "      <td>2018-11-16</td>\n",
       "      <td>1499</td>\n",
       "      <td>11</td>\n",
       "    </tr>\n",
       "  </tbody>\n",
       "</table>\n",
       "<p>123036 rows × 4 columns</p>\n",
       "</div>"
      ],
      "text/plain": [
       "              id message_date  user_id  message_month\n",
       "0         1000_0   2018-06-27     1000              6\n",
       "1         1000_1   2018-10-08     1000             10\n",
       "2         1000_2   2018-08-04     1000              8\n",
       "3         1000_3   2018-06-16     1000              6\n",
       "4         1000_4   2018-12-05     1000             12\n",
       "...          ...          ...      ...            ...\n",
       "123031  1499_179   2018-12-12     1499             12\n",
       "123032  1499_180   2018-09-28     1499              9\n",
       "123033  1499_181   2018-09-27     1499              9\n",
       "123034  1499_182   2018-11-15     1499             11\n",
       "123035  1499_183   2018-11-16     1499             11\n",
       "\n",
       "[123036 rows x 4 columns]"
      ]
     },
     "execution_count": 24,
     "metadata": {},
     "output_type": "execute_result"
    }
   ],
   "source": [
    "df_messages['message_month'] = pd.DatetimeIndex(df_messages.message_date).month\n",
    "df_messages"
   ]
  },
  {
   "cell_type": "code",
   "execution_count": 25,
   "metadata": {},
   "outputs": [
    {
     "data": {
      "text/html": [
       "<div>\n",
       "<style scoped>\n",
       "    .dataframe tbody tr th:only-of-type {\n",
       "        vertical-align: middle;\n",
       "    }\n",
       "\n",
       "    .dataframe tbody tr th {\n",
       "        vertical-align: top;\n",
       "    }\n",
       "\n",
       "    .dataframe thead th {\n",
       "        text-align: right;\n",
       "    }\n",
       "</style>\n",
       "<table border=\"1\" class=\"dataframe\">\n",
       "  <thead>\n",
       "    <tr style=\"text-align: right;\">\n",
       "      <th>message_month</th>\n",
       "      <th>user_id</th>\n",
       "      <th>messages_count_1_month</th>\n",
       "      <th>messages_count_2_month</th>\n",
       "      <th>messages_count_3_month</th>\n",
       "      <th>messages_count_4_month</th>\n",
       "      <th>messages_count_5_month</th>\n",
       "      <th>messages_count_6_month</th>\n",
       "      <th>messages_count_7_month</th>\n",
       "      <th>messages_count_8_month</th>\n",
       "      <th>messages_count_9_month</th>\n",
       "      <th>messages_count_10_month</th>\n",
       "      <th>messages_count_11_month</th>\n",
       "      <th>messages_count_12_month</th>\n",
       "    </tr>\n",
       "  </thead>\n",
       "  <tbody>\n",
       "    <tr>\n",
       "      <th>0</th>\n",
       "      <td>1000</td>\n",
       "      <td>NaN</td>\n",
       "      <td>NaN</td>\n",
       "      <td>NaN</td>\n",
       "      <td>NaN</td>\n",
       "      <td>22.0</td>\n",
       "      <td>60.0</td>\n",
       "      <td>75.0</td>\n",
       "      <td>81.0</td>\n",
       "      <td>57.0</td>\n",
       "      <td>73.0</td>\n",
       "      <td>58.0</td>\n",
       "      <td>70.0</td>\n",
       "    </tr>\n",
       "    <tr>\n",
       "      <th>1</th>\n",
       "      <td>1002</td>\n",
       "      <td>NaN</td>\n",
       "      <td>NaN</td>\n",
       "      <td>NaN</td>\n",
       "      <td>NaN</td>\n",
       "      <td>NaN</td>\n",
       "      <td>4.0</td>\n",
       "      <td>11.0</td>\n",
       "      <td>13.0</td>\n",
       "      <td>4.0</td>\n",
       "      <td>10.0</td>\n",
       "      <td>16.0</td>\n",
       "      <td>12.0</td>\n",
       "    </tr>\n",
       "    <tr>\n",
       "      <th>2</th>\n",
       "      <td>1003</td>\n",
       "      <td>NaN</td>\n",
       "      <td>NaN</td>\n",
       "      <td>NaN</td>\n",
       "      <td>NaN</td>\n",
       "      <td>NaN</td>\n",
       "      <td>NaN</td>\n",
       "      <td>NaN</td>\n",
       "      <td>37.0</td>\n",
       "      <td>91.0</td>\n",
       "      <td>83.0</td>\n",
       "      <td>94.0</td>\n",
       "      <td>75.0</td>\n",
       "    </tr>\n",
       "    <tr>\n",
       "      <th>3</th>\n",
       "      <td>1004</td>\n",
       "      <td>NaN</td>\n",
       "      <td>NaN</td>\n",
       "      <td>NaN</td>\n",
       "      <td>NaN</td>\n",
       "      <td>95.0</td>\n",
       "      <td>134.0</td>\n",
       "      <td>181.0</td>\n",
       "      <td>151.0</td>\n",
       "      <td>146.0</td>\n",
       "      <td>165.0</td>\n",
       "      <td>158.0</td>\n",
       "      <td>162.0</td>\n",
       "    </tr>\n",
       "    <tr>\n",
       "      <th>4</th>\n",
       "      <td>1005</td>\n",
       "      <td>7.0</td>\n",
       "      <td>38.0</td>\n",
       "      <td>56.0</td>\n",
       "      <td>41.0</td>\n",
       "      <td>42.0</td>\n",
       "      <td>47.0</td>\n",
       "      <td>56.0</td>\n",
       "      <td>64.0</td>\n",
       "      <td>52.0</td>\n",
       "      <td>44.0</td>\n",
       "      <td>51.0</td>\n",
       "      <td>54.0</td>\n",
       "    </tr>\n",
       "    <tr>\n",
       "      <th>...</th>\n",
       "      <td>...</td>\n",
       "      <td>...</td>\n",
       "      <td>...</td>\n",
       "      <td>...</td>\n",
       "      <td>...</td>\n",
       "      <td>...</td>\n",
       "      <td>...</td>\n",
       "      <td>...</td>\n",
       "      <td>...</td>\n",
       "      <td>...</td>\n",
       "      <td>...</td>\n",
       "      <td>...</td>\n",
       "      <td>...</td>\n",
       "    </tr>\n",
       "    <tr>\n",
       "      <th>421</th>\n",
       "      <td>1495</td>\n",
       "      <td>NaN</td>\n",
       "      <td>NaN</td>\n",
       "      <td>NaN</td>\n",
       "      <td>NaN</td>\n",
       "      <td>NaN</td>\n",
       "      <td>NaN</td>\n",
       "      <td>NaN</td>\n",
       "      <td>13.0</td>\n",
       "      <td>82.0</td>\n",
       "      <td>82.0</td>\n",
       "      <td>79.0</td>\n",
       "      <td>84.0</td>\n",
       "    </tr>\n",
       "    <tr>\n",
       "      <th>422</th>\n",
       "      <td>1496</td>\n",
       "      <td>9.0</td>\n",
       "      <td>45.0</td>\n",
       "      <td>46.0</td>\n",
       "      <td>49.0</td>\n",
       "      <td>40.0</td>\n",
       "      <td>35.0</td>\n",
       "      <td>42.0</td>\n",
       "      <td>41.0</td>\n",
       "      <td>29.0</td>\n",
       "      <td>35.0</td>\n",
       "      <td>46.0</td>\n",
       "      <td>51.0</td>\n",
       "    </tr>\n",
       "    <tr>\n",
       "      <th>423</th>\n",
       "      <td>1497</td>\n",
       "      <td>NaN</td>\n",
       "      <td>NaN</td>\n",
       "      <td>NaN</td>\n",
       "      <td>NaN</td>\n",
       "      <td>NaN</td>\n",
       "      <td>NaN</td>\n",
       "      <td>NaN</td>\n",
       "      <td>NaN</td>\n",
       "      <td>NaN</td>\n",
       "      <td>20.0</td>\n",
       "      <td>14.0</td>\n",
       "      <td>17.0</td>\n",
       "    </tr>\n",
       "    <tr>\n",
       "      <th>424</th>\n",
       "      <td>1498</td>\n",
       "      <td>NaN</td>\n",
       "      <td>NaN</td>\n",
       "      <td>NaN</td>\n",
       "      <td>NaN</td>\n",
       "      <td>NaN</td>\n",
       "      <td>NaN</td>\n",
       "      <td>20.0</td>\n",
       "      <td>62.0</td>\n",
       "      <td>44.0</td>\n",
       "      <td>42.0</td>\n",
       "      <td>NaN</td>\n",
       "      <td>NaN</td>\n",
       "    </tr>\n",
       "    <tr>\n",
       "      <th>425</th>\n",
       "      <td>1499</td>\n",
       "      <td>NaN</td>\n",
       "      <td>NaN</td>\n",
       "      <td>NaN</td>\n",
       "      <td>NaN</td>\n",
       "      <td>NaN</td>\n",
       "      <td>NaN</td>\n",
       "      <td>NaN</td>\n",
       "      <td>NaN</td>\n",
       "      <td>11.0</td>\n",
       "      <td>48.0</td>\n",
       "      <td>59.0</td>\n",
       "      <td>66.0</td>\n",
       "    </tr>\n",
       "  </tbody>\n",
       "</table>\n",
       "<p>426 rows × 13 columns</p>\n",
       "</div>"
      ],
      "text/plain": [
       "message_month  user_id  messages_count_1_month  messages_count_2_month  \\\n",
       "0                 1000                     NaN                     NaN   \n",
       "1                 1002                     NaN                     NaN   \n",
       "2                 1003                     NaN                     NaN   \n",
       "3                 1004                     NaN                     NaN   \n",
       "4                 1005                     7.0                    38.0   \n",
       "..                 ...                     ...                     ...   \n",
       "421               1495                     NaN                     NaN   \n",
       "422               1496                     9.0                    45.0   \n",
       "423               1497                     NaN                     NaN   \n",
       "424               1498                     NaN                     NaN   \n",
       "425               1499                     NaN                     NaN   \n",
       "\n",
       "message_month  messages_count_3_month  messages_count_4_month  \\\n",
       "0                                 NaN                     NaN   \n",
       "1                                 NaN                     NaN   \n",
       "2                                 NaN                     NaN   \n",
       "3                                 NaN                     NaN   \n",
       "4                                56.0                    41.0   \n",
       "..                                ...                     ...   \n",
       "421                               NaN                     NaN   \n",
       "422                              46.0                    49.0   \n",
       "423                               NaN                     NaN   \n",
       "424                               NaN                     NaN   \n",
       "425                               NaN                     NaN   \n",
       "\n",
       "message_month  messages_count_5_month  messages_count_6_month  \\\n",
       "0                                22.0                    60.0   \n",
       "1                                 NaN                     4.0   \n",
       "2                                 NaN                     NaN   \n",
       "3                                95.0                   134.0   \n",
       "4                                42.0                    47.0   \n",
       "..                                ...                     ...   \n",
       "421                               NaN                     NaN   \n",
       "422                              40.0                    35.0   \n",
       "423                               NaN                     NaN   \n",
       "424                               NaN                     NaN   \n",
       "425                               NaN                     NaN   \n",
       "\n",
       "message_month  messages_count_7_month  messages_count_8_month  \\\n",
       "0                                75.0                    81.0   \n",
       "1                                11.0                    13.0   \n",
       "2                                 NaN                    37.0   \n",
       "3                               181.0                   151.0   \n",
       "4                                56.0                    64.0   \n",
       "..                                ...                     ...   \n",
       "421                               NaN                    13.0   \n",
       "422                              42.0                    41.0   \n",
       "423                               NaN                     NaN   \n",
       "424                              20.0                    62.0   \n",
       "425                               NaN                     NaN   \n",
       "\n",
       "message_month  messages_count_9_month  messages_count_10_month  \\\n",
       "0                                57.0                     73.0   \n",
       "1                                 4.0                     10.0   \n",
       "2                                91.0                     83.0   \n",
       "3                               146.0                    165.0   \n",
       "4                                52.0                     44.0   \n",
       "..                                ...                      ...   \n",
       "421                              82.0                     82.0   \n",
       "422                              29.0                     35.0   \n",
       "423                               NaN                     20.0   \n",
       "424                              44.0                     42.0   \n",
       "425                              11.0                     48.0   \n",
       "\n",
       "message_month  messages_count_11_month  messages_count_12_month  \n",
       "0                                 58.0                     70.0  \n",
       "1                                 16.0                     12.0  \n",
       "2                                 94.0                     75.0  \n",
       "3                                158.0                    162.0  \n",
       "4                                 51.0                     54.0  \n",
       "..                                 ...                      ...  \n",
       "421                               79.0                     84.0  \n",
       "422                               46.0                     51.0  \n",
       "423                               14.0                     17.0  \n",
       "424                                NaN                      NaN  \n",
       "425                               59.0                     66.0  \n",
       "\n",
       "[426 rows x 13 columns]"
      ]
     },
     "execution_count": 25,
     "metadata": {},
     "output_type": "execute_result"
    }
   ],
   "source": [
    "# Создадим сводную таблицу\n",
    "df_messages_pivot = (df_messages\n",
    "                     .pivot_table(\n",
    "                         index='user_id', \n",
    "                         columns='message_month', \n",
    "                         values='id', \n",
    "                         aggfunc='count')\n",
    "                     .reset_index()\n",
    "                    )\n",
    "\n",
    "for i in range(1, 13):\n",
    "    df_messages_pivot = df_messages_pivot.rename(columns={i: f'messages_count_{i}_month'})\n",
    "\n",
    "df_messages_pivot"
   ]
  },
  {
   "cell_type": "markdown",
   "metadata": {},
   "source": [
    "Так же, как и в `df_calls_pivot` значения `NaN` в таблице присвоены в том случае, если сообщений в указанном периоде не было отправлено. Сводная таблица содержит 426 строк. Будем считать, что остальные пользователи в 2018 году не отправляли сообщения."
   ]
  },
  {
   "cell_type": "markdown",
   "metadata": {},
   "source": [
    "#### Объем израсходованного интернет-трафика по месяцам"
   ]
  },
  {
   "cell_type": "markdown",
   "metadata": {},
   "source": [
    "Создадим колонку с указанием месяца, когда была проведена сессия с получением траффика из интернета."
   ]
  },
  {
   "cell_type": "code",
   "execution_count": 26,
   "metadata": {},
   "outputs": [
    {
     "data": {
      "text/html": [
       "<div>\n",
       "<style scoped>\n",
       "    .dataframe tbody tr th:only-of-type {\n",
       "        vertical-align: middle;\n",
       "    }\n",
       "\n",
       "    .dataframe tbody tr th {\n",
       "        vertical-align: top;\n",
       "    }\n",
       "\n",
       "    .dataframe thead th {\n",
       "        text-align: right;\n",
       "    }\n",
       "</style>\n",
       "<table border=\"1\" class=\"dataframe\">\n",
       "  <thead>\n",
       "    <tr style=\"text-align: right;\">\n",
       "      <th></th>\n",
       "      <th>id</th>\n",
       "      <th>mb_used</th>\n",
       "      <th>session_date</th>\n",
       "      <th>user_id</th>\n",
       "      <th>session_month</th>\n",
       "    </tr>\n",
       "  </thead>\n",
       "  <tbody>\n",
       "    <tr>\n",
       "      <th>0</th>\n",
       "      <td>1000_0</td>\n",
       "      <td>112.95</td>\n",
       "      <td>2018-11-25</td>\n",
       "      <td>1000</td>\n",
       "      <td>11</td>\n",
       "    </tr>\n",
       "    <tr>\n",
       "      <th>1</th>\n",
       "      <td>1000_1</td>\n",
       "      <td>1052.81</td>\n",
       "      <td>2018-09-07</td>\n",
       "      <td>1000</td>\n",
       "      <td>9</td>\n",
       "    </tr>\n",
       "    <tr>\n",
       "      <th>2</th>\n",
       "      <td>1000_2</td>\n",
       "      <td>1197.26</td>\n",
       "      <td>2018-06-25</td>\n",
       "      <td>1000</td>\n",
       "      <td>6</td>\n",
       "    </tr>\n",
       "    <tr>\n",
       "      <th>3</th>\n",
       "      <td>1000_3</td>\n",
       "      <td>550.27</td>\n",
       "      <td>2018-08-22</td>\n",
       "      <td>1000</td>\n",
       "      <td>8</td>\n",
       "    </tr>\n",
       "    <tr>\n",
       "      <th>4</th>\n",
       "      <td>1000_4</td>\n",
       "      <td>302.56</td>\n",
       "      <td>2018-09-24</td>\n",
       "      <td>1000</td>\n",
       "      <td>9</td>\n",
       "    </tr>\n",
       "    <tr>\n",
       "      <th>...</th>\n",
       "      <td>...</td>\n",
       "      <td>...</td>\n",
       "      <td>...</td>\n",
       "      <td>...</td>\n",
       "      <td>...</td>\n",
       "    </tr>\n",
       "    <tr>\n",
       "      <th>149391</th>\n",
       "      <td>1499_152</td>\n",
       "      <td>318.90</td>\n",
       "      <td>2018-10-03</td>\n",
       "      <td>1499</td>\n",
       "      <td>10</td>\n",
       "    </tr>\n",
       "    <tr>\n",
       "      <th>149392</th>\n",
       "      <td>1499_153</td>\n",
       "      <td>490.13</td>\n",
       "      <td>2018-12-14</td>\n",
       "      <td>1499</td>\n",
       "      <td>12</td>\n",
       "    </tr>\n",
       "    <tr>\n",
       "      <th>149393</th>\n",
       "      <td>1499_154</td>\n",
       "      <td>0.00</td>\n",
       "      <td>2018-10-27</td>\n",
       "      <td>1499</td>\n",
       "      <td>10</td>\n",
       "    </tr>\n",
       "    <tr>\n",
       "      <th>149394</th>\n",
       "      <td>1499_155</td>\n",
       "      <td>1246.32</td>\n",
       "      <td>2018-11-26</td>\n",
       "      <td>1499</td>\n",
       "      <td>11</td>\n",
       "    </tr>\n",
       "    <tr>\n",
       "      <th>149395</th>\n",
       "      <td>1499_156</td>\n",
       "      <td>544.37</td>\n",
       "      <td>2018-10-26</td>\n",
       "      <td>1499</td>\n",
       "      <td>10</td>\n",
       "    </tr>\n",
       "  </tbody>\n",
       "</table>\n",
       "<p>149396 rows × 5 columns</p>\n",
       "</div>"
      ],
      "text/plain": [
       "              id  mb_used session_date  user_id  session_month\n",
       "0         1000_0   112.95   2018-11-25     1000             11\n",
       "1         1000_1  1052.81   2018-09-07     1000              9\n",
       "2         1000_2  1197.26   2018-06-25     1000              6\n",
       "3         1000_3   550.27   2018-08-22     1000              8\n",
       "4         1000_4   302.56   2018-09-24     1000              9\n",
       "...          ...      ...          ...      ...            ...\n",
       "149391  1499_152   318.90   2018-10-03     1499             10\n",
       "149392  1499_153   490.13   2018-12-14     1499             12\n",
       "149393  1499_154     0.00   2018-10-27     1499             10\n",
       "149394  1499_155  1246.32   2018-11-26     1499             11\n",
       "149395  1499_156   544.37   2018-10-26     1499             10\n",
       "\n",
       "[149396 rows x 5 columns]"
      ]
     },
     "execution_count": 26,
     "metadata": {},
     "output_type": "execute_result"
    }
   ],
   "source": [
    "df_internet['session_month'] = pd.DatetimeIndex(df_internet.session_date).month\n",
    "df_internet"
   ]
  },
  {
   "cell_type": "code",
   "execution_count": 27,
   "metadata": {},
   "outputs": [
    {
     "data": {
      "text/html": [
       "<div>\n",
       "<style scoped>\n",
       "    .dataframe tbody tr th:only-of-type {\n",
       "        vertical-align: middle;\n",
       "    }\n",
       "\n",
       "    .dataframe tbody tr th {\n",
       "        vertical-align: top;\n",
       "    }\n",
       "\n",
       "    .dataframe thead th {\n",
       "        text-align: right;\n",
       "    }\n",
       "</style>\n",
       "<table border=\"1\" class=\"dataframe\">\n",
       "  <thead>\n",
       "    <tr style=\"text-align: right;\">\n",
       "      <th>session_month</th>\n",
       "      <th>user_id</th>\n",
       "      <th>internet_sum_1_month</th>\n",
       "      <th>internet_sum_2_month</th>\n",
       "      <th>internet_sum_3_month</th>\n",
       "      <th>internet_sum_4_month</th>\n",
       "      <th>internet_sum_5_month</th>\n",
       "      <th>internet_sum_6_month</th>\n",
       "      <th>internet_sum_7_month</th>\n",
       "      <th>internet_sum_8_month</th>\n",
       "      <th>internet_sum_9_month</th>\n",
       "      <th>internet_sum_10_month</th>\n",
       "      <th>internet_sum_11_month</th>\n",
       "      <th>internet_sum_12_month</th>\n",
       "    </tr>\n",
       "  </thead>\n",
       "  <tbody>\n",
       "    <tr>\n",
       "      <th>0</th>\n",
       "      <td>1000</td>\n",
       "      <td>NaN</td>\n",
       "      <td>NaN</td>\n",
       "      <td>NaN</td>\n",
       "      <td>NaN</td>\n",
       "      <td>2253.49</td>\n",
       "      <td>23233.77</td>\n",
       "      <td>14003.64</td>\n",
       "      <td>14055.93</td>\n",
       "      <td>14568.91</td>\n",
       "      <td>14702.49</td>\n",
       "      <td>14756.47</td>\n",
       "      <td>9817.61</td>\n",
       "    </tr>\n",
       "    <tr>\n",
       "      <th>1</th>\n",
       "      <td>1001</td>\n",
       "      <td>NaN</td>\n",
       "      <td>NaN</td>\n",
       "      <td>NaN</td>\n",
       "      <td>NaN</td>\n",
       "      <td>NaN</td>\n",
       "      <td>NaN</td>\n",
       "      <td>NaN</td>\n",
       "      <td>NaN</td>\n",
       "      <td>NaN</td>\n",
       "      <td>NaN</td>\n",
       "      <td>18429.34</td>\n",
       "      <td>14036.66</td>\n",
       "    </tr>\n",
       "    <tr>\n",
       "      <th>2</th>\n",
       "      <td>1002</td>\n",
       "      <td>NaN</td>\n",
       "      <td>NaN</td>\n",
       "      <td>NaN</td>\n",
       "      <td>NaN</td>\n",
       "      <td>NaN</td>\n",
       "      <td>10856.82</td>\n",
       "      <td>17580.10</td>\n",
       "      <td>20319.26</td>\n",
       "      <td>16691.08</td>\n",
       "      <td>13888.25</td>\n",
       "      <td>18587.28</td>\n",
       "      <td>18113.73</td>\n",
       "    </tr>\n",
       "    <tr>\n",
       "      <th>3</th>\n",
       "      <td>1003</td>\n",
       "      <td>NaN</td>\n",
       "      <td>NaN</td>\n",
       "      <td>NaN</td>\n",
       "      <td>NaN</td>\n",
       "      <td>NaN</td>\n",
       "      <td>NaN</td>\n",
       "      <td>NaN</td>\n",
       "      <td>8565.21</td>\n",
       "      <td>12468.87</td>\n",
       "      <td>14768.14</td>\n",
       "      <td>11356.89</td>\n",
       "      <td>10121.53</td>\n",
       "    </tr>\n",
       "    <tr>\n",
       "      <th>4</th>\n",
       "      <td>1004</td>\n",
       "      <td>NaN</td>\n",
       "      <td>NaN</td>\n",
       "      <td>NaN</td>\n",
       "      <td>NaN</td>\n",
       "      <td>13403.98</td>\n",
       "      <td>17600.02</td>\n",
       "      <td>22229.58</td>\n",
       "      <td>28584.37</td>\n",
       "      <td>15109.03</td>\n",
       "      <td>18475.44</td>\n",
       "      <td>15616.02</td>\n",
       "      <td>18021.04</td>\n",
       "    </tr>\n",
       "    <tr>\n",
       "      <th>...</th>\n",
       "      <td>...</td>\n",
       "      <td>...</td>\n",
       "      <td>...</td>\n",
       "      <td>...</td>\n",
       "      <td>...</td>\n",
       "      <td>...</td>\n",
       "      <td>...</td>\n",
       "      <td>...</td>\n",
       "      <td>...</td>\n",
       "      <td>...</td>\n",
       "      <td>...</td>\n",
       "      <td>...</td>\n",
       "      <td>...</td>\n",
       "    </tr>\n",
       "    <tr>\n",
       "      <th>492</th>\n",
       "      <td>1495</td>\n",
       "      <td>NaN</td>\n",
       "      <td>NaN</td>\n",
       "      <td>NaN</td>\n",
       "      <td>NaN</td>\n",
       "      <td>NaN</td>\n",
       "      <td>NaN</td>\n",
       "      <td>NaN</td>\n",
       "      <td>2614.07</td>\n",
       "      <td>33067.62</td>\n",
       "      <td>29363.00</td>\n",
       "      <td>38939.11</td>\n",
       "      <td>23426.76</td>\n",
       "    </tr>\n",
       "    <tr>\n",
       "      <th>493</th>\n",
       "      <td>1496</td>\n",
       "      <td>3762.73</td>\n",
       "      <td>28489.67</td>\n",
       "      <td>24959.0</td>\n",
       "      <td>21074.67</td>\n",
       "      <td>23709.75</td>\n",
       "      <td>20134.31</td>\n",
       "      <td>24364.76</td>\n",
       "      <td>23530.03</td>\n",
       "      <td>26934.65</td>\n",
       "      <td>28183.17</td>\n",
       "      <td>25063.40</td>\n",
       "      <td>20736.15</td>\n",
       "    </tr>\n",
       "    <tr>\n",
       "      <th>494</th>\n",
       "      <td>1497</td>\n",
       "      <td>NaN</td>\n",
       "      <td>NaN</td>\n",
       "      <td>NaN</td>\n",
       "      <td>NaN</td>\n",
       "      <td>NaN</td>\n",
       "      <td>NaN</td>\n",
       "      <td>NaN</td>\n",
       "      <td>NaN</td>\n",
       "      <td>NaN</td>\n",
       "      <td>11500.29</td>\n",
       "      <td>14156.08</td>\n",
       "      <td>19918.60</td>\n",
       "    </tr>\n",
       "    <tr>\n",
       "      <th>495</th>\n",
       "      <td>1498</td>\n",
       "      <td>NaN</td>\n",
       "      <td>NaN</td>\n",
       "      <td>NaN</td>\n",
       "      <td>NaN</td>\n",
       "      <td>NaN</td>\n",
       "      <td>NaN</td>\n",
       "      <td>7476.24</td>\n",
       "      <td>24235.21</td>\n",
       "      <td>22134.41</td>\n",
       "      <td>20579.36</td>\n",
       "      <td>NaN</td>\n",
       "      <td>NaN</td>\n",
       "    </tr>\n",
       "    <tr>\n",
       "      <th>496</th>\n",
       "      <td>1499</td>\n",
       "      <td>NaN</td>\n",
       "      <td>NaN</td>\n",
       "      <td>NaN</td>\n",
       "      <td>NaN</td>\n",
       "      <td>NaN</td>\n",
       "      <td>NaN</td>\n",
       "      <td>NaN</td>\n",
       "      <td>NaN</td>\n",
       "      <td>1845.75</td>\n",
       "      <td>17788.51</td>\n",
       "      <td>17963.31</td>\n",
       "      <td>13055.58</td>\n",
       "    </tr>\n",
       "  </tbody>\n",
       "</table>\n",
       "<p>497 rows × 13 columns</p>\n",
       "</div>"
      ],
      "text/plain": [
       "session_month  user_id  internet_sum_1_month  internet_sum_2_month  \\\n",
       "0                 1000                   NaN                   NaN   \n",
       "1                 1001                   NaN                   NaN   \n",
       "2                 1002                   NaN                   NaN   \n",
       "3                 1003                   NaN                   NaN   \n",
       "4                 1004                   NaN                   NaN   \n",
       "..                 ...                   ...                   ...   \n",
       "492               1495                   NaN                   NaN   \n",
       "493               1496               3762.73              28489.67   \n",
       "494               1497                   NaN                   NaN   \n",
       "495               1498                   NaN                   NaN   \n",
       "496               1499                   NaN                   NaN   \n",
       "\n",
       "session_month  internet_sum_3_month  internet_sum_4_month  \\\n",
       "0                               NaN                   NaN   \n",
       "1                               NaN                   NaN   \n",
       "2                               NaN                   NaN   \n",
       "3                               NaN                   NaN   \n",
       "4                               NaN                   NaN   \n",
       "..                              ...                   ...   \n",
       "492                             NaN                   NaN   \n",
       "493                         24959.0              21074.67   \n",
       "494                             NaN                   NaN   \n",
       "495                             NaN                   NaN   \n",
       "496                             NaN                   NaN   \n",
       "\n",
       "session_month  internet_sum_5_month  internet_sum_6_month  \\\n",
       "0                           2253.49              23233.77   \n",
       "1                               NaN                   NaN   \n",
       "2                               NaN              10856.82   \n",
       "3                               NaN                   NaN   \n",
       "4                          13403.98              17600.02   \n",
       "..                              ...                   ...   \n",
       "492                             NaN                   NaN   \n",
       "493                        23709.75              20134.31   \n",
       "494                             NaN                   NaN   \n",
       "495                             NaN                   NaN   \n",
       "496                             NaN                   NaN   \n",
       "\n",
       "session_month  internet_sum_7_month  internet_sum_8_month  \\\n",
       "0                          14003.64              14055.93   \n",
       "1                               NaN                   NaN   \n",
       "2                          17580.10              20319.26   \n",
       "3                               NaN               8565.21   \n",
       "4                          22229.58              28584.37   \n",
       "..                              ...                   ...   \n",
       "492                             NaN               2614.07   \n",
       "493                        24364.76              23530.03   \n",
       "494                             NaN                   NaN   \n",
       "495                         7476.24              24235.21   \n",
       "496                             NaN                   NaN   \n",
       "\n",
       "session_month  internet_sum_9_month  internet_sum_10_month  \\\n",
       "0                          14568.91               14702.49   \n",
       "1                               NaN                    NaN   \n",
       "2                          16691.08               13888.25   \n",
       "3                          12468.87               14768.14   \n",
       "4                          15109.03               18475.44   \n",
       "..                              ...                    ...   \n",
       "492                        33067.62               29363.00   \n",
       "493                        26934.65               28183.17   \n",
       "494                             NaN               11500.29   \n",
       "495                        22134.41               20579.36   \n",
       "496                         1845.75               17788.51   \n",
       "\n",
       "session_month  internet_sum_11_month  internet_sum_12_month  \n",
       "0                           14756.47                9817.61  \n",
       "1                           18429.34               14036.66  \n",
       "2                           18587.28               18113.73  \n",
       "3                           11356.89               10121.53  \n",
       "4                           15616.02               18021.04  \n",
       "..                               ...                    ...  \n",
       "492                         38939.11               23426.76  \n",
       "493                         25063.40               20736.15  \n",
       "494                         14156.08               19918.60  \n",
       "495                              NaN                    NaN  \n",
       "496                         17963.31               13055.58  \n",
       "\n",
       "[497 rows x 13 columns]"
      ]
     },
     "execution_count": 27,
     "metadata": {},
     "output_type": "execute_result"
    }
   ],
   "source": [
    "# Создадим сводную таблицу\n",
    "df_internet_pivot = (df_internet\n",
    "                     .pivot_table(\n",
    "                         index='user_id', \n",
    "                         columns='session_month', \n",
    "                         values='mb_used', \n",
    "                         aggfunc='sum')\n",
    "                     .reset_index()\n",
    "                    )\n",
    "\n",
    "for i in range(1, 13):\n",
    "    df_internet_pivot = df_internet_pivot.rename(columns={i: f'internet_sum_{i}_month'})\n",
    "\n",
    "df_internet_pivot"
   ]
  },
  {
   "cell_type": "markdown",
   "metadata": {},
   "source": [
    "По аналогии с предыдущими сводными таблицами у нас есть информация о 497 пользователях."
   ]
  },
  {
   "cell_type": "code",
   "execution_count": 28,
   "metadata": {},
   "outputs": [
    {
     "data": {
      "text/html": [
       "<div>\n",
       "<style scoped>\n",
       "    .dataframe tbody tr th:only-of-type {\n",
       "        vertical-align: middle;\n",
       "    }\n",
       "\n",
       "    .dataframe tbody tr th {\n",
       "        vertical-align: top;\n",
       "    }\n",
       "\n",
       "    .dataframe thead th {\n",
       "        text-align: right;\n",
       "    }\n",
       "</style>\n",
       "<table border=\"1\" class=\"dataframe\">\n",
       "  <thead>\n",
       "    <tr style=\"text-align: right;\">\n",
       "      <th>session_month</th>\n",
       "      <th>user_id</th>\n",
       "      <th>internet_sum_1_month</th>\n",
       "      <th>internet_sum_2_month</th>\n",
       "      <th>internet_sum_3_month</th>\n",
       "      <th>internet_sum_4_month</th>\n",
       "      <th>internet_sum_5_month</th>\n",
       "      <th>internet_sum_6_month</th>\n",
       "      <th>internet_sum_7_month</th>\n",
       "      <th>internet_sum_8_month</th>\n",
       "      <th>internet_sum_9_month</th>\n",
       "      <th>internet_sum_10_month</th>\n",
       "      <th>internet_sum_11_month</th>\n",
       "      <th>internet_sum_12_month</th>\n",
       "    </tr>\n",
       "  </thead>\n",
       "  <tbody>\n",
       "    <tr>\n",
       "      <th>0</th>\n",
       "      <td>1000</td>\n",
       "      <td>NaN</td>\n",
       "      <td>NaN</td>\n",
       "      <td>NaN</td>\n",
       "      <td>NaN</td>\n",
       "      <td>3.0</td>\n",
       "      <td>23.0</td>\n",
       "      <td>14.0</td>\n",
       "      <td>14.0</td>\n",
       "      <td>15.0</td>\n",
       "      <td>15.0</td>\n",
       "      <td>15.0</td>\n",
       "      <td>10.0</td>\n",
       "    </tr>\n",
       "    <tr>\n",
       "      <th>1</th>\n",
       "      <td>1001</td>\n",
       "      <td>NaN</td>\n",
       "      <td>NaN</td>\n",
       "      <td>NaN</td>\n",
       "      <td>NaN</td>\n",
       "      <td>NaN</td>\n",
       "      <td>NaN</td>\n",
       "      <td>NaN</td>\n",
       "      <td>NaN</td>\n",
       "      <td>NaN</td>\n",
       "      <td>NaN</td>\n",
       "      <td>18.0</td>\n",
       "      <td>14.0</td>\n",
       "    </tr>\n",
       "    <tr>\n",
       "      <th>2</th>\n",
       "      <td>1002</td>\n",
       "      <td>NaN</td>\n",
       "      <td>NaN</td>\n",
       "      <td>NaN</td>\n",
       "      <td>NaN</td>\n",
       "      <td>NaN</td>\n",
       "      <td>11.0</td>\n",
       "      <td>18.0</td>\n",
       "      <td>20.0</td>\n",
       "      <td>17.0</td>\n",
       "      <td>14.0</td>\n",
       "      <td>19.0</td>\n",
       "      <td>18.0</td>\n",
       "    </tr>\n",
       "    <tr>\n",
       "      <th>3</th>\n",
       "      <td>1003</td>\n",
       "      <td>NaN</td>\n",
       "      <td>NaN</td>\n",
       "      <td>NaN</td>\n",
       "      <td>NaN</td>\n",
       "      <td>NaN</td>\n",
       "      <td>NaN</td>\n",
       "      <td>NaN</td>\n",
       "      <td>9.0</td>\n",
       "      <td>13.0</td>\n",
       "      <td>15.0</td>\n",
       "      <td>12.0</td>\n",
       "      <td>10.0</td>\n",
       "    </tr>\n",
       "    <tr>\n",
       "      <th>4</th>\n",
       "      <td>1004</td>\n",
       "      <td>NaN</td>\n",
       "      <td>NaN</td>\n",
       "      <td>NaN</td>\n",
       "      <td>NaN</td>\n",
       "      <td>14.0</td>\n",
       "      <td>18.0</td>\n",
       "      <td>22.0</td>\n",
       "      <td>28.0</td>\n",
       "      <td>15.0</td>\n",
       "      <td>19.0</td>\n",
       "      <td>16.0</td>\n",
       "      <td>18.0</td>\n",
       "    </tr>\n",
       "    <tr>\n",
       "      <th>...</th>\n",
       "      <td>...</td>\n",
       "      <td>...</td>\n",
       "      <td>...</td>\n",
       "      <td>...</td>\n",
       "      <td>...</td>\n",
       "      <td>...</td>\n",
       "      <td>...</td>\n",
       "      <td>...</td>\n",
       "      <td>...</td>\n",
       "      <td>...</td>\n",
       "      <td>...</td>\n",
       "      <td>...</td>\n",
       "      <td>...</td>\n",
       "    </tr>\n",
       "    <tr>\n",
       "      <th>492</th>\n",
       "      <td>1495</td>\n",
       "      <td>NaN</td>\n",
       "      <td>NaN</td>\n",
       "      <td>NaN</td>\n",
       "      <td>NaN</td>\n",
       "      <td>NaN</td>\n",
       "      <td>NaN</td>\n",
       "      <td>NaN</td>\n",
       "      <td>3.0</td>\n",
       "      <td>33.0</td>\n",
       "      <td>29.0</td>\n",
       "      <td>39.0</td>\n",
       "      <td>23.0</td>\n",
       "    </tr>\n",
       "    <tr>\n",
       "      <th>493</th>\n",
       "      <td>1496</td>\n",
       "      <td>4.0</td>\n",
       "      <td>28.0</td>\n",
       "      <td>25.0</td>\n",
       "      <td>21.0</td>\n",
       "      <td>24.0</td>\n",
       "      <td>20.0</td>\n",
       "      <td>24.0</td>\n",
       "      <td>23.0</td>\n",
       "      <td>27.0</td>\n",
       "      <td>28.0</td>\n",
       "      <td>25.0</td>\n",
       "      <td>21.0</td>\n",
       "    </tr>\n",
       "    <tr>\n",
       "      <th>494</th>\n",
       "      <td>1497</td>\n",
       "      <td>NaN</td>\n",
       "      <td>NaN</td>\n",
       "      <td>NaN</td>\n",
       "      <td>NaN</td>\n",
       "      <td>NaN</td>\n",
       "      <td>NaN</td>\n",
       "      <td>NaN</td>\n",
       "      <td>NaN</td>\n",
       "      <td>NaN</td>\n",
       "      <td>12.0</td>\n",
       "      <td>14.0</td>\n",
       "      <td>20.0</td>\n",
       "    </tr>\n",
       "    <tr>\n",
       "      <th>495</th>\n",
       "      <td>1498</td>\n",
       "      <td>NaN</td>\n",
       "      <td>NaN</td>\n",
       "      <td>NaN</td>\n",
       "      <td>NaN</td>\n",
       "      <td>NaN</td>\n",
       "      <td>NaN</td>\n",
       "      <td>8.0</td>\n",
       "      <td>24.0</td>\n",
       "      <td>22.0</td>\n",
       "      <td>21.0</td>\n",
       "      <td>NaN</td>\n",
       "      <td>NaN</td>\n",
       "    </tr>\n",
       "    <tr>\n",
       "      <th>496</th>\n",
       "      <td>1499</td>\n",
       "      <td>NaN</td>\n",
       "      <td>NaN</td>\n",
       "      <td>NaN</td>\n",
       "      <td>NaN</td>\n",
       "      <td>NaN</td>\n",
       "      <td>NaN</td>\n",
       "      <td>NaN</td>\n",
       "      <td>NaN</td>\n",
       "      <td>2.0</td>\n",
       "      <td>18.0</td>\n",
       "      <td>18.0</td>\n",
       "      <td>13.0</td>\n",
       "    </tr>\n",
       "  </tbody>\n",
       "</table>\n",
       "<p>497 rows × 13 columns</p>\n",
       "</div>"
      ],
      "text/plain": [
       "session_month  user_id  internet_sum_1_month  internet_sum_2_month  \\\n",
       "0                 1000                   NaN                   NaN   \n",
       "1                 1001                   NaN                   NaN   \n",
       "2                 1002                   NaN                   NaN   \n",
       "3                 1003                   NaN                   NaN   \n",
       "4                 1004                   NaN                   NaN   \n",
       "..                 ...                   ...                   ...   \n",
       "492               1495                   NaN                   NaN   \n",
       "493               1496                   4.0                  28.0   \n",
       "494               1497                   NaN                   NaN   \n",
       "495               1498                   NaN                   NaN   \n",
       "496               1499                   NaN                   NaN   \n",
       "\n",
       "session_month  internet_sum_3_month  internet_sum_4_month  \\\n",
       "0                               NaN                   NaN   \n",
       "1                               NaN                   NaN   \n",
       "2                               NaN                   NaN   \n",
       "3                               NaN                   NaN   \n",
       "4                               NaN                   NaN   \n",
       "..                              ...                   ...   \n",
       "492                             NaN                   NaN   \n",
       "493                            25.0                  21.0   \n",
       "494                             NaN                   NaN   \n",
       "495                             NaN                   NaN   \n",
       "496                             NaN                   NaN   \n",
       "\n",
       "session_month  internet_sum_5_month  internet_sum_6_month  \\\n",
       "0                               3.0                  23.0   \n",
       "1                               NaN                   NaN   \n",
       "2                               NaN                  11.0   \n",
       "3                               NaN                   NaN   \n",
       "4                              14.0                  18.0   \n",
       "..                              ...                   ...   \n",
       "492                             NaN                   NaN   \n",
       "493                            24.0                  20.0   \n",
       "494                             NaN                   NaN   \n",
       "495                             NaN                   NaN   \n",
       "496                             NaN                   NaN   \n",
       "\n",
       "session_month  internet_sum_7_month  internet_sum_8_month  \\\n",
       "0                              14.0                  14.0   \n",
       "1                               NaN                   NaN   \n",
       "2                              18.0                  20.0   \n",
       "3                               NaN                   9.0   \n",
       "4                              22.0                  28.0   \n",
       "..                              ...                   ...   \n",
       "492                             NaN                   3.0   \n",
       "493                            24.0                  23.0   \n",
       "494                             NaN                   NaN   \n",
       "495                             8.0                  24.0   \n",
       "496                             NaN                   NaN   \n",
       "\n",
       "session_month  internet_sum_9_month  internet_sum_10_month  \\\n",
       "0                              15.0                   15.0   \n",
       "1                               NaN                    NaN   \n",
       "2                              17.0                   14.0   \n",
       "3                              13.0                   15.0   \n",
       "4                              15.0                   19.0   \n",
       "..                              ...                    ...   \n",
       "492                            33.0                   29.0   \n",
       "493                            27.0                   28.0   \n",
       "494                             NaN                   12.0   \n",
       "495                            22.0                   21.0   \n",
       "496                             2.0                   18.0   \n",
       "\n",
       "session_month  internet_sum_11_month  internet_sum_12_month  \n",
       "0                               15.0                   10.0  \n",
       "1                               18.0                   14.0  \n",
       "2                               19.0                   18.0  \n",
       "3                               12.0                   10.0  \n",
       "4                               16.0                   18.0  \n",
       "..                               ...                    ...  \n",
       "492                             39.0                   23.0  \n",
       "493                             25.0                   21.0  \n",
       "494                             14.0                   20.0  \n",
       "495                              NaN                    NaN  \n",
       "496                             18.0                   13.0  \n",
       "\n",
       "[497 rows x 13 columns]"
      ]
     },
     "execution_count": 28,
     "metadata": {},
     "output_type": "execute_result"
    }
   ],
   "source": [
    "# Переведём мегабайты в гигабайты с округлением в большую сторону по правилам оператора\n",
    "for i in range(1, 13):\n",
    "    df_internet_pivot[f'internet_sum_{i}_month'] = df_internet_pivot[f'internet_sum_{i}_month'].divide(1024)\n",
    "    df_internet_pivot[f'internet_sum_{i}_month'] = df_internet_pivot[f'internet_sum_{i}_month'].apply(np.ceil)\n",
    "\n",
    "df_internet_pivot"
   ]
  },
  {
   "cell_type": "markdown",
   "metadata": {},
   "source": [
    "#### Помесячная выручка с каждого пользователя"
   ]
  },
  {
   "cell_type": "markdown",
   "metadata": {},
   "source": [
    "Для расчёта помесячной выручки с каждого пользователя нам необходимо вычесть бесплатный лимит из суммарного количества звонков, сообщений и интернет-трафика. Затем остаток умножить на значение из тарифного плана. И в конце прибавить абонентскую плату, соответствующую тарифному плану."
   ]
  },
  {
   "cell_type": "markdown",
   "metadata": {},
   "source": [
    "Для расчётов помесячной выручки с каждого пользователя объединим наши сводные таблицы с датафреймами `df_users` и `df_tariffs`."
   ]
  },
  {
   "cell_type": "code",
   "execution_count": 29,
   "metadata": {},
   "outputs": [
    {
     "data": {
      "text/html": [
       "<div>\n",
       "<style scoped>\n",
       "    .dataframe tbody tr th:only-of-type {\n",
       "        vertical-align: middle;\n",
       "    }\n",
       "\n",
       "    .dataframe tbody tr th {\n",
       "        vertical-align: top;\n",
       "    }\n",
       "\n",
       "    .dataframe thead th {\n",
       "        text-align: right;\n",
       "    }\n",
       "</style>\n",
       "<table border=\"1\" class=\"dataframe\">\n",
       "  <thead>\n",
       "    <tr style=\"text-align: right;\">\n",
       "      <th></th>\n",
       "      <th>messages_included</th>\n",
       "      <th>mb_per_month_included</th>\n",
       "      <th>minutes_included</th>\n",
       "      <th>rub_monthly_fee</th>\n",
       "      <th>rub_per_gb</th>\n",
       "      <th>rub_per_message</th>\n",
       "      <th>rub_per_minute</th>\n",
       "      <th>tariff</th>\n",
       "      <th>gb_per_month_included</th>\n",
       "    </tr>\n",
       "  </thead>\n",
       "  <tbody>\n",
       "    <tr>\n",
       "      <th>0</th>\n",
       "      <td>50</td>\n",
       "      <td>15360</td>\n",
       "      <td>500</td>\n",
       "      <td>550</td>\n",
       "      <td>200</td>\n",
       "      <td>3</td>\n",
       "      <td>3</td>\n",
       "      <td>smart</td>\n",
       "      <td>15.0</td>\n",
       "    </tr>\n",
       "    <tr>\n",
       "      <th>1</th>\n",
       "      <td>1000</td>\n",
       "      <td>30720</td>\n",
       "      <td>3000</td>\n",
       "      <td>1950</td>\n",
       "      <td>150</td>\n",
       "      <td>1</td>\n",
       "      <td>1</td>\n",
       "      <td>ultra</td>\n",
       "      <td>30.0</td>\n",
       "    </tr>\n",
       "  </tbody>\n",
       "</table>\n",
       "</div>"
      ],
      "text/plain": [
       "   messages_included  mb_per_month_included  minutes_included  \\\n",
       "0                 50                  15360               500   \n",
       "1               1000                  30720              3000   \n",
       "\n",
       "   rub_monthly_fee  rub_per_gb  rub_per_message  rub_per_minute tariff  \\\n",
       "0              550         200                3               3  smart   \n",
       "1             1950         150                1               1  ultra   \n",
       "\n",
       "   gb_per_month_included  \n",
       "0                   15.0  \n",
       "1                   30.0  "
      ]
     },
     "execution_count": 29,
     "metadata": {},
     "output_type": "execute_result"
    }
   ],
   "source": [
    "# В таблице df_tariffs для упрощения расчётов создадим дополнительную колонку с количеством доступных гигабайт в месяц\n",
    "df_tariffs['gb_per_month_included'] = df_tariffs['mb_per_month_included'].divide(1024)\n",
    "df_tariffs"
   ]
  },
  {
   "cell_type": "code",
   "execution_count": 30,
   "metadata": {},
   "outputs": [
    {
     "data": {
      "text/html": [
       "<div>\n",
       "<style scoped>\n",
       "    .dataframe tbody tr th:only-of-type {\n",
       "        vertical-align: middle;\n",
       "    }\n",
       "\n",
       "    .dataframe tbody tr th {\n",
       "        vertical-align: top;\n",
       "    }\n",
       "\n",
       "    .dataframe thead th {\n",
       "        text-align: right;\n",
       "    }\n",
       "</style>\n",
       "<table border=\"1\" class=\"dataframe\">\n",
       "  <thead>\n",
       "    <tr style=\"text-align: right;\">\n",
       "      <th></th>\n",
       "      <th>user_id</th>\n",
       "      <th>age</th>\n",
       "      <th>churn_date</th>\n",
       "      <th>city</th>\n",
       "      <th>first_name</th>\n",
       "      <th>last_name</th>\n",
       "      <th>reg_date</th>\n",
       "      <th>tariff</th>\n",
       "      <th>messages_included</th>\n",
       "      <th>mb_per_month_included</th>\n",
       "      <th>minutes_included</th>\n",
       "      <th>rub_monthly_fee</th>\n",
       "      <th>rub_per_gb</th>\n",
       "      <th>rub_per_message</th>\n",
       "      <th>rub_per_minute</th>\n",
       "      <th>gb_per_month_included</th>\n",
       "      <th>calls_count_1_month</th>\n",
       "      <th>calls_count_2_month</th>\n",
       "      <th>calls_count_3_month</th>\n",
       "      <th>calls_count_4_month</th>\n",
       "      <th>calls_count_5_month</th>\n",
       "      <th>calls_count_6_month</th>\n",
       "      <th>calls_count_7_month</th>\n",
       "      <th>calls_count_8_month</th>\n",
       "      <th>calls_count_9_month</th>\n",
       "      <th>calls_count_10_month</th>\n",
       "      <th>calls_count_11_month</th>\n",
       "      <th>calls_count_12_month</th>\n",
       "      <th>calls_sum_1_month</th>\n",
       "      <th>calls_sum_2_month</th>\n",
       "      <th>calls_sum_3_month</th>\n",
       "      <th>calls_sum_4_month</th>\n",
       "      <th>calls_sum_5_month</th>\n",
       "      <th>calls_sum_6_month</th>\n",
       "      <th>calls_sum_7_month</th>\n",
       "      <th>calls_sum_8_month</th>\n",
       "      <th>calls_sum_9_month</th>\n",
       "      <th>calls_sum_10_month</th>\n",
       "      <th>calls_sum_11_month</th>\n",
       "      <th>calls_sum_12_month</th>\n",
       "      <th>messages_count_1_month</th>\n",
       "      <th>messages_count_2_month</th>\n",
       "      <th>messages_count_3_month</th>\n",
       "      <th>messages_count_4_month</th>\n",
       "      <th>messages_count_5_month</th>\n",
       "      <th>messages_count_6_month</th>\n",
       "      <th>messages_count_7_month</th>\n",
       "      <th>messages_count_8_month</th>\n",
       "      <th>messages_count_9_month</th>\n",
       "      <th>messages_count_10_month</th>\n",
       "      <th>messages_count_11_month</th>\n",
       "      <th>messages_count_12_month</th>\n",
       "      <th>internet_sum_1_month</th>\n",
       "      <th>internet_sum_2_month</th>\n",
       "      <th>internet_sum_3_month</th>\n",
       "      <th>internet_sum_4_month</th>\n",
       "      <th>internet_sum_5_month</th>\n",
       "      <th>internet_sum_6_month</th>\n",
       "      <th>internet_sum_7_month</th>\n",
       "      <th>internet_sum_8_month</th>\n",
       "      <th>internet_sum_9_month</th>\n",
       "      <th>internet_sum_10_month</th>\n",
       "      <th>internet_sum_11_month</th>\n",
       "      <th>internet_sum_12_month</th>\n",
       "    </tr>\n",
       "  </thead>\n",
       "  <tbody>\n",
       "    <tr>\n",
       "      <th>0</th>\n",
       "      <td>1000</td>\n",
       "      <td>52</td>\n",
       "      <td>NaT</td>\n",
       "      <td>Краснодар</td>\n",
       "      <td>Рафаил</td>\n",
       "      <td>Верещагин</td>\n",
       "      <td>2018-05-25</td>\n",
       "      <td>ultra</td>\n",
       "      <td>1000</td>\n",
       "      <td>30720</td>\n",
       "      <td>3000</td>\n",
       "      <td>1950</td>\n",
       "      <td>150</td>\n",
       "      <td>1</td>\n",
       "      <td>1</td>\n",
       "      <td>30.0</td>\n",
       "      <td>NaN</td>\n",
       "      <td>NaN</td>\n",
       "      <td>NaN</td>\n",
       "      <td>NaN</td>\n",
       "      <td>22.0</td>\n",
       "      <td>43.0</td>\n",
       "      <td>47.0</td>\n",
       "      <td>52.0</td>\n",
       "      <td>58.0</td>\n",
       "      <td>57.0</td>\n",
       "      <td>43.0</td>\n",
       "      <td>46.0</td>\n",
       "      <td>NaN</td>\n",
       "      <td>NaN</td>\n",
       "      <td>NaN</td>\n",
       "      <td>NaN</td>\n",
       "      <td>159.0</td>\n",
       "      <td>172.0</td>\n",
       "      <td>340.0</td>\n",
       "      <td>408.0</td>\n",
       "      <td>466.0</td>\n",
       "      <td>350.0</td>\n",
       "      <td>338.0</td>\n",
       "      <td>333.0</td>\n",
       "      <td>NaN</td>\n",
       "      <td>NaN</td>\n",
       "      <td>NaN</td>\n",
       "      <td>NaN</td>\n",
       "      <td>22.0</td>\n",
       "      <td>60.0</td>\n",
       "      <td>75.0</td>\n",
       "      <td>81.0</td>\n",
       "      <td>57.0</td>\n",
       "      <td>73.0</td>\n",
       "      <td>58.0</td>\n",
       "      <td>70.0</td>\n",
       "      <td>NaN</td>\n",
       "      <td>NaN</td>\n",
       "      <td>NaN</td>\n",
       "      <td>NaN</td>\n",
       "      <td>3.0</td>\n",
       "      <td>23.0</td>\n",
       "      <td>14.0</td>\n",
       "      <td>14.0</td>\n",
       "      <td>15.0</td>\n",
       "      <td>15.0</td>\n",
       "      <td>15.0</td>\n",
       "      <td>10.0</td>\n",
       "    </tr>\n",
       "    <tr>\n",
       "      <th>1</th>\n",
       "      <td>1001</td>\n",
       "      <td>41</td>\n",
       "      <td>NaT</td>\n",
       "      <td>Москва</td>\n",
       "      <td>Иван</td>\n",
       "      <td>Ежов</td>\n",
       "      <td>2018-11-01</td>\n",
       "      <td>smart</td>\n",
       "      <td>50</td>\n",
       "      <td>15360</td>\n",
       "      <td>500</td>\n",
       "      <td>550</td>\n",
       "      <td>200</td>\n",
       "      <td>3</td>\n",
       "      <td>3</td>\n",
       "      <td>15.0</td>\n",
       "      <td>NaN</td>\n",
       "      <td>NaN</td>\n",
       "      <td>NaN</td>\n",
       "      <td>NaN</td>\n",
       "      <td>NaN</td>\n",
       "      <td>NaN</td>\n",
       "      <td>NaN</td>\n",
       "      <td>NaN</td>\n",
       "      <td>NaN</td>\n",
       "      <td>NaN</td>\n",
       "      <td>59.0</td>\n",
       "      <td>63.0</td>\n",
       "      <td>NaN</td>\n",
       "      <td>NaN</td>\n",
       "      <td>NaN</td>\n",
       "      <td>NaN</td>\n",
       "      <td>NaN</td>\n",
       "      <td>NaN</td>\n",
       "      <td>NaN</td>\n",
       "      <td>NaN</td>\n",
       "      <td>NaN</td>\n",
       "      <td>NaN</td>\n",
       "      <td>430.0</td>\n",
       "      <td>414.0</td>\n",
       "      <td>NaN</td>\n",
       "      <td>NaN</td>\n",
       "      <td>NaN</td>\n",
       "      <td>NaN</td>\n",
       "      <td>NaN</td>\n",
       "      <td>NaN</td>\n",
       "      <td>NaN</td>\n",
       "      <td>NaN</td>\n",
       "      <td>NaN</td>\n",
       "      <td>NaN</td>\n",
       "      <td>NaN</td>\n",
       "      <td>NaN</td>\n",
       "      <td>NaN</td>\n",
       "      <td>NaN</td>\n",
       "      <td>NaN</td>\n",
       "      <td>NaN</td>\n",
       "      <td>NaN</td>\n",
       "      <td>NaN</td>\n",
       "      <td>NaN</td>\n",
       "      <td>NaN</td>\n",
       "      <td>NaN</td>\n",
       "      <td>NaN</td>\n",
       "      <td>18.0</td>\n",
       "      <td>14.0</td>\n",
       "    </tr>\n",
       "    <tr>\n",
       "      <th>2</th>\n",
       "      <td>1002</td>\n",
       "      <td>59</td>\n",
       "      <td>NaT</td>\n",
       "      <td>Стерлитамак</td>\n",
       "      <td>Евгений</td>\n",
       "      <td>Абрамович</td>\n",
       "      <td>2018-06-17</td>\n",
       "      <td>smart</td>\n",
       "      <td>50</td>\n",
       "      <td>15360</td>\n",
       "      <td>500</td>\n",
       "      <td>550</td>\n",
       "      <td>200</td>\n",
       "      <td>3</td>\n",
       "      <td>3</td>\n",
       "      <td>15.0</td>\n",
       "      <td>NaN</td>\n",
       "      <td>NaN</td>\n",
       "      <td>NaN</td>\n",
       "      <td>NaN</td>\n",
       "      <td>NaN</td>\n",
       "      <td>15.0</td>\n",
       "      <td>26.0</td>\n",
       "      <td>42.0</td>\n",
       "      <td>36.0</td>\n",
       "      <td>33.0</td>\n",
       "      <td>32.0</td>\n",
       "      <td>33.0</td>\n",
       "      <td>NaN</td>\n",
       "      <td>NaN</td>\n",
       "      <td>NaN</td>\n",
       "      <td>NaN</td>\n",
       "      <td>NaN</td>\n",
       "      <td>117.0</td>\n",
       "      <td>214.0</td>\n",
       "      <td>289.0</td>\n",
       "      <td>206.0</td>\n",
       "      <td>212.0</td>\n",
       "      <td>243.0</td>\n",
       "      <td>236.0</td>\n",
       "      <td>NaN</td>\n",
       "      <td>NaN</td>\n",
       "      <td>NaN</td>\n",
       "      <td>NaN</td>\n",
       "      <td>NaN</td>\n",
       "      <td>4.0</td>\n",
       "      <td>11.0</td>\n",
       "      <td>13.0</td>\n",
       "      <td>4.0</td>\n",
       "      <td>10.0</td>\n",
       "      <td>16.0</td>\n",
       "      <td>12.0</td>\n",
       "      <td>NaN</td>\n",
       "      <td>NaN</td>\n",
       "      <td>NaN</td>\n",
       "      <td>NaN</td>\n",
       "      <td>NaN</td>\n",
       "      <td>11.0</td>\n",
       "      <td>18.0</td>\n",
       "      <td>20.0</td>\n",
       "      <td>17.0</td>\n",
       "      <td>14.0</td>\n",
       "      <td>19.0</td>\n",
       "      <td>18.0</td>\n",
       "    </tr>\n",
       "    <tr>\n",
       "      <th>3</th>\n",
       "      <td>1003</td>\n",
       "      <td>23</td>\n",
       "      <td>NaT</td>\n",
       "      <td>Москва</td>\n",
       "      <td>Белла</td>\n",
       "      <td>Белякова</td>\n",
       "      <td>2018-08-17</td>\n",
       "      <td>ultra</td>\n",
       "      <td>1000</td>\n",
       "      <td>30720</td>\n",
       "      <td>3000</td>\n",
       "      <td>1950</td>\n",
       "      <td>150</td>\n",
       "      <td>1</td>\n",
       "      <td>1</td>\n",
       "      <td>30.0</td>\n",
       "      <td>NaN</td>\n",
       "      <td>NaN</td>\n",
       "      <td>NaN</td>\n",
       "      <td>NaN</td>\n",
       "      <td>NaN</td>\n",
       "      <td>NaN</td>\n",
       "      <td>NaN</td>\n",
       "      <td>55.0</td>\n",
       "      <td>134.0</td>\n",
       "      <td>108.0</td>\n",
       "      <td>115.0</td>\n",
       "      <td>108.0</td>\n",
       "      <td>NaN</td>\n",
       "      <td>NaN</td>\n",
       "      <td>NaN</td>\n",
       "      <td>NaN</td>\n",
       "      <td>NaN</td>\n",
       "      <td>NaN</td>\n",
       "      <td>NaN</td>\n",
       "      <td>380.0</td>\n",
       "      <td>961.0</td>\n",
       "      <td>855.0</td>\n",
       "      <td>824.0</td>\n",
       "      <td>802.0</td>\n",
       "      <td>NaN</td>\n",
       "      <td>NaN</td>\n",
       "      <td>NaN</td>\n",
       "      <td>NaN</td>\n",
       "      <td>NaN</td>\n",
       "      <td>NaN</td>\n",
       "      <td>NaN</td>\n",
       "      <td>37.0</td>\n",
       "      <td>91.0</td>\n",
       "      <td>83.0</td>\n",
       "      <td>94.0</td>\n",
       "      <td>75.0</td>\n",
       "      <td>NaN</td>\n",
       "      <td>NaN</td>\n",
       "      <td>NaN</td>\n",
       "      <td>NaN</td>\n",
       "      <td>NaN</td>\n",
       "      <td>NaN</td>\n",
       "      <td>NaN</td>\n",
       "      <td>9.0</td>\n",
       "      <td>13.0</td>\n",
       "      <td>15.0</td>\n",
       "      <td>12.0</td>\n",
       "      <td>10.0</td>\n",
       "    </tr>\n",
       "    <tr>\n",
       "      <th>4</th>\n",
       "      <td>1004</td>\n",
       "      <td>68</td>\n",
       "      <td>NaT</td>\n",
       "      <td>Новокузнецк</td>\n",
       "      <td>Татьяна</td>\n",
       "      <td>Авдеенко</td>\n",
       "      <td>2018-05-14</td>\n",
       "      <td>ultra</td>\n",
       "      <td>1000</td>\n",
       "      <td>30720</td>\n",
       "      <td>3000</td>\n",
       "      <td>1950</td>\n",
       "      <td>150</td>\n",
       "      <td>1</td>\n",
       "      <td>1</td>\n",
       "      <td>30.0</td>\n",
       "      <td>NaN</td>\n",
       "      <td>NaN</td>\n",
       "      <td>NaN</td>\n",
       "      <td>NaN</td>\n",
       "      <td>9.0</td>\n",
       "      <td>31.0</td>\n",
       "      <td>22.0</td>\n",
       "      <td>19.0</td>\n",
       "      <td>26.0</td>\n",
       "      <td>29.0</td>\n",
       "      <td>19.0</td>\n",
       "      <td>21.0</td>\n",
       "      <td>NaN</td>\n",
       "      <td>NaN</td>\n",
       "      <td>NaN</td>\n",
       "      <td>NaN</td>\n",
       "      <td>35.0</td>\n",
       "      <td>171.0</td>\n",
       "      <td>135.0</td>\n",
       "      <td>137.0</td>\n",
       "      <td>117.0</td>\n",
       "      <td>145.0</td>\n",
       "      <td>117.0</td>\n",
       "      <td>130.0</td>\n",
       "      <td>NaN</td>\n",
       "      <td>NaN</td>\n",
       "      <td>NaN</td>\n",
       "      <td>NaN</td>\n",
       "      <td>95.0</td>\n",
       "      <td>134.0</td>\n",
       "      <td>181.0</td>\n",
       "      <td>151.0</td>\n",
       "      <td>146.0</td>\n",
       "      <td>165.0</td>\n",
       "      <td>158.0</td>\n",
       "      <td>162.0</td>\n",
       "      <td>NaN</td>\n",
       "      <td>NaN</td>\n",
       "      <td>NaN</td>\n",
       "      <td>NaN</td>\n",
       "      <td>14.0</td>\n",
       "      <td>18.0</td>\n",
       "      <td>22.0</td>\n",
       "      <td>28.0</td>\n",
       "      <td>15.0</td>\n",
       "      <td>19.0</td>\n",
       "      <td>16.0</td>\n",
       "      <td>18.0</td>\n",
       "    </tr>\n",
       "    <tr>\n",
       "      <th>...</th>\n",
       "      <td>...</td>\n",
       "      <td>...</td>\n",
       "      <td>...</td>\n",
       "      <td>...</td>\n",
       "      <td>...</td>\n",
       "      <td>...</td>\n",
       "      <td>...</td>\n",
       "      <td>...</td>\n",
       "      <td>...</td>\n",
       "      <td>...</td>\n",
       "      <td>...</td>\n",
       "      <td>...</td>\n",
       "      <td>...</td>\n",
       "      <td>...</td>\n",
       "      <td>...</td>\n",
       "      <td>...</td>\n",
       "      <td>...</td>\n",
       "      <td>...</td>\n",
       "      <td>...</td>\n",
       "      <td>...</td>\n",
       "      <td>...</td>\n",
       "      <td>...</td>\n",
       "      <td>...</td>\n",
       "      <td>...</td>\n",
       "      <td>...</td>\n",
       "      <td>...</td>\n",
       "      <td>...</td>\n",
       "      <td>...</td>\n",
       "      <td>...</td>\n",
       "      <td>...</td>\n",
       "      <td>...</td>\n",
       "      <td>...</td>\n",
       "      <td>...</td>\n",
       "      <td>...</td>\n",
       "      <td>...</td>\n",
       "      <td>...</td>\n",
       "      <td>...</td>\n",
       "      <td>...</td>\n",
       "      <td>...</td>\n",
       "      <td>...</td>\n",
       "      <td>...</td>\n",
       "      <td>...</td>\n",
       "      <td>...</td>\n",
       "      <td>...</td>\n",
       "      <td>...</td>\n",
       "      <td>...</td>\n",
       "      <td>...</td>\n",
       "      <td>...</td>\n",
       "      <td>...</td>\n",
       "      <td>...</td>\n",
       "      <td>...</td>\n",
       "      <td>...</td>\n",
       "      <td>...</td>\n",
       "      <td>...</td>\n",
       "      <td>...</td>\n",
       "      <td>...</td>\n",
       "      <td>...</td>\n",
       "      <td>...</td>\n",
       "      <td>...</td>\n",
       "      <td>...</td>\n",
       "      <td>...</td>\n",
       "      <td>...</td>\n",
       "      <td>...</td>\n",
       "      <td>...</td>\n",
       "    </tr>\n",
       "    <tr>\n",
       "      <th>495</th>\n",
       "      <td>1495</td>\n",
       "      <td>65</td>\n",
       "      <td>NaT</td>\n",
       "      <td>Иркутск</td>\n",
       "      <td>Авксентий</td>\n",
       "      <td>Фокин</td>\n",
       "      <td>2018-08-28</td>\n",
       "      <td>ultra</td>\n",
       "      <td>1000</td>\n",
       "      <td>30720</td>\n",
       "      <td>3000</td>\n",
       "      <td>1950</td>\n",
       "      <td>150</td>\n",
       "      <td>1</td>\n",
       "      <td>1</td>\n",
       "      <td>30.0</td>\n",
       "      <td>NaN</td>\n",
       "      <td>NaN</td>\n",
       "      <td>NaN</td>\n",
       "      <td>NaN</td>\n",
       "      <td>NaN</td>\n",
       "      <td>NaN</td>\n",
       "      <td>NaN</td>\n",
       "      <td>17.0</td>\n",
       "      <td>112.0</td>\n",
       "      <td>152.0</td>\n",
       "      <td>129.0</td>\n",
       "      <td>155.0</td>\n",
       "      <td>NaN</td>\n",
       "      <td>NaN</td>\n",
       "      <td>NaN</td>\n",
       "      <td>NaN</td>\n",
       "      <td>NaN</td>\n",
       "      <td>NaN</td>\n",
       "      <td>NaN</td>\n",
       "      <td>92.0</td>\n",
       "      <td>813.0</td>\n",
       "      <td>1030.0</td>\n",
       "      <td>954.0</td>\n",
       "      <td>1031.0</td>\n",
       "      <td>NaN</td>\n",
       "      <td>NaN</td>\n",
       "      <td>NaN</td>\n",
       "      <td>NaN</td>\n",
       "      <td>NaN</td>\n",
       "      <td>NaN</td>\n",
       "      <td>NaN</td>\n",
       "      <td>13.0</td>\n",
       "      <td>82.0</td>\n",
       "      <td>82.0</td>\n",
       "      <td>79.0</td>\n",
       "      <td>84.0</td>\n",
       "      <td>NaN</td>\n",
       "      <td>NaN</td>\n",
       "      <td>NaN</td>\n",
       "      <td>NaN</td>\n",
       "      <td>NaN</td>\n",
       "      <td>NaN</td>\n",
       "      <td>NaN</td>\n",
       "      <td>3.0</td>\n",
       "      <td>33.0</td>\n",
       "      <td>29.0</td>\n",
       "      <td>39.0</td>\n",
       "      <td>23.0</td>\n",
       "    </tr>\n",
       "    <tr>\n",
       "      <th>496</th>\n",
       "      <td>1496</td>\n",
       "      <td>36</td>\n",
       "      <td>NaT</td>\n",
       "      <td>Вологда</td>\n",
       "      <td>Трифон</td>\n",
       "      <td>Блохин</td>\n",
       "      <td>2018-01-27</td>\n",
       "      <td>smart</td>\n",
       "      <td>50</td>\n",
       "      <td>15360</td>\n",
       "      <td>500</td>\n",
       "      <td>550</td>\n",
       "      <td>200</td>\n",
       "      <td>3</td>\n",
       "      <td>3</td>\n",
       "      <td>15.0</td>\n",
       "      <td>7.0</td>\n",
       "      <td>77.0</td>\n",
       "      <td>79.0</td>\n",
       "      <td>67.0</td>\n",
       "      <td>63.0</td>\n",
       "      <td>74.0</td>\n",
       "      <td>73.0</td>\n",
       "      <td>88.0</td>\n",
       "      <td>68.0</td>\n",
       "      <td>72.0</td>\n",
       "      <td>80.0</td>\n",
       "      <td>80.0</td>\n",
       "      <td>48.0</td>\n",
       "      <td>594.0</td>\n",
       "      <td>557.0</td>\n",
       "      <td>521.0</td>\n",
       "      <td>484.0</td>\n",
       "      <td>555.0</td>\n",
       "      <td>582.0</td>\n",
       "      <td>527.0</td>\n",
       "      <td>486.0</td>\n",
       "      <td>450.0</td>\n",
       "      <td>662.0</td>\n",
       "      <td>518.0</td>\n",
       "      <td>9.0</td>\n",
       "      <td>45.0</td>\n",
       "      <td>46.0</td>\n",
       "      <td>49.0</td>\n",
       "      <td>40.0</td>\n",
       "      <td>35.0</td>\n",
       "      <td>42.0</td>\n",
       "      <td>41.0</td>\n",
       "      <td>29.0</td>\n",
       "      <td>35.0</td>\n",
       "      <td>46.0</td>\n",
       "      <td>51.0</td>\n",
       "      <td>4.0</td>\n",
       "      <td>28.0</td>\n",
       "      <td>25.0</td>\n",
       "      <td>21.0</td>\n",
       "      <td>24.0</td>\n",
       "      <td>20.0</td>\n",
       "      <td>24.0</td>\n",
       "      <td>23.0</td>\n",
       "      <td>27.0</td>\n",
       "      <td>28.0</td>\n",
       "      <td>25.0</td>\n",
       "      <td>21.0</td>\n",
       "    </tr>\n",
       "    <tr>\n",
       "      <th>497</th>\n",
       "      <td>1497</td>\n",
       "      <td>32</td>\n",
       "      <td>NaT</td>\n",
       "      <td>Челябинск</td>\n",
       "      <td>Каролина</td>\n",
       "      <td>Агеева</td>\n",
       "      <td>2018-10-09</td>\n",
       "      <td>smart</td>\n",
       "      <td>50</td>\n",
       "      <td>15360</td>\n",
       "      <td>500</td>\n",
       "      <td>550</td>\n",
       "      <td>200</td>\n",
       "      <td>3</td>\n",
       "      <td>3</td>\n",
       "      <td>15.0</td>\n",
       "      <td>NaN</td>\n",
       "      <td>NaN</td>\n",
       "      <td>NaN</td>\n",
       "      <td>NaN</td>\n",
       "      <td>NaN</td>\n",
       "      <td>NaN</td>\n",
       "      <td>NaN</td>\n",
       "      <td>NaN</td>\n",
       "      <td>NaN</td>\n",
       "      <td>66.0</td>\n",
       "      <td>64.0</td>\n",
       "      <td>71.0</td>\n",
       "      <td>NaN</td>\n",
       "      <td>NaN</td>\n",
       "      <td>NaN</td>\n",
       "      <td>NaN</td>\n",
       "      <td>NaN</td>\n",
       "      <td>NaN</td>\n",
       "      <td>NaN</td>\n",
       "      <td>NaN</td>\n",
       "      <td>NaN</td>\n",
       "      <td>490.0</td>\n",
       "      <td>371.0</td>\n",
       "      <td>545.0</td>\n",
       "      <td>NaN</td>\n",
       "      <td>NaN</td>\n",
       "      <td>NaN</td>\n",
       "      <td>NaN</td>\n",
       "      <td>NaN</td>\n",
       "      <td>NaN</td>\n",
       "      <td>NaN</td>\n",
       "      <td>NaN</td>\n",
       "      <td>NaN</td>\n",
       "      <td>20.0</td>\n",
       "      <td>14.0</td>\n",
       "      <td>17.0</td>\n",
       "      <td>NaN</td>\n",
       "      <td>NaN</td>\n",
       "      <td>NaN</td>\n",
       "      <td>NaN</td>\n",
       "      <td>NaN</td>\n",
       "      <td>NaN</td>\n",
       "      <td>NaN</td>\n",
       "      <td>NaN</td>\n",
       "      <td>NaN</td>\n",
       "      <td>12.0</td>\n",
       "      <td>14.0</td>\n",
       "      <td>20.0</td>\n",
       "    </tr>\n",
       "    <tr>\n",
       "      <th>498</th>\n",
       "      <td>1498</td>\n",
       "      <td>68</td>\n",
       "      <td>2018-10-25</td>\n",
       "      <td>Владикавказ</td>\n",
       "      <td>Всеволод</td>\n",
       "      <td>Акимчин</td>\n",
       "      <td>2018-07-19</td>\n",
       "      <td>smart</td>\n",
       "      <td>50</td>\n",
       "      <td>15360</td>\n",
       "      <td>500</td>\n",
       "      <td>550</td>\n",
       "      <td>200</td>\n",
       "      <td>3</td>\n",
       "      <td>3</td>\n",
       "      <td>15.0</td>\n",
       "      <td>NaN</td>\n",
       "      <td>NaN</td>\n",
       "      <td>NaN</td>\n",
       "      <td>NaN</td>\n",
       "      <td>NaN</td>\n",
       "      <td>NaN</td>\n",
       "      <td>23.0</td>\n",
       "      <td>57.0</td>\n",
       "      <td>59.0</td>\n",
       "      <td>41.0</td>\n",
       "      <td>NaN</td>\n",
       "      <td>NaN</td>\n",
       "      <td>NaN</td>\n",
       "      <td>NaN</td>\n",
       "      <td>NaN</td>\n",
       "      <td>NaN</td>\n",
       "      <td>NaN</td>\n",
       "      <td>NaN</td>\n",
       "      <td>175.0</td>\n",
       "      <td>400.0</td>\n",
       "      <td>471.0</td>\n",
       "      <td>247.0</td>\n",
       "      <td>NaN</td>\n",
       "      <td>NaN</td>\n",
       "      <td>NaN</td>\n",
       "      <td>NaN</td>\n",
       "      <td>NaN</td>\n",
       "      <td>NaN</td>\n",
       "      <td>NaN</td>\n",
       "      <td>NaN</td>\n",
       "      <td>20.0</td>\n",
       "      <td>62.0</td>\n",
       "      <td>44.0</td>\n",
       "      <td>42.0</td>\n",
       "      <td>NaN</td>\n",
       "      <td>NaN</td>\n",
       "      <td>NaN</td>\n",
       "      <td>NaN</td>\n",
       "      <td>NaN</td>\n",
       "      <td>NaN</td>\n",
       "      <td>NaN</td>\n",
       "      <td>NaN</td>\n",
       "      <td>8.0</td>\n",
       "      <td>24.0</td>\n",
       "      <td>22.0</td>\n",
       "      <td>21.0</td>\n",
       "      <td>NaN</td>\n",
       "      <td>NaN</td>\n",
       "    </tr>\n",
       "    <tr>\n",
       "      <th>499</th>\n",
       "      <td>1499</td>\n",
       "      <td>35</td>\n",
       "      <td>NaT</td>\n",
       "      <td>Пермь</td>\n",
       "      <td>Гектор</td>\n",
       "      <td>Корнилов</td>\n",
       "      <td>2018-09-27</td>\n",
       "      <td>smart</td>\n",
       "      <td>50</td>\n",
       "      <td>15360</td>\n",
       "      <td>500</td>\n",
       "      <td>550</td>\n",
       "      <td>200</td>\n",
       "      <td>3</td>\n",
       "      <td>3</td>\n",
       "      <td>15.0</td>\n",
       "      <td>NaN</td>\n",
       "      <td>NaN</td>\n",
       "      <td>NaN</td>\n",
       "      <td>NaN</td>\n",
       "      <td>NaN</td>\n",
       "      <td>NaN</td>\n",
       "      <td>NaN</td>\n",
       "      <td>NaN</td>\n",
       "      <td>9.0</td>\n",
       "      <td>68.0</td>\n",
       "      <td>74.0</td>\n",
       "      <td>69.0</td>\n",
       "      <td>NaN</td>\n",
       "      <td>NaN</td>\n",
       "      <td>NaN</td>\n",
       "      <td>NaN</td>\n",
       "      <td>NaN</td>\n",
       "      <td>NaN</td>\n",
       "      <td>NaN</td>\n",
       "      <td>NaN</td>\n",
       "      <td>70.0</td>\n",
       "      <td>449.0</td>\n",
       "      <td>612.0</td>\n",
       "      <td>492.0</td>\n",
       "      <td>NaN</td>\n",
       "      <td>NaN</td>\n",
       "      <td>NaN</td>\n",
       "      <td>NaN</td>\n",
       "      <td>NaN</td>\n",
       "      <td>NaN</td>\n",
       "      <td>NaN</td>\n",
       "      <td>NaN</td>\n",
       "      <td>11.0</td>\n",
       "      <td>48.0</td>\n",
       "      <td>59.0</td>\n",
       "      <td>66.0</td>\n",
       "      <td>NaN</td>\n",
       "      <td>NaN</td>\n",
       "      <td>NaN</td>\n",
       "      <td>NaN</td>\n",
       "      <td>NaN</td>\n",
       "      <td>NaN</td>\n",
       "      <td>NaN</td>\n",
       "      <td>NaN</td>\n",
       "      <td>2.0</td>\n",
       "      <td>18.0</td>\n",
       "      <td>18.0</td>\n",
       "      <td>13.0</td>\n",
       "    </tr>\n",
       "  </tbody>\n",
       "</table>\n",
       "<p>500 rows × 64 columns</p>\n",
       "</div>"
      ],
      "text/plain": [
       "     user_id  age churn_date         city first_name  last_name   reg_date  \\\n",
       "0       1000   52        NaT    Краснодар     Рафаил  Верещагин 2018-05-25   \n",
       "1       1001   41        NaT       Москва       Иван       Ежов 2018-11-01   \n",
       "2       1002   59        NaT  Стерлитамак    Евгений  Абрамович 2018-06-17   \n",
       "3       1003   23        NaT       Москва      Белла   Белякова 2018-08-17   \n",
       "4       1004   68        NaT  Новокузнецк    Татьяна   Авдеенко 2018-05-14   \n",
       "..       ...  ...        ...          ...        ...        ...        ...   \n",
       "495     1495   65        NaT      Иркутск  Авксентий      Фокин 2018-08-28   \n",
       "496     1496   36        NaT      Вологда     Трифон     Блохин 2018-01-27   \n",
       "497     1497   32        NaT    Челябинск   Каролина     Агеева 2018-10-09   \n",
       "498     1498   68 2018-10-25  Владикавказ   Всеволод    Акимчин 2018-07-19   \n",
       "499     1499   35        NaT        Пермь     Гектор   Корнилов 2018-09-27   \n",
       "\n",
       "    tariff  messages_included  mb_per_month_included  minutes_included  \\\n",
       "0    ultra               1000                  30720              3000   \n",
       "1    smart                 50                  15360               500   \n",
       "2    smart                 50                  15360               500   \n",
       "3    ultra               1000                  30720              3000   \n",
       "4    ultra               1000                  30720              3000   \n",
       "..     ...                ...                    ...               ...   \n",
       "495  ultra               1000                  30720              3000   \n",
       "496  smart                 50                  15360               500   \n",
       "497  smart                 50                  15360               500   \n",
       "498  smart                 50                  15360               500   \n",
       "499  smart                 50                  15360               500   \n",
       "\n",
       "     rub_monthly_fee  rub_per_gb  rub_per_message  rub_per_minute  \\\n",
       "0               1950         150                1               1   \n",
       "1                550         200                3               3   \n",
       "2                550         200                3               3   \n",
       "3               1950         150                1               1   \n",
       "4               1950         150                1               1   \n",
       "..               ...         ...              ...             ...   \n",
       "495             1950         150                1               1   \n",
       "496              550         200                3               3   \n",
       "497              550         200                3               3   \n",
       "498              550         200                3               3   \n",
       "499              550         200                3               3   \n",
       "\n",
       "     gb_per_month_included  calls_count_1_month  calls_count_2_month  \\\n",
       "0                     30.0                  NaN                  NaN   \n",
       "1                     15.0                  NaN                  NaN   \n",
       "2                     15.0                  NaN                  NaN   \n",
       "3                     30.0                  NaN                  NaN   \n",
       "4                     30.0                  NaN                  NaN   \n",
       "..                     ...                  ...                  ...   \n",
       "495                   30.0                  NaN                  NaN   \n",
       "496                   15.0                  7.0                 77.0   \n",
       "497                   15.0                  NaN                  NaN   \n",
       "498                   15.0                  NaN                  NaN   \n",
       "499                   15.0                  NaN                  NaN   \n",
       "\n",
       "     calls_count_3_month  calls_count_4_month  calls_count_5_month  \\\n",
       "0                    NaN                  NaN                 22.0   \n",
       "1                    NaN                  NaN                  NaN   \n",
       "2                    NaN                  NaN                  NaN   \n",
       "3                    NaN                  NaN                  NaN   \n",
       "4                    NaN                  NaN                  9.0   \n",
       "..                   ...                  ...                  ...   \n",
       "495                  NaN                  NaN                  NaN   \n",
       "496                 79.0                 67.0                 63.0   \n",
       "497                  NaN                  NaN                  NaN   \n",
       "498                  NaN                  NaN                  NaN   \n",
       "499                  NaN                  NaN                  NaN   \n",
       "\n",
       "     calls_count_6_month  calls_count_7_month  calls_count_8_month  \\\n",
       "0                   43.0                 47.0                 52.0   \n",
       "1                    NaN                  NaN                  NaN   \n",
       "2                   15.0                 26.0                 42.0   \n",
       "3                    NaN                  NaN                 55.0   \n",
       "4                   31.0                 22.0                 19.0   \n",
       "..                   ...                  ...                  ...   \n",
       "495                  NaN                  NaN                 17.0   \n",
       "496                 74.0                 73.0                 88.0   \n",
       "497                  NaN                  NaN                  NaN   \n",
       "498                  NaN                 23.0                 57.0   \n",
       "499                  NaN                  NaN                  NaN   \n",
       "\n",
       "     calls_count_9_month  calls_count_10_month  calls_count_11_month  \\\n",
       "0                   58.0                  57.0                  43.0   \n",
       "1                    NaN                   NaN                  59.0   \n",
       "2                   36.0                  33.0                  32.0   \n",
       "3                  134.0                 108.0                 115.0   \n",
       "4                   26.0                  29.0                  19.0   \n",
       "..                   ...                   ...                   ...   \n",
       "495                112.0                 152.0                 129.0   \n",
       "496                 68.0                  72.0                  80.0   \n",
       "497                  NaN                  66.0                  64.0   \n",
       "498                 59.0                  41.0                   NaN   \n",
       "499                  9.0                  68.0                  74.0   \n",
       "\n",
       "     calls_count_12_month  calls_sum_1_month  calls_sum_2_month  \\\n",
       "0                    46.0                NaN                NaN   \n",
       "1                    63.0                NaN                NaN   \n",
       "2                    33.0                NaN                NaN   \n",
       "3                   108.0                NaN                NaN   \n",
       "4                    21.0                NaN                NaN   \n",
       "..                    ...                ...                ...   \n",
       "495                 155.0                NaN                NaN   \n",
       "496                  80.0               48.0              594.0   \n",
       "497                  71.0                NaN                NaN   \n",
       "498                   NaN                NaN                NaN   \n",
       "499                  69.0                NaN                NaN   \n",
       "\n",
       "     calls_sum_3_month  calls_sum_4_month  calls_sum_5_month  \\\n",
       "0                  NaN                NaN              159.0   \n",
       "1                  NaN                NaN                NaN   \n",
       "2                  NaN                NaN                NaN   \n",
       "3                  NaN                NaN                NaN   \n",
       "4                  NaN                NaN               35.0   \n",
       "..                 ...                ...                ...   \n",
       "495                NaN                NaN                NaN   \n",
       "496              557.0              521.0              484.0   \n",
       "497                NaN                NaN                NaN   \n",
       "498                NaN                NaN                NaN   \n",
       "499                NaN                NaN                NaN   \n",
       "\n",
       "     calls_sum_6_month  calls_sum_7_month  calls_sum_8_month  \\\n",
       "0                172.0              340.0              408.0   \n",
       "1                  NaN                NaN                NaN   \n",
       "2                117.0              214.0              289.0   \n",
       "3                  NaN                NaN              380.0   \n",
       "4                171.0              135.0              137.0   \n",
       "..                 ...                ...                ...   \n",
       "495                NaN                NaN               92.0   \n",
       "496              555.0              582.0              527.0   \n",
       "497                NaN                NaN                NaN   \n",
       "498                NaN              175.0              400.0   \n",
       "499                NaN                NaN                NaN   \n",
       "\n",
       "     calls_sum_9_month  calls_sum_10_month  calls_sum_11_month  \\\n",
       "0                466.0               350.0               338.0   \n",
       "1                  NaN                 NaN               430.0   \n",
       "2                206.0               212.0               243.0   \n",
       "3                961.0               855.0               824.0   \n",
       "4                117.0               145.0               117.0   \n",
       "..                 ...                 ...                 ...   \n",
       "495              813.0              1030.0               954.0   \n",
       "496              486.0               450.0               662.0   \n",
       "497                NaN               490.0               371.0   \n",
       "498              471.0               247.0                 NaN   \n",
       "499               70.0               449.0               612.0   \n",
       "\n",
       "     calls_sum_12_month  messages_count_1_month  messages_count_2_month  \\\n",
       "0                 333.0                     NaN                     NaN   \n",
       "1                 414.0                     NaN                     NaN   \n",
       "2                 236.0                     NaN                     NaN   \n",
       "3                 802.0                     NaN                     NaN   \n",
       "4                 130.0                     NaN                     NaN   \n",
       "..                  ...                     ...                     ...   \n",
       "495              1031.0                     NaN                     NaN   \n",
       "496               518.0                     9.0                    45.0   \n",
       "497               545.0                     NaN                     NaN   \n",
       "498                 NaN                     NaN                     NaN   \n",
       "499               492.0                     NaN                     NaN   \n",
       "\n",
       "     messages_count_3_month  messages_count_4_month  messages_count_5_month  \\\n",
       "0                       NaN                     NaN                    22.0   \n",
       "1                       NaN                     NaN                     NaN   \n",
       "2                       NaN                     NaN                     NaN   \n",
       "3                       NaN                     NaN                     NaN   \n",
       "4                       NaN                     NaN                    95.0   \n",
       "..                      ...                     ...                     ...   \n",
       "495                     NaN                     NaN                     NaN   \n",
       "496                    46.0                    49.0                    40.0   \n",
       "497                     NaN                     NaN                     NaN   \n",
       "498                     NaN                     NaN                     NaN   \n",
       "499                     NaN                     NaN                     NaN   \n",
       "\n",
       "     messages_count_6_month  messages_count_7_month  messages_count_8_month  \\\n",
       "0                      60.0                    75.0                    81.0   \n",
       "1                       NaN                     NaN                     NaN   \n",
       "2                       4.0                    11.0                    13.0   \n",
       "3                       NaN                     NaN                    37.0   \n",
       "4                     134.0                   181.0                   151.0   \n",
       "..                      ...                     ...                     ...   \n",
       "495                     NaN                     NaN                    13.0   \n",
       "496                    35.0                    42.0                    41.0   \n",
       "497                     NaN                     NaN                     NaN   \n",
       "498                     NaN                    20.0                    62.0   \n",
       "499                     NaN                     NaN                     NaN   \n",
       "\n",
       "     messages_count_9_month  messages_count_10_month  messages_count_11_month  \\\n",
       "0                      57.0                     73.0                     58.0   \n",
       "1                       NaN                      NaN                      NaN   \n",
       "2                       4.0                     10.0                     16.0   \n",
       "3                      91.0                     83.0                     94.0   \n",
       "4                     146.0                    165.0                    158.0   \n",
       "..                      ...                      ...                      ...   \n",
       "495                    82.0                     82.0                     79.0   \n",
       "496                    29.0                     35.0                     46.0   \n",
       "497                     NaN                     20.0                     14.0   \n",
       "498                    44.0                     42.0                      NaN   \n",
       "499                    11.0                     48.0                     59.0   \n",
       "\n",
       "     messages_count_12_month  internet_sum_1_month  internet_sum_2_month  \\\n",
       "0                       70.0                   NaN                   NaN   \n",
       "1                        NaN                   NaN                   NaN   \n",
       "2                       12.0                   NaN                   NaN   \n",
       "3                       75.0                   NaN                   NaN   \n",
       "4                      162.0                   NaN                   NaN   \n",
       "..                       ...                   ...                   ...   \n",
       "495                     84.0                   NaN                   NaN   \n",
       "496                     51.0                   4.0                  28.0   \n",
       "497                     17.0                   NaN                   NaN   \n",
       "498                      NaN                   NaN                   NaN   \n",
       "499                     66.0                   NaN                   NaN   \n",
       "\n",
       "     internet_sum_3_month  internet_sum_4_month  internet_sum_5_month  \\\n",
       "0                     NaN                   NaN                   3.0   \n",
       "1                     NaN                   NaN                   NaN   \n",
       "2                     NaN                   NaN                   NaN   \n",
       "3                     NaN                   NaN                   NaN   \n",
       "4                     NaN                   NaN                  14.0   \n",
       "..                    ...                   ...                   ...   \n",
       "495                   NaN                   NaN                   NaN   \n",
       "496                  25.0                  21.0                  24.0   \n",
       "497                   NaN                   NaN                   NaN   \n",
       "498                   NaN                   NaN                   NaN   \n",
       "499                   NaN                   NaN                   NaN   \n",
       "\n",
       "     internet_sum_6_month  internet_sum_7_month  internet_sum_8_month  \\\n",
       "0                    23.0                  14.0                  14.0   \n",
       "1                     NaN                   NaN                   NaN   \n",
       "2                    11.0                  18.0                  20.0   \n",
       "3                     NaN                   NaN                   9.0   \n",
       "4                    18.0                  22.0                  28.0   \n",
       "..                    ...                   ...                   ...   \n",
       "495                   NaN                   NaN                   3.0   \n",
       "496                  20.0                  24.0                  23.0   \n",
       "497                   NaN                   NaN                   NaN   \n",
       "498                   NaN                   8.0                  24.0   \n",
       "499                   NaN                   NaN                   NaN   \n",
       "\n",
       "     internet_sum_9_month  internet_sum_10_month  internet_sum_11_month  \\\n",
       "0                    15.0                   15.0                   15.0   \n",
       "1                     NaN                    NaN                   18.0   \n",
       "2                    17.0                   14.0                   19.0   \n",
       "3                    13.0                   15.0                   12.0   \n",
       "4                    15.0                   19.0                   16.0   \n",
       "..                    ...                    ...                    ...   \n",
       "495                  33.0                   29.0                   39.0   \n",
       "496                  27.0                   28.0                   25.0   \n",
       "497                   NaN                   12.0                   14.0   \n",
       "498                  22.0                   21.0                    NaN   \n",
       "499                   2.0                   18.0                   18.0   \n",
       "\n",
       "     internet_sum_12_month  \n",
       "0                     10.0  \n",
       "1                     14.0  \n",
       "2                     18.0  \n",
       "3                     10.0  \n",
       "4                     18.0  \n",
       "..                     ...  \n",
       "495                   23.0  \n",
       "496                   21.0  \n",
       "497                   20.0  \n",
       "498                    NaN  \n",
       "499                   13.0  \n",
       "\n",
       "[500 rows x 64 columns]"
      ]
     },
     "execution_count": 30,
     "metadata": {},
     "output_type": "execute_result"
    }
   ],
   "source": [
    "df = df_users.merge(df_tariffs, how='left', on='tariff')\n",
    "df = df.merge(df_calls_pivot, how='left', on='user_id')\n",
    "df = df.merge(df_messages_pivot, how='left', on='user_id')\n",
    "df = df.merge(df_internet_pivot, how='left', on='user_id')\n",
    "\n",
    "df"
   ]
  },
  {
   "cell_type": "markdown",
   "metadata": {},
   "source": [
    "В итоге мы получили таблицу на 64 столбца и 500 строк."
   ]
  },
  {
   "cell_type": "code",
   "execution_count": 31,
   "metadata": {},
   "outputs": [
    {
     "data": {
      "text/html": [
       "<div>\n",
       "<style scoped>\n",
       "    .dataframe tbody tr th:only-of-type {\n",
       "        vertical-align: middle;\n",
       "    }\n",
       "\n",
       "    .dataframe tbody tr th {\n",
       "        vertical-align: top;\n",
       "    }\n",
       "\n",
       "    .dataframe thead th {\n",
       "        text-align: right;\n",
       "    }\n",
       "</style>\n",
       "<table border=\"1\" class=\"dataframe\">\n",
       "  <thead>\n",
       "    <tr style=\"text-align: right;\">\n",
       "      <th></th>\n",
       "      <th>user_id</th>\n",
       "      <th>age</th>\n",
       "      <th>churn_date</th>\n",
       "      <th>city</th>\n",
       "      <th>first_name</th>\n",
       "      <th>last_name</th>\n",
       "      <th>reg_date</th>\n",
       "      <th>tariff</th>\n",
       "      <th>messages_included</th>\n",
       "      <th>mb_per_month_included</th>\n",
       "      <th>minutes_included</th>\n",
       "      <th>rub_monthly_fee</th>\n",
       "      <th>rub_per_gb</th>\n",
       "      <th>rub_per_message</th>\n",
       "      <th>rub_per_minute</th>\n",
       "      <th>gb_per_month_included</th>\n",
       "      <th>calls_count_1_month</th>\n",
       "      <th>calls_count_2_month</th>\n",
       "      <th>calls_count_3_month</th>\n",
       "      <th>calls_count_4_month</th>\n",
       "      <th>calls_count_5_month</th>\n",
       "      <th>calls_count_6_month</th>\n",
       "      <th>calls_count_7_month</th>\n",
       "      <th>calls_count_8_month</th>\n",
       "      <th>calls_count_9_month</th>\n",
       "      <th>calls_count_10_month</th>\n",
       "      <th>calls_count_11_month</th>\n",
       "      <th>calls_count_12_month</th>\n",
       "      <th>calls_sum_1_month</th>\n",
       "      <th>calls_sum_2_month</th>\n",
       "      <th>calls_sum_3_month</th>\n",
       "      <th>calls_sum_4_month</th>\n",
       "      <th>calls_sum_5_month</th>\n",
       "      <th>calls_sum_6_month</th>\n",
       "      <th>calls_sum_7_month</th>\n",
       "      <th>calls_sum_8_month</th>\n",
       "      <th>calls_sum_9_month</th>\n",
       "      <th>calls_sum_10_month</th>\n",
       "      <th>calls_sum_11_month</th>\n",
       "      <th>calls_sum_12_month</th>\n",
       "      <th>messages_count_1_month</th>\n",
       "      <th>messages_count_2_month</th>\n",
       "      <th>messages_count_3_month</th>\n",
       "      <th>messages_count_4_month</th>\n",
       "      <th>messages_count_5_month</th>\n",
       "      <th>messages_count_6_month</th>\n",
       "      <th>messages_count_7_month</th>\n",
       "      <th>messages_count_8_month</th>\n",
       "      <th>messages_count_9_month</th>\n",
       "      <th>messages_count_10_month</th>\n",
       "      <th>messages_count_11_month</th>\n",
       "      <th>messages_count_12_month</th>\n",
       "      <th>internet_sum_1_month</th>\n",
       "      <th>internet_sum_2_month</th>\n",
       "      <th>internet_sum_3_month</th>\n",
       "      <th>internet_sum_4_month</th>\n",
       "      <th>internet_sum_5_month</th>\n",
       "      <th>internet_sum_6_month</th>\n",
       "      <th>internet_sum_7_month</th>\n",
       "      <th>internet_sum_8_month</th>\n",
       "      <th>internet_sum_9_month</th>\n",
       "      <th>internet_sum_10_month</th>\n",
       "      <th>internet_sum_11_month</th>\n",
       "      <th>internet_sum_12_month</th>\n",
       "      <th>revenue_1_month</th>\n",
       "      <th>revenue_2_month</th>\n",
       "      <th>revenue_3_month</th>\n",
       "      <th>revenue_4_month</th>\n",
       "      <th>revenue_5_month</th>\n",
       "      <th>revenue_6_month</th>\n",
       "      <th>revenue_7_month</th>\n",
       "      <th>revenue_8_month</th>\n",
       "      <th>revenue_9_month</th>\n",
       "      <th>revenue_10_month</th>\n",
       "      <th>revenue_11_month</th>\n",
       "      <th>revenue_12_month</th>\n",
       "    </tr>\n",
       "  </thead>\n",
       "  <tbody>\n",
       "    <tr>\n",
       "      <th>0</th>\n",
       "      <td>1000</td>\n",
       "      <td>52</td>\n",
       "      <td>NaT</td>\n",
       "      <td>Краснодар</td>\n",
       "      <td>Рафаил</td>\n",
       "      <td>Верещагин</td>\n",
       "      <td>2018-05-25</td>\n",
       "      <td>ultra</td>\n",
       "      <td>1000</td>\n",
       "      <td>30720</td>\n",
       "      <td>3000</td>\n",
       "      <td>1950</td>\n",
       "      <td>150</td>\n",
       "      <td>1</td>\n",
       "      <td>1</td>\n",
       "      <td>30.0</td>\n",
       "      <td>NaN</td>\n",
       "      <td>NaN</td>\n",
       "      <td>NaN</td>\n",
       "      <td>NaN</td>\n",
       "      <td>22.0</td>\n",
       "      <td>43.0</td>\n",
       "      <td>47.0</td>\n",
       "      <td>52.0</td>\n",
       "      <td>58.0</td>\n",
       "      <td>57.0</td>\n",
       "      <td>43.0</td>\n",
       "      <td>46.0</td>\n",
       "      <td>NaN</td>\n",
       "      <td>NaN</td>\n",
       "      <td>NaN</td>\n",
       "      <td>NaN</td>\n",
       "      <td>159.0</td>\n",
       "      <td>172.0</td>\n",
       "      <td>340.0</td>\n",
       "      <td>408.0</td>\n",
       "      <td>466.0</td>\n",
       "      <td>350.0</td>\n",
       "      <td>338.0</td>\n",
       "      <td>333.0</td>\n",
       "      <td>NaN</td>\n",
       "      <td>NaN</td>\n",
       "      <td>NaN</td>\n",
       "      <td>NaN</td>\n",
       "      <td>22.0</td>\n",
       "      <td>60.0</td>\n",
       "      <td>75.0</td>\n",
       "      <td>81.0</td>\n",
       "      <td>57.0</td>\n",
       "      <td>73.0</td>\n",
       "      <td>58.0</td>\n",
       "      <td>70.0</td>\n",
       "      <td>NaN</td>\n",
       "      <td>NaN</td>\n",
       "      <td>NaN</td>\n",
       "      <td>NaN</td>\n",
       "      <td>3.0</td>\n",
       "      <td>23.0</td>\n",
       "      <td>14.0</td>\n",
       "      <td>14.0</td>\n",
       "      <td>15.0</td>\n",
       "      <td>15.0</td>\n",
       "      <td>15.0</td>\n",
       "      <td>10.0</td>\n",
       "      <td>1950.0</td>\n",
       "      <td>1950.0</td>\n",
       "      <td>1950.0</td>\n",
       "      <td>1950.0</td>\n",
       "      <td>1950.0</td>\n",
       "      <td>1950.0</td>\n",
       "      <td>1950.0</td>\n",
       "      <td>1950.0</td>\n",
       "      <td>1950.0</td>\n",
       "      <td>1950.0</td>\n",
       "      <td>1950.0</td>\n",
       "      <td>1950.0</td>\n",
       "    </tr>\n",
       "    <tr>\n",
       "      <th>1</th>\n",
       "      <td>1001</td>\n",
       "      <td>41</td>\n",
       "      <td>NaT</td>\n",
       "      <td>Москва</td>\n",
       "      <td>Иван</td>\n",
       "      <td>Ежов</td>\n",
       "      <td>2018-11-01</td>\n",
       "      <td>smart</td>\n",
       "      <td>50</td>\n",
       "      <td>15360</td>\n",
       "      <td>500</td>\n",
       "      <td>550</td>\n",
       "      <td>200</td>\n",
       "      <td>3</td>\n",
       "      <td>3</td>\n",
       "      <td>15.0</td>\n",
       "      <td>NaN</td>\n",
       "      <td>NaN</td>\n",
       "      <td>NaN</td>\n",
       "      <td>NaN</td>\n",
       "      <td>NaN</td>\n",
       "      <td>NaN</td>\n",
       "      <td>NaN</td>\n",
       "      <td>NaN</td>\n",
       "      <td>NaN</td>\n",
       "      <td>NaN</td>\n",
       "      <td>59.0</td>\n",
       "      <td>63.0</td>\n",
       "      <td>NaN</td>\n",
       "      <td>NaN</td>\n",
       "      <td>NaN</td>\n",
       "      <td>NaN</td>\n",
       "      <td>NaN</td>\n",
       "      <td>NaN</td>\n",
       "      <td>NaN</td>\n",
       "      <td>NaN</td>\n",
       "      <td>NaN</td>\n",
       "      <td>NaN</td>\n",
       "      <td>430.0</td>\n",
       "      <td>414.0</td>\n",
       "      <td>NaN</td>\n",
       "      <td>NaN</td>\n",
       "      <td>NaN</td>\n",
       "      <td>NaN</td>\n",
       "      <td>NaN</td>\n",
       "      <td>NaN</td>\n",
       "      <td>NaN</td>\n",
       "      <td>NaN</td>\n",
       "      <td>NaN</td>\n",
       "      <td>NaN</td>\n",
       "      <td>NaN</td>\n",
       "      <td>NaN</td>\n",
       "      <td>NaN</td>\n",
       "      <td>NaN</td>\n",
       "      <td>NaN</td>\n",
       "      <td>NaN</td>\n",
       "      <td>NaN</td>\n",
       "      <td>NaN</td>\n",
       "      <td>NaN</td>\n",
       "      <td>NaN</td>\n",
       "      <td>NaN</td>\n",
       "      <td>NaN</td>\n",
       "      <td>18.0</td>\n",
       "      <td>14.0</td>\n",
       "      <td>550.0</td>\n",
       "      <td>550.0</td>\n",
       "      <td>550.0</td>\n",
       "      <td>550.0</td>\n",
       "      <td>550.0</td>\n",
       "      <td>550.0</td>\n",
       "      <td>550.0</td>\n",
       "      <td>550.0</td>\n",
       "      <td>550.0</td>\n",
       "      <td>550.0</td>\n",
       "      <td>1150.0</td>\n",
       "      <td>550.0</td>\n",
       "    </tr>\n",
       "    <tr>\n",
       "      <th>2</th>\n",
       "      <td>1002</td>\n",
       "      <td>59</td>\n",
       "      <td>NaT</td>\n",
       "      <td>Стерлитамак</td>\n",
       "      <td>Евгений</td>\n",
       "      <td>Абрамович</td>\n",
       "      <td>2018-06-17</td>\n",
       "      <td>smart</td>\n",
       "      <td>50</td>\n",
       "      <td>15360</td>\n",
       "      <td>500</td>\n",
       "      <td>550</td>\n",
       "      <td>200</td>\n",
       "      <td>3</td>\n",
       "      <td>3</td>\n",
       "      <td>15.0</td>\n",
       "      <td>NaN</td>\n",
       "      <td>NaN</td>\n",
       "      <td>NaN</td>\n",
       "      <td>NaN</td>\n",
       "      <td>NaN</td>\n",
       "      <td>15.0</td>\n",
       "      <td>26.0</td>\n",
       "      <td>42.0</td>\n",
       "      <td>36.0</td>\n",
       "      <td>33.0</td>\n",
       "      <td>32.0</td>\n",
       "      <td>33.0</td>\n",
       "      <td>NaN</td>\n",
       "      <td>NaN</td>\n",
       "      <td>NaN</td>\n",
       "      <td>NaN</td>\n",
       "      <td>NaN</td>\n",
       "      <td>117.0</td>\n",
       "      <td>214.0</td>\n",
       "      <td>289.0</td>\n",
       "      <td>206.0</td>\n",
       "      <td>212.0</td>\n",
       "      <td>243.0</td>\n",
       "      <td>236.0</td>\n",
       "      <td>NaN</td>\n",
       "      <td>NaN</td>\n",
       "      <td>NaN</td>\n",
       "      <td>NaN</td>\n",
       "      <td>NaN</td>\n",
       "      <td>4.0</td>\n",
       "      <td>11.0</td>\n",
       "      <td>13.0</td>\n",
       "      <td>4.0</td>\n",
       "      <td>10.0</td>\n",
       "      <td>16.0</td>\n",
       "      <td>12.0</td>\n",
       "      <td>NaN</td>\n",
       "      <td>NaN</td>\n",
       "      <td>NaN</td>\n",
       "      <td>NaN</td>\n",
       "      <td>NaN</td>\n",
       "      <td>11.0</td>\n",
       "      <td>18.0</td>\n",
       "      <td>20.0</td>\n",
       "      <td>17.0</td>\n",
       "      <td>14.0</td>\n",
       "      <td>19.0</td>\n",
       "      <td>18.0</td>\n",
       "      <td>550.0</td>\n",
       "      <td>550.0</td>\n",
       "      <td>550.0</td>\n",
       "      <td>550.0</td>\n",
       "      <td>550.0</td>\n",
       "      <td>550.0</td>\n",
       "      <td>1150.0</td>\n",
       "      <td>1550.0</td>\n",
       "      <td>950.0</td>\n",
       "      <td>550.0</td>\n",
       "      <td>1350.0</td>\n",
       "      <td>1150.0</td>\n",
       "    </tr>\n",
       "    <tr>\n",
       "      <th>3</th>\n",
       "      <td>1003</td>\n",
       "      <td>23</td>\n",
       "      <td>NaT</td>\n",
       "      <td>Москва</td>\n",
       "      <td>Белла</td>\n",
       "      <td>Белякова</td>\n",
       "      <td>2018-08-17</td>\n",
       "      <td>ultra</td>\n",
       "      <td>1000</td>\n",
       "      <td>30720</td>\n",
       "      <td>3000</td>\n",
       "      <td>1950</td>\n",
       "      <td>150</td>\n",
       "      <td>1</td>\n",
       "      <td>1</td>\n",
       "      <td>30.0</td>\n",
       "      <td>NaN</td>\n",
       "      <td>NaN</td>\n",
       "      <td>NaN</td>\n",
       "      <td>NaN</td>\n",
       "      <td>NaN</td>\n",
       "      <td>NaN</td>\n",
       "      <td>NaN</td>\n",
       "      <td>55.0</td>\n",
       "      <td>134.0</td>\n",
       "      <td>108.0</td>\n",
       "      <td>115.0</td>\n",
       "      <td>108.0</td>\n",
       "      <td>NaN</td>\n",
       "      <td>NaN</td>\n",
       "      <td>NaN</td>\n",
       "      <td>NaN</td>\n",
       "      <td>NaN</td>\n",
       "      <td>NaN</td>\n",
       "      <td>NaN</td>\n",
       "      <td>380.0</td>\n",
       "      <td>961.0</td>\n",
       "      <td>855.0</td>\n",
       "      <td>824.0</td>\n",
       "      <td>802.0</td>\n",
       "      <td>NaN</td>\n",
       "      <td>NaN</td>\n",
       "      <td>NaN</td>\n",
       "      <td>NaN</td>\n",
       "      <td>NaN</td>\n",
       "      <td>NaN</td>\n",
       "      <td>NaN</td>\n",
       "      <td>37.0</td>\n",
       "      <td>91.0</td>\n",
       "      <td>83.0</td>\n",
       "      <td>94.0</td>\n",
       "      <td>75.0</td>\n",
       "      <td>NaN</td>\n",
       "      <td>NaN</td>\n",
       "      <td>NaN</td>\n",
       "      <td>NaN</td>\n",
       "      <td>NaN</td>\n",
       "      <td>NaN</td>\n",
       "      <td>NaN</td>\n",
       "      <td>9.0</td>\n",
       "      <td>13.0</td>\n",
       "      <td>15.0</td>\n",
       "      <td>12.0</td>\n",
       "      <td>10.0</td>\n",
       "      <td>1950.0</td>\n",
       "      <td>1950.0</td>\n",
       "      <td>1950.0</td>\n",
       "      <td>1950.0</td>\n",
       "      <td>1950.0</td>\n",
       "      <td>1950.0</td>\n",
       "      <td>1950.0</td>\n",
       "      <td>1950.0</td>\n",
       "      <td>1950.0</td>\n",
       "      <td>1950.0</td>\n",
       "      <td>1950.0</td>\n",
       "      <td>1950.0</td>\n",
       "    </tr>\n",
       "    <tr>\n",
       "      <th>4</th>\n",
       "      <td>1004</td>\n",
       "      <td>68</td>\n",
       "      <td>NaT</td>\n",
       "      <td>Новокузнецк</td>\n",
       "      <td>Татьяна</td>\n",
       "      <td>Авдеенко</td>\n",
       "      <td>2018-05-14</td>\n",
       "      <td>ultra</td>\n",
       "      <td>1000</td>\n",
       "      <td>30720</td>\n",
       "      <td>3000</td>\n",
       "      <td>1950</td>\n",
       "      <td>150</td>\n",
       "      <td>1</td>\n",
       "      <td>1</td>\n",
       "      <td>30.0</td>\n",
       "      <td>NaN</td>\n",
       "      <td>NaN</td>\n",
       "      <td>NaN</td>\n",
       "      <td>NaN</td>\n",
       "      <td>9.0</td>\n",
       "      <td>31.0</td>\n",
       "      <td>22.0</td>\n",
       "      <td>19.0</td>\n",
       "      <td>26.0</td>\n",
       "      <td>29.0</td>\n",
       "      <td>19.0</td>\n",
       "      <td>21.0</td>\n",
       "      <td>NaN</td>\n",
       "      <td>NaN</td>\n",
       "      <td>NaN</td>\n",
       "      <td>NaN</td>\n",
       "      <td>35.0</td>\n",
       "      <td>171.0</td>\n",
       "      <td>135.0</td>\n",
       "      <td>137.0</td>\n",
       "      <td>117.0</td>\n",
       "      <td>145.0</td>\n",
       "      <td>117.0</td>\n",
       "      <td>130.0</td>\n",
       "      <td>NaN</td>\n",
       "      <td>NaN</td>\n",
       "      <td>NaN</td>\n",
       "      <td>NaN</td>\n",
       "      <td>95.0</td>\n",
       "      <td>134.0</td>\n",
       "      <td>181.0</td>\n",
       "      <td>151.0</td>\n",
       "      <td>146.0</td>\n",
       "      <td>165.0</td>\n",
       "      <td>158.0</td>\n",
       "      <td>162.0</td>\n",
       "      <td>NaN</td>\n",
       "      <td>NaN</td>\n",
       "      <td>NaN</td>\n",
       "      <td>NaN</td>\n",
       "      <td>14.0</td>\n",
       "      <td>18.0</td>\n",
       "      <td>22.0</td>\n",
       "      <td>28.0</td>\n",
       "      <td>15.0</td>\n",
       "      <td>19.0</td>\n",
       "      <td>16.0</td>\n",
       "      <td>18.0</td>\n",
       "      <td>1950.0</td>\n",
       "      <td>1950.0</td>\n",
       "      <td>1950.0</td>\n",
       "      <td>1950.0</td>\n",
       "      <td>1950.0</td>\n",
       "      <td>1950.0</td>\n",
       "      <td>1950.0</td>\n",
       "      <td>1950.0</td>\n",
       "      <td>1950.0</td>\n",
       "      <td>1950.0</td>\n",
       "      <td>1950.0</td>\n",
       "      <td>1950.0</td>\n",
       "    </tr>\n",
       "    <tr>\n",
       "      <th>...</th>\n",
       "      <td>...</td>\n",
       "      <td>...</td>\n",
       "      <td>...</td>\n",
       "      <td>...</td>\n",
       "      <td>...</td>\n",
       "      <td>...</td>\n",
       "      <td>...</td>\n",
       "      <td>...</td>\n",
       "      <td>...</td>\n",
       "      <td>...</td>\n",
       "      <td>...</td>\n",
       "      <td>...</td>\n",
       "      <td>...</td>\n",
       "      <td>...</td>\n",
       "      <td>...</td>\n",
       "      <td>...</td>\n",
       "      <td>...</td>\n",
       "      <td>...</td>\n",
       "      <td>...</td>\n",
       "      <td>...</td>\n",
       "      <td>...</td>\n",
       "      <td>...</td>\n",
       "      <td>...</td>\n",
       "      <td>...</td>\n",
       "      <td>...</td>\n",
       "      <td>...</td>\n",
       "      <td>...</td>\n",
       "      <td>...</td>\n",
       "      <td>...</td>\n",
       "      <td>...</td>\n",
       "      <td>...</td>\n",
       "      <td>...</td>\n",
       "      <td>...</td>\n",
       "      <td>...</td>\n",
       "      <td>...</td>\n",
       "      <td>...</td>\n",
       "      <td>...</td>\n",
       "      <td>...</td>\n",
       "      <td>...</td>\n",
       "      <td>...</td>\n",
       "      <td>...</td>\n",
       "      <td>...</td>\n",
       "      <td>...</td>\n",
       "      <td>...</td>\n",
       "      <td>...</td>\n",
       "      <td>...</td>\n",
       "      <td>...</td>\n",
       "      <td>...</td>\n",
       "      <td>...</td>\n",
       "      <td>...</td>\n",
       "      <td>...</td>\n",
       "      <td>...</td>\n",
       "      <td>...</td>\n",
       "      <td>...</td>\n",
       "      <td>...</td>\n",
       "      <td>...</td>\n",
       "      <td>...</td>\n",
       "      <td>...</td>\n",
       "      <td>...</td>\n",
       "      <td>...</td>\n",
       "      <td>...</td>\n",
       "      <td>...</td>\n",
       "      <td>...</td>\n",
       "      <td>...</td>\n",
       "      <td>...</td>\n",
       "      <td>...</td>\n",
       "      <td>...</td>\n",
       "      <td>...</td>\n",
       "      <td>...</td>\n",
       "      <td>...</td>\n",
       "      <td>...</td>\n",
       "      <td>...</td>\n",
       "      <td>...</td>\n",
       "      <td>...</td>\n",
       "      <td>...</td>\n",
       "      <td>...</td>\n",
       "    </tr>\n",
       "    <tr>\n",
       "      <th>495</th>\n",
       "      <td>1495</td>\n",
       "      <td>65</td>\n",
       "      <td>NaT</td>\n",
       "      <td>Иркутск</td>\n",
       "      <td>Авксентий</td>\n",
       "      <td>Фокин</td>\n",
       "      <td>2018-08-28</td>\n",
       "      <td>ultra</td>\n",
       "      <td>1000</td>\n",
       "      <td>30720</td>\n",
       "      <td>3000</td>\n",
       "      <td>1950</td>\n",
       "      <td>150</td>\n",
       "      <td>1</td>\n",
       "      <td>1</td>\n",
       "      <td>30.0</td>\n",
       "      <td>NaN</td>\n",
       "      <td>NaN</td>\n",
       "      <td>NaN</td>\n",
       "      <td>NaN</td>\n",
       "      <td>NaN</td>\n",
       "      <td>NaN</td>\n",
       "      <td>NaN</td>\n",
       "      <td>17.0</td>\n",
       "      <td>112.0</td>\n",
       "      <td>152.0</td>\n",
       "      <td>129.0</td>\n",
       "      <td>155.0</td>\n",
       "      <td>NaN</td>\n",
       "      <td>NaN</td>\n",
       "      <td>NaN</td>\n",
       "      <td>NaN</td>\n",
       "      <td>NaN</td>\n",
       "      <td>NaN</td>\n",
       "      <td>NaN</td>\n",
       "      <td>92.0</td>\n",
       "      <td>813.0</td>\n",
       "      <td>1030.0</td>\n",
       "      <td>954.0</td>\n",
       "      <td>1031.0</td>\n",
       "      <td>NaN</td>\n",
       "      <td>NaN</td>\n",
       "      <td>NaN</td>\n",
       "      <td>NaN</td>\n",
       "      <td>NaN</td>\n",
       "      <td>NaN</td>\n",
       "      <td>NaN</td>\n",
       "      <td>13.0</td>\n",
       "      <td>82.0</td>\n",
       "      <td>82.0</td>\n",
       "      <td>79.0</td>\n",
       "      <td>84.0</td>\n",
       "      <td>NaN</td>\n",
       "      <td>NaN</td>\n",
       "      <td>NaN</td>\n",
       "      <td>NaN</td>\n",
       "      <td>NaN</td>\n",
       "      <td>NaN</td>\n",
       "      <td>NaN</td>\n",
       "      <td>3.0</td>\n",
       "      <td>33.0</td>\n",
       "      <td>29.0</td>\n",
       "      <td>39.0</td>\n",
       "      <td>23.0</td>\n",
       "      <td>1950.0</td>\n",
       "      <td>1950.0</td>\n",
       "      <td>1950.0</td>\n",
       "      <td>1950.0</td>\n",
       "      <td>1950.0</td>\n",
       "      <td>1950.0</td>\n",
       "      <td>1950.0</td>\n",
       "      <td>1950.0</td>\n",
       "      <td>2400.0</td>\n",
       "      <td>1950.0</td>\n",
       "      <td>3300.0</td>\n",
       "      <td>1950.0</td>\n",
       "    </tr>\n",
       "    <tr>\n",
       "      <th>496</th>\n",
       "      <td>1496</td>\n",
       "      <td>36</td>\n",
       "      <td>NaT</td>\n",
       "      <td>Вологда</td>\n",
       "      <td>Трифон</td>\n",
       "      <td>Блохин</td>\n",
       "      <td>2018-01-27</td>\n",
       "      <td>smart</td>\n",
       "      <td>50</td>\n",
       "      <td>15360</td>\n",
       "      <td>500</td>\n",
       "      <td>550</td>\n",
       "      <td>200</td>\n",
       "      <td>3</td>\n",
       "      <td>3</td>\n",
       "      <td>15.0</td>\n",
       "      <td>7.0</td>\n",
       "      <td>77.0</td>\n",
       "      <td>79.0</td>\n",
       "      <td>67.0</td>\n",
       "      <td>63.0</td>\n",
       "      <td>74.0</td>\n",
       "      <td>73.0</td>\n",
       "      <td>88.0</td>\n",
       "      <td>68.0</td>\n",
       "      <td>72.0</td>\n",
       "      <td>80.0</td>\n",
       "      <td>80.0</td>\n",
       "      <td>48.0</td>\n",
       "      <td>594.0</td>\n",
       "      <td>557.0</td>\n",
       "      <td>521.0</td>\n",
       "      <td>484.0</td>\n",
       "      <td>555.0</td>\n",
       "      <td>582.0</td>\n",
       "      <td>527.0</td>\n",
       "      <td>486.0</td>\n",
       "      <td>450.0</td>\n",
       "      <td>662.0</td>\n",
       "      <td>518.0</td>\n",
       "      <td>9.0</td>\n",
       "      <td>45.0</td>\n",
       "      <td>46.0</td>\n",
       "      <td>49.0</td>\n",
       "      <td>40.0</td>\n",
       "      <td>35.0</td>\n",
       "      <td>42.0</td>\n",
       "      <td>41.0</td>\n",
       "      <td>29.0</td>\n",
       "      <td>35.0</td>\n",
       "      <td>46.0</td>\n",
       "      <td>51.0</td>\n",
       "      <td>4.0</td>\n",
       "      <td>28.0</td>\n",
       "      <td>25.0</td>\n",
       "      <td>21.0</td>\n",
       "      <td>24.0</td>\n",
       "      <td>20.0</td>\n",
       "      <td>24.0</td>\n",
       "      <td>23.0</td>\n",
       "      <td>27.0</td>\n",
       "      <td>28.0</td>\n",
       "      <td>25.0</td>\n",
       "      <td>21.0</td>\n",
       "      <td>550.0</td>\n",
       "      <td>3432.0</td>\n",
       "      <td>2721.0</td>\n",
       "      <td>1813.0</td>\n",
       "      <td>2350.0</td>\n",
       "      <td>1715.0</td>\n",
       "      <td>2596.0</td>\n",
       "      <td>2231.0</td>\n",
       "      <td>2950.0</td>\n",
       "      <td>3150.0</td>\n",
       "      <td>3036.0</td>\n",
       "      <td>1807.0</td>\n",
       "    </tr>\n",
       "    <tr>\n",
       "      <th>497</th>\n",
       "      <td>1497</td>\n",
       "      <td>32</td>\n",
       "      <td>NaT</td>\n",
       "      <td>Челябинск</td>\n",
       "      <td>Каролина</td>\n",
       "      <td>Агеева</td>\n",
       "      <td>2018-10-09</td>\n",
       "      <td>smart</td>\n",
       "      <td>50</td>\n",
       "      <td>15360</td>\n",
       "      <td>500</td>\n",
       "      <td>550</td>\n",
       "      <td>200</td>\n",
       "      <td>3</td>\n",
       "      <td>3</td>\n",
       "      <td>15.0</td>\n",
       "      <td>NaN</td>\n",
       "      <td>NaN</td>\n",
       "      <td>NaN</td>\n",
       "      <td>NaN</td>\n",
       "      <td>NaN</td>\n",
       "      <td>NaN</td>\n",
       "      <td>NaN</td>\n",
       "      <td>NaN</td>\n",
       "      <td>NaN</td>\n",
       "      <td>66.0</td>\n",
       "      <td>64.0</td>\n",
       "      <td>71.0</td>\n",
       "      <td>NaN</td>\n",
       "      <td>NaN</td>\n",
       "      <td>NaN</td>\n",
       "      <td>NaN</td>\n",
       "      <td>NaN</td>\n",
       "      <td>NaN</td>\n",
       "      <td>NaN</td>\n",
       "      <td>NaN</td>\n",
       "      <td>NaN</td>\n",
       "      <td>490.0</td>\n",
       "      <td>371.0</td>\n",
       "      <td>545.0</td>\n",
       "      <td>NaN</td>\n",
       "      <td>NaN</td>\n",
       "      <td>NaN</td>\n",
       "      <td>NaN</td>\n",
       "      <td>NaN</td>\n",
       "      <td>NaN</td>\n",
       "      <td>NaN</td>\n",
       "      <td>NaN</td>\n",
       "      <td>NaN</td>\n",
       "      <td>20.0</td>\n",
       "      <td>14.0</td>\n",
       "      <td>17.0</td>\n",
       "      <td>NaN</td>\n",
       "      <td>NaN</td>\n",
       "      <td>NaN</td>\n",
       "      <td>NaN</td>\n",
       "      <td>NaN</td>\n",
       "      <td>NaN</td>\n",
       "      <td>NaN</td>\n",
       "      <td>NaN</td>\n",
       "      <td>NaN</td>\n",
       "      <td>12.0</td>\n",
       "      <td>14.0</td>\n",
       "      <td>20.0</td>\n",
       "      <td>550.0</td>\n",
       "      <td>550.0</td>\n",
       "      <td>550.0</td>\n",
       "      <td>550.0</td>\n",
       "      <td>550.0</td>\n",
       "      <td>550.0</td>\n",
       "      <td>550.0</td>\n",
       "      <td>550.0</td>\n",
       "      <td>550.0</td>\n",
       "      <td>550.0</td>\n",
       "      <td>550.0</td>\n",
       "      <td>1685.0</td>\n",
       "    </tr>\n",
       "    <tr>\n",
       "      <th>498</th>\n",
       "      <td>1498</td>\n",
       "      <td>68</td>\n",
       "      <td>2018-10-25</td>\n",
       "      <td>Владикавказ</td>\n",
       "      <td>Всеволод</td>\n",
       "      <td>Акимчин</td>\n",
       "      <td>2018-07-19</td>\n",
       "      <td>smart</td>\n",
       "      <td>50</td>\n",
       "      <td>15360</td>\n",
       "      <td>500</td>\n",
       "      <td>550</td>\n",
       "      <td>200</td>\n",
       "      <td>3</td>\n",
       "      <td>3</td>\n",
       "      <td>15.0</td>\n",
       "      <td>NaN</td>\n",
       "      <td>NaN</td>\n",
       "      <td>NaN</td>\n",
       "      <td>NaN</td>\n",
       "      <td>NaN</td>\n",
       "      <td>NaN</td>\n",
       "      <td>23.0</td>\n",
       "      <td>57.0</td>\n",
       "      <td>59.0</td>\n",
       "      <td>41.0</td>\n",
       "      <td>NaN</td>\n",
       "      <td>NaN</td>\n",
       "      <td>NaN</td>\n",
       "      <td>NaN</td>\n",
       "      <td>NaN</td>\n",
       "      <td>NaN</td>\n",
       "      <td>NaN</td>\n",
       "      <td>NaN</td>\n",
       "      <td>175.0</td>\n",
       "      <td>400.0</td>\n",
       "      <td>471.0</td>\n",
       "      <td>247.0</td>\n",
       "      <td>NaN</td>\n",
       "      <td>NaN</td>\n",
       "      <td>NaN</td>\n",
       "      <td>NaN</td>\n",
       "      <td>NaN</td>\n",
       "      <td>NaN</td>\n",
       "      <td>NaN</td>\n",
       "      <td>NaN</td>\n",
       "      <td>20.0</td>\n",
       "      <td>62.0</td>\n",
       "      <td>44.0</td>\n",
       "      <td>42.0</td>\n",
       "      <td>NaN</td>\n",
       "      <td>NaN</td>\n",
       "      <td>NaN</td>\n",
       "      <td>NaN</td>\n",
       "      <td>NaN</td>\n",
       "      <td>NaN</td>\n",
       "      <td>NaN</td>\n",
       "      <td>NaN</td>\n",
       "      <td>8.0</td>\n",
       "      <td>24.0</td>\n",
       "      <td>22.0</td>\n",
       "      <td>21.0</td>\n",
       "      <td>NaN</td>\n",
       "      <td>NaN</td>\n",
       "      <td>550.0</td>\n",
       "      <td>550.0</td>\n",
       "      <td>550.0</td>\n",
       "      <td>550.0</td>\n",
       "      <td>550.0</td>\n",
       "      <td>550.0</td>\n",
       "      <td>550.0</td>\n",
       "      <td>2386.0</td>\n",
       "      <td>1950.0</td>\n",
       "      <td>1750.0</td>\n",
       "      <td>0.0</td>\n",
       "      <td>0.0</td>\n",
       "    </tr>\n",
       "    <tr>\n",
       "      <th>499</th>\n",
       "      <td>1499</td>\n",
       "      <td>35</td>\n",
       "      <td>NaT</td>\n",
       "      <td>Пермь</td>\n",
       "      <td>Гектор</td>\n",
       "      <td>Корнилов</td>\n",
       "      <td>2018-09-27</td>\n",
       "      <td>smart</td>\n",
       "      <td>50</td>\n",
       "      <td>15360</td>\n",
       "      <td>500</td>\n",
       "      <td>550</td>\n",
       "      <td>200</td>\n",
       "      <td>3</td>\n",
       "      <td>3</td>\n",
       "      <td>15.0</td>\n",
       "      <td>NaN</td>\n",
       "      <td>NaN</td>\n",
       "      <td>NaN</td>\n",
       "      <td>NaN</td>\n",
       "      <td>NaN</td>\n",
       "      <td>NaN</td>\n",
       "      <td>NaN</td>\n",
       "      <td>NaN</td>\n",
       "      <td>9.0</td>\n",
       "      <td>68.0</td>\n",
       "      <td>74.0</td>\n",
       "      <td>69.0</td>\n",
       "      <td>NaN</td>\n",
       "      <td>NaN</td>\n",
       "      <td>NaN</td>\n",
       "      <td>NaN</td>\n",
       "      <td>NaN</td>\n",
       "      <td>NaN</td>\n",
       "      <td>NaN</td>\n",
       "      <td>NaN</td>\n",
       "      <td>70.0</td>\n",
       "      <td>449.0</td>\n",
       "      <td>612.0</td>\n",
       "      <td>492.0</td>\n",
       "      <td>NaN</td>\n",
       "      <td>NaN</td>\n",
       "      <td>NaN</td>\n",
       "      <td>NaN</td>\n",
       "      <td>NaN</td>\n",
       "      <td>NaN</td>\n",
       "      <td>NaN</td>\n",
       "      <td>NaN</td>\n",
       "      <td>11.0</td>\n",
       "      <td>48.0</td>\n",
       "      <td>59.0</td>\n",
       "      <td>66.0</td>\n",
       "      <td>NaN</td>\n",
       "      <td>NaN</td>\n",
       "      <td>NaN</td>\n",
       "      <td>NaN</td>\n",
       "      <td>NaN</td>\n",
       "      <td>NaN</td>\n",
       "      <td>NaN</td>\n",
       "      <td>NaN</td>\n",
       "      <td>2.0</td>\n",
       "      <td>18.0</td>\n",
       "      <td>18.0</td>\n",
       "      <td>13.0</td>\n",
       "      <td>550.0</td>\n",
       "      <td>550.0</td>\n",
       "      <td>550.0</td>\n",
       "      <td>550.0</td>\n",
       "      <td>550.0</td>\n",
       "      <td>550.0</td>\n",
       "      <td>550.0</td>\n",
       "      <td>550.0</td>\n",
       "      <td>550.0</td>\n",
       "      <td>1150.0</td>\n",
       "      <td>1513.0</td>\n",
       "      <td>598.0</td>\n",
       "    </tr>\n",
       "  </tbody>\n",
       "</table>\n",
       "<p>500 rows × 76 columns</p>\n",
       "</div>"
      ],
      "text/plain": [
       "     user_id  age churn_date         city first_name  last_name   reg_date  \\\n",
       "0       1000   52        NaT    Краснодар     Рафаил  Верещагин 2018-05-25   \n",
       "1       1001   41        NaT       Москва       Иван       Ежов 2018-11-01   \n",
       "2       1002   59        NaT  Стерлитамак    Евгений  Абрамович 2018-06-17   \n",
       "3       1003   23        NaT       Москва      Белла   Белякова 2018-08-17   \n",
       "4       1004   68        NaT  Новокузнецк    Татьяна   Авдеенко 2018-05-14   \n",
       "..       ...  ...        ...          ...        ...        ...        ...   \n",
       "495     1495   65        NaT      Иркутск  Авксентий      Фокин 2018-08-28   \n",
       "496     1496   36        NaT      Вологда     Трифон     Блохин 2018-01-27   \n",
       "497     1497   32        NaT    Челябинск   Каролина     Агеева 2018-10-09   \n",
       "498     1498   68 2018-10-25  Владикавказ   Всеволод    Акимчин 2018-07-19   \n",
       "499     1499   35        NaT        Пермь     Гектор   Корнилов 2018-09-27   \n",
       "\n",
       "    tariff  messages_included  mb_per_month_included  minutes_included  \\\n",
       "0    ultra               1000                  30720              3000   \n",
       "1    smart                 50                  15360               500   \n",
       "2    smart                 50                  15360               500   \n",
       "3    ultra               1000                  30720              3000   \n",
       "4    ultra               1000                  30720              3000   \n",
       "..     ...                ...                    ...               ...   \n",
       "495  ultra               1000                  30720              3000   \n",
       "496  smart                 50                  15360               500   \n",
       "497  smart                 50                  15360               500   \n",
       "498  smart                 50                  15360               500   \n",
       "499  smart                 50                  15360               500   \n",
       "\n",
       "     rub_monthly_fee  rub_per_gb  rub_per_message  rub_per_minute  \\\n",
       "0               1950         150                1               1   \n",
       "1                550         200                3               3   \n",
       "2                550         200                3               3   \n",
       "3               1950         150                1               1   \n",
       "4               1950         150                1               1   \n",
       "..               ...         ...              ...             ...   \n",
       "495             1950         150                1               1   \n",
       "496              550         200                3               3   \n",
       "497              550         200                3               3   \n",
       "498              550         200                3               3   \n",
       "499              550         200                3               3   \n",
       "\n",
       "     gb_per_month_included  calls_count_1_month  calls_count_2_month  \\\n",
       "0                     30.0                  NaN                  NaN   \n",
       "1                     15.0                  NaN                  NaN   \n",
       "2                     15.0                  NaN                  NaN   \n",
       "3                     30.0                  NaN                  NaN   \n",
       "4                     30.0                  NaN                  NaN   \n",
       "..                     ...                  ...                  ...   \n",
       "495                   30.0                  NaN                  NaN   \n",
       "496                   15.0                  7.0                 77.0   \n",
       "497                   15.0                  NaN                  NaN   \n",
       "498                   15.0                  NaN                  NaN   \n",
       "499                   15.0                  NaN                  NaN   \n",
       "\n",
       "     calls_count_3_month  calls_count_4_month  calls_count_5_month  \\\n",
       "0                    NaN                  NaN                 22.0   \n",
       "1                    NaN                  NaN                  NaN   \n",
       "2                    NaN                  NaN                  NaN   \n",
       "3                    NaN                  NaN                  NaN   \n",
       "4                    NaN                  NaN                  9.0   \n",
       "..                   ...                  ...                  ...   \n",
       "495                  NaN                  NaN                  NaN   \n",
       "496                 79.0                 67.0                 63.0   \n",
       "497                  NaN                  NaN                  NaN   \n",
       "498                  NaN                  NaN                  NaN   \n",
       "499                  NaN                  NaN                  NaN   \n",
       "\n",
       "     calls_count_6_month  calls_count_7_month  calls_count_8_month  \\\n",
       "0                   43.0                 47.0                 52.0   \n",
       "1                    NaN                  NaN                  NaN   \n",
       "2                   15.0                 26.0                 42.0   \n",
       "3                    NaN                  NaN                 55.0   \n",
       "4                   31.0                 22.0                 19.0   \n",
       "..                   ...                  ...                  ...   \n",
       "495                  NaN                  NaN                 17.0   \n",
       "496                 74.0                 73.0                 88.0   \n",
       "497                  NaN                  NaN                  NaN   \n",
       "498                  NaN                 23.0                 57.0   \n",
       "499                  NaN                  NaN                  NaN   \n",
       "\n",
       "     calls_count_9_month  calls_count_10_month  calls_count_11_month  \\\n",
       "0                   58.0                  57.0                  43.0   \n",
       "1                    NaN                   NaN                  59.0   \n",
       "2                   36.0                  33.0                  32.0   \n",
       "3                  134.0                 108.0                 115.0   \n",
       "4                   26.0                  29.0                  19.0   \n",
       "..                   ...                   ...                   ...   \n",
       "495                112.0                 152.0                 129.0   \n",
       "496                 68.0                  72.0                  80.0   \n",
       "497                  NaN                  66.0                  64.0   \n",
       "498                 59.0                  41.0                   NaN   \n",
       "499                  9.0                  68.0                  74.0   \n",
       "\n",
       "     calls_count_12_month  calls_sum_1_month  calls_sum_2_month  \\\n",
       "0                    46.0                NaN                NaN   \n",
       "1                    63.0                NaN                NaN   \n",
       "2                    33.0                NaN                NaN   \n",
       "3                   108.0                NaN                NaN   \n",
       "4                    21.0                NaN                NaN   \n",
       "..                    ...                ...                ...   \n",
       "495                 155.0                NaN                NaN   \n",
       "496                  80.0               48.0              594.0   \n",
       "497                  71.0                NaN                NaN   \n",
       "498                   NaN                NaN                NaN   \n",
       "499                  69.0                NaN                NaN   \n",
       "\n",
       "     calls_sum_3_month  calls_sum_4_month  calls_sum_5_month  \\\n",
       "0                  NaN                NaN              159.0   \n",
       "1                  NaN                NaN                NaN   \n",
       "2                  NaN                NaN                NaN   \n",
       "3                  NaN                NaN                NaN   \n",
       "4                  NaN                NaN               35.0   \n",
       "..                 ...                ...                ...   \n",
       "495                NaN                NaN                NaN   \n",
       "496              557.0              521.0              484.0   \n",
       "497                NaN                NaN                NaN   \n",
       "498                NaN                NaN                NaN   \n",
       "499                NaN                NaN                NaN   \n",
       "\n",
       "     calls_sum_6_month  calls_sum_7_month  calls_sum_8_month  \\\n",
       "0                172.0              340.0              408.0   \n",
       "1                  NaN                NaN                NaN   \n",
       "2                117.0              214.0              289.0   \n",
       "3                  NaN                NaN              380.0   \n",
       "4                171.0              135.0              137.0   \n",
       "..                 ...                ...                ...   \n",
       "495                NaN                NaN               92.0   \n",
       "496              555.0              582.0              527.0   \n",
       "497                NaN                NaN                NaN   \n",
       "498                NaN              175.0              400.0   \n",
       "499                NaN                NaN                NaN   \n",
       "\n",
       "     calls_sum_9_month  calls_sum_10_month  calls_sum_11_month  \\\n",
       "0                466.0               350.0               338.0   \n",
       "1                  NaN                 NaN               430.0   \n",
       "2                206.0               212.0               243.0   \n",
       "3                961.0               855.0               824.0   \n",
       "4                117.0               145.0               117.0   \n",
       "..                 ...                 ...                 ...   \n",
       "495              813.0              1030.0               954.0   \n",
       "496              486.0               450.0               662.0   \n",
       "497                NaN               490.0               371.0   \n",
       "498              471.0               247.0                 NaN   \n",
       "499               70.0               449.0               612.0   \n",
       "\n",
       "     calls_sum_12_month  messages_count_1_month  messages_count_2_month  \\\n",
       "0                 333.0                     NaN                     NaN   \n",
       "1                 414.0                     NaN                     NaN   \n",
       "2                 236.0                     NaN                     NaN   \n",
       "3                 802.0                     NaN                     NaN   \n",
       "4                 130.0                     NaN                     NaN   \n",
       "..                  ...                     ...                     ...   \n",
       "495              1031.0                     NaN                     NaN   \n",
       "496               518.0                     9.0                    45.0   \n",
       "497               545.0                     NaN                     NaN   \n",
       "498                 NaN                     NaN                     NaN   \n",
       "499               492.0                     NaN                     NaN   \n",
       "\n",
       "     messages_count_3_month  messages_count_4_month  messages_count_5_month  \\\n",
       "0                       NaN                     NaN                    22.0   \n",
       "1                       NaN                     NaN                     NaN   \n",
       "2                       NaN                     NaN                     NaN   \n",
       "3                       NaN                     NaN                     NaN   \n",
       "4                       NaN                     NaN                    95.0   \n",
       "..                      ...                     ...                     ...   \n",
       "495                     NaN                     NaN                     NaN   \n",
       "496                    46.0                    49.0                    40.0   \n",
       "497                     NaN                     NaN                     NaN   \n",
       "498                     NaN                     NaN                     NaN   \n",
       "499                     NaN                     NaN                     NaN   \n",
       "\n",
       "     messages_count_6_month  messages_count_7_month  messages_count_8_month  \\\n",
       "0                      60.0                    75.0                    81.0   \n",
       "1                       NaN                     NaN                     NaN   \n",
       "2                       4.0                    11.0                    13.0   \n",
       "3                       NaN                     NaN                    37.0   \n",
       "4                     134.0                   181.0                   151.0   \n",
       "..                      ...                     ...                     ...   \n",
       "495                     NaN                     NaN                    13.0   \n",
       "496                    35.0                    42.0                    41.0   \n",
       "497                     NaN                     NaN                     NaN   \n",
       "498                     NaN                    20.0                    62.0   \n",
       "499                     NaN                     NaN                     NaN   \n",
       "\n",
       "     messages_count_9_month  messages_count_10_month  messages_count_11_month  \\\n",
       "0                      57.0                     73.0                     58.0   \n",
       "1                       NaN                      NaN                      NaN   \n",
       "2                       4.0                     10.0                     16.0   \n",
       "3                      91.0                     83.0                     94.0   \n",
       "4                     146.0                    165.0                    158.0   \n",
       "..                      ...                      ...                      ...   \n",
       "495                    82.0                     82.0                     79.0   \n",
       "496                    29.0                     35.0                     46.0   \n",
       "497                     NaN                     20.0                     14.0   \n",
       "498                    44.0                     42.0                      NaN   \n",
       "499                    11.0                     48.0                     59.0   \n",
       "\n",
       "     messages_count_12_month  internet_sum_1_month  internet_sum_2_month  \\\n",
       "0                       70.0                   NaN                   NaN   \n",
       "1                        NaN                   NaN                   NaN   \n",
       "2                       12.0                   NaN                   NaN   \n",
       "3                       75.0                   NaN                   NaN   \n",
       "4                      162.0                   NaN                   NaN   \n",
       "..                       ...                   ...                   ...   \n",
       "495                     84.0                   NaN                   NaN   \n",
       "496                     51.0                   4.0                  28.0   \n",
       "497                     17.0                   NaN                   NaN   \n",
       "498                      NaN                   NaN                   NaN   \n",
       "499                     66.0                   NaN                   NaN   \n",
       "\n",
       "     internet_sum_3_month  internet_sum_4_month  internet_sum_5_month  \\\n",
       "0                     NaN                   NaN                   3.0   \n",
       "1                     NaN                   NaN                   NaN   \n",
       "2                     NaN                   NaN                   NaN   \n",
       "3                     NaN                   NaN                   NaN   \n",
       "4                     NaN                   NaN                  14.0   \n",
       "..                    ...                   ...                   ...   \n",
       "495                   NaN                   NaN                   NaN   \n",
       "496                  25.0                  21.0                  24.0   \n",
       "497                   NaN                   NaN                   NaN   \n",
       "498                   NaN                   NaN                   NaN   \n",
       "499                   NaN                   NaN                   NaN   \n",
       "\n",
       "     internet_sum_6_month  internet_sum_7_month  internet_sum_8_month  \\\n",
       "0                    23.0                  14.0                  14.0   \n",
       "1                     NaN                   NaN                   NaN   \n",
       "2                    11.0                  18.0                  20.0   \n",
       "3                     NaN                   NaN                   9.0   \n",
       "4                    18.0                  22.0                  28.0   \n",
       "..                    ...                   ...                   ...   \n",
       "495                   NaN                   NaN                   3.0   \n",
       "496                  20.0                  24.0                  23.0   \n",
       "497                   NaN                   NaN                   NaN   \n",
       "498                   NaN                   8.0                  24.0   \n",
       "499                   NaN                   NaN                   NaN   \n",
       "\n",
       "     internet_sum_9_month  internet_sum_10_month  internet_sum_11_month  \\\n",
       "0                    15.0                   15.0                   15.0   \n",
       "1                     NaN                    NaN                   18.0   \n",
       "2                    17.0                   14.0                   19.0   \n",
       "3                    13.0                   15.0                   12.0   \n",
       "4                    15.0                   19.0                   16.0   \n",
       "..                    ...                    ...                    ...   \n",
       "495                  33.0                   29.0                   39.0   \n",
       "496                  27.0                   28.0                   25.0   \n",
       "497                   NaN                   12.0                   14.0   \n",
       "498                  22.0                   21.0                    NaN   \n",
       "499                   2.0                   18.0                   18.0   \n",
       "\n",
       "     internet_sum_12_month  revenue_1_month  revenue_2_month  revenue_3_month  \\\n",
       "0                     10.0           1950.0           1950.0           1950.0   \n",
       "1                     14.0            550.0            550.0            550.0   \n",
       "2                     18.0            550.0            550.0            550.0   \n",
       "3                     10.0           1950.0           1950.0           1950.0   \n",
       "4                     18.0           1950.0           1950.0           1950.0   \n",
       "..                     ...              ...              ...              ...   \n",
       "495                   23.0           1950.0           1950.0           1950.0   \n",
       "496                   21.0            550.0           3432.0           2721.0   \n",
       "497                   20.0            550.0            550.0            550.0   \n",
       "498                    NaN            550.0            550.0            550.0   \n",
       "499                   13.0            550.0            550.0            550.0   \n",
       "\n",
       "     revenue_4_month  revenue_5_month  revenue_6_month  revenue_7_month  \\\n",
       "0             1950.0           1950.0           1950.0           1950.0   \n",
       "1              550.0            550.0            550.0            550.0   \n",
       "2              550.0            550.0            550.0           1150.0   \n",
       "3             1950.0           1950.0           1950.0           1950.0   \n",
       "4             1950.0           1950.0           1950.0           1950.0   \n",
       "..               ...              ...              ...              ...   \n",
       "495           1950.0           1950.0           1950.0           1950.0   \n",
       "496           1813.0           2350.0           1715.0           2596.0   \n",
       "497            550.0            550.0            550.0            550.0   \n",
       "498            550.0            550.0            550.0            550.0   \n",
       "499            550.0            550.0            550.0            550.0   \n",
       "\n",
       "     revenue_8_month  revenue_9_month  revenue_10_month  revenue_11_month  \\\n",
       "0             1950.0           1950.0            1950.0            1950.0   \n",
       "1              550.0            550.0             550.0            1150.0   \n",
       "2             1550.0            950.0             550.0            1350.0   \n",
       "3             1950.0           1950.0            1950.0            1950.0   \n",
       "4             1950.0           1950.0            1950.0            1950.0   \n",
       "..               ...              ...               ...               ...   \n",
       "495           1950.0           2400.0            1950.0            3300.0   \n",
       "496           2231.0           2950.0            3150.0            3036.0   \n",
       "497            550.0            550.0             550.0             550.0   \n",
       "498           2386.0           1950.0            1750.0               0.0   \n",
       "499            550.0            550.0            1150.0            1513.0   \n",
       "\n",
       "     revenue_12_month  \n",
       "0              1950.0  \n",
       "1               550.0  \n",
       "2              1150.0  \n",
       "3              1950.0  \n",
       "4              1950.0  \n",
       "..                ...  \n",
       "495            1950.0  \n",
       "496            1807.0  \n",
       "497            1685.0  \n",
       "498               0.0  \n",
       "499             598.0  \n",
       "\n",
       "[500 rows x 76 columns]"
      ]
     },
     "execution_count": 31,
     "metadata": {},
     "output_type": "execute_result"
    }
   ],
   "source": [
    "# Напишем функцию для помесячного расчёта выручки с каждого пользователя\n",
    "def calc_revenue_per_month(row):\n",
    "    \"\"\"\n",
    "    Функция принимает на вход строку датасета\n",
    "    Далее в цикле for i принимает значение от 1 до 12 (по количеству месяцев)\n",
    "    \n",
    "    Первым условием проверяется, что договор с абонентом действовал в текущем месяце.\n",
    "    Если договор в текущем месяце не действовал, то выручке от абонента присваивается '0'\n",
    "    (при сравнении `NaT < int` всегда возвращается False)\n",
    "    \n",
    "    messages_residual - остаток сообщений в текущем месяце\n",
    "    minutes_residual - остаток минут в текущем месяце\n",
    "    internet_residual - остаток Гб в текущем месяце\n",
    "    \n",
    "    Если переменная *_residual меньше нуля, то рассчитывается доп. стоимость исходя из тарифа абонента\n",
    "    \n",
    "    Итоговая выручка с абонента добавляется в ячейку df.loc[row.name, f'revenue_{i}_month']\n",
    "    Она равна абоненсткой плате и сумме стоимости доп. минут, сообщений, Гб\n",
    "    \"\"\"\n",
    "    for i in range (1, 13):\n",
    "        if row.churn_date.month < i:\n",
    "            df.loc[row.name, f'revenue_{i}_month'] = 0\n",
    "        else:\n",
    "            messages_residual = (row.messages_included - row[f'messages_count_{i}_month'])\n",
    "            minutes_residual = (row.minutes_included - row[f'calls_sum_{i}_month'])\n",
    "            internet_residual = (row.gb_per_month_included - row[f'internet_sum_{i}_month'])\n",
    "\n",
    "            extra_messages_cost = 0\n",
    "            extra_minutes_cost = 0\n",
    "            extra_internet_cost = 0\n",
    "\n",
    "            if messages_residual < 0:\n",
    "                extra_messages_cost = abs(messages_residual * row.rub_per_message)\n",
    "            if minutes_residual < 0:\n",
    "                extra_minutes_cost = abs(minutes_residual * row.rub_per_minute)\n",
    "            if internet_residual < 0:\n",
    "                extra_internet_cost = abs(internet_residual * row.rub_per_gb)\n",
    "\n",
    "            df.loc[row.name, f'revenue_{i}_month'] = (row.rub_monthly_fee\n",
    "                                                      + extra_messages_cost\n",
    "                                                      + extra_minutes_cost\n",
    "                                                      + extra_internet_cost)\n",
    "        \n",
    "df.apply(calc_revenue_per_month, axis=1)\n",
    "df"
   ]
  },
  {
   "cell_type": "markdown",
   "metadata": {},
   "source": [
    "Проверим работу функции:\n",
    "\n",
    "* Пользователь 1496 во втором месяце заплатил 3432 руб. \n",
    "* Абоненсткая плата на его тарифе составляет 550 руб. в месяц. \n",
    "* Звонков было совершено общей продолжительностью в 594 минуты при 500 минутах, включенных в тариф. Итого переплата за минуты составила (594 - 500) * 3 = 282 рубля \n",
    "* Сообщений было отправлено 45. 50 сообщений включено в тариф на месяц. Переплаты не было.\n",
    "* Трафика было израсходовано на 28 Гб, при доступных 15 Гб на месяц. Переплата составила (28 - 15) * 200 = 2600 руб.\n",
    "* Итого: 2600 + 282 + 550 = 3432 руб. Совпадает с расчётами функции.\n"
   ]
  },
  {
   "cell_type": "code",
   "execution_count": 32,
   "metadata": {},
   "outputs": [
    {
     "data": {
      "text/html": [
       "<div>\n",
       "<style scoped>\n",
       "    .dataframe tbody tr th:only-of-type {\n",
       "        vertical-align: middle;\n",
       "    }\n",
       "\n",
       "    .dataframe tbody tr th {\n",
       "        vertical-align: top;\n",
       "    }\n",
       "\n",
       "    .dataframe thead th {\n",
       "        text-align: right;\n",
       "    }\n",
       "</style>\n",
       "<table border=\"1\" class=\"dataframe\">\n",
       "  <thead>\n",
       "    <tr style=\"text-align: right;\">\n",
       "      <th></th>\n",
       "      <th>user_id</th>\n",
       "      <th>age</th>\n",
       "      <th>churn_date</th>\n",
       "      <th>city</th>\n",
       "      <th>first_name</th>\n",
       "      <th>last_name</th>\n",
       "      <th>reg_date</th>\n",
       "      <th>tariff</th>\n",
       "      <th>messages_included</th>\n",
       "      <th>mb_per_month_included</th>\n",
       "      <th>minutes_included</th>\n",
       "      <th>rub_monthly_fee</th>\n",
       "      <th>rub_per_gb</th>\n",
       "      <th>rub_per_message</th>\n",
       "      <th>rub_per_minute</th>\n",
       "      <th>gb_per_month_included</th>\n",
       "      <th>calls_count_1_month</th>\n",
       "      <th>calls_count_2_month</th>\n",
       "      <th>calls_count_3_month</th>\n",
       "      <th>calls_count_4_month</th>\n",
       "      <th>calls_count_5_month</th>\n",
       "      <th>calls_count_6_month</th>\n",
       "      <th>calls_count_7_month</th>\n",
       "      <th>calls_count_8_month</th>\n",
       "      <th>calls_count_9_month</th>\n",
       "      <th>calls_count_10_month</th>\n",
       "      <th>calls_count_11_month</th>\n",
       "      <th>calls_count_12_month</th>\n",
       "      <th>calls_sum_1_month</th>\n",
       "      <th>calls_sum_2_month</th>\n",
       "      <th>calls_sum_3_month</th>\n",
       "      <th>calls_sum_4_month</th>\n",
       "      <th>calls_sum_5_month</th>\n",
       "      <th>calls_sum_6_month</th>\n",
       "      <th>calls_sum_7_month</th>\n",
       "      <th>calls_sum_8_month</th>\n",
       "      <th>calls_sum_9_month</th>\n",
       "      <th>calls_sum_10_month</th>\n",
       "      <th>calls_sum_11_month</th>\n",
       "      <th>calls_sum_12_month</th>\n",
       "      <th>messages_count_1_month</th>\n",
       "      <th>messages_count_2_month</th>\n",
       "      <th>messages_count_3_month</th>\n",
       "      <th>messages_count_4_month</th>\n",
       "      <th>messages_count_5_month</th>\n",
       "      <th>messages_count_6_month</th>\n",
       "      <th>messages_count_7_month</th>\n",
       "      <th>messages_count_8_month</th>\n",
       "      <th>messages_count_9_month</th>\n",
       "      <th>messages_count_10_month</th>\n",
       "      <th>messages_count_11_month</th>\n",
       "      <th>messages_count_12_month</th>\n",
       "      <th>internet_sum_1_month</th>\n",
       "      <th>internet_sum_2_month</th>\n",
       "      <th>internet_sum_3_month</th>\n",
       "      <th>internet_sum_4_month</th>\n",
       "      <th>internet_sum_5_month</th>\n",
       "      <th>internet_sum_6_month</th>\n",
       "      <th>internet_sum_7_month</th>\n",
       "      <th>internet_sum_8_month</th>\n",
       "      <th>internet_sum_9_month</th>\n",
       "      <th>internet_sum_10_month</th>\n",
       "      <th>internet_sum_11_month</th>\n",
       "      <th>internet_sum_12_month</th>\n",
       "      <th>revenue_1_month</th>\n",
       "      <th>revenue_2_month</th>\n",
       "      <th>revenue_3_month</th>\n",
       "      <th>revenue_4_month</th>\n",
       "      <th>revenue_5_month</th>\n",
       "      <th>revenue_6_month</th>\n",
       "      <th>revenue_7_month</th>\n",
       "      <th>revenue_8_month</th>\n",
       "      <th>revenue_9_month</th>\n",
       "      <th>revenue_10_month</th>\n",
       "      <th>revenue_11_month</th>\n",
       "      <th>revenue_12_month</th>\n",
       "    </tr>\n",
       "  </thead>\n",
       "  <tbody>\n",
       "    <tr>\n",
       "      <th>496</th>\n",
       "      <td>1496</td>\n",
       "      <td>36</td>\n",
       "      <td>NaT</td>\n",
       "      <td>Вологда</td>\n",
       "      <td>Трифон</td>\n",
       "      <td>Блохин</td>\n",
       "      <td>2018-01-27</td>\n",
       "      <td>smart</td>\n",
       "      <td>50</td>\n",
       "      <td>15360</td>\n",
       "      <td>500</td>\n",
       "      <td>550</td>\n",
       "      <td>200</td>\n",
       "      <td>3</td>\n",
       "      <td>3</td>\n",
       "      <td>15.0</td>\n",
       "      <td>7.0</td>\n",
       "      <td>77.0</td>\n",
       "      <td>79.0</td>\n",
       "      <td>67.0</td>\n",
       "      <td>63.0</td>\n",
       "      <td>74.0</td>\n",
       "      <td>73.0</td>\n",
       "      <td>88.0</td>\n",
       "      <td>68.0</td>\n",
       "      <td>72.0</td>\n",
       "      <td>80.0</td>\n",
       "      <td>80.0</td>\n",
       "      <td>48.0</td>\n",
       "      <td>594.0</td>\n",
       "      <td>557.0</td>\n",
       "      <td>521.0</td>\n",
       "      <td>484.0</td>\n",
       "      <td>555.0</td>\n",
       "      <td>582.0</td>\n",
       "      <td>527.0</td>\n",
       "      <td>486.0</td>\n",
       "      <td>450.0</td>\n",
       "      <td>662.0</td>\n",
       "      <td>518.0</td>\n",
       "      <td>9.0</td>\n",
       "      <td>45.0</td>\n",
       "      <td>46.0</td>\n",
       "      <td>49.0</td>\n",
       "      <td>40.0</td>\n",
       "      <td>35.0</td>\n",
       "      <td>42.0</td>\n",
       "      <td>41.0</td>\n",
       "      <td>29.0</td>\n",
       "      <td>35.0</td>\n",
       "      <td>46.0</td>\n",
       "      <td>51.0</td>\n",
       "      <td>4.0</td>\n",
       "      <td>28.0</td>\n",
       "      <td>25.0</td>\n",
       "      <td>21.0</td>\n",
       "      <td>24.0</td>\n",
       "      <td>20.0</td>\n",
       "      <td>24.0</td>\n",
       "      <td>23.0</td>\n",
       "      <td>27.0</td>\n",
       "      <td>28.0</td>\n",
       "      <td>25.0</td>\n",
       "      <td>21.0</td>\n",
       "      <td>550.0</td>\n",
       "      <td>3432.0</td>\n",
       "      <td>2721.0</td>\n",
       "      <td>1813.0</td>\n",
       "      <td>2350.0</td>\n",
       "      <td>1715.0</td>\n",
       "      <td>2596.0</td>\n",
       "      <td>2231.0</td>\n",
       "      <td>2950.0</td>\n",
       "      <td>3150.0</td>\n",
       "      <td>3036.0</td>\n",
       "      <td>1807.0</td>\n",
       "    </tr>\n",
       "  </tbody>\n",
       "</table>\n",
       "</div>"
      ],
      "text/plain": [
       "     user_id  age churn_date     city first_name last_name   reg_date tariff  \\\n",
       "496     1496   36        NaT  Вологда     Трифон    Блохин 2018-01-27  smart   \n",
       "\n",
       "     messages_included  mb_per_month_included  minutes_included  \\\n",
       "496                 50                  15360               500   \n",
       "\n",
       "     rub_monthly_fee  rub_per_gb  rub_per_message  rub_per_minute  \\\n",
       "496              550         200                3               3   \n",
       "\n",
       "     gb_per_month_included  calls_count_1_month  calls_count_2_month  \\\n",
       "496                   15.0                  7.0                 77.0   \n",
       "\n",
       "     calls_count_3_month  calls_count_4_month  calls_count_5_month  \\\n",
       "496                 79.0                 67.0                 63.0   \n",
       "\n",
       "     calls_count_6_month  calls_count_7_month  calls_count_8_month  \\\n",
       "496                 74.0                 73.0                 88.0   \n",
       "\n",
       "     calls_count_9_month  calls_count_10_month  calls_count_11_month  \\\n",
       "496                 68.0                  72.0                  80.0   \n",
       "\n",
       "     calls_count_12_month  calls_sum_1_month  calls_sum_2_month  \\\n",
       "496                  80.0               48.0              594.0   \n",
       "\n",
       "     calls_sum_3_month  calls_sum_4_month  calls_sum_5_month  \\\n",
       "496              557.0              521.0              484.0   \n",
       "\n",
       "     calls_sum_6_month  calls_sum_7_month  calls_sum_8_month  \\\n",
       "496              555.0              582.0              527.0   \n",
       "\n",
       "     calls_sum_9_month  calls_sum_10_month  calls_sum_11_month  \\\n",
       "496              486.0               450.0               662.0   \n",
       "\n",
       "     calls_sum_12_month  messages_count_1_month  messages_count_2_month  \\\n",
       "496               518.0                     9.0                    45.0   \n",
       "\n",
       "     messages_count_3_month  messages_count_4_month  messages_count_5_month  \\\n",
       "496                    46.0                    49.0                    40.0   \n",
       "\n",
       "     messages_count_6_month  messages_count_7_month  messages_count_8_month  \\\n",
       "496                    35.0                    42.0                    41.0   \n",
       "\n",
       "     messages_count_9_month  messages_count_10_month  messages_count_11_month  \\\n",
       "496                    29.0                     35.0                     46.0   \n",
       "\n",
       "     messages_count_12_month  internet_sum_1_month  internet_sum_2_month  \\\n",
       "496                     51.0                   4.0                  28.0   \n",
       "\n",
       "     internet_sum_3_month  internet_sum_4_month  internet_sum_5_month  \\\n",
       "496                  25.0                  21.0                  24.0   \n",
       "\n",
       "     internet_sum_6_month  internet_sum_7_month  internet_sum_8_month  \\\n",
       "496                  20.0                  24.0                  23.0   \n",
       "\n",
       "     internet_sum_9_month  internet_sum_10_month  internet_sum_11_month  \\\n",
       "496                  27.0                   28.0                   25.0   \n",
       "\n",
       "     internet_sum_12_month  revenue_1_month  revenue_2_month  revenue_3_month  \\\n",
       "496                   21.0            550.0           3432.0           2721.0   \n",
       "\n",
       "     revenue_4_month  revenue_5_month  revenue_6_month  revenue_7_month  \\\n",
       "496           1813.0           2350.0           1715.0           2596.0   \n",
       "\n",
       "     revenue_8_month  revenue_9_month  revenue_10_month  revenue_11_month  \\\n",
       "496           2231.0           2950.0            3150.0            3036.0   \n",
       "\n",
       "     revenue_12_month  \n",
       "496            1807.0  "
      ]
     },
     "execution_count": 32,
     "metadata": {},
     "output_type": "execute_result"
    }
   ],
   "source": [
    "df.query('user_id == 1496')"
   ]
  },
  {
   "cell_type": "markdown",
   "metadata": {},
   "source": [
    "### Выводы по предобработке данных "
   ]
  },
  {
   "cell_type": "markdown",
   "metadata": {},
   "source": [
    "В результате предобработки данных были проведены следующие операции:\n",
    "1. Переименовали столбец в датафрейме `df_tariffs` для последующего соединения таблиц.\n",
    "2. Пропуски обнаружены только в столбце `churn_date` датафрейма `df_users`. Данные пропуски так и задуманы. Обработка пропусков не требуется.\n",
    "3. Столбцы с датами приведены к типу `datetime`.\n",
    "4. Проверен на дубликаты столбец `user_id` датафрейма `df_users`. Дубликаты не найдены.\n",
    "5. Добавлены расчёты по месяцам количества звонков, минут, сообщений, трафика для каждого пользователя.\n",
    "6. Добавлены столбцы с помесячной выручкой с каждого пользователя."
   ]
  },
  {
   "cell_type": "markdown",
   "metadata": {},
   "source": [
    "## Анализ данных"
   ]
  },
  {
   "cell_type": "markdown",
   "metadata": {},
   "source": [
    "Опишем поведение клиентов оператора, исходя из выборки. Выясним, сколько минут разговора, сколько сообщений и какой объём интернет-трафика требуется пользователям каждого тарифа в месяц. Посчитаем среднее количество, дисперсию и стандартное отклонение. Построим гистограммы. Опишем распределения."
   ]
  },
  {
   "cell_type": "markdown",
   "metadata": {},
   "source": [
    "### Предварительные расчёты "
   ]
  },
  {
   "cell_type": "code",
   "execution_count": 33,
   "metadata": {},
   "outputs": [],
   "source": [
    "# Создадим выборки пользователей по каждому тарифу\n",
    "df_smart = df.query('tariff == \"smart\"')\n",
    "df_ultra = df.query('tariff == \"ultra\"')"
   ]
  },
  {
   "cell_type": "code",
   "execution_count": 34,
   "metadata": {},
   "outputs": [
    {
     "data": {
      "text/html": [
       "<div>\n",
       "<style scoped>\n",
       "    .dataframe tbody tr th:only-of-type {\n",
       "        vertical-align: middle;\n",
       "    }\n",
       "\n",
       "    .dataframe tbody tr th {\n",
       "        vertical-align: top;\n",
       "    }\n",
       "\n",
       "    .dataframe thead th {\n",
       "        text-align: right;\n",
       "    }\n",
       "</style>\n",
       "<table border=\"1\" class=\"dataframe\">\n",
       "  <thead>\n",
       "    <tr style=\"text-align: right;\">\n",
       "      <th></th>\n",
       "      <th>calls_mean</th>\n",
       "      <th>message_mean</th>\n",
       "      <th>internet_mean</th>\n",
       "    </tr>\n",
       "  </thead>\n",
       "  <tbody>\n",
       "    <tr>\n",
       "      <th>1</th>\n",
       "      <td>203.852941</td>\n",
       "      <td>20.0</td>\n",
       "      <td>8.735294</td>\n",
       "    </tr>\n",
       "    <tr>\n",
       "      <th>2</th>\n",
       "      <td>298.689655</td>\n",
       "      <td>27.94</td>\n",
       "      <td>11.844828</td>\n",
       "    </tr>\n",
       "    <tr>\n",
       "      <th>3</th>\n",
       "      <td>390.051948</td>\n",
       "      <td>35.550725</td>\n",
       "      <td>15.233766</td>\n",
       "    </tr>\n",
       "    <tr>\n",
       "      <th>4</th>\n",
       "      <td>367.133929</td>\n",
       "      <td>35.864583</td>\n",
       "      <td>13.625</td>\n",
       "    </tr>\n",
       "    <tr>\n",
       "      <th>5</th>\n",
       "      <td>387.361702</td>\n",
       "      <td>39.032787</td>\n",
       "      <td>15.907801</td>\n",
       "    </tr>\n",
       "    <tr>\n",
       "      <th>6</th>\n",
       "      <td>398.067485</td>\n",
       "      <td>38.577465</td>\n",
       "      <td>15.95122</td>\n",
       "    </tr>\n",
       "    <tr>\n",
       "      <th>7</th>\n",
       "      <td>408.353234</td>\n",
       "      <td>38.988506</td>\n",
       "      <td>15.875622</td>\n",
       "    </tr>\n",
       "    <tr>\n",
       "      <th>8</th>\n",
       "      <td>423.269231</td>\n",
       "      <td>38.75</td>\n",
       "      <td>16.807692</td>\n",
       "    </tr>\n",
       "    <tr>\n",
       "      <th>9</th>\n",
       "      <td>430.266409</td>\n",
       "      <td>39.219731</td>\n",
       "      <td>16.392308</td>\n",
       "    </tr>\n",
       "    <tr>\n",
       "      <th>10</th>\n",
       "      <td>427.590444</td>\n",
       "      <td>39.082677</td>\n",
       "      <td>16.880952</td>\n",
       "    </tr>\n",
       "    <tr>\n",
       "      <th>11</th>\n",
       "      <td>436.647619</td>\n",
       "      <td>39.881481</td>\n",
       "      <td>17.0</td>\n",
       "    </tr>\n",
       "    <tr>\n",
       "      <th>12</th>\n",
       "      <td>479.985119</td>\n",
       "      <td>42.264808</td>\n",
       "      <td>18.20178</td>\n",
       "    </tr>\n",
       "  </tbody>\n",
       "</table>\n",
       "</div>"
      ],
      "text/plain": [
       "    calls_mean message_mean internet_mean\n",
       "1   203.852941         20.0      8.735294\n",
       "2   298.689655        27.94     11.844828\n",
       "3   390.051948    35.550725     15.233766\n",
       "4   367.133929    35.864583        13.625\n",
       "5   387.361702    39.032787     15.907801\n",
       "6   398.067485    38.577465      15.95122\n",
       "7   408.353234    38.988506     15.875622\n",
       "8   423.269231        38.75     16.807692\n",
       "9   430.266409    39.219731     16.392308\n",
       "10  427.590444    39.082677     16.880952\n",
       "11  436.647619    39.881481          17.0\n",
       "12  479.985119    42.264808      18.20178"
      ]
     },
     "execution_count": 34,
     "metadata": {},
     "output_type": "execute_result"
    }
   ],
   "source": [
    "# Создадим сводную таблицу со среднем количеством минут, \n",
    "# сообщений и потребления трафика по месяцам для пользователей тарифа Smart\n",
    "df_smart_pivot = pd.DataFrame(index=range(1,13), columns=['calls_mean', 'message_mean', 'internet_mean'])\n",
    "for i in range (1, 13):\n",
    "    df_smart_pivot.loc[i, 'calls_mean'] = df_smart[f'calls_sum_{i}_month'].mean()\n",
    "    df_smart_pivot.loc[i, 'message_mean'] = df_smart[f'messages_count_{i}_month'].mean()\n",
    "    df_smart_pivot.loc[i, 'internet_mean'] = df_smart[f'internet_sum_{i}_month'].mean()\n",
    "df_smart_pivot"
   ]
  },
  {
   "cell_type": "code",
   "execution_count": 35,
   "metadata": {},
   "outputs": [
    {
     "data": {
      "text/plain": [
       "'Среднее по столбцу calls_mean: 387.60580961751907'"
      ]
     },
     "metadata": {},
     "output_type": "display_data"
    },
    {
     "data": {
      "text/plain": [
       "'Дисперсия по столбцу calls_mean: 5296.8959771205455'"
      ]
     },
     "metadata": {},
     "output_type": "display_data"
    },
    {
     "data": {
      "text/plain": [
       "'Стандартное отклонение по столбцу calls_mean: 72.7797772538536'"
      ]
     },
     "metadata": {},
     "output_type": "display_data"
    }
   ],
   "source": [
    "# Рассчитаем среднее, дисперсию и стандратное отклонение для каждого столбца df_smart_pivot\n",
    "# Учтём, что у нас на руках выборка, а не генеральная совокупность: \n",
    "# укажем параметр ddof=1 для дисперсии и стандарного отклонения\n",
    "# Для примера выведем результаты по столбцу calls_mean\n",
    "smart_calls_mean = np.mean(df_smart_pivot.calls_mean)\n",
    "smart_calls_var = np.var(df_smart_pivot.calls_mean, ddof=1)\n",
    "smart_calls_std = np.std(df_smart_pivot.calls_mean, ddof=1)\n",
    "\n",
    "smart_message_mean = np.mean(df_smart_pivot.calls_mean)\n",
    "smart_message_var = np.var(df_smart_pivot.message_mean, ddof=1)\n",
    "smart_message_std = np.std(df_smart_pivot.message_mean, ddof=1)\n",
    "\n",
    "smart_internet_mean = np.mean(df_smart_pivot.calls_mean)\n",
    "smart_internet_var = np.var(df_smart_pivot.internet_mean, ddof=1)\n",
    "smart_internet_std = np.std(df_smart_pivot.internet_mean, ddof=1)\n",
    "\n",
    "display(f'Среднее по столбцу calls_mean: {smart_calls_mean}')\n",
    "display(f'Дисперсия по столбцу calls_mean: {smart_calls_var}')\n",
    "display(f'Стандартное отклонение по столбцу calls_mean: {smart_calls_std}')"
   ]
  },
  {
   "cell_type": "code",
   "execution_count": 36,
   "metadata": {},
   "outputs": [
    {
     "data": {
      "text/html": [
       "<div>\n",
       "<style scoped>\n",
       "    .dataframe tbody tr th:only-of-type {\n",
       "        vertical-align: middle;\n",
       "    }\n",
       "\n",
       "    .dataframe tbody tr th {\n",
       "        vertical-align: top;\n",
       "    }\n",
       "\n",
       "    .dataframe thead th {\n",
       "        text-align: right;\n",
       "    }\n",
       "</style>\n",
       "<table border=\"1\" class=\"dataframe\">\n",
       "  <thead>\n",
       "    <tr style=\"text-align: right;\">\n",
       "      <th></th>\n",
       "      <th>calls_mean</th>\n",
       "      <th>message_mean</th>\n",
       "      <th>internet_mean</th>\n",
       "    </tr>\n",
       "  </thead>\n",
       "  <tbody>\n",
       "    <tr>\n",
       "      <th>1</th>\n",
       "      <td>428.111111</td>\n",
       "      <td>43.428571</td>\n",
       "      <td>13.222222</td>\n",
       "    </tr>\n",
       "    <tr>\n",
       "      <th>2</th>\n",
       "      <td>297.125</td>\n",
       "      <td>32.9375</td>\n",
       "      <td>13.090909</td>\n",
       "    </tr>\n",
       "    <tr>\n",
       "      <th>3</th>\n",
       "      <td>489.648649</td>\n",
       "      <td>47.8</td>\n",
       "      <td>17.648649</td>\n",
       "    </tr>\n",
       "    <tr>\n",
       "      <th>4</th>\n",
       "      <td>475.301887</td>\n",
       "      <td>44.512821</td>\n",
       "      <td>16.963636</td>\n",
       "    </tr>\n",
       "    <tr>\n",
       "      <th>5</th>\n",
       "      <td>534.25</td>\n",
       "      <td>48.769231</td>\n",
       "      <td>19.666667</td>\n",
       "    </tr>\n",
       "    <tr>\n",
       "      <th>6</th>\n",
       "      <td>497.469136</td>\n",
       "      <td>52.313433</td>\n",
       "      <td>19.168675</td>\n",
       "    </tr>\n",
       "    <tr>\n",
       "      <th>7</th>\n",
       "      <td>564.397727</td>\n",
       "      <td>62.136986</td>\n",
       "      <td>20.733333</td>\n",
       "    </tr>\n",
       "    <tr>\n",
       "      <th>8</th>\n",
       "      <td>530.61165</td>\n",
       "      <td>58.897727</td>\n",
       "      <td>19.783019</td>\n",
       "    </tr>\n",
       "    <tr>\n",
       "      <th>9</th>\n",
       "      <td>558.882883</td>\n",
       "      <td>63.294737</td>\n",
       "      <td>19.412281</td>\n",
       "    </tr>\n",
       "    <tr>\n",
       "      <th>10</th>\n",
       "      <td>581.728814</td>\n",
       "      <td>69.776699</td>\n",
       "      <td>20.229508</td>\n",
       "    </tr>\n",
       "    <tr>\n",
       "      <th>11</th>\n",
       "      <td>562.364341</td>\n",
       "      <td>66.159292</td>\n",
       "      <td>19.954887</td>\n",
       "    </tr>\n",
       "    <tr>\n",
       "      <th>12</th>\n",
       "      <td>614.925373</td>\n",
       "      <td>72.008547</td>\n",
       "      <td>21.898551</td>\n",
       "    </tr>\n",
       "  </tbody>\n",
       "</table>\n",
       "</div>"
      ],
      "text/plain": [
       "    calls_mean message_mean internet_mean\n",
       "1   428.111111    43.428571     13.222222\n",
       "2      297.125      32.9375     13.090909\n",
       "3   489.648649         47.8     17.648649\n",
       "4   475.301887    44.512821     16.963636\n",
       "5       534.25    48.769231     19.666667\n",
       "6   497.469136    52.313433     19.168675\n",
       "7   564.397727    62.136986     20.733333\n",
       "8    530.61165    58.897727     19.783019\n",
       "9   558.882883    63.294737     19.412281\n",
       "10  581.728814    69.776699     20.229508\n",
       "11  562.364341    66.159292     19.954887\n",
       "12  614.925373    72.008547     21.898551"
      ]
     },
     "execution_count": 36,
     "metadata": {},
     "output_type": "execute_result"
    }
   ],
   "source": [
    "# Создадим сводную таблицу со среднем количеством минут,\n",
    "# сообщений и потребления трафика по месяцам для пользователей тарифа Ultra\n",
    "df_ultra_pivot = pd.DataFrame(index=range(1,13), columns=['calls_mean', 'message_mean', 'internet_mean'])\n",
    "for i in range (1, 13):\n",
    "    df_ultra_pivot.loc[i, 'calls_mean'] = df_ultra[f'calls_sum_{i}_month'].mean()\n",
    "    df_ultra_pivot.loc[i, 'message_mean'] = df_ultra[f'messages_count_{i}_month'].mean()\n",
    "    df_ultra_pivot.loc[i, 'internet_mean'] = df_ultra[f'internet_sum_{i}_month'].mean()\n",
    "df_ultra_pivot"
   ]
  },
  {
   "cell_type": "code",
   "execution_count": 37,
   "metadata": {},
   "outputs": [
    {
     "data": {
      "text/plain": [
       "'Среднее по столбцу calls_mean: 511.23471423122083'"
      ]
     },
     "metadata": {},
     "output_type": "display_data"
    },
    {
     "data": {
      "text/plain": [
       "'Дисперсия по столбцу calls_mean: 7185.123007600402'"
      ]
     },
     "metadata": {},
     "output_type": "display_data"
    },
    {
     "data": {
      "text/plain": [
       "'Стандартное отклонение по столбцу calls_mean: 84.76510489346664'"
      ]
     },
     "metadata": {},
     "output_type": "display_data"
    }
   ],
   "source": [
    "# Рассчитаем среднее, дисперсию и стандратное отклонение для каждого столбца df_ultra_pivot\n",
    "# Учтём, что у нас на руках выборка, а не генеральная совокупность:\n",
    "# укажем параметр ddof=1 для дисперсии и стандарного отклонения\n",
    "# Для примера выведем результаты по столбцу calls_mean\n",
    "ultra_calls_mean = np.mean(df_ultra_pivot.calls_mean)\n",
    "ultra_calls_var = np.var(df_ultra_pivot.calls_mean, ddof=1)\n",
    "ultra_calls_std = np.std(df_ultra_pivot.calls_mean, ddof=1)\n",
    "\n",
    "ultra_message_mean = np.mean(df_ultra_pivot.calls_mean)\n",
    "ultra_message_var = np.var(df_ultra_pivot.message_mean, ddof=1)\n",
    "ultra_message_std = np.std(df_ultra_pivot.message_mean, ddof=1)\n",
    "\n",
    "ultra_internet_mean = np.mean(df_ultra_pivot.calls_mean)\n",
    "ultra_internet_var = np.var(df_ultra_pivot.internet_mean, ddof=1)\n",
    "ultra_internet_std = np.std(df_ultra_pivot.internet_mean, ddof=1)\n",
    "\n",
    "display(f'Среднее по столбцу calls_mean: {ultra_calls_mean}')\n",
    "display(f'Дисперсия по столбцу calls_mean: {ultra_calls_var}')\n",
    "display(f'Стандартное отклонение по столбцу calls_mean: {ultra_calls_std}')"
   ]
  },
  {
   "cell_type": "markdown",
   "metadata": {},
   "source": [
    "### Анализ среднего количества минут по месяцам"
   ]
  },
  {
   "cell_type": "code",
   "execution_count": 38,
   "metadata": {},
   "outputs": [
    {
     "data": {
      "image/png": "[encoded data removed]",
      "text/plain": [
       "<Figure size 864x576 with 1 Axes>"
      ]
     },
     "metadata": {
      "needs_background": "light"
     },
     "output_type": "display_data"
    }
   ],
   "source": [
    "(df_smart_pivot\n",
    " .calls_mean\n",
    " .plot(kind='bar', grid=True, color='red'))\n",
    "ax = (df_ultra_pivot\n",
    "      .calls_mean\n",
    "      .plot(kind='bar', grid=True, alpha=0.5, figsize=(12, 8)))\n",
    "ax.set(xlabel='Месяц', ylabel='Среднее количество минут', title='Среднее количество минут в месяц')\n",
    "ax.legend(['Тариф Smart', 'Тариф Ultra']);"
   ]
  },
  {
   "cell_type": "markdown",
   "metadata": {},
   "source": [
    "Анализ среднего количества минут по месяцам:  \n",
    "Хорошо заметен положительный тренд к росту количества минут в месяц. Пользователи тарифа Smart разговаривают примерно 400 минут в месяц. Пользователи тарифа Ultra наговаривают примерно на 100-150 минут в месяц больше, около 500 минут в месяц. В первые два месяца вероятно происходил бурный рост количества абонентов каждого тарифа. В первый месяц пользователи тарифа Smart разговаривали 200 минут в среднем, а пользователи тарифа Ultra чуть более 400 минут в среднем. Во второй месяц среднее количество израсходованных минут по обоим тарифам оказалось почти равным. Сложно сказать с чем это может быть связано."
   ]
  },
  {
   "cell_type": "markdown",
   "metadata": {},
   "source": [
    "### Анализ  среднего количества отправленных сообщений по месяцам"
   ]
  },
  {
   "cell_type": "code",
   "execution_count": 39,
   "metadata": {},
   "outputs": [
    {
     "data": {
      "image/png": "[encoded data removed]",
      "text/plain": [
       "<Figure size 864x576 with 1 Axes>"
      ]
     },
     "metadata": {
      "needs_background": "light"
     },
     "output_type": "display_data"
    }
   ],
   "source": [
    "(df_smart_pivot\n",
    " .message_mean\n",
    " .plot(kind='bar', grid=True, color='red'))\n",
    "ax = (df_ultra_pivot\n",
    "      .message_mean\n",
    "      .plot(kind='bar', grid=True, alpha=0.5, figsize=(12, 8)))\n",
    "ax.set(xlabel='Месяц', ylabel='Среднее количество сообщений', title='Среднее количество сообщений в месяц')\n",
    "ax.legend(['Тариф Smart', 'Тариф Ultra']);"
   ]
  },
  {
   "cell_type": "markdown",
   "metadata": {},
   "source": [
    "Анализ среднего количества отправленных сообщений по месяцам:  \n",
    "В первые два месяца распределения показывают поведение, аналогичное распределениям про количество потраченных минут в месяц. Начиная с третьего месяца и до конца года пользователи тарифа Smart отправляют примерно 40 сообщений в месяц.    \n",
    "В то же время количество сообщений, которые отправляют пользователи тарифа Ultra, с небольшими просадками, но постепенно растёт в течении всего года и доходит до 70 сообщений в среднем в декабре."
   ]
  },
  {
   "cell_type": "markdown",
   "metadata": {},
   "source": [
    "### Анализ  среднего количества использованных гигабайт по месяцам"
   ]
  },
  {
   "cell_type": "code",
   "execution_count": 40,
   "metadata": {},
   "outputs": [
    {
     "data": {
      "image/png": "[encoded data removed]",
      "text/plain": [
       "<Figure size 864x576 with 1 Axes>"
      ]
     },
     "metadata": {
      "needs_background": "light"
     },
     "output_type": "display_data"
    }
   ],
   "source": [
    "(df_smart_pivot\n",
    " .internet_mean\n",
    " .plot(kind='bar', grid=True, color='red'))\n",
    "ax = (df_ultra_pivot\n",
    "      .internet_mean\n",
    "      .plot(kind='bar', grid=True, alpha=0.5, figsize=(12, 8)))\n",
    "ax.set(xlabel='Месяц', ylabel='Среднее количество гигабайт', title='Среднее количество использованных гигабайт в месяц')\n",
    "ax.legend(['Тариф Smart', 'Тариф Ultra']);"
   ]
  },
  {
   "cell_type": "markdown",
   "metadata": {},
   "source": [
    "Анализ среднего количества использованных гигабайт по месяцам:  \n",
    "Первые два месяца примерно повторяют замеченное на предыдущих распределениях. Далее заметно, что пользователи тарифа Smart в среднем используют более 15 Гб в месяц. При этом в месяц в тариф включено как раз 15 Гб. Т.е. пользователи тарифа Smart доплачивают за интренет-трафик.  \n",
    "Пользователи тарифа Ultra используют около 20 Гб трафика в месяц большую часть года. В их тариф включено 30 Гб."
   ]
  },
  {
   "cell_type": "markdown",
   "metadata": {},
   "source": [
    "### Выводы по анализу данных "
   ]
  },
  {
   "cell_type": "markdown",
   "metadata": {},
   "source": [
    "Анализ среднего количества минут по месяцам:  \n",
    "Хорошо заметен положительный тренд к росту количества минут в месяц. Пользователи тарифа Smart разговаривают примерно 400 минут в месяц. Пользователи тарифа Ultra наговаривают примерно на 100-150 минут в месяц больше, около 500 минут в месяц. В первые два месяца вероятно происходил бурный рост количества абонентов каждого тарифа. В первый месяц пользователи тарифа Smart разговаривали 200 минут в среднем, а пользователи тарифа Ultra чуть более 400 минут в среднем. Во второй месяц среднее количество израсходованных минут по обоим тарифам оказалось почти равным. Сложно сказать с чем это может быть связано."
   ]
  },
  {
   "cell_type": "markdown",
   "metadata": {},
   "source": [
    "Анализ среднего количества отправленных сообщений по месяцам:  \n",
    "В первые два месяца распределения показывают поведение, аналогичное распределениям по количеству минут в месяц. Начиная с третьего месяца и до конца года пользователи тарифа Smart отправляют примерно 40 сообщений в месяц.    \n",
    "В то же время количество сообщений, которые отправляют пользователи тарифа Ultra, с небольшими просадками, но постепенно растёт в течении всего года и доходит до 70 сообщений в среднем в декабре."
   ]
  },
  {
   "cell_type": "markdown",
   "metadata": {},
   "source": [
    "Анализ среднего количества использованных гигабайт по месяцам:  \n",
    "Первые два месяца примерно повторяют замеченное на предыдущих распределениях. Далее заметно, что пользователи тарифа Smart в среднем используют более 15 Гб в месяц. При этом в месяц в тариф включено как раз 15 Гб. Т.е. пользователи тарифа Smart доплачивают за интренет-трафик.  \n",
    "Пользователи тарифа Ultra используют около 20 Гб трафика в месяц большую часть года. В их тариф включено 30 Гб."
   ]
  },
  {
   "cell_type": "markdown",
   "metadata": {},
   "source": [
    "## Проверка гипотез"
   ]
  },
  {
   "cell_type": "markdown",
   "metadata": {},
   "source": [
    "Нам необходимо проверить следующие гипотезы:\n",
    "* средняя выручка пользователей тарифов «Ультра» и «Смарт» различаются;\n",
    "* средняя выручка пользователей из Москвы отличается от выручки пользователей из других регионов."
   ]
  },
  {
   "cell_type": "markdown",
   "metadata": {},
   "source": [
    "Для начала подготовим выборки: сформируем сводные таблицы с выручкой по тарифам и с разделением на пользователей из Москвы и за её пределами."
   ]
  },
  {
   "cell_type": "markdown",
   "metadata": {},
   "source": [
    "### Предварительные расчёты "
   ]
  },
  {
   "cell_type": "markdown",
   "metadata": {},
   "source": [
    "#### Выручкая с пользователей тарифа Smart"
   ]
  },
  {
   "cell_type": "code",
   "execution_count": 41,
   "metadata": {},
   "outputs": [
    {
     "data": {
      "text/plain": [
       "1       600.000000\n",
       "2       833.333333\n",
       "5       827.000000\n",
       "6       900.000000\n",
       "7       822.583333\n",
       "          ...     \n",
       "494     733.583333\n",
       "496    2362.583333\n",
       "497     644.583333\n",
       "498     828.000000\n",
       "499     684.250000\n",
       "Length: 351, dtype: float64"
      ]
     },
     "execution_count": 41,
     "metadata": {},
     "output_type": "execute_result"
    }
   ],
   "source": [
    "# Посчитаем среднюю выручку по каждому пользователю тарифа Smart\n",
    "revenue_columns = ['revenue_1_month',\n",
    "                   'revenue_2_month', \n",
    "                   'revenue_3_month', \n",
    "                   'revenue_4_month', \n",
    "                   'revenue_5_month', \n",
    "                   'revenue_6_month',\n",
    "                   'revenue_7_month', \n",
    "                   'revenue_8_month', \n",
    "                   'revenue_9_month', \n",
    "                   'revenue_10_month', \n",
    "                   'revenue_11_month', \n",
    "                   'revenue_12_month']\n",
    "\n",
    "df_smart_revenue = df_smart.loc[:, revenue_columns]                   \n",
    "df_smart_mean_revenue = df_smart_revenue.mean(axis=1)\n",
    "df_smart_mean_revenue"
   ]
  },
  {
   "cell_type": "markdown",
   "metadata": {},
   "source": [
    "#### Выручкая с пользователей тарифа Ultra"
   ]
  },
  {
   "cell_type": "code",
   "execution_count": 42,
   "metadata": {},
   "outputs": [
    {
     "data": {
      "text/plain": [
       "0      1950.0\n",
       "3      1950.0\n",
       "4      1950.0\n",
       "13     1950.0\n",
       "16     1950.0\n",
       "        ...  \n",
       "476    1950.0\n",
       "485    1950.0\n",
       "491    1950.0\n",
       "493    2100.0\n",
       "495    2100.0\n",
       "Length: 149, dtype: float64"
      ]
     },
     "execution_count": 42,
     "metadata": {},
     "output_type": "execute_result"
    }
   ],
   "source": [
    "# Посчитаем среднюю выручку по каждому пользователю тарифа Ultra\n",
    "df_ultra_revenue = df_ultra.loc[:, revenue_columns]\n",
    "df_ultra_mean_revenue = df_ultra_revenue.mean(axis=1)\n",
    "df_ultra_mean_revenue"
   ]
  },
  {
   "cell_type": "markdown",
   "metadata": {},
   "source": [
    "#### Выручкая с пользователей из Москвы"
   ]
  },
  {
   "cell_type": "code",
   "execution_count": 43,
   "metadata": {},
   "outputs": [
    {
     "data": {
      "text/plain": [
       "1       600.000000\n",
       "3      1950.000000\n",
       "7       822.583333\n",
       "31      606.750000\n",
       "33     1232.000000\n",
       "          ...     \n",
       "453    1950.000000\n",
       "461    1950.000000\n",
       "476    1950.000000\n",
       "481    1100.000000\n",
       "490     953.000000\n",
       "Length: 99, dtype: float64"
      ]
     },
     "execution_count": 43,
     "metadata": {},
     "output_type": "execute_result"
    }
   ],
   "source": [
    "# Посчитаем среднюю выручку по каждому пользователю из Москвы\n",
    "df_moscow_revenue = df.query('city == \"Москва\"').loc[:, revenue_columns]                 \n",
    "df_moscow_mean_revenue = df_moscow_revenue.mean(axis=1)\n",
    "df_moscow_mean_revenue"
   ]
  },
  {
   "cell_type": "markdown",
   "metadata": {},
   "source": [
    "#### Выручкая с пользователей не из Москвы"
   ]
  },
  {
   "cell_type": "code",
   "execution_count": 44,
   "metadata": {},
   "outputs": [
    {
     "data": {
      "text/plain": [
       "0      1950.000000\n",
       "2       833.333333\n",
       "4      1950.000000\n",
       "5       827.000000\n",
       "6       900.000000\n",
       "          ...     \n",
       "495    2100.000000\n",
       "496    2362.583333\n",
       "497     644.583333\n",
       "498     828.000000\n",
       "499     684.250000\n",
       "Length: 401, dtype: float64"
      ]
     },
     "execution_count": 44,
     "metadata": {},
     "output_type": "execute_result"
    }
   ],
   "source": [
    "# Посчитаем среднюю выручку по каждому пользователю не из Москвы\n",
    "df_not_moscow_revenue = df.query('city != \"Москва\"').loc[:, revenue_columns]                 \n",
    "df_not_moscow_mean_revenue = df_not_moscow_revenue.mean(axis=1)\n",
    "df_not_moscow_mean_revenue"
   ]
  },
  {
   "cell_type": "markdown",
   "metadata": {},
   "source": [
    "### Проверка гипотезы №1"
   ]
  },
  {
   "cell_type": "markdown",
   "metadata": {},
   "source": [
    "H0: Cредняя выручка пользователей тарифов «Ультра» и «Смарт» равна.  \n",
    "H1: Cредняя выручка пользователей тарифов «Ультра» и «Смарт» не равна. "
   ]
  },
  {
   "cell_type": "code",
   "execution_count": 45,
   "metadata": {},
   "outputs": [
    {
     "data": {
      "text/plain": [
       "'P-value равно:1.0543233581380927e-173'"
      ]
     },
     "metadata": {},
     "output_type": "display_data"
    },
    {
     "data": {
      "text/plain": [
       "'Отвергаем нулевую гипотезу'"
      ]
     },
     "metadata": {},
     "output_type": "display_data"
    }
   ],
   "source": [
    "# Возьмём уровень статистической значимости, равный 5%\n",
    "alpha = 0.05\n",
    "\n",
    "# Проведём t-тест на равность выборочных средних. \n",
    "# Укажем, что дисперсии выборок не равны между собой, т.к. это различные группы пользователей\n",
    "# А так же потому что у нас выборки разных размеров\n",
    "results = st.ttest_ind(df_smart_mean_revenue.to_list(), df_ultra_mean_revenue.to_list(), equal_var=False)\n",
    "\n",
    "display(f'P-value равно:{results.pvalue}')\n",
    "\n",
    "if results.pvalue < alpha:\n",
    "    display(\"Отвергаем нулевую гипотезу\")\n",
    "else:\n",
    "    display(\"Не получилось отвергнуть нулевую гипотезу\") "
   ]
  },
  {
   "cell_type": "markdown",
   "metadata": {},
   "source": [
    "В результате проведенного t-теста мы получили очень небольшое значение p-valuе: 1.054e-173. Существует крайне небольшая вероятность (более 170 знаков после запятой) того, что средние значения выручки от пользователей тарифов Smart и Ultra будут равны. Отвергаем гипотезу о том, что средняя выручка данных групп пользователей равна."
   ]
  },
  {
   "cell_type": "markdown",
   "metadata": {},
   "source": [
    "### Проверка гипотезы №2"
   ]
  },
  {
   "cell_type": "markdown",
   "metadata": {},
   "source": [
    "H0: Cредняя выручка пользователей из Москвы и пользователей не из Москвы равна.  \n",
    "H1: Cредняя выручка пользователей из Москвы и пользователей не из Москвы не равна. "
   ]
  },
  {
   "cell_type": "code",
   "execution_count": 46,
   "metadata": {},
   "outputs": [
    {
     "data": {
      "text/plain": [
       "'P-value равно:0.816563974490117'"
      ]
     },
     "metadata": {},
     "output_type": "display_data"
    },
    {
     "data": {
      "text/plain": [
       "'Не получилось отвергнуть нулевую гипотезу'"
      ]
     },
     "metadata": {},
     "output_type": "display_data"
    }
   ],
   "source": [
    "# Возьмём уровень статистической значимости, равный 5%\n",
    "alpha = 0.05\n",
    "\n",
    "# Проведём t-тест на равность выборочных средних. \n",
    "# Укажем, что дисперсии выборок не равны между собой, т.к. это различные группы пользователей\n",
    "# А так же потому что у нас выборки разных размеров\n",
    "results = st.ttest_ind(df_not_moscow_mean_revenue.to_list(), df_moscow_mean_revenue.to_list(), equal_var=False)\n",
    "\n",
    "display(f'P-value равно:{results.pvalue}')\n",
    "\n",
    "if results.pvalue < alpha:\n",
    "    display(\"Отвергаем нулевую гипотезу\")\n",
    "else:\n",
    "    display(\"Не получилось отвергнуть нулевую гипотезу\") "
   ]
  },
  {
   "cell_type": "markdown",
   "metadata": {},
   "source": [
    "В результате проведенного t-теста мы получили большое значение p-valuе: 0.816. Существует вероятность в 80%, что средняя выручка пользователей из Москвы и не из Москвы равна. В таком случае мы никак не можем отвергать гипотезу, что средняя выручка данных групп пользователей равна."
   ]
  },
  {
   "cell_type": "markdown",
   "metadata": {},
   "source": [
    "## Общий вывод"
   ]
  },
  {
   "cell_type": "markdown",
   "metadata": {},
   "source": [
    "В нашем распоряжении оказалась выборка из данных 500 пользователей оператора «Мегалайн» за 2018 год. В результате проведённого анализа данных мы сделали следующие выводы:"
   ]
  },
  {
   "cell_type": "markdown",
   "metadata": {},
   "source": [
    "### Анализ данных"
   ]
  },
  {
   "cell_type": "markdown",
   "metadata": {},
   "source": [
    "Анализ среднего количества минут по месяцам:  \n",
    "Хорошо заметен положительный тренд к росту количества минут в месяц. Пользователи тарифа Smart разговаривают примерно 400 минут в месяц. Пользователи тарифа Ultra наговаривают примерно на 100-150 минут в месяц больше, около 500 минут в месяц. В первые два месяца вероятно происходил бурный рост количества абонентов каждого тарифа. В первый месяц пользователи тарифа Smart разговаривали 200 минут в среднем, а пользователи тарифа Ultra чуть более 400 минут в среднем. Во второй месяц среднее количество израсходованных минут по обоим тарифам оказалось почти равным. Сложно сказать с чем это может быть связано.\n",
    "\n",
    "Анализ среднего количества отправленных сообщений по месяцам:  \n",
    "В первые два месяца распределения показывают поведение, аналогичное распределениям про количество потраченных минут в месяц. Начиная с третьего месяца и до конца года пользователи тарифа Smart отправляют примерно 40 сообщений в месяц.    \n",
    "В то же время количество сообщений, которые отправляют пользователи тарифа Ultra, с небольшими просадками, но постепенно растёт в течении всего года и доходит до 70 сообщений в среднем в декабре.\n",
    "\n",
    "Анализ среднего количества использованных гигабайт по месяцам:  \n",
    "Первые два месяца примерно повторяют замеченное на предыдущих распределениях. Далее заметно, что пользователи тарифа Smart в среднем используют более 15 Гб в месяц. При этом в месяц в тариф включено как раз 15 Гб. Т.е. пользователи тарифа Smart доплачивают за интренет-трафик.  \n",
    "Пользователи тарифа Ultra используют около 20 Гб трафика в месяц большую часть года. В их тариф включено 30 Гб."
   ]
  },
  {
   "cell_type": "markdown",
   "metadata": {},
   "source": [
    "#### Вывод по анализу данных "
   ]
  },
  {
   "cell_type": "markdown",
   "metadata": {},
   "source": [
    "Общий вывод по тарифам: пользователи тарифа Ultra тратят больше минут, сообщений, гигабайт в месяц, чем пользователи тарифа Smart. Но пользователи тарифа Smart чаще тратят минуты, сообщения, гигабайты сверх включенного в месячный план. Однозначно ответить на вопрос \"Какой тариф для компании лучше?\" пока что не представляется возможным: необходимо проведение дополнительных исследований с учётом выручки, количества пользователей и прочих факторов, которые важны для такого анализа."
   ]
  },
  {
   "cell_type": "markdown",
   "metadata": {},
   "source": [
    "### Проверка гипотез"
   ]
  },
  {
   "cell_type": "markdown",
   "metadata": {},
   "source": [
    "Были сформулированы и проверены следующие гипотезы:\n",
    "\n",
    "Гипотеза №1:  \n",
    "H0: Cредняя выручка пользователей тарифов «Ультра» и «Смарт» равна.  \n",
    "H1: Cредняя выручка пользователей тарифов «Ультра» и «Смарт» не равна. \n",
    "\n",
    "Гипотеза №2:  \n",
    "H0: Cредняя выручка пользователей из Москвы и пользователей не из Москвы равна.  \n",
    "H1: Cредняя выручка пользователей из Москвы и пользователей не из Москвы не равна. "
   ]
  },
  {
   "cell_type": "markdown",
   "metadata": {},
   "source": [
    "#### Выводы по проверке гипотез"
   ]
  },
  {
   "cell_type": "markdown",
   "metadata": {},
   "source": [
    "В результате проведенного t-теста гипотезы №1 мы получили очень небольшое значение p-valuе: 1.054e-173. Существует крайне небольшая вероятность (более 170 знаков после запятой) того, что средние значения выручки от пользователей тарифов Smart и Ultra будут равны. Отвергаем гипотезу о том, что средняя выручка данных групп пользователей равна.\n",
    "\n",
    "В результате проведенного t-теста гипотезы №2 мы получили большое значение p-valuе: 0.816. Существует вероятность в 80%, что средняя выручка пользователей из Москвы и не из Москвы равна. В таком случае мы никак не можем отвергать гипотезу, что средняя выручка данных групп пользователей равна."
   ]
  }
 ],
 "metadata": {
  "ExecuteTimeLog": [
   {
    "duration": 4,
    "start_time": "2022-05-05T10:39:57.127Z"
   },
   {
    "duration": 4,
    "start_time": "2022-05-05T10:40:00.089Z"
   },
   {
    "duration": 3,
    "start_time": "2022-05-05T10:40:01.332Z"
   },
   {
    "duration": 74,
    "start_time": "2022-05-05T10:51:58.591Z"
   },
   {
    "duration": 47,
    "start_time": "2022-05-05T10:53:41.265Z"
   },
   {
    "duration": 215,
    "start_time": "2022-05-05T10:54:12.099Z"
   },
   {
    "duration": 134,
    "start_time": "2022-05-05T10:54:48.937Z"
   },
   {
    "duration": 185,
    "start_time": "2022-05-05T10:55:56.993Z"
   },
   {
    "duration": 28,
    "start_time": "2022-05-05T10:56:18.925Z"
   },
   {
    "duration": 25,
    "start_time": "2022-05-05T11:07:23.267Z"
   },
   {
    "duration": 18,
    "start_time": "2022-05-05T11:07:30.762Z"
   },
   {
    "duration": 16,
    "start_time": "2022-05-05T11:07:42.750Z"
   },
   {
    "duration": 34,
    "start_time": "2022-05-05T11:11:37.339Z"
   },
   {
    "duration": 36,
    "start_time": "2022-05-05T11:15:17.378Z"
   },
   {
    "duration": 59,
    "start_time": "2022-05-05T11:16:59.860Z"
   },
   {
    "duration": 12,
    "start_time": "2022-05-05T11:19:42.338Z"
   },
   {
    "duration": 287,
    "start_time": "2022-05-05T11:20:44.187Z"
   },
   {
    "duration": 19,
    "start_time": "2022-05-05T11:22:07.790Z"
   },
   {
    "duration": 15,
    "start_time": "2022-05-05T11:23:19.733Z"
   },
   {
    "duration": 4,
    "start_time": "2022-05-05T11:59:43.923Z"
   },
   {
    "duration": 10,
    "start_time": "2022-05-05T12:21:20.881Z"
   },
   {
    "duration": 29,
    "start_time": "2022-05-05T12:21:39.042Z"
   },
   {
    "duration": 19,
    "start_time": "2022-05-05T12:21:45.987Z"
   },
   {
    "duration": 22,
    "start_time": "2022-05-05T12:21:52.830Z"
   },
   {
    "duration": 8,
    "start_time": "2022-05-05T12:22:02.817Z"
   },
   {
    "duration": 73,
    "start_time": "2022-05-05T12:23:03.245Z"
   },
   {
    "duration": 71,
    "start_time": "2022-05-05T12:23:29.800Z"
   },
   {
    "duration": 200,
    "start_time": "2022-05-05T12:27:25.652Z"
   },
   {
    "duration": 22,
    "start_time": "2022-05-05T12:27:40.451Z"
   },
   {
    "duration": 23,
    "start_time": "2022-05-05T12:28:50.359Z"
   },
   {
    "duration": 22,
    "start_time": "2022-05-05T12:28:59.054Z"
   },
   {
    "duration": 22,
    "start_time": "2022-05-05T12:29:20.955Z"
   },
   {
    "duration": 12,
    "start_time": "2022-05-05T12:35:54.479Z"
   },
   {
    "duration": 11,
    "start_time": "2022-05-05T12:35:58.533Z"
   },
   {
    "duration": 7,
    "start_time": "2022-05-05T12:36:02.484Z"
   },
   {
    "duration": 22,
    "start_time": "2022-05-05T12:36:52.435Z"
   },
   {
    "duration": 19,
    "start_time": "2022-05-05T12:37:23.991Z"
   },
   {
    "duration": 18,
    "start_time": "2022-05-05T12:37:44.104Z"
   },
   {
    "duration": 27,
    "start_time": "2022-05-05T12:49:43.205Z"
   },
   {
    "duration": 19,
    "start_time": "2022-05-05T12:51:47.448Z"
   },
   {
    "duration": 16,
    "start_time": "2022-05-05T12:52:41.457Z"
   },
   {
    "duration": 97,
    "start_time": "2022-05-05T12:53:13.964Z"
   },
   {
    "duration": 18,
    "start_time": "2022-05-05T12:53:31.624Z"
   },
   {
    "duration": 11,
    "start_time": "2022-05-05T12:54:14.993Z"
   },
   {
    "duration": 10,
    "start_time": "2022-05-05T12:54:21.089Z"
   },
   {
    "duration": 6,
    "start_time": "2022-05-05T12:55:16.814Z"
   },
   {
    "duration": 10,
    "start_time": "2022-05-05T12:55:23.652Z"
   },
   {
    "duration": 10,
    "start_time": "2022-05-05T12:55:32.802Z"
   },
   {
    "duration": 104,
    "start_time": "2022-05-05T12:56:56.458Z"
   },
   {
    "duration": 18,
    "start_time": "2022-05-05T12:56:57.921Z"
   },
   {
    "duration": 797,
    "start_time": "2022-05-05T12:57:11.128Z"
   },
   {
    "duration": 4,
    "start_time": "2022-05-05T12:57:11.928Z"
   },
   {
    "duration": 55,
    "start_time": "2022-05-05T12:57:11.934Z"
   },
   {
    "duration": 15,
    "start_time": "2022-05-05T12:57:11.992Z"
   },
   {
    "duration": 195,
    "start_time": "2022-05-05T12:57:12.009Z"
   },
   {
    "duration": 32,
    "start_time": "2022-05-05T12:57:12.207Z"
   },
   {
    "duration": 122,
    "start_time": "2022-05-05T12:57:12.242Z"
   },
   {
    "duration": 33,
    "start_time": "2022-05-05T12:57:12.366Z"
   },
   {
    "duration": 174,
    "start_time": "2022-05-05T12:57:12.402Z"
   },
   {
    "duration": 34,
    "start_time": "2022-05-05T12:57:12.581Z"
   },
   {
    "duration": 14,
    "start_time": "2022-05-05T12:57:12.618Z"
   },
   {
    "duration": 21,
    "start_time": "2022-05-05T12:57:12.635Z"
   },
   {
    "duration": 25,
    "start_time": "2022-05-05T12:57:12.694Z"
   },
   {
    "duration": 15,
    "start_time": "2022-05-05T12:57:12.721Z"
   },
   {
    "duration": 94,
    "start_time": "2022-05-05T12:57:12.738Z"
   },
   {
    "duration": 20,
    "start_time": "2022-05-05T12:57:12.834Z"
   },
   {
    "duration": 52,
    "start_time": "2022-05-05T12:57:12.857Z"
   },
   {
    "duration": 137,
    "start_time": "2022-05-05T12:57:12.912Z"
   },
   {
    "duration": 20,
    "start_time": "2022-05-05T12:57:13.051Z"
   },
   {
    "duration": 794,
    "start_time": "2022-05-05T12:58:19.024Z"
   },
   {
    "duration": 4,
    "start_time": "2022-05-05T12:58:19.820Z"
   },
   {
    "duration": 52,
    "start_time": "2022-05-05T12:58:19.826Z"
   },
   {
    "duration": 20,
    "start_time": "2022-05-05T12:58:19.881Z"
   },
   {
    "duration": 210,
    "start_time": "2022-05-05T12:58:19.903Z"
   },
   {
    "duration": 34,
    "start_time": "2022-05-05T12:58:20.115Z"
   },
   {
    "duration": 131,
    "start_time": "2022-05-05T12:58:20.152Z"
   },
   {
    "duration": 30,
    "start_time": "2022-05-05T12:58:20.285Z"
   },
   {
    "duration": 178,
    "start_time": "2022-05-05T12:58:20.317Z"
   },
   {
    "duration": 29,
    "start_time": "2022-05-05T12:58:20.498Z"
   },
   {
    "duration": 12,
    "start_time": "2022-05-05T12:58:20.529Z"
   },
   {
    "duration": 49,
    "start_time": "2022-05-05T12:58:20.543Z"
   },
   {
    "duration": 27,
    "start_time": "2022-05-05T12:58:20.595Z"
   },
   {
    "duration": 15,
    "start_time": "2022-05-05T12:58:20.624Z"
   },
   {
    "duration": 93,
    "start_time": "2022-05-05T12:58:20.641Z"
   },
   {
    "duration": 19,
    "start_time": "2022-05-05T12:58:20.736Z"
   },
   {
    "duration": 48,
    "start_time": "2022-05-05T12:58:20.757Z"
   },
   {
    "duration": 128,
    "start_time": "2022-05-05T12:58:20.807Z"
   },
   {
    "duration": 0,
    "start_time": "2022-05-05T12:58:20.937Z"
   },
   {
    "duration": 849,
    "start_time": "2022-05-05T12:59:07.566Z"
   },
   {
    "duration": 4,
    "start_time": "2022-05-05T12:59:08.417Z"
   },
   {
    "duration": 49,
    "start_time": "2022-05-05T12:59:08.423Z"
   },
   {
    "duration": 16,
    "start_time": "2022-05-05T12:59:08.475Z"
   },
   {
    "duration": 202,
    "start_time": "2022-05-05T12:59:08.493Z"
   },
   {
    "duration": 33,
    "start_time": "2022-05-05T12:59:08.697Z"
   },
   {
    "duration": 123,
    "start_time": "2022-05-05T12:59:08.732Z"
   },
   {
    "duration": 36,
    "start_time": "2022-05-05T12:59:08.857Z"
   },
   {
    "duration": 187,
    "start_time": "2022-05-05T12:59:08.895Z"
   },
   {
    "duration": 35,
    "start_time": "2022-05-05T12:59:09.087Z"
   },
   {
    "duration": 16,
    "start_time": "2022-05-05T12:59:09.125Z"
   },
   {
    "duration": 51,
    "start_time": "2022-05-05T12:59:09.143Z"
   },
   {
    "duration": 26,
    "start_time": "2022-05-05T12:59:09.197Z"
   },
   {
    "duration": 16,
    "start_time": "2022-05-05T12:59:09.226Z"
   },
   {
    "duration": 98,
    "start_time": "2022-05-05T12:59:09.244Z"
   },
   {
    "duration": 54,
    "start_time": "2022-05-05T12:59:09.345Z"
   },
   {
    "duration": 16,
    "start_time": "2022-05-05T12:59:09.401Z"
   },
   {
    "duration": 152,
    "start_time": "2022-05-05T12:59:09.419Z"
   },
   {
    "duration": 27,
    "start_time": "2022-05-05T12:59:09.573Z"
   },
   {
    "duration": 169,
    "start_time": "2022-05-05T13:24:09.360Z"
   },
   {
    "duration": 38,
    "start_time": "2022-05-05T13:24:14.677Z"
   },
   {
    "duration": 61,
    "start_time": "2022-05-05T13:24:52.318Z"
   },
   {
    "duration": 28,
    "start_time": "2022-05-05T13:25:03.093Z"
   },
   {
    "duration": 24,
    "start_time": "2022-05-05T13:26:27.163Z"
   },
   {
    "duration": 983,
    "start_time": "2022-05-05T13:28:40.350Z"
   },
   {
    "duration": 9,
    "start_time": "2022-05-05T13:28:41.336Z"
   },
   {
    "duration": 67,
    "start_time": "2022-05-05T13:28:41.347Z"
   },
   {
    "duration": 24,
    "start_time": "2022-05-05T13:28:41.417Z"
   },
   {
    "duration": 260,
    "start_time": "2022-05-05T13:28:41.447Z"
   },
   {
    "duration": 38,
    "start_time": "2022-05-05T13:28:41.711Z"
   },
   {
    "duration": 160,
    "start_time": "2022-05-05T13:28:41.752Z"
   },
   {
    "duration": 48,
    "start_time": "2022-05-05T13:28:41.915Z"
   },
   {
    "duration": 317,
    "start_time": "2022-05-05T13:28:41.965Z"
   },
   {
    "duration": 46,
    "start_time": "2022-05-05T13:28:42.286Z"
   },
   {
    "duration": 14,
    "start_time": "2022-05-05T13:28:42.337Z"
   },
   {
    "duration": 55,
    "start_time": "2022-05-05T13:28:42.354Z"
   },
   {
    "duration": 37,
    "start_time": "2022-05-05T13:28:42.412Z"
   },
   {
    "duration": 23,
    "start_time": "2022-05-05T13:28:42.454Z"
   },
   {
    "duration": 163,
    "start_time": "2022-05-05T13:28:42.480Z"
   },
   {
    "duration": 63,
    "start_time": "2022-05-05T13:28:42.646Z"
   },
   {
    "duration": 33,
    "start_time": "2022-05-05T13:28:42.714Z"
   },
   {
    "duration": 214,
    "start_time": "2022-05-05T13:28:42.750Z"
   },
   {
    "duration": 49,
    "start_time": "2022-05-05T13:28:42.967Z"
   },
   {
    "duration": 13,
    "start_time": "2022-05-05T13:35:59.990Z"
   },
   {
    "duration": 6,
    "start_time": "2022-05-05T13:36:07.432Z"
   },
   {
    "duration": 5,
    "start_time": "2022-05-05T13:40:36.605Z"
   },
   {
    "duration": 6,
    "start_time": "2022-05-05T13:40:49.490Z"
   },
   {
    "duration": 5,
    "start_time": "2022-05-05T13:40:58.952Z"
   },
   {
    "duration": 5,
    "start_time": "2022-05-05T13:41:30.571Z"
   },
   {
    "duration": 19,
    "start_time": "2022-05-05T14:09:06.035Z"
   },
   {
    "duration": 32,
    "start_time": "2022-05-05T14:11:42.243Z"
   },
   {
    "duration": 33,
    "start_time": "2022-05-05T14:11:54.938Z"
   },
   {
    "duration": 58,
    "start_time": "2022-05-05T14:12:07.751Z"
   },
   {
    "duration": 67,
    "start_time": "2022-05-05T14:13:50.107Z"
   },
   {
    "duration": 44,
    "start_time": "2022-05-05T14:14:00.612Z"
   },
   {
    "duration": 70,
    "start_time": "2022-05-05T14:15:45.778Z"
   },
   {
    "duration": 78,
    "start_time": "2022-05-05T14:15:48.363Z"
   },
   {
    "duration": 18,
    "start_time": "2022-05-05T14:17:34.368Z"
   },
   {
    "duration": 5,
    "start_time": "2022-05-05T14:24:10.884Z"
   },
   {
    "duration": 99,
    "start_time": "2022-05-05T14:24:16.079Z"
   },
   {
    "duration": 16,
    "start_time": "2022-05-05T14:28:30.995Z"
   },
   {
    "duration": 115,
    "start_time": "2022-05-05T14:28:36.455Z"
   },
   {
    "duration": 7,
    "start_time": "2022-05-05T14:28:45.157Z"
   },
   {
    "duration": 10,
    "start_time": "2022-05-05T14:28:53.861Z"
   },
   {
    "duration": 17,
    "start_time": "2022-05-05T14:29:00.943Z"
   },
   {
    "duration": 13,
    "start_time": "2022-05-05T14:29:04.173Z"
   },
   {
    "duration": 25,
    "start_time": "2022-05-05T14:29:33.692Z"
   },
   {
    "duration": 11,
    "start_time": "2022-05-05T14:29:42.757Z"
   },
   {
    "duration": 958,
    "start_time": "2022-05-05T14:32:37.225Z"
   },
   {
    "duration": 4,
    "start_time": "2022-05-05T14:32:38.186Z"
   },
   {
    "duration": 70,
    "start_time": "2022-05-05T14:32:38.193Z"
   },
   {
    "duration": 17,
    "start_time": "2022-05-05T14:32:38.266Z"
   },
   {
    "duration": 234,
    "start_time": "2022-05-05T14:32:38.287Z"
   },
   {
    "duration": 50,
    "start_time": "2022-05-05T14:32:38.523Z"
   },
   {
    "duration": 144,
    "start_time": "2022-05-05T14:32:38.575Z"
   },
   {
    "duration": 24,
    "start_time": "2022-05-05T14:32:38.721Z"
   },
   {
    "duration": 210,
    "start_time": "2022-05-05T14:32:38.747Z"
   },
   {
    "duration": 44,
    "start_time": "2022-05-05T14:32:38.959Z"
   },
   {
    "duration": 13,
    "start_time": "2022-05-05T14:32:39.006Z"
   },
   {
    "duration": 28,
    "start_time": "2022-05-05T14:32:39.022Z"
   },
   {
    "duration": 58,
    "start_time": "2022-05-05T14:32:39.053Z"
   },
   {
    "duration": 16,
    "start_time": "2022-05-05T14:32:39.117Z"
   },
   {
    "duration": 108,
    "start_time": "2022-05-05T14:32:39.136Z"
   },
   {
    "duration": 20,
    "start_time": "2022-05-05T14:32:39.246Z"
   },
   {
    "duration": 54,
    "start_time": "2022-05-05T14:32:39.268Z"
   },
   {
    "duration": 160,
    "start_time": "2022-05-05T14:32:39.325Z"
   },
   {
    "duration": 24,
    "start_time": "2022-05-05T14:32:39.487Z"
   },
   {
    "duration": 9,
    "start_time": "2022-05-05T14:32:39.515Z"
   },
   {
    "duration": 82,
    "start_time": "2022-05-05T14:32:39.527Z"
   },
   {
    "duration": 125,
    "start_time": "2022-05-05T14:32:39.613Z"
   },
   {
    "duration": 12,
    "start_time": "2022-05-05T14:32:39.740Z"
   },
   {
    "duration": 4,
    "start_time": "2022-05-05T14:33:02.383Z"
   },
   {
    "duration": 10,
    "start_time": "2022-05-05T14:33:08.001Z"
   },
   {
    "duration": 109,
    "start_time": "2022-05-05T14:33:10.584Z"
   },
   {
    "duration": 5,
    "start_time": "2022-05-05T14:33:15.598Z"
   },
   {
    "duration": 106,
    "start_time": "2022-05-05T14:33:17.139Z"
   },
   {
    "duration": 16,
    "start_time": "2022-05-05T14:37:22.045Z"
   },
   {
    "duration": 33,
    "start_time": "2022-05-05T14:41:01.472Z"
   },
   {
    "duration": 132,
    "start_time": "2022-05-05T14:42:24.750Z"
   },
   {
    "duration": 27,
    "start_time": "2022-05-05T14:42:36.055Z"
   },
   {
    "duration": 65,
    "start_time": "2022-05-05T14:42:43.860Z"
   },
   {
    "duration": 28,
    "start_time": "2022-05-05T14:46:49.162Z"
   },
   {
    "duration": 37,
    "start_time": "2022-05-05T14:50:38.171Z"
   },
   {
    "duration": 65,
    "start_time": "2022-05-05T14:51:58.995Z"
   },
   {
    "duration": 1289,
    "start_time": "2022-05-05T14:52:59.807Z"
   },
   {
    "duration": 5,
    "start_time": "2022-05-05T14:53:01.100Z"
   },
   {
    "duration": 73,
    "start_time": "2022-05-05T14:53:01.108Z"
   },
   {
    "duration": 17,
    "start_time": "2022-05-05T14:53:01.183Z"
   },
   {
    "duration": 337,
    "start_time": "2022-05-05T14:53:01.205Z"
   },
   {
    "duration": 66,
    "start_time": "2022-05-05T14:53:01.545Z"
   },
   {
    "duration": 233,
    "start_time": "2022-05-05T14:53:01.614Z"
   },
   {
    "duration": 43,
    "start_time": "2022-05-05T14:53:01.850Z"
   },
   {
    "duration": 202,
    "start_time": "2022-05-05T14:53:01.896Z"
   },
   {
    "duration": 30,
    "start_time": "2022-05-05T14:53:02.100Z"
   },
   {
    "duration": 17,
    "start_time": "2022-05-05T14:53:02.133Z"
   },
   {
    "duration": 54,
    "start_time": "2022-05-05T14:53:02.153Z"
   },
   {
    "duration": 36,
    "start_time": "2022-05-05T14:53:02.210Z"
   },
   {
    "duration": 16,
    "start_time": "2022-05-05T14:53:02.253Z"
   },
   {
    "duration": 120,
    "start_time": "2022-05-05T14:53:02.273Z"
   },
   {
    "duration": 23,
    "start_time": "2022-05-05T14:53:02.396Z"
   },
   {
    "duration": 74,
    "start_time": "2022-05-05T14:53:02.421Z"
   },
   {
    "duration": 203,
    "start_time": "2022-05-05T14:53:02.498Z"
   },
   {
    "duration": 32,
    "start_time": "2022-05-05T14:53:02.704Z"
   },
   {
    "duration": 10,
    "start_time": "2022-05-05T14:53:02.739Z"
   },
   {
    "duration": 82,
    "start_time": "2022-05-05T14:53:02.751Z"
   },
   {
    "duration": 121,
    "start_time": "2022-05-05T14:53:02.835Z"
   },
   {
    "duration": 12,
    "start_time": "2022-05-05T14:53:02.958Z"
   },
   {
    "duration": 49,
    "start_time": "2022-05-05T14:53:02.973Z"
   },
   {
    "duration": 87,
    "start_time": "2022-05-05T14:53:03.024Z"
   },
   {
    "duration": 40,
    "start_time": "2022-05-05T14:53:03.114Z"
   },
   {
    "duration": 89,
    "start_time": "2022-05-05T14:53:03.157Z"
   },
   {
    "duration": 895,
    "start_time": "2022-05-05T14:56:21.972Z"
   },
   {
    "duration": 4,
    "start_time": "2022-05-05T14:56:22.869Z"
   },
   {
    "duration": 55,
    "start_time": "2022-05-05T14:56:22.876Z"
   },
   {
    "duration": 17,
    "start_time": "2022-05-05T14:56:22.936Z"
   },
   {
    "duration": 224,
    "start_time": "2022-05-05T14:56:22.956Z"
   },
   {
    "duration": 39,
    "start_time": "2022-05-05T14:56:23.183Z"
   },
   {
    "duration": 128,
    "start_time": "2022-05-05T14:56:23.225Z"
   },
   {
    "duration": 42,
    "start_time": "2022-05-05T14:56:23.356Z"
   },
   {
    "duration": 297,
    "start_time": "2022-05-05T14:56:23.401Z"
   },
   {
    "duration": 51,
    "start_time": "2022-05-05T14:56:23.704Z"
   },
   {
    "duration": 49,
    "start_time": "2022-05-05T14:56:23.758Z"
   },
   {
    "duration": 34,
    "start_time": "2022-05-05T14:56:23.811Z"
   },
   {
    "duration": 40,
    "start_time": "2022-05-05T14:56:23.848Z"
   },
   {
    "duration": 23,
    "start_time": "2022-05-05T14:56:23.894Z"
   },
   {
    "duration": 159,
    "start_time": "2022-05-05T14:56:23.920Z"
   },
   {
    "duration": 23,
    "start_time": "2022-05-05T14:56:24.094Z"
   },
   {
    "duration": 23,
    "start_time": "2022-05-05T14:56:24.120Z"
   },
   {
    "duration": 125,
    "start_time": "2022-05-05T14:56:24.194Z"
   },
   {
    "duration": 22,
    "start_time": "2022-05-05T14:56:24.321Z"
   },
   {
    "duration": 8,
    "start_time": "2022-05-05T14:56:24.345Z"
   },
   {
    "duration": 75,
    "start_time": "2022-05-05T14:56:24.393Z"
   },
   {
    "duration": 191,
    "start_time": "2022-05-05T14:56:24.470Z"
   },
   {
    "duration": 31,
    "start_time": "2022-05-05T14:56:24.664Z"
   },
   {
    "duration": 46,
    "start_time": "2022-05-05T14:56:24.697Z"
   },
   {
    "duration": 136,
    "start_time": "2022-05-05T14:56:24.746Z"
   },
   {
    "duration": 44,
    "start_time": "2022-05-05T14:56:24.885Z"
   },
   {
    "duration": 87,
    "start_time": "2022-05-05T14:56:24.932Z"
   },
   {
    "duration": 110,
    "start_time": "2022-05-05T14:59:27.414Z"
   },
   {
    "duration": 15,
    "start_time": "2022-05-05T14:59:40.761Z"
   },
   {
    "duration": 175,
    "start_time": "2022-05-05T15:00:05.716Z"
   },
   {
    "duration": 3218,
    "start_time": "2022-05-05T15:00:12.358Z"
   },
   {
    "duration": 20,
    "start_time": "2022-05-05T15:00:24.593Z"
   },
   {
    "duration": 10,
    "start_time": "2022-05-05T15:02:00.008Z"
   },
   {
    "duration": 4303,
    "start_time": "2022-05-05T15:06:14.915Z"
   },
   {
    "duration": 3059,
    "start_time": "2022-05-05T15:06:37.104Z"
   },
   {
    "duration": 2142,
    "start_time": "2022-05-05T15:06:42.849Z"
   },
   {
    "duration": 15,
    "start_time": "2022-05-05T15:06:56.508Z"
   },
   {
    "duration": 1474,
    "start_time": "2022-05-05T15:08:20.191Z"
   },
   {
    "duration": 8,
    "start_time": "2022-05-05T15:08:30.315Z"
   },
   {
    "duration": 31,
    "start_time": "2022-05-05T15:09:36.488Z"
   },
   {
    "duration": 16,
    "start_time": "2022-05-05T15:09:50.155Z"
   },
   {
    "duration": 29,
    "start_time": "2022-05-05T15:10:22.426Z"
   },
   {
    "duration": 869,
    "start_time": "2022-05-05T15:11:25.032Z"
   },
   {
    "duration": 5,
    "start_time": "2022-05-05T15:11:25.904Z"
   },
   {
    "duration": 65,
    "start_time": "2022-05-05T15:11:25.910Z"
   },
   {
    "duration": 16,
    "start_time": "2022-05-05T15:11:25.978Z"
   },
   {
    "duration": 237,
    "start_time": "2022-05-05T15:11:25.996Z"
   },
   {
    "duration": 33,
    "start_time": "2022-05-05T15:11:26.236Z"
   },
   {
    "duration": 156,
    "start_time": "2022-05-05T15:11:26.271Z"
   },
   {
    "duration": 28,
    "start_time": "2022-05-05T15:11:26.429Z"
   },
   {
    "duration": 212,
    "start_time": "2022-05-05T15:11:26.459Z"
   },
   {
    "duration": 35,
    "start_time": "2022-05-05T15:11:26.675Z"
   },
   {
    "duration": 14,
    "start_time": "2022-05-05T15:11:26.713Z"
   },
   {
    "duration": 22,
    "start_time": "2022-05-05T15:11:26.730Z"
   },
   {
    "duration": 66,
    "start_time": "2022-05-05T15:11:26.755Z"
   },
   {
    "duration": 17,
    "start_time": "2022-05-05T15:11:26.823Z"
   },
   {
    "duration": 93,
    "start_time": "2022-05-05T15:11:26.843Z"
   },
   {
    "duration": 58,
    "start_time": "2022-05-05T15:11:26.938Z"
   },
   {
    "duration": 27,
    "start_time": "2022-05-05T15:11:27.000Z"
   },
   {
    "duration": 150,
    "start_time": "2022-05-05T15:11:27.030Z"
   },
   {
    "duration": 26,
    "start_time": "2022-05-05T15:11:27.183Z"
   },
   {
    "duration": 7,
    "start_time": "2022-05-05T15:11:27.212Z"
   },
   {
    "duration": 86,
    "start_time": "2022-05-05T15:11:27.222Z"
   },
   {
    "duration": 133,
    "start_time": "2022-05-05T15:11:27.311Z"
   },
   {
    "duration": 13,
    "start_time": "2022-05-05T15:11:27.447Z"
   },
   {
    "duration": 56,
    "start_time": "2022-05-05T15:11:27.463Z"
   },
   {
    "duration": 120,
    "start_time": "2022-05-05T15:11:27.522Z"
   },
   {
    "duration": 67,
    "start_time": "2022-05-05T15:11:27.644Z"
   },
   {
    "duration": 106,
    "start_time": "2022-05-05T15:11:27.713Z"
   },
   {
    "duration": 892,
    "start_time": "2022-05-05T15:12:47.557Z"
   },
   {
    "duration": 4,
    "start_time": "2022-05-05T15:12:48.452Z"
   },
   {
    "duration": 52,
    "start_time": "2022-05-05T15:12:48.458Z"
   },
   {
    "duration": 18,
    "start_time": "2022-05-05T15:12:48.513Z"
   },
   {
    "duration": 223,
    "start_time": "2022-05-05T15:12:48.533Z"
   },
   {
    "duration": 42,
    "start_time": "2022-05-05T15:12:48.758Z"
   },
   {
    "duration": 132,
    "start_time": "2022-05-05T15:12:48.802Z"
   },
   {
    "duration": 26,
    "start_time": "2022-05-05T15:12:48.936Z"
   },
   {
    "duration": 199,
    "start_time": "2022-05-05T15:12:48.964Z"
   },
   {
    "duration": 42,
    "start_time": "2022-05-05T15:12:49.167Z"
   },
   {
    "duration": 13,
    "start_time": "2022-05-05T15:12:49.211Z"
   },
   {
    "duration": 19,
    "start_time": "2022-05-05T15:12:49.226Z"
   },
   {
    "duration": 57,
    "start_time": "2022-05-05T15:12:49.248Z"
   },
   {
    "duration": 16,
    "start_time": "2022-05-05T15:12:49.307Z"
   },
   {
    "duration": 96,
    "start_time": "2022-05-05T15:12:49.325Z"
   },
   {
    "duration": 20,
    "start_time": "2022-05-05T15:12:49.423Z"
   },
   {
    "duration": 66,
    "start_time": "2022-05-05T15:12:49.445Z"
   },
   {
    "duration": 134,
    "start_time": "2022-05-05T15:12:49.514Z"
   },
   {
    "duration": 21,
    "start_time": "2022-05-05T15:12:49.650Z"
   },
   {
    "duration": 7,
    "start_time": "2022-05-05T15:12:49.692Z"
   },
   {
    "duration": 65,
    "start_time": "2022-05-05T15:12:49.702Z"
   },
   {
    "duration": 211,
    "start_time": "2022-05-05T15:12:49.770Z"
   },
   {
    "duration": 14,
    "start_time": "2022-05-05T15:12:49.984Z"
   },
   {
    "duration": 52,
    "start_time": "2022-05-05T15:12:50.001Z"
   },
   {
    "duration": 96,
    "start_time": "2022-05-05T15:12:50.055Z"
   },
   {
    "duration": 54,
    "start_time": "2022-05-05T15:12:50.153Z"
   },
   {
    "duration": 83,
    "start_time": "2022-05-05T15:12:50.210Z"
   },
   {
    "duration": 103,
    "start_time": "2022-05-05T15:14:41.776Z"
   },
   {
    "duration": 194,
    "start_time": "2022-05-05T15:15:23.949Z"
   },
   {
    "duration": 48,
    "start_time": "2022-05-05T15:15:29.726Z"
   },
   {
    "duration": 49,
    "start_time": "2022-05-05T15:17:31.977Z"
   },
   {
    "duration": 71,
    "start_time": "2022-05-05T15:27:03.281Z"
   },
   {
    "duration": 127,
    "start_time": "2022-05-05T15:31:44.267Z"
   },
   {
    "duration": 25,
    "start_time": "2022-05-05T15:32:12.474Z"
   },
   {
    "duration": 12,
    "start_time": "2022-05-05T15:38:52.695Z"
   },
   {
    "duration": 2974,
    "start_time": "2022-05-05T15:38:58.973Z"
   },
   {
    "duration": 10,
    "start_time": "2022-05-05T15:39:04.848Z"
   },
   {
    "duration": 181,
    "start_time": "2022-05-05T15:39:17.277Z"
   },
   {
    "duration": 10,
    "start_time": "2022-05-05T15:53:05.437Z"
   },
   {
    "duration": 73,
    "start_time": "2022-05-05T15:58:29.938Z"
   },
   {
    "duration": 98,
    "start_time": "2022-05-05T15:59:07.158Z"
   },
   {
    "duration": 10,
    "start_time": "2022-05-05T16:00:22.474Z"
   },
   {
    "duration": 116,
    "start_time": "2022-05-05T16:06:16.124Z"
   },
   {
    "duration": 106,
    "start_time": "2022-05-05T16:06:35.127Z"
   },
   {
    "duration": 66,
    "start_time": "2022-05-05T16:07:02.382Z"
   },
   {
    "duration": 65,
    "start_time": "2022-05-05T16:08:49.343Z"
   },
   {
    "duration": 61,
    "start_time": "2022-05-05T16:09:30.718Z"
   },
   {
    "duration": 65,
    "start_time": "2022-05-05T16:09:41.502Z"
   },
   {
    "duration": 117,
    "start_time": "2022-05-05T16:09:54.340Z"
   },
   {
    "duration": 2866,
    "start_time": "2022-05-05T16:10:16.178Z"
   },
   {
    "duration": 2743,
    "start_time": "2022-05-05T16:10:34.539Z"
   },
   {
    "duration": 13,
    "start_time": "2022-05-05T16:10:48.726Z"
   },
   {
    "duration": 100,
    "start_time": "2022-05-05T16:12:09.913Z"
   },
   {
    "duration": 10,
    "start_time": "2022-05-05T16:12:53.063Z"
   },
   {
    "duration": 63,
    "start_time": "2022-05-05T16:14:15.288Z"
   },
   {
    "duration": 59,
    "start_time": "2022-05-05T16:16:03.939Z"
   },
   {
    "duration": 106,
    "start_time": "2022-05-05T16:16:20.847Z"
   },
   {
    "duration": 13,
    "start_time": "2022-05-05T16:19:07.248Z"
   },
   {
    "duration": 119,
    "start_time": "2022-05-05T16:19:18.135Z"
   },
   {
    "duration": 1110,
    "start_time": "2022-05-05T16:20:23.030Z"
   },
   {
    "duration": 3,
    "start_time": "2022-05-05T16:20:24.143Z"
   },
   {
    "duration": 51,
    "start_time": "2022-05-05T16:20:24.148Z"
   },
   {
    "duration": 17,
    "start_time": "2022-05-05T16:20:24.202Z"
   },
   {
    "duration": 228,
    "start_time": "2022-05-05T16:20:24.221Z"
   },
   {
    "duration": 74,
    "start_time": "2022-05-05T16:20:24.453Z"
   },
   {
    "duration": 129,
    "start_time": "2022-05-05T16:20:24.530Z"
   },
   {
    "duration": 35,
    "start_time": "2022-05-05T16:20:24.662Z"
   },
   {
    "duration": 196,
    "start_time": "2022-05-05T16:20:24.700Z"
   },
   {
    "duration": 28,
    "start_time": "2022-05-05T16:20:24.900Z"
   },
   {
    "duration": 12,
    "start_time": "2022-05-05T16:20:24.930Z"
   },
   {
    "duration": 52,
    "start_time": "2022-05-05T16:20:24.945Z"
   },
   {
    "duration": 27,
    "start_time": "2022-05-05T16:20:25.001Z"
   },
   {
    "duration": 16,
    "start_time": "2022-05-05T16:20:25.031Z"
   },
   {
    "duration": 29,
    "start_time": "2022-05-05T16:20:25.050Z"
   },
   {
    "duration": 74,
    "start_time": "2022-05-05T16:20:25.093Z"
   },
   {
    "duration": 22,
    "start_time": "2022-05-05T16:20:25.194Z"
   },
   {
    "duration": 26,
    "start_time": "2022-05-05T16:20:25.219Z"
   },
   {
    "duration": 127,
    "start_time": "2022-05-05T16:20:25.292Z"
   },
   {
    "duration": 22,
    "start_time": "2022-05-05T16:20:25.421Z"
   },
   {
    "duration": 6,
    "start_time": "2022-05-05T16:20:25.445Z"
   },
   {
    "duration": 85,
    "start_time": "2022-05-05T16:20:25.454Z"
   },
   {
    "duration": 127,
    "start_time": "2022-05-05T16:20:25.541Z"
   },
   {
    "duration": 25,
    "start_time": "2022-05-05T16:20:25.671Z"
   },
   {
    "duration": 32,
    "start_time": "2022-05-05T16:20:25.699Z"
   },
   {
    "duration": 99,
    "start_time": "2022-05-05T16:20:25.734Z"
   },
   {
    "duration": 37,
    "start_time": "2022-05-05T16:20:25.835Z"
   },
   {
    "duration": 69,
    "start_time": "2022-05-05T16:20:25.893Z"
   },
   {
    "duration": 150,
    "start_time": "2022-05-05T16:20:25.965Z"
   },
   {
    "duration": 117,
    "start_time": "2022-05-05T16:20:26.117Z"
   },
   {
    "duration": 120,
    "start_time": "2022-05-05T16:25:43.166Z"
   },
   {
    "duration": 71,
    "start_time": "2022-05-07T08:08:08.442Z"
   },
   {
    "duration": 1131,
    "start_time": "2022-05-07T08:08:18.667Z"
   },
   {
    "duration": 4,
    "start_time": "2022-05-07T08:08:19.801Z"
   },
   {
    "duration": 57,
    "start_time": "2022-05-07T08:08:19.808Z"
   },
   {
    "duration": 19,
    "start_time": "2022-05-07T08:08:19.867Z"
   },
   {
    "duration": 213,
    "start_time": "2022-05-07T08:08:19.890Z"
   },
   {
    "duration": 36,
    "start_time": "2022-05-07T08:08:20.106Z"
   },
   {
    "duration": 131,
    "start_time": "2022-05-07T08:08:20.145Z"
   },
   {
    "duration": 27,
    "start_time": "2022-05-07T08:08:20.278Z"
   },
   {
    "duration": 184,
    "start_time": "2022-05-07T08:08:20.307Z"
   },
   {
    "duration": 30,
    "start_time": "2022-05-07T08:08:20.493Z"
   },
   {
    "duration": 11,
    "start_time": "2022-05-07T08:08:20.526Z"
   },
   {
    "duration": 46,
    "start_time": "2022-05-07T08:08:20.539Z"
   },
   {
    "duration": 19,
    "start_time": "2022-05-07T08:08:20.587Z"
   },
   {
    "duration": 14,
    "start_time": "2022-05-07T08:08:20.610Z"
   },
   {
    "duration": 22,
    "start_time": "2022-05-07T08:08:20.626Z"
   },
   {
    "duration": 93,
    "start_time": "2022-05-07T08:08:20.650Z"
   },
   {
    "duration": 40,
    "start_time": "2022-05-07T08:08:20.746Z"
   },
   {
    "duration": 23,
    "start_time": "2022-05-07T08:08:20.788Z"
   },
   {
    "duration": 139,
    "start_time": "2022-05-07T08:08:20.813Z"
   },
   {
    "duration": 29,
    "start_time": "2022-05-07T08:08:20.954Z"
   },
   {
    "duration": 6,
    "start_time": "2022-05-07T08:08:20.985Z"
   },
   {
    "duration": 59,
    "start_time": "2022-05-07T08:08:20.992Z"
   },
   {
    "duration": 137,
    "start_time": "2022-05-07T08:08:21.054Z"
   },
   {
    "duration": 12,
    "start_time": "2022-05-07T08:08:21.193Z"
   },
   {
    "duration": 41,
    "start_time": "2022-05-07T08:08:21.207Z"
   },
   {
    "duration": 99,
    "start_time": "2022-05-07T08:08:21.250Z"
   },
   {
    "duration": 54,
    "start_time": "2022-05-07T08:08:21.351Z"
   },
   {
    "duration": 77,
    "start_time": "2022-05-07T08:08:21.407Z"
   },
   {
    "duration": 136,
    "start_time": "2022-05-07T08:08:21.486Z"
   },
   {
    "duration": 7,
    "start_time": "2022-05-07T08:08:21.624Z"
   },
   {
    "duration": 13,
    "start_time": "2022-05-07T08:08:21.633Z"
   },
   {
    "duration": 814,
    "start_time": "2022-05-09T10:00:29.163Z"
   },
   {
    "duration": 3,
    "start_time": "2022-05-09T10:00:29.979Z"
   },
   {
    "duration": 51,
    "start_time": "2022-05-09T10:00:29.984Z"
   },
   {
    "duration": 11,
    "start_time": "2022-05-09T10:00:30.038Z"
   },
   {
    "duration": 171,
    "start_time": "2022-05-09T10:00:30.050Z"
   },
   {
    "duration": 26,
    "start_time": "2022-05-09T10:00:30.222Z"
   },
   {
    "duration": 95,
    "start_time": "2022-05-09T10:00:30.250Z"
   },
   {
    "duration": 19,
    "start_time": "2022-05-09T10:00:30.347Z"
   },
   {
    "duration": 145,
    "start_time": "2022-05-09T10:00:30.367Z"
   },
   {
    "duration": 22,
    "start_time": "2022-05-09T10:00:30.514Z"
   },
   {
    "duration": 21,
    "start_time": "2022-05-09T10:00:30.538Z"
   },
   {
    "duration": 30,
    "start_time": "2022-05-09T10:00:30.561Z"
   },
   {
    "duration": 35,
    "start_time": "2022-05-09T10:00:30.592Z"
   },
   {
    "duration": 16,
    "start_time": "2022-05-09T10:00:30.629Z"
   },
   {
    "duration": 19,
    "start_time": "2022-05-09T10:00:30.647Z"
   },
   {
    "duration": 89,
    "start_time": "2022-05-09T10:00:30.668Z"
   },
   {
    "duration": 16,
    "start_time": "2022-05-09T10:00:30.759Z"
   },
   {
    "duration": 51,
    "start_time": "2022-05-09T10:00:30.777Z"
   },
   {
    "duration": 78,
    "start_time": "2022-05-09T10:00:30.829Z"
   },
   {
    "duration": 17,
    "start_time": "2022-05-09T10:00:30.922Z"
   },
   {
    "duration": 4,
    "start_time": "2022-05-09T10:00:30.941Z"
   },
   {
    "duration": 39,
    "start_time": "2022-05-09T10:00:30.947Z"
   },
   {
    "duration": 99,
    "start_time": "2022-05-09T10:00:30.988Z"
   },
   {
    "duration": 0,
    "start_time": "2022-05-09T10:00:31.089Z"
   },
   {
    "duration": 0,
    "start_time": "2022-05-09T10:00:31.090Z"
   },
   {
    "duration": 0,
    "start_time": "2022-05-09T10:00:31.091Z"
   },
   {
    "duration": 0,
    "start_time": "2022-05-09T10:00:31.092Z"
   },
   {
    "duration": 0,
    "start_time": "2022-05-09T10:00:31.093Z"
   },
   {
    "duration": 0,
    "start_time": "2022-05-09T10:00:31.094Z"
   },
   {
    "duration": 0,
    "start_time": "2022-05-09T10:00:31.095Z"
   },
   {
    "duration": 0,
    "start_time": "2022-05-09T10:00:31.095Z"
   },
   {
    "duration": 693,
    "start_time": "2022-05-09T10:02:23.453Z"
   },
   {
    "duration": 3,
    "start_time": "2022-05-09T10:02:24.147Z"
   },
   {
    "duration": 52,
    "start_time": "2022-05-09T10:02:24.152Z"
   },
   {
    "duration": 11,
    "start_time": "2022-05-09T10:02:24.206Z"
   },
   {
    "duration": 166,
    "start_time": "2022-05-09T10:02:24.220Z"
   },
   {
    "duration": 35,
    "start_time": "2022-05-09T10:02:24.388Z"
   },
   {
    "duration": 108,
    "start_time": "2022-05-09T10:02:24.425Z"
   },
   {
    "duration": 18,
    "start_time": "2022-05-09T10:02:24.535Z"
   },
   {
    "duration": 147,
    "start_time": "2022-05-09T10:02:24.555Z"
   },
   {
    "duration": 22,
    "start_time": "2022-05-09T10:02:24.704Z"
   },
   {
    "duration": 9,
    "start_time": "2022-05-09T10:02:24.728Z"
   },
   {
    "duration": 16,
    "start_time": "2022-05-09T10:02:24.738Z"
   },
   {
    "duration": 27,
    "start_time": "2022-05-09T10:02:24.755Z"
   },
   {
    "duration": 11,
    "start_time": "2022-05-09T10:02:24.784Z"
   },
   {
    "duration": 28,
    "start_time": "2022-05-09T10:02:24.796Z"
   },
   {
    "duration": 67,
    "start_time": "2022-05-09T10:02:24.826Z"
   },
   {
    "duration": 30,
    "start_time": "2022-05-09T10:02:24.894Z"
   },
   {
    "duration": 24,
    "start_time": "2022-05-09T10:02:24.926Z"
   },
   {
    "duration": 99,
    "start_time": "2022-05-09T10:02:24.951Z"
   },
   {
    "duration": 16,
    "start_time": "2022-05-09T10:02:25.052Z"
   },
   {
    "duration": 4,
    "start_time": "2022-05-09T10:02:25.070Z"
   },
   {
    "duration": 60,
    "start_time": "2022-05-09T10:02:25.076Z"
   },
   {
    "duration": 72,
    "start_time": "2022-05-09T10:02:25.138Z"
   },
   {
    "duration": 0,
    "start_time": "2022-05-09T10:02:25.222Z"
   },
   {
    "duration": 0,
    "start_time": "2022-05-09T10:02:25.223Z"
   },
   {
    "duration": 0,
    "start_time": "2022-05-09T10:02:25.224Z"
   },
   {
    "duration": 0,
    "start_time": "2022-05-09T10:02:25.226Z"
   },
   {
    "duration": 0,
    "start_time": "2022-05-09T10:02:25.227Z"
   },
   {
    "duration": 0,
    "start_time": "2022-05-09T10:02:25.228Z"
   },
   {
    "duration": 0,
    "start_time": "2022-05-09T10:02:25.229Z"
   },
   {
    "duration": 0,
    "start_time": "2022-05-09T10:02:25.230Z"
   },
   {
    "duration": 15,
    "start_time": "2022-05-09T10:02:41.310Z"
   },
   {
    "duration": 81,
    "start_time": "2022-05-09T10:03:10.057Z"
   },
   {
    "duration": 9,
    "start_time": "2022-05-09T10:03:12.813Z"
   },
   {
    "duration": 24,
    "start_time": "2022-05-09T10:03:24.062Z"
   },
   {
    "duration": 25,
    "start_time": "2022-05-09T10:03:41.235Z"
   },
   {
    "duration": 46,
    "start_time": "2022-05-09T10:03:43.157Z"
   },
   {
    "duration": 18,
    "start_time": "2022-05-09T10:03:52.942Z"
   },
   {
    "duration": 29,
    "start_time": "2022-05-09T10:03:58.168Z"
   },
   {
    "duration": 48,
    "start_time": "2022-05-09T10:04:18.757Z"
   },
   {
    "duration": 16,
    "start_time": "2022-05-09T10:25:25.542Z"
   },
   {
    "duration": 23,
    "start_time": "2022-05-09T10:26:15.074Z"
   },
   {
    "duration": 16,
    "start_time": "2022-05-09T10:26:33.574Z"
   },
   {
    "duration": 20,
    "start_time": "2022-05-09T10:30:23.484Z"
   },
   {
    "duration": 163,
    "start_time": "2022-05-09T10:32:10.757Z"
   },
   {
    "duration": 22,
    "start_time": "2022-05-09T10:32:17.208Z"
   },
   {
    "duration": 737,
    "start_time": "2022-05-09T10:33:12.395Z"
   },
   {
    "duration": 3,
    "start_time": "2022-05-09T10:33:13.134Z"
   },
   {
    "duration": 51,
    "start_time": "2022-05-09T10:33:13.139Z"
   },
   {
    "duration": 12,
    "start_time": "2022-05-09T10:33:13.192Z"
   },
   {
    "duration": 186,
    "start_time": "2022-05-09T10:33:13.206Z"
   },
   {
    "duration": 36,
    "start_time": "2022-05-09T10:33:13.394Z"
   },
   {
    "duration": 101,
    "start_time": "2022-05-09T10:33:13.432Z"
   },
   {
    "duration": 22,
    "start_time": "2022-05-09T10:33:13.535Z"
   },
   {
    "duration": 150,
    "start_time": "2022-05-09T10:33:13.558Z"
   },
   {
    "duration": 32,
    "start_time": "2022-05-09T10:33:13.711Z"
   },
   {
    "duration": 9,
    "start_time": "2022-05-09T10:33:13.744Z"
   },
   {
    "duration": 14,
    "start_time": "2022-05-09T10:33:13.755Z"
   },
   {
    "duration": 22,
    "start_time": "2022-05-09T10:33:13.772Z"
   },
   {
    "duration": 37,
    "start_time": "2022-05-09T10:33:13.796Z"
   },
   {
    "duration": 11,
    "start_time": "2022-05-09T10:33:13.835Z"
   },
   {
    "duration": 86,
    "start_time": "2022-05-09T10:33:13.848Z"
   },
   {
    "duration": 16,
    "start_time": "2022-05-09T10:33:13.936Z"
   },
   {
    "duration": 21,
    "start_time": "2022-05-09T10:33:13.954Z"
   },
   {
    "duration": 119,
    "start_time": "2022-05-09T10:33:13.976Z"
   },
   {
    "duration": 32,
    "start_time": "2022-05-09T10:33:14.097Z"
   },
   {
    "duration": 5,
    "start_time": "2022-05-09T10:33:14.132Z"
   },
   {
    "duration": 37,
    "start_time": "2022-05-09T10:33:14.139Z"
   },
   {
    "duration": 45,
    "start_time": "2022-05-09T10:33:14.178Z"
   },
   {
    "duration": 82,
    "start_time": "2022-05-09T10:33:14.225Z"
   },
   {
    "duration": 9,
    "start_time": "2022-05-09T10:33:14.322Z"
   },
   {
    "duration": 25,
    "start_time": "2022-05-09T10:33:14.332Z"
   },
   {
    "duration": 74,
    "start_time": "2022-05-09T10:33:14.358Z"
   },
   {
    "duration": 31,
    "start_time": "2022-05-09T10:33:14.436Z"
   },
   {
    "duration": 69,
    "start_time": "2022-05-09T10:33:14.468Z"
   },
   {
    "duration": 32,
    "start_time": "2022-05-09T10:33:14.539Z"
   },
   {
    "duration": 105,
    "start_time": "2022-05-09T10:33:14.573Z"
   },
   {
    "duration": 9,
    "start_time": "2022-05-09T10:33:14.680Z"
   },
   {
    "duration": 8,
    "start_time": "2022-05-09T10:37:01.969Z"
   },
   {
    "duration": 11,
    "start_time": "2022-05-09T10:38:09.371Z"
   },
   {
    "duration": 663,
    "start_time": "2022-05-09T10:38:33.076Z"
   },
   {
    "duration": 3,
    "start_time": "2022-05-09T10:38:33.741Z"
   },
   {
    "duration": 47,
    "start_time": "2022-05-09T10:38:33.745Z"
   },
   {
    "duration": 12,
    "start_time": "2022-05-09T10:38:33.795Z"
   },
   {
    "duration": 172,
    "start_time": "2022-05-09T10:38:33.808Z"
   },
   {
    "duration": 23,
    "start_time": "2022-05-09T10:38:33.982Z"
   },
   {
    "duration": 101,
    "start_time": "2022-05-09T10:38:34.007Z"
   },
   {
    "duration": 18,
    "start_time": "2022-05-09T10:38:34.110Z"
   },
   {
    "duration": 152,
    "start_time": "2022-05-09T10:38:34.129Z"
   },
   {
    "duration": 22,
    "start_time": "2022-05-09T10:38:34.284Z"
   },
   {
    "duration": 24,
    "start_time": "2022-05-09T10:38:34.307Z"
   },
   {
    "duration": 23,
    "start_time": "2022-05-09T10:38:34.332Z"
   },
   {
    "duration": 35,
    "start_time": "2022-05-09T10:38:34.356Z"
   },
   {
    "duration": 9,
    "start_time": "2022-05-09T10:38:34.393Z"
   },
   {
    "duration": 32,
    "start_time": "2022-05-09T10:38:34.403Z"
   },
   {
    "duration": 79,
    "start_time": "2022-05-09T10:38:34.436Z"
   },
   {
    "duration": 14,
    "start_time": "2022-05-09T10:38:34.516Z"
   },
   {
    "duration": 16,
    "start_time": "2022-05-09T10:38:34.532Z"
   },
   {
    "duration": 104,
    "start_time": "2022-05-09T10:38:34.549Z"
   },
   {
    "duration": 14,
    "start_time": "2022-05-09T10:38:34.655Z"
   },
   {
    "duration": 13,
    "start_time": "2022-05-09T10:38:34.670Z"
   },
   {
    "duration": 60,
    "start_time": "2022-05-09T10:38:34.684Z"
   },
   {
    "duration": 14,
    "start_time": "2022-05-09T10:38:34.746Z"
   },
   {
    "duration": 91,
    "start_time": "2022-05-09T10:38:34.762Z"
   },
   {
    "duration": 8,
    "start_time": "2022-05-09T10:38:34.855Z"
   },
   {
    "duration": 29,
    "start_time": "2022-05-09T10:38:34.864Z"
   },
   {
    "duration": 61,
    "start_time": "2022-05-09T10:38:34.895Z"
   },
   {
    "duration": 28,
    "start_time": "2022-05-09T10:38:34.961Z"
   },
   {
    "duration": 66,
    "start_time": "2022-05-09T10:38:34.991Z"
   },
   {
    "duration": 31,
    "start_time": "2022-05-09T10:38:35.058Z"
   },
   {
    "duration": 32,
    "start_time": "2022-05-09T10:38:35.091Z"
   },
   {
    "duration": 84,
    "start_time": "2022-05-09T10:38:35.125Z"
   },
   {
    "duration": 8,
    "start_time": "2022-05-09T10:38:35.223Z"
   },
   {
    "duration": 8,
    "start_time": "2022-05-09T10:40:19.190Z"
   },
   {
    "duration": 79,
    "start_time": "2022-05-09T10:47:22.896Z"
   },
   {
    "duration": 25,
    "start_time": "2022-05-09T10:50:04.090Z"
   },
   {
    "duration": 782,
    "start_time": "2022-05-09T10:52:28.041Z"
   },
   {
    "duration": 71,
    "start_time": "2022-05-09T10:52:48.399Z"
   },
   {
    "duration": 725,
    "start_time": "2022-05-09T10:54:16.105Z"
   },
   {
    "duration": 3,
    "start_time": "2022-05-09T10:54:16.832Z"
   },
   {
    "duration": 43,
    "start_time": "2022-05-09T10:54:16.837Z"
   },
   {
    "duration": 12,
    "start_time": "2022-05-09T10:54:16.883Z"
   },
   {
    "duration": 167,
    "start_time": "2022-05-09T10:54:16.897Z"
   },
   {
    "duration": 27,
    "start_time": "2022-05-09T10:54:17.066Z"
   },
   {
    "duration": 103,
    "start_time": "2022-05-09T10:54:17.095Z"
   },
   {
    "duration": 29,
    "start_time": "2022-05-09T10:54:17.200Z"
   },
   {
    "duration": 142,
    "start_time": "2022-05-09T10:54:17.231Z"
   },
   {
    "duration": 22,
    "start_time": "2022-05-09T10:54:17.376Z"
   },
   {
    "duration": 9,
    "start_time": "2022-05-09T10:54:17.400Z"
   },
   {
    "duration": 13,
    "start_time": "2022-05-09T10:54:17.423Z"
   },
   {
    "duration": 24,
    "start_time": "2022-05-09T10:54:17.438Z"
   },
   {
    "duration": 11,
    "start_time": "2022-05-09T10:54:17.463Z"
   },
   {
    "duration": 10,
    "start_time": "2022-05-09T10:54:17.476Z"
   },
   {
    "duration": 82,
    "start_time": "2022-05-09T10:54:17.488Z"
   },
   {
    "duration": 14,
    "start_time": "2022-05-09T10:54:17.572Z"
   },
   {
    "duration": 43,
    "start_time": "2022-05-09T10:54:17.588Z"
   },
   {
    "duration": 96,
    "start_time": "2022-05-09T10:54:17.633Z"
   },
   {
    "duration": 16,
    "start_time": "2022-05-09T10:54:17.731Z"
   },
   {
    "duration": 5,
    "start_time": "2022-05-09T10:54:17.748Z"
   },
   {
    "duration": 36,
    "start_time": "2022-05-09T10:54:17.755Z"
   },
   {
    "duration": 40,
    "start_time": "2022-05-09T10:54:17.793Z"
   },
   {
    "duration": 94,
    "start_time": "2022-05-09T10:54:17.835Z"
   },
   {
    "duration": 9,
    "start_time": "2022-05-09T10:54:17.931Z"
   },
   {
    "duration": 24,
    "start_time": "2022-05-09T10:54:17.942Z"
   },
   {
    "duration": 71,
    "start_time": "2022-05-09T10:54:17.968Z"
   },
   {
    "duration": 28,
    "start_time": "2022-05-09T10:54:18.042Z"
   },
   {
    "duration": 64,
    "start_time": "2022-05-09T10:54:18.072Z"
   },
   {
    "duration": 31,
    "start_time": "2022-05-09T10:54:18.138Z"
   },
   {
    "duration": 10,
    "start_time": "2022-05-09T10:54:18.171Z"
   },
   {
    "duration": 106,
    "start_time": "2022-05-09T10:54:18.182Z"
   },
   {
    "duration": 714,
    "start_time": "2022-05-09T10:54:18.289Z"
   },
   {
    "duration": 718,
    "start_time": "2022-05-09T10:54:42.704Z"
   },
   {
    "duration": 2,
    "start_time": "2022-05-09T10:54:43.425Z"
   },
   {
    "duration": 41,
    "start_time": "2022-05-09T10:54:43.429Z"
   },
   {
    "duration": 11,
    "start_time": "2022-05-09T10:54:43.472Z"
   },
   {
    "duration": 155,
    "start_time": "2022-05-09T10:54:43.484Z"
   },
   {
    "duration": 27,
    "start_time": "2022-05-09T10:54:43.641Z"
   },
   {
    "duration": 98,
    "start_time": "2022-05-09T10:54:43.669Z"
   },
   {
    "duration": 18,
    "start_time": "2022-05-09T10:54:43.769Z"
   },
   {
    "duration": 140,
    "start_time": "2022-05-09T10:54:43.789Z"
   },
   {
    "duration": 20,
    "start_time": "2022-05-09T10:54:43.932Z"
   },
   {
    "duration": 8,
    "start_time": "2022-05-09T10:54:43.954Z"
   },
   {
    "duration": 12,
    "start_time": "2022-05-09T10:54:43.964Z"
   },
   {
    "duration": 21,
    "start_time": "2022-05-09T10:54:43.978Z"
   },
   {
    "duration": 28,
    "start_time": "2022-05-09T10:54:44.001Z"
   },
   {
    "duration": 10,
    "start_time": "2022-05-09T10:54:44.031Z"
   },
   {
    "duration": 83,
    "start_time": "2022-05-09T10:54:44.043Z"
   },
   {
    "duration": 16,
    "start_time": "2022-05-09T10:54:44.128Z"
   },
   {
    "duration": 17,
    "start_time": "2022-05-09T10:54:44.146Z"
   },
   {
    "duration": 116,
    "start_time": "2022-05-09T10:54:44.165Z"
   },
   {
    "duration": 15,
    "start_time": "2022-05-09T10:54:44.283Z"
   },
   {
    "duration": 5,
    "start_time": "2022-05-09T10:54:44.300Z"
   },
   {
    "duration": 36,
    "start_time": "2022-05-09T10:54:44.323Z"
   },
   {
    "duration": 15,
    "start_time": "2022-05-09T10:54:44.361Z"
   },
   {
    "duration": 95,
    "start_time": "2022-05-09T10:54:44.377Z"
   },
   {
    "duration": 7,
    "start_time": "2022-05-09T10:54:44.474Z"
   },
   {
    "duration": 21,
    "start_time": "2022-05-09T10:54:44.483Z"
   },
   {
    "duration": 45,
    "start_time": "2022-05-09T10:54:44.522Z"
   },
   {
    "duration": 27,
    "start_time": "2022-05-09T10:54:44.570Z"
   },
   {
    "duration": 61,
    "start_time": "2022-05-09T10:54:44.598Z"
   },
   {
    "duration": 29,
    "start_time": "2022-05-09T10:54:44.660Z"
   },
   {
    "duration": 17,
    "start_time": "2022-05-09T10:54:44.691Z"
   },
   {
    "duration": 80,
    "start_time": "2022-05-09T10:54:44.722Z"
   },
   {
    "duration": 3526,
    "start_time": "2022-05-09T10:54:44.804Z"
   },
   {
    "duration": 711,
    "start_time": "2022-05-09T10:55:38.804Z"
   },
   {
    "duration": 3,
    "start_time": "2022-05-09T10:55:39.517Z"
   },
   {
    "duration": 56,
    "start_time": "2022-05-09T10:55:39.521Z"
   },
   {
    "duration": 11,
    "start_time": "2022-05-09T10:55:39.580Z"
   },
   {
    "duration": 160,
    "start_time": "2022-05-09T10:55:39.593Z"
   },
   {
    "duration": 26,
    "start_time": "2022-05-09T10:55:39.755Z"
   },
   {
    "duration": 97,
    "start_time": "2022-05-09T10:55:39.782Z"
   },
   {
    "duration": 19,
    "start_time": "2022-05-09T10:55:39.881Z"
   },
   {
    "duration": 144,
    "start_time": "2022-05-09T10:55:39.902Z"
   },
   {
    "duration": 22,
    "start_time": "2022-05-09T10:55:40.049Z"
   },
   {
    "duration": 9,
    "start_time": "2022-05-09T10:55:40.073Z"
   },
   {
    "duration": 40,
    "start_time": "2022-05-09T10:55:40.084Z"
   },
   {
    "duration": 20,
    "start_time": "2022-05-09T10:55:40.126Z"
   },
   {
    "duration": 11,
    "start_time": "2022-05-09T10:55:40.148Z"
   },
   {
    "duration": 10,
    "start_time": "2022-05-09T10:55:40.160Z"
   },
   {
    "duration": 79,
    "start_time": "2022-05-09T10:55:40.171Z"
   },
   {
    "duration": 14,
    "start_time": "2022-05-09T10:55:40.252Z"
   },
   {
    "duration": 17,
    "start_time": "2022-05-09T10:55:40.268Z"
   },
   {
    "duration": 114,
    "start_time": "2022-05-09T10:55:40.287Z"
   },
   {
    "duration": 31,
    "start_time": "2022-05-09T10:55:40.403Z"
   },
   {
    "duration": 5,
    "start_time": "2022-05-09T10:55:40.436Z"
   },
   {
    "duration": 37,
    "start_time": "2022-05-09T10:55:40.444Z"
   },
   {
    "duration": 45,
    "start_time": "2022-05-09T10:55:40.483Z"
   },
   {
    "duration": 74,
    "start_time": "2022-05-09T10:55:40.531Z"
   },
   {
    "duration": 10,
    "start_time": "2022-05-09T10:55:40.622Z"
   },
   {
    "duration": 24,
    "start_time": "2022-05-09T10:55:40.634Z"
   },
   {
    "duration": 76,
    "start_time": "2022-05-09T10:55:40.660Z"
   },
   {
    "duration": 27,
    "start_time": "2022-05-09T10:55:40.739Z"
   },
   {
    "duration": 64,
    "start_time": "2022-05-09T10:55:40.768Z"
   },
   {
    "duration": 30,
    "start_time": "2022-05-09T10:55:40.834Z"
   },
   {
    "duration": 9,
    "start_time": "2022-05-09T10:55:40.866Z"
   },
   {
    "duration": 98,
    "start_time": "2022-05-09T10:55:40.877Z"
   },
   {
    "duration": 99,
    "start_time": "2022-05-09T10:55:40.977Z"
   },
   {
    "duration": 6,
    "start_time": "2022-05-09T10:56:15.740Z"
   },
   {
    "duration": 6,
    "start_time": "2022-05-09T10:56:22.270Z"
   },
   {
    "duration": 7,
    "start_time": "2022-05-09T10:56:28.196Z"
   },
   {
    "duration": 9,
    "start_time": "2022-05-09T10:57:21.007Z"
   },
   {
    "duration": 5,
    "start_time": "2022-05-09T10:57:26.505Z"
   },
   {
    "duration": 6,
    "start_time": "2022-05-09T10:57:49.743Z"
   },
   {
    "duration": 5,
    "start_time": "2022-05-09T10:58:10.855Z"
   },
   {
    "duration": 6,
    "start_time": "2022-05-09T10:58:17.518Z"
   },
   {
    "duration": 705,
    "start_time": "2022-05-09T10:58:36.747Z"
   },
   {
    "duration": 4,
    "start_time": "2022-05-09T10:58:37.454Z"
   },
   {
    "duration": 54,
    "start_time": "2022-05-09T10:58:37.459Z"
   },
   {
    "duration": 11,
    "start_time": "2022-05-09T10:58:37.516Z"
   },
   {
    "duration": 177,
    "start_time": "2022-05-09T10:58:37.530Z"
   },
   {
    "duration": 30,
    "start_time": "2022-05-09T10:58:37.709Z"
   },
   {
    "duration": 98,
    "start_time": "2022-05-09T10:58:37.741Z"
   },
   {
    "duration": 19,
    "start_time": "2022-05-09T10:58:37.841Z"
   },
   {
    "duration": 152,
    "start_time": "2022-05-09T10:58:37.862Z"
   },
   {
    "duration": 23,
    "start_time": "2022-05-09T10:58:38.017Z"
   },
   {
    "duration": 17,
    "start_time": "2022-05-09T10:58:38.042Z"
   },
   {
    "duration": 24,
    "start_time": "2022-05-09T10:58:38.061Z"
   },
   {
    "duration": 28,
    "start_time": "2022-05-09T10:58:38.087Z"
   },
   {
    "duration": 10,
    "start_time": "2022-05-09T10:58:38.116Z"
   },
   {
    "duration": 20,
    "start_time": "2022-05-09T10:58:38.128Z"
   },
   {
    "duration": 71,
    "start_time": "2022-05-09T10:58:38.149Z"
   },
   {
    "duration": 14,
    "start_time": "2022-05-09T10:58:38.221Z"
   },
   {
    "duration": 29,
    "start_time": "2022-05-09T10:58:38.236Z"
   },
   {
    "duration": 100,
    "start_time": "2022-05-09T10:58:38.267Z"
   },
   {
    "duration": 15,
    "start_time": "2022-05-09T10:58:38.369Z"
   },
   {
    "duration": 15,
    "start_time": "2022-05-09T10:58:38.386Z"
   },
   {
    "duration": 46,
    "start_time": "2022-05-09T10:58:38.403Z"
   },
   {
    "duration": 14,
    "start_time": "2022-05-09T10:58:38.451Z"
   },
   {
    "duration": 96,
    "start_time": "2022-05-09T10:58:38.467Z"
   },
   {
    "duration": 7,
    "start_time": "2022-05-09T10:58:38.565Z"
   },
   {
    "duration": 36,
    "start_time": "2022-05-09T10:58:38.574Z"
   },
   {
    "duration": 58,
    "start_time": "2022-05-09T10:58:38.611Z"
   },
   {
    "duration": 28,
    "start_time": "2022-05-09T10:58:38.672Z"
   },
   {
    "duration": 65,
    "start_time": "2022-05-09T10:58:38.701Z"
   },
   {
    "duration": 33,
    "start_time": "2022-05-09T10:58:38.768Z"
   },
   {
    "duration": 10,
    "start_time": "2022-05-09T10:58:38.823Z"
   },
   {
    "duration": 192,
    "start_time": "2022-05-09T10:58:38.835Z"
   },
   {
    "duration": 6,
    "start_time": "2022-05-09T10:58:39.029Z"
   },
   {
    "duration": 1480,
    "start_time": "2022-05-09T10:58:39.036Z"
   },
   {
    "duration": 783,
    "start_time": "2022-05-09T11:21:53.096Z"
   },
   {
    "duration": 3,
    "start_time": "2022-05-09T11:21:53.881Z"
   },
   {
    "duration": 51,
    "start_time": "2022-05-09T11:21:53.886Z"
   },
   {
    "duration": 12,
    "start_time": "2022-05-09T11:21:53.940Z"
   },
   {
    "duration": 176,
    "start_time": "2022-05-09T11:21:53.953Z"
   },
   {
    "duration": 41,
    "start_time": "2022-05-09T11:21:54.131Z"
   },
   {
    "duration": 154,
    "start_time": "2022-05-09T11:21:54.175Z"
   },
   {
    "duration": 24,
    "start_time": "2022-05-09T11:21:54.331Z"
   },
   {
    "duration": 149,
    "start_time": "2022-05-09T11:21:54.357Z"
   },
   {
    "duration": 31,
    "start_time": "2022-05-09T11:21:54.509Z"
   },
   {
    "duration": 10,
    "start_time": "2022-05-09T11:21:54.542Z"
   },
   {
    "duration": 16,
    "start_time": "2022-05-09T11:21:54.554Z"
   },
   {
    "duration": 24,
    "start_time": "2022-05-09T11:21:54.572Z"
   },
   {
    "duration": 30,
    "start_time": "2022-05-09T11:21:54.598Z"
   },
   {
    "duration": 15,
    "start_time": "2022-05-09T11:21:54.632Z"
   },
   {
    "duration": 78,
    "start_time": "2022-05-09T11:21:54.649Z"
   },
   {
    "duration": 21,
    "start_time": "2022-05-09T11:21:54.728Z"
   },
   {
    "duration": 21,
    "start_time": "2022-05-09T11:21:54.751Z"
   },
   {
    "duration": 121,
    "start_time": "2022-05-09T11:21:54.774Z"
   },
   {
    "duration": 34,
    "start_time": "2022-05-09T11:21:54.898Z"
   },
   {
    "duration": 6,
    "start_time": "2022-05-09T11:21:54.937Z"
   },
   {
    "duration": 43,
    "start_time": "2022-05-09T11:21:54.944Z"
   },
   {
    "duration": 16,
    "start_time": "2022-05-09T11:21:54.989Z"
   },
   {
    "duration": 81,
    "start_time": "2022-05-09T11:21:55.024Z"
   },
   {
    "duration": 25,
    "start_time": "2022-05-09T11:21:55.108Z"
   },
   {
    "duration": 33,
    "start_time": "2022-05-09T11:21:55.136Z"
   },
   {
    "duration": 99,
    "start_time": "2022-05-09T11:21:55.172Z"
   },
   {
    "duration": 51,
    "start_time": "2022-05-09T11:21:55.275Z"
   },
   {
    "duration": 54,
    "start_time": "2022-05-09T11:21:55.329Z"
   },
   {
    "duration": 55,
    "start_time": "2022-05-09T11:21:55.385Z"
   },
   {
    "duration": 10,
    "start_time": "2022-05-09T11:21:55.442Z"
   },
   {
    "duration": 105,
    "start_time": "2022-05-09T11:21:55.454Z"
   },
   {
    "duration": 1480,
    "start_time": "2022-05-09T11:21:55.562Z"
   },
   {
    "duration": 731,
    "start_time": "2022-05-09T11:47:07.653Z"
   },
   {
    "duration": 2,
    "start_time": "2022-05-09T11:47:08.387Z"
   },
   {
    "duration": 43,
    "start_time": "2022-05-09T11:47:08.391Z"
   },
   {
    "duration": 14,
    "start_time": "2022-05-09T11:47:08.437Z"
   },
   {
    "duration": 175,
    "start_time": "2022-05-09T11:47:08.453Z"
   },
   {
    "duration": 30,
    "start_time": "2022-05-09T11:47:08.631Z"
   },
   {
    "duration": 105,
    "start_time": "2022-05-09T11:47:08.663Z"
   },
   {
    "duration": 36,
    "start_time": "2022-05-09T11:47:08.770Z"
   },
   {
    "duration": 237,
    "start_time": "2022-05-09T11:47:08.808Z"
   },
   {
    "duration": 24,
    "start_time": "2022-05-09T11:47:09.048Z"
   },
   {
    "duration": 9,
    "start_time": "2022-05-09T11:47:09.074Z"
   },
   {
    "duration": 14,
    "start_time": "2022-05-09T11:47:09.084Z"
   },
   {
    "duration": 40,
    "start_time": "2022-05-09T11:47:09.100Z"
   },
   {
    "duration": 11,
    "start_time": "2022-05-09T11:47:09.141Z"
   },
   {
    "duration": 11,
    "start_time": "2022-05-09T11:47:09.154Z"
   },
   {
    "duration": 92,
    "start_time": "2022-05-09T11:47:09.166Z"
   },
   {
    "duration": 17,
    "start_time": "2022-05-09T11:47:09.259Z"
   },
   {
    "duration": 53,
    "start_time": "2022-05-09T11:47:09.278Z"
   },
   {
    "duration": 105,
    "start_time": "2022-05-09T11:47:09.332Z"
   },
   {
    "duration": 15,
    "start_time": "2022-05-09T11:47:09.439Z"
   },
   {
    "duration": 5,
    "start_time": "2022-05-09T11:47:09.456Z"
   },
   {
    "duration": 71,
    "start_time": "2022-05-09T11:47:09.463Z"
   },
   {
    "duration": 18,
    "start_time": "2022-05-09T11:47:09.536Z"
   },
   {
    "duration": 100,
    "start_time": "2022-05-09T11:47:09.556Z"
   },
   {
    "duration": 8,
    "start_time": "2022-05-09T11:47:09.658Z"
   },
   {
    "duration": 28,
    "start_time": "2022-05-09T11:47:09.668Z"
   },
   {
    "duration": 79,
    "start_time": "2022-05-09T11:47:09.698Z"
   },
   {
    "duration": 29,
    "start_time": "2022-05-09T11:47:09.781Z"
   },
   {
    "duration": 62,
    "start_time": "2022-05-09T11:47:09.812Z"
   },
   {
    "duration": 56,
    "start_time": "2022-05-09T11:47:09.876Z"
   },
   {
    "duration": 14,
    "start_time": "2022-05-09T11:47:09.934Z"
   },
   {
    "duration": 96,
    "start_time": "2022-05-09T11:47:09.950Z"
   },
   {
    "duration": 106,
    "start_time": "2022-05-09T11:47:10.048Z"
   },
   {
    "duration": 726,
    "start_time": "2022-05-09T11:50:30.030Z"
   },
   {
    "duration": 3,
    "start_time": "2022-05-09T11:50:30.758Z"
   },
   {
    "duration": 54,
    "start_time": "2022-05-09T11:50:30.763Z"
   },
   {
    "duration": 20,
    "start_time": "2022-05-09T11:50:30.820Z"
   },
   {
    "duration": 234,
    "start_time": "2022-05-09T11:50:30.842Z"
   },
   {
    "duration": 59,
    "start_time": "2022-05-09T11:50:31.078Z"
   },
   {
    "duration": 155,
    "start_time": "2022-05-09T11:50:31.139Z"
   },
   {
    "duration": 39,
    "start_time": "2022-05-09T11:50:31.297Z"
   },
   {
    "duration": 224,
    "start_time": "2022-05-09T11:50:31.340Z"
   },
   {
    "duration": 32,
    "start_time": "2022-05-09T11:50:31.568Z"
   },
   {
    "duration": 31,
    "start_time": "2022-05-09T11:50:31.603Z"
   },
   {
    "duration": 17,
    "start_time": "2022-05-09T11:50:31.636Z"
   },
   {
    "duration": 28,
    "start_time": "2022-05-09T11:50:31.655Z"
   },
   {
    "duration": 11,
    "start_time": "2022-05-09T11:50:31.684Z"
   },
   {
    "duration": 30,
    "start_time": "2022-05-09T11:50:31.697Z"
   },
   {
    "duration": 65,
    "start_time": "2022-05-09T11:50:31.729Z"
   },
   {
    "duration": 35,
    "start_time": "2022-05-09T11:50:31.796Z"
   },
   {
    "duration": 21,
    "start_time": "2022-05-09T11:50:31.833Z"
   },
   {
    "duration": 118,
    "start_time": "2022-05-09T11:50:31.855Z"
   },
   {
    "duration": 13,
    "start_time": "2022-05-09T11:50:31.974Z"
   },
   {
    "duration": 4,
    "start_time": "2022-05-09T11:50:31.989Z"
   },
   {
    "duration": 57,
    "start_time": "2022-05-09T11:50:31.994Z"
   },
   {
    "duration": 15,
    "start_time": "2022-05-09T11:50:32.053Z"
   },
   {
    "duration": 96,
    "start_time": "2022-05-09T11:50:32.070Z"
   },
   {
    "duration": 8,
    "start_time": "2022-05-09T11:50:32.167Z"
   },
   {
    "duration": 23,
    "start_time": "2022-05-09T11:50:32.177Z"
   },
   {
    "duration": 74,
    "start_time": "2022-05-09T11:50:32.201Z"
   },
   {
    "duration": 43,
    "start_time": "2022-05-09T11:50:32.279Z"
   },
   {
    "duration": 53,
    "start_time": "2022-05-09T11:50:32.324Z"
   },
   {
    "duration": 63,
    "start_time": "2022-05-09T11:50:32.379Z"
   },
   {
    "duration": 14,
    "start_time": "2022-05-09T11:50:32.445Z"
   },
   {
    "duration": 142,
    "start_time": "2022-05-09T11:50:32.461Z"
   },
   {
    "duration": 152,
    "start_time": "2022-05-09T11:50:32.606Z"
   },
   {
    "duration": 778,
    "start_time": "2022-05-09T11:51:25.128Z"
   },
   {
    "duration": 4,
    "start_time": "2022-05-09T11:51:25.909Z"
   },
   {
    "duration": 58,
    "start_time": "2022-05-09T11:51:25.914Z"
   },
   {
    "duration": 11,
    "start_time": "2022-05-09T11:51:25.974Z"
   },
   {
    "duration": 176,
    "start_time": "2022-05-09T11:51:25.988Z"
   },
   {
    "duration": 27,
    "start_time": "2022-05-09T11:51:26.165Z"
   },
   {
    "duration": 109,
    "start_time": "2022-05-09T11:51:26.194Z"
   },
   {
    "duration": 25,
    "start_time": "2022-05-09T11:51:26.304Z"
   },
   {
    "duration": 147,
    "start_time": "2022-05-09T11:51:26.335Z"
   },
   {
    "duration": 24,
    "start_time": "2022-05-09T11:51:26.483Z"
   },
   {
    "duration": 23,
    "start_time": "2022-05-09T11:51:26.509Z"
   },
   {
    "duration": 19,
    "start_time": "2022-05-09T11:51:26.535Z"
   },
   {
    "duration": 23,
    "start_time": "2022-05-09T11:51:26.556Z"
   },
   {
    "duration": 11,
    "start_time": "2022-05-09T11:51:26.582Z"
   },
   {
    "duration": 9,
    "start_time": "2022-05-09T11:51:26.595Z"
   },
   {
    "duration": 80,
    "start_time": "2022-05-09T11:51:26.631Z"
   },
   {
    "duration": 30,
    "start_time": "2022-05-09T11:51:26.712Z"
   },
   {
    "duration": 20,
    "start_time": "2022-05-09T11:51:26.744Z"
   },
   {
    "duration": 111,
    "start_time": "2022-05-09T11:51:26.766Z"
   },
   {
    "duration": 14,
    "start_time": "2022-05-09T11:51:26.879Z"
   },
   {
    "duration": 5,
    "start_time": "2022-05-09T11:51:26.895Z"
   },
   {
    "duration": 61,
    "start_time": "2022-05-09T11:51:26.901Z"
   },
   {
    "duration": 15,
    "start_time": "2022-05-09T11:51:26.964Z"
   },
   {
    "duration": 105,
    "start_time": "2022-05-09T11:51:26.980Z"
   },
   {
    "duration": 8,
    "start_time": "2022-05-09T11:51:27.088Z"
   },
   {
    "duration": 41,
    "start_time": "2022-05-09T11:51:27.098Z"
   },
   {
    "duration": 52,
    "start_time": "2022-05-09T11:51:27.141Z"
   },
   {
    "duration": 49,
    "start_time": "2022-05-09T11:51:27.195Z"
   },
   {
    "duration": 48,
    "start_time": "2022-05-09T11:51:27.246Z"
   },
   {
    "duration": 53,
    "start_time": "2022-05-09T11:51:27.296Z"
   },
   {
    "duration": 12,
    "start_time": "2022-05-09T11:51:27.350Z"
   },
   {
    "duration": 112,
    "start_time": "2022-05-09T11:51:27.363Z"
   },
   {
    "duration": 185,
    "start_time": "2022-05-09T11:51:27.478Z"
   },
   {
    "duration": 5,
    "start_time": "2022-05-09T11:53:52.648Z"
   },
   {
    "duration": 9,
    "start_time": "2022-05-09T11:53:58.887Z"
   },
   {
    "duration": 6,
    "start_time": "2022-05-09T11:55:19.921Z"
   },
   {
    "duration": 1980,
    "start_time": "2022-05-09T11:55:28.482Z"
   },
   {
    "duration": 9,
    "start_time": "2022-05-09T11:55:36.721Z"
   },
   {
    "duration": 5,
    "start_time": "2022-05-09T11:56:11.479Z"
   },
   {
    "duration": 6,
    "start_time": "2022-05-09T11:56:18.749Z"
   },
   {
    "duration": 5,
    "start_time": "2022-05-09T11:56:25.456Z"
   },
   {
    "duration": 738,
    "start_time": "2022-05-09T11:57:00.341Z"
   },
   {
    "duration": 3,
    "start_time": "2022-05-09T11:57:01.082Z"
   },
   {
    "duration": 78,
    "start_time": "2022-05-09T11:57:01.086Z"
   },
   {
    "duration": 12,
    "start_time": "2022-05-09T11:57:01.166Z"
   },
   {
    "duration": 208,
    "start_time": "2022-05-09T11:57:01.180Z"
   },
   {
    "duration": 34,
    "start_time": "2022-05-09T11:57:01.390Z"
   },
   {
    "duration": 142,
    "start_time": "2022-05-09T11:57:01.426Z"
   },
   {
    "duration": 30,
    "start_time": "2022-05-09T11:57:01.570Z"
   },
   {
    "duration": 153,
    "start_time": "2022-05-09T11:57:01.601Z"
   },
   {
    "duration": 23,
    "start_time": "2022-05-09T11:57:01.759Z"
   },
   {
    "duration": 14,
    "start_time": "2022-05-09T11:57:01.784Z"
   },
   {
    "duration": 42,
    "start_time": "2022-05-09T11:57:01.799Z"
   },
   {
    "duration": 26,
    "start_time": "2022-05-09T11:57:01.843Z"
   },
   {
    "duration": 15,
    "start_time": "2022-05-09T11:57:01.871Z"
   },
   {
    "duration": 23,
    "start_time": "2022-05-09T11:57:01.889Z"
   },
   {
    "duration": 120,
    "start_time": "2022-05-09T11:57:01.914Z"
   },
   {
    "duration": 15,
    "start_time": "2022-05-09T11:57:02.036Z"
   },
   {
    "duration": 16,
    "start_time": "2022-05-09T11:57:02.054Z"
   },
   {
    "duration": 111,
    "start_time": "2022-05-09T11:57:02.072Z"
   },
   {
    "duration": 15,
    "start_time": "2022-05-09T11:57:02.185Z"
   },
   {
    "duration": 33,
    "start_time": "2022-05-09T11:57:02.202Z"
   },
   {
    "duration": 33,
    "start_time": "2022-05-09T11:57:02.237Z"
   },
   {
    "duration": 15,
    "start_time": "2022-05-09T11:57:02.272Z"
   },
   {
    "duration": 139,
    "start_time": "2022-05-09T11:57:02.289Z"
   },
   {
    "duration": 11,
    "start_time": "2022-05-09T11:57:02.430Z"
   },
   {
    "duration": 24,
    "start_time": "2022-05-09T11:57:02.443Z"
   },
   {
    "duration": 78,
    "start_time": "2022-05-09T11:57:02.469Z"
   },
   {
    "duration": 28,
    "start_time": "2022-05-09T11:57:02.550Z"
   },
   {
    "duration": 68,
    "start_time": "2022-05-09T11:57:02.580Z"
   },
   {
    "duration": 43,
    "start_time": "2022-05-09T11:57:02.651Z"
   },
   {
    "duration": 32,
    "start_time": "2022-05-09T11:57:02.696Z"
   },
   {
    "duration": 97,
    "start_time": "2022-05-09T11:57:02.730Z"
   },
   {
    "duration": 1409,
    "start_time": "2022-05-09T11:57:02.830Z"
   },
   {
    "duration": 86,
    "start_time": "2022-05-09T12:01:56.259Z"
   },
   {
    "duration": 5,
    "start_time": "2022-05-09T12:02:01.493Z"
   },
   {
    "duration": 12,
    "start_time": "2022-05-09T12:36:37.835Z"
   },
   {
    "duration": 88,
    "start_time": "2022-05-09T12:37:13.751Z"
   },
   {
    "duration": 53,
    "start_time": "2022-05-09T12:40:29.752Z"
   },
   {
    "duration": 30,
    "start_time": "2022-05-09T12:41:25.875Z"
   },
   {
    "duration": 16,
    "start_time": "2022-05-09T12:42:29.579Z"
   },
   {
    "duration": 14,
    "start_time": "2022-05-09T12:42:39.004Z"
   },
   {
    "duration": 13,
    "start_time": "2022-05-09T12:44:11.094Z"
   },
   {
    "duration": 169,
    "start_time": "2022-05-09T12:44:21.411Z"
   },
   {
    "duration": 14,
    "start_time": "2022-05-09T12:44:27.755Z"
   },
   {
    "duration": 16,
    "start_time": "2022-05-09T12:44:39.021Z"
   },
   {
    "duration": 14,
    "start_time": "2022-05-09T12:48:17.442Z"
   },
   {
    "duration": 17,
    "start_time": "2022-05-09T12:48:46.462Z"
   },
   {
    "duration": 18,
    "start_time": "2022-05-09T12:49:08.219Z"
   },
   {
    "duration": 20,
    "start_time": "2022-05-09T12:49:25.648Z"
   },
   {
    "duration": 962,
    "start_time": "2022-05-10T12:08:45.520Z"
   },
   {
    "duration": 4,
    "start_time": "2022-05-10T12:08:46.484Z"
   },
   {
    "duration": 53,
    "start_time": "2022-05-10T12:08:46.489Z"
   },
   {
    "duration": 14,
    "start_time": "2022-05-10T12:08:46.545Z"
   },
   {
    "duration": 197,
    "start_time": "2022-05-10T12:08:46.561Z"
   },
   {
    "duration": 28,
    "start_time": "2022-05-10T12:08:46.760Z"
   },
   {
    "duration": 106,
    "start_time": "2022-05-10T12:08:46.789Z"
   },
   {
    "duration": 20,
    "start_time": "2022-05-10T12:08:46.897Z"
   },
   {
    "duration": 181,
    "start_time": "2022-05-10T12:08:46.918Z"
   },
   {
    "duration": 35,
    "start_time": "2022-05-10T12:08:47.102Z"
   },
   {
    "duration": 9,
    "start_time": "2022-05-10T12:08:47.139Z"
   },
   {
    "duration": 17,
    "start_time": "2022-05-10T12:08:47.150Z"
   },
   {
    "duration": 34,
    "start_time": "2022-05-10T12:08:47.169Z"
   },
   {
    "duration": 11,
    "start_time": "2022-05-10T12:08:47.205Z"
   },
   {
    "duration": 20,
    "start_time": "2022-05-10T12:08:47.218Z"
   },
   {
    "duration": 58,
    "start_time": "2022-05-10T12:08:47.241Z"
   },
   {
    "duration": 46,
    "start_time": "2022-05-10T12:08:47.300Z"
   },
   {
    "duration": 19,
    "start_time": "2022-05-10T12:08:47.349Z"
   },
   {
    "duration": 114,
    "start_time": "2022-05-10T12:08:47.370Z"
   },
   {
    "duration": 16,
    "start_time": "2022-05-10T12:08:47.485Z"
   },
   {
    "duration": 4,
    "start_time": "2022-05-10T12:08:47.503Z"
   },
   {
    "duration": 66,
    "start_time": "2022-05-10T12:08:47.510Z"
   },
   {
    "duration": 16,
    "start_time": "2022-05-10T12:08:47.578Z"
   },
   {
    "duration": 104,
    "start_time": "2022-05-10T12:08:47.596Z"
   },
   {
    "duration": 9,
    "start_time": "2022-05-10T12:08:47.703Z"
   },
   {
    "duration": 38,
    "start_time": "2022-05-10T12:08:47.714Z"
   },
   {
    "duration": 55,
    "start_time": "2022-05-10T12:08:47.754Z"
   },
   {
    "duration": 29,
    "start_time": "2022-05-10T12:08:47.835Z"
   },
   {
    "duration": 71,
    "start_time": "2022-05-10T12:08:47.866Z"
   },
   {
    "duration": 37,
    "start_time": "2022-05-10T12:08:47.939Z"
   },
   {
    "duration": 12,
    "start_time": "2022-05-10T12:08:47.978Z"
   },
   {
    "duration": 120,
    "start_time": "2022-05-10T12:08:47.992Z"
   },
   {
    "duration": 1559,
    "start_time": "2022-05-10T12:08:48.113Z"
   },
   {
    "duration": 64,
    "start_time": "2022-05-10T12:08:49.674Z"
   },
   {
    "duration": 16,
    "start_time": "2022-05-10T12:08:49.739Z"
   },
   {
    "duration": 844,
    "start_time": "2022-05-10T12:24:00.927Z"
   },
   {
    "duration": 4,
    "start_time": "2022-05-10T12:24:01.774Z"
   },
   {
    "duration": 68,
    "start_time": "2022-05-10T12:24:01.781Z"
   },
   {
    "duration": 14,
    "start_time": "2022-05-10T12:24:01.852Z"
   },
   {
    "duration": 202,
    "start_time": "2022-05-10T12:24:01.868Z"
   },
   {
    "duration": 30,
    "start_time": "2022-05-10T12:24:02.072Z"
   },
   {
    "duration": 120,
    "start_time": "2022-05-10T12:24:02.105Z"
   },
   {
    "duration": 31,
    "start_time": "2022-05-10T12:24:02.227Z"
   },
   {
    "duration": 189,
    "start_time": "2022-05-10T12:24:02.261Z"
   },
   {
    "duration": 42,
    "start_time": "2022-05-10T12:24:02.454Z"
   },
   {
    "duration": 37,
    "start_time": "2022-05-10T12:24:02.498Z"
   },
   {
    "duration": 27,
    "start_time": "2022-05-10T12:24:02.537Z"
   },
   {
    "duration": 26,
    "start_time": "2022-05-10T12:24:02.567Z"
   },
   {
    "duration": 16,
    "start_time": "2022-05-10T12:24:02.596Z"
   },
   {
    "duration": 14,
    "start_time": "2022-05-10T12:24:02.633Z"
   },
   {
    "duration": 91,
    "start_time": "2022-05-10T12:24:02.649Z"
   },
   {
    "duration": 22,
    "start_time": "2022-05-10T12:24:02.742Z"
   },
   {
    "duration": 20,
    "start_time": "2022-05-10T12:24:02.766Z"
   },
   {
    "duration": 148,
    "start_time": "2022-05-10T12:24:02.788Z"
   },
   {
    "duration": 23,
    "start_time": "2022-05-10T12:24:02.939Z"
   },
   {
    "duration": 6,
    "start_time": "2022-05-10T12:24:02.964Z"
   },
   {
    "duration": 80,
    "start_time": "2022-05-10T12:24:02.972Z"
   },
   {
    "duration": 23,
    "start_time": "2022-05-10T12:24:03.055Z"
   },
   {
    "duration": 134,
    "start_time": "2022-05-10T12:24:03.081Z"
   },
   {
    "duration": 19,
    "start_time": "2022-05-10T12:24:03.217Z"
   },
   {
    "duration": 36,
    "start_time": "2022-05-10T12:24:03.238Z"
   },
   {
    "duration": 83,
    "start_time": "2022-05-10T12:24:03.277Z"
   },
   {
    "duration": 31,
    "start_time": "2022-05-10T12:24:03.364Z"
   },
   {
    "duration": 75,
    "start_time": "2022-05-10T12:24:03.397Z"
   },
   {
    "duration": 37,
    "start_time": "2022-05-10T12:24:03.474Z"
   },
   {
    "duration": 12,
    "start_time": "2022-05-10T12:24:03.533Z"
   },
   {
    "duration": 168,
    "start_time": "2022-05-10T12:24:03.548Z"
   },
   {
    "duration": 1539,
    "start_time": "2022-05-10T12:24:03.719Z"
   },
   {
    "duration": 55,
    "start_time": "2022-05-10T12:24:05.260Z"
   },
   {
    "duration": 31,
    "start_time": "2022-05-10T12:24:05.317Z"
   },
   {
    "duration": 5,
    "start_time": "2022-05-10T14:17:24.677Z"
   },
   {
    "duration": 5,
    "start_time": "2022-05-10T14:17:31.197Z"
   },
   {
    "duration": 191,
    "start_time": "2022-05-10T14:18:05.810Z"
   },
   {
    "duration": 11,
    "start_time": "2022-05-10T14:18:19.376Z"
   },
   {
    "duration": 86,
    "start_time": "2022-05-10T14:18:40.640Z"
   },
   {
    "duration": 6,
    "start_time": "2022-05-10T14:24:47.471Z"
   },
   {
    "duration": 12,
    "start_time": "2022-05-10T14:26:13.928Z"
   },
   {
    "duration": 2478,
    "start_time": "2022-05-10T14:29:11.832Z"
   },
   {
    "duration": 2237,
    "start_time": "2022-05-10T14:29:22.111Z"
   },
   {
    "duration": 6,
    "start_time": "2022-05-10T14:29:37.154Z"
   },
   {
    "duration": 5,
    "start_time": "2022-05-10T14:29:41.844Z"
   },
   {
    "duration": 20,
    "start_time": "2022-05-10T14:30:28.908Z"
   },
   {
    "duration": 24,
    "start_time": "2022-05-10T14:37:12.018Z"
   },
   {
    "duration": 22,
    "start_time": "2022-05-10T14:50:29.476Z"
   },
   {
    "duration": 24,
    "start_time": "2022-05-10T14:52:18.574Z"
   },
   {
    "duration": 2269,
    "start_time": "2022-05-10T15:05:46.818Z"
   },
   {
    "duration": 524,
    "start_time": "2022-05-10T15:06:07.248Z"
   },
   {
    "duration": 71,
    "start_time": "2022-05-11T09:57:08.913Z"
   },
   {
    "duration": 1062,
    "start_time": "2022-05-11T09:57:14.915Z"
   },
   {
    "duration": 4,
    "start_time": "2022-05-11T09:57:15.980Z"
   },
   {
    "duration": 53,
    "start_time": "2022-05-11T09:57:15.992Z"
   },
   {
    "duration": 17,
    "start_time": "2022-05-11T09:57:16.048Z"
   },
   {
    "duration": 206,
    "start_time": "2022-05-11T09:57:16.069Z"
   },
   {
    "duration": 35,
    "start_time": "2022-05-11T09:57:16.278Z"
   },
   {
    "duration": 118,
    "start_time": "2022-05-11T09:57:16.315Z"
   },
   {
    "duration": 23,
    "start_time": "2022-05-11T09:57:16.436Z"
   },
   {
    "duration": 179,
    "start_time": "2022-05-11T09:57:16.462Z"
   },
   {
    "duration": 29,
    "start_time": "2022-05-11T09:57:16.643Z"
   },
   {
    "duration": 29,
    "start_time": "2022-05-11T09:57:16.674Z"
   },
   {
    "duration": 22,
    "start_time": "2022-05-11T09:57:16.706Z"
   },
   {
    "duration": 27,
    "start_time": "2022-05-11T09:57:16.731Z"
   },
   {
    "duration": 40,
    "start_time": "2022-05-11T09:57:16.764Z"
   },
   {
    "duration": 15,
    "start_time": "2022-05-11T09:57:16.807Z"
   },
   {
    "duration": 95,
    "start_time": "2022-05-11T09:57:16.824Z"
   },
   {
    "duration": 22,
    "start_time": "2022-05-11T09:57:16.922Z"
   },
   {
    "duration": 60,
    "start_time": "2022-05-11T09:57:16.947Z"
   },
   {
    "duration": 132,
    "start_time": "2022-05-11T09:57:17.009Z"
   },
   {
    "duration": 20,
    "start_time": "2022-05-11T09:57:17.144Z"
   },
   {
    "duration": 28,
    "start_time": "2022-05-11T09:57:17.166Z"
   },
   {
    "duration": 47,
    "start_time": "2022-05-11T09:57:17.196Z"
   },
   {
    "duration": 52,
    "start_time": "2022-05-11T09:57:17.245Z"
   },
   {
    "duration": 123,
    "start_time": "2022-05-11T09:57:17.299Z"
   },
   {
    "duration": 11,
    "start_time": "2022-05-11T09:57:17.424Z"
   },
   {
    "duration": 33,
    "start_time": "2022-05-11T09:57:17.437Z"
   },
   {
    "duration": 71,
    "start_time": "2022-05-11T09:57:17.494Z"
   },
   {
    "duration": 58,
    "start_time": "2022-05-11T09:57:17.567Z"
   },
   {
    "duration": 81,
    "start_time": "2022-05-11T09:57:17.627Z"
   },
   {
    "duration": 45,
    "start_time": "2022-05-11T09:57:17.710Z"
   },
   {
    "duration": 37,
    "start_time": "2022-05-11T09:57:17.758Z"
   },
   {
    "duration": 142,
    "start_time": "2022-05-11T09:57:17.797Z"
   },
   {
    "duration": 2521,
    "start_time": "2022-05-11T09:57:17.941Z"
   },
   {
    "duration": 87,
    "start_time": "2022-05-11T09:57:20.464Z"
   },
   {
    "duration": 20,
    "start_time": "2022-05-11T09:57:20.553Z"
   },
   {
    "duration": 33,
    "start_time": "2022-05-11T09:57:20.593Z"
   },
   {
    "duration": 7,
    "start_time": "2022-05-11T09:57:20.628Z"
   },
   {
    "duration": 62,
    "start_time": "2022-05-11T09:57:20.637Z"
   },
   {
    "duration": 7,
    "start_time": "2022-05-11T09:57:38.640Z"
   },
   {
    "duration": 6,
    "start_time": "2022-05-11T09:57:43.490Z"
   },
   {
    "duration": 7,
    "start_time": "2022-05-11T10:00:12.797Z"
   },
   {
    "duration": 9,
    "start_time": "2022-05-11T10:03:44.261Z"
   },
   {
    "duration": 11,
    "start_time": "2022-05-11T10:05:53.359Z"
   },
   {
    "duration": 13,
    "start_time": "2022-05-11T10:06:23.675Z"
   },
   {
    "duration": 11,
    "start_time": "2022-05-11T10:08:15.440Z"
   },
   {
    "duration": 396,
    "start_time": "2022-05-11T14:47:28.010Z"
   },
   {
    "duration": 358,
    "start_time": "2022-05-11T14:58:22.059Z"
   },
   {
    "duration": 380,
    "start_time": "2022-05-11T15:16:42.027Z"
   },
   {
    "duration": 417,
    "start_time": "2022-05-11T15:17:50.090Z"
   },
   {
    "duration": 379,
    "start_time": "2022-05-11T15:36:07.451Z"
   },
   {
    "duration": 2556,
    "start_time": "2022-05-16T17:16:35.339Z"
   },
   {
    "duration": 8,
    "start_time": "2022-05-16T17:16:37.898Z"
   },
   {
    "duration": 391,
    "start_time": "2022-05-16T17:16:37.912Z"
   },
   {
    "duration": 16,
    "start_time": "2022-05-16T17:16:38.307Z"
   },
   {
    "duration": 239,
    "start_time": "2022-05-16T17:16:38.326Z"
   },
   {
    "duration": 45,
    "start_time": "2022-05-16T17:16:38.567Z"
   },
   {
    "duration": 149,
    "start_time": "2022-05-16T17:16:38.615Z"
   },
   {
    "duration": 39,
    "start_time": "2022-05-16T17:16:38.766Z"
   },
   {
    "duration": 211,
    "start_time": "2022-05-16T17:16:38.809Z"
   },
   {
    "duration": 29,
    "start_time": "2022-05-16T17:16:39.024Z"
   },
   {
    "duration": 36,
    "start_time": "2022-05-16T17:16:39.055Z"
   },
   {
    "duration": 46,
    "start_time": "2022-05-16T17:16:39.098Z"
   },
   {
    "duration": 1693,
    "start_time": "2022-05-16T17:16:39.147Z"
   },
   {
    "duration": 17,
    "start_time": "2022-05-16T17:16:40.842Z"
   },
   {
    "duration": 15,
    "start_time": "2022-05-16T17:16:40.861Z"
   },
   {
    "duration": 142,
    "start_time": "2022-05-16T17:16:40.878Z"
   },
   {
    "duration": 22,
    "start_time": "2022-05-16T17:16:41.023Z"
   },
   {
    "duration": 66,
    "start_time": "2022-05-16T17:16:41.047Z"
   },
   {
    "duration": 146,
    "start_time": "2022-05-16T17:16:41.116Z"
   },
   {
    "duration": 48,
    "start_time": "2022-05-16T17:16:41.265Z"
   },
   {
    "duration": 9,
    "start_time": "2022-05-16T17:16:41.317Z"
   },
   {
    "duration": 93,
    "start_time": "2022-05-16T17:16:41.329Z"
   },
   {
    "duration": 22,
    "start_time": "2022-05-16T17:16:41.427Z"
   },
   {
    "duration": 186,
    "start_time": "2022-05-16T17:16:41.451Z"
   },
   {
    "duration": 16,
    "start_time": "2022-05-16T17:16:41.640Z"
   },
   {
    "duration": 64,
    "start_time": "2022-05-16T17:16:41.658Z"
   },
   {
    "duration": 128,
    "start_time": "2022-05-16T17:16:41.727Z"
   },
   {
    "duration": 54,
    "start_time": "2022-05-16T17:16:41.864Z"
   },
   {
    "duration": 99,
    "start_time": "2022-05-16T17:16:41.920Z"
   },
   {
    "duration": 45,
    "start_time": "2022-05-16T17:16:42.021Z"
   },
   {
    "duration": 30,
    "start_time": "2022-05-16T17:16:42.083Z"
   },
   {
    "duration": 164,
    "start_time": "2022-05-16T17:16:42.116Z"
   },
   {
    "duration": 3171,
    "start_time": "2022-05-16T17:16:42.292Z"
   },
   {
    "duration": 131,
    "start_time": "2022-05-16T17:16:45.466Z"
   },
   {
    "duration": 258,
    "start_time": "2022-05-16T17:16:45.600Z"
   },
   {
    "duration": 0,
    "start_time": "2022-05-16T17:16:45.861Z"
   },
   {
    "duration": 0,
    "start_time": "2022-05-16T17:16:45.863Z"
   },
   {
    "duration": 0,
    "start_time": "2022-05-16T17:16:45.864Z"
   },
   {
    "duration": 0,
    "start_time": "2022-05-16T17:16:45.882Z"
   },
   {
    "duration": 0,
    "start_time": "2022-05-16T17:16:45.885Z"
   },
   {
    "duration": 0,
    "start_time": "2022-05-16T17:16:45.887Z"
   },
   {
    "duration": 0,
    "start_time": "2022-05-16T17:16:45.889Z"
   },
   {
    "duration": 0,
    "start_time": "2022-05-16T17:16:45.890Z"
   },
   {
    "duration": 0,
    "start_time": "2022-05-16T17:16:45.891Z"
   },
   {
    "duration": 0,
    "start_time": "2022-05-16T17:16:45.899Z"
   },
   {
    "duration": 0,
    "start_time": "2022-05-16T17:16:45.900Z"
   },
   {
    "duration": 0,
    "start_time": "2022-05-16T17:16:45.903Z"
   },
   {
    "duration": 12,
    "start_time": "2022-05-16T17:35:33.836Z"
   },
   {
    "duration": 12,
    "start_time": "2022-05-16T17:35:40.199Z"
   },
   {
    "duration": 9,
    "start_time": "2022-05-16T17:35:53.321Z"
   },
   {
    "duration": 1509,
    "start_time": "2022-05-17T17:50:40.139Z"
   },
   {
    "duration": 4,
    "start_time": "2022-05-17T17:50:41.651Z"
   },
   {
    "duration": 44,
    "start_time": "2022-05-17T17:50:41.657Z"
   },
   {
    "duration": 16,
    "start_time": "2022-05-17T17:50:41.704Z"
   },
   {
    "duration": 215,
    "start_time": "2022-05-17T17:50:41.722Z"
   },
   {
    "duration": 32,
    "start_time": "2022-05-17T17:50:41.939Z"
   },
   {
    "duration": 128,
    "start_time": "2022-05-17T17:50:41.974Z"
   },
   {
    "duration": 24,
    "start_time": "2022-05-17T17:50:42.108Z"
   },
   {
    "duration": 199,
    "start_time": "2022-05-17T17:50:42.134Z"
   },
   {
    "duration": 28,
    "start_time": "2022-05-17T17:50:42.337Z"
   },
   {
    "duration": 19,
    "start_time": "2022-05-17T17:50:42.367Z"
   },
   {
    "duration": 35,
    "start_time": "2022-05-17T17:50:42.388Z"
   },
   {
    "duration": 17,
    "start_time": "2022-05-17T17:50:42.425Z"
   },
   {
    "duration": 96,
    "start_time": "2022-05-17T17:50:42.444Z"
   },
   {
    "duration": 20,
    "start_time": "2022-05-17T17:50:42.542Z"
   },
   {
    "duration": 55,
    "start_time": "2022-05-17T17:50:42.564Z"
   },
   {
    "duration": 127,
    "start_time": "2022-05-17T17:50:42.621Z"
   },
   {
    "duration": 20,
    "start_time": "2022-05-17T17:50:42.750Z"
   },
   {
    "duration": 6,
    "start_time": "2022-05-17T17:50:42.772Z"
   },
   {
    "duration": 56,
    "start_time": "2022-05-17T17:50:42.808Z"
   },
   {
    "duration": 19,
    "start_time": "2022-05-17T17:50:42.866Z"
   },
   {
    "duration": 172,
    "start_time": "2022-05-17T17:50:42.888Z"
   },
   {
    "duration": 10,
    "start_time": "2022-05-17T17:50:43.062Z"
   },
   {
    "duration": 56,
    "start_time": "2022-05-17T17:50:43.075Z"
   },
   {
    "duration": 89,
    "start_time": "2022-05-17T17:50:43.134Z"
   },
   {
    "duration": 39,
    "start_time": "2022-05-17T17:50:43.226Z"
   },
   {
    "duration": 102,
    "start_time": "2022-05-17T17:50:43.267Z"
   },
   {
    "duration": 57,
    "start_time": "2022-05-17T17:50:43.377Z"
   },
   {
    "duration": 14,
    "start_time": "2022-05-17T17:50:43.436Z"
   },
   {
    "duration": 151,
    "start_time": "2022-05-17T17:50:43.452Z"
   },
   {
    "duration": 2556,
    "start_time": "2022-05-17T17:50:43.609Z"
   },
   {
    "duration": 97,
    "start_time": "2022-05-17T17:50:46.168Z"
   },
   {
    "duration": 17,
    "start_time": "2022-05-17T17:50:46.268Z"
   },
   {
    "duration": 49,
    "start_time": "2022-05-17T17:50:46.288Z"
   },
   {
    "duration": 12,
    "start_time": "2022-05-17T17:50:46.340Z"
   },
   {
    "duration": 65,
    "start_time": "2022-05-17T17:50:46.355Z"
   },
   {
    "duration": 13,
    "start_time": "2022-05-17T17:50:46.422Z"
   },
   {
    "duration": 425,
    "start_time": "2022-05-17T17:50:46.438Z"
   },
   {
    "duration": 413,
    "start_time": "2022-05-17T17:50:46.866Z"
   },
   {
    "duration": 394,
    "start_time": "2022-05-17T17:50:47.281Z"
   },
   {
    "duration": 10,
    "start_time": "2022-05-17T17:50:47.678Z"
   },
   {
    "duration": 26,
    "start_time": "2022-05-17T17:50:47.690Z"
   },
   {
    "duration": 31,
    "start_time": "2022-05-17T17:50:47.718Z"
   },
   {
    "duration": 20,
    "start_time": "2022-05-17T17:50:47.751Z"
   },
   {
    "duration": 10,
    "start_time": "2022-05-17T17:50:47.773Z"
   },
   {
    "duration": 28,
    "start_time": "2022-05-17T17:50:47.785Z"
   },
   {
    "duration": 1290,
    "start_time": "2022-05-17T19:04:06.154Z"
   },
   {
    "duration": 4,
    "start_time": "2022-05-17T19:04:07.447Z"
   },
   {
    "duration": 38,
    "start_time": "2022-05-17T19:04:07.453Z"
   },
   {
    "duration": 23,
    "start_time": "2022-05-17T19:04:07.494Z"
   },
   {
    "duration": 198,
    "start_time": "2022-05-17T19:04:07.519Z"
   },
   {
    "duration": 33,
    "start_time": "2022-05-17T19:04:07.719Z"
   },
   {
    "duration": 130,
    "start_time": "2022-05-17T19:04:07.754Z"
   },
   {
    "duration": 29,
    "start_time": "2022-05-17T19:04:07.886Z"
   },
   {
    "duration": 190,
    "start_time": "2022-05-17T19:04:07.917Z"
   },
   {
    "duration": 28,
    "start_time": "2022-05-17T19:04:08.110Z"
   },
   {
    "duration": 19,
    "start_time": "2022-05-17T19:04:08.141Z"
   },
   {
    "duration": 16,
    "start_time": "2022-05-17T19:04:08.162Z"
   },
   {
    "duration": 40,
    "start_time": "2022-05-17T19:04:08.179Z"
   },
   {
    "duration": 94,
    "start_time": "2022-05-17T19:04:08.221Z"
   },
   {
    "duration": 20,
    "start_time": "2022-05-17T19:04:08.317Z"
   },
   {
    "duration": 22,
    "start_time": "2022-05-17T19:04:08.339Z"
   },
   {
    "duration": 151,
    "start_time": "2022-05-17T19:04:08.363Z"
   },
   {
    "duration": 19,
    "start_time": "2022-05-17T19:04:08.516Z"
   },
   {
    "duration": 6,
    "start_time": "2022-05-17T19:04:08.537Z"
   },
   {
    "duration": 79,
    "start_time": "2022-05-17T19:04:08.545Z"
   },
   {
    "duration": 20,
    "start_time": "2022-05-17T19:04:08.626Z"
   },
   {
    "duration": 163,
    "start_time": "2022-05-17T19:04:08.648Z"
   },
   {
    "duration": 10,
    "start_time": "2022-05-17T19:04:08.813Z"
   },
   {
    "duration": 32,
    "start_time": "2022-05-17T19:04:08.824Z"
   },
   {
    "duration": 98,
    "start_time": "2022-05-17T19:04:08.858Z"
   },
   {
    "duration": 51,
    "start_time": "2022-05-17T19:04:08.958Z"
   },
   {
    "duration": 67,
    "start_time": "2022-05-17T19:04:09.011Z"
   },
   {
    "duration": 64,
    "start_time": "2022-05-17T19:04:09.083Z"
   },
   {
    "duration": 14,
    "start_time": "2022-05-17T19:04:09.150Z"
   },
   {
    "duration": 149,
    "start_time": "2022-05-17T19:04:09.166Z"
   },
   {
    "duration": 2459,
    "start_time": "2022-05-17T19:04:09.317Z"
   },
   {
    "duration": 91,
    "start_time": "2022-05-17T19:04:11.778Z"
   },
   {
    "duration": 18,
    "start_time": "2022-05-17T19:04:11.871Z"
   },
   {
    "duration": 47,
    "start_time": "2022-05-17T19:04:11.891Z"
   },
   {
    "duration": 10,
    "start_time": "2022-05-17T19:04:11.941Z"
   },
   {
    "duration": 57,
    "start_time": "2022-05-17T19:04:11.953Z"
   },
   {
    "duration": 11,
    "start_time": "2022-05-17T19:04:12.012Z"
   },
   {
    "duration": 407,
    "start_time": "2022-05-17T19:04:12.026Z"
   },
   {
    "duration": 404,
    "start_time": "2022-05-17T19:04:12.435Z"
   },
   {
    "duration": 386,
    "start_time": "2022-05-17T19:04:12.842Z"
   },
   {
    "duration": 11,
    "start_time": "2022-05-17T19:04:13.230Z"
   },
   {
    "duration": 13,
    "start_time": "2022-05-17T19:04:13.244Z"
   },
   {
    "duration": 17,
    "start_time": "2022-05-17T19:04:13.259Z"
   },
   {
    "duration": 15,
    "start_time": "2022-05-17T19:04:13.310Z"
   },
   {
    "duration": 13,
    "start_time": "2022-05-17T19:04:13.328Z"
   },
   {
    "duration": 14,
    "start_time": "2022-05-17T19:04:13.343Z"
   },
   {
    "duration": 1266,
    "start_time": "2022-05-18T15:23:05.729Z"
   },
   {
    "duration": 5,
    "start_time": "2022-05-18T15:23:06.997Z"
   },
   {
    "duration": 117,
    "start_time": "2022-05-18T15:23:07.003Z"
   },
   {
    "duration": 12,
    "start_time": "2022-05-18T15:23:07.122Z"
   },
   {
    "duration": 473,
    "start_time": "2022-05-18T15:23:07.137Z"
   },
   {
    "duration": 30,
    "start_time": "2022-05-18T15:23:07.612Z"
   },
   {
    "duration": 294,
    "start_time": "2022-05-18T15:23:07.644Z"
   },
   {
    "duration": 20,
    "start_time": "2022-05-18T15:23:07.940Z"
   },
   {
    "duration": 496,
    "start_time": "2022-05-18T15:23:07.963Z"
   },
   {
    "duration": 32,
    "start_time": "2022-05-18T15:23:08.463Z"
   },
   {
    "duration": 87,
    "start_time": "2022-05-18T15:23:08.507Z"
   },
   {
    "duration": 14,
    "start_time": "2022-05-18T15:23:08.596Z"
   },
   {
    "duration": 45,
    "start_time": "2022-05-18T15:23:08.612Z"
   },
   {
    "duration": 79,
    "start_time": "2022-05-18T15:23:08.659Z"
   },
   {
    "duration": 16,
    "start_time": "2022-05-18T15:23:08.741Z"
   },
   {
    "duration": 62,
    "start_time": "2022-05-18T15:23:08.758Z"
   },
   {
    "duration": 89,
    "start_time": "2022-05-18T15:23:08.825Z"
   },
   {
    "duration": 20,
    "start_time": "2022-05-18T15:23:08.917Z"
   },
   {
    "duration": 5,
    "start_time": "2022-05-18T15:23:08.939Z"
   },
   {
    "duration": 37,
    "start_time": "2022-05-18T15:23:08.946Z"
   },
   {
    "duration": 36,
    "start_time": "2022-05-18T15:23:08.985Z"
   },
   {
    "duration": 115,
    "start_time": "2022-05-18T15:23:09.023Z"
   },
   {
    "duration": 7,
    "start_time": "2022-05-18T15:23:09.139Z"
   },
   {
    "duration": 28,
    "start_time": "2022-05-18T15:23:09.147Z"
   },
   {
    "duration": 96,
    "start_time": "2022-05-18T15:23:09.177Z"
   },
   {
    "duration": 46,
    "start_time": "2022-05-18T15:23:09.274Z"
   },
   {
    "duration": 47,
    "start_time": "2022-05-18T15:23:09.323Z"
   },
   {
    "duration": 46,
    "start_time": "2022-05-18T15:23:09.375Z"
   },
   {
    "duration": 10,
    "start_time": "2022-05-18T15:23:09.422Z"
   },
   {
    "duration": 103,
    "start_time": "2022-05-18T15:23:09.434Z"
   },
   {
    "duration": 1425,
    "start_time": "2022-05-18T15:23:09.539Z"
   },
   {
    "duration": 65,
    "start_time": "2022-05-18T15:23:10.965Z"
   },
   {
    "duration": 10,
    "start_time": "2022-05-18T15:23:11.031Z"
   },
   {
    "duration": 23,
    "start_time": "2022-05-18T15:23:11.043Z"
   },
   {
    "duration": 10,
    "start_time": "2022-05-18T15:23:11.067Z"
   },
   {
    "duration": 53,
    "start_time": "2022-05-18T15:23:11.078Z"
   },
   {
    "duration": 15,
    "start_time": "2022-05-18T15:23:11.133Z"
   },
   {
    "duration": 326,
    "start_time": "2022-05-18T15:23:11.150Z"
   },
   {
    "duration": 323,
    "start_time": "2022-05-18T15:23:11.478Z"
   },
   {
    "duration": 249,
    "start_time": "2022-05-18T15:23:11.805Z"
   },
   {
    "duration": 7,
    "start_time": "2022-05-18T15:23:12.055Z"
   },
   {
    "duration": 10,
    "start_time": "2022-05-18T15:23:12.063Z"
   },
   {
    "duration": 17,
    "start_time": "2022-05-18T15:23:12.074Z"
   },
   {
    "duration": 40,
    "start_time": "2022-05-18T15:23:12.092Z"
   },
   {
    "duration": 18,
    "start_time": "2022-05-18T15:23:12.134Z"
   },
   {
    "duration": 27,
    "start_time": "2022-05-18T15:23:12.154Z"
   },
   {
    "duration": 1145,
    "start_time": "2022-05-18T15:24:31.787Z"
   },
   {
    "duration": 3,
    "start_time": "2022-05-18T15:24:32.934Z"
   },
   {
    "duration": 50,
    "start_time": "2022-05-18T15:24:32.939Z"
   },
   {
    "duration": 17,
    "start_time": "2022-05-18T15:24:32.992Z"
   },
   {
    "duration": 163,
    "start_time": "2022-05-18T15:24:33.012Z"
   },
   {
    "duration": 36,
    "start_time": "2022-05-18T15:24:33.177Z"
   },
   {
    "duration": 112,
    "start_time": "2022-05-18T15:24:33.218Z"
   },
   {
    "duration": 27,
    "start_time": "2022-05-18T15:24:33.335Z"
   },
   {
    "duration": 169,
    "start_time": "2022-05-18T15:24:33.364Z"
   },
   {
    "duration": 21,
    "start_time": "2022-05-18T15:24:33.535Z"
   },
   {
    "duration": 21,
    "start_time": "2022-05-18T15:24:33.558Z"
   },
   {
    "duration": 10,
    "start_time": "2022-05-18T15:24:33.580Z"
   },
   {
    "duration": 11,
    "start_time": "2022-05-18T15:24:33.603Z"
   },
   {
    "duration": 75,
    "start_time": "2022-05-18T15:24:33.615Z"
   },
   {
    "duration": 18,
    "start_time": "2022-05-18T15:24:33.705Z"
   },
   {
    "duration": 21,
    "start_time": "2022-05-18T15:24:33.726Z"
   },
   {
    "duration": 125,
    "start_time": "2022-05-18T15:24:33.749Z"
   },
   {
    "duration": 32,
    "start_time": "2022-05-18T15:24:33.876Z"
   },
   {
    "duration": 9,
    "start_time": "2022-05-18T15:24:33.909Z"
   },
   {
    "duration": 57,
    "start_time": "2022-05-18T15:24:33.920Z"
   },
   {
    "duration": 15,
    "start_time": "2022-05-18T15:24:33.979Z"
   },
   {
    "duration": 125,
    "start_time": "2022-05-18T15:24:33.996Z"
   },
   {
    "duration": 8,
    "start_time": "2022-05-18T15:24:34.123Z"
   },
   {
    "duration": 28,
    "start_time": "2022-05-18T15:24:34.133Z"
   },
   {
    "duration": 70,
    "start_time": "2022-05-18T15:24:34.163Z"
   },
   {
    "duration": 29,
    "start_time": "2022-05-18T15:24:34.235Z"
   },
   {
    "duration": 70,
    "start_time": "2022-05-18T15:24:34.266Z"
   },
   {
    "duration": 34,
    "start_time": "2022-05-18T15:24:34.339Z"
   },
   {
    "duration": 37,
    "start_time": "2022-05-18T15:24:34.375Z"
   },
   {
    "duration": 101,
    "start_time": "2022-05-18T15:24:34.418Z"
   },
   {
    "duration": 1600,
    "start_time": "2022-05-18T15:24:34.521Z"
   },
   {
    "duration": 55,
    "start_time": "2022-05-18T15:24:36.124Z"
   },
   {
    "duration": 26,
    "start_time": "2022-05-18T15:24:36.181Z"
   },
   {
    "duration": 34,
    "start_time": "2022-05-18T15:24:36.210Z"
   },
   {
    "duration": 13,
    "start_time": "2022-05-18T15:24:36.246Z"
   },
   {
    "duration": 21,
    "start_time": "2022-05-18T15:24:36.260Z"
   },
   {
    "duration": 31,
    "start_time": "2022-05-18T15:24:36.283Z"
   },
   {
    "duration": 312,
    "start_time": "2022-05-18T15:24:36.316Z"
   },
   {
    "duration": 405,
    "start_time": "2022-05-18T15:24:36.630Z"
   },
   {
    "duration": 295,
    "start_time": "2022-05-18T15:24:37.039Z"
   },
   {
    "duration": 9,
    "start_time": "2022-05-18T15:24:37.336Z"
   },
   {
    "duration": 13,
    "start_time": "2022-05-18T15:24:37.346Z"
   },
   {
    "duration": 21,
    "start_time": "2022-05-18T15:24:37.360Z"
   },
   {
    "duration": 31,
    "start_time": "2022-05-18T15:24:37.383Z"
   },
   {
    "duration": 13,
    "start_time": "2022-05-18T15:24:37.418Z"
   },
   {
    "duration": 12,
    "start_time": "2022-05-18T15:24:37.433Z"
   },
   {
    "duration": 1036,
    "start_time": "2022-05-18T15:34:24.038Z"
   },
   {
    "duration": 2,
    "start_time": "2022-05-18T15:34:25.076Z"
   },
   {
    "duration": 49,
    "start_time": "2022-05-18T15:34:25.079Z"
   },
   {
    "duration": 11,
    "start_time": "2022-05-18T15:34:25.130Z"
   },
   {
    "duration": 148,
    "start_time": "2022-05-18T15:34:25.142Z"
   },
   {
    "duration": 23,
    "start_time": "2022-05-18T15:34:25.291Z"
   },
   {
    "duration": 84,
    "start_time": "2022-05-18T15:34:25.315Z"
   },
   {
    "duration": 17,
    "start_time": "2022-05-18T15:34:25.401Z"
   },
   {
    "duration": 142,
    "start_time": "2022-05-18T15:34:25.419Z"
   },
   {
    "duration": 18,
    "start_time": "2022-05-18T15:34:25.564Z"
   },
   {
    "duration": 20,
    "start_time": "2022-05-18T15:34:25.584Z"
   },
   {
    "duration": 10,
    "start_time": "2022-05-18T15:34:25.605Z"
   },
   {
    "duration": 10,
    "start_time": "2022-05-18T15:34:25.616Z"
   },
   {
    "duration": 50,
    "start_time": "2022-05-18T15:34:25.627Z"
   },
   {
    "duration": 30,
    "start_time": "2022-05-18T15:34:25.678Z"
   },
   {
    "duration": 12,
    "start_time": "2022-05-18T15:34:25.709Z"
   },
   {
    "duration": 93,
    "start_time": "2022-05-18T15:34:25.722Z"
   },
   {
    "duration": 15,
    "start_time": "2022-05-18T15:34:25.817Z"
   },
   {
    "duration": 4,
    "start_time": "2022-05-18T15:34:25.834Z"
   },
   {
    "duration": 39,
    "start_time": "2022-05-18T15:34:25.840Z"
   },
   {
    "duration": 31,
    "start_time": "2022-05-18T15:34:25.880Z"
   },
   {
    "duration": 102,
    "start_time": "2022-05-18T15:34:25.912Z"
   },
   {
    "duration": 6,
    "start_time": "2022-05-18T15:34:26.016Z"
   },
   {
    "duration": 33,
    "start_time": "2022-05-18T15:34:26.023Z"
   },
   {
    "duration": 60,
    "start_time": "2022-05-18T15:34:26.058Z"
   },
   {
    "duration": 28,
    "start_time": "2022-05-18T15:34:26.119Z"
   },
   {
    "duration": 60,
    "start_time": "2022-05-18T15:34:26.149Z"
   },
   {
    "duration": 30,
    "start_time": "2022-05-18T15:34:26.212Z"
   },
   {
    "duration": 9,
    "start_time": "2022-05-18T15:34:26.244Z"
   },
   {
    "duration": 107,
    "start_time": "2022-05-18T15:34:26.254Z"
   },
   {
    "duration": 1314,
    "start_time": "2022-05-18T15:34:26.363Z"
   },
   {
    "duration": 53,
    "start_time": "2022-05-18T15:34:27.678Z"
   },
   {
    "duration": 13,
    "start_time": "2022-05-18T15:34:27.733Z"
   },
   {
    "duration": 20,
    "start_time": "2022-05-18T15:34:27.747Z"
   },
   {
    "duration": 10,
    "start_time": "2022-05-18T15:34:27.768Z"
   },
   {
    "duration": 41,
    "start_time": "2022-05-18T15:34:27.780Z"
   },
   {
    "duration": 9,
    "start_time": "2022-05-18T15:34:27.823Z"
   },
   {
    "duration": 244,
    "start_time": "2022-05-18T15:34:27.834Z"
   },
   {
    "duration": 304,
    "start_time": "2022-05-18T15:34:28.080Z"
   },
   {
    "duration": 245,
    "start_time": "2022-05-18T15:34:28.386Z"
   },
   {
    "duration": 7,
    "start_time": "2022-05-18T15:34:28.633Z"
   },
   {
    "duration": 7,
    "start_time": "2022-05-18T15:34:28.642Z"
   },
   {
    "duration": 10,
    "start_time": "2022-05-18T15:34:28.651Z"
   },
   {
    "duration": 12,
    "start_time": "2022-05-18T15:34:28.662Z"
   },
   {
    "duration": 29,
    "start_time": "2022-05-18T15:34:28.675Z"
   },
   {
    "duration": 5,
    "start_time": "2022-05-18T15:34:28.706Z"
   },
   {
    "duration": 1296,
    "start_time": "2022-05-18T19:02:07.333Z"
   },
   {
    "duration": 2,
    "start_time": "2022-05-18T19:02:08.632Z"
   },
   {
    "duration": 129,
    "start_time": "2022-05-18T19:02:08.638Z"
   },
   {
    "duration": 11,
    "start_time": "2022-05-18T19:02:08.769Z"
   },
   {
    "duration": 750,
    "start_time": "2022-05-18T19:02:08.781Z"
   },
   {
    "duration": 24,
    "start_time": "2022-05-18T19:02:09.533Z"
   },
   {
    "duration": 261,
    "start_time": "2022-05-18T19:02:09.559Z"
   },
   {
    "duration": 18,
    "start_time": "2022-05-18T19:02:09.822Z"
   },
   {
    "duration": 426,
    "start_time": "2022-05-18T19:02:09.844Z"
   },
   {
    "duration": 22,
    "start_time": "2022-05-18T19:02:10.272Z"
   },
   {
    "duration": 69,
    "start_time": "2022-05-18T19:02:10.296Z"
   },
   {
    "duration": 16,
    "start_time": "2022-05-18T19:02:10.367Z"
   },
   {
    "duration": 23,
    "start_time": "2022-05-18T19:02:10.385Z"
   },
   {
    "duration": 67,
    "start_time": "2022-05-18T19:02:10.410Z"
   },
   {
    "duration": 32,
    "start_time": "2022-05-18T19:02:10.479Z"
   },
   {
    "duration": 14,
    "start_time": "2022-05-18T19:02:10.513Z"
   },
   {
    "duration": 66,
    "start_time": "2022-05-18T19:02:10.529Z"
   },
   {
    "duration": 14,
    "start_time": "2022-05-18T19:02:10.612Z"
   },
   {
    "duration": 4,
    "start_time": "2022-05-18T19:02:10.628Z"
   },
   {
    "duration": 35,
    "start_time": "2022-05-18T19:02:10.634Z"
   },
   {
    "duration": 42,
    "start_time": "2022-05-18T19:02:10.670Z"
   },
   {
    "duration": 101,
    "start_time": "2022-05-18T19:02:10.714Z"
   },
   {
    "duration": 8,
    "start_time": "2022-05-18T19:02:10.816Z"
   },
   {
    "duration": 22,
    "start_time": "2022-05-18T19:02:10.825Z"
   },
   {
    "duration": 69,
    "start_time": "2022-05-18T19:02:10.848Z"
   },
   {
    "duration": 27,
    "start_time": "2022-05-18T19:02:10.918Z"
   },
   {
    "duration": 46,
    "start_time": "2022-05-18T19:02:10.948Z"
   },
   {
    "duration": 29,
    "start_time": "2022-05-18T19:02:11.013Z"
   },
   {
    "duration": 9,
    "start_time": "2022-05-18T19:02:11.044Z"
   },
   {
    "duration": 107,
    "start_time": "2022-05-18T19:02:11.055Z"
   },
   {
    "duration": 1513,
    "start_time": "2022-05-18T19:02:11.164Z"
   },
   {
    "duration": 82,
    "start_time": "2022-05-18T19:02:12.680Z"
   },
   {
    "duration": 13,
    "start_time": "2022-05-18T19:02:12.764Z"
   },
   {
    "duration": 36,
    "start_time": "2022-05-18T19:02:12.779Z"
   },
   {
    "duration": 13,
    "start_time": "2022-05-18T19:02:12.816Z"
   },
   {
    "duration": 38,
    "start_time": "2022-05-18T19:02:12.831Z"
   },
   {
    "duration": 13,
    "start_time": "2022-05-18T19:02:12.871Z"
   },
   {
    "duration": 289,
    "start_time": "2022-05-18T19:02:12.912Z"
   },
   {
    "duration": 355,
    "start_time": "2022-05-18T19:02:13.204Z"
   },
   {
    "duration": 277,
    "start_time": "2022-05-18T19:02:13.561Z"
   },
   {
    "duration": 11,
    "start_time": "2022-05-18T19:02:13.841Z"
   },
   {
    "duration": 11,
    "start_time": "2022-05-18T19:02:13.854Z"
   },
   {
    "duration": 26,
    "start_time": "2022-05-18T19:02:13.867Z"
   },
   {
    "duration": 18,
    "start_time": "2022-05-18T19:02:13.895Z"
   },
   {
    "duration": 12,
    "start_time": "2022-05-18T19:02:13.915Z"
   },
   {
    "duration": 7,
    "start_time": "2022-05-18T19:02:13.929Z"
   },
   {
    "duration": 26,
    "start_time": "2022-05-18T19:02:13.938Z"
   },
   {
    "duration": 12,
    "start_time": "2022-05-18T19:02:36.208Z"
   },
   {
    "duration": 41,
    "start_time": "2022-05-18T19:06:21.033Z"
   },
   {
    "duration": 1430,
    "start_time": "2022-05-18T19:08:27.037Z"
   },
   {
    "duration": 1199,
    "start_time": "2022-05-18T19:08:59.805Z"
   },
   {
    "duration": 4,
    "start_time": "2022-05-18T19:09:01.006Z"
   },
   {
    "duration": 65,
    "start_time": "2022-05-18T19:09:01.013Z"
   },
   {
    "duration": 11,
    "start_time": "2022-05-18T19:09:01.080Z"
   },
   {
    "duration": 175,
    "start_time": "2022-05-18T19:09:01.092Z"
   },
   {
    "duration": 24,
    "start_time": "2022-05-18T19:09:01.269Z"
   },
   {
    "duration": 106,
    "start_time": "2022-05-18T19:09:01.295Z"
   },
   {
    "duration": 38,
    "start_time": "2022-05-18T19:09:01.403Z"
   },
   {
    "duration": 200,
    "start_time": "2022-05-18T19:09:01.443Z"
   },
   {
    "duration": 24,
    "start_time": "2022-05-18T19:09:01.647Z"
   },
   {
    "duration": 23,
    "start_time": "2022-05-18T19:09:01.673Z"
   },
   {
    "duration": 17,
    "start_time": "2022-05-18T19:09:01.714Z"
   },
   {
    "duration": 28,
    "start_time": "2022-05-18T19:09:01.735Z"
   },
   {
    "duration": 84,
    "start_time": "2022-05-18T19:09:01.765Z"
   },
   {
    "duration": 14,
    "start_time": "2022-05-18T19:09:01.850Z"
   },
   {
    "duration": 17,
    "start_time": "2022-05-18T19:09:01.866Z"
   },
   {
    "duration": 80,
    "start_time": "2022-05-18T19:09:01.913Z"
   },
   {
    "duration": 30,
    "start_time": "2022-05-18T19:09:01.995Z"
   },
   {
    "duration": 7,
    "start_time": "2022-05-18T19:09:02.028Z"
   },
   {
    "duration": 45,
    "start_time": "2022-05-18T19:09:02.037Z"
   },
   {
    "duration": 44,
    "start_time": "2022-05-18T19:09:02.083Z"
   },
   {
    "duration": 112,
    "start_time": "2022-05-18T19:09:02.129Z"
   },
   {
    "duration": 8,
    "start_time": "2022-05-18T19:09:02.243Z"
   },
   {
    "duration": 23,
    "start_time": "2022-05-18T19:09:02.252Z"
   },
   {
    "duration": 85,
    "start_time": "2022-05-18T19:09:02.277Z"
   },
   {
    "duration": 26,
    "start_time": "2022-05-18T19:09:02.364Z"
   },
   {
    "duration": 70,
    "start_time": "2022-05-18T19:09:02.392Z"
   },
   {
    "duration": 32,
    "start_time": "2022-05-18T19:09:02.466Z"
   },
   {
    "duration": 15,
    "start_time": "2022-05-18T19:09:02.514Z"
   },
   {
    "duration": 117,
    "start_time": "2022-05-18T19:09:02.530Z"
   },
   {
    "duration": 1616,
    "start_time": "2022-05-18T19:09:02.650Z"
   },
   {
    "duration": 63,
    "start_time": "2022-05-18T19:09:04.267Z"
   },
   {
    "duration": 12,
    "start_time": "2022-05-18T19:09:04.332Z"
   },
   {
    "duration": 23,
    "start_time": "2022-05-18T19:09:04.346Z"
   },
   {
    "duration": 11,
    "start_time": "2022-05-18T19:09:04.371Z"
   },
   {
    "duration": 56,
    "start_time": "2022-05-18T19:09:04.383Z"
   },
   {
    "duration": 21,
    "start_time": "2022-05-18T19:09:04.442Z"
   },
   {
    "duration": 297,
    "start_time": "2022-05-18T19:09:04.465Z"
   },
   {
    "duration": 355,
    "start_time": "2022-05-18T19:09:04.764Z"
   },
   {
    "duration": 265,
    "start_time": "2022-05-18T19:09:05.121Z"
   },
   {
    "duration": 8,
    "start_time": "2022-05-18T19:09:05.387Z"
   },
   {
    "duration": 17,
    "start_time": "2022-05-18T19:09:05.397Z"
   },
   {
    "duration": 24,
    "start_time": "2022-05-18T19:09:05.416Z"
   },
   {
    "duration": 11,
    "start_time": "2022-05-18T19:09:05.442Z"
   },
   {
    "duration": 7,
    "start_time": "2022-05-18T19:09:05.455Z"
   },
   {
    "duration": 7,
    "start_time": "2022-05-18T19:09:05.463Z"
   },
   {
    "duration": 40,
    "start_time": "2022-05-18T19:09:05.472Z"
   },
   {
    "duration": 37,
    "start_time": "2022-05-18T19:09:05.514Z"
   },
   {
    "duration": 1374,
    "start_time": "2022-05-18T19:09:05.553Z"
   },
   {
    "duration": 1216,
    "start_time": "2022-05-18T19:09:39.871Z"
   },
   {
    "duration": 1207,
    "start_time": "2022-05-18T19:10:11.187Z"
   },
   {
    "duration": 3,
    "start_time": "2022-05-18T19:10:12.396Z"
   },
   {
    "duration": 78,
    "start_time": "2022-05-18T19:10:12.400Z"
   },
   {
    "duration": 11,
    "start_time": "2022-05-18T19:10:12.480Z"
   },
   {
    "duration": 171,
    "start_time": "2022-05-18T19:10:12.493Z"
   },
   {
    "duration": 25,
    "start_time": "2022-05-18T19:10:12.666Z"
   },
   {
    "duration": 105,
    "start_time": "2022-05-18T19:10:12.692Z"
   },
   {
    "duration": 18,
    "start_time": "2022-05-18T19:10:12.799Z"
   },
   {
    "duration": 163,
    "start_time": "2022-05-18T19:10:12.819Z"
   },
   {
    "duration": 21,
    "start_time": "2022-05-18T19:10:12.985Z"
   },
   {
    "duration": 39,
    "start_time": "2022-05-18T19:10:13.012Z"
   },
   {
    "duration": 21,
    "start_time": "2022-05-18T19:10:13.053Z"
   },
   {
    "duration": 35,
    "start_time": "2022-05-18T19:10:13.076Z"
   },
   {
    "duration": 76,
    "start_time": "2022-05-18T19:10:13.112Z"
   },
   {
    "duration": 25,
    "start_time": "2022-05-18T19:10:13.189Z"
   },
   {
    "duration": 17,
    "start_time": "2022-05-18T19:10:13.216Z"
   },
   {
    "duration": 91,
    "start_time": "2022-05-18T19:10:13.235Z"
   },
   {
    "duration": 13,
    "start_time": "2022-05-18T19:10:13.328Z"
   },
   {
    "duration": 16,
    "start_time": "2022-05-18T19:10:13.342Z"
   },
   {
    "duration": 43,
    "start_time": "2022-05-18T19:10:13.359Z"
   },
   {
    "duration": 19,
    "start_time": "2022-05-18T19:10:13.404Z"
   },
   {
    "duration": 117,
    "start_time": "2022-05-18T19:10:13.425Z"
   },
   {
    "duration": 7,
    "start_time": "2022-05-18T19:10:13.543Z"
   },
   {
    "duration": 24,
    "start_time": "2022-05-18T19:10:13.552Z"
   },
   {
    "duration": 70,
    "start_time": "2022-05-18T19:10:13.578Z"
   },
   {
    "duration": 25,
    "start_time": "2022-05-18T19:10:13.650Z"
   },
   {
    "duration": 62,
    "start_time": "2022-05-18T19:10:13.677Z"
   },
   {
    "duration": 30,
    "start_time": "2022-05-18T19:10:13.742Z"
   },
   {
    "duration": 10,
    "start_time": "2022-05-18T19:10:13.774Z"
   },
   {
    "duration": 103,
    "start_time": "2022-05-18T19:10:13.786Z"
   },
   {
    "duration": 1311,
    "start_time": "2022-05-18T19:10:13.891Z"
   },
   {
    "duration": 56,
    "start_time": "2022-05-18T19:10:15.204Z"
   },
   {
    "duration": 12,
    "start_time": "2022-05-18T19:10:15.261Z"
   },
   {
    "duration": 44,
    "start_time": "2022-05-18T19:10:15.275Z"
   },
   {
    "duration": 12,
    "start_time": "2022-05-18T19:10:15.321Z"
   },
   {
    "duration": 23,
    "start_time": "2022-05-18T19:10:15.335Z"
   },
   {
    "duration": 12,
    "start_time": "2022-05-18T19:10:15.360Z"
   },
   {
    "duration": 280,
    "start_time": "2022-05-18T19:10:15.374Z"
   },
   {
    "duration": 321,
    "start_time": "2022-05-18T19:10:15.656Z"
   },
   {
    "duration": 257,
    "start_time": "2022-05-18T19:10:15.978Z"
   },
   {
    "duration": 9,
    "start_time": "2022-05-18T19:10:16.237Z"
   },
   {
    "duration": 11,
    "start_time": "2022-05-18T19:10:16.247Z"
   },
   {
    "duration": 17,
    "start_time": "2022-05-18T19:10:16.260Z"
   },
   {
    "duration": 14,
    "start_time": "2022-05-18T19:10:16.279Z"
   },
   {
    "duration": 22,
    "start_time": "2022-05-18T19:10:16.295Z"
   },
   {
    "duration": 9,
    "start_time": "2022-05-18T19:10:16.319Z"
   },
   {
    "duration": 19,
    "start_time": "2022-05-18T19:10:16.330Z"
   },
   {
    "duration": 33,
    "start_time": "2022-05-18T19:10:16.351Z"
   },
   {
    "duration": 1317,
    "start_time": "2022-05-18T19:10:39.046Z"
   },
   {
    "duration": 3,
    "start_time": "2022-05-18T19:10:40.366Z"
   },
   {
    "duration": 174,
    "start_time": "2022-05-18T19:10:40.372Z"
   },
   {
    "duration": 15,
    "start_time": "2022-05-18T19:10:40.549Z"
   },
   {
    "duration": 589,
    "start_time": "2022-05-18T19:10:40.566Z"
   },
   {
    "duration": 32,
    "start_time": "2022-05-18T19:10:41.157Z"
   },
   {
    "duration": 318,
    "start_time": "2022-05-18T19:10:41.191Z"
   },
   {
    "duration": 33,
    "start_time": "2022-05-18T19:10:41.511Z"
   },
   {
    "duration": 520,
    "start_time": "2022-05-18T19:10:41.546Z"
   },
   {
    "duration": 24,
    "start_time": "2022-05-18T19:10:42.070Z"
   },
   {
    "duration": 69,
    "start_time": "2022-05-18T19:10:42.097Z"
   },
   {
    "duration": 18,
    "start_time": "2022-05-18T19:10:42.169Z"
   },
   {
    "duration": 21,
    "start_time": "2022-05-18T19:10:42.190Z"
   },
   {
    "duration": 109,
    "start_time": "2022-05-18T19:10:42.214Z"
   },
   {
    "duration": 19,
    "start_time": "2022-05-18T19:10:42.324Z"
   },
   {
    "duration": 17,
    "start_time": "2022-05-18T19:10:42.345Z"
   },
   {
    "duration": 123,
    "start_time": "2022-05-18T19:10:42.364Z"
   },
   {
    "duration": 30,
    "start_time": "2022-05-18T19:10:42.489Z"
   },
   {
    "duration": 8,
    "start_time": "2022-05-18T19:10:42.522Z"
   },
   {
    "duration": 44,
    "start_time": "2022-05-18T19:10:42.532Z"
   },
   {
    "duration": 40,
    "start_time": "2022-05-18T19:10:42.578Z"
   },
   {
    "duration": 121,
    "start_time": "2022-05-18T19:10:42.620Z"
   },
   {
    "duration": 8,
    "start_time": "2022-05-18T19:10:42.743Z"
   },
   {
    "duration": 27,
    "start_time": "2022-05-18T19:10:42.752Z"
   },
   {
    "duration": 79,
    "start_time": "2022-05-18T19:10:42.781Z"
   },
   {
    "duration": 28,
    "start_time": "2022-05-18T19:10:42.863Z"
   },
   {
    "duration": 61,
    "start_time": "2022-05-18T19:10:42.893Z"
   },
   {
    "duration": 36,
    "start_time": "2022-05-18T19:10:42.958Z"
   },
   {
    "duration": 12,
    "start_time": "2022-05-18T19:10:43.011Z"
   },
   {
    "duration": 101,
    "start_time": "2022-05-18T19:10:43.025Z"
   },
   {
    "duration": 1524,
    "start_time": "2022-05-18T19:10:43.128Z"
   },
   {
    "duration": 67,
    "start_time": "2022-05-18T19:10:44.654Z"
   },
   {
    "duration": 13,
    "start_time": "2022-05-18T19:10:44.723Z"
   },
   {
    "duration": 32,
    "start_time": "2022-05-18T19:10:44.739Z"
   },
   {
    "duration": 16,
    "start_time": "2022-05-18T19:10:44.772Z"
   },
   {
    "duration": 24,
    "start_time": "2022-05-18T19:10:44.813Z"
   },
   {
    "duration": 12,
    "start_time": "2022-05-18T19:10:44.840Z"
   },
   {
    "duration": 293,
    "start_time": "2022-05-18T19:10:44.854Z"
   },
   {
    "duration": 327,
    "start_time": "2022-05-18T19:10:45.149Z"
   },
   {
    "duration": 260,
    "start_time": "2022-05-18T19:10:45.478Z"
   },
   {
    "duration": 9,
    "start_time": "2022-05-18T19:10:45.740Z"
   },
   {
    "duration": 9,
    "start_time": "2022-05-18T19:10:45.751Z"
   },
   {
    "duration": 18,
    "start_time": "2022-05-18T19:10:45.762Z"
   },
   {
    "duration": 40,
    "start_time": "2022-05-18T19:10:45.782Z"
   },
   {
    "duration": 9,
    "start_time": "2022-05-18T19:10:45.824Z"
   },
   {
    "duration": 7,
    "start_time": "2022-05-18T19:10:45.835Z"
   },
   {
    "duration": 21,
    "start_time": "2022-05-18T19:10:45.844Z"
   },
   {
    "duration": 72,
    "start_time": "2022-05-18T19:10:45.867Z"
   },
   {
    "duration": 129,
    "start_time": "2022-05-18T19:10:45.941Z"
   },
   {
    "duration": 13,
    "start_time": "2022-05-18T19:11:58.221Z"
   },
   {
    "duration": 75,
    "start_time": "2022-05-18T19:17:43.675Z"
   },
   {
    "duration": 1110,
    "start_time": "2022-05-18T19:17:53.705Z"
   },
   {
    "duration": 3,
    "start_time": "2022-05-18T19:17:54.816Z"
   },
   {
    "duration": 93,
    "start_time": "2022-05-18T19:17:54.820Z"
   },
   {
    "duration": 10,
    "start_time": "2022-05-18T19:17:54.915Z"
   },
   {
    "duration": 456,
    "start_time": "2022-05-18T19:17:54.927Z"
   },
   {
    "duration": 23,
    "start_time": "2022-05-18T19:17:55.385Z"
   },
   {
    "duration": 249,
    "start_time": "2022-05-18T19:17:55.409Z"
   },
   {
    "duration": 16,
    "start_time": "2022-05-18T19:17:55.660Z"
   },
   {
    "duration": 416,
    "start_time": "2022-05-18T19:17:55.677Z"
   },
   {
    "duration": 20,
    "start_time": "2022-05-18T19:17:56.095Z"
   },
   {
    "duration": 86,
    "start_time": "2022-05-18T19:17:56.116Z"
   },
   {
    "duration": 9,
    "start_time": "2022-05-18T19:17:56.203Z"
   },
   {
    "duration": 24,
    "start_time": "2022-05-18T19:17:56.214Z"
   },
   {
    "duration": 70,
    "start_time": "2022-05-18T19:17:56.239Z"
   },
   {
    "duration": 11,
    "start_time": "2022-05-18T19:17:56.310Z"
   },
   {
    "duration": 20,
    "start_time": "2022-05-18T19:17:56.323Z"
   },
   {
    "duration": 78,
    "start_time": "2022-05-18T19:17:56.344Z"
   },
   {
    "duration": 13,
    "start_time": "2022-05-18T19:17:56.423Z"
   },
   {
    "duration": 27,
    "start_time": "2022-05-18T19:17:56.437Z"
   },
   {
    "duration": 52,
    "start_time": "2022-05-18T19:17:56.465Z"
   },
   {
    "duration": 13,
    "start_time": "2022-05-18T19:17:56.518Z"
   },
   {
    "duration": 94,
    "start_time": "2022-05-18T19:17:56.544Z"
   },
   {
    "duration": 6,
    "start_time": "2022-05-18T19:17:56.639Z"
   },
   {
    "duration": 44,
    "start_time": "2022-05-18T19:17:56.646Z"
   },
   {
    "duration": 50,
    "start_time": "2022-05-18T19:17:56.692Z"
   },
   {
    "duration": 25,
    "start_time": "2022-05-18T19:17:56.743Z"
   },
   {
    "duration": 55,
    "start_time": "2022-05-18T19:17:56.769Z"
   },
   {
    "duration": 28,
    "start_time": "2022-05-18T19:17:56.827Z"
   },
   {
    "duration": 36,
    "start_time": "2022-05-18T19:17:56.856Z"
   },
   {
    "duration": 106,
    "start_time": "2022-05-18T19:17:56.893Z"
   },
   {
    "duration": 1341,
    "start_time": "2022-05-18T19:17:57.001Z"
   },
   {
    "duration": 49,
    "start_time": "2022-05-18T19:17:58.343Z"
   },
   {
    "duration": 27,
    "start_time": "2022-05-18T19:17:58.393Z"
   },
   {
    "duration": 57,
    "start_time": "2022-05-18T19:17:58.421Z"
   },
   {
    "duration": 20,
    "start_time": "2022-05-18T19:17:58.479Z"
   },
   {
    "duration": 41,
    "start_time": "2022-05-18T19:17:58.500Z"
   },
   {
    "duration": 28,
    "start_time": "2022-05-18T19:17:58.542Z"
   },
   {
    "duration": 262,
    "start_time": "2022-05-18T19:17:58.571Z"
   },
   {
    "duration": 292,
    "start_time": "2022-05-18T19:17:58.835Z"
   },
   {
    "duration": 222,
    "start_time": "2022-05-18T19:17:59.129Z"
   },
   {
    "duration": 8,
    "start_time": "2022-05-18T19:17:59.352Z"
   },
   {
    "duration": 40,
    "start_time": "2022-05-18T19:17:59.361Z"
   },
   {
    "duration": 11,
    "start_time": "2022-05-18T19:17:59.402Z"
   },
   {
    "duration": 18,
    "start_time": "2022-05-18T19:17:59.415Z"
   },
   {
    "duration": 11,
    "start_time": "2022-05-18T19:17:59.435Z"
   },
   {
    "duration": 12,
    "start_time": "2022-05-18T19:17:59.448Z"
   },
   {
    "duration": 19,
    "start_time": "2022-05-18T19:17:59.462Z"
   },
   {
    "duration": 43,
    "start_time": "2022-05-18T19:17:59.483Z"
   },
   {
    "duration": 43,
    "start_time": "2022-05-18T19:17:59.528Z"
   },
   {
    "duration": 3,
    "start_time": "2022-05-18T19:17:59.573Z"
   },
   {
    "duration": 29,
    "start_time": "2022-05-18T19:18:26.396Z"
   },
   {
    "duration": 1192,
    "start_time": "2022-05-18T19:24:42.694Z"
   },
   {
    "duration": 3,
    "start_time": "2022-05-18T19:24:43.888Z"
   },
   {
    "duration": 49,
    "start_time": "2022-05-18T19:24:43.892Z"
   },
   {
    "duration": 12,
    "start_time": "2022-05-18T19:24:43.944Z"
   },
   {
    "duration": 169,
    "start_time": "2022-05-18T19:24:43.957Z"
   },
   {
    "duration": 24,
    "start_time": "2022-05-18T19:24:44.128Z"
   },
   {
    "duration": 108,
    "start_time": "2022-05-18T19:24:44.154Z"
   },
   {
    "duration": 18,
    "start_time": "2022-05-18T19:24:44.264Z"
   },
   {
    "duration": 198,
    "start_time": "2022-05-18T19:24:44.283Z"
   },
   {
    "duration": 33,
    "start_time": "2022-05-18T19:24:44.485Z"
   },
   {
    "duration": 21,
    "start_time": "2022-05-18T19:24:44.521Z"
   },
   {
    "duration": 14,
    "start_time": "2022-05-18T19:24:44.544Z"
   },
   {
    "duration": 10,
    "start_time": "2022-05-18T19:24:44.560Z"
   },
   {
    "duration": 71,
    "start_time": "2022-05-18T19:24:44.572Z"
   },
   {
    "duration": 16,
    "start_time": "2022-05-18T19:24:44.645Z"
   },
   {
    "duration": 50,
    "start_time": "2022-05-18T19:24:44.663Z"
   },
   {
    "duration": 71,
    "start_time": "2022-05-18T19:24:44.715Z"
   },
   {
    "duration": 33,
    "start_time": "2022-05-18T19:24:44.787Z"
   },
   {
    "duration": 4,
    "start_time": "2022-05-18T19:24:44.822Z"
   },
   {
    "duration": 52,
    "start_time": "2022-05-18T19:24:44.828Z"
   },
   {
    "duration": 44,
    "start_time": "2022-05-18T19:24:44.882Z"
   },
   {
    "duration": 100,
    "start_time": "2022-05-18T19:24:44.927Z"
   },
   {
    "duration": 6,
    "start_time": "2022-05-18T19:24:45.029Z"
   },
   {
    "duration": 27,
    "start_time": "2022-05-18T19:24:45.036Z"
   },
   {
    "duration": 86,
    "start_time": "2022-05-18T19:24:45.066Z"
   },
   {
    "duration": 37,
    "start_time": "2022-05-18T19:24:45.154Z"
   },
   {
    "duration": 61,
    "start_time": "2022-05-18T19:24:45.193Z"
   },
   {
    "duration": 31,
    "start_time": "2022-05-18T19:24:45.259Z"
   },
   {
    "duration": 14,
    "start_time": "2022-05-18T19:24:45.311Z"
   },
   {
    "duration": 105,
    "start_time": "2022-05-18T19:24:45.327Z"
   },
   {
    "duration": 1420,
    "start_time": "2022-05-18T19:24:45.434Z"
   },
   {
    "duration": 68,
    "start_time": "2022-05-18T19:24:46.856Z"
   },
   {
    "duration": 12,
    "start_time": "2022-05-18T19:24:46.926Z"
   },
   {
    "duration": 27,
    "start_time": "2022-05-18T19:24:46.939Z"
   },
   {
    "duration": 10,
    "start_time": "2022-05-18T19:24:46.968Z"
   },
   {
    "duration": 43,
    "start_time": "2022-05-18T19:24:46.980Z"
   },
   {
    "duration": 12,
    "start_time": "2022-05-18T19:24:47.025Z"
   },
   {
    "duration": 294,
    "start_time": "2022-05-18T19:24:47.038Z"
   },
   {
    "duration": 301,
    "start_time": "2022-05-18T19:24:47.333Z"
   },
   {
    "duration": 222,
    "start_time": "2022-05-18T19:24:47.636Z"
   },
   {
    "duration": 8,
    "start_time": "2022-05-18T19:24:47.859Z"
   },
   {
    "duration": 8,
    "start_time": "2022-05-18T19:24:47.868Z"
   },
   {
    "duration": 12,
    "start_time": "2022-05-18T19:24:47.877Z"
   },
   {
    "duration": 24,
    "start_time": "2022-05-18T19:24:47.891Z"
   },
   {
    "duration": 9,
    "start_time": "2022-05-18T19:24:47.916Z"
   },
   {
    "duration": 6,
    "start_time": "2022-05-18T19:24:47.926Z"
   },
   {
    "duration": 20,
    "start_time": "2022-05-18T19:24:47.934Z"
   },
   {
    "duration": 57,
    "start_time": "2022-05-18T19:24:47.956Z"
   },
   {
    "duration": 46,
    "start_time": "2022-05-18T19:24:48.015Z"
   },
   {
    "duration": 22,
    "start_time": "2022-05-18T19:24:48.062Z"
   },
   {
    "duration": 1411,
    "start_time": "2022-05-18T20:02:06.544Z"
   },
   {
    "duration": 3,
    "start_time": "2022-05-18T20:02:07.958Z"
   },
   {
    "duration": 131,
    "start_time": "2022-05-18T20:02:07.963Z"
   },
   {
    "duration": 12,
    "start_time": "2022-05-18T20:02:08.096Z"
   },
   {
    "duration": 797,
    "start_time": "2022-05-18T20:02:08.110Z"
   },
   {
    "duration": 41,
    "start_time": "2022-05-18T20:02:08.909Z"
   },
   {
    "duration": 270,
    "start_time": "2022-05-18T20:02:08.952Z"
   },
   {
    "duration": 18,
    "start_time": "2022-05-18T20:02:09.224Z"
   },
   {
    "duration": 448,
    "start_time": "2022-05-18T20:02:09.244Z"
   },
   {
    "duration": 24,
    "start_time": "2022-05-18T20:02:09.695Z"
   },
   {
    "duration": 70,
    "start_time": "2022-05-18T20:02:09.721Z"
   },
   {
    "duration": 11,
    "start_time": "2022-05-18T20:02:09.793Z"
   },
   {
    "duration": 13,
    "start_time": "2022-05-18T20:02:09.806Z"
   },
   {
    "duration": 69,
    "start_time": "2022-05-18T20:02:09.821Z"
   },
   {
    "duration": 23,
    "start_time": "2022-05-18T20:02:09.892Z"
   },
   {
    "duration": 15,
    "start_time": "2022-05-18T20:02:09.917Z"
   },
   {
    "duration": 88,
    "start_time": "2022-05-18T20:02:09.933Z"
   },
   {
    "duration": 13,
    "start_time": "2022-05-18T20:02:10.023Z"
   },
   {
    "duration": 4,
    "start_time": "2022-05-18T20:02:10.038Z"
   },
   {
    "duration": 35,
    "start_time": "2022-05-18T20:02:10.044Z"
   },
   {
    "duration": 35,
    "start_time": "2022-05-18T20:02:10.081Z"
   },
   {
    "duration": 105,
    "start_time": "2022-05-18T20:02:10.118Z"
   },
   {
    "duration": 8,
    "start_time": "2022-05-18T20:02:10.225Z"
   },
   {
    "duration": 32,
    "start_time": "2022-05-18T20:02:10.236Z"
   },
   {
    "duration": 73,
    "start_time": "2022-05-18T20:02:10.270Z"
   },
   {
    "duration": 26,
    "start_time": "2022-05-18T20:02:10.345Z"
   },
   {
    "duration": 64,
    "start_time": "2022-05-18T20:02:10.373Z"
   },
   {
    "duration": 35,
    "start_time": "2022-05-18T20:02:10.441Z"
   },
   {
    "duration": 14,
    "start_time": "2022-05-18T20:02:10.478Z"
   },
   {
    "duration": 100,
    "start_time": "2022-05-18T20:02:10.513Z"
   },
   {
    "duration": 1709,
    "start_time": "2022-05-18T20:02:10.616Z"
   },
   {
    "duration": 68,
    "start_time": "2022-05-18T20:02:12.327Z"
   },
   {
    "duration": 30,
    "start_time": "2022-05-18T20:02:12.398Z"
   },
   {
    "duration": 41,
    "start_time": "2022-05-18T20:02:12.434Z"
   },
   {
    "duration": 19,
    "start_time": "2022-05-18T20:02:12.478Z"
   },
   {
    "duration": 31,
    "start_time": "2022-05-18T20:02:12.499Z"
   },
   {
    "duration": 46,
    "start_time": "2022-05-18T20:02:12.533Z"
   },
   {
    "duration": 319,
    "start_time": "2022-05-18T20:02:12.581Z"
   },
   {
    "duration": 347,
    "start_time": "2022-05-18T20:02:12.902Z"
   },
   {
    "duration": 343,
    "start_time": "2022-05-18T20:02:13.251Z"
   },
   {
    "duration": 17,
    "start_time": "2022-05-18T20:02:13.596Z"
   },
   {
    "duration": 31,
    "start_time": "2022-05-18T20:02:13.616Z"
   },
   {
    "duration": 28,
    "start_time": "2022-05-18T20:02:13.648Z"
   },
   {
    "duration": 42,
    "start_time": "2022-05-18T20:02:13.680Z"
   },
   {
    "duration": 10,
    "start_time": "2022-05-18T20:02:13.724Z"
   },
   {
    "duration": 19,
    "start_time": "2022-05-18T20:02:13.736Z"
   },
   {
    "duration": 31,
    "start_time": "2022-05-18T20:02:13.757Z"
   },
   {
    "duration": 52,
    "start_time": "2022-05-18T20:02:13.791Z"
   },
   {
    "duration": 89,
    "start_time": "2022-05-18T20:02:13.846Z"
   },
   {
    "duration": 36,
    "start_time": "2022-05-18T20:02:13.937Z"
   }
  ],
  "kernelspec": {
   "display_name": "Python 3 (ipykernel)",
   "language": "python",
   "name": "python3"
  },
  "language_info": {
   "codemirror_mode": {
    "name": "ipython",
    "version": 3
   },
   "file_extension": ".py",
   "mimetype": "text/x-python",
   "name": "python",
   "nbconvert_exporter": "python",
   "pygments_lexer": "ipython3",
   "version": "3.11.5"
  },
  "toc": {
   "base_numbering": 1,
   "nav_menu": {},
   "number_sections": true,
   "sideBar": true,
   "skip_h1_title": true,
   "title_cell": "Table of Contents",
   "title_sidebar": "Contents",
   "toc_cell": true,
   "toc_position": {
    "height": "calc(100% - 180px)",
    "left": "10px",
    "top": "150px",
    "width": "409px"
   },
   "toc_section_display": true,
   "toc_window_display": true
  }
 },
 "nbformat": 4,
 "nbformat_minor": 4
}
