{
 "cells": [
  {
   "cell_type": "markdown",
   "id": "7a5f5efc",
   "metadata": {},
   "source": [
    "# Исследование надежности заемщиков"
   ]
  },
  {
   "cell_type": "markdown",
   "id": "c70fba81",
   "metadata": {},
   "source": [
    "## Введение"
   ]
  },
  {
   "cell_type": "markdown",
   "id": "c1a550aa",
   "metadata": {},
   "source": [
    "Заказчик проекта — кредитный отдел банка. Нужно разобраться, влияет ли семейное положение и количество детей клиента на факт погашения кредита в срок. Так же просят выяснить есть ли зависимость между уровнем дохода и возвратом кредита в срок и целью кредита и возвратом кредита в срок. Входные данные от банка — статистика о платёжеспособности клиентов.\n",
    "Результаты исследования будут учтены при построении модели кредитного скоринга — специальной системы, которая оценивает способность потенциального заёмщика вернуть кредит банку."
   ]
  },
  {
   "cell_type": "markdown",
   "id": "e2601d0d",
   "metadata": {},
   "source": [
    "## Обзор данных"
   ]
  },
  {
   "cell_type": "code",
   "execution_count": 1,
   "id": "2f449155",
   "metadata": {},
   "outputs": [],
   "source": [
    "import pandas as pd\n",
    "import warnings"
   ]
  },
  {
   "cell_type": "code",
   "execution_count": 2,
   "id": "1797ed8a",
   "metadata": {},
   "outputs": [],
   "source": [
    "warnings.filterwarnings(\"ignore\")"
   ]
  },
  {
   "cell_type": "code",
   "execution_count": 3,
   "id": "c3017e38",
   "metadata": {},
   "outputs": [
    {
     "name": "stdout",
     "output_type": "stream",
     "text": [
      "<class 'pandas.core.frame.DataFrame'>\n",
      "RangeIndex: 21525 entries, 0 to 21524\n",
      "Data columns (total 12 columns):\n",
      "children            21525 non-null int64\n",
      "days_employed       19351 non-null float64\n",
      "dob_years           21525 non-null int64\n",
      "education           21525 non-null object\n",
      "education_id        21525 non-null int64\n",
      "family_status       21525 non-null object\n",
      "family_status_id    21525 non-null int64\n",
      "gender              21525 non-null object\n",
      "income_type         21525 non-null object\n",
      "debt                21525 non-null int64\n",
      "total_income        19351 non-null float64\n",
      "purpose             21525 non-null object\n",
      "dtypes: float64(2), int64(5), object(5)\n",
      "memory usage: 2.0+ MB\n"
     ]
    }
   ],
   "source": [
    "df = pd.read_csv('/datasets/data.csv')\n",
    "\n",
    "# Посмотрим на общую информацию по базе\n",
    "df.info()"
   ]
  },
  {
   "cell_type": "markdown",
   "id": "9c063972",
   "metadata": {},
   "source": [
    "В таблице чуть больше 21 тысячи записей. Колонок в таблице 12, названия придерживаются единой стилистики. В нескольких колонках присутствуют пропуски. Среди типов используемых данных есть целые числа, вещественные числа и строки."
   ]
  },
  {
   "cell_type": "code",
   "execution_count": 4,
   "id": "f4f6ab09",
   "metadata": {},
   "outputs": [
    {
     "data": {
      "text/html": [
       "<div>\n",
       "<style scoped>\n",
       "    .dataframe tbody tr th:only-of-type {\n",
       "        vertical-align: middle;\n",
       "    }\n",
       "\n",
       "    .dataframe tbody tr th {\n",
       "        vertical-align: top;\n",
       "    }\n",
       "\n",
       "    .dataframe thead th {\n",
       "        text-align: right;\n",
       "    }\n",
       "</style>\n",
       "<table border=\"1\" class=\"dataframe\">\n",
       "  <thead>\n",
       "    <tr style=\"text-align: right;\">\n",
       "      <th></th>\n",
       "      <th>children</th>\n",
       "      <th>days_employed</th>\n",
       "      <th>dob_years</th>\n",
       "      <th>education</th>\n",
       "      <th>education_id</th>\n",
       "      <th>family_status</th>\n",
       "      <th>family_status_id</th>\n",
       "      <th>gender</th>\n",
       "      <th>income_type</th>\n",
       "      <th>debt</th>\n",
       "      <th>total_income</th>\n",
       "      <th>purpose</th>\n",
       "    </tr>\n",
       "  </thead>\n",
       "  <tbody>\n",
       "    <tr>\n",
       "      <td>0</td>\n",
       "      <td>1</td>\n",
       "      <td>-8437.673028</td>\n",
       "      <td>42</td>\n",
       "      <td>высшее</td>\n",
       "      <td>0</td>\n",
       "      <td>женат / замужем</td>\n",
       "      <td>0</td>\n",
       "      <td>F</td>\n",
       "      <td>сотрудник</td>\n",
       "      <td>0</td>\n",
       "      <td>253875.639453</td>\n",
       "      <td>покупка жилья</td>\n",
       "    </tr>\n",
       "    <tr>\n",
       "      <td>1</td>\n",
       "      <td>1</td>\n",
       "      <td>-4024.803754</td>\n",
       "      <td>36</td>\n",
       "      <td>среднее</td>\n",
       "      <td>1</td>\n",
       "      <td>женат / замужем</td>\n",
       "      <td>0</td>\n",
       "      <td>F</td>\n",
       "      <td>сотрудник</td>\n",
       "      <td>0</td>\n",
       "      <td>112080.014102</td>\n",
       "      <td>приобретение автомобиля</td>\n",
       "    </tr>\n",
       "    <tr>\n",
       "      <td>2</td>\n",
       "      <td>0</td>\n",
       "      <td>-5623.422610</td>\n",
       "      <td>33</td>\n",
       "      <td>Среднее</td>\n",
       "      <td>1</td>\n",
       "      <td>женат / замужем</td>\n",
       "      <td>0</td>\n",
       "      <td>M</td>\n",
       "      <td>сотрудник</td>\n",
       "      <td>0</td>\n",
       "      <td>145885.952297</td>\n",
       "      <td>покупка жилья</td>\n",
       "    </tr>\n",
       "    <tr>\n",
       "      <td>3</td>\n",
       "      <td>3</td>\n",
       "      <td>-4124.747207</td>\n",
       "      <td>32</td>\n",
       "      <td>среднее</td>\n",
       "      <td>1</td>\n",
       "      <td>женат / замужем</td>\n",
       "      <td>0</td>\n",
       "      <td>M</td>\n",
       "      <td>сотрудник</td>\n",
       "      <td>0</td>\n",
       "      <td>267628.550329</td>\n",
       "      <td>дополнительное образование</td>\n",
       "    </tr>\n",
       "    <tr>\n",
       "      <td>4</td>\n",
       "      <td>0</td>\n",
       "      <td>340266.072047</td>\n",
       "      <td>53</td>\n",
       "      <td>среднее</td>\n",
       "      <td>1</td>\n",
       "      <td>гражданский брак</td>\n",
       "      <td>1</td>\n",
       "      <td>F</td>\n",
       "      <td>пенсионер</td>\n",
       "      <td>0</td>\n",
       "      <td>158616.077870</td>\n",
       "      <td>сыграть свадьбу</td>\n",
       "    </tr>\n",
       "    <tr>\n",
       "      <td>...</td>\n",
       "      <td>...</td>\n",
       "      <td>...</td>\n",
       "      <td>...</td>\n",
       "      <td>...</td>\n",
       "      <td>...</td>\n",
       "      <td>...</td>\n",
       "      <td>...</td>\n",
       "      <td>...</td>\n",
       "      <td>...</td>\n",
       "      <td>...</td>\n",
       "      <td>...</td>\n",
       "      <td>...</td>\n",
       "    </tr>\n",
       "    <tr>\n",
       "      <td>21520</td>\n",
       "      <td>1</td>\n",
       "      <td>-4529.316663</td>\n",
       "      <td>43</td>\n",
       "      <td>среднее</td>\n",
       "      <td>1</td>\n",
       "      <td>гражданский брак</td>\n",
       "      <td>1</td>\n",
       "      <td>F</td>\n",
       "      <td>компаньон</td>\n",
       "      <td>0</td>\n",
       "      <td>224791.862382</td>\n",
       "      <td>операции с жильем</td>\n",
       "    </tr>\n",
       "    <tr>\n",
       "      <td>21521</td>\n",
       "      <td>0</td>\n",
       "      <td>343937.404131</td>\n",
       "      <td>67</td>\n",
       "      <td>среднее</td>\n",
       "      <td>1</td>\n",
       "      <td>женат / замужем</td>\n",
       "      <td>0</td>\n",
       "      <td>F</td>\n",
       "      <td>пенсионер</td>\n",
       "      <td>0</td>\n",
       "      <td>155999.806512</td>\n",
       "      <td>сделка с автомобилем</td>\n",
       "    </tr>\n",
       "    <tr>\n",
       "      <td>21522</td>\n",
       "      <td>1</td>\n",
       "      <td>-2113.346888</td>\n",
       "      <td>38</td>\n",
       "      <td>среднее</td>\n",
       "      <td>1</td>\n",
       "      <td>гражданский брак</td>\n",
       "      <td>1</td>\n",
       "      <td>M</td>\n",
       "      <td>сотрудник</td>\n",
       "      <td>1</td>\n",
       "      <td>89672.561153</td>\n",
       "      <td>недвижимость</td>\n",
       "    </tr>\n",
       "    <tr>\n",
       "      <td>21523</td>\n",
       "      <td>3</td>\n",
       "      <td>-3112.481705</td>\n",
       "      <td>38</td>\n",
       "      <td>среднее</td>\n",
       "      <td>1</td>\n",
       "      <td>женат / замужем</td>\n",
       "      <td>0</td>\n",
       "      <td>M</td>\n",
       "      <td>сотрудник</td>\n",
       "      <td>1</td>\n",
       "      <td>244093.050500</td>\n",
       "      <td>на покупку своего автомобиля</td>\n",
       "    </tr>\n",
       "    <tr>\n",
       "      <td>21524</td>\n",
       "      <td>2</td>\n",
       "      <td>-1984.507589</td>\n",
       "      <td>40</td>\n",
       "      <td>среднее</td>\n",
       "      <td>1</td>\n",
       "      <td>женат / замужем</td>\n",
       "      <td>0</td>\n",
       "      <td>F</td>\n",
       "      <td>сотрудник</td>\n",
       "      <td>0</td>\n",
       "      <td>82047.418899</td>\n",
       "      <td>на покупку автомобиля</td>\n",
       "    </tr>\n",
       "  </tbody>\n",
       "</table>\n",
       "<p>21525 rows × 12 columns</p>\n",
       "</div>"
      ],
      "text/plain": [
       "       children  days_employed  dob_years education  education_id  \\\n",
       "0             1   -8437.673028         42    высшее             0   \n",
       "1             1   -4024.803754         36   среднее             1   \n",
       "2             0   -5623.422610         33   Среднее             1   \n",
       "3             3   -4124.747207         32   среднее             1   \n",
       "4             0  340266.072047         53   среднее             1   \n",
       "...         ...            ...        ...       ...           ...   \n",
       "21520         1   -4529.316663         43   среднее             1   \n",
       "21521         0  343937.404131         67   среднее             1   \n",
       "21522         1   -2113.346888         38   среднее             1   \n",
       "21523         3   -3112.481705         38   среднее             1   \n",
       "21524         2   -1984.507589         40   среднее             1   \n",
       "\n",
       "          family_status  family_status_id gender income_type  debt  \\\n",
       "0       женат / замужем                 0      F   сотрудник     0   \n",
       "1       женат / замужем                 0      F   сотрудник     0   \n",
       "2       женат / замужем                 0      M   сотрудник     0   \n",
       "3       женат / замужем                 0      M   сотрудник     0   \n",
       "4      гражданский брак                 1      F   пенсионер     0   \n",
       "...                 ...               ...    ...         ...   ...   \n",
       "21520  гражданский брак                 1      F   компаньон     0   \n",
       "21521   женат / замужем                 0      F   пенсионер     0   \n",
       "21522  гражданский брак                 1      M   сотрудник     1   \n",
       "21523   женат / замужем                 0      M   сотрудник     1   \n",
       "21524   женат / замужем                 0      F   сотрудник     0   \n",
       "\n",
       "        total_income                       purpose  \n",
       "0      253875.639453                 покупка жилья  \n",
       "1      112080.014102       приобретение автомобиля  \n",
       "2      145885.952297                 покупка жилья  \n",
       "3      267628.550329    дополнительное образование  \n",
       "4      158616.077870               сыграть свадьбу  \n",
       "...              ...                           ...  \n",
       "21520  224791.862382             операции с жильем  \n",
       "21521  155999.806512          сделка с автомобилем  \n",
       "21522   89672.561153                  недвижимость  \n",
       "21523  244093.050500  на покупку своего автомобиля  \n",
       "21524   82047.418899         на покупку автомобиля  \n",
       "\n",
       "[21525 rows x 12 columns]"
      ]
     },
     "execution_count": 4,
     "metadata": {},
     "output_type": "execute_result"
    }
   ],
   "source": [
    "# Отобразим первые пять строк с начала и конца таблицы\n",
    "df"
   ]
  },
  {
   "cell_type": "markdown",
   "id": "3f699881",
   "metadata": {},
   "source": [
    "В документации к таблице указано, что колонки обозначают следующие данные:\n",
    "\n",
    "* `children` — количество детей в семье\n",
    "* `days_employed` — общий трудовой стаж в днях\n",
    "* `dob_years` — возраст клиента в годах\n",
    "* `education` — уровень образования клиента\n",
    "* `education_id` — идентификатор уровня образования\n",
    "* `family_status` — семейное положение\n",
    "* `family_status_id` — идентификатор семейного положения\n",
    "* `gender` — пол клиента\n",
    "* `income_type` — тип занятости\n",
    "* `debt` — имел ли задолженность по возврату кредитов\n",
    "* `total_income` — ежемесячный доход\n",
    "* `purpose` — цель получения кредита"
   ]
  },
  {
   "cell_type": "markdown",
   "id": "1ac8514b",
   "metadata": {},
   "source": [
    "Замеченные странности:\n",
    "\n",
    "`days_employed` - почему-то трудовой стаж указан в виде числа дней с шестью знаками после запятой. Логичным кажется указание количества дней в виде целого числа. Так же непонятно, почему некоторые значения в данной колонке - отрицательные. \n",
    "\n",
    "Еще обращают на себя внимание данные в строках №4 и №21521. Если перевести дни трудового стажа из строки №21521 в года, то получится: 343937 / 365 = 942,3 года трудового стажа. Хммм... Наверное так не должно быть🙃. \n",
    "\n",
    "Явная ошибка в данных. Можно сделать вывод, что нам точно не стоит использовать в расчётах по данной колонке среднее значение.\n",
    "\n",
    "Заметка для администраторов БД: 942 года трудового стажа выглядит как явная ошибка, которая может сказываться на многих вычислениях, связанных с данной таблицей. Считаю, что имеет смысл открыть тикет на поиск и устранение причины появления таких данных."
   ]
  },
  {
   "cell_type": "markdown",
   "id": "9b31b0fd-fde3-4f08-9e06-46eb04d48bce",
   "metadata": {},
   "source": [
    "## Предобработка данных"
   ]
  },
  {
   "cell_type": "markdown",
   "id": "c45e1874",
   "metadata": {},
   "source": [
    "### Заполнение пропусков"
   ]
  },
  {
   "cell_type": "code",
   "execution_count": 5,
   "id": "efc55474",
   "metadata": {},
   "outputs": [
    {
     "data": {
      "text/plain": [
       "children               0\n",
       "days_employed       2174\n",
       "dob_years              0\n",
       "education              0\n",
       "education_id           0\n",
       "family_status          0\n",
       "family_status_id       0\n",
       "gender                 0\n",
       "income_type            0\n",
       "debt                   0\n",
       "total_income        2174\n",
       "purpose                0\n",
       "dtype: int64"
      ]
     },
     "execution_count": 5,
     "metadata": {},
     "output_type": "execute_result"
    }
   ],
   "source": [
    "# Взглянем на количество пропусков в данных\n",
    "df.isna().sum()"
   ]
  },
  {
   "cell_type": "markdown",
   "id": "8ba56885",
   "metadata": {},
   "source": [
    "В колонках `days_employed` и `total_income` пропущено одинаковое количество строк: 2174. В обоих колонках пропущенные значения являются вещественными числами.\n",
    "\n",
    "Заметка для администраторов БД: возможно пропуски в данных колонках как-то взаимосвязаны, раз число пропусков одинаково. Может быть эта информация поможет найти и исправить проблему."
   ]
  },
  {
   "cell_type": "code",
   "execution_count": 6,
   "id": "ed6149f7",
   "metadata": {
    "scrolled": true
   },
   "outputs": [
    {
     "data": {
      "text/plain": [
       "'Процент пропущенных строк от общего числа строк составляет: 10.1%'"
      ]
     },
     "execution_count": 6,
     "metadata": {},
     "output_type": "execute_result"
    }
   ],
   "source": [
    "# Посчитаем долю пропущенных строк от общего количества строк\n",
    "empty_rows = df['days_employed'].isna().sum()\n",
    "total_rows = df.shape[0]\n",
    "empty_rows_in_percent = round(empty_rows / total_rows * 100, 1)\n",
    "f'Процент пропущенных строк от общего числа строк составляет: {empty_rows_in_percent}%'"
   ]
  },
  {
   "cell_type": "markdown",
   "id": "04b4a05f",
   "metadata": {},
   "source": [
    "Считаю, что 10 процентов - это весомое количество данных. Имеет смысл заполнить пропуски вместо того, чтобы просто удалить строки."
   ]
  },
  {
   "cell_type": "markdown",
   "id": "dcd7671f",
   "metadata": {},
   "source": [
    "Посмотрим на эти строки, возможно получится выявить какую-либо закономерность и предположить причины появления пропусков:"
   ]
  },
  {
   "cell_type": "code",
   "execution_count": 7,
   "id": "f746e51a",
   "metadata": {},
   "outputs": [
    {
     "data": {
      "text/html": [
       "<div>\n",
       "<style scoped>\n",
       "    .dataframe tbody tr th:only-of-type {\n",
       "        vertical-align: middle;\n",
       "    }\n",
       "\n",
       "    .dataframe tbody tr th {\n",
       "        vertical-align: top;\n",
       "    }\n",
       "\n",
       "    .dataframe thead th {\n",
       "        text-align: right;\n",
       "    }\n",
       "</style>\n",
       "<table border=\"1\" class=\"dataframe\">\n",
       "  <thead>\n",
       "    <tr style=\"text-align: right;\">\n",
       "      <th></th>\n",
       "      <th>children</th>\n",
       "      <th>days_employed</th>\n",
       "      <th>dob_years</th>\n",
       "      <th>education</th>\n",
       "      <th>education_id</th>\n",
       "      <th>family_status</th>\n",
       "      <th>family_status_id</th>\n",
       "      <th>gender</th>\n",
       "      <th>income_type</th>\n",
       "      <th>debt</th>\n",
       "      <th>total_income</th>\n",
       "      <th>purpose</th>\n",
       "    </tr>\n",
       "  </thead>\n",
       "  <tbody>\n",
       "    <tr>\n",
       "      <td>12</td>\n",
       "      <td>0</td>\n",
       "      <td>NaN</td>\n",
       "      <td>65</td>\n",
       "      <td>среднее</td>\n",
       "      <td>1</td>\n",
       "      <td>гражданский брак</td>\n",
       "      <td>1</td>\n",
       "      <td>M</td>\n",
       "      <td>пенсионер</td>\n",
       "      <td>0</td>\n",
       "      <td>NaN</td>\n",
       "      <td>сыграть свадьбу</td>\n",
       "    </tr>\n",
       "    <tr>\n",
       "      <td>26</td>\n",
       "      <td>0</td>\n",
       "      <td>NaN</td>\n",
       "      <td>41</td>\n",
       "      <td>среднее</td>\n",
       "      <td>1</td>\n",
       "      <td>женат / замужем</td>\n",
       "      <td>0</td>\n",
       "      <td>M</td>\n",
       "      <td>госслужащий</td>\n",
       "      <td>0</td>\n",
       "      <td>NaN</td>\n",
       "      <td>образование</td>\n",
       "    </tr>\n",
       "    <tr>\n",
       "      <td>29</td>\n",
       "      <td>0</td>\n",
       "      <td>NaN</td>\n",
       "      <td>63</td>\n",
       "      <td>среднее</td>\n",
       "      <td>1</td>\n",
       "      <td>Не женат / не замужем</td>\n",
       "      <td>4</td>\n",
       "      <td>F</td>\n",
       "      <td>пенсионер</td>\n",
       "      <td>0</td>\n",
       "      <td>NaN</td>\n",
       "      <td>строительство жилой недвижимости</td>\n",
       "    </tr>\n",
       "    <tr>\n",
       "      <td>41</td>\n",
       "      <td>0</td>\n",
       "      <td>NaN</td>\n",
       "      <td>50</td>\n",
       "      <td>среднее</td>\n",
       "      <td>1</td>\n",
       "      <td>женат / замужем</td>\n",
       "      <td>0</td>\n",
       "      <td>F</td>\n",
       "      <td>госслужащий</td>\n",
       "      <td>0</td>\n",
       "      <td>NaN</td>\n",
       "      <td>сделка с подержанным автомобилем</td>\n",
       "    </tr>\n",
       "    <tr>\n",
       "      <td>55</td>\n",
       "      <td>0</td>\n",
       "      <td>NaN</td>\n",
       "      <td>54</td>\n",
       "      <td>среднее</td>\n",
       "      <td>1</td>\n",
       "      <td>гражданский брак</td>\n",
       "      <td>1</td>\n",
       "      <td>F</td>\n",
       "      <td>пенсионер</td>\n",
       "      <td>1</td>\n",
       "      <td>NaN</td>\n",
       "      <td>сыграть свадьбу</td>\n",
       "    </tr>\n",
       "    <tr>\n",
       "      <td>...</td>\n",
       "      <td>...</td>\n",
       "      <td>...</td>\n",
       "      <td>...</td>\n",
       "      <td>...</td>\n",
       "      <td>...</td>\n",
       "      <td>...</td>\n",
       "      <td>...</td>\n",
       "      <td>...</td>\n",
       "      <td>...</td>\n",
       "      <td>...</td>\n",
       "      <td>...</td>\n",
       "      <td>...</td>\n",
       "    </tr>\n",
       "    <tr>\n",
       "      <td>21489</td>\n",
       "      <td>2</td>\n",
       "      <td>NaN</td>\n",
       "      <td>47</td>\n",
       "      <td>Среднее</td>\n",
       "      <td>1</td>\n",
       "      <td>женат / замужем</td>\n",
       "      <td>0</td>\n",
       "      <td>M</td>\n",
       "      <td>компаньон</td>\n",
       "      <td>0</td>\n",
       "      <td>NaN</td>\n",
       "      <td>сделка с автомобилем</td>\n",
       "    </tr>\n",
       "    <tr>\n",
       "      <td>21495</td>\n",
       "      <td>1</td>\n",
       "      <td>NaN</td>\n",
       "      <td>50</td>\n",
       "      <td>среднее</td>\n",
       "      <td>1</td>\n",
       "      <td>гражданский брак</td>\n",
       "      <td>1</td>\n",
       "      <td>F</td>\n",
       "      <td>сотрудник</td>\n",
       "      <td>0</td>\n",
       "      <td>NaN</td>\n",
       "      <td>свадьба</td>\n",
       "    </tr>\n",
       "    <tr>\n",
       "      <td>21497</td>\n",
       "      <td>0</td>\n",
       "      <td>NaN</td>\n",
       "      <td>48</td>\n",
       "      <td>ВЫСШЕЕ</td>\n",
       "      <td>0</td>\n",
       "      <td>женат / замужем</td>\n",
       "      <td>0</td>\n",
       "      <td>F</td>\n",
       "      <td>компаньон</td>\n",
       "      <td>0</td>\n",
       "      <td>NaN</td>\n",
       "      <td>строительство недвижимости</td>\n",
       "    </tr>\n",
       "    <tr>\n",
       "      <td>21502</td>\n",
       "      <td>1</td>\n",
       "      <td>NaN</td>\n",
       "      <td>42</td>\n",
       "      <td>среднее</td>\n",
       "      <td>1</td>\n",
       "      <td>женат / замужем</td>\n",
       "      <td>0</td>\n",
       "      <td>F</td>\n",
       "      <td>сотрудник</td>\n",
       "      <td>0</td>\n",
       "      <td>NaN</td>\n",
       "      <td>строительство жилой недвижимости</td>\n",
       "    </tr>\n",
       "    <tr>\n",
       "      <td>21510</td>\n",
       "      <td>2</td>\n",
       "      <td>NaN</td>\n",
       "      <td>28</td>\n",
       "      <td>среднее</td>\n",
       "      <td>1</td>\n",
       "      <td>женат / замужем</td>\n",
       "      <td>0</td>\n",
       "      <td>F</td>\n",
       "      <td>сотрудник</td>\n",
       "      <td>0</td>\n",
       "      <td>NaN</td>\n",
       "      <td>приобретение автомобиля</td>\n",
       "    </tr>\n",
       "  </tbody>\n",
       "</table>\n",
       "<p>2174 rows × 12 columns</p>\n",
       "</div>"
      ],
      "text/plain": [
       "       children  days_employed  dob_years education  education_id  \\\n",
       "12            0            NaN         65   среднее             1   \n",
       "26            0            NaN         41   среднее             1   \n",
       "29            0            NaN         63   среднее             1   \n",
       "41            0            NaN         50   среднее             1   \n",
       "55            0            NaN         54   среднее             1   \n",
       "...         ...            ...        ...       ...           ...   \n",
       "21489         2            NaN         47   Среднее             1   \n",
       "21495         1            NaN         50   среднее             1   \n",
       "21497         0            NaN         48    ВЫСШЕЕ             0   \n",
       "21502         1            NaN         42   среднее             1   \n",
       "21510         2            NaN         28   среднее             1   \n",
       "\n",
       "               family_status  family_status_id gender  income_type  debt  \\\n",
       "12          гражданский брак                 1      M    пенсионер     0   \n",
       "26           женат / замужем                 0      M  госслужащий     0   \n",
       "29     Не женат / не замужем                 4      F    пенсионер     0   \n",
       "41           женат / замужем                 0      F  госслужащий     0   \n",
       "55          гражданский брак                 1      F    пенсионер     1   \n",
       "...                      ...               ...    ...          ...   ...   \n",
       "21489        женат / замужем                 0      M    компаньон     0   \n",
       "21495       гражданский брак                 1      F    сотрудник     0   \n",
       "21497        женат / замужем                 0      F    компаньон     0   \n",
       "21502        женат / замужем                 0      F    сотрудник     0   \n",
       "21510        женат / замужем                 0      F    сотрудник     0   \n",
       "\n",
       "       total_income                           purpose  \n",
       "12              NaN                   сыграть свадьбу  \n",
       "26              NaN                       образование  \n",
       "29              NaN  строительство жилой недвижимости  \n",
       "41              NaN  сделка с подержанным автомобилем  \n",
       "55              NaN                   сыграть свадьбу  \n",
       "...             ...                               ...  \n",
       "21489           NaN              сделка с автомобилем  \n",
       "21495           NaN                           свадьба  \n",
       "21497           NaN        строительство недвижимости  \n",
       "21502           NaN  строительство жилой недвижимости  \n",
       "21510           NaN           приобретение автомобиля  \n",
       "\n",
       "[2174 rows x 12 columns]"
      ]
     },
     "execution_count": 7,
     "metadata": {},
     "output_type": "execute_result"
    }
   ],
   "source": [
    "# Отобразим пропущенные строки\n",
    "df[df.isna().any(axis=1)]"
   ]
  },
  {
   "cell_type": "markdown",
   "id": "9c0e958f",
   "metadata": {},
   "source": [
    "Какой-то явной связи между строками с пропущенными данными не наблюдается. Сделать какое-то предположение о причине появления пропусков затруднительно."
   ]
  },
  {
   "cell_type": "markdown",
   "id": "23056d28",
   "metadata": {},
   "source": [
    "В количественных переменных заполнять пропуски лучше медианным значением из-за возможного присутствия значений, которые сильно отклоняются в какую-либо сторону от большинства значений. Ниже будет явно видно один из таких примеров."
   ]
  },
  {
   "cell_type": "markdown",
   "id": "2e97acda",
   "metadata": {},
   "source": [
    "\n"
   ]
  },
  {
   "cell_type": "markdown",
   "id": "e714b9b4",
   "metadata": {},
   "source": [
    "### Проверка данных на аномалии и исправления"
   ]
  },
  {
   "cell_type": "markdown",
   "id": "a4c015b7",
   "metadata": {},
   "source": [
    "#### Столбец children"
   ]
  },
  {
   "cell_type": "code",
   "execution_count": 8,
   "id": "2906d288",
   "metadata": {},
   "outputs": [
    {
     "data": {
      "text/plain": [
       "count    21525.000000\n",
       "mean         0.538908\n",
       "std          1.381587\n",
       "min         -1.000000\n",
       "25%          0.000000\n",
       "50%          0.000000\n",
       "75%          1.000000\n",
       "max         20.000000\n",
       "Name: children, dtype: float64"
      ]
     },
     "execution_count": 8,
     "metadata": {},
     "output_type": "execute_result"
    }
   ],
   "source": [
    "# Посмотрим статистику по столбцу children\n",
    "df['children'].describe()"
   ]
  },
  {
   "cell_type": "markdown",
   "id": "727fc10e",
   "metadata": {},
   "source": [
    "Есть явные странности: значения -1 и 20."
   ]
  },
  {
   "cell_type": "code",
   "execution_count": 9,
   "id": "4676cd0d",
   "metadata": {},
   "outputs": [
    {
     "data": {
      "text/plain": [
       " 0     14149\n",
       " 1      4818\n",
       " 2      2055\n",
       " 3       330\n",
       " 20       76\n",
       "-1        47\n",
       " 4        41\n",
       " 5         9\n",
       "Name: children, dtype: int64"
      ]
     },
     "execution_count": 9,
     "metadata": {},
     "output_type": "execute_result"
    }
   ],
   "source": [
    "# Посчитаем сколько раз встречаются разные значения в столбце children\n",
    "df['children'].value_counts()"
   ]
  },
  {
   "cell_type": "markdown",
   "id": "09442fcd",
   "metadata": {},
   "source": [
    "Несколько десятков строк, в которых число детей указано 20 (это чересчур много) и -1 (явная ошибка). "
   ]
  },
  {
   "cell_type": "code",
   "execution_count": 10,
   "id": "7e8ca572",
   "metadata": {},
   "outputs": [
    {
     "data": {
      "text/plain": [
       "'Процент строк с аномальным количеством детей, по отношению ко всей таблице составляет: 0.571%'"
      ]
     },
     "execution_count": 10,
     "metadata": {},
     "output_type": "execute_result"
    }
   ],
   "source": [
    "# Посчитаем отношение аномальных строк ко всем строкам\n",
    "anomaly_children_row_count = (df[df['children'] == 20]['children'].count() + \n",
    "                              df[df['children'] == -1]['children'].count())\n",
    "anomaly_percent = round(anomaly_children_row_count / df.shape[0] * 100, 3)\n",
    "f'Процент строк с аномальным количеством детей, по отношению ко всей таблице составляет: {anomaly_percent}%'"
   ]
  },
  {
   "cell_type": "code",
   "execution_count": 11,
   "id": "de5c0664",
   "metadata": {},
   "outputs": [
    {
     "data": {
      "text/html": [
       "<div>\n",
       "<style scoped>\n",
       "    .dataframe tbody tr th:only-of-type {\n",
       "        vertical-align: middle;\n",
       "    }\n",
       "\n",
       "    .dataframe tbody tr th {\n",
       "        vertical-align: top;\n",
       "    }\n",
       "\n",
       "    .dataframe thead th {\n",
       "        text-align: right;\n",
       "    }\n",
       "</style>\n",
       "<table border=\"1\" class=\"dataframe\">\n",
       "  <thead>\n",
       "    <tr style=\"text-align: right;\">\n",
       "      <th></th>\n",
       "      <th>children</th>\n",
       "      <th>days_employed</th>\n",
       "      <th>dob_years</th>\n",
       "      <th>education</th>\n",
       "      <th>education_id</th>\n",
       "      <th>family_status</th>\n",
       "      <th>family_status_id</th>\n",
       "      <th>gender</th>\n",
       "      <th>income_type</th>\n",
       "      <th>debt</th>\n",
       "      <th>total_income</th>\n",
       "      <th>purpose</th>\n",
       "    </tr>\n",
       "  </thead>\n",
       "  <tbody>\n",
       "    <tr>\n",
       "      <td>606</td>\n",
       "      <td>20</td>\n",
       "      <td>-880.221113</td>\n",
       "      <td>21</td>\n",
       "      <td>среднее</td>\n",
       "      <td>1</td>\n",
       "      <td>женат / замужем</td>\n",
       "      <td>0</td>\n",
       "      <td>M</td>\n",
       "      <td>компаньон</td>\n",
       "      <td>0</td>\n",
       "      <td>145334.865002</td>\n",
       "      <td>покупка жилья</td>\n",
       "    </tr>\n",
       "    <tr>\n",
       "      <td>720</td>\n",
       "      <td>20</td>\n",
       "      <td>-855.595512</td>\n",
       "      <td>44</td>\n",
       "      <td>среднее</td>\n",
       "      <td>1</td>\n",
       "      <td>женат / замужем</td>\n",
       "      <td>0</td>\n",
       "      <td>F</td>\n",
       "      <td>компаньон</td>\n",
       "      <td>0</td>\n",
       "      <td>112998.738649</td>\n",
       "      <td>покупка недвижимости</td>\n",
       "    </tr>\n",
       "    <tr>\n",
       "      <td>1074</td>\n",
       "      <td>20</td>\n",
       "      <td>-3310.411598</td>\n",
       "      <td>56</td>\n",
       "      <td>среднее</td>\n",
       "      <td>1</td>\n",
       "      <td>женат / замужем</td>\n",
       "      <td>0</td>\n",
       "      <td>F</td>\n",
       "      <td>сотрудник</td>\n",
       "      <td>1</td>\n",
       "      <td>229518.537004</td>\n",
       "      <td>получение образования</td>\n",
       "    </tr>\n",
       "    <tr>\n",
       "      <td>2510</td>\n",
       "      <td>20</td>\n",
       "      <td>-2714.161249</td>\n",
       "      <td>59</td>\n",
       "      <td>высшее</td>\n",
       "      <td>0</td>\n",
       "      <td>вдовец / вдова</td>\n",
       "      <td>2</td>\n",
       "      <td>F</td>\n",
       "      <td>сотрудник</td>\n",
       "      <td>0</td>\n",
       "      <td>264474.835577</td>\n",
       "      <td>операции с коммерческой недвижимостью</td>\n",
       "    </tr>\n",
       "    <tr>\n",
       "      <td>2941</td>\n",
       "      <td>20</td>\n",
       "      <td>-2161.591519</td>\n",
       "      <td>0</td>\n",
       "      <td>среднее</td>\n",
       "      <td>1</td>\n",
       "      <td>женат / замужем</td>\n",
       "      <td>0</td>\n",
       "      <td>F</td>\n",
       "      <td>сотрудник</td>\n",
       "      <td>0</td>\n",
       "      <td>199739.941398</td>\n",
       "      <td>на покупку автомобиля</td>\n",
       "    </tr>\n",
       "  </tbody>\n",
       "</table>\n",
       "</div>"
      ],
      "text/plain": [
       "      children  days_employed  dob_years education  education_id  \\\n",
       "606         20    -880.221113         21   среднее             1   \n",
       "720         20    -855.595512         44   среднее             1   \n",
       "1074        20   -3310.411598         56   среднее             1   \n",
       "2510        20   -2714.161249         59    высшее             0   \n",
       "2941        20   -2161.591519          0   среднее             1   \n",
       "\n",
       "        family_status  family_status_id gender income_type  debt  \\\n",
       "606   женат / замужем                 0      M   компаньон     0   \n",
       "720   женат / замужем                 0      F   компаньон     0   \n",
       "1074  женат / замужем                 0      F   сотрудник     1   \n",
       "2510   вдовец / вдова                 2      F   сотрудник     0   \n",
       "2941  женат / замужем                 0      F   сотрудник     0   \n",
       "\n",
       "       total_income                                purpose  \n",
       "606   145334.865002                          покупка жилья  \n",
       "720   112998.738649                   покупка недвижимости  \n",
       "1074  229518.537004                  получение образования  \n",
       "2510  264474.835577  операции с коммерческой недвижимостью  \n",
       "2941  199739.941398                  на покупку автомобиля  "
      ]
     },
     "execution_count": 11,
     "metadata": {},
     "output_type": "execute_result"
    }
   ],
   "source": [
    "# Перед заменой значений вызовем несколько строк, в которых указано количество детей == 20\n",
    "# Это необходимо для проверки корректности замены\n",
    "df[df['children'] == 20].head(5)"
   ]
  },
  {
   "cell_type": "code",
   "execution_count": 12,
   "id": "3eb36f65",
   "metadata": {},
   "outputs": [
    {
     "data": {
      "text/plain": [
       "0    14149\n",
       "1     4865\n",
       "2     2131\n",
       "3      330\n",
       "4       41\n",
       "5        9\n",
       "Name: children, dtype: int64"
      ]
     },
     "execution_count": 12,
     "metadata": {},
     "output_type": "execute_result"
    }
   ],
   "source": [
    "# Заменим 20 на 2, а -1 на 1. Выведем все значения для проверки.\n",
    "df.loc[df['children'] == 20, ['children']] = 2\n",
    "df.loc[df['children'] == -1, ['children']] = 1\n",
    "df['children'].value_counts()"
   ]
  },
  {
   "cell_type": "code",
   "execution_count": 13,
   "id": "2b2a0f69",
   "metadata": {
    "scrolled": true
   },
   "outputs": [
    {
     "data": {
      "text/html": [
       "<div>\n",
       "<style scoped>\n",
       "    .dataframe tbody tr th:only-of-type {\n",
       "        vertical-align: middle;\n",
       "    }\n",
       "\n",
       "    .dataframe tbody tr th {\n",
       "        vertical-align: top;\n",
       "    }\n",
       "\n",
       "    .dataframe thead th {\n",
       "        text-align: right;\n",
       "    }\n",
       "</style>\n",
       "<table border=\"1\" class=\"dataframe\">\n",
       "  <thead>\n",
       "    <tr style=\"text-align: right;\">\n",
       "      <th></th>\n",
       "      <th>children</th>\n",
       "      <th>days_employed</th>\n",
       "      <th>dob_years</th>\n",
       "      <th>education</th>\n",
       "      <th>education_id</th>\n",
       "      <th>family_status</th>\n",
       "      <th>family_status_id</th>\n",
       "      <th>gender</th>\n",
       "      <th>income_type</th>\n",
       "      <th>debt</th>\n",
       "      <th>total_income</th>\n",
       "      <th>purpose</th>\n",
       "    </tr>\n",
       "  </thead>\n",
       "  <tbody>\n",
       "    <tr>\n",
       "      <td>606</td>\n",
       "      <td>2</td>\n",
       "      <td>-880.221113</td>\n",
       "      <td>21</td>\n",
       "      <td>среднее</td>\n",
       "      <td>1</td>\n",
       "      <td>женат / замужем</td>\n",
       "      <td>0</td>\n",
       "      <td>M</td>\n",
       "      <td>компаньон</td>\n",
       "      <td>0</td>\n",
       "      <td>145334.865002</td>\n",
       "      <td>покупка жилья</td>\n",
       "    </tr>\n",
       "    <tr>\n",
       "      <td>720</td>\n",
       "      <td>2</td>\n",
       "      <td>-855.595512</td>\n",
       "      <td>44</td>\n",
       "      <td>среднее</td>\n",
       "      <td>1</td>\n",
       "      <td>женат / замужем</td>\n",
       "      <td>0</td>\n",
       "      <td>F</td>\n",
       "      <td>компаньон</td>\n",
       "      <td>0</td>\n",
       "      <td>112998.738649</td>\n",
       "      <td>покупка недвижимости</td>\n",
       "    </tr>\n",
       "    <tr>\n",
       "      <td>1074</td>\n",
       "      <td>2</td>\n",
       "      <td>-3310.411598</td>\n",
       "      <td>56</td>\n",
       "      <td>среднее</td>\n",
       "      <td>1</td>\n",
       "      <td>женат / замужем</td>\n",
       "      <td>0</td>\n",
       "      <td>F</td>\n",
       "      <td>сотрудник</td>\n",
       "      <td>1</td>\n",
       "      <td>229518.537004</td>\n",
       "      <td>получение образования</td>\n",
       "    </tr>\n",
       "    <tr>\n",
       "      <td>2510</td>\n",
       "      <td>2</td>\n",
       "      <td>-2714.161249</td>\n",
       "      <td>59</td>\n",
       "      <td>высшее</td>\n",
       "      <td>0</td>\n",
       "      <td>вдовец / вдова</td>\n",
       "      <td>2</td>\n",
       "      <td>F</td>\n",
       "      <td>сотрудник</td>\n",
       "      <td>0</td>\n",
       "      <td>264474.835577</td>\n",
       "      <td>операции с коммерческой недвижимостью</td>\n",
       "    </tr>\n",
       "    <tr>\n",
       "      <td>2941</td>\n",
       "      <td>2</td>\n",
       "      <td>-2161.591519</td>\n",
       "      <td>0</td>\n",
       "      <td>среднее</td>\n",
       "      <td>1</td>\n",
       "      <td>женат / замужем</td>\n",
       "      <td>0</td>\n",
       "      <td>F</td>\n",
       "      <td>сотрудник</td>\n",
       "      <td>0</td>\n",
       "      <td>199739.941398</td>\n",
       "      <td>на покупку автомобиля</td>\n",
       "    </tr>\n",
       "  </tbody>\n",
       "</table>\n",
       "</div>"
      ],
      "text/plain": [
       "      children  days_employed  dob_years education  education_id  \\\n",
       "606          2    -880.221113         21   среднее             1   \n",
       "720          2    -855.595512         44   среднее             1   \n",
       "1074         2   -3310.411598         56   среднее             1   \n",
       "2510         2   -2714.161249         59    высшее             0   \n",
       "2941         2   -2161.591519          0   среднее             1   \n",
       "\n",
       "        family_status  family_status_id gender income_type  debt  \\\n",
       "606   женат / замужем                 0      M   компаньон     0   \n",
       "720   женат / замужем                 0      F   компаньон     0   \n",
       "1074  женат / замужем                 0      F   сотрудник     1   \n",
       "2510   вдовец / вдова                 2      F   сотрудник     0   \n",
       "2941  женат / замужем                 0      F   сотрудник     0   \n",
       "\n",
       "       total_income                                purpose  \n",
       "606   145334.865002                          покупка жилья  \n",
       "720   112998.738649                   покупка недвижимости  \n",
       "1074  229518.537004                  получение образования  \n",
       "2510  264474.835577  операции с коммерческой недвижимостью  \n",
       "2941  199739.941398                  на покупку автомобиля  "
      ]
     },
     "execution_count": 13,
     "metadata": {},
     "output_type": "execute_result"
    }
   ],
   "source": [
    "# Проверим, что в таблице замена прошла корректно\n",
    "df.loc[[606, 720, 1074, 2510, 2941]]"
   ]
  },
  {
   "cell_type": "markdown",
   "id": "8cb0d80b",
   "metadata": {},
   "source": [
    "#### Столбец days_employed"
   ]
  },
  {
   "cell_type": "markdown",
   "id": "4cc10069",
   "metadata": {},
   "source": [
    "Перейдём к столбцу `days_employed`"
   ]
  },
  {
   "cell_type": "code",
   "execution_count": 14,
   "id": "3fa9b5fd",
   "metadata": {
    "scrolled": true
   },
   "outputs": [
    {
     "data": {
      "text/plain": [
       "count     19351.000000\n",
       "mean      63046.497661\n",
       "std      140827.311974\n",
       "min      -18388.949901\n",
       "25%       -2747.423625\n",
       "50%       -1203.369529\n",
       "75%        -291.095954\n",
       "max      401755.400475\n",
       "Name: days_employed, dtype: float64"
      ]
     },
     "execution_count": 14,
     "metadata": {},
     "output_type": "execute_result"
    }
   ],
   "source": [
    "# Посмотрим статистику по столбцу days_employed\n",
    "df['days_employed'].describe()"
   ]
  },
  {
   "cell_type": "markdown",
   "id": "3b4dc462",
   "metadata": {},
   "source": [
    "В столбце присутствуют отрицательные значения, исправим это:"
   ]
  },
  {
   "cell_type": "code",
   "execution_count": 15,
   "id": "ed13553c",
   "metadata": {
    "scrolled": true
   },
   "outputs": [
    {
     "data": {
      "text/plain": [
       "count     19351.000000\n",
       "mean      66914.728907\n",
       "std      139030.880527\n",
       "min          24.141633\n",
       "25%         927.009265\n",
       "50%        2194.220567\n",
       "75%        5537.882441\n",
       "max      401755.400475\n",
       "Name: days_employed, dtype: float64"
      ]
     },
     "execution_count": 15,
     "metadata": {},
     "output_type": "execute_result"
    }
   ],
   "source": [
    "# Заменим отрицательные числовые значения на абсолютные и посмотрим на статистику по столбцу после изменений\n",
    "df['days_employed'] = df['days_employed'].abs()\n",
    "df['days_employed'].describe()"
   ]
  },
  {
   "cell_type": "markdown",
   "id": "99d79273",
   "metadata": {},
   "source": [
    "На себя обращает внимание максимальное значение в столбце. Если перевести эти дни в года, то получится 401755 / 365 =  1100 лет. Явная ошибка, которая тянет за собой среднее значение по столбцу вверх. Среднее количество дней равняется 66914 дней (или 183 года). Проводить расчёты исходя из среднего значения данного столбца будет ошибочно, поэтому будем использовать медианное значение, которое равно 2194 дня или 6 лет."
   ]
  },
  {
   "cell_type": "code",
   "execution_count": 16,
   "id": "5f9456b1",
   "metadata": {
    "scrolled": true
   },
   "outputs": [
    {
     "data": {
      "text/plain": [
       "\"Количество пропущенных значений в столбце 'days_employed': 0\""
      ]
     },
     "execution_count": 16,
     "metadata": {},
     "output_type": "execute_result"
    }
   ],
   "source": [
    "# Заполним пропущенные значения медианой и проверим, что пропусков не осталось\n",
    "df['days_employed'] = df['days_employed'].fillna(df['days_employed'].median())\n",
    "sum_na = df['days_employed'].isna().sum()\n",
    "f'Количество пропущенных значений в столбце \\'days_employed\\': {sum_na}'"
   ]
  },
  {
   "cell_type": "markdown",
   "id": "60666ecb",
   "metadata": {},
   "source": [
    "#### Столбец total_income"
   ]
  },
  {
   "cell_type": "markdown",
   "id": "d6b1a981",
   "metadata": {},
   "source": [
    "Тоже самое проделаем со столбцом total_income"
   ]
  },
  {
   "cell_type": "code",
   "execution_count": 17,
   "id": "e04d9e3e",
   "metadata": {},
   "outputs": [
    {
     "data": {
      "text/plain": [
       "count    1.935100e+04\n",
       "mean     1.674223e+05\n",
       "std      1.029716e+05\n",
       "min      2.066726e+04\n",
       "25%      1.030532e+05\n",
       "50%      1.450179e+05\n",
       "75%      2.034351e+05\n",
       "max      2.265604e+06\n",
       "Name: total_income, dtype: float64"
      ]
     },
     "execution_count": 17,
     "metadata": {},
     "output_type": "execute_result"
    }
   ],
   "source": [
    "# Посмотрим статистику по столбцу total_income\n",
    "df['total_income'].describe()"
   ]
  },
  {
   "cell_type": "markdown",
   "id": "f433d538",
   "metadata": {},
   "source": [
    "Явных аномалий здесь не видно, просто заполним пропущенные значения медианой"
   ]
  },
  {
   "cell_type": "code",
   "execution_count": 18,
   "id": "a7131bd2",
   "metadata": {},
   "outputs": [
    {
     "data": {
      "text/plain": [
       "\"Количество пропущенных значений в столбце 'total_income': 0\""
      ]
     },
     "execution_count": 18,
     "metadata": {},
     "output_type": "execute_result"
    }
   ],
   "source": [
    "# Заполним пропущенные значения медианой и проверим, что пропусков не осталось\n",
    "df['total_income'] = df['total_income'].fillna(df['total_income'].median())\n",
    "sum_na = df['total_income'].isna().sum()\n",
    "f'Количество пропущенных значений в столбце \\'total_income\\': {sum_na}'"
   ]
  },
  {
   "cell_type": "code",
   "execution_count": 19,
   "id": "7f49f77d",
   "metadata": {},
   "outputs": [
    {
     "data": {
      "text/plain": [
       "children            0\n",
       "days_employed       0\n",
       "dob_years           0\n",
       "education           0\n",
       "education_id        0\n",
       "family_status       0\n",
       "family_status_id    0\n",
       "gender              0\n",
       "income_type         0\n",
       "debt                0\n",
       "total_income        0\n",
       "purpose             0\n",
       "dtype: int64"
      ]
     },
     "execution_count": 19,
     "metadata": {},
     "output_type": "execute_result"
    }
   ],
   "source": [
    "# Ещё раз проверим, что пропущенных значений в таблице не осталось\n",
    "df.isna().sum()"
   ]
  },
  {
   "cell_type": "markdown",
   "id": "57cb9dfb",
   "metadata": {},
   "source": [
    "### Столбец dob_years"
   ]
  },
  {
   "cell_type": "code",
   "execution_count": 20,
   "id": "c07ac2ae",
   "metadata": {},
   "outputs": [
    {
     "data": {
      "text/plain": [
       "count    21525.000000\n",
       "mean        43.293380\n",
       "std         12.574584\n",
       "min          0.000000\n",
       "25%         33.000000\n",
       "50%         42.000000\n",
       "75%         53.000000\n",
       "max         75.000000\n",
       "Name: dob_years, dtype: float64"
      ]
     },
     "execution_count": 20,
     "metadata": {},
     "output_type": "execute_result"
    }
   ],
   "source": [
    "# Проверим ещё и столбец dob_years\n",
    "df['dob_years'].describe()"
   ]
  },
  {
   "cell_type": "markdown",
   "id": "006f9965",
   "metadata": {},
   "source": [
    "Обращает внимание минимальное значение - 0 лет. В остальном данные выглядят вполне достоверными. "
   ]
  },
  {
   "cell_type": "code",
   "execution_count": 21,
   "id": "a0592413",
   "metadata": {},
   "outputs": [
    {
     "data": {
      "text/plain": [
       "<matplotlib.axes._subplots.AxesSubplot at 0x7fe774403610>"
      ]
     },
     "execution_count": 21,
     "metadata": {},
     "output_type": "execute_result"
    },
    {
     "data": {
      "image/png": "[encoded data removed]",
      "text/plain": [
       "<Figure size 504x504 with 1 Axes>"
      ]
     },
     "metadata": {
      "needs_background": "light"
     },
     "output_type": "display_data"
    }
   ],
   "source": [
    "# Оценим распределение значений на гистограмме\n",
    "df['dob_years'].hist(bins=20, figsize=(7, 7))"
   ]
  },
  {
   "cell_type": "markdown",
   "id": "6b164cb8",
   "metadata": {},
   "source": [
    "Возраст заёмщиков похож на нормальное распределение, за исключением ряда нулевых значений. Всего таких записей около 100. Заменим их на медиану."
   ]
  },
  {
   "cell_type": "code",
   "execution_count": 22,
   "id": "186e2a64",
   "metadata": {},
   "outputs": [
    {
     "data": {
      "text/plain": [
       "count    21525.000000\n",
       "mean        43.490453\n",
       "std         12.218595\n",
       "min         19.000000\n",
       "25%         34.000000\n",
       "50%         42.000000\n",
       "75%         53.000000\n",
       "max         75.000000\n",
       "Name: dob_years, dtype: float64"
      ]
     },
     "execution_count": 22,
     "metadata": {},
     "output_type": "execute_result"
    }
   ],
   "source": [
    "# Заменим нулевые значения на медиану. Выведем все значения для проверки.\n",
    "df.loc[df['dob_years'] == 0, ['dob_years']] = df['dob_years'].median()\n",
    "df['dob_years'].describe()"
   ]
  },
  {
   "cell_type": "markdown",
   "id": "333b74bf",
   "metadata": {},
   "source": [
    "С данной колонкой закончили."
   ]
  },
  {
   "cell_type": "markdown",
   "id": "8a91d373",
   "metadata": {},
   "source": [
    "\n"
   ]
  },
  {
   "cell_type": "markdown",
   "id": "27849ed6",
   "metadata": {},
   "source": [
    "### Изменение типов данных"
   ]
  },
  {
   "cell_type": "markdown",
   "id": "a47cdb7b",
   "metadata": {},
   "source": [
    "Число дней трудового стажа в столбце days_employed по какой-то причине записано как вещественное число. Хотя на практике в трудовой книжке указывается всегда целое число дней. Приведем тип данных в данном столбце к целому числу."
   ]
  },
  {
   "cell_type": "code",
   "execution_count": 23,
   "id": "15d8380b",
   "metadata": {
    "scrolled": true
   },
   "outputs": [
    {
     "data": {
      "text/plain": [
       "0          8437\n",
       "1          4024\n",
       "2          5623\n",
       "3          4124\n",
       "4        340266\n",
       "          ...  \n",
       "21520      4529\n",
       "21521    343937\n",
       "21522      2113\n",
       "21523      3112\n",
       "21524      1984\n",
       "Name: days_employed, Length: 21525, dtype: int64"
      ]
     },
     "execution_count": 23,
     "metadata": {},
     "output_type": "execute_result"
    }
   ],
   "source": [
    "# Приведём тип данных в столбце к целочисленному, вместо вещественного и отобразим полученный результат\n",
    "df['days_employed'] = df['days_employed'].astype('int')\n",
    "df['days_employed']"
   ]
  },
  {
   "cell_type": "markdown",
   "id": "90a0ea32",
   "metadata": {},
   "source": [
    "Так же приведём к целочисленному типу столбец total_income"
   ]
  },
  {
   "cell_type": "code",
   "execution_count": 24,
   "id": "1769b6f4",
   "metadata": {},
   "outputs": [
    {
     "data": {
      "text/plain": [
       "0        253875\n",
       "1        112080\n",
       "2        145885\n",
       "3        267628\n",
       "4        158616\n",
       "          ...  \n",
       "21520    224791\n",
       "21521    155999\n",
       "21522     89672\n",
       "21523    244093\n",
       "21524     82047\n",
       "Name: total_income, Length: 21525, dtype: int64"
      ]
     },
     "execution_count": 24,
     "metadata": {},
     "output_type": "execute_result"
    }
   ],
   "source": [
    "# Приведём тип данных в столбце к целочисленному, вместо вещественного и отобразим полученный результат\n",
    "df['total_income'] = df['total_income'].astype('int')\n",
    "df['total_income']"
   ]
  },
  {
   "cell_type": "markdown",
   "id": "390bcc5e",
   "metadata": {},
   "source": [
    "\n"
   ]
  },
  {
   "cell_type": "markdown",
   "id": "73a0adeb",
   "metadata": {},
   "source": [
    "### Удаление дубликатов"
   ]
  },
  {
   "cell_type": "code",
   "execution_count": 25,
   "id": "37b36fbf",
   "metadata": {},
   "outputs": [
    {
     "data": {
      "text/plain": [
       "'Количество строк-дубликатов в таблице: 55'"
      ]
     },
     "execution_count": 25,
     "metadata": {},
     "output_type": "execute_result"
    }
   ],
   "source": [
    "# Проверим наличие строк-дубликатов в таблице\n",
    "f'Количество строк-дубликатов в таблице: {df.duplicated().sum()}'"
   ]
  },
  {
   "cell_type": "code",
   "execution_count": 26,
   "id": "bba372f5",
   "metadata": {},
   "outputs": [
    {
     "data": {
      "text/plain": [
       "'Количество строк-дубликатов в таблице: 0'"
      ]
     },
     "execution_count": 26,
     "metadata": {},
     "output_type": "execute_result"
    }
   ],
   "source": [
    "# Удалим строки-дубликаты, сбросим индексы и проверим снова таблицу\n",
    "df = df.drop_duplicates().reset_index(drop=True)\n",
    "f'Количество строк-дубликатов в таблице: {df.duplicated().sum()}'"
   ]
  },
  {
   "cell_type": "code",
   "execution_count": 27,
   "id": "e3b2257c",
   "metadata": {},
   "outputs": [
    {
     "data": {
      "text/plain": [
       "среднее                13704\n",
       "высшее                  4710\n",
       "СРЕДНЕЕ                  772\n",
       "Среднее                  711\n",
       "неоконченное высшее      668\n",
       "ВЫСШЕЕ                   273\n",
       "Высшее                   268\n",
       "начальное                250\n",
       "Неоконченное высшее       47\n",
       "НЕОКОНЧЕННОЕ ВЫСШЕЕ       29\n",
       "НАЧАЛЬНОЕ                 17\n",
       "Начальное                 15\n",
       "ученая степень             4\n",
       "УЧЕНАЯ СТЕПЕНЬ             1\n",
       "Ученая степень             1\n",
       "Name: education, dtype: int64"
      ]
     },
     "execution_count": 27,
     "metadata": {},
     "output_type": "execute_result"
    }
   ],
   "source": [
    "# Проверим на дубликаты столбец education\n",
    "df['education'].value_counts()"
   ]
  },
  {
   "cell_type": "markdown",
   "id": "a6aa5270",
   "metadata": {},
   "source": [
    "Можно заметить, что не хватает единого стиля написания категорий. "
   ]
  },
  {
   "cell_type": "code",
   "execution_count": 28,
   "id": "55e20f6d",
   "metadata": {
    "scrolled": true
   },
   "outputs": [
    {
     "data": {
      "text/plain": [
       "среднее                15187\n",
       "высшее                  5251\n",
       "неоконченное высшее      744\n",
       "начальное                282\n",
       "ученая степень             6\n",
       "Name: education, dtype: int64"
      ]
     },
     "execution_count": 28,
     "metadata": {},
     "output_type": "execute_result"
    }
   ],
   "source": [
    "# Приведём весь столбец к единообразному формату и отобразим полученный результат\n",
    "df.loc[:, 'education'] = df.loc[:, 'education'].str.lower()\n",
    "df['education'].value_counts()"
   ]
  },
  {
   "cell_type": "code",
   "execution_count": 29,
   "id": "0642af0b",
   "metadata": {},
   "outputs": [
    {
     "data": {
      "text/plain": [
       "'Количество строк-дубликатов в таблице: 17'"
      ]
     },
     "execution_count": 29,
     "metadata": {},
     "output_type": "execute_result"
    }
   ],
   "source": [
    "# Проверим датасет на дубликаты ещё раз\n",
    "f'Количество строк-дубликатов в таблице: {df.duplicated().sum()}'"
   ]
  },
  {
   "cell_type": "code",
   "execution_count": 30,
   "id": "0514d9f0",
   "metadata": {},
   "outputs": [
    {
     "data": {
      "text/plain": [
       "'Количество строк-дубликатов в таблице: 0'"
      ]
     },
     "execution_count": 30,
     "metadata": {},
     "output_type": "execute_result"
    }
   ],
   "source": [
    "# Удалим строки-дубликаты ещё раз, сбросим индексы и проверим снова таблицу\n",
    "df = df.drop_duplicates().reset_index(drop=True)\n",
    "f'Количество строк-дубликатов в таблице: {df.duplicated().sum()}'"
   ]
  },
  {
   "cell_type": "code",
   "execution_count": 31,
   "id": "533a4eb9",
   "metadata": {},
   "outputs": [
    {
     "data": {
      "text/plain": [
       "женат / замужем          12339\n",
       "гражданский брак          4150\n",
       "Не женат / не замужем     2810\n",
       "в разводе                 1195\n",
       "вдовец / вдова             959\n",
       "Name: family_status, dtype: int64"
      ]
     },
     "execution_count": 31,
     "metadata": {},
     "output_type": "execute_result"
    }
   ],
   "source": [
    "# Проверим на дубликаты столбец family_status\n",
    "df['family_status'].value_counts()"
   ]
  },
  {
   "cell_type": "markdown",
   "id": "168cb501",
   "metadata": {},
   "source": [
    "Здесь дубликатов не наблюдается"
   ]
  },
  {
   "cell_type": "code",
   "execution_count": 32,
   "id": "971a61f4",
   "metadata": {},
   "outputs": [
    {
     "data": {
      "text/plain": [
       "сотрудник          11083\n",
       "компаньон           5078\n",
       "пенсионер           3829\n",
       "госслужащий         1457\n",
       "безработный            2\n",
       "предприниматель        2\n",
       "студент                1\n",
       "в декрете              1\n",
       "Name: income_type, dtype: int64"
      ]
     },
     "execution_count": 32,
     "metadata": {},
     "output_type": "execute_result"
    }
   ],
   "source": [
    "# Проверим на дубликаты столбец income_type\n",
    "df['income_type'].value_counts()"
   ]
  },
  {
   "cell_type": "markdown",
   "id": "b666c1ac",
   "metadata": {},
   "source": [
    "Здесь так же дубликатов не наблюдается"
   ]
  },
  {
   "cell_type": "code",
   "execution_count": 33,
   "id": "64ca1bd9",
   "metadata": {},
   "outputs": [
    {
     "data": {
      "text/plain": [
       "свадьба                                   791\n",
       "на проведение свадьбы                     767\n",
       "сыграть свадьбу                           765\n",
       "операции с недвижимостью                  675\n",
       "покупка коммерческой недвижимости         661\n",
       "операции с жильем                         652\n",
       "покупка жилья для сдачи                   651\n",
       "операции с коммерческой недвижимостью     650\n",
       "покупка жилья                             646\n",
       "жилье                                     646\n",
       "покупка жилья для семьи                   638\n",
       "строительство собственной недвижимости    635\n",
       "недвижимость                              633\n",
       "операции со своей недвижимостью           627\n",
       "строительство жилой недвижимости          624\n",
       "покупка недвижимости                      621\n",
       "покупка своего жилья                      620\n",
       "строительство недвижимости                619\n",
       "ремонт жилью                              607\n",
       "покупка жилой недвижимости                606\n",
       "на покупку своего автомобиля              505\n",
       "заняться высшим образованием              496\n",
       "автомобиль                                494\n",
       "сделка с подержанным автомобилем          486\n",
       "свой автомобиль                           478\n",
       "на покупку подержанного автомобиля        478\n",
       "автомобили                                478\n",
       "на покупку автомобиля                     471\n",
       "приобретение автомобиля                   461\n",
       "дополнительное образование                460\n",
       "сделка с автомобилем                      455\n",
       "высшее образование                        452\n",
       "образование                               447\n",
       "получение дополнительного образования     446\n",
       "получение образования                     442\n",
       "профильное образование                    436\n",
       "получение высшего образования             426\n",
       "заняться образованием                     408\n",
       "Name: purpose, dtype: int64"
      ]
     },
     "execution_count": 33,
     "metadata": {},
     "output_type": "execute_result"
    }
   ],
   "source": [
    "# Проверим на дубликаты столбец purpose\n",
    "df['purpose'].value_counts()"
   ]
  },
  {
   "cell_type": "markdown",
   "id": "7ecdd07d",
   "metadata": {},
   "source": [
    "Присутствует явное смысловое дублирование. В дальнейшем буду избавляться от него."
   ]
  },
  {
   "cell_type": "markdown",
   "id": "fb0ef1f3",
   "metadata": {},
   "source": [
    "Для поиска дубликатов в таблице был использован метод `duplicated()`, который размечает всю таблицу как 'True/False', где 'True' помечаются строки, которые полностью дублированы.  \n",
    "Для поиска дубликатов в колонках был использован метод `value_counts()`, который подсчитывает уникальные значения в колонке и выводит их в формате таблицы, где первая колонка - это значение, а вторая - количество раз, которое данное значение встречается в колонке."
   ]
  },
  {
   "cell_type": "markdown",
   "id": "61ffdba3",
   "metadata": {},
   "source": [
    "Предположу, что причиной появления дубликатов является ручной ввод данных в некоторых колонках. Было бы практичнее вводить данные в данных колонках через выбор одного из доступных, заранее написанных значений."
   ]
  },
  {
   "cell_type": "markdown",
   "id": "fca806c4",
   "metadata": {},
   "source": [
    "### Формирование дополнительных датафреймов словарей, декомпозиция исходного датафрейма."
   ]
  },
  {
   "cell_type": "code",
   "execution_count": 34,
   "id": "7efad4d4",
   "metadata": {},
   "outputs": [
    {
     "data": {
      "text/html": [
       "<div>\n",
       "<style scoped>\n",
       "    .dataframe tbody tr th:only-of-type {\n",
       "        vertical-align: middle;\n",
       "    }\n",
       "\n",
       "    .dataframe tbody tr th {\n",
       "        vertical-align: top;\n",
       "    }\n",
       "\n",
       "    .dataframe thead th {\n",
       "        text-align: right;\n",
       "    }\n",
       "</style>\n",
       "<table border=\"1\" class=\"dataframe\">\n",
       "  <thead>\n",
       "    <tr style=\"text-align: right;\">\n",
       "      <th></th>\n",
       "      <th>education_id</th>\n",
       "      <th>education</th>\n",
       "    </tr>\n",
       "  </thead>\n",
       "  <tbody>\n",
       "    <tr>\n",
       "      <td>0</td>\n",
       "      <td>0</td>\n",
       "      <td>высшее</td>\n",
       "    </tr>\n",
       "    <tr>\n",
       "      <td>1</td>\n",
       "      <td>1</td>\n",
       "      <td>среднее</td>\n",
       "    </tr>\n",
       "    <tr>\n",
       "      <td>2</td>\n",
       "      <td>2</td>\n",
       "      <td>неоконченное высшее</td>\n",
       "    </tr>\n",
       "    <tr>\n",
       "      <td>3</td>\n",
       "      <td>3</td>\n",
       "      <td>начальное</td>\n",
       "    </tr>\n",
       "    <tr>\n",
       "      <td>4</td>\n",
       "      <td>4</td>\n",
       "      <td>ученая степень</td>\n",
       "    </tr>\n",
       "  </tbody>\n",
       "</table>\n",
       "</div>"
      ],
      "text/plain": [
       "   education_id            education\n",
       "0             0               высшее\n",
       "1             1              среднее\n",
       "2             2  неоконченное высшее\n",
       "3             3            начальное\n",
       "4             4       ученая степень"
      ]
     },
     "execution_count": 34,
     "metadata": {},
     "output_type": "execute_result"
    }
   ],
   "source": [
    "# Создадим отдельный датафрейм с категориями образования\n",
    "education_dict = df[['education_id', 'education']]\n",
    "education_dict = education_dict.drop_duplicates().reset_index(drop=True)\n",
    "education_dict"
   ]
  },
  {
   "cell_type": "code",
   "execution_count": 35,
   "id": "b00863a7",
   "metadata": {},
   "outputs": [
    {
     "data": {
      "text/html": [
       "<div>\n",
       "<style scoped>\n",
       "    .dataframe tbody tr th:only-of-type {\n",
       "        vertical-align: middle;\n",
       "    }\n",
       "\n",
       "    .dataframe tbody tr th {\n",
       "        vertical-align: top;\n",
       "    }\n",
       "\n",
       "    .dataframe thead th {\n",
       "        text-align: right;\n",
       "    }\n",
       "</style>\n",
       "<table border=\"1\" class=\"dataframe\">\n",
       "  <thead>\n",
       "    <tr style=\"text-align: right;\">\n",
       "      <th></th>\n",
       "      <th>family_status_id</th>\n",
       "      <th>family_status</th>\n",
       "    </tr>\n",
       "  </thead>\n",
       "  <tbody>\n",
       "    <tr>\n",
       "      <td>0</td>\n",
       "      <td>0</td>\n",
       "      <td>женат / замужем</td>\n",
       "    </tr>\n",
       "    <tr>\n",
       "      <td>1</td>\n",
       "      <td>1</td>\n",
       "      <td>гражданский брак</td>\n",
       "    </tr>\n",
       "    <tr>\n",
       "      <td>2</td>\n",
       "      <td>2</td>\n",
       "      <td>вдовец / вдова</td>\n",
       "    </tr>\n",
       "    <tr>\n",
       "      <td>3</td>\n",
       "      <td>3</td>\n",
       "      <td>в разводе</td>\n",
       "    </tr>\n",
       "    <tr>\n",
       "      <td>4</td>\n",
       "      <td>4</td>\n",
       "      <td>Не женат / не замужем</td>\n",
       "    </tr>\n",
       "  </tbody>\n",
       "</table>\n",
       "</div>"
      ],
      "text/plain": [
       "   family_status_id          family_status\n",
       "0                 0        женат / замужем\n",
       "1                 1       гражданский брак\n",
       "2                 2         вдовец / вдова\n",
       "3                 3              в разводе\n",
       "4                 4  Не женат / не замужем"
      ]
     },
     "execution_count": 35,
     "metadata": {},
     "output_type": "execute_result"
    }
   ],
   "source": [
    "# Создадим отдельный датафрейм с категориями семейного положения\n",
    "family_status_dict = df[['family_status_id', 'family_status']]\n",
    "family_status_dict = family_status_dict.drop_duplicates().reset_index(drop=True)\n",
    "family_status_dict"
   ]
  },
  {
   "cell_type": "code",
   "execution_count": 36,
   "id": "f5bafc73",
   "metadata": {},
   "outputs": [
    {
     "data": {
      "text/html": [
       "<div>\n",
       "<style scoped>\n",
       "    .dataframe tbody tr th:only-of-type {\n",
       "        vertical-align: middle;\n",
       "    }\n",
       "\n",
       "    .dataframe tbody tr th {\n",
       "        vertical-align: top;\n",
       "    }\n",
       "\n",
       "    .dataframe thead th {\n",
       "        text-align: right;\n",
       "    }\n",
       "</style>\n",
       "<table border=\"1\" class=\"dataframe\">\n",
       "  <thead>\n",
       "    <tr style=\"text-align: right;\">\n",
       "      <th></th>\n",
       "      <th>children</th>\n",
       "      <th>days_employed</th>\n",
       "      <th>dob_years</th>\n",
       "      <th>education_id</th>\n",
       "      <th>family_status_id</th>\n",
       "      <th>gender</th>\n",
       "      <th>income_type</th>\n",
       "      <th>debt</th>\n",
       "      <th>total_income</th>\n",
       "      <th>purpose</th>\n",
       "    </tr>\n",
       "  </thead>\n",
       "  <tbody>\n",
       "    <tr>\n",
       "      <td>0</td>\n",
       "      <td>1</td>\n",
       "      <td>8437</td>\n",
       "      <td>42.0</td>\n",
       "      <td>0</td>\n",
       "      <td>0</td>\n",
       "      <td>F</td>\n",
       "      <td>сотрудник</td>\n",
       "      <td>0</td>\n",
       "      <td>253875</td>\n",
       "      <td>покупка жилья</td>\n",
       "    </tr>\n",
       "    <tr>\n",
       "      <td>1</td>\n",
       "      <td>1</td>\n",
       "      <td>4024</td>\n",
       "      <td>36.0</td>\n",
       "      <td>1</td>\n",
       "      <td>0</td>\n",
       "      <td>F</td>\n",
       "      <td>сотрудник</td>\n",
       "      <td>0</td>\n",
       "      <td>112080</td>\n",
       "      <td>приобретение автомобиля</td>\n",
       "    </tr>\n",
       "    <tr>\n",
       "      <td>2</td>\n",
       "      <td>0</td>\n",
       "      <td>5623</td>\n",
       "      <td>33.0</td>\n",
       "      <td>1</td>\n",
       "      <td>0</td>\n",
       "      <td>M</td>\n",
       "      <td>сотрудник</td>\n",
       "      <td>0</td>\n",
       "      <td>145885</td>\n",
       "      <td>покупка жилья</td>\n",
       "    </tr>\n",
       "    <tr>\n",
       "      <td>3</td>\n",
       "      <td>3</td>\n",
       "      <td>4124</td>\n",
       "      <td>32.0</td>\n",
       "      <td>1</td>\n",
       "      <td>0</td>\n",
       "      <td>M</td>\n",
       "      <td>сотрудник</td>\n",
       "      <td>0</td>\n",
       "      <td>267628</td>\n",
       "      <td>дополнительное образование</td>\n",
       "    </tr>\n",
       "    <tr>\n",
       "      <td>4</td>\n",
       "      <td>0</td>\n",
       "      <td>340266</td>\n",
       "      <td>53.0</td>\n",
       "      <td>1</td>\n",
       "      <td>1</td>\n",
       "      <td>F</td>\n",
       "      <td>пенсионер</td>\n",
       "      <td>0</td>\n",
       "      <td>158616</td>\n",
       "      <td>сыграть свадьбу</td>\n",
       "    </tr>\n",
       "    <tr>\n",
       "      <td>...</td>\n",
       "      <td>...</td>\n",
       "      <td>...</td>\n",
       "      <td>...</td>\n",
       "      <td>...</td>\n",
       "      <td>...</td>\n",
       "      <td>...</td>\n",
       "      <td>...</td>\n",
       "      <td>...</td>\n",
       "      <td>...</td>\n",
       "      <td>...</td>\n",
       "    </tr>\n",
       "    <tr>\n",
       "      <td>21448</td>\n",
       "      <td>1</td>\n",
       "      <td>4529</td>\n",
       "      <td>43.0</td>\n",
       "      <td>1</td>\n",
       "      <td>1</td>\n",
       "      <td>F</td>\n",
       "      <td>компаньон</td>\n",
       "      <td>0</td>\n",
       "      <td>224791</td>\n",
       "      <td>операции с жильем</td>\n",
       "    </tr>\n",
       "    <tr>\n",
       "      <td>21449</td>\n",
       "      <td>0</td>\n",
       "      <td>343937</td>\n",
       "      <td>67.0</td>\n",
       "      <td>1</td>\n",
       "      <td>0</td>\n",
       "      <td>F</td>\n",
       "      <td>пенсионер</td>\n",
       "      <td>0</td>\n",
       "      <td>155999</td>\n",
       "      <td>сделка с автомобилем</td>\n",
       "    </tr>\n",
       "    <tr>\n",
       "      <td>21450</td>\n",
       "      <td>1</td>\n",
       "      <td>2113</td>\n",
       "      <td>38.0</td>\n",
       "      <td>1</td>\n",
       "      <td>1</td>\n",
       "      <td>M</td>\n",
       "      <td>сотрудник</td>\n",
       "      <td>1</td>\n",
       "      <td>89672</td>\n",
       "      <td>недвижимость</td>\n",
       "    </tr>\n",
       "    <tr>\n",
       "      <td>21451</td>\n",
       "      <td>3</td>\n",
       "      <td>3112</td>\n",
       "      <td>38.0</td>\n",
       "      <td>1</td>\n",
       "      <td>0</td>\n",
       "      <td>M</td>\n",
       "      <td>сотрудник</td>\n",
       "      <td>1</td>\n",
       "      <td>244093</td>\n",
       "      <td>на покупку своего автомобиля</td>\n",
       "    </tr>\n",
       "    <tr>\n",
       "      <td>21452</td>\n",
       "      <td>2</td>\n",
       "      <td>1984</td>\n",
       "      <td>40.0</td>\n",
       "      <td>1</td>\n",
       "      <td>0</td>\n",
       "      <td>F</td>\n",
       "      <td>сотрудник</td>\n",
       "      <td>0</td>\n",
       "      <td>82047</td>\n",
       "      <td>на покупку автомобиля</td>\n",
       "    </tr>\n",
       "  </tbody>\n",
       "</table>\n",
       "<p>21453 rows × 10 columns</p>\n",
       "</div>"
      ],
      "text/plain": [
       "       children  days_employed  dob_years  education_id  family_status_id  \\\n",
       "0             1           8437       42.0             0                 0   \n",
       "1             1           4024       36.0             1                 0   \n",
       "2             0           5623       33.0             1                 0   \n",
       "3             3           4124       32.0             1                 0   \n",
       "4             0         340266       53.0             1                 1   \n",
       "...         ...            ...        ...           ...               ...   \n",
       "21448         1           4529       43.0             1                 1   \n",
       "21449         0         343937       67.0             1                 0   \n",
       "21450         1           2113       38.0             1                 1   \n",
       "21451         3           3112       38.0             1                 0   \n",
       "21452         2           1984       40.0             1                 0   \n",
       "\n",
       "      gender income_type  debt  total_income                       purpose  \n",
       "0          F   сотрудник     0        253875                 покупка жилья  \n",
       "1          F   сотрудник     0        112080       приобретение автомобиля  \n",
       "2          M   сотрудник     0        145885                 покупка жилья  \n",
       "3          M   сотрудник     0        267628    дополнительное образование  \n",
       "4          F   пенсионер     0        158616               сыграть свадьбу  \n",
       "...      ...         ...   ...           ...                           ...  \n",
       "21448      F   компаньон     0        224791             операции с жильем  \n",
       "21449      F   пенсионер     0        155999          сделка с автомобилем  \n",
       "21450      M   сотрудник     1         89672                  недвижимость  \n",
       "21451      M   сотрудник     1        244093  на покупку своего автомобиля  \n",
       "21452      F   сотрудник     0         82047         на покупку автомобиля  \n",
       "\n",
       "[21453 rows x 10 columns]"
      ]
     },
     "execution_count": 36,
     "metadata": {},
     "output_type": "execute_result"
    }
   ],
   "source": [
    "# Удалим столбцы education и family_status из основного датафрейма, \n",
    "# т.к. они нам там больше не нужны и посмотрим на результат\n",
    "df = df.drop(['education', 'family_status'], axis=1)\n",
    "df"
   ]
  },
  {
   "cell_type": "markdown",
   "id": "d97f3324",
   "metadata": {},
   "source": [
    "### Категоризация дохода."
   ]
  },
  {
   "cell_type": "markdown",
   "id": "697a9318",
   "metadata": {},
   "source": [
    "Дополнительные датафреймы созданы. Теперь добавим столбец `total_income_category` с категориями в зависимости от дохода кредитополучателя."
   ]
  },
  {
   "cell_type": "code",
   "execution_count": 37,
   "id": "d373178d",
   "metadata": {},
   "outputs": [],
   "source": [
    "def set_total_income_category(total_income: int) -> str:\n",
    "    \"\"\"\n",
    "    В зависимости от значения в столбце total_income,\n",
    "    присваивается одно из значение ниже в столбец total_income_category:\n",
    "    0–30000 — 'E';\n",
    "    30001–50000 — 'D';\n",
    "    50001–200000 — 'C';\n",
    "    200001–1000000 — 'B';\n",
    "    1000001 и выше — 'A'.\n",
    "    Например, кредитополучателю с доходом 25000 нужно назначить категорию 'E', а клиенту, получающему 235000, — 'B'\n",
    "    \"\"\"\n",
    "    try:\n",
    "        if 0 <= total_income <= 30000:\n",
    "            return 'E'\n",
    "        elif 30001 <= total_income <= 50000:\n",
    "            return 'D'\n",
    "        elif 50001 <= total_income <= 200000:\n",
    "            return 'C'\n",
    "        elif 200001 <= total_income <= 1000000:\n",
    "            return 'B'\n",
    "        elif 1000001 <= total_income:\n",
    "            return 'A'\n",
    "        else:\n",
    "            return 'None'\n",
    "    except Error:\n",
    "        print(f'Неккоректное значение: {total_income}')"
   ]
  },
  {
   "cell_type": "code",
   "execution_count": 38,
   "id": "c6a0008d",
   "metadata": {},
   "outputs": [
    {
     "data": {
      "text/html": [
       "<div>\n",
       "<style scoped>\n",
       "    .dataframe tbody tr th:only-of-type {\n",
       "        vertical-align: middle;\n",
       "    }\n",
       "\n",
       "    .dataframe tbody tr th {\n",
       "        vertical-align: top;\n",
       "    }\n",
       "\n",
       "    .dataframe thead th {\n",
       "        text-align: right;\n",
       "    }\n",
       "</style>\n",
       "<table border=\"1\" class=\"dataframe\">\n",
       "  <thead>\n",
       "    <tr style=\"text-align: right;\">\n",
       "      <th></th>\n",
       "      <th>children</th>\n",
       "      <th>days_employed</th>\n",
       "      <th>dob_years</th>\n",
       "      <th>education_id</th>\n",
       "      <th>family_status_id</th>\n",
       "      <th>gender</th>\n",
       "      <th>income_type</th>\n",
       "      <th>debt</th>\n",
       "      <th>total_income</th>\n",
       "      <th>purpose</th>\n",
       "      <th>total_income_category</th>\n",
       "    </tr>\n",
       "  </thead>\n",
       "  <tbody>\n",
       "    <tr>\n",
       "      <td>0</td>\n",
       "      <td>1</td>\n",
       "      <td>8437</td>\n",
       "      <td>42.0</td>\n",
       "      <td>0</td>\n",
       "      <td>0</td>\n",
       "      <td>F</td>\n",
       "      <td>сотрудник</td>\n",
       "      <td>0</td>\n",
       "      <td>253875</td>\n",
       "      <td>покупка жилья</td>\n",
       "      <td>B</td>\n",
       "    </tr>\n",
       "    <tr>\n",
       "      <td>1</td>\n",
       "      <td>1</td>\n",
       "      <td>4024</td>\n",
       "      <td>36.0</td>\n",
       "      <td>1</td>\n",
       "      <td>0</td>\n",
       "      <td>F</td>\n",
       "      <td>сотрудник</td>\n",
       "      <td>0</td>\n",
       "      <td>112080</td>\n",
       "      <td>приобретение автомобиля</td>\n",
       "      <td>C</td>\n",
       "    </tr>\n",
       "    <tr>\n",
       "      <td>2</td>\n",
       "      <td>0</td>\n",
       "      <td>5623</td>\n",
       "      <td>33.0</td>\n",
       "      <td>1</td>\n",
       "      <td>0</td>\n",
       "      <td>M</td>\n",
       "      <td>сотрудник</td>\n",
       "      <td>0</td>\n",
       "      <td>145885</td>\n",
       "      <td>покупка жилья</td>\n",
       "      <td>C</td>\n",
       "    </tr>\n",
       "    <tr>\n",
       "      <td>3</td>\n",
       "      <td>3</td>\n",
       "      <td>4124</td>\n",
       "      <td>32.0</td>\n",
       "      <td>1</td>\n",
       "      <td>0</td>\n",
       "      <td>M</td>\n",
       "      <td>сотрудник</td>\n",
       "      <td>0</td>\n",
       "      <td>267628</td>\n",
       "      <td>дополнительное образование</td>\n",
       "      <td>B</td>\n",
       "    </tr>\n",
       "    <tr>\n",
       "      <td>4</td>\n",
       "      <td>0</td>\n",
       "      <td>340266</td>\n",
       "      <td>53.0</td>\n",
       "      <td>1</td>\n",
       "      <td>1</td>\n",
       "      <td>F</td>\n",
       "      <td>пенсионер</td>\n",
       "      <td>0</td>\n",
       "      <td>158616</td>\n",
       "      <td>сыграть свадьбу</td>\n",
       "      <td>C</td>\n",
       "    </tr>\n",
       "    <tr>\n",
       "      <td>...</td>\n",
       "      <td>...</td>\n",
       "      <td>...</td>\n",
       "      <td>...</td>\n",
       "      <td>...</td>\n",
       "      <td>...</td>\n",
       "      <td>...</td>\n",
       "      <td>...</td>\n",
       "      <td>...</td>\n",
       "      <td>...</td>\n",
       "      <td>...</td>\n",
       "      <td>...</td>\n",
       "    </tr>\n",
       "    <tr>\n",
       "      <td>21448</td>\n",
       "      <td>1</td>\n",
       "      <td>4529</td>\n",
       "      <td>43.0</td>\n",
       "      <td>1</td>\n",
       "      <td>1</td>\n",
       "      <td>F</td>\n",
       "      <td>компаньон</td>\n",
       "      <td>0</td>\n",
       "      <td>224791</td>\n",
       "      <td>операции с жильем</td>\n",
       "      <td>B</td>\n",
       "    </tr>\n",
       "    <tr>\n",
       "      <td>21449</td>\n",
       "      <td>0</td>\n",
       "      <td>343937</td>\n",
       "      <td>67.0</td>\n",
       "      <td>1</td>\n",
       "      <td>0</td>\n",
       "      <td>F</td>\n",
       "      <td>пенсионер</td>\n",
       "      <td>0</td>\n",
       "      <td>155999</td>\n",
       "      <td>сделка с автомобилем</td>\n",
       "      <td>C</td>\n",
       "    </tr>\n",
       "    <tr>\n",
       "      <td>21450</td>\n",
       "      <td>1</td>\n",
       "      <td>2113</td>\n",
       "      <td>38.0</td>\n",
       "      <td>1</td>\n",
       "      <td>1</td>\n",
       "      <td>M</td>\n",
       "      <td>сотрудник</td>\n",
       "      <td>1</td>\n",
       "      <td>89672</td>\n",
       "      <td>недвижимость</td>\n",
       "      <td>C</td>\n",
       "    </tr>\n",
       "    <tr>\n",
       "      <td>21451</td>\n",
       "      <td>3</td>\n",
       "      <td>3112</td>\n",
       "      <td>38.0</td>\n",
       "      <td>1</td>\n",
       "      <td>0</td>\n",
       "      <td>M</td>\n",
       "      <td>сотрудник</td>\n",
       "      <td>1</td>\n",
       "      <td>244093</td>\n",
       "      <td>на покупку своего автомобиля</td>\n",
       "      <td>B</td>\n",
       "    </tr>\n",
       "    <tr>\n",
       "      <td>21452</td>\n",
       "      <td>2</td>\n",
       "      <td>1984</td>\n",
       "      <td>40.0</td>\n",
       "      <td>1</td>\n",
       "      <td>0</td>\n",
       "      <td>F</td>\n",
       "      <td>сотрудник</td>\n",
       "      <td>0</td>\n",
       "      <td>82047</td>\n",
       "      <td>на покупку автомобиля</td>\n",
       "      <td>C</td>\n",
       "    </tr>\n",
       "  </tbody>\n",
       "</table>\n",
       "<p>21453 rows × 11 columns</p>\n",
       "</div>"
      ],
      "text/plain": [
       "       children  days_employed  dob_years  education_id  family_status_id  \\\n",
       "0             1           8437       42.0             0                 0   \n",
       "1             1           4024       36.0             1                 0   \n",
       "2             0           5623       33.0             1                 0   \n",
       "3             3           4124       32.0             1                 0   \n",
       "4             0         340266       53.0             1                 1   \n",
       "...         ...            ...        ...           ...               ...   \n",
       "21448         1           4529       43.0             1                 1   \n",
       "21449         0         343937       67.0             1                 0   \n",
       "21450         1           2113       38.0             1                 1   \n",
       "21451         3           3112       38.0             1                 0   \n",
       "21452         2           1984       40.0             1                 0   \n",
       "\n",
       "      gender income_type  debt  total_income                       purpose  \\\n",
       "0          F   сотрудник     0        253875                 покупка жилья   \n",
       "1          F   сотрудник     0        112080       приобретение автомобиля   \n",
       "2          M   сотрудник     0        145885                 покупка жилья   \n",
       "3          M   сотрудник     0        267628    дополнительное образование   \n",
       "4          F   пенсионер     0        158616               сыграть свадьбу   \n",
       "...      ...         ...   ...           ...                           ...   \n",
       "21448      F   компаньон     0        224791             операции с жильем   \n",
       "21449      F   пенсионер     0        155999          сделка с автомобилем   \n",
       "21450      M   сотрудник     1         89672                  недвижимость   \n",
       "21451      M   сотрудник     1        244093  на покупку своего автомобиля   \n",
       "21452      F   сотрудник     0         82047         на покупку автомобиля   \n",
       "\n",
       "      total_income_category  \n",
       "0                         B  \n",
       "1                         C  \n",
       "2                         C  \n",
       "3                         B  \n",
       "4                         C  \n",
       "...                     ...  \n",
       "21448                     B  \n",
       "21449                     C  \n",
       "21450                     C  \n",
       "21451                     B  \n",
       "21452                     C  \n",
       "\n",
       "[21453 rows x 11 columns]"
      ]
     },
     "execution_count": 38,
     "metadata": {},
     "output_type": "execute_result"
    }
   ],
   "source": [
    "# Применим функцию set_total_income_category к новому столбцу total_income_category\n",
    "df['total_income_category'] = df['total_income'].apply(set_total_income_category)\n",
    "df"
   ]
  },
  {
   "cell_type": "code",
   "execution_count": 39,
   "id": "340df8b7",
   "metadata": {},
   "outputs": [
    {
     "data": {
      "text/plain": [
       "'Пропущенных значений: 0'"
      ]
     },
     "execution_count": 39,
     "metadata": {},
     "output_type": "execute_result"
    }
   ],
   "source": [
    "# Убедимся, что в колонке нет пропущенных значений после применения функции\n",
    "result = df['total_income_category'].isna().sum()\n",
    "f'Пропущенных значений: {result}'"
   ]
  },
  {
   "cell_type": "markdown",
   "id": "032fe221",
   "metadata": {},
   "source": [
    "### Категоризация целей кредита."
   ]
  },
  {
   "cell_type": "markdown",
   "id": "d38d0a6e",
   "metadata": {},
   "source": [
    "Теперь добавим новый столбец `purpose_category`, в котором в зависимости от значения в столбцу `purpose` будем определять категорию кредита.  \n",
    "\n",
    "\n",
    "Категории будут следующие:\n",
    "* `'операции с автомобилем'`,\n",
    "* `'операции с недвижимостью'`,\n",
    "* `'проведение свадьбы'`,\n",
    "* `'получение образования'`."
   ]
  },
  {
   "cell_type": "code",
   "execution_count": 40,
   "id": "0179a9ef",
   "metadata": {},
   "outputs": [],
   "source": [
    "# Определим функцию set_purpose_category\n",
    "def set_purpose_category(purpose: str) -> str:\n",
    "    \"\"\"\n",
    "    Если в строке `purpose` содержится строка слева от дефиса,\n",
    "    то возвращается категория справа от дефиса:\n",
    "    'автомобил' - 'операции с автомобилем',\n",
    "    'жиль','недвижимост' - 'операции с недвижимостью',\n",
    "    'свадьб' - 'проведение свадьбы',\n",
    "    'образовани' - 'получение образования'\n",
    "    \"\"\"\n",
    "    try:\n",
    "        if 'автомобил' in purpose:\n",
    "            return 'операции с автомобилем'\n",
    "        elif 'жиль' in purpose or 'недвижимост' in purpose:\n",
    "            return 'операции с недвижимостью'\n",
    "        elif 'свадьб' in purpose:\n",
    "            return 'проведение свадьбы'\n",
    "        elif 'образовани' in purpose:\n",
    "            return 'получение образования'\n",
    "        else:\n",
    "            return 'None'\n",
    "    except Error:\n",
    "        print(f'Неккоректное значение: {purpose}')"
   ]
  },
  {
   "cell_type": "code",
   "execution_count": 41,
   "id": "038bdb26",
   "metadata": {},
   "outputs": [
    {
     "data": {
      "text/html": [
       "<div>\n",
       "<style scoped>\n",
       "    .dataframe tbody tr th:only-of-type {\n",
       "        vertical-align: middle;\n",
       "    }\n",
       "\n",
       "    .dataframe tbody tr th {\n",
       "        vertical-align: top;\n",
       "    }\n",
       "\n",
       "    .dataframe thead th {\n",
       "        text-align: right;\n",
       "    }\n",
       "</style>\n",
       "<table border=\"1\" class=\"dataframe\">\n",
       "  <thead>\n",
       "    <tr style=\"text-align: right;\">\n",
       "      <th></th>\n",
       "      <th>children</th>\n",
       "      <th>days_employed</th>\n",
       "      <th>dob_years</th>\n",
       "      <th>education_id</th>\n",
       "      <th>family_status_id</th>\n",
       "      <th>gender</th>\n",
       "      <th>income_type</th>\n",
       "      <th>debt</th>\n",
       "      <th>total_income</th>\n",
       "      <th>purpose</th>\n",
       "      <th>total_income_category</th>\n",
       "      <th>purpose_category</th>\n",
       "    </tr>\n",
       "  </thead>\n",
       "  <tbody>\n",
       "    <tr>\n",
       "      <td>0</td>\n",
       "      <td>1</td>\n",
       "      <td>8437</td>\n",
       "      <td>42.0</td>\n",
       "      <td>0</td>\n",
       "      <td>0</td>\n",
       "      <td>F</td>\n",
       "      <td>сотрудник</td>\n",
       "      <td>0</td>\n",
       "      <td>253875</td>\n",
       "      <td>покупка жилья</td>\n",
       "      <td>B</td>\n",
       "      <td>операции с недвижимостью</td>\n",
       "    </tr>\n",
       "    <tr>\n",
       "      <td>1</td>\n",
       "      <td>1</td>\n",
       "      <td>4024</td>\n",
       "      <td>36.0</td>\n",
       "      <td>1</td>\n",
       "      <td>0</td>\n",
       "      <td>F</td>\n",
       "      <td>сотрудник</td>\n",
       "      <td>0</td>\n",
       "      <td>112080</td>\n",
       "      <td>приобретение автомобиля</td>\n",
       "      <td>C</td>\n",
       "      <td>операции с автомобилем</td>\n",
       "    </tr>\n",
       "    <tr>\n",
       "      <td>2</td>\n",
       "      <td>0</td>\n",
       "      <td>5623</td>\n",
       "      <td>33.0</td>\n",
       "      <td>1</td>\n",
       "      <td>0</td>\n",
       "      <td>M</td>\n",
       "      <td>сотрудник</td>\n",
       "      <td>0</td>\n",
       "      <td>145885</td>\n",
       "      <td>покупка жилья</td>\n",
       "      <td>C</td>\n",
       "      <td>операции с недвижимостью</td>\n",
       "    </tr>\n",
       "    <tr>\n",
       "      <td>3</td>\n",
       "      <td>3</td>\n",
       "      <td>4124</td>\n",
       "      <td>32.0</td>\n",
       "      <td>1</td>\n",
       "      <td>0</td>\n",
       "      <td>M</td>\n",
       "      <td>сотрудник</td>\n",
       "      <td>0</td>\n",
       "      <td>267628</td>\n",
       "      <td>дополнительное образование</td>\n",
       "      <td>B</td>\n",
       "      <td>получение образования</td>\n",
       "    </tr>\n",
       "    <tr>\n",
       "      <td>4</td>\n",
       "      <td>0</td>\n",
       "      <td>340266</td>\n",
       "      <td>53.0</td>\n",
       "      <td>1</td>\n",
       "      <td>1</td>\n",
       "      <td>F</td>\n",
       "      <td>пенсионер</td>\n",
       "      <td>0</td>\n",
       "      <td>158616</td>\n",
       "      <td>сыграть свадьбу</td>\n",
       "      <td>C</td>\n",
       "      <td>проведение свадьбы</td>\n",
       "    </tr>\n",
       "    <tr>\n",
       "      <td>...</td>\n",
       "      <td>...</td>\n",
       "      <td>...</td>\n",
       "      <td>...</td>\n",
       "      <td>...</td>\n",
       "      <td>...</td>\n",
       "      <td>...</td>\n",
       "      <td>...</td>\n",
       "      <td>...</td>\n",
       "      <td>...</td>\n",
       "      <td>...</td>\n",
       "      <td>...</td>\n",
       "      <td>...</td>\n",
       "    </tr>\n",
       "    <tr>\n",
       "      <td>21448</td>\n",
       "      <td>1</td>\n",
       "      <td>4529</td>\n",
       "      <td>43.0</td>\n",
       "      <td>1</td>\n",
       "      <td>1</td>\n",
       "      <td>F</td>\n",
       "      <td>компаньон</td>\n",
       "      <td>0</td>\n",
       "      <td>224791</td>\n",
       "      <td>операции с жильем</td>\n",
       "      <td>B</td>\n",
       "      <td>операции с недвижимостью</td>\n",
       "    </tr>\n",
       "    <tr>\n",
       "      <td>21449</td>\n",
       "      <td>0</td>\n",
       "      <td>343937</td>\n",
       "      <td>67.0</td>\n",
       "      <td>1</td>\n",
       "      <td>0</td>\n",
       "      <td>F</td>\n",
       "      <td>пенсионер</td>\n",
       "      <td>0</td>\n",
       "      <td>155999</td>\n",
       "      <td>сделка с автомобилем</td>\n",
       "      <td>C</td>\n",
       "      <td>операции с автомобилем</td>\n",
       "    </tr>\n",
       "    <tr>\n",
       "      <td>21450</td>\n",
       "      <td>1</td>\n",
       "      <td>2113</td>\n",
       "      <td>38.0</td>\n",
       "      <td>1</td>\n",
       "      <td>1</td>\n",
       "      <td>M</td>\n",
       "      <td>сотрудник</td>\n",
       "      <td>1</td>\n",
       "      <td>89672</td>\n",
       "      <td>недвижимость</td>\n",
       "      <td>C</td>\n",
       "      <td>операции с недвижимостью</td>\n",
       "    </tr>\n",
       "    <tr>\n",
       "      <td>21451</td>\n",
       "      <td>3</td>\n",
       "      <td>3112</td>\n",
       "      <td>38.0</td>\n",
       "      <td>1</td>\n",
       "      <td>0</td>\n",
       "      <td>M</td>\n",
       "      <td>сотрудник</td>\n",
       "      <td>1</td>\n",
       "      <td>244093</td>\n",
       "      <td>на покупку своего автомобиля</td>\n",
       "      <td>B</td>\n",
       "      <td>операции с автомобилем</td>\n",
       "    </tr>\n",
       "    <tr>\n",
       "      <td>21452</td>\n",
       "      <td>2</td>\n",
       "      <td>1984</td>\n",
       "      <td>40.0</td>\n",
       "      <td>1</td>\n",
       "      <td>0</td>\n",
       "      <td>F</td>\n",
       "      <td>сотрудник</td>\n",
       "      <td>0</td>\n",
       "      <td>82047</td>\n",
       "      <td>на покупку автомобиля</td>\n",
       "      <td>C</td>\n",
       "      <td>операции с автомобилем</td>\n",
       "    </tr>\n",
       "  </tbody>\n",
       "</table>\n",
       "<p>21453 rows × 12 columns</p>\n",
       "</div>"
      ],
      "text/plain": [
       "       children  days_employed  dob_years  education_id  family_status_id  \\\n",
       "0             1           8437       42.0             0                 0   \n",
       "1             1           4024       36.0             1                 0   \n",
       "2             0           5623       33.0             1                 0   \n",
       "3             3           4124       32.0             1                 0   \n",
       "4             0         340266       53.0             1                 1   \n",
       "...         ...            ...        ...           ...               ...   \n",
       "21448         1           4529       43.0             1                 1   \n",
       "21449         0         343937       67.0             1                 0   \n",
       "21450         1           2113       38.0             1                 1   \n",
       "21451         3           3112       38.0             1                 0   \n",
       "21452         2           1984       40.0             1                 0   \n",
       "\n",
       "      gender income_type  debt  total_income                       purpose  \\\n",
       "0          F   сотрудник     0        253875                 покупка жилья   \n",
       "1          F   сотрудник     0        112080       приобретение автомобиля   \n",
       "2          M   сотрудник     0        145885                 покупка жилья   \n",
       "3          M   сотрудник     0        267628    дополнительное образование   \n",
       "4          F   пенсионер     0        158616               сыграть свадьбу   \n",
       "...      ...         ...   ...           ...                           ...   \n",
       "21448      F   компаньон     0        224791             операции с жильем   \n",
       "21449      F   пенсионер     0        155999          сделка с автомобилем   \n",
       "21450      M   сотрудник     1         89672                  недвижимость   \n",
       "21451      M   сотрудник     1        244093  на покупку своего автомобиля   \n",
       "21452      F   сотрудник     0         82047         на покупку автомобиля   \n",
       "\n",
       "      total_income_category          purpose_category  \n",
       "0                         B  операции с недвижимостью  \n",
       "1                         C    операции с автомобилем  \n",
       "2                         C  операции с недвижимостью  \n",
       "3                         B     получение образования  \n",
       "4                         C        проведение свадьбы  \n",
       "...                     ...                       ...  \n",
       "21448                     B  операции с недвижимостью  \n",
       "21449                     C    операции с автомобилем  \n",
       "21450                     C  операции с недвижимостью  \n",
       "21451                     B    операции с автомобилем  \n",
       "21452                     C    операции с автомобилем  \n",
       "\n",
       "[21453 rows x 12 columns]"
      ]
     },
     "execution_count": 41,
     "metadata": {},
     "output_type": "execute_result"
    }
   ],
   "source": [
    "# Применим функцию set_purpose_category к новому столбцу purpose_category\n",
    "df['purpose_category'] = df['purpose'].apply(set_purpose_category)\n",
    "df"
   ]
  },
  {
   "cell_type": "code",
   "execution_count": 42,
   "id": "4575ca48",
   "metadata": {},
   "outputs": [
    {
     "data": {
      "text/plain": [
       "'Пропущенных значений: 0'"
      ]
     },
     "execution_count": 42,
     "metadata": {},
     "output_type": "execute_result"
    }
   ],
   "source": [
    "# Убедимся, что в колонке нет пропущенных значений после применения функции\n",
    "result = df['purpose_category'].isna().sum()\n",
    "f'Пропущенных значений: {result}'"
   ]
  },
  {
   "cell_type": "markdown",
   "id": "863f0174",
   "metadata": {},
   "source": [
    "### Заключение по предобработке датасета"
   ]
  },
  {
   "cell_type": "markdown",
   "id": "e83122d4",
   "metadata": {},
   "source": [
    "В данных были обнаружены пропуски, аномалии, несоответствие типов данных и дубликаты.\n",
    "Пропуски в данных составили около 10% от общего количества данных, они были заполнены медианой. \n",
    "Аномалии заключались в отрицательных значениях, нулевых значениях и неккоретных значениях.\n",
    "Дубликаты были удалены. Тип данных нескольких столбцов был изменён. \n",
    "\n",
    "Аномалии в данных скорее всего были вызваны некорректным заполнением базы данных. Эти ошибки в данных серьезно могут влиять на аналитические вычисления, связанные с данной базой данных. Рекомендуется открыть тикет на поиск и исправление возможных причин ошибочных данных."
   ]
  },
  {
   "cell_type": "markdown",
   "id": "b381386f",
   "metadata": {},
   "source": [
    "## Ответы на вопросы."
   ]
  },
  {
   "cell_type": "markdown",
   "id": "5841f83c",
   "metadata": {},
   "source": [
    "### Вопрос 1:"
   ]
  },
  {
   "cell_type": "markdown",
   "id": "6bcdb3df",
   "metadata": {},
   "source": [
    "Есть ли зависимость между количеством детей и возвратом кредита в срок?"
   ]
  },
  {
   "cell_type": "code",
   "execution_count": 43,
   "id": "a134ed7c",
   "metadata": {},
   "outputs": [
    {
     "data": {
      "text/html": [
       "<div>\n",
       "<style scoped>\n",
       "    .dataframe tbody tr th:only-of-type {\n",
       "        vertical-align: middle;\n",
       "    }\n",
       "\n",
       "    .dataframe tbody tr th {\n",
       "        vertical-align: top;\n",
       "    }\n",
       "\n",
       "    .dataframe thead tr th {\n",
       "        text-align: left;\n",
       "    }\n",
       "\n",
       "    .dataframe thead tr:last-of-type th {\n",
       "        text-align: right;\n",
       "    }\n",
       "</style>\n",
       "<table border=\"1\" class=\"dataframe\">\n",
       "  <thead>\n",
       "    <tr>\n",
       "      <th></th>\n",
       "      <th>count</th>\n",
       "      <th>sum</th>\n",
       "    </tr>\n",
       "    <tr>\n",
       "      <th></th>\n",
       "      <th>debt</th>\n",
       "      <th>debt</th>\n",
       "    </tr>\n",
       "    <tr>\n",
       "      <th>children</th>\n",
       "      <th></th>\n",
       "      <th></th>\n",
       "    </tr>\n",
       "  </thead>\n",
       "  <tbody>\n",
       "    <tr>\n",
       "      <td>0</td>\n",
       "      <td>14090</td>\n",
       "      <td>1063</td>\n",
       "    </tr>\n",
       "    <tr>\n",
       "      <td>1</td>\n",
       "      <td>4855</td>\n",
       "      <td>445</td>\n",
       "    </tr>\n",
       "    <tr>\n",
       "      <td>2</td>\n",
       "      <td>2128</td>\n",
       "      <td>202</td>\n",
       "    </tr>\n",
       "    <tr>\n",
       "      <td>3</td>\n",
       "      <td>330</td>\n",
       "      <td>27</td>\n",
       "    </tr>\n",
       "    <tr>\n",
       "      <td>4</td>\n",
       "      <td>41</td>\n",
       "      <td>4</td>\n",
       "    </tr>\n",
       "    <tr>\n",
       "      <td>5</td>\n",
       "      <td>9</td>\n",
       "      <td>0</td>\n",
       "    </tr>\n",
       "    <tr>\n",
       "      <td>All</td>\n",
       "      <td>21453</td>\n",
       "      <td>1741</td>\n",
       "    </tr>\n",
       "  </tbody>\n",
       "</table>\n",
       "</div>"
      ],
      "text/plain": [
       "          count   sum\n",
       "           debt  debt\n",
       "children             \n",
       "0         14090  1063\n",
       "1          4855   445\n",
       "2          2128   202\n",
       "3           330    27\n",
       "4            41     4\n",
       "5             9     0\n",
       "All       21453  1741"
      ]
     },
     "execution_count": 43,
     "metadata": {},
     "output_type": "execute_result"
    }
   ],
   "source": [
    "# Создадим сводную таблицу, где посчитаем и просуммируем количество задолжностей с учетом количества детей у заёмщика\n",
    "debt_children_pivot = df.pivot_table(index='children', values='debt', margins=True, aggfunc=['count', 'sum'])\n",
    "debt_children_pivot"
   ]
  },
  {
   "cell_type": "markdown",
   "id": "51096c78",
   "metadata": {},
   "source": [
    "Описание столбцов:\n",
    "* `children` - количество детей у заёмщика\n",
    "* `count debt` - количество заёмщиков с соответствующим количеством детей\n",
    "* `sum debt` - количество заёмщиков, которые не вернули кредит в срок. \n",
    "\n",
    "\n",
    "Количество заёмщиков, которые не вернули кредит в срок получается посчитать, потому как в основной таблице в колонке `debt` есть только два значения:\n",
    "* `1` - задолжность есть\n",
    "* `0` - задолжности нет  \n",
    "\n",
    "В результате суммирования значений становится понятно количество должников."
   ]
  },
  {
   "cell_type": "code",
   "execution_count": 44,
   "id": "228e21e1",
   "metadata": {
    "scrolled": true
   },
   "outputs": [
    {
     "data": {
      "text/html": [
       "<div>\n",
       "<style scoped>\n",
       "    .dataframe tbody tr th:only-of-type {\n",
       "        vertical-align: middle;\n",
       "    }\n",
       "\n",
       "    .dataframe tbody tr th {\n",
       "        vertical-align: top;\n",
       "    }\n",
       "\n",
       "    .dataframe thead tr th {\n",
       "        text-align: left;\n",
       "    }\n",
       "\n",
       "    .dataframe thead tr:last-of-type th {\n",
       "        text-align: right;\n",
       "    }\n",
       "</style>\n",
       "<table border=\"1\" class=\"dataframe\">\n",
       "  <thead>\n",
       "    <tr>\n",
       "      <th></th>\n",
       "      <th>count</th>\n",
       "      <th>sum</th>\n",
       "      <th>ratio</th>\n",
       "    </tr>\n",
       "    <tr>\n",
       "      <th></th>\n",
       "      <th>debt</th>\n",
       "      <th>debt</th>\n",
       "      <th></th>\n",
       "    </tr>\n",
       "    <tr>\n",
       "      <th>children</th>\n",
       "      <th></th>\n",
       "      <th></th>\n",
       "      <th></th>\n",
       "    </tr>\n",
       "  </thead>\n",
       "  <tbody>\n",
       "    <tr>\n",
       "      <td>0</td>\n",
       "      <td>14090</td>\n",
       "      <td>1063</td>\n",
       "      <td>7.544358</td>\n",
       "    </tr>\n",
       "    <tr>\n",
       "      <td>1</td>\n",
       "      <td>4855</td>\n",
       "      <td>445</td>\n",
       "      <td>9.165808</td>\n",
       "    </tr>\n",
       "    <tr>\n",
       "      <td>2</td>\n",
       "      <td>2128</td>\n",
       "      <td>202</td>\n",
       "      <td>9.492481</td>\n",
       "    </tr>\n",
       "    <tr>\n",
       "      <td>3</td>\n",
       "      <td>330</td>\n",
       "      <td>27</td>\n",
       "      <td>8.181818</td>\n",
       "    </tr>\n",
       "    <tr>\n",
       "      <td>4</td>\n",
       "      <td>41</td>\n",
       "      <td>4</td>\n",
       "      <td>9.756098</td>\n",
       "    </tr>\n",
       "    <tr>\n",
       "      <td>5</td>\n",
       "      <td>9</td>\n",
       "      <td>0</td>\n",
       "      <td>0.000000</td>\n",
       "    </tr>\n",
       "    <tr>\n",
       "      <td>All</td>\n",
       "      <td>21453</td>\n",
       "      <td>1741</td>\n",
       "      <td>8.115415</td>\n",
       "    </tr>\n",
       "  </tbody>\n",
       "</table>\n",
       "</div>"
      ],
      "text/plain": [
       "          count   sum     ratio\n",
       "           debt  debt          \n",
       "children                       \n",
       "0         14090  1063  7.544358\n",
       "1          4855   445  9.165808\n",
       "2          2128   202  9.492481\n",
       "3           330    27  8.181818\n",
       "4            41     4  9.756098\n",
       "5             9     0  0.000000\n",
       "All       21453  1741  8.115415"
      ]
     },
     "execution_count": 44,
     "metadata": {},
     "output_type": "execute_result"
    }
   ],
   "source": [
    "# Добавим колонку `ratio`, в которой посчитаем отношение кол-ва должников к общему количеству заёмщиков в %\n",
    "debt_children_pivot['ratio'] = debt_children_pivot['sum']['debt'] / debt_children_pivot['count']['debt'] * 100\n",
    "debt_children_pivot"
   ]
  },
  {
   "cell_type": "markdown",
   "id": "bc07aa94",
   "metadata": {},
   "source": [
    "Процент должников колеблется между 7 и 9 процентами. Уже можно сделать вывод о том, что количество детей не влияет на возврат кредита. Но я хочу ещё посмотреть статистику по данной колонке. Удалим строку с заёмщиками, у которых 5 детей - их всего 9 человек (0.04% от общего количества должников), и долгов у них нет, т.е. процент должников равен нулю. Если оставить данную строку, то на статистике это значение скажется не лучшим образом. "
   ]
  },
  {
   "cell_type": "code",
   "execution_count": 45,
   "id": "6c767f49",
   "metadata": {
    "scrolled": true
   },
   "outputs": [
    {
     "data": {
      "text/plain": [
       "count    6.000000\n",
       "mean     8.709330\n",
       "std      0.883808\n",
       "min      7.544358\n",
       "25%      8.132016\n",
       "50%      8.673813\n",
       "75%      9.410813\n",
       "max      9.756098\n",
       "Name: ratio, dtype: float64"
      ]
     },
     "execution_count": 45,
     "metadata": {},
     "output_type": "execute_result"
    }
   ],
   "source": [
    "# Удалим строку с заёмщиками, у которых 5 детей и посмотрим на статистику по колонке\n",
    "debt_children_pivot = debt_children_pivot.drop(5)\n",
    "debt_children_pivot['ratio'].describe()"
   ]
  },
  {
   "cell_type": "markdown",
   "id": "34fd82b6",
   "metadata": {},
   "source": [
    "Стандартное отконение по статистике составляет всего лишь 0,88% (строка `std`)."
   ]
  },
  {
   "cell_type": "markdown",
   "id": "d92c9f1e",
   "metadata": {},
   "source": [
    "### Вывод 1:"
   ]
  },
  {
   "cell_type": "markdown",
   "id": "8196546b",
   "metadata": {},
   "source": [
    "В зависимости от количества детей, количество должников различается в среднем на 0,88%. Это очень небольшое значение, которое говорит о том, что количество детей не влияет на возврат кредита в срок."
   ]
  },
  {
   "cell_type": "markdown",
   "id": "7011111f",
   "metadata": {},
   "source": [
    "### Вопрос 2:"
   ]
  },
  {
   "cell_type": "markdown",
   "id": "34667bdf",
   "metadata": {},
   "source": [
    "Есть ли зависимость между семейным положением и возвратом кредита в срок?"
   ]
  },
  {
   "cell_type": "code",
   "execution_count": 46,
   "id": "d2331053",
   "metadata": {},
   "outputs": [
    {
     "data": {
      "text/html": [
       "<div>\n",
       "<style scoped>\n",
       "    .dataframe tbody tr th:only-of-type {\n",
       "        vertical-align: middle;\n",
       "    }\n",
       "\n",
       "    .dataframe tbody tr th {\n",
       "        vertical-align: top;\n",
       "    }\n",
       "\n",
       "    .dataframe thead tr th {\n",
       "        text-align: left;\n",
       "    }\n",
       "\n",
       "    .dataframe thead tr:last-of-type th {\n",
       "        text-align: right;\n",
       "    }\n",
       "</style>\n",
       "<table border=\"1\" class=\"dataframe\">\n",
       "  <thead>\n",
       "    <tr>\n",
       "      <th></th>\n",
       "      <th>count</th>\n",
       "      <th>sum</th>\n",
       "    </tr>\n",
       "    <tr>\n",
       "      <th></th>\n",
       "      <th>debt</th>\n",
       "      <th>debt</th>\n",
       "    </tr>\n",
       "    <tr>\n",
       "      <th>family_status_id</th>\n",
       "      <th></th>\n",
       "      <th></th>\n",
       "    </tr>\n",
       "  </thead>\n",
       "  <tbody>\n",
       "    <tr>\n",
       "      <td>0</td>\n",
       "      <td>12339</td>\n",
       "      <td>931</td>\n",
       "    </tr>\n",
       "    <tr>\n",
       "      <td>1</td>\n",
       "      <td>4150</td>\n",
       "      <td>388</td>\n",
       "    </tr>\n",
       "    <tr>\n",
       "      <td>2</td>\n",
       "      <td>959</td>\n",
       "      <td>63</td>\n",
       "    </tr>\n",
       "    <tr>\n",
       "      <td>3</td>\n",
       "      <td>1195</td>\n",
       "      <td>85</td>\n",
       "    </tr>\n",
       "    <tr>\n",
       "      <td>4</td>\n",
       "      <td>2810</td>\n",
       "      <td>274</td>\n",
       "    </tr>\n",
       "    <tr>\n",
       "      <td>All</td>\n",
       "      <td>21453</td>\n",
       "      <td>1741</td>\n",
       "    </tr>\n",
       "  </tbody>\n",
       "</table>\n",
       "</div>"
      ],
      "text/plain": [
       "                  count   sum\n",
       "                   debt  debt\n",
       "family_status_id             \n",
       "0                 12339   931\n",
       "1                  4150   388\n",
       "2                   959    63\n",
       "3                  1195    85\n",
       "4                  2810   274\n",
       "All               21453  1741"
      ]
     },
     "execution_count": 46,
     "metadata": {},
     "output_type": "execute_result"
    }
   ],
   "source": [
    "# Создадим сводную таблицу, где посчитаем и просуммируем количество задолжностей с учетом семейного положения\n",
    "debt_family_status_pivot = df.pivot_table(index='family_status_id', values='debt', margins=True, aggfunc=['count', 'sum'])\n",
    "debt_family_status_pivot"
   ]
  },
  {
   "cell_type": "code",
   "execution_count": 47,
   "id": "06f9a5f1",
   "metadata": {},
   "outputs": [
    {
     "data": {
      "text/html": [
       "<div>\n",
       "<style scoped>\n",
       "    .dataframe tbody tr th:only-of-type {\n",
       "        vertical-align: middle;\n",
       "    }\n",
       "\n",
       "    .dataframe tbody tr th {\n",
       "        vertical-align: top;\n",
       "    }\n",
       "\n",
       "    .dataframe thead tr th {\n",
       "        text-align: left;\n",
       "    }\n",
       "\n",
       "    .dataframe thead tr:last-of-type th {\n",
       "        text-align: right;\n",
       "    }\n",
       "</style>\n",
       "<table border=\"1\" class=\"dataframe\">\n",
       "  <thead>\n",
       "    <tr>\n",
       "      <th></th>\n",
       "      <th>count</th>\n",
       "      <th>sum</th>\n",
       "      <th>ratio</th>\n",
       "    </tr>\n",
       "    <tr>\n",
       "      <th></th>\n",
       "      <th>debt</th>\n",
       "      <th>debt</th>\n",
       "      <th></th>\n",
       "    </tr>\n",
       "    <tr>\n",
       "      <th>family_status_id</th>\n",
       "      <th></th>\n",
       "      <th></th>\n",
       "      <th></th>\n",
       "    </tr>\n",
       "  </thead>\n",
       "  <tbody>\n",
       "    <tr>\n",
       "      <td>0</td>\n",
       "      <td>12339</td>\n",
       "      <td>931</td>\n",
       "      <td>7.545182</td>\n",
       "    </tr>\n",
       "    <tr>\n",
       "      <td>1</td>\n",
       "      <td>4150</td>\n",
       "      <td>388</td>\n",
       "      <td>9.349398</td>\n",
       "    </tr>\n",
       "    <tr>\n",
       "      <td>2</td>\n",
       "      <td>959</td>\n",
       "      <td>63</td>\n",
       "      <td>6.569343</td>\n",
       "    </tr>\n",
       "    <tr>\n",
       "      <td>3</td>\n",
       "      <td>1195</td>\n",
       "      <td>85</td>\n",
       "      <td>7.112971</td>\n",
       "    </tr>\n",
       "    <tr>\n",
       "      <td>4</td>\n",
       "      <td>2810</td>\n",
       "      <td>274</td>\n",
       "      <td>9.750890</td>\n",
       "    </tr>\n",
       "    <tr>\n",
       "      <td>All</td>\n",
       "      <td>21453</td>\n",
       "      <td>1741</td>\n",
       "      <td>8.115415</td>\n",
       "    </tr>\n",
       "  </tbody>\n",
       "</table>\n",
       "</div>"
      ],
      "text/plain": [
       "                  count   sum     ratio\n",
       "                   debt  debt          \n",
       "family_status_id                       \n",
       "0                 12339   931  7.545182\n",
       "1                  4150   388  9.349398\n",
       "2                   959    63  6.569343\n",
       "3                  1195    85  7.112971\n",
       "4                  2810   274  9.750890\n",
       "All               21453  1741  8.115415"
      ]
     },
     "execution_count": 47,
     "metadata": {},
     "output_type": "execute_result"
    }
   ],
   "source": [
    "# Добавим колонку `ratio`, в которой посчитаем отношение кол-ва должников к общему количеству заёмщиков в %\n",
    "debt_family_status_pivot['ratio'] = debt_family_status_pivot['sum']['debt'] / debt_family_status_pivot['count']['debt'] * 100\n",
    "debt_family_status_pivot"
   ]
  },
  {
   "cell_type": "code",
   "execution_count": 48,
   "id": "8797bc45",
   "metadata": {
    "scrolled": true
   },
   "outputs": [
    {
     "data": {
      "text/html": [
       "<div>\n",
       "<style scoped>\n",
       "    .dataframe tbody tr th:only-of-type {\n",
       "        vertical-align: middle;\n",
       "    }\n",
       "\n",
       "    .dataframe tbody tr th {\n",
       "        vertical-align: top;\n",
       "    }\n",
       "\n",
       "    .dataframe thead th {\n",
       "        text-align: right;\n",
       "    }\n",
       "</style>\n",
       "<table border=\"1\" class=\"dataframe\">\n",
       "  <thead>\n",
       "    <tr style=\"text-align: right;\">\n",
       "      <th></th>\n",
       "      <th>family_status_id</th>\n",
       "      <th>(count, debt)</th>\n",
       "      <th>(sum, debt)</th>\n",
       "      <th>(ratio, )</th>\n",
       "      <th>family_status</th>\n",
       "    </tr>\n",
       "  </thead>\n",
       "  <tbody>\n",
       "    <tr>\n",
       "      <td>0</td>\n",
       "      <td>0</td>\n",
       "      <td>12339</td>\n",
       "      <td>931</td>\n",
       "      <td>7.545182</td>\n",
       "      <td>женат / замужем</td>\n",
       "    </tr>\n",
       "    <tr>\n",
       "      <td>1</td>\n",
       "      <td>1</td>\n",
       "      <td>4150</td>\n",
       "      <td>388</td>\n",
       "      <td>9.349398</td>\n",
       "      <td>гражданский брак</td>\n",
       "    </tr>\n",
       "    <tr>\n",
       "      <td>2</td>\n",
       "      <td>2</td>\n",
       "      <td>959</td>\n",
       "      <td>63</td>\n",
       "      <td>6.569343</td>\n",
       "      <td>вдовец / вдова</td>\n",
       "    </tr>\n",
       "    <tr>\n",
       "      <td>3</td>\n",
       "      <td>3</td>\n",
       "      <td>1195</td>\n",
       "      <td>85</td>\n",
       "      <td>7.112971</td>\n",
       "      <td>в разводе</td>\n",
       "    </tr>\n",
       "    <tr>\n",
       "      <td>4</td>\n",
       "      <td>4</td>\n",
       "      <td>2810</td>\n",
       "      <td>274</td>\n",
       "      <td>9.750890</td>\n",
       "      <td>Не женат / не замужем</td>\n",
       "    </tr>\n",
       "    <tr>\n",
       "      <td>5</td>\n",
       "      <td>All</td>\n",
       "      <td>21453</td>\n",
       "      <td>1741</td>\n",
       "      <td>8.115415</td>\n",
       "      <td>NaN</td>\n",
       "    </tr>\n",
       "  </tbody>\n",
       "</table>\n",
       "</div>"
      ],
      "text/plain": [
       "  family_status_id  (count, debt)  (sum, debt)  (ratio, )  \\\n",
       "0                0          12339          931   7.545182   \n",
       "1                1           4150          388   9.349398   \n",
       "2                2            959           63   6.569343   \n",
       "3                3           1195           85   7.112971   \n",
       "4                4           2810          274   9.750890   \n",
       "5              All          21453         1741   8.115415   \n",
       "\n",
       "           family_status  \n",
       "0        женат / замужем  \n",
       "1       гражданский брак  \n",
       "2         вдовец / вдова  \n",
       "3              в разводе  \n",
       "4  Не женат / не замужем  \n",
       "5                    NaN  "
      ]
     },
     "execution_count": 48,
     "metadata": {},
     "output_type": "execute_result"
    }
   ],
   "source": [
    "# Добавим колонку family_status из словаря family_status_dict для наглядности\n",
    "debt_family_status_pivot = debt_family_status_pivot.merge(family_status_dict, on='family_status_id', how='left')\n",
    "debt_family_status_pivot"
   ]
  },
  {
   "cell_type": "code",
   "execution_count": 49,
   "id": "6332ce83",
   "metadata": {
    "scrolled": true
   },
   "outputs": [
    {
     "data": {
      "text/plain": [
       "count    6.000000\n",
       "mean     8.073866\n",
       "std      1.257580\n",
       "min      6.569343\n",
       "25%      7.221024\n",
       "50%      7.830299\n",
       "75%      9.040902\n",
       "max      9.750890\n",
       "Name: (ratio, ), dtype: float64"
      ]
     },
     "execution_count": 49,
     "metadata": {},
     "output_type": "execute_result"
    }
   ],
   "source": [
    "# Посмотрим статистику по колонке ratio\n",
    "debt_family_status_pivot['ratio', ''].describe()"
   ]
  },
  {
   "cell_type": "markdown",
   "id": "8f3ec36a",
   "metadata": {},
   "source": [
    "### Вывод 2:"
   ]
  },
  {
   "cell_type": "markdown",
   "id": "ff9a1525",
   "metadata": {},
   "source": [
    "Стандартное отклонение составляет 1.24%. Т.е. количество должников, в среднем, различается на 1.24% в зависимости от семейного статуса. Делаю вывод, что семейное положение не оказывает влияния на возврат кредита."
   ]
  },
  {
   "cell_type": "markdown",
   "id": "e3fb913d",
   "metadata": {},
   "source": [
    "### Вопрос 3:"
   ]
  },
  {
   "cell_type": "markdown",
   "id": "1085f001",
   "metadata": {},
   "source": [
    "Есть ли зависимость между уровнем дохода и возвратом кредита в срок?"
   ]
  },
  {
   "cell_type": "code",
   "execution_count": 50,
   "id": "c575baf1",
   "metadata": {},
   "outputs": [
    {
     "data": {
      "text/html": [
       "<div>\n",
       "<style scoped>\n",
       "    .dataframe tbody tr th:only-of-type {\n",
       "        vertical-align: middle;\n",
       "    }\n",
       "\n",
       "    .dataframe tbody tr th {\n",
       "        vertical-align: top;\n",
       "    }\n",
       "\n",
       "    .dataframe thead tr th {\n",
       "        text-align: left;\n",
       "    }\n",
       "\n",
       "    .dataframe thead tr:last-of-type th {\n",
       "        text-align: right;\n",
       "    }\n",
       "</style>\n",
       "<table border=\"1\" class=\"dataframe\">\n",
       "  <thead>\n",
       "    <tr>\n",
       "      <th></th>\n",
       "      <th>count</th>\n",
       "      <th>sum</th>\n",
       "    </tr>\n",
       "    <tr>\n",
       "      <th></th>\n",
       "      <th>debt</th>\n",
       "      <th>debt</th>\n",
       "    </tr>\n",
       "    <tr>\n",
       "      <th>total_income_category</th>\n",
       "      <th></th>\n",
       "      <th></th>\n",
       "    </tr>\n",
       "  </thead>\n",
       "  <tbody>\n",
       "    <tr>\n",
       "      <td>A</td>\n",
       "      <td>25</td>\n",
       "      <td>2</td>\n",
       "    </tr>\n",
       "    <tr>\n",
       "      <td>B</td>\n",
       "      <td>5041</td>\n",
       "      <td>356</td>\n",
       "    </tr>\n",
       "    <tr>\n",
       "      <td>C</td>\n",
       "      <td>16015</td>\n",
       "      <td>1360</td>\n",
       "    </tr>\n",
       "    <tr>\n",
       "      <td>D</td>\n",
       "      <td>350</td>\n",
       "      <td>21</td>\n",
       "    </tr>\n",
       "    <tr>\n",
       "      <td>E</td>\n",
       "      <td>22</td>\n",
       "      <td>2</td>\n",
       "    </tr>\n",
       "    <tr>\n",
       "      <td>All</td>\n",
       "      <td>21453</td>\n",
       "      <td>1741</td>\n",
       "    </tr>\n",
       "  </tbody>\n",
       "</table>\n",
       "</div>"
      ],
      "text/plain": [
       "                       count   sum\n",
       "                        debt  debt\n",
       "total_income_category             \n",
       "A                         25     2\n",
       "B                       5041   356\n",
       "C                      16015  1360\n",
       "D                        350    21\n",
       "E                         22     2\n",
       "All                    21453  1741"
      ]
     },
     "execution_count": 50,
     "metadata": {},
     "output_type": "execute_result"
    }
   ],
   "source": [
    "# Создадим сводную таблицу, где посчитаем и просуммируем количество задолжностей в различных категориях дохода\n",
    "debt_income_category_pivot = df.pivot_table(index='total_income_category', values='debt', margins=True, aggfunc=['count', 'sum'])\n",
    "debt_income_category_pivot"
   ]
  },
  {
   "cell_type": "code",
   "execution_count": 51,
   "id": "f2ab7dae",
   "metadata": {},
   "outputs": [
    {
     "data": {
      "text/html": [
       "<div>\n",
       "<style scoped>\n",
       "    .dataframe tbody tr th:only-of-type {\n",
       "        vertical-align: middle;\n",
       "    }\n",
       "\n",
       "    .dataframe tbody tr th {\n",
       "        vertical-align: top;\n",
       "    }\n",
       "\n",
       "    .dataframe thead tr th {\n",
       "        text-align: left;\n",
       "    }\n",
       "\n",
       "    .dataframe thead tr:last-of-type th {\n",
       "        text-align: right;\n",
       "    }\n",
       "</style>\n",
       "<table border=\"1\" class=\"dataframe\">\n",
       "  <thead>\n",
       "    <tr>\n",
       "      <th></th>\n",
       "      <th>count</th>\n",
       "      <th>sum</th>\n",
       "      <th>ratio</th>\n",
       "    </tr>\n",
       "    <tr>\n",
       "      <th></th>\n",
       "      <th>debt</th>\n",
       "      <th>debt</th>\n",
       "      <th></th>\n",
       "    </tr>\n",
       "    <tr>\n",
       "      <th>total_income_category</th>\n",
       "      <th></th>\n",
       "      <th></th>\n",
       "      <th></th>\n",
       "    </tr>\n",
       "  </thead>\n",
       "  <tbody>\n",
       "    <tr>\n",
       "      <td>A</td>\n",
       "      <td>25</td>\n",
       "      <td>2</td>\n",
       "      <td>8.000000</td>\n",
       "    </tr>\n",
       "    <tr>\n",
       "      <td>B</td>\n",
       "      <td>5041</td>\n",
       "      <td>356</td>\n",
       "      <td>7.062091</td>\n",
       "    </tr>\n",
       "    <tr>\n",
       "      <td>C</td>\n",
       "      <td>16015</td>\n",
       "      <td>1360</td>\n",
       "      <td>8.492039</td>\n",
       "    </tr>\n",
       "    <tr>\n",
       "      <td>D</td>\n",
       "      <td>350</td>\n",
       "      <td>21</td>\n",
       "      <td>6.000000</td>\n",
       "    </tr>\n",
       "    <tr>\n",
       "      <td>E</td>\n",
       "      <td>22</td>\n",
       "      <td>2</td>\n",
       "      <td>9.090909</td>\n",
       "    </tr>\n",
       "    <tr>\n",
       "      <td>All</td>\n",
       "      <td>21453</td>\n",
       "      <td>1741</td>\n",
       "      <td>8.115415</td>\n",
       "    </tr>\n",
       "  </tbody>\n",
       "</table>\n",
       "</div>"
      ],
      "text/plain": [
       "                       count   sum     ratio\n",
       "                        debt  debt          \n",
       "total_income_category                       \n",
       "A                         25     2  8.000000\n",
       "B                       5041   356  7.062091\n",
       "C                      16015  1360  8.492039\n",
       "D                        350    21  6.000000\n",
       "E                         22     2  9.090909\n",
       "All                    21453  1741  8.115415"
      ]
     },
     "execution_count": 51,
     "metadata": {},
     "output_type": "execute_result"
    }
   ],
   "source": [
    "# Добавим колонку `ratio`, в которой посчитаем отношение кол-ва должников к общему количеству заёмщиков в %\n",
    "debt_income_category_pivot['ratio'] = debt_income_category_pivot['sum']['debt'] / debt_income_category_pivot['count']['debt'] * 100\n",
    "debt_income_category_pivot"
   ]
  },
  {
   "cell_type": "code",
   "execution_count": 52,
   "id": "7fb758b1",
   "metadata": {
    "scrolled": true
   },
   "outputs": [
    {
     "data": {
      "text/plain": [
       "count    6.000000\n",
       "mean     7.793409\n",
       "std      1.101735\n",
       "min      6.000000\n",
       "25%      7.296568\n",
       "50%      8.057708\n",
       "75%      8.397883\n",
       "max      9.090909\n",
       "Name: (ratio, ), dtype: float64"
      ]
     },
     "execution_count": 52,
     "metadata": {},
     "output_type": "execute_result"
    }
   ],
   "source": [
    "# Посмотрим статистику по колонке ratio\n",
    "debt_income_category_pivot['ratio', ''].describe()"
   ]
  },
  {
   "cell_type": "markdown",
   "id": "1fa8a3db",
   "metadata": {},
   "source": [
    "### Вывод 3:"
   ]
  },
  {
   "cell_type": "markdown",
   "id": "07dbb453",
   "metadata": {},
   "source": [
    "Стандартное отклонение составляет 1.09%. Т.е. количество должников, в среднем, различается на 1.09% в зависимости от уровня дохода. Делаю вывод, что уровень дохода не оказывает влияния на возврат кредита."
   ]
  },
  {
   "cell_type": "markdown",
   "id": "51516589",
   "metadata": {},
   "source": [
    "### Вопрос 4:"
   ]
  },
  {
   "cell_type": "markdown",
   "id": "0cafce12",
   "metadata": {},
   "source": [
    "Как разные цели кредита влияют на его возврат в срок?"
   ]
  },
  {
   "cell_type": "code",
   "execution_count": 53,
   "id": "5b126e1a",
   "metadata": {},
   "outputs": [
    {
     "data": {
      "text/html": [
       "<div>\n",
       "<style scoped>\n",
       "    .dataframe tbody tr th:only-of-type {\n",
       "        vertical-align: middle;\n",
       "    }\n",
       "\n",
       "    .dataframe tbody tr th {\n",
       "        vertical-align: top;\n",
       "    }\n",
       "\n",
       "    .dataframe thead tr th {\n",
       "        text-align: left;\n",
       "    }\n",
       "\n",
       "    .dataframe thead tr:last-of-type th {\n",
       "        text-align: right;\n",
       "    }\n",
       "</style>\n",
       "<table border=\"1\" class=\"dataframe\">\n",
       "  <thead>\n",
       "    <tr>\n",
       "      <th></th>\n",
       "      <th>count</th>\n",
       "      <th>sum</th>\n",
       "    </tr>\n",
       "    <tr>\n",
       "      <th></th>\n",
       "      <th>debt</th>\n",
       "      <th>debt</th>\n",
       "    </tr>\n",
       "    <tr>\n",
       "      <th>purpose_category</th>\n",
       "      <th></th>\n",
       "      <th></th>\n",
       "    </tr>\n",
       "  </thead>\n",
       "  <tbody>\n",
       "    <tr>\n",
       "      <td>операции с автомобилем</td>\n",
       "      <td>4306</td>\n",
       "      <td>403</td>\n",
       "    </tr>\n",
       "    <tr>\n",
       "      <td>операции с недвижимостью</td>\n",
       "      <td>10811</td>\n",
       "      <td>782</td>\n",
       "    </tr>\n",
       "    <tr>\n",
       "      <td>получение образования</td>\n",
       "      <td>4013</td>\n",
       "      <td>370</td>\n",
       "    </tr>\n",
       "    <tr>\n",
       "      <td>проведение свадьбы</td>\n",
       "      <td>2323</td>\n",
       "      <td>186</td>\n",
       "    </tr>\n",
       "    <tr>\n",
       "      <td>All</td>\n",
       "      <td>21453</td>\n",
       "      <td>1741</td>\n",
       "    </tr>\n",
       "  </tbody>\n",
       "</table>\n",
       "</div>"
      ],
      "text/plain": [
       "                          count   sum\n",
       "                           debt  debt\n",
       "purpose_category                     \n",
       "операции с автомобилем     4306   403\n",
       "операции с недвижимостью  10811   782\n",
       "получение образования      4013   370\n",
       "проведение свадьбы         2323   186\n",
       "All                       21453  1741"
      ]
     },
     "execution_count": 53,
     "metadata": {},
     "output_type": "execute_result"
    }
   ],
   "source": [
    "# Создадим сводную таблицу, где посчитаем и просуммируем количество задолжностей с учётом цели, ради которой брался кредит\n",
    "debt_purpose_category_pivot = df.pivot_table(index='purpose_category', values='debt', margins=True, aggfunc=['count', 'sum'])\n",
    "debt_purpose_category_pivot"
   ]
  },
  {
   "cell_type": "code",
   "execution_count": 54,
   "id": "d3f96ac0",
   "metadata": {},
   "outputs": [
    {
     "data": {
      "text/html": [
       "<div>\n",
       "<style scoped>\n",
       "    .dataframe tbody tr th:only-of-type {\n",
       "        vertical-align: middle;\n",
       "    }\n",
       "\n",
       "    .dataframe tbody tr th {\n",
       "        vertical-align: top;\n",
       "    }\n",
       "\n",
       "    .dataframe thead tr th {\n",
       "        text-align: left;\n",
       "    }\n",
       "\n",
       "    .dataframe thead tr:last-of-type th {\n",
       "        text-align: right;\n",
       "    }\n",
       "</style>\n",
       "<table border=\"1\" class=\"dataframe\">\n",
       "  <thead>\n",
       "    <tr>\n",
       "      <th></th>\n",
       "      <th>count</th>\n",
       "      <th>sum</th>\n",
       "      <th>ratio</th>\n",
       "    </tr>\n",
       "    <tr>\n",
       "      <th></th>\n",
       "      <th>debt</th>\n",
       "      <th>debt</th>\n",
       "      <th></th>\n",
       "    </tr>\n",
       "    <tr>\n",
       "      <th>purpose_category</th>\n",
       "      <th></th>\n",
       "      <th></th>\n",
       "      <th></th>\n",
       "    </tr>\n",
       "  </thead>\n",
       "  <tbody>\n",
       "    <tr>\n",
       "      <td>операции с автомобилем</td>\n",
       "      <td>4306</td>\n",
       "      <td>403</td>\n",
       "      <td>9.359034</td>\n",
       "    </tr>\n",
       "    <tr>\n",
       "      <td>операции с недвижимостью</td>\n",
       "      <td>10811</td>\n",
       "      <td>782</td>\n",
       "      <td>7.233373</td>\n",
       "    </tr>\n",
       "    <tr>\n",
       "      <td>получение образования</td>\n",
       "      <td>4013</td>\n",
       "      <td>370</td>\n",
       "      <td>9.220035</td>\n",
       "    </tr>\n",
       "    <tr>\n",
       "      <td>проведение свадьбы</td>\n",
       "      <td>2323</td>\n",
       "      <td>186</td>\n",
       "      <td>8.006888</td>\n",
       "    </tr>\n",
       "    <tr>\n",
       "      <td>All</td>\n",
       "      <td>21453</td>\n",
       "      <td>1741</td>\n",
       "      <td>8.115415</td>\n",
       "    </tr>\n",
       "  </tbody>\n",
       "</table>\n",
       "</div>"
      ],
      "text/plain": [
       "                          count   sum     ratio\n",
       "                           debt  debt          \n",
       "purpose_category                               \n",
       "операции с автомобилем     4306   403  9.359034\n",
       "операции с недвижимостью  10811   782  7.233373\n",
       "получение образования      4013   370  9.220035\n",
       "проведение свадьбы         2323   186  8.006888\n",
       "All                       21453  1741  8.115415"
      ]
     },
     "execution_count": 54,
     "metadata": {},
     "output_type": "execute_result"
    }
   ],
   "source": [
    "# Добавим колонку `ratio`, в которой посчитаем отношение кол-ва должников к общему количеству заёмщиков в %\n",
    "debt_purpose_category_pivot['ratio'] = debt_purpose_category_pivot['sum']['debt'] / debt_purpose_category_pivot['count']['debt'] * 100\n",
    "debt_purpose_category_pivot"
   ]
  },
  {
   "cell_type": "code",
   "execution_count": 55,
   "id": "38075df6",
   "metadata": {},
   "outputs": [
    {
     "data": {
      "text/plain": [
       "count    5.000000\n",
       "mean     8.386949\n",
       "std      0.892734\n",
       "min      7.233373\n",
       "25%      8.006888\n",
       "50%      8.115415\n",
       "75%      9.220035\n",
       "max      9.359034\n",
       "Name: (ratio, ), dtype: float64"
      ]
     },
     "execution_count": 55,
     "metadata": {},
     "output_type": "execute_result"
    }
   ],
   "source": [
    "# Посмотрим статистику по колонке ratio\n",
    "debt_purpose_category_pivot['ratio', ''].describe()"
   ]
  },
  {
   "cell_type": "markdown",
   "id": "6a3dc514",
   "metadata": {},
   "source": [
    "### Вывод 4:"
   ]
  },
  {
   "cell_type": "markdown",
   "id": "435004b4",
   "metadata": {},
   "source": [
    "Стандартное отклонение составляет 0.9%. Т.е. количество должников, в среднем, различается на 0.9% в зависимости от цели кредита. Это несущественное различие между различными категориями займа. Делаю вывод, что цель кредита не оказывает влияния на возврат кредита в срок."
   ]
  },
  {
   "cell_type": "markdown",
   "id": "386e1e93",
   "metadata": {},
   "source": [
    "## Общий вывод:"
   ]
  },
  {
   "cell_type": "markdown",
   "id": "d7ba2375",
   "metadata": {},
   "source": [
    "Были проведены исследования, отвечающие на следующие вопросы:\n",
    "1. Существует ли зависимость между количеством детей у заёмщика и возвратом кредита в срок?\n",
    "2. Существует ли зависимость между семейным положением заёмщика и возвратом кредита в срок?\n",
    "3. Существует ли зависимость между уровнём дохода заёмщика и возвратом кредита в срок?\n",
    "4. Существует ли зависимость между различными целями кредита и возвратом кредита в срок?\n",
    "\n",
    "По результатам исследований вывод следующий: зависимостей ни в одном из случаев не было установлено. Во всех случаях различия в количестве должников составляло около 1%, что сложно назвать значимой величиной. Признаки, которые могут оказывать влияние на возврат кредита в срок не были обнаружены. "
   ]
  }
 ],
 "metadata": {
  "ExecuteTimeLog": [
   {
    "duration": 847,
    "start_time": "2022-02-23T17:19:34.309Z"
   },
   {
    "duration": 71,
    "start_time": "2022-02-23T17:34:57.055Z"
   },
   {
    "duration": 75,
    "start_time": "2022-02-23T17:38:32.273Z"
   },
   {
    "duration": 48,
    "start_time": "2022-02-23T17:38:35.494Z"
   },
   {
    "duration": 27,
    "start_time": "2022-02-23T18:16:02.851Z"
   },
   {
    "duration": 12,
    "start_time": "2022-02-23T18:16:13.199Z"
   },
   {
    "duration": 13,
    "start_time": "2022-02-23T18:31:50.101Z"
   },
   {
    "duration": 12,
    "start_time": "2022-02-23T18:44:24.662Z"
   },
   {
    "duration": -873,
    "start_time": "2022-02-23T19:03:05.388Z"
   },
   {
    "duration": -1002,
    "start_time": "2022-02-23T19:03:20.194Z"
   },
   {
    "duration": 7344,
    "start_time": "2022-02-23T19:03:21.205Z"
   },
   {
    "duration": 6,
    "start_time": "2022-02-23T19:03:42.302Z"
   },
   {
    "duration": 7,
    "start_time": "2022-02-23T19:03:46.635Z"
   },
   {
    "duration": 277,
    "start_time": "2022-02-23T19:06:07.567Z"
   },
   {
    "duration": 7,
    "start_time": "2022-02-23T19:06:20.914Z"
   },
   {
    "duration": 7,
    "start_time": "2022-02-23T19:06:45.805Z"
   },
   {
    "duration": 6,
    "start_time": "2022-02-23T19:06:49.620Z"
   },
   {
    "duration": 7,
    "start_time": "2022-02-23T19:07:06.135Z"
   },
   {
    "duration": 7,
    "start_time": "2022-02-23T19:07:11.594Z"
   },
   {
    "duration": 5,
    "start_time": "2022-02-23T19:07:53.113Z"
   },
   {
    "duration": 6,
    "start_time": "2022-02-23T19:08:00.082Z"
   },
   {
    "duration": 7,
    "start_time": "2022-02-23T19:08:04.210Z"
   },
   {
    "duration": 8,
    "start_time": "2022-02-23T19:08:07.616Z"
   },
   {
    "duration": 7,
    "start_time": "2022-02-23T19:08:11.082Z"
   },
   {
    "duration": 8,
    "start_time": "2022-02-23T19:08:59.015Z"
   },
   {
    "duration": 7,
    "start_time": "2022-02-23T19:09:13.392Z"
   },
   {
    "duration": 9,
    "start_time": "2022-02-23T19:10:43.226Z"
   },
   {
    "duration": 9,
    "start_time": "2022-02-23T19:10:47.359Z"
   },
   {
    "duration": 28,
    "start_time": "2022-02-23T19:12:53.018Z"
   },
   {
    "duration": 51,
    "start_time": "2022-02-23T19:13:59.180Z"
   },
   {
    "duration": 35,
    "start_time": "2022-02-23T19:14:18.996Z"
   },
   {
    "duration": 13,
    "start_time": "2022-02-23T19:15:43.837Z"
   },
   {
    "duration": 37,
    "start_time": "2022-02-23T19:15:50.371Z"
   },
   {
    "duration": 39,
    "start_time": "2022-02-23T19:16:31.947Z"
   },
   {
    "duration": 7,
    "start_time": "2022-02-23T19:30:54.024Z"
   },
   {
    "duration": 314,
    "start_time": "2022-02-26T15:21:59.894Z"
   },
   {
    "duration": 890,
    "start_time": "2022-02-26T15:22:20.964Z"
   },
   {
    "duration": 48,
    "start_time": "2022-02-26T15:22:21.856Z"
   },
   {
    "duration": 22,
    "start_time": "2022-02-26T15:22:21.907Z"
   },
   {
    "duration": 21,
    "start_time": "2022-02-26T15:22:21.932Z"
   },
   {
    "duration": 53,
    "start_time": "2022-02-26T15:22:21.956Z"
   },
   {
    "duration": 13,
    "start_time": "2022-02-26T15:22:22.011Z"
   },
   {
    "duration": 14,
    "start_time": "2022-02-26T15:22:29.553Z"
   },
   {
    "duration": 14,
    "start_time": "2022-02-26T15:34:47.933Z"
   },
   {
    "duration": 75,
    "start_time": "2022-02-26T15:34:55.617Z"
   },
   {
    "duration": 34,
    "start_time": "2022-02-26T15:34:55.696Z"
   },
   {
    "duration": 44,
    "start_time": "2022-02-26T15:34:55.734Z"
   },
   {
    "duration": 7,
    "start_time": "2022-02-26T15:34:55.781Z"
   },
   {
    "duration": 38,
    "start_time": "2022-02-26T15:34:55.791Z"
   },
   {
    "duration": 43,
    "start_time": "2022-02-26T15:34:55.832Z"
   },
   {
    "duration": 304,
    "start_time": "2022-02-26T15:37:27.163Z"
   },
   {
    "duration": 309,
    "start_time": "2022-02-26T15:37:33.506Z"
   },
   {
    "duration": 14,
    "start_time": "2022-02-26T15:37:48.975Z"
   },
   {
    "duration": 8,
    "start_time": "2022-02-26T16:00:55.985Z"
   },
   {
    "duration": 9,
    "start_time": "2022-02-26T16:11:02.603Z"
   },
   {
    "duration": 8,
    "start_time": "2022-02-26T16:11:08.699Z"
   },
   {
    "duration": 9,
    "start_time": "2022-02-26T16:16:27.086Z"
   },
   {
    "duration": 9,
    "start_time": "2022-02-26T16:16:41.154Z"
   },
   {
    "duration": 94,
    "start_time": "2022-02-26T16:18:11.825Z"
   },
   {
    "duration": 91,
    "start_time": "2022-02-26T16:18:25.256Z"
   },
   {
    "duration": 84,
    "start_time": "2022-02-26T16:20:19.088Z"
   },
   {
    "duration": 79,
    "start_time": "2022-02-26T16:20:54.312Z"
   },
   {
    "duration": 75,
    "start_time": "2022-02-26T16:21:03.968Z"
   },
   {
    "duration": 90,
    "start_time": "2022-02-26T16:22:16.113Z"
   },
   {
    "duration": 78,
    "start_time": "2022-02-26T16:24:57.887Z"
   },
   {
    "duration": 625,
    "start_time": "2022-02-26T16:25:12.591Z"
   },
   {
    "duration": 75,
    "start_time": "2022-02-26T16:25:18.715Z"
   },
   {
    "duration": 89,
    "start_time": "2022-02-26T16:26:20.921Z"
   },
   {
    "duration": 99,
    "start_time": "2022-02-26T16:26:30.850Z"
   },
   {
    "duration": 85,
    "start_time": "2022-02-26T16:27:18.981Z"
   },
   {
    "duration": 10,
    "start_time": "2022-02-26T16:27:49.576Z"
   },
   {
    "duration": 10,
    "start_time": "2022-02-26T16:27:55.117Z"
   },
   {
    "duration": 13,
    "start_time": "2022-02-26T16:40:43.071Z"
   },
   {
    "duration": 248,
    "start_time": "2022-02-26T16:41:05.925Z"
   },
   {
    "duration": 18,
    "start_time": "2022-02-26T16:41:11.356Z"
   },
   {
    "duration": 5,
    "start_time": "2022-02-26T16:41:20.455Z"
   },
   {
    "duration": 4,
    "start_time": "2022-02-26T16:41:22.209Z"
   },
   {
    "duration": 8,
    "start_time": "2022-02-26T16:55:21.529Z"
   },
   {
    "duration": 8,
    "start_time": "2022-02-26T16:56:16.253Z"
   },
   {
    "duration": 9,
    "start_time": "2022-02-26T16:56:50.171Z"
   },
   {
    "duration": 13,
    "start_time": "2022-02-26T16:58:50.313Z"
   },
   {
    "duration": 10,
    "start_time": "2022-02-26T17:04:35.252Z"
   },
   {
    "duration": 14,
    "start_time": "2022-02-26T17:05:43.598Z"
   },
   {
    "duration": 12,
    "start_time": "2022-02-26T17:06:03.387Z"
   },
   {
    "duration": 10,
    "start_time": "2022-02-26T17:12:33.134Z"
   },
   {
    "duration": 8,
    "start_time": "2022-02-26T17:16:19.066Z"
   },
   {
    "duration": 68,
    "start_time": "2022-02-26T17:16:41.901Z"
   },
   {
    "duration": 33,
    "start_time": "2022-02-26T17:16:41.972Z"
   },
   {
    "duration": 16,
    "start_time": "2022-02-26T17:16:42.008Z"
   },
   {
    "duration": 8,
    "start_time": "2022-02-26T17:16:42.027Z"
   },
   {
    "duration": 94,
    "start_time": "2022-02-26T17:16:42.038Z"
   },
   {
    "duration": 14,
    "start_time": "2022-02-26T17:16:42.135Z"
   },
   {
    "duration": 15,
    "start_time": "2022-02-26T17:16:42.174Z"
   },
   {
    "duration": 10,
    "start_time": "2022-02-26T17:16:42.193Z"
   },
   {
    "duration": 13,
    "start_time": "2022-02-26T17:16:42.206Z"
   },
   {
    "duration": 55,
    "start_time": "2022-02-26T17:16:42.221Z"
   },
   {
    "duration": 15,
    "start_time": "2022-02-26T17:16:42.279Z"
   },
   {
    "duration": 12,
    "start_time": "2022-02-26T17:16:42.296Z"
   },
   {
    "duration": 25,
    "start_time": "2022-02-26T17:27:00.013Z"
   },
   {
    "duration": 31,
    "start_time": "2022-02-26T17:27:09.315Z"
   },
   {
    "duration": 249,
    "start_time": "2022-02-26T17:27:19.933Z"
   },
   {
    "duration": 10,
    "start_time": "2022-02-26T17:28:06.457Z"
   },
   {
    "duration": 9,
    "start_time": "2022-02-26T17:28:30.619Z"
   },
   {
    "duration": 3,
    "start_time": "2022-02-26T17:31:47.943Z"
   },
   {
    "duration": 16,
    "start_time": "2022-02-26T17:32:03.648Z"
   },
   {
    "duration": 40,
    "start_time": "2022-02-26T17:32:11.365Z"
   },
   {
    "duration": 41,
    "start_time": "2022-02-26T17:32:24.298Z"
   },
   {
    "duration": 240,
    "start_time": "2022-02-26T17:38:59.492Z"
   },
   {
    "duration": 10,
    "start_time": "2022-02-26T17:39:11.671Z"
   },
   {
    "duration": 13,
    "start_time": "2022-02-26T17:40:41.808Z"
   },
   {
    "duration": 11,
    "start_time": "2022-02-26T17:41:23.616Z"
   },
   {
    "duration": 246,
    "start_time": "2022-02-26T17:58:30.438Z"
   },
   {
    "duration": 362,
    "start_time": "2022-02-26T17:58:34.925Z"
   },
   {
    "duration": 25,
    "start_time": "2022-02-26T17:58:49.356Z"
   },
   {
    "duration": 24,
    "start_time": "2022-02-26T17:58:56.862Z"
   },
   {
    "duration": 24,
    "start_time": "2022-02-26T18:00:17.149Z"
   },
   {
    "duration": 44,
    "start_time": "2022-02-26T18:01:10.275Z"
   },
   {
    "duration": 332,
    "start_time": "2022-02-28T19:32:46.125Z"
   },
   {
    "duration": 799,
    "start_time": "2022-02-28T19:32:53.497Z"
   },
   {
    "duration": 42,
    "start_time": "2022-02-28T19:32:54.298Z"
   },
   {
    "duration": 33,
    "start_time": "2022-02-28T19:32:54.342Z"
   },
   {
    "duration": 7,
    "start_time": "2022-02-28T19:32:54.377Z"
   },
   {
    "duration": 39,
    "start_time": "2022-02-28T19:32:54.386Z"
   },
   {
    "duration": 12,
    "start_time": "2022-02-28T19:32:54.427Z"
   },
   {
    "duration": 42,
    "start_time": "2022-02-28T19:32:54.441Z"
   },
   {
    "duration": 9,
    "start_time": "2022-02-28T19:32:54.486Z"
   },
   {
    "duration": 12,
    "start_time": "2022-02-28T19:32:54.497Z"
   },
   {
    "duration": 8,
    "start_time": "2022-02-28T19:32:54.511Z"
   },
   {
    "duration": 57,
    "start_time": "2022-02-28T19:32:54.522Z"
   },
   {
    "duration": 7,
    "start_time": "2022-02-28T19:32:54.582Z"
   },
   {
    "duration": 9,
    "start_time": "2022-02-28T19:32:54.591Z"
   },
   {
    "duration": 24,
    "start_time": "2022-02-28T19:32:54.602Z"
   },
   {
    "duration": 76,
    "start_time": "2022-02-28T19:32:54.628Z"
   },
   {
    "duration": 10,
    "start_time": "2022-02-28T19:32:54.707Z"
   },
   {
    "duration": 56,
    "start_time": "2022-02-28T19:32:54.719Z"
   },
   {
    "duration": 10,
    "start_time": "2022-02-28T19:32:54.778Z"
   },
   {
    "duration": 10,
    "start_time": "2022-02-28T19:32:54.791Z"
   },
   {
    "duration": 12,
    "start_time": "2022-02-28T19:32:54.803Z"
   },
   {
    "duration": 15,
    "start_time": "2022-02-28T19:33:01.486Z"
   },
   {
    "duration": 13,
    "start_time": "2022-02-28T19:34:11.726Z"
   },
   {
    "duration": 22,
    "start_time": "2022-02-28T19:34:21.363Z"
   },
   {
    "duration": 16,
    "start_time": "2022-02-28T19:41:44.694Z"
   },
   {
    "duration": 647,
    "start_time": "2022-03-01T18:02:35.126Z"
   },
   {
    "duration": 29,
    "start_time": "2022-03-01T18:02:35.775Z"
   },
   {
    "duration": 11,
    "start_time": "2022-03-01T18:02:35.806Z"
   },
   {
    "duration": 13,
    "start_time": "2022-03-01T18:02:35.819Z"
   },
   {
    "duration": 35,
    "start_time": "2022-03-01T18:02:35.834Z"
   },
   {
    "duration": 11,
    "start_time": "2022-03-01T18:02:35.871Z"
   },
   {
    "duration": 23,
    "start_time": "2022-03-01T18:02:35.884Z"
   },
   {
    "duration": 22,
    "start_time": "2022-03-01T18:02:35.911Z"
   },
   {
    "duration": 33,
    "start_time": "2022-03-01T18:02:35.935Z"
   },
   {
    "duration": 7,
    "start_time": "2022-03-01T18:02:35.970Z"
   },
   {
    "duration": 15,
    "start_time": "2022-03-01T18:02:35.979Z"
   },
   {
    "duration": 20,
    "start_time": "2022-03-01T18:02:35.996Z"
   },
   {
    "duration": 34,
    "start_time": "2022-03-01T18:02:36.019Z"
   },
   {
    "duration": 24,
    "start_time": "2022-03-01T18:02:36.055Z"
   },
   {
    "duration": 38,
    "start_time": "2022-03-01T18:02:36.081Z"
   },
   {
    "duration": 8,
    "start_time": "2022-03-01T18:02:36.121Z"
   },
   {
    "duration": 18,
    "start_time": "2022-03-01T18:02:39.033Z"
   },
   {
    "duration": 21,
    "start_time": "2022-03-01T18:03:23.962Z"
   },
   {
    "duration": 17,
    "start_time": "2022-03-01T18:04:44.394Z"
   },
   {
    "duration": 8,
    "start_time": "2022-03-01T18:04:57.107Z"
   },
   {
    "duration": 54,
    "start_time": "2022-03-01T18:05:06.507Z"
   },
   {
    "duration": 21,
    "start_time": "2022-03-01T18:05:06.563Z"
   },
   {
    "duration": 23,
    "start_time": "2022-03-01T18:05:06.586Z"
   },
   {
    "duration": 8,
    "start_time": "2022-03-01T18:05:06.611Z"
   },
   {
    "duration": 40,
    "start_time": "2022-03-01T18:05:06.621Z"
   },
   {
    "duration": 9,
    "start_time": "2022-03-01T18:05:06.663Z"
   },
   {
    "duration": 30,
    "start_time": "2022-03-01T18:05:06.673Z"
   },
   {
    "duration": 8,
    "start_time": "2022-03-01T18:05:06.706Z"
   },
   {
    "duration": 23,
    "start_time": "2022-03-01T18:05:06.716Z"
   },
   {
    "duration": 7,
    "start_time": "2022-03-01T18:05:06.741Z"
   },
   {
    "duration": 22,
    "start_time": "2022-03-01T18:05:06.750Z"
   },
   {
    "duration": 15,
    "start_time": "2022-03-01T18:05:06.774Z"
   },
   {
    "duration": 15,
    "start_time": "2022-03-01T18:05:06.791Z"
   },
   {
    "duration": 29,
    "start_time": "2022-03-01T18:05:06.808Z"
   },
   {
    "duration": 33,
    "start_time": "2022-03-01T18:05:06.839Z"
   },
   {
    "duration": 9,
    "start_time": "2022-03-01T18:05:06.874Z"
   },
   {
    "duration": 8,
    "start_time": "2022-03-01T18:05:14.944Z"
   },
   {
    "duration": 55,
    "start_time": "2022-03-01T18:05:22.310Z"
   },
   {
    "duration": 23,
    "start_time": "2022-03-01T18:05:22.367Z"
   },
   {
    "duration": 12,
    "start_time": "2022-03-01T18:05:22.402Z"
   },
   {
    "duration": 7,
    "start_time": "2022-03-01T18:05:22.416Z"
   },
   {
    "duration": 29,
    "start_time": "2022-03-01T18:05:22.425Z"
   },
   {
    "duration": 47,
    "start_time": "2022-03-01T18:05:22.457Z"
   },
   {
    "duration": 12,
    "start_time": "2022-03-01T18:05:22.506Z"
   },
   {
    "duration": 7,
    "start_time": "2022-03-01T18:05:22.522Z"
   },
   {
    "duration": 10,
    "start_time": "2022-03-01T18:05:22.531Z"
   },
   {
    "duration": 8,
    "start_time": "2022-03-01T18:05:22.544Z"
   },
   {
    "duration": 56,
    "start_time": "2022-03-01T18:05:22.554Z"
   },
   {
    "duration": 8,
    "start_time": "2022-03-01T18:05:22.612Z"
   },
   {
    "duration": 8,
    "start_time": "2022-03-01T18:05:22.622Z"
   },
   {
    "duration": 19,
    "start_time": "2022-03-01T18:05:22.631Z"
   },
   {
    "duration": 62,
    "start_time": "2022-03-01T18:05:22.652Z"
   },
   {
    "duration": 8,
    "start_time": "2022-03-01T18:05:22.715Z"
   },
   {
    "duration": 18,
    "start_time": "2022-03-01T18:05:26.577Z"
   },
   {
    "duration": 19,
    "start_time": "2022-03-01T18:09:14.591Z"
   },
   {
    "duration": 21,
    "start_time": "2022-03-01T18:12:01.069Z"
   },
   {
    "duration": 3,
    "start_time": "2022-03-01T18:16:54.240Z"
   },
   {
    "duration": 19,
    "start_time": "2022-03-01T18:18:03.587Z"
   },
   {
    "duration": 23,
    "start_time": "2022-03-01T18:20:24.818Z"
   },
   {
    "duration": 17,
    "start_time": "2022-03-01T18:20:35.207Z"
   },
   {
    "duration": 4,
    "start_time": "2022-03-01T18:40:29.613Z"
   },
   {
    "duration": 1105,
    "start_time": "2022-03-01T18:41:47.177Z"
   },
   {
    "duration": 2247,
    "start_time": "2022-03-01T18:42:47.671Z"
   },
   {
    "duration": 787,
    "start_time": "2022-03-01T18:43:39.486Z"
   },
   {
    "duration": 4,
    "start_time": "2022-03-01T18:44:01.636Z"
   },
   {
    "duration": 27,
    "start_time": "2022-03-01T18:44:04.469Z"
   },
   {
    "duration": 4,
    "start_time": "2022-03-01T19:10:41.405Z"
   },
   {
    "duration": 24,
    "start_time": "2022-03-01T19:10:44.014Z"
   },
   {
    "duration": 4011,
    "start_time": "2022-03-01T19:15:43.244Z"
   },
   {
    "duration": 6,
    "start_time": "2022-03-01T19:15:56.546Z"
   },
   {
    "duration": 49,
    "start_time": "2022-03-01T19:16:33.756Z"
   },
   {
    "duration": 7,
    "start_time": "2022-03-01T19:17:00.914Z"
   },
   {
    "duration": 4,
    "start_time": "2022-03-01T19:23:01.492Z"
   },
   {
    "duration": 25,
    "start_time": "2022-03-01T19:23:02.799Z"
   },
   {
    "duration": 7,
    "start_time": "2022-03-01T19:23:06.167Z"
   },
   {
    "duration": 4,
    "start_time": "2022-03-01T19:24:21.640Z"
   },
   {
    "duration": 27,
    "start_time": "2022-03-01T19:24:23.621Z"
   },
   {
    "duration": 6,
    "start_time": "2022-03-01T19:24:25.994Z"
   },
   {
    "duration": 4,
    "start_time": "2022-03-01T19:31:39.458Z"
   },
   {
    "duration": 27,
    "start_time": "2022-03-01T19:32:06.936Z"
   },
   {
    "duration": 6,
    "start_time": "2022-03-01T19:32:42.273Z"
   },
   {
    "duration": 215,
    "start_time": "2022-03-01T19:56:25.907Z"
   },
   {
    "duration": 158,
    "start_time": "2022-03-01T19:56:36.390Z"
   },
   {
    "duration": 6,
    "start_time": "2022-03-01T19:56:39.601Z"
   },
   {
    "duration": 7,
    "start_time": "2022-03-01T20:00:20.655Z"
   },
   {
    "duration": 8,
    "start_time": "2022-03-01T20:00:27.023Z"
   },
   {
    "duration": 8,
    "start_time": "2022-03-01T20:00:35.055Z"
   },
   {
    "duration": 7,
    "start_time": "2022-03-01T20:00:43.946Z"
   },
   {
    "duration": 7,
    "start_time": "2022-03-01T20:01:04.598Z"
   },
   {
    "duration": 7,
    "start_time": "2022-03-01T20:01:23.614Z"
   },
   {
    "duration": 9,
    "start_time": "2022-03-01T20:01:37.638Z"
   },
   {
    "duration": 324,
    "start_time": "2022-03-02T17:44:37.524Z"
   },
   {
    "duration": 1790,
    "start_time": "2022-03-02T17:44:42.271Z"
   },
   {
    "duration": 43,
    "start_time": "2022-03-02T17:44:44.063Z"
   },
   {
    "duration": 11,
    "start_time": "2022-03-02T17:44:44.109Z"
   },
   {
    "duration": 31,
    "start_time": "2022-03-02T17:44:44.123Z"
   },
   {
    "duration": 35,
    "start_time": "2022-03-02T17:44:44.157Z"
   },
   {
    "duration": 11,
    "start_time": "2022-03-02T17:44:44.194Z"
   },
   {
    "duration": 48,
    "start_time": "2022-03-02T17:44:44.207Z"
   },
   {
    "duration": 8,
    "start_time": "2022-03-02T17:44:44.260Z"
   },
   {
    "duration": 11,
    "start_time": "2022-03-02T17:44:44.271Z"
   },
   {
    "duration": 8,
    "start_time": "2022-03-02T17:44:44.284Z"
   },
   {
    "duration": 12,
    "start_time": "2022-03-02T17:44:44.294Z"
   },
   {
    "duration": 49,
    "start_time": "2022-03-02T17:44:44.308Z"
   },
   {
    "duration": 7,
    "start_time": "2022-03-02T17:44:44.359Z"
   },
   {
    "duration": 21,
    "start_time": "2022-03-02T17:44:44.368Z"
   },
   {
    "duration": 76,
    "start_time": "2022-03-02T17:44:44.392Z"
   },
   {
    "duration": 9,
    "start_time": "2022-03-02T17:44:44.471Z"
   },
   {
    "duration": 28,
    "start_time": "2022-03-02T17:44:44.484Z"
   },
   {
    "duration": 9,
    "start_time": "2022-03-02T17:44:44.551Z"
   },
   {
    "duration": 9,
    "start_time": "2022-03-02T17:44:44.563Z"
   },
   {
    "duration": 14,
    "start_time": "2022-03-02T17:44:44.574Z"
   },
   {
    "duration": 18,
    "start_time": "2022-03-02T17:44:44.591Z"
   },
   {
    "duration": 49,
    "start_time": "2022-03-02T17:44:44.611Z"
   },
   {
    "duration": 25,
    "start_time": "2022-03-02T17:44:44.664Z"
   },
   {
    "duration": 6,
    "start_time": "2022-03-02T17:44:44.692Z"
   },
   {
    "duration": 71,
    "start_time": "2022-03-02T17:44:44.700Z"
   },
   {
    "duration": 7,
    "start_time": "2022-03-02T17:44:44.773Z"
   },
   {
    "duration": 6,
    "start_time": "2022-03-02T17:44:44.782Z"
   },
   {
    "duration": 61,
    "start_time": "2022-03-02T17:44:44.790Z"
   },
   {
    "duration": 7,
    "start_time": "2022-03-02T17:44:44.853Z"
   },
   {
    "duration": 9,
    "start_time": "2022-03-02T17:44:47.626Z"
   },
   {
    "duration": 10,
    "start_time": "2022-03-02T18:09:15.489Z"
   },
   {
    "duration": 280,
    "start_time": "2022-03-02T18:11:20.237Z"
   },
   {
    "duration": 270,
    "start_time": "2022-03-02T18:11:23.790Z"
   },
   {
    "duration": 8,
    "start_time": "2022-03-02T18:11:27.333Z"
   },
   {
    "duration": 11,
    "start_time": "2022-03-02T18:15:06.708Z"
   },
   {
    "duration": 30,
    "start_time": "2022-03-02T18:15:34.626Z"
   },
   {
    "duration": 8,
    "start_time": "2022-03-02T18:15:54.275Z"
   },
   {
    "duration": 8,
    "start_time": "2022-03-02T18:16:01.963Z"
   },
   {
    "duration": 10,
    "start_time": "2022-03-02T18:16:17.769Z"
   },
   {
    "duration": 319,
    "start_time": "2022-03-02T18:23:31.084Z"
   },
   {
    "duration": 303,
    "start_time": "2022-03-02T18:23:37.681Z"
   },
   {
    "duration": 9,
    "start_time": "2022-03-02T18:23:42.179Z"
   },
   {
    "duration": 10,
    "start_time": "2022-03-02T18:23:52.783Z"
   },
   {
    "duration": 9,
    "start_time": "2022-03-02T18:23:58.357Z"
   },
   {
    "duration": 10,
    "start_time": "2022-03-02T18:24:10.872Z"
   },
   {
    "duration": 9,
    "start_time": "2022-03-02T18:26:24.582Z"
   },
   {
    "duration": 30,
    "start_time": "2022-03-02T18:32:26.294Z"
   },
   {
    "duration": 23,
    "start_time": "2022-03-02T18:33:00.449Z"
   },
   {
    "duration": 11,
    "start_time": "2022-03-02T18:33:10.169Z"
   },
   {
    "duration": 21,
    "start_time": "2022-03-02T18:34:23.892Z"
   },
   {
    "duration": 64,
    "start_time": "2022-03-02T18:38:20.690Z"
   },
   {
    "duration": 32,
    "start_time": "2022-03-02T18:38:20.756Z"
   },
   {
    "duration": 12,
    "start_time": "2022-03-02T18:38:20.790Z"
   },
   {
    "duration": 6,
    "start_time": "2022-03-02T18:38:20.805Z"
   },
   {
    "duration": 70,
    "start_time": "2022-03-02T18:38:20.813Z"
   },
   {
    "duration": 10,
    "start_time": "2022-03-02T18:38:20.885Z"
   },
   {
    "duration": 7,
    "start_time": "2022-03-02T18:38:20.897Z"
   },
   {
    "duration": 45,
    "start_time": "2022-03-02T18:38:20.907Z"
   },
   {
    "duration": 948,
    "start_time": "2022-03-02T18:39:26.917Z"
   },
   {
    "duration": 42,
    "start_time": "2022-03-02T18:39:27.868Z"
   },
   {
    "duration": 12,
    "start_time": "2022-03-02T18:39:27.913Z"
   },
   {
    "duration": 8,
    "start_time": "2022-03-02T18:39:27.952Z"
   },
   {
    "duration": 45,
    "start_time": "2022-03-02T18:39:27.962Z"
   },
   {
    "duration": 11,
    "start_time": "2022-03-02T18:39:28.010Z"
   },
   {
    "duration": 34,
    "start_time": "2022-03-02T18:39:28.024Z"
   },
   {
    "duration": 12,
    "start_time": "2022-03-02T18:39:28.062Z"
   },
   {
    "duration": 19,
    "start_time": "2022-03-02T18:39:36.691Z"
   },
   {
    "duration": 11,
    "start_time": "2022-03-02T18:39:39.086Z"
   },
   {
    "duration": 12,
    "start_time": "2022-03-02T18:39:42.910Z"
   },
   {
    "duration": 9,
    "start_time": "2022-03-02T18:39:47.497Z"
   },
   {
    "duration": 11,
    "start_time": "2022-03-02T18:39:50.944Z"
   },
   {
    "duration": 8,
    "start_time": "2022-03-02T18:39:53.571Z"
   },
   {
    "duration": 12,
    "start_time": "2022-03-02T18:39:54.768Z"
   },
   {
    "duration": 9,
    "start_time": "2022-03-02T18:40:05.571Z"
   },
   {
    "duration": 9,
    "start_time": "2022-03-02T18:40:07.666Z"
   },
   {
    "duration": 24,
    "start_time": "2022-03-02T18:40:26.399Z"
   },
   {
    "duration": 72,
    "start_time": "2022-03-02T18:40:42.693Z"
   },
   {
    "duration": 34,
    "start_time": "2022-03-02T18:40:42.768Z"
   },
   {
    "duration": 18,
    "start_time": "2022-03-02T18:40:42.805Z"
   },
   {
    "duration": 11,
    "start_time": "2022-03-02T18:40:42.852Z"
   },
   {
    "duration": 47,
    "start_time": "2022-03-02T18:40:42.866Z"
   },
   {
    "duration": 10,
    "start_time": "2022-03-02T18:40:42.916Z"
   },
   {
    "duration": 11,
    "start_time": "2022-03-02T18:40:42.952Z"
   },
   {
    "duration": 11,
    "start_time": "2022-03-02T18:40:42.967Z"
   },
   {
    "duration": 20,
    "start_time": "2022-03-02T18:40:42.981Z"
   },
   {
    "duration": 49,
    "start_time": "2022-03-02T18:40:43.004Z"
   },
   {
    "duration": 14,
    "start_time": "2022-03-02T18:40:43.055Z"
   },
   {
    "duration": 9,
    "start_time": "2022-03-02T18:40:43.071Z"
   },
   {
    "duration": 12,
    "start_time": "2022-03-02T18:40:43.082Z"
   },
   {
    "duration": 56,
    "start_time": "2022-03-02T18:40:43.096Z"
   },
   {
    "duration": 14,
    "start_time": "2022-03-02T18:40:43.155Z"
   },
   {
    "duration": 9,
    "start_time": "2022-03-02T18:40:43.173Z"
   },
   {
    "duration": 9,
    "start_time": "2022-03-02T18:40:43.184Z"
   },
   {
    "duration": 68,
    "start_time": "2022-03-02T18:40:43.195Z"
   },
   {
    "duration": 38,
    "start_time": "2022-03-02T18:40:43.266Z"
   },
   {
    "duration": 9,
    "start_time": "2022-03-02T18:40:43.306Z"
   },
   {
    "duration": 53,
    "start_time": "2022-03-02T18:40:43.317Z"
   },
   {
    "duration": 9,
    "start_time": "2022-03-02T18:40:43.372Z"
   },
   {
    "duration": 9,
    "start_time": "2022-03-02T18:40:43.386Z"
   },
   {
    "duration": 11,
    "start_time": "2022-03-02T18:40:43.398Z"
   },
   {
    "duration": 53,
    "start_time": "2022-03-02T18:40:43.411Z"
   },
   {
    "duration": 16,
    "start_time": "2022-03-02T18:40:43.466Z"
   },
   {
    "duration": 24,
    "start_time": "2022-03-02T18:40:43.485Z"
   },
   {
    "duration": 39,
    "start_time": "2022-03-02T18:40:43.512Z"
   },
   {
    "duration": 39,
    "start_time": "2022-03-02T18:40:43.554Z"
   },
   {
    "duration": 8,
    "start_time": "2022-03-02T18:40:43.595Z"
   },
   {
    "duration": 5,
    "start_time": "2022-03-02T18:40:43.605Z"
   },
   {
    "duration": 66,
    "start_time": "2022-03-02T18:40:43.613Z"
   },
   {
    "duration": 9,
    "start_time": "2022-03-02T18:40:43.681Z"
   },
   {
    "duration": 8,
    "start_time": "2022-03-02T18:40:43.692Z"
   },
   {
    "duration": 8,
    "start_time": "2022-03-02T18:48:53.102Z"
   },
   {
    "duration": 5,
    "start_time": "2022-03-02T18:50:56.709Z"
   },
   {
    "duration": 6,
    "start_time": "2022-03-02T18:51:05.804Z"
   },
   {
    "duration": 40,
    "start_time": "2022-03-02T19:01:17.117Z"
   },
   {
    "duration": 18,
    "start_time": "2022-03-02T19:15:52.489Z"
   },
   {
    "duration": 20,
    "start_time": "2022-03-02T19:16:21.533Z"
   },
   {
    "duration": 18,
    "start_time": "2022-03-02T19:16:48.523Z"
   },
   {
    "duration": 20,
    "start_time": "2022-03-02T19:16:59.891Z"
   },
   {
    "duration": 387,
    "start_time": "2022-03-02T19:17:03.581Z"
   },
   {
    "duration": 18,
    "start_time": "2022-03-02T19:17:07.397Z"
   },
   {
    "duration": 21,
    "start_time": "2022-03-02T19:17:10.971Z"
   },
   {
    "duration": 29,
    "start_time": "2022-03-02T19:25:06.265Z"
   },
   {
    "duration": 27,
    "start_time": "2022-03-02T19:25:37.465Z"
   },
   {
    "duration": 45,
    "start_time": "2022-03-02T19:28:27.129Z"
   },
   {
    "duration": 43,
    "start_time": "2022-03-02T19:31:46.427Z"
   },
   {
    "duration": 37,
    "start_time": "2022-03-02T19:32:54.825Z"
   },
   {
    "duration": 47,
    "start_time": "2022-03-02T19:33:03.490Z"
   },
   {
    "duration": 19,
    "start_time": "2022-03-02T19:33:38.700Z"
   },
   {
    "duration": 21,
    "start_time": "2022-03-02T19:33:58.752Z"
   },
   {
    "duration": 22,
    "start_time": "2022-03-02T19:34:11.941Z"
   },
   {
    "duration": 13,
    "start_time": "2022-03-02T19:36:00.545Z"
   },
   {
    "duration": 202,
    "start_time": "2022-03-03T19:15:41.026Z"
   },
   {
    "duration": 680,
    "start_time": "2022-03-03T19:15:48.096Z"
   },
   {
    "duration": 30,
    "start_time": "2022-03-03T19:15:48.779Z"
   },
   {
    "duration": 12,
    "start_time": "2022-03-03T19:15:48.812Z"
   },
   {
    "duration": 7,
    "start_time": "2022-03-03T19:15:48.827Z"
   },
   {
    "duration": 35,
    "start_time": "2022-03-03T19:15:48.836Z"
   },
   {
    "duration": 34,
    "start_time": "2022-03-03T19:15:48.874Z"
   },
   {
    "duration": 7,
    "start_time": "2022-03-03T19:15:48.911Z"
   },
   {
    "duration": 10,
    "start_time": "2022-03-03T19:15:48.921Z"
   },
   {
    "duration": 16,
    "start_time": "2022-03-03T19:15:48.934Z"
   },
   {
    "duration": 48,
    "start_time": "2022-03-03T19:15:48.953Z"
   },
   {
    "duration": 10,
    "start_time": "2022-03-03T19:15:49.003Z"
   },
   {
    "duration": 9,
    "start_time": "2022-03-03T19:15:49.015Z"
   },
   {
    "duration": 9,
    "start_time": "2022-03-03T19:15:49.025Z"
   },
   {
    "duration": 6,
    "start_time": "2022-03-03T19:15:49.036Z"
   },
   {
    "duration": 14,
    "start_time": "2022-03-03T19:15:49.044Z"
   },
   {
    "duration": 45,
    "start_time": "2022-03-03T19:15:49.060Z"
   },
   {
    "duration": 7,
    "start_time": "2022-03-03T19:15:49.106Z"
   },
   {
    "duration": 20,
    "start_time": "2022-03-03T19:15:49.115Z"
   },
   {
    "duration": 31,
    "start_time": "2022-03-03T19:15:49.137Z"
   },
   {
    "duration": 32,
    "start_time": "2022-03-03T19:15:49.170Z"
   },
   {
    "duration": 21,
    "start_time": "2022-03-03T19:15:49.204Z"
   },
   {
    "duration": 14,
    "start_time": "2022-03-03T19:15:49.227Z"
   },
   {
    "duration": 13,
    "start_time": "2022-03-03T19:15:49.244Z"
   },
   {
    "duration": 15,
    "start_time": "2022-03-03T19:15:49.259Z"
   },
   {
    "duration": 37,
    "start_time": "2022-03-03T19:15:49.276Z"
   },
   {
    "duration": 12,
    "start_time": "2022-03-03T19:15:49.315Z"
   },
   {
    "duration": 17,
    "start_time": "2022-03-03T19:15:49.328Z"
   },
   {
    "duration": 11,
    "start_time": "2022-03-03T19:15:49.347Z"
   },
   {
    "duration": 53,
    "start_time": "2022-03-03T19:15:49.360Z"
   },
   {
    "duration": 5,
    "start_time": "2022-03-03T19:15:49.414Z"
   },
   {
    "duration": 9,
    "start_time": "2022-03-03T19:15:49.421Z"
   },
   {
    "duration": 33,
    "start_time": "2022-03-03T19:15:49.432Z"
   },
   {
    "duration": 6,
    "start_time": "2022-03-03T19:15:49.467Z"
   },
   {
    "duration": 55,
    "start_time": "2022-03-03T19:15:49.475Z"
   },
   {
    "duration": 15,
    "start_time": "2022-03-03T19:15:49.532Z"
   },
   {
    "duration": 9,
    "start_time": "2022-03-03T19:15:49.549Z"
   },
   {
    "duration": 10,
    "start_time": "2022-03-03T19:15:54.698Z"
   },
   {
    "duration": 10,
    "start_time": "2022-03-03T19:16:04.673Z"
   },
   {
    "duration": 3,
    "start_time": "2022-03-03T19:16:13.685Z"
   },
   {
    "duration": 10,
    "start_time": "2022-03-03T19:16:18.577Z"
   },
   {
    "duration": 12,
    "start_time": "2022-03-03T19:17:01.014Z"
   },
   {
    "duration": 189,
    "start_time": "2022-03-03T19:17:06.801Z"
   },
   {
    "duration": 67,
    "start_time": "2022-03-03T19:17:28.450Z"
   },
   {
    "duration": 22,
    "start_time": "2022-03-03T19:17:28.520Z"
   },
   {
    "duration": 14,
    "start_time": "2022-03-03T19:17:28.546Z"
   },
   {
    "duration": 10,
    "start_time": "2022-03-03T19:17:28.562Z"
   },
   {
    "duration": 27,
    "start_time": "2022-03-03T19:17:28.602Z"
   },
   {
    "duration": 9,
    "start_time": "2022-03-03T19:17:28.630Z"
   },
   {
    "duration": 6,
    "start_time": "2022-03-03T19:17:28.641Z"
   },
   {
    "duration": 8,
    "start_time": "2022-03-03T19:17:28.650Z"
   },
   {
    "duration": 53,
    "start_time": "2022-03-03T19:17:28.660Z"
   },
   {
    "duration": 14,
    "start_time": "2022-03-03T19:17:28.716Z"
   },
   {
    "duration": 11,
    "start_time": "2022-03-03T19:17:28.732Z"
   },
   {
    "duration": 9,
    "start_time": "2022-03-03T19:17:28.745Z"
   },
   {
    "duration": 10,
    "start_time": "2022-03-03T19:17:28.756Z"
   },
   {
    "duration": 7,
    "start_time": "2022-03-03T19:17:28.801Z"
   },
   {
    "duration": 22,
    "start_time": "2022-03-03T19:17:28.810Z"
   },
   {
    "duration": 9,
    "start_time": "2022-03-03T19:17:28.833Z"
   },
   {
    "duration": 7,
    "start_time": "2022-03-03T19:17:28.843Z"
   },
   {
    "duration": 26,
    "start_time": "2022-03-03T19:17:28.851Z"
   },
   {
    "duration": 51,
    "start_time": "2022-03-03T19:17:28.879Z"
   },
   {
    "duration": 8,
    "start_time": "2022-03-03T19:17:28.933Z"
   },
   {
    "duration": 27,
    "start_time": "2022-03-03T19:17:28.944Z"
   },
   {
    "duration": 31,
    "start_time": "2022-03-03T19:17:28.974Z"
   },
   {
    "duration": 9,
    "start_time": "2022-03-03T19:17:29.009Z"
   },
   {
    "duration": 10,
    "start_time": "2022-03-03T19:17:29.020Z"
   },
   {
    "duration": 16,
    "start_time": "2022-03-03T19:17:29.033Z"
   },
   {
    "duration": 12,
    "start_time": "2022-03-03T19:17:29.052Z"
   },
   {
    "duration": 51,
    "start_time": "2022-03-03T19:17:29.067Z"
   },
   {
    "duration": 6,
    "start_time": "2022-03-03T19:17:29.120Z"
   },
   {
    "duration": 26,
    "start_time": "2022-03-03T19:17:29.129Z"
   },
   {
    "duration": 7,
    "start_time": "2022-03-03T19:17:29.157Z"
   },
   {
    "duration": 37,
    "start_time": "2022-03-03T19:17:29.166Z"
   },
   {
    "duration": 35,
    "start_time": "2022-03-03T19:17:29.206Z"
   },
   {
    "duration": 8,
    "start_time": "2022-03-03T19:17:29.243Z"
   },
   {
    "duration": 54,
    "start_time": "2022-03-03T19:17:29.253Z"
   },
   {
    "duration": 13,
    "start_time": "2022-03-03T19:17:29.309Z"
   },
   {
    "duration": 12,
    "start_time": "2022-03-03T19:17:29.324Z"
   },
   {
    "duration": 10,
    "start_time": "2022-03-03T19:19:24.625Z"
   },
   {
    "duration": 180,
    "start_time": "2022-03-03T19:38:58.798Z"
   },
   {
    "duration": 5,
    "start_time": "2022-03-03T19:39:05.922Z"
   },
   {
    "duration": 175,
    "start_time": "2022-03-03T19:57:37.909Z"
   },
   {
    "duration": 55,
    "start_time": "2022-03-03T19:57:46.569Z"
   },
   {
    "duration": 24,
    "start_time": "2022-03-03T19:57:46.626Z"
   },
   {
    "duration": 25,
    "start_time": "2022-03-03T19:57:46.652Z"
   },
   {
    "duration": 26,
    "start_time": "2022-03-03T19:57:46.679Z"
   },
   {
    "duration": 53,
    "start_time": "2022-03-03T19:57:46.707Z"
   },
   {
    "duration": 8,
    "start_time": "2022-03-03T19:57:46.762Z"
   },
   {
    "duration": 27,
    "start_time": "2022-03-03T19:57:46.772Z"
   },
   {
    "duration": 24,
    "start_time": "2022-03-03T19:57:46.802Z"
   },
   {
    "duration": 51,
    "start_time": "2022-03-03T19:57:46.829Z"
   },
   {
    "duration": 16,
    "start_time": "2022-03-03T19:57:46.882Z"
   },
   {
    "duration": 17,
    "start_time": "2022-03-03T19:57:46.900Z"
   },
   {
    "duration": 21,
    "start_time": "2022-03-03T19:57:46.919Z"
   },
   {
    "duration": 26,
    "start_time": "2022-03-03T19:57:46.942Z"
   },
   {
    "duration": 16,
    "start_time": "2022-03-03T19:57:46.969Z"
   },
   {
    "duration": 35,
    "start_time": "2022-03-03T19:57:46.987Z"
   },
   {
    "duration": 33,
    "start_time": "2022-03-03T19:57:47.023Z"
   },
   {
    "duration": 25,
    "start_time": "2022-03-03T19:57:47.058Z"
   },
   {
    "duration": 26,
    "start_time": "2022-03-03T19:57:47.084Z"
   },
   {
    "duration": 35,
    "start_time": "2022-03-03T19:57:47.112Z"
   },
   {
    "duration": 8,
    "start_time": "2022-03-03T19:57:47.149Z"
   },
   {
    "duration": 42,
    "start_time": "2022-03-03T19:57:47.159Z"
   },
   {
    "duration": 26,
    "start_time": "2022-03-03T19:57:47.203Z"
   },
   {
    "duration": 28,
    "start_time": "2022-03-03T19:57:47.232Z"
   },
   {
    "duration": 29,
    "start_time": "2022-03-03T19:57:47.261Z"
   },
   {
    "duration": 29,
    "start_time": "2022-03-03T19:57:47.291Z"
   },
   {
    "duration": 20,
    "start_time": "2022-03-03T19:57:47.322Z"
   },
   {
    "duration": 42,
    "start_time": "2022-03-03T19:57:47.344Z"
   },
   {
    "duration": 13,
    "start_time": "2022-03-03T19:57:47.388Z"
   },
   {
    "duration": 39,
    "start_time": "2022-03-03T19:57:47.403Z"
   },
   {
    "duration": 6,
    "start_time": "2022-03-03T19:57:47.444Z"
   },
   {
    "duration": 18,
    "start_time": "2022-03-03T19:57:47.452Z"
   },
   {
    "duration": 67,
    "start_time": "2022-03-03T19:57:47.473Z"
   },
   {
    "duration": 7,
    "start_time": "2022-03-03T19:57:47.543Z"
   },
   {
    "duration": 58,
    "start_time": "2022-03-03T19:57:47.552Z"
   },
   {
    "duration": 16,
    "start_time": "2022-03-03T19:57:47.613Z"
   },
   {
    "duration": 10,
    "start_time": "2022-03-03T19:58:00.094Z"
   },
   {
    "duration": 4,
    "start_time": "2022-03-04T16:54:21.464Z"
   },
   {
    "duration": 603,
    "start_time": "2022-03-04T16:56:50.528Z"
   },
   {
    "duration": 22,
    "start_time": "2022-03-04T16:56:51.133Z"
   },
   {
    "duration": 19,
    "start_time": "2022-03-04T16:56:51.157Z"
   },
   {
    "duration": 13,
    "start_time": "2022-03-04T16:56:51.177Z"
   },
   {
    "duration": 47,
    "start_time": "2022-03-04T16:56:51.191Z"
   },
   {
    "duration": 7,
    "start_time": "2022-03-04T16:56:51.239Z"
   },
   {
    "duration": 16,
    "start_time": "2022-03-04T16:56:51.248Z"
   },
   {
    "duration": 20,
    "start_time": "2022-03-04T16:56:51.266Z"
   },
   {
    "duration": 48,
    "start_time": "2022-03-04T16:56:51.287Z"
   },
   {
    "duration": 7,
    "start_time": "2022-03-04T16:56:51.336Z"
   },
   {
    "duration": 11,
    "start_time": "2022-03-04T16:56:51.344Z"
   },
   {
    "duration": 12,
    "start_time": "2022-03-04T16:56:51.356Z"
   },
   {
    "duration": 12,
    "start_time": "2022-03-04T16:56:51.369Z"
   },
   {
    "duration": 11,
    "start_time": "2022-03-04T16:56:51.383Z"
   },
   {
    "duration": 18,
    "start_time": "2022-03-04T16:56:51.396Z"
   },
   {
    "duration": 14,
    "start_time": "2022-03-04T16:56:51.416Z"
   },
   {
    "duration": 11,
    "start_time": "2022-03-04T16:56:51.432Z"
   },
   {
    "duration": 16,
    "start_time": "2022-03-04T16:56:51.444Z"
   },
   {
    "duration": 28,
    "start_time": "2022-03-04T16:56:51.462Z"
   },
   {
    "duration": 6,
    "start_time": "2022-03-04T16:56:51.491Z"
   },
   {
    "duration": 39,
    "start_time": "2022-03-04T16:56:51.498Z"
   },
   {
    "duration": 12,
    "start_time": "2022-03-04T16:56:51.539Z"
   },
   {
    "duration": 15,
    "start_time": "2022-03-04T16:56:51.553Z"
   },
   {
    "duration": 13,
    "start_time": "2022-03-04T16:56:51.569Z"
   },
   {
    "duration": 21,
    "start_time": "2022-03-04T16:56:51.583Z"
   },
   {
    "duration": 16,
    "start_time": "2022-03-04T16:56:51.605Z"
   },
   {
    "duration": 16,
    "start_time": "2022-03-04T16:56:51.623Z"
   },
   {
    "duration": 11,
    "start_time": "2022-03-04T16:56:51.640Z"
   },
   {
    "duration": 33,
    "start_time": "2022-03-04T16:56:51.652Z"
   },
   {
    "duration": 4,
    "start_time": "2022-03-04T16:56:51.687Z"
   },
   {
    "duration": 42,
    "start_time": "2022-03-04T16:56:51.693Z"
   },
   {
    "duration": 31,
    "start_time": "2022-03-04T16:56:51.736Z"
   },
   {
    "duration": 6,
    "start_time": "2022-03-04T16:56:51.769Z"
   },
   {
    "duration": 42,
    "start_time": "2022-03-04T16:56:51.777Z"
   },
   {
    "duration": 11,
    "start_time": "2022-03-04T16:56:51.821Z"
   },
   {
    "duration": 19,
    "start_time": "2022-03-04T16:56:51.833Z"
   },
   {
    "duration": 4,
    "start_time": "2022-03-04T16:57:18.420Z"
   },
   {
    "duration": 20,
    "start_time": "2022-03-04T16:57:22.824Z"
   },
   {
    "duration": 5,
    "start_time": "2022-03-04T16:57:26.730Z"
   },
   {
    "duration": 1028,
    "start_time": "2022-03-04T16:57:41.230Z"
   },
   {
    "duration": 22,
    "start_time": "2022-03-04T16:57:42.260Z"
   },
   {
    "duration": 8,
    "start_time": "2022-03-04T16:57:42.283Z"
   },
   {
    "duration": 4,
    "start_time": "2022-03-04T16:57:42.293Z"
   },
   {
    "duration": 37,
    "start_time": "2022-03-04T16:57:42.298Z"
   },
   {
    "duration": 6,
    "start_time": "2022-03-04T16:57:42.336Z"
   },
   {
    "duration": 4,
    "start_time": "2022-03-04T16:57:42.344Z"
   },
   {
    "duration": 6,
    "start_time": "2022-03-04T16:57:42.350Z"
   },
   {
    "duration": 14,
    "start_time": "2022-03-04T16:57:42.358Z"
   },
   {
    "duration": 6,
    "start_time": "2022-03-04T16:57:42.374Z"
   },
   {
    "duration": 38,
    "start_time": "2022-03-04T16:57:42.382Z"
   },
   {
    "duration": 6,
    "start_time": "2022-03-04T16:57:42.421Z"
   },
   {
    "duration": 7,
    "start_time": "2022-03-04T16:57:42.428Z"
   },
   {
    "duration": 5,
    "start_time": "2022-03-04T16:57:42.436Z"
   },
   {
    "duration": 8,
    "start_time": "2022-03-04T16:57:42.443Z"
   },
   {
    "duration": 4,
    "start_time": "2022-03-04T16:57:42.452Z"
   },
   {
    "duration": 5,
    "start_time": "2022-03-04T16:57:42.458Z"
   },
   {
    "duration": 46,
    "start_time": "2022-03-04T16:57:42.464Z"
   },
   {
    "duration": 27,
    "start_time": "2022-03-04T16:57:42.513Z"
   },
   {
    "duration": 6,
    "start_time": "2022-03-04T16:57:42.541Z"
   },
   {
    "duration": 15,
    "start_time": "2022-03-04T16:57:42.549Z"
   },
   {
    "duration": 5,
    "start_time": "2022-03-04T16:57:42.566Z"
   },
   {
    "duration": 5,
    "start_time": "2022-03-04T16:57:42.574Z"
   },
   {
    "duration": 40,
    "start_time": "2022-03-04T16:57:42.581Z"
   },
   {
    "duration": 11,
    "start_time": "2022-03-04T16:57:42.623Z"
   },
   {
    "duration": 8,
    "start_time": "2022-03-04T16:57:42.635Z"
   },
   {
    "duration": 13,
    "start_time": "2022-03-04T16:57:42.645Z"
   },
   {
    "duration": 6,
    "start_time": "2022-03-04T16:57:42.659Z"
   },
   {
    "duration": 21,
    "start_time": "2022-03-04T16:57:42.667Z"
   },
   {
    "duration": 26,
    "start_time": "2022-03-04T16:57:42.689Z"
   },
   {
    "duration": 10,
    "start_time": "2022-03-04T16:57:42.716Z"
   },
   {
    "duration": 26,
    "start_time": "2022-03-04T16:57:42.727Z"
   },
   {
    "duration": 4,
    "start_time": "2022-03-04T16:57:42.755Z"
   },
   {
    "duration": 31,
    "start_time": "2022-03-04T16:57:42.760Z"
   },
   {
    "duration": 18,
    "start_time": "2022-03-04T16:57:42.792Z"
   },
   {
    "duration": 9,
    "start_time": "2022-03-04T16:57:48.142Z"
   },
   {
    "duration": 27,
    "start_time": "2022-03-04T17:00:08.026Z"
   },
   {
    "duration": 11,
    "start_time": "2022-03-04T17:01:28.098Z"
   },
   {
    "duration": 317,
    "start_time": "2022-03-04T17:12:16.642Z"
   },
   {
    "duration": 6,
    "start_time": "2022-03-04T17:12:49.880Z"
   },
   {
    "duration": 7,
    "start_time": "2022-03-04T17:14:05.368Z"
   },
   {
    "duration": 12,
    "start_time": "2022-03-04T17:16:44.272Z"
   },
   {
    "duration": 275,
    "start_time": "2022-03-04T17:17:15.652Z"
   },
   {
    "duration": 9,
    "start_time": "2022-03-04T17:20:11.125Z"
   },
   {
    "duration": 6,
    "start_time": "2022-03-04T17:20:22.686Z"
   },
   {
    "duration": 12,
    "start_time": "2022-03-04T17:20:28.152Z"
   },
   {
    "duration": 616,
    "start_time": "2022-03-04T17:20:54.212Z"
   },
   {
    "duration": 24,
    "start_time": "2022-03-04T17:20:54.829Z"
   },
   {
    "duration": 9,
    "start_time": "2022-03-04T17:20:54.855Z"
   },
   {
    "duration": 4,
    "start_time": "2022-03-04T17:20:54.866Z"
   },
   {
    "duration": 51,
    "start_time": "2022-03-04T17:20:54.872Z"
   },
   {
    "duration": 7,
    "start_time": "2022-03-04T17:20:54.924Z"
   },
   {
    "duration": 5,
    "start_time": "2022-03-04T17:20:54.933Z"
   },
   {
    "duration": 7,
    "start_time": "2022-03-04T17:20:54.940Z"
   },
   {
    "duration": 14,
    "start_time": "2022-03-04T17:20:54.950Z"
   },
   {
    "duration": 7,
    "start_time": "2022-03-04T17:20:54.966Z"
   },
   {
    "duration": 10,
    "start_time": "2022-03-04T17:20:55.010Z"
   },
   {
    "duration": 11,
    "start_time": "2022-03-04T17:20:55.022Z"
   },
   {
    "duration": 10,
    "start_time": "2022-03-04T17:20:55.034Z"
   },
   {
    "duration": 5,
    "start_time": "2022-03-04T17:20:55.045Z"
   },
   {
    "duration": 10,
    "start_time": "2022-03-04T17:20:55.051Z"
   },
   {
    "duration": 7,
    "start_time": "2022-03-04T17:20:55.062Z"
   },
   {
    "duration": 6,
    "start_time": "2022-03-04T17:20:55.070Z"
   },
   {
    "duration": 41,
    "start_time": "2022-03-04T17:20:55.077Z"
   },
   {
    "duration": 25,
    "start_time": "2022-03-04T17:20:55.120Z"
   },
   {
    "duration": 5,
    "start_time": "2022-03-04T17:20:55.146Z"
   },
   {
    "duration": 19,
    "start_time": "2022-03-04T17:20:55.153Z"
   },
   {
    "duration": 8,
    "start_time": "2022-03-04T17:20:55.173Z"
   },
   {
    "duration": 32,
    "start_time": "2022-03-04T17:20:55.182Z"
   },
   {
    "duration": 8,
    "start_time": "2022-03-04T17:20:55.215Z"
   },
   {
    "duration": 13,
    "start_time": "2022-03-04T17:20:55.224Z"
   },
   {
    "duration": 9,
    "start_time": "2022-03-04T17:20:55.238Z"
   },
   {
    "duration": 14,
    "start_time": "2022-03-04T17:20:55.249Z"
   },
   {
    "duration": 3,
    "start_time": "2022-03-04T17:20:55.265Z"
   },
   {
    "duration": 40,
    "start_time": "2022-03-04T17:20:55.270Z"
   },
   {
    "duration": 5,
    "start_time": "2022-03-04T17:20:55.311Z"
   },
   {
    "duration": 13,
    "start_time": "2022-03-04T17:20:55.318Z"
   },
   {
    "duration": 23,
    "start_time": "2022-03-04T17:20:55.332Z"
   },
   {
    "duration": 4,
    "start_time": "2022-03-04T17:20:55.356Z"
   },
   {
    "duration": 28,
    "start_time": "2022-03-04T17:20:55.362Z"
   },
   {
    "duration": 12,
    "start_time": "2022-03-04T17:20:55.405Z"
   },
   {
    "duration": 11,
    "start_time": "2022-03-04T17:20:55.418Z"
   },
   {
    "duration": 26,
    "start_time": "2022-03-04T17:20:55.430Z"
   },
   {
    "duration": 9,
    "start_time": "2022-03-04T17:20:55.458Z"
   },
   {
    "duration": 5,
    "start_time": "2022-03-04T17:20:55.468Z"
   },
   {
    "duration": 40,
    "start_time": "2022-03-04T17:20:55.475Z"
   },
   {
    "duration": 343,
    "start_time": "2022-03-04T17:20:55.517Z"
   },
   {
    "duration": 258,
    "start_time": "2022-03-04T17:21:45.430Z"
   },
   {
    "duration": 13,
    "start_time": "2022-03-04T17:26:45.486Z"
   },
   {
    "duration": 573,
    "start_time": "2022-03-04T17:27:06.845Z"
   },
   {
    "duration": 23,
    "start_time": "2022-03-04T17:27:07.420Z"
   },
   {
    "duration": 7,
    "start_time": "2022-03-04T17:27:07.445Z"
   },
   {
    "duration": 6,
    "start_time": "2022-03-04T17:27:07.454Z"
   },
   {
    "duration": 45,
    "start_time": "2022-03-04T17:27:07.461Z"
   },
   {
    "duration": 7,
    "start_time": "2022-03-04T17:27:07.508Z"
   },
   {
    "duration": 6,
    "start_time": "2022-03-04T17:27:07.516Z"
   },
   {
    "duration": 7,
    "start_time": "2022-03-04T17:27:07.524Z"
   },
   {
    "duration": 12,
    "start_time": "2022-03-04T17:27:07.533Z"
   },
   {
    "duration": 7,
    "start_time": "2022-03-04T17:27:07.546Z"
   },
   {
    "duration": 7,
    "start_time": "2022-03-04T17:27:07.554Z"
   },
   {
    "duration": 46,
    "start_time": "2022-03-04T17:27:07.562Z"
   },
   {
    "duration": 8,
    "start_time": "2022-03-04T17:27:07.609Z"
   },
   {
    "duration": 4,
    "start_time": "2022-03-04T17:27:07.619Z"
   },
   {
    "duration": 7,
    "start_time": "2022-03-04T17:27:07.625Z"
   },
   {
    "duration": 6,
    "start_time": "2022-03-04T17:27:07.633Z"
   },
   {
    "duration": 4,
    "start_time": "2022-03-04T17:27:07.641Z"
   },
   {
    "duration": 14,
    "start_time": "2022-03-04T17:27:07.647Z"
   },
   {
    "duration": 57,
    "start_time": "2022-03-04T17:27:07.663Z"
   },
   {
    "duration": 6,
    "start_time": "2022-03-04T17:27:07.722Z"
   },
   {
    "duration": 25,
    "start_time": "2022-03-04T17:27:07.729Z"
   },
   {
    "duration": 6,
    "start_time": "2022-03-04T17:27:07.756Z"
   },
   {
    "duration": 6,
    "start_time": "2022-03-04T17:27:07.765Z"
   },
   {
    "duration": 9,
    "start_time": "2022-03-04T17:27:07.772Z"
   },
   {
    "duration": 27,
    "start_time": "2022-03-04T17:27:07.783Z"
   },
   {
    "duration": 9,
    "start_time": "2022-03-04T17:27:07.811Z"
   },
   {
    "duration": 15,
    "start_time": "2022-03-04T17:27:07.821Z"
   },
   {
    "duration": 4,
    "start_time": "2022-03-04T17:27:07.837Z"
   },
   {
    "duration": 36,
    "start_time": "2022-03-04T17:27:07.843Z"
   },
   {
    "duration": 7,
    "start_time": "2022-03-04T17:27:07.881Z"
   },
   {
    "duration": 16,
    "start_time": "2022-03-04T17:27:07.889Z"
   },
   {
    "duration": 28,
    "start_time": "2022-03-04T17:27:07.907Z"
   },
   {
    "duration": 5,
    "start_time": "2022-03-04T17:27:07.936Z"
   },
   {
    "duration": 32,
    "start_time": "2022-03-04T17:27:07.943Z"
   },
   {
    "duration": 10,
    "start_time": "2022-03-04T17:27:07.977Z"
   },
   {
    "duration": 20,
    "start_time": "2022-03-04T17:27:07.988Z"
   },
   {
    "duration": 25,
    "start_time": "2022-03-04T17:27:08.009Z"
   },
   {
    "duration": 10,
    "start_time": "2022-03-04T17:27:08.036Z"
   },
   {
    "duration": 5,
    "start_time": "2022-03-04T17:27:08.048Z"
   },
   {
    "duration": 16,
    "start_time": "2022-03-04T17:27:08.055Z"
   },
   {
    "duration": 32,
    "start_time": "2022-03-04T17:27:08.073Z"
   },
   {
    "duration": 4,
    "start_time": "2022-03-04T17:29:10.461Z"
   },
   {
    "duration": 9,
    "start_time": "2022-03-04T17:29:16.175Z"
   },
   {
    "duration": 569,
    "start_time": "2022-03-04T17:29:23.867Z"
   },
   {
    "duration": 23,
    "start_time": "2022-03-04T17:29:24.438Z"
   },
   {
    "duration": 7,
    "start_time": "2022-03-04T17:29:24.463Z"
   },
   {
    "duration": 6,
    "start_time": "2022-03-04T17:29:24.472Z"
   },
   {
    "duration": 30,
    "start_time": "2022-03-04T17:29:24.479Z"
   },
   {
    "duration": 5,
    "start_time": "2022-03-04T17:29:24.511Z"
   },
   {
    "duration": 4,
    "start_time": "2022-03-04T17:29:24.518Z"
   },
   {
    "duration": 7,
    "start_time": "2022-03-04T17:29:24.524Z"
   },
   {
    "duration": 14,
    "start_time": "2022-03-04T17:29:24.532Z"
   },
   {
    "duration": 6,
    "start_time": "2022-03-04T17:29:24.547Z"
   },
   {
    "duration": 10,
    "start_time": "2022-03-04T17:29:24.554Z"
   },
   {
    "duration": 5,
    "start_time": "2022-03-04T17:29:24.565Z"
   },
   {
    "duration": 7,
    "start_time": "2022-03-04T17:29:24.604Z"
   },
   {
    "duration": 8,
    "start_time": "2022-03-04T17:29:24.612Z"
   },
   {
    "duration": 20,
    "start_time": "2022-03-04T17:29:24.622Z"
   },
   {
    "duration": 5,
    "start_time": "2022-03-04T17:29:24.644Z"
   },
   {
    "duration": 6,
    "start_time": "2022-03-04T17:29:24.650Z"
   },
   {
    "duration": 15,
    "start_time": "2022-03-04T17:29:24.657Z"
   },
   {
    "duration": 36,
    "start_time": "2022-03-04T17:29:24.673Z"
   },
   {
    "duration": 5,
    "start_time": "2022-03-04T17:29:24.711Z"
   },
   {
    "duration": 17,
    "start_time": "2022-03-04T17:29:24.718Z"
   },
   {
    "duration": 5,
    "start_time": "2022-03-04T17:29:24.737Z"
   },
   {
    "duration": 9,
    "start_time": "2022-03-04T17:29:24.745Z"
   },
   {
    "duration": 8,
    "start_time": "2022-03-04T17:29:24.756Z"
   },
   {
    "duration": 12,
    "start_time": "2022-03-04T17:29:24.766Z"
   },
   {
    "duration": 34,
    "start_time": "2022-03-04T17:29:24.779Z"
   },
   {
    "duration": 15,
    "start_time": "2022-03-04T17:29:24.814Z"
   },
   {
    "duration": 4,
    "start_time": "2022-03-04T17:29:24.830Z"
   },
   {
    "duration": 24,
    "start_time": "2022-03-04T17:29:24.836Z"
   },
   {
    "duration": 6,
    "start_time": "2022-03-04T17:29:24.861Z"
   },
   {
    "duration": 3,
    "start_time": "2022-03-04T17:29:24.868Z"
   },
   {
    "duration": 49,
    "start_time": "2022-03-04T17:29:24.873Z"
   },
   {
    "duration": 4,
    "start_time": "2022-03-04T17:29:24.923Z"
   },
   {
    "duration": 26,
    "start_time": "2022-03-04T17:29:24.928Z"
   },
   {
    "duration": 9,
    "start_time": "2022-03-04T17:29:24.956Z"
   },
   {
    "duration": 9,
    "start_time": "2022-03-04T17:29:24.967Z"
   },
   {
    "duration": 26,
    "start_time": "2022-03-04T17:29:25.005Z"
   },
   {
    "duration": 10,
    "start_time": "2022-03-04T17:29:25.033Z"
   },
   {
    "duration": 5,
    "start_time": "2022-03-04T17:29:25.044Z"
   },
   {
    "duration": 10,
    "start_time": "2022-03-04T17:29:25.051Z"
   },
   {
    "duration": 4,
    "start_time": "2022-03-04T17:29:25.062Z"
   },
   {
    "duration": 17,
    "start_time": "2022-03-04T17:30:03.600Z"
   },
   {
    "duration": 813,
    "start_time": "2022-03-07T15:56:03.847Z"
   },
   {
    "duration": 45,
    "start_time": "2022-03-07T15:56:04.663Z"
   },
   {
    "duration": 42,
    "start_time": "2022-03-07T15:56:04.711Z"
   },
   {
    "duration": 7,
    "start_time": "2022-03-07T15:56:04.756Z"
   },
   {
    "duration": 41,
    "start_time": "2022-03-07T15:56:04.766Z"
   },
   {
    "duration": 45,
    "start_time": "2022-03-07T15:56:04.811Z"
   },
   {
    "duration": 7,
    "start_time": "2022-03-07T15:56:04.858Z"
   },
   {
    "duration": 11,
    "start_time": "2022-03-07T15:56:04.870Z"
   },
   {
    "duration": 20,
    "start_time": "2022-03-07T15:56:04.884Z"
   },
   {
    "duration": 53,
    "start_time": "2022-03-07T15:56:04.906Z"
   },
   {
    "duration": 12,
    "start_time": "2022-03-07T15:56:04.962Z"
   },
   {
    "duration": 9,
    "start_time": "2022-03-07T15:56:04.976Z"
   },
   {
    "duration": 15,
    "start_time": "2022-03-07T15:56:04.988Z"
   },
   {
    "duration": 49,
    "start_time": "2022-03-07T15:56:05.005Z"
   },
   {
    "duration": 12,
    "start_time": "2022-03-07T15:56:05.057Z"
   },
   {
    "duration": 14,
    "start_time": "2022-03-07T15:56:05.071Z"
   },
   {
    "duration": 9,
    "start_time": "2022-03-07T15:56:05.087Z"
   },
   {
    "duration": 63,
    "start_time": "2022-03-07T15:56:05.098Z"
   },
   {
    "duration": 37,
    "start_time": "2022-03-07T15:56:05.164Z"
   },
   {
    "duration": 10,
    "start_time": "2022-03-07T15:56:05.203Z"
   },
   {
    "duration": 54,
    "start_time": "2022-03-07T15:56:05.215Z"
   },
   {
    "duration": 9,
    "start_time": "2022-03-07T15:56:05.271Z"
   },
   {
    "duration": 11,
    "start_time": "2022-03-07T15:56:05.285Z"
   },
   {
    "duration": 13,
    "start_time": "2022-03-07T15:56:05.298Z"
   },
   {
    "duration": 42,
    "start_time": "2022-03-07T15:56:05.314Z"
   },
   {
    "duration": 14,
    "start_time": "2022-03-07T15:56:05.358Z"
   },
   {
    "duration": 25,
    "start_time": "2022-03-07T15:56:05.374Z"
   },
   {
    "duration": 10,
    "start_time": "2022-03-07T15:56:05.401Z"
   },
   {
    "duration": 80,
    "start_time": "2022-03-07T15:56:05.413Z"
   },
   {
    "duration": 6,
    "start_time": "2022-03-07T15:56:05.496Z"
   },
   {
    "duration": 5,
    "start_time": "2022-03-07T15:56:05.505Z"
   },
   {
    "duration": 58,
    "start_time": "2022-03-07T15:56:05.512Z"
   },
   {
    "duration": 7,
    "start_time": "2022-03-07T15:56:05.572Z"
   },
   {
    "duration": 45,
    "start_time": "2022-03-07T15:56:05.581Z"
   },
   {
    "duration": 40,
    "start_time": "2022-03-07T15:56:05.628Z"
   },
   {
    "duration": 12,
    "start_time": "2022-03-07T15:56:05.670Z"
   },
   {
    "duration": 72,
    "start_time": "2022-03-07T15:56:05.684Z"
   },
   {
    "duration": 16,
    "start_time": "2022-03-07T15:56:05.758Z"
   },
   {
    "duration": 10,
    "start_time": "2022-03-07T15:56:05.776Z"
   },
   {
    "duration": 14,
    "start_time": "2022-03-07T15:56:05.789Z"
   },
   {
    "duration": 64,
    "start_time": "2022-03-07T15:56:05.805Z"
   },
   {
    "duration": 3,
    "start_time": "2022-03-07T15:56:05.871Z"
   },
   {
    "duration": 694,
    "start_time": "2022-03-07T15:57:06.285Z"
   },
   {
    "duration": 90,
    "start_time": "2022-03-07T15:57:09.283Z"
   },
   {
    "duration": 6581,
    "start_time": "2022-03-07T15:57:20.944Z"
   },
   {
    "duration": 6626,
    "start_time": "2022-03-07T15:57:46.872Z"
   },
   {
    "duration": 836,
    "start_time": "2022-03-07T16:05:42.019Z"
   },
   {
    "duration": 45,
    "start_time": "2022-03-07T16:05:42.858Z"
   },
   {
    "duration": 12,
    "start_time": "2022-03-07T16:05:42.906Z"
   },
   {
    "duration": 32,
    "start_time": "2022-03-07T16:05:42.921Z"
   },
   {
    "duration": 40,
    "start_time": "2022-03-07T16:05:42.956Z"
   },
   {
    "duration": 10,
    "start_time": "2022-03-07T16:05:42.998Z"
   },
   {
    "duration": 42,
    "start_time": "2022-03-07T16:05:43.011Z"
   },
   {
    "duration": 47,
    "start_time": "2022-03-07T16:05:43.057Z"
   },
   {
    "duration": 21,
    "start_time": "2022-03-07T16:05:43.107Z"
   },
   {
    "duration": 11,
    "start_time": "2022-03-07T16:05:43.130Z"
   },
   {
    "duration": 17,
    "start_time": "2022-03-07T16:05:43.143Z"
   },
   {
    "duration": 10,
    "start_time": "2022-03-07T16:05:43.163Z"
   },
   {
    "duration": 16,
    "start_time": "2022-03-07T16:05:43.176Z"
   },
   {
    "duration": 8,
    "start_time": "2022-03-07T16:05:43.194Z"
   },
   {
    "duration": 52,
    "start_time": "2022-03-07T16:05:43.205Z"
   },
   {
    "duration": 8,
    "start_time": "2022-03-07T16:05:43.259Z"
   },
   {
    "duration": 9,
    "start_time": "2022-03-07T16:05:43.270Z"
   },
   {
    "duration": 23,
    "start_time": "2022-03-07T16:05:43.281Z"
   },
   {
    "duration": 82,
    "start_time": "2022-03-07T16:05:43.306Z"
   },
   {
    "duration": 9,
    "start_time": "2022-03-07T16:05:43.391Z"
   },
   {
    "duration": 52,
    "start_time": "2022-03-07T16:05:43.403Z"
   },
   {
    "duration": 10,
    "start_time": "2022-03-07T16:05:43.457Z"
   },
   {
    "duration": 9,
    "start_time": "2022-03-07T16:05:43.472Z"
   },
   {
    "duration": 10,
    "start_time": "2022-03-07T16:05:43.483Z"
   },
   {
    "duration": 21,
    "start_time": "2022-03-07T16:05:43.496Z"
   },
   {
    "duration": 16,
    "start_time": "2022-03-07T16:05:43.552Z"
   },
   {
    "duration": 24,
    "start_time": "2022-03-07T16:05:43.570Z"
   },
   {
    "duration": 6,
    "start_time": "2022-03-07T16:05:43.596Z"
   },
   {
    "duration": 71,
    "start_time": "2022-03-07T16:05:43.604Z"
   },
   {
    "duration": 9,
    "start_time": "2022-03-07T16:05:43.679Z"
   },
   {
    "duration": 6,
    "start_time": "2022-03-07T16:05:43.691Z"
   },
   {
    "duration": 70,
    "start_time": "2022-03-07T16:05:43.700Z"
   },
   {
    "duration": 8,
    "start_time": "2022-03-07T16:05:43.774Z"
   },
   {
    "duration": 88,
    "start_time": "2022-03-07T16:05:43.785Z"
   },
   {
    "duration": 19,
    "start_time": "2022-03-07T16:05:43.876Z"
   },
   {
    "duration": 14,
    "start_time": "2022-03-07T16:05:43.897Z"
   },
   {
    "duration": 74,
    "start_time": "2022-03-07T16:05:43.914Z"
   },
   {
    "duration": 16,
    "start_time": "2022-03-07T16:05:43.990Z"
   },
   {
    "duration": 10,
    "start_time": "2022-03-07T16:05:50.277Z"
   },
   {
    "duration": 16,
    "start_time": "2022-03-07T16:07:12.602Z"
   },
   {
    "duration": 9,
    "start_time": "2022-03-07T16:07:27.064Z"
   },
   {
    "duration": 9,
    "start_time": "2022-03-07T16:07:38.369Z"
   },
   {
    "duration": 10,
    "start_time": "2022-03-07T16:07:45.234Z"
   },
   {
    "duration": 6847,
    "start_time": "2022-03-07T16:10:02.299Z"
   },
   {
    "duration": 5,
    "start_time": "2022-03-07T16:10:13.245Z"
   },
   {
    "duration": 17,
    "start_time": "2022-03-07T16:10:17.663Z"
   },
   {
    "duration": 13,
    "start_time": "2022-03-07T16:10:26.737Z"
   },
   {
    "duration": 22,
    "start_time": "2022-03-07T16:11:15.806Z"
   },
   {
    "duration": 6980,
    "start_time": "2022-03-07T16:12:02.059Z"
   },
   {
    "duration": 6794,
    "start_time": "2022-03-07T16:12:25.586Z"
   },
   {
    "duration": 11,
    "start_time": "2022-03-07T16:12:35.293Z"
   },
   {
    "duration": 290,
    "start_time": "2022-03-07T16:13:45.165Z"
   },
   {
    "duration": 266,
    "start_time": "2022-03-07T16:13:55.928Z"
   },
   {
    "duration": 849,
    "start_time": "2022-03-07T16:14:51.321Z"
   },
   {
    "duration": 43,
    "start_time": "2022-03-07T16:14:52.172Z"
   },
   {
    "duration": 38,
    "start_time": "2022-03-07T16:14:52.219Z"
   },
   {
    "duration": 7,
    "start_time": "2022-03-07T16:14:52.260Z"
   },
   {
    "duration": 43,
    "start_time": "2022-03-07T16:14:52.269Z"
   },
   {
    "duration": 38,
    "start_time": "2022-03-07T16:14:52.314Z"
   },
   {
    "duration": 7,
    "start_time": "2022-03-07T16:14:52.355Z"
   },
   {
    "duration": 10,
    "start_time": "2022-03-07T16:14:52.367Z"
   },
   {
    "duration": 21,
    "start_time": "2022-03-07T16:14:52.380Z"
   },
   {
    "duration": 51,
    "start_time": "2022-03-07T16:14:52.404Z"
   },
   {
    "duration": 13,
    "start_time": "2022-03-07T16:14:52.458Z"
   },
   {
    "duration": 8,
    "start_time": "2022-03-07T16:14:52.473Z"
   },
   {
    "duration": 14,
    "start_time": "2022-03-07T16:14:52.484Z"
   },
   {
    "duration": 8,
    "start_time": "2022-03-07T16:14:52.500Z"
   },
   {
    "duration": 53,
    "start_time": "2022-03-07T16:14:52.510Z"
   },
   {
    "duration": 8,
    "start_time": "2022-03-07T16:14:52.566Z"
   },
   {
    "duration": 7,
    "start_time": "2022-03-07T16:14:52.576Z"
   },
   {
    "duration": 20,
    "start_time": "2022-03-07T16:14:52.586Z"
   },
   {
    "duration": 78,
    "start_time": "2022-03-07T16:14:52.609Z"
   },
   {
    "duration": 12,
    "start_time": "2022-03-07T16:14:52.689Z"
   },
   {
    "duration": 58,
    "start_time": "2022-03-07T16:14:52.704Z"
   },
   {
    "duration": 9,
    "start_time": "2022-03-07T16:14:52.764Z"
   },
   {
    "duration": 11,
    "start_time": "2022-03-07T16:14:52.778Z"
   },
   {
    "duration": 11,
    "start_time": "2022-03-07T16:14:52.792Z"
   },
   {
    "duration": 58,
    "start_time": "2022-03-07T16:14:52.805Z"
   },
   {
    "duration": 17,
    "start_time": "2022-03-07T16:14:52.866Z"
   },
   {
    "duration": 26,
    "start_time": "2022-03-07T16:14:52.885Z"
   },
   {
    "duration": 39,
    "start_time": "2022-03-07T16:14:52.913Z"
   },
   {
    "duration": 40,
    "start_time": "2022-03-07T16:14:52.955Z"
   },
   {
    "duration": 10,
    "start_time": "2022-03-07T16:14:52.998Z"
   },
   {
    "duration": 15,
    "start_time": "2022-03-07T16:14:53.010Z"
   },
   {
    "duration": 60,
    "start_time": "2022-03-07T16:14:53.028Z"
   },
   {
    "duration": 7,
    "start_time": "2022-03-07T16:14:53.090Z"
   },
   {
    "duration": 74,
    "start_time": "2022-03-07T16:14:53.099Z"
   },
   {
    "duration": 19,
    "start_time": "2022-03-07T16:14:53.175Z"
   },
   {
    "duration": 13,
    "start_time": "2022-03-07T16:14:53.196Z"
   },
   {
    "duration": 71,
    "start_time": "2022-03-07T16:14:53.212Z"
   },
   {
    "duration": 10,
    "start_time": "2022-03-07T16:15:02.424Z"
   },
   {
    "duration": 15,
    "start_time": "2022-03-07T16:19:11.767Z"
   },
   {
    "duration": 21,
    "start_time": "2022-03-07T16:19:20.454Z"
   },
   {
    "duration": 20,
    "start_time": "2022-03-07T16:29:08.170Z"
   },
   {
    "duration": 751,
    "start_time": "2022-03-07T16:29:23.677Z"
   },
   {
    "duration": 43,
    "start_time": "2022-03-07T16:29:24.430Z"
   },
   {
    "duration": 14,
    "start_time": "2022-03-07T16:29:24.476Z"
   },
   {
    "duration": 7,
    "start_time": "2022-03-07T16:29:24.493Z"
   },
   {
    "duration": 72,
    "start_time": "2022-03-07T16:29:24.502Z"
   },
   {
    "duration": 12,
    "start_time": "2022-03-07T16:29:24.577Z"
   },
   {
    "duration": 9,
    "start_time": "2022-03-07T16:29:24.592Z"
   },
   {
    "duration": 49,
    "start_time": "2022-03-07T16:29:24.607Z"
   },
   {
    "duration": 22,
    "start_time": "2022-03-07T16:29:24.660Z"
   },
   {
    "duration": 12,
    "start_time": "2022-03-07T16:29:24.685Z"
   },
   {
    "duration": 54,
    "start_time": "2022-03-07T16:29:24.700Z"
   },
   {
    "duration": 11,
    "start_time": "2022-03-07T16:29:24.757Z"
   },
   {
    "duration": 13,
    "start_time": "2022-03-07T16:29:24.771Z"
   },
   {
    "duration": 8,
    "start_time": "2022-03-07T16:29:24.787Z"
   },
   {
    "duration": 56,
    "start_time": "2022-03-07T16:29:24.797Z"
   },
   {
    "duration": 8,
    "start_time": "2022-03-07T16:29:24.856Z"
   },
   {
    "duration": 8,
    "start_time": "2022-03-07T16:29:24.866Z"
   },
   {
    "duration": 22,
    "start_time": "2022-03-07T16:29:24.876Z"
   },
   {
    "duration": 83,
    "start_time": "2022-03-07T16:29:24.901Z"
   },
   {
    "duration": 9,
    "start_time": "2022-03-07T16:29:24.986Z"
   },
   {
    "duration": 26,
    "start_time": "2022-03-07T16:29:24.997Z"
   },
   {
    "duration": 35,
    "start_time": "2022-03-07T16:29:25.025Z"
   },
   {
    "duration": 10,
    "start_time": "2022-03-07T16:29:25.065Z"
   },
   {
    "duration": 12,
    "start_time": "2022-03-07T16:29:25.078Z"
   },
   {
    "duration": 21,
    "start_time": "2022-03-07T16:29:25.093Z"
   },
   {
    "duration": 15,
    "start_time": "2022-03-07T16:29:25.151Z"
   },
   {
    "duration": 24,
    "start_time": "2022-03-07T16:29:25.168Z"
   },
   {
    "duration": 18,
    "start_time": "2022-03-07T16:29:25.194Z"
   },
   {
    "duration": 58,
    "start_time": "2022-03-07T16:29:25.215Z"
   },
   {
    "duration": 16,
    "start_time": "2022-03-07T16:29:25.276Z"
   },
   {
    "duration": 8,
    "start_time": "2022-03-07T16:29:25.294Z"
   },
   {
    "duration": 58,
    "start_time": "2022-03-07T16:29:25.304Z"
   },
   {
    "duration": 8,
    "start_time": "2022-03-07T16:29:25.365Z"
   },
   {
    "duration": 75,
    "start_time": "2022-03-07T16:29:25.376Z"
   },
   {
    "duration": 21,
    "start_time": "2022-03-07T16:29:25.453Z"
   },
   {
    "duration": 15,
    "start_time": "2022-03-07T16:29:25.476Z"
   },
   {
    "duration": 80,
    "start_time": "2022-03-07T16:29:25.494Z"
   },
   {
    "duration": 10,
    "start_time": "2022-03-07T16:29:25.577Z"
   },
   {
    "duration": 15,
    "start_time": "2022-03-07T16:29:25.590Z"
   },
   {
    "duration": 21,
    "start_time": "2022-03-07T16:29:32.762Z"
   },
   {
    "duration": 936,
    "start_time": "2022-03-07T16:29:56.776Z"
   },
   {
    "duration": 62,
    "start_time": "2022-03-07T16:29:57.715Z"
   },
   {
    "duration": 12,
    "start_time": "2022-03-07T16:29:57.780Z"
   },
   {
    "duration": 9,
    "start_time": "2022-03-07T16:29:57.795Z"
   },
   {
    "duration": 76,
    "start_time": "2022-03-07T16:29:57.807Z"
   },
   {
    "duration": 14,
    "start_time": "2022-03-07T16:29:57.886Z"
   },
   {
    "duration": 11,
    "start_time": "2022-03-07T16:29:57.903Z"
   },
   {
    "duration": 11,
    "start_time": "2022-03-07T16:29:57.955Z"
   },
   {
    "duration": 25,
    "start_time": "2022-03-07T16:29:57.970Z"
   },
   {
    "duration": 14,
    "start_time": "2022-03-07T16:29:57.998Z"
   },
   {
    "duration": 46,
    "start_time": "2022-03-07T16:29:58.014Z"
   },
   {
    "duration": 9,
    "start_time": "2022-03-07T16:29:58.063Z"
   },
   {
    "duration": 20,
    "start_time": "2022-03-07T16:29:58.075Z"
   },
   {
    "duration": 56,
    "start_time": "2022-03-07T16:29:58.098Z"
   },
   {
    "duration": 15,
    "start_time": "2022-03-07T16:29:58.157Z"
   },
   {
    "duration": 9,
    "start_time": "2022-03-07T16:29:58.175Z"
   },
   {
    "duration": 10,
    "start_time": "2022-03-07T16:29:58.187Z"
   },
   {
    "duration": 76,
    "start_time": "2022-03-07T16:29:58.200Z"
   },
   {
    "duration": 61,
    "start_time": "2022-03-07T16:29:58.278Z"
   },
   {
    "duration": 11,
    "start_time": "2022-03-07T16:29:58.352Z"
   },
   {
    "duration": 46,
    "start_time": "2022-03-07T16:29:58.365Z"
   },
   {
    "duration": 12,
    "start_time": "2022-03-07T16:29:58.414Z"
   },
   {
    "duration": 14,
    "start_time": "2022-03-07T16:29:58.456Z"
   },
   {
    "duration": 15,
    "start_time": "2022-03-07T16:29:58.474Z"
   },
   {
    "duration": 20,
    "start_time": "2022-03-07T16:29:58.492Z"
   },
   {
    "duration": 50,
    "start_time": "2022-03-07T16:29:58.515Z"
   },
   {
    "duration": 27,
    "start_time": "2022-03-07T16:29:58.567Z"
   },
   {
    "duration": 6,
    "start_time": "2022-03-07T16:29:58.597Z"
   },
   {
    "duration": 77,
    "start_time": "2022-03-07T16:29:58.606Z"
   },
   {
    "duration": 7,
    "start_time": "2022-03-07T16:29:58.686Z"
   },
   {
    "duration": 6,
    "start_time": "2022-03-07T16:29:58.695Z"
   },
   {
    "duration": 63,
    "start_time": "2022-03-07T16:29:58.704Z"
   },
   {
    "duration": 7,
    "start_time": "2022-03-07T16:29:58.769Z"
   },
   {
    "duration": 48,
    "start_time": "2022-03-07T16:29:58.778Z"
   },
   {
    "duration": 19,
    "start_time": "2022-03-07T16:29:58.852Z"
   },
   {
    "duration": 13,
    "start_time": "2022-03-07T16:29:58.873Z"
   },
   {
    "duration": 76,
    "start_time": "2022-03-07T16:29:58.889Z"
   },
   {
    "duration": 10,
    "start_time": "2022-03-07T16:29:58.968Z"
   },
   {
    "duration": 17,
    "start_time": "2022-03-07T16:29:58.980Z"
   },
   {
    "duration": 388,
    "start_time": "2022-03-07T16:31:52.795Z"
   },
   {
    "duration": 20,
    "start_time": "2022-03-07T16:32:59.869Z"
   },
   {
    "duration": 7,
    "start_time": "2022-03-07T16:33:29.561Z"
   },
   {
    "duration": 14,
    "start_time": "2022-03-07T16:33:37.384Z"
   },
   {
    "duration": 797,
    "start_time": "2022-03-07T16:40:42.182Z"
   },
   {
    "duration": 42,
    "start_time": "2022-03-07T16:40:42.982Z"
   },
   {
    "duration": 29,
    "start_time": "2022-03-07T16:40:43.027Z"
   },
   {
    "duration": 6,
    "start_time": "2022-03-07T16:40:43.059Z"
   },
   {
    "duration": 50,
    "start_time": "2022-03-07T16:40:43.067Z"
   },
   {
    "duration": 10,
    "start_time": "2022-03-07T16:40:43.119Z"
   },
   {
    "duration": 9,
    "start_time": "2022-03-07T16:40:43.153Z"
   },
   {
    "duration": 13,
    "start_time": "2022-03-07T16:40:43.168Z"
   },
   {
    "duration": 21,
    "start_time": "2022-03-07T16:40:43.184Z"
   },
   {
    "duration": 52,
    "start_time": "2022-03-07T16:40:43.208Z"
   },
   {
    "duration": 12,
    "start_time": "2022-03-07T16:40:43.262Z"
   },
   {
    "duration": 8,
    "start_time": "2022-03-07T16:40:43.276Z"
   },
   {
    "duration": 11,
    "start_time": "2022-03-07T16:40:43.287Z"
   },
   {
    "duration": 53,
    "start_time": "2022-03-07T16:40:43.300Z"
   },
   {
    "duration": 13,
    "start_time": "2022-03-07T16:40:43.355Z"
   },
   {
    "duration": 8,
    "start_time": "2022-03-07T16:40:43.371Z"
   },
   {
    "duration": 8,
    "start_time": "2022-03-07T16:40:43.381Z"
   },
   {
    "duration": 62,
    "start_time": "2022-03-07T16:40:43.391Z"
   },
   {
    "duration": 42,
    "start_time": "2022-03-07T16:40:43.456Z"
   },
   {
    "duration": 9,
    "start_time": "2022-03-07T16:40:43.501Z"
   },
   {
    "duration": 55,
    "start_time": "2022-03-07T16:40:43.514Z"
   },
   {
    "duration": 11,
    "start_time": "2022-03-07T16:40:43.572Z"
   },
   {
    "duration": 9,
    "start_time": "2022-03-07T16:40:43.589Z"
   },
   {
    "duration": 10,
    "start_time": "2022-03-07T16:40:43.600Z"
   },
   {
    "duration": 18,
    "start_time": "2022-03-07T16:40:43.652Z"
   },
   {
    "duration": 15,
    "start_time": "2022-03-07T16:40:43.672Z"
   },
   {
    "duration": 64,
    "start_time": "2022-03-07T16:40:43.689Z"
   },
   {
    "duration": 6,
    "start_time": "2022-03-07T16:40:43.756Z"
   },
   {
    "duration": 43,
    "start_time": "2022-03-07T16:40:43.764Z"
   },
   {
    "duration": 6,
    "start_time": "2022-03-07T16:40:43.810Z"
   },
   {
    "duration": 32,
    "start_time": "2022-03-07T16:40:43.819Z"
   },
   {
    "duration": 42,
    "start_time": "2022-03-07T16:40:43.853Z"
   },
   {
    "duration": 8,
    "start_time": "2022-03-07T16:40:43.897Z"
   },
   {
    "duration": 72,
    "start_time": "2022-03-07T16:40:43.907Z"
   },
   {
    "duration": 19,
    "start_time": "2022-03-07T16:40:43.981Z"
   },
   {
    "duration": 14,
    "start_time": "2022-03-07T16:40:44.002Z"
   },
   {
    "duration": 69,
    "start_time": "2022-03-07T16:40:44.019Z"
   },
   {
    "duration": 9,
    "start_time": "2022-03-07T16:40:44.090Z"
   },
   {
    "duration": 22,
    "start_time": "2022-03-07T16:40:44.101Z"
   },
   {
    "duration": 23,
    "start_time": "2022-03-07T16:40:44.151Z"
   },
   {
    "duration": 747,
    "start_time": "2022-03-07T16:40:50.790Z"
   },
   {
    "duration": 6581,
    "start_time": "2022-03-07T16:40:55.869Z"
   },
   {
    "duration": 14,
    "start_time": "2022-03-07T16:41:09.720Z"
   },
   {
    "duration": 15,
    "start_time": "2022-03-07T16:43:12.720Z"
   },
   {
    "duration": 48,
    "start_time": "2022-03-07T16:44:17.562Z"
   },
   {
    "duration": 18,
    "start_time": "2022-03-07T16:45:12.763Z"
   },
   {
    "duration": 14,
    "start_time": "2022-03-07T16:45:52.807Z"
   },
   {
    "duration": 16,
    "start_time": "2022-03-07T16:52:54.908Z"
   },
   {
    "duration": 51,
    "start_time": "2022-03-07T16:53:29.514Z"
   },
   {
    "duration": 17,
    "start_time": "2022-03-07T16:53:43.096Z"
   },
   {
    "duration": 14,
    "start_time": "2022-03-07T16:53:51.449Z"
   },
   {
    "duration": 636,
    "start_time": "2022-03-15T21:26:20.463Z"
   },
   {
    "duration": 25,
    "start_time": "2022-03-15T21:26:21.101Z"
   },
   {
    "duration": 9,
    "start_time": "2022-03-15T21:26:21.130Z"
   },
   {
    "duration": 6,
    "start_time": "2022-03-15T21:26:21.141Z"
   },
   {
    "duration": 22,
    "start_time": "2022-03-15T21:26:21.148Z"
   },
   {
    "duration": 8,
    "start_time": "2022-03-15T21:26:21.201Z"
   },
   {
    "duration": 5,
    "start_time": "2022-03-15T21:26:21.212Z"
   },
   {
    "duration": 6,
    "start_time": "2022-03-15T21:26:21.219Z"
   },
   {
    "duration": 11,
    "start_time": "2022-03-15T21:26:21.227Z"
   },
   {
    "duration": 6,
    "start_time": "2022-03-15T21:26:21.240Z"
   },
   {
    "duration": 7,
    "start_time": "2022-03-15T21:26:21.248Z"
   },
   {
    "duration": 48,
    "start_time": "2022-03-15T21:26:21.256Z"
   },
   {
    "duration": 7,
    "start_time": "2022-03-15T21:26:21.306Z"
   },
   {
    "duration": 5,
    "start_time": "2022-03-15T21:26:21.314Z"
   },
   {
    "duration": 8,
    "start_time": "2022-03-15T21:26:21.320Z"
   },
   {
    "duration": 6,
    "start_time": "2022-03-15T21:26:21.330Z"
   },
   {
    "duration": 9,
    "start_time": "2022-03-15T21:26:21.337Z"
   },
   {
    "duration": 17,
    "start_time": "2022-03-15T21:26:21.348Z"
   },
   {
    "duration": 46,
    "start_time": "2022-03-15T21:26:21.366Z"
   },
   {
    "duration": 6,
    "start_time": "2022-03-15T21:26:21.413Z"
   },
   {
    "duration": 16,
    "start_time": "2022-03-15T21:26:21.420Z"
   },
   {
    "duration": 5,
    "start_time": "2022-03-15T21:26:21.439Z"
   },
   {
    "duration": 9,
    "start_time": "2022-03-15T21:26:21.446Z"
   },
   {
    "duration": 9,
    "start_time": "2022-03-15T21:26:21.457Z"
   },
   {
    "duration": 33,
    "start_time": "2022-03-15T21:26:21.468Z"
   },
   {
    "duration": 10,
    "start_time": "2022-03-15T21:26:21.502Z"
   },
   {
    "duration": 14,
    "start_time": "2022-03-15T21:26:21.513Z"
   },
   {
    "duration": 4,
    "start_time": "2022-03-15T21:26:21.528Z"
   },
   {
    "duration": 27,
    "start_time": "2022-03-15T21:26:21.533Z"
   },
   {
    "duration": 5,
    "start_time": "2022-03-15T21:26:21.562Z"
   },
   {
    "duration": 5,
    "start_time": "2022-03-15T21:26:21.569Z"
   },
   {
    "duration": 19,
    "start_time": "2022-03-15T21:26:21.601Z"
   },
   {
    "duration": 3,
    "start_time": "2022-03-15T21:26:21.622Z"
   },
   {
    "duration": 32,
    "start_time": "2022-03-15T21:26:21.627Z"
   },
   {
    "duration": 13,
    "start_time": "2022-03-15T21:26:21.660Z"
   },
   {
    "duration": 29,
    "start_time": "2022-03-15T21:26:21.674Z"
   },
   {
    "duration": 27,
    "start_time": "2022-03-15T21:26:21.705Z"
   },
   {
    "duration": 10,
    "start_time": "2022-03-15T21:26:21.734Z"
   },
   {
    "duration": 12,
    "start_time": "2022-03-15T21:26:21.745Z"
   },
   {
    "duration": 7,
    "start_time": "2022-03-15T21:26:21.759Z"
   },
   {
    "duration": 60,
    "start_time": "2022-03-15T21:26:21.767Z"
   },
   {
    "duration": 9,
    "start_time": "2022-03-15T21:26:21.829Z"
   },
   {
    "duration": 10,
    "start_time": "2022-03-15T21:26:21.840Z"
   },
   {
    "duration": 32,
    "start_time": "2022-03-15T21:26:21.851Z"
   },
   {
    "duration": 21,
    "start_time": "2022-03-15T21:26:21.884Z"
   },
   {
    "duration": 8,
    "start_time": "2022-03-15T21:26:21.907Z"
   },
   {
    "duration": 9,
    "start_time": "2022-03-15T21:32:37.733Z"
   },
   {
    "duration": 56,
    "start_time": "2022-03-15T21:33:28.092Z"
   },
   {
    "duration": 19,
    "start_time": "2022-03-15T21:33:28.149Z"
   },
   {
    "duration": 9,
    "start_time": "2022-03-15T21:33:28.171Z"
   },
   {
    "duration": 22,
    "start_time": "2022-03-15T21:33:28.182Z"
   },
   {
    "duration": 29,
    "start_time": "2022-03-15T21:33:28.206Z"
   },
   {
    "duration": 7,
    "start_time": "2022-03-15T21:33:28.236Z"
   },
   {
    "duration": 5,
    "start_time": "2022-03-15T21:33:28.244Z"
   },
   {
    "duration": 6,
    "start_time": "2022-03-15T21:33:28.251Z"
   },
   {
    "duration": 43,
    "start_time": "2022-03-15T21:33:28.259Z"
   },
   {
    "duration": 7,
    "start_time": "2022-03-15T21:33:28.303Z"
   },
   {
    "duration": 10,
    "start_time": "2022-03-15T21:33:28.312Z"
   },
   {
    "duration": 7,
    "start_time": "2022-03-15T21:33:28.324Z"
   },
   {
    "duration": 14,
    "start_time": "2022-03-15T21:33:28.332Z"
   },
   {
    "duration": 7,
    "start_time": "2022-03-15T21:33:28.347Z"
   },
   {
    "duration": 45,
    "start_time": "2022-03-15T21:33:28.356Z"
   },
   {
    "duration": 6,
    "start_time": "2022-03-15T21:33:28.403Z"
   },
   {
    "duration": 23,
    "start_time": "2022-03-15T21:33:28.410Z"
   },
   {
    "duration": 19,
    "start_time": "2022-03-15T21:33:28.434Z"
   },
   {
    "duration": 26,
    "start_time": "2022-03-15T21:33:28.454Z"
   },
   {
    "duration": 6,
    "start_time": "2022-03-15T21:33:28.482Z"
   },
   {
    "duration": 16,
    "start_time": "2022-03-15T21:33:28.502Z"
   },
   {
    "duration": 7,
    "start_time": "2022-03-15T21:33:28.520Z"
   },
   {
    "duration": 11,
    "start_time": "2022-03-15T21:33:28.528Z"
   },
   {
    "duration": 12,
    "start_time": "2022-03-15T21:33:28.541Z"
   },
   {
    "duration": 18,
    "start_time": "2022-03-15T21:33:28.555Z"
   },
   {
    "duration": 32,
    "start_time": "2022-03-15T21:33:28.575Z"
   },
   {
    "duration": 15,
    "start_time": "2022-03-15T21:33:28.609Z"
   },
   {
    "duration": 5,
    "start_time": "2022-03-15T21:33:28.626Z"
   },
   {
    "duration": 31,
    "start_time": "2022-03-15T21:33:28.632Z"
   },
   {
    "duration": 6,
    "start_time": "2022-03-15T21:33:28.665Z"
   },
   {
    "duration": 29,
    "start_time": "2022-03-15T21:33:28.673Z"
   },
   {
    "duration": 26,
    "start_time": "2022-03-15T21:33:28.704Z"
   },
   {
    "duration": 5,
    "start_time": "2022-03-15T21:33:28.732Z"
   },
   {
    "duration": 29,
    "start_time": "2022-03-15T21:33:28.738Z"
   },
   {
    "duration": 10,
    "start_time": "2022-03-15T21:33:28.769Z"
   },
   {
    "duration": 9,
    "start_time": "2022-03-15T21:33:28.801Z"
   },
   {
    "duration": 26,
    "start_time": "2022-03-15T21:33:28.812Z"
   },
   {
    "duration": 10,
    "start_time": "2022-03-15T21:33:28.840Z"
   },
   {
    "duration": 10,
    "start_time": "2022-03-15T21:33:37.242Z"
   },
   {
    "duration": 17,
    "start_time": "2022-03-15T21:33:44.072Z"
   },
   {
    "duration": 623,
    "start_time": "2022-03-15T21:33:59.295Z"
   },
   {
    "duration": 24,
    "start_time": "2022-03-15T21:33:59.920Z"
   },
   {
    "duration": 9,
    "start_time": "2022-03-15T21:33:59.945Z"
   },
   {
    "duration": 5,
    "start_time": "2022-03-15T21:33:59.955Z"
   },
   {
    "duration": 41,
    "start_time": "2022-03-15T21:33:59.961Z"
   },
   {
    "duration": 7,
    "start_time": "2022-03-15T21:34:00.004Z"
   },
   {
    "duration": 4,
    "start_time": "2022-03-15T21:34:00.013Z"
   },
   {
    "duration": 9,
    "start_time": "2022-03-15T21:34:00.019Z"
   },
   {
    "duration": 13,
    "start_time": "2022-03-15T21:34:00.030Z"
   },
   {
    "duration": 8,
    "start_time": "2022-03-15T21:34:00.044Z"
   },
   {
    "duration": 47,
    "start_time": "2022-03-15T21:34:00.054Z"
   },
   {
    "duration": 6,
    "start_time": "2022-03-15T21:34:00.103Z"
   },
   {
    "duration": 9,
    "start_time": "2022-03-15T21:34:00.112Z"
   },
   {
    "duration": 6,
    "start_time": "2022-03-15T21:34:00.122Z"
   },
   {
    "duration": 11,
    "start_time": "2022-03-15T21:34:00.129Z"
   },
   {
    "duration": 7,
    "start_time": "2022-03-15T21:34:00.142Z"
   },
   {
    "duration": 8,
    "start_time": "2022-03-15T21:34:00.151Z"
   },
   {
    "duration": 42,
    "start_time": "2022-03-15T21:34:00.160Z"
   },
   {
    "duration": 26,
    "start_time": "2022-03-15T21:34:00.204Z"
   },
   {
    "duration": 7,
    "start_time": "2022-03-15T21:34:00.232Z"
   },
   {
    "duration": 21,
    "start_time": "2022-03-15T21:34:00.240Z"
   },
   {
    "duration": 11,
    "start_time": "2022-03-15T21:34:00.262Z"
   },
   {
    "duration": 29,
    "start_time": "2022-03-15T21:34:00.276Z"
   },
   {
    "duration": 11,
    "start_time": "2022-03-15T21:34:00.307Z"
   },
   {
    "duration": 16,
    "start_time": "2022-03-15T21:34:00.320Z"
   },
   {
    "duration": 10,
    "start_time": "2022-03-15T21:34:00.337Z"
   },
   {
    "duration": 16,
    "start_time": "2022-03-15T21:34:00.348Z"
   },
   {
    "duration": 4,
    "start_time": "2022-03-15T21:34:00.366Z"
   },
   {
    "duration": 45,
    "start_time": "2022-03-15T21:34:00.371Z"
   },
   {
    "duration": 5,
    "start_time": "2022-03-15T21:34:00.417Z"
   },
   {
    "duration": 9,
    "start_time": "2022-03-15T21:34:00.423Z"
   },
   {
    "duration": 36,
    "start_time": "2022-03-15T21:34:00.433Z"
   },
   {
    "duration": 5,
    "start_time": "2022-03-15T21:34:00.471Z"
   },
   {
    "duration": 41,
    "start_time": "2022-03-15T21:34:00.477Z"
   },
   {
    "duration": 14,
    "start_time": "2022-03-15T21:34:00.520Z"
   },
   {
    "duration": 8,
    "start_time": "2022-03-15T21:34:00.536Z"
   },
   {
    "duration": 45,
    "start_time": "2022-03-15T21:34:00.546Z"
   },
   {
    "duration": 11,
    "start_time": "2022-03-15T21:34:00.593Z"
   },
   {
    "duration": 21,
    "start_time": "2022-03-15T21:34:00.606Z"
   },
   {
    "duration": 10,
    "start_time": "2022-03-15T21:34:00.629Z"
   },
   {
    "duration": 45,
    "start_time": "2022-03-15T21:34:00.641Z"
   },
   {
    "duration": 17,
    "start_time": "2022-03-15T21:34:00.688Z"
   },
   {
    "duration": 21,
    "start_time": "2022-03-15T21:34:00.706Z"
   },
   {
    "duration": 39,
    "start_time": "2022-03-15T21:34:00.728Z"
   },
   {
    "duration": 11,
    "start_time": "2022-03-15T21:34:00.769Z"
   },
   {
    "duration": 23,
    "start_time": "2022-03-15T21:34:00.782Z"
   },
   {
    "duration": 697,
    "start_time": "2022-03-16T13:59:39.014Z"
   },
   {
    "duration": 820,
    "start_time": "2022-03-16T14:10:56.543Z"
   },
   {
    "duration": 75,
    "start_time": "2022-03-16T14:10:57.366Z"
   },
   {
    "duration": 51,
    "start_time": "2022-03-16T14:10:57.444Z"
   },
   {
    "duration": 13,
    "start_time": "2022-03-16T14:10:57.498Z"
   },
   {
    "duration": 8,
    "start_time": "2022-03-16T14:10:57.515Z"
   },
   {
    "duration": 75,
    "start_time": "2022-03-16T14:10:57.526Z"
   },
   {
    "duration": 12,
    "start_time": "2022-03-16T14:10:57.604Z"
   },
   {
    "duration": 9,
    "start_time": "2022-03-16T14:10:57.621Z"
   },
   {
    "duration": 51,
    "start_time": "2022-03-16T14:10:57.633Z"
   },
   {
    "duration": 22,
    "start_time": "2022-03-16T14:11:00.170Z"
   },
   {
    "duration": 34,
    "start_time": "2022-03-16T14:11:49.639Z"
   },
   {
    "duration": 33,
    "start_time": "2022-03-16T14:12:03.803Z"
   },
   {
    "duration": 34,
    "start_time": "2022-03-16T14:12:25.752Z"
   },
   {
    "duration": 517,
    "start_time": "2022-03-16T14:14:37.116Z"
   },
   {
    "duration": 524,
    "start_time": "2022-03-16T14:16:07.937Z"
   },
   {
    "duration": 277,
    "start_time": "2022-03-16T14:17:04.047Z"
   },
   {
    "duration": 651,
    "start_time": "2022-03-16T14:22:20.070Z"
   },
   {
    "duration": 26,
    "start_time": "2022-03-16T14:22:55.210Z"
   },
   {
    "duration": 35,
    "start_time": "2022-03-16T14:23:01.591Z"
   },
   {
    "duration": 261,
    "start_time": "2022-03-16T14:23:13.142Z"
   },
   {
    "duration": 689,
    "start_time": "2022-03-16T14:23:17.218Z"
   },
   {
    "duration": 76,
    "start_time": "2022-03-16T14:23:17.910Z"
   },
   {
    "duration": 44,
    "start_time": "2022-03-16T14:23:17.990Z"
   },
   {
    "duration": 45,
    "start_time": "2022-03-16T14:23:18.038Z"
   },
   {
    "duration": 8,
    "start_time": "2022-03-16T14:23:18.086Z"
   },
   {
    "duration": 40,
    "start_time": "2022-03-16T14:23:18.097Z"
   },
   {
    "duration": 46,
    "start_time": "2022-03-16T14:23:18.140Z"
   },
   {
    "duration": 10,
    "start_time": "2022-03-16T14:23:18.189Z"
   },
   {
    "duration": 11,
    "start_time": "2022-03-16T14:23:18.203Z"
   },
   {
    "duration": 25,
    "start_time": "2022-03-16T14:23:18.217Z"
   },
   {
    "duration": 34,
    "start_time": "2022-03-16T14:23:21.929Z"
   },
   {
    "duration": 741,
    "start_time": "2022-03-16T14:29:01.966Z"
   },
   {
    "duration": 72,
    "start_time": "2022-03-16T14:29:02.711Z"
   },
   {
    "duration": 43,
    "start_time": "2022-03-16T14:29:02.787Z"
   },
   {
    "duration": 13,
    "start_time": "2022-03-16T14:29:02.834Z"
   },
   {
    "duration": 37,
    "start_time": "2022-03-16T14:29:02.850Z"
   },
   {
    "duration": 41,
    "start_time": "2022-03-16T14:29:02.890Z"
   },
   {
    "duration": 12,
    "start_time": "2022-03-16T14:29:02.934Z"
   },
   {
    "duration": 8,
    "start_time": "2022-03-16T14:29:02.981Z"
   },
   {
    "duration": 11,
    "start_time": "2022-03-16T14:29:02.993Z"
   },
   {
    "duration": 20,
    "start_time": "2022-03-16T14:29:05.129Z"
   },
   {
    "duration": 36,
    "start_time": "2022-03-16T14:29:20.418Z"
   },
   {
    "duration": 19,
    "start_time": "2022-03-16T14:29:37.760Z"
   },
   {
    "duration": 17,
    "start_time": "2022-03-16T14:35:36.674Z"
   },
   {
    "duration": 18,
    "start_time": "2022-03-16T14:35:39.374Z"
   },
   {
    "duration": 12,
    "start_time": "2022-03-16T14:37:12.264Z"
   },
   {
    "duration": 14,
    "start_time": "2022-03-16T14:37:17.827Z"
   },
   {
    "duration": 12,
    "start_time": "2022-03-16T14:37:38.420Z"
   },
   {
    "duration": 16,
    "start_time": "2022-03-16T14:37:40.238Z"
   },
   {
    "duration": 10,
    "start_time": "2022-03-16T14:37:46.029Z"
   },
   {
    "duration": 20,
    "start_time": "2022-03-16T14:37:47.434Z"
   },
   {
    "duration": 11,
    "start_time": "2022-03-16T15:00:52.393Z"
   },
   {
    "duration": 8,
    "start_time": "2022-03-16T15:02:37.429Z"
   },
   {
    "duration": 9,
    "start_time": "2022-03-16T15:02:46.643Z"
   },
   {
    "duration": 368,
    "start_time": "2022-03-16T15:03:42.101Z"
   },
   {
    "duration": 340,
    "start_time": "2022-03-16T15:03:55.938Z"
   },
   {
    "duration": 437,
    "start_time": "2022-03-16T15:04:45.864Z"
   },
   {
    "duration": 505,
    "start_time": "2022-03-16T15:05:39.481Z"
   },
   {
    "duration": 395,
    "start_time": "2022-03-16T15:07:22.452Z"
   },
   {
    "duration": 329,
    "start_time": "2022-03-16T15:07:35.171Z"
   },
   {
    "duration": 18,
    "start_time": "2022-03-16T15:12:16.726Z"
   },
   {
    "duration": 9,
    "start_time": "2022-03-16T15:22:52.134Z"
   },
   {
    "duration": 9,
    "start_time": "2022-03-16T15:22:55.110Z"
   },
   {
    "duration": 24,
    "start_time": "2022-03-16T15:23:13.359Z"
   },
   {
    "duration": 42,
    "start_time": "2022-03-16T15:23:21.143Z"
   },
   {
    "duration": 10,
    "start_time": "2022-03-16T15:24:57.534Z"
   },
   {
    "duration": 43,
    "start_time": "2022-03-16T15:25:33.160Z"
   },
   {
    "duration": 32,
    "start_time": "2022-03-16T15:25:39.409Z"
   },
   {
    "duration": 49,
    "start_time": "2022-03-16T15:26:04.812Z"
   },
   {
    "duration": 32,
    "start_time": "2022-03-16T15:26:09.520Z"
   },
   {
    "duration": 29,
    "start_time": "2022-03-16T15:26:16.579Z"
   },
   {
    "duration": 49,
    "start_time": "2022-03-16T15:26:20.191Z"
   },
   {
    "duration": 660,
    "start_time": "2022-03-16T15:26:31.222Z"
   },
   {
    "duration": 75,
    "start_time": "2022-03-16T15:26:31.885Z"
   },
   {
    "duration": 51,
    "start_time": "2022-03-16T15:26:31.964Z"
   },
   {
    "duration": 14,
    "start_time": "2022-03-16T15:26:32.019Z"
   },
   {
    "duration": 8,
    "start_time": "2022-03-16T15:26:32.035Z"
   },
   {
    "duration": 69,
    "start_time": "2022-03-16T15:26:32.045Z"
   },
   {
    "duration": 10,
    "start_time": "2022-03-16T15:26:32.116Z"
   },
   {
    "duration": 8,
    "start_time": "2022-03-16T15:26:32.130Z"
   },
   {
    "duration": 48,
    "start_time": "2022-03-16T15:26:32.141Z"
   },
   {
    "duration": 19,
    "start_time": "2022-03-16T15:26:32.191Z"
   },
   {
    "duration": 25,
    "start_time": "2022-03-16T15:26:32.212Z"
   },
   {
    "duration": 42,
    "start_time": "2022-03-16T15:26:32.240Z"
   },
   {
    "duration": 12,
    "start_time": "2022-03-16T15:26:32.284Z"
   },
   {
    "duration": 12,
    "start_time": "2022-03-16T15:26:32.299Z"
   },
   {
    "duration": 9,
    "start_time": "2022-03-16T15:26:32.313Z"
   },
   {
    "duration": 18,
    "start_time": "2022-03-16T15:26:32.324Z"
   },
   {
    "duration": 46,
    "start_time": "2022-03-16T15:26:32.344Z"
   },
   {
    "duration": 20,
    "start_time": "2022-03-16T15:26:32.393Z"
   },
   {
    "duration": 12,
    "start_time": "2022-03-16T15:26:32.416Z"
   },
   {
    "duration": 504,
    "start_time": "2022-03-16T15:26:32.432Z"
   },
   {
    "duration": 16,
    "start_time": "2022-03-16T15:26:32.939Z"
   },
   {
    "duration": 26,
    "start_time": "2022-03-16T15:26:32.958Z"
   },
   {
    "duration": 9,
    "start_time": "2022-03-16T15:26:32.988Z"
   },
   {
    "duration": 35,
    "start_time": "2022-03-16T15:26:32.999Z"
   },
   {
    "duration": 65,
    "start_time": "2022-03-16T15:26:33.036Z"
   },
   {
    "duration": 31,
    "start_time": "2022-03-16T15:26:34.935Z"
   },
   {
    "duration": 13,
    "start_time": "2022-03-16T15:26:57.674Z"
   },
   {
    "duration": 29,
    "start_time": "2022-03-16T15:26:59.570Z"
   },
   {
    "duration": 25,
    "start_time": "2022-03-16T15:27:34.804Z"
   },
   {
    "duration": 45,
    "start_time": "2022-03-16T15:28:12.094Z"
   },
   {
    "duration": 30,
    "start_time": "2022-03-16T15:28:25.010Z"
   },
   {
    "duration": 29,
    "start_time": "2022-03-16T15:28:40.155Z"
   },
   {
    "duration": 650,
    "start_time": "2022-03-16T15:29:57.831Z"
   },
   {
    "duration": 77,
    "start_time": "2022-03-16T15:29:58.483Z"
   },
   {
    "duration": 45,
    "start_time": "2022-03-16T15:29:58.562Z"
   },
   {
    "duration": 21,
    "start_time": "2022-03-16T15:29:58.609Z"
   },
   {
    "duration": 31,
    "start_time": "2022-03-16T15:29:58.632Z"
   },
   {
    "duration": 75,
    "start_time": "2022-03-16T15:29:58.665Z"
   },
   {
    "duration": 10,
    "start_time": "2022-03-16T15:29:58.743Z"
   },
   {
    "duration": 32,
    "start_time": "2022-03-16T15:29:58.756Z"
   },
   {
    "duration": 27,
    "start_time": "2022-03-16T15:29:58.791Z"
   },
   {
    "duration": 44,
    "start_time": "2022-03-16T15:29:58.820Z"
   },
   {
    "duration": 37,
    "start_time": "2022-03-16T15:29:58.866Z"
   },
   {
    "duration": 32,
    "start_time": "2022-03-16T15:29:58.906Z"
   },
   {
    "duration": 42,
    "start_time": "2022-03-16T15:29:58.940Z"
   },
   {
    "duration": 25,
    "start_time": "2022-03-16T15:29:58.984Z"
   },
   {
    "duration": 40,
    "start_time": "2022-03-16T15:29:59.011Z"
   },
   {
    "duration": 32,
    "start_time": "2022-03-16T15:29:59.054Z"
   },
   {
    "duration": 30,
    "start_time": "2022-03-16T15:29:59.088Z"
   },
   {
    "duration": 34,
    "start_time": "2022-03-16T15:29:59.121Z"
   },
   {
    "duration": 41,
    "start_time": "2022-03-16T15:29:59.157Z"
   },
   {
    "duration": 458,
    "start_time": "2022-03-16T15:29:59.201Z"
   },
   {
    "duration": 24,
    "start_time": "2022-03-16T15:29:59.662Z"
   },
   {
    "duration": 17,
    "start_time": "2022-03-16T15:29:59.689Z"
   },
   {
    "duration": 20,
    "start_time": "2022-03-16T15:29:59.710Z"
   },
   {
    "duration": 53,
    "start_time": "2022-03-16T15:29:59.733Z"
   },
   {
    "duration": 57,
    "start_time": "2022-03-16T15:29:59.789Z"
   },
   {
    "duration": 30,
    "start_time": "2022-03-16T15:30:05.490Z"
   },
   {
    "duration": 10,
    "start_time": "2022-03-16T15:30:10.574Z"
   },
   {
    "duration": 24,
    "start_time": "2022-03-16T15:30:15.157Z"
   },
   {
    "duration": 30,
    "start_time": "2022-03-16T15:30:26.619Z"
   },
   {
    "duration": 3,
    "start_time": "2022-03-16T15:30:32.386Z"
   },
   {
    "duration": 102,
    "start_time": "2022-03-16T15:30:32.393Z"
   },
   {
    "duration": 43,
    "start_time": "2022-03-16T15:30:32.498Z"
   },
   {
    "duration": 39,
    "start_time": "2022-03-16T15:30:32.545Z"
   },
   {
    "duration": 8,
    "start_time": "2022-03-16T15:30:32.587Z"
   },
   {
    "duration": 52,
    "start_time": "2022-03-16T15:30:32.597Z"
   },
   {
    "duration": 39,
    "start_time": "2022-03-16T15:30:32.652Z"
   },
   {
    "duration": 8,
    "start_time": "2022-03-16T15:30:32.694Z"
   },
   {
    "duration": 13,
    "start_time": "2022-03-16T15:30:32.706Z"
   },
   {
    "duration": 24,
    "start_time": "2022-03-16T15:30:32.722Z"
   },
   {
    "duration": 47,
    "start_time": "2022-03-16T15:30:32.749Z"
   },
   {
    "duration": 18,
    "start_time": "2022-03-16T15:30:32.799Z"
   },
   {
    "duration": 28,
    "start_time": "2022-03-16T15:30:32.819Z"
   },
   {
    "duration": 39,
    "start_time": "2022-03-16T15:30:32.850Z"
   },
   {
    "duration": 9,
    "start_time": "2022-03-16T15:30:32.892Z"
   },
   {
    "duration": 22,
    "start_time": "2022-03-16T15:30:32.904Z"
   },
   {
    "duration": 12,
    "start_time": "2022-03-16T15:30:32.929Z"
   },
   {
    "duration": 41,
    "start_time": "2022-03-16T15:30:32.943Z"
   },
   {
    "duration": 12,
    "start_time": "2022-03-16T15:30:32.986Z"
   },
   {
    "duration": 412,
    "start_time": "2022-03-16T15:30:33.001Z"
   },
   {
    "duration": 16,
    "start_time": "2022-03-16T15:30:33.416Z"
   },
   {
    "duration": 9,
    "start_time": "2022-03-16T15:30:33.434Z"
   },
   {
    "duration": 38,
    "start_time": "2022-03-16T15:30:33.446Z"
   },
   {
    "duration": 26,
    "start_time": "2022-03-16T15:30:33.486Z"
   },
   {
    "duration": 70,
    "start_time": "2022-03-16T15:30:33.514Z"
   },
   {
    "duration": 32,
    "start_time": "2022-03-16T15:30:33.587Z"
   },
   {
    "duration": 14,
    "start_time": "2022-03-16T15:30:33.626Z"
   },
   {
    "duration": 73,
    "start_time": "2022-03-16T15:30:33.644Z"
   },
   {
    "duration": 37,
    "start_time": "2022-03-16T15:30:33.720Z"
   },
   {
    "duration": 65,
    "start_time": "2022-03-16T15:30:33.783Z"
   },
   {
    "duration": 28,
    "start_time": "2022-03-16T15:30:47.994Z"
   },
   {
    "duration": 9,
    "start_time": "2022-03-16T15:31:11.871Z"
   },
   {
    "duration": 10,
    "start_time": "2022-03-16T15:31:15.207Z"
   },
   {
    "duration": 10,
    "start_time": "2022-03-16T15:31:17.250Z"
   },
   {
    "duration": 17,
    "start_time": "2022-03-16T15:31:28.833Z"
   },
   {
    "duration": 17,
    "start_time": "2022-03-16T15:31:31.415Z"
   },
   {
    "duration": 28,
    "start_time": "2022-03-16T15:31:33.326Z"
   },
   {
    "duration": 6,
    "start_time": "2022-03-16T15:31:52.132Z"
   },
   {
    "duration": 41,
    "start_time": "2022-03-16T15:31:54.252Z"
   },
   {
    "duration": 8,
    "start_time": "2022-03-16T15:31:59.478Z"
   },
   {
    "duration": 6,
    "start_time": "2022-03-16T15:32:14.233Z"
   },
   {
    "duration": 54,
    "start_time": "2022-03-16T15:32:15.426Z"
   },
   {
    "duration": 8,
    "start_time": "2022-03-16T15:32:22.315Z"
   },
   {
    "duration": 354,
    "start_time": "2022-03-16T15:52:52.153Z"
   },
   {
    "duration": 104,
    "start_time": "2022-03-16T16:07:12.895Z"
   },
   {
    "duration": 21,
    "start_time": "2022-03-16T16:07:15.810Z"
   },
   {
    "duration": 15,
    "start_time": "2022-03-16T16:07:25.546Z"
   },
   {
    "duration": 59,
    "start_time": "2022-03-16T16:07:37.145Z"
   },
   {
    "duration": 17,
    "start_time": "2022-03-16T16:07:38.934Z"
   },
   {
    "duration": 22,
    "start_time": "2022-03-16T16:08:38.228Z"
   },
   {
    "duration": 22,
    "start_time": "2022-03-16T16:09:12.233Z"
   },
   {
    "duration": 821,
    "start_time": "2022-03-16T16:09:31.850Z"
   },
   {
    "duration": 88,
    "start_time": "2022-03-16T16:09:32.674Z"
   },
   {
    "duration": 50,
    "start_time": "2022-03-16T16:09:32.765Z"
   },
   {
    "duration": 11,
    "start_time": "2022-03-16T16:09:32.818Z"
   },
   {
    "duration": 7,
    "start_time": "2022-03-16T16:09:32.831Z"
   },
   {
    "duration": 73,
    "start_time": "2022-03-16T16:09:32.840Z"
   },
   {
    "duration": 13,
    "start_time": "2022-03-16T16:09:32.916Z"
   },
   {
    "duration": 9,
    "start_time": "2022-03-16T16:09:32.935Z"
   },
   {
    "duration": 16,
    "start_time": "2022-03-16T16:09:32.983Z"
   },
   {
    "duration": 20,
    "start_time": "2022-03-16T16:09:33.002Z"
   },
   {
    "duration": 20,
    "start_time": "2022-03-16T16:09:33.024Z"
   },
   {
    "duration": 57,
    "start_time": "2022-03-16T16:09:33.047Z"
   },
   {
    "duration": 13,
    "start_time": "2022-03-16T16:09:33.106Z"
   },
   {
    "duration": 11,
    "start_time": "2022-03-16T16:09:33.121Z"
   },
   {
    "duration": 7,
    "start_time": "2022-03-16T16:09:33.135Z"
   },
   {
    "duration": 55,
    "start_time": "2022-03-16T16:09:33.144Z"
   },
   {
    "duration": 11,
    "start_time": "2022-03-16T16:09:33.202Z"
   },
   {
    "duration": 14,
    "start_time": "2022-03-16T16:09:33.216Z"
   },
   {
    "duration": 60,
    "start_time": "2022-03-16T16:09:33.233Z"
   },
   {
    "duration": 602,
    "start_time": "2022-03-16T16:09:33.296Z"
   },
   {
    "duration": 17,
    "start_time": "2022-03-16T16:09:33.900Z"
   },
   {
    "duration": 8,
    "start_time": "2022-03-16T16:09:33.919Z"
   },
   {
    "duration": 8,
    "start_time": "2022-03-16T16:09:33.932Z"
   },
   {
    "duration": 68,
    "start_time": "2022-03-16T16:09:33.943Z"
   },
   {
    "duration": 46,
    "start_time": "2022-03-16T16:09:34.014Z"
   },
   {
    "duration": 16,
    "start_time": "2022-03-16T16:09:34.083Z"
   },
   {
    "duration": 27,
    "start_time": "2022-03-16T16:09:34.102Z"
   },
   {
    "duration": 52,
    "start_time": "2022-03-16T16:09:34.132Z"
   },
   {
    "duration": 49,
    "start_time": "2022-03-16T16:09:34.188Z"
   },
   {
    "duration": 9,
    "start_time": "2022-03-16T16:09:34.239Z"
   },
   {
    "duration": 46,
    "start_time": "2022-03-16T16:09:34.250Z"
   },
   {
    "duration": 16,
    "start_time": "2022-03-16T16:09:34.299Z"
   },
   {
    "duration": 20,
    "start_time": "2022-03-16T16:09:34.318Z"
   },
   {
    "duration": 48,
    "start_time": "2022-03-16T16:09:34.340Z"
   },
   {
    "duration": 30,
    "start_time": "2022-03-16T16:09:34.391Z"
   },
   {
    "duration": 9,
    "start_time": "2022-03-16T16:09:34.424Z"
   },
   {
    "duration": 74,
    "start_time": "2022-03-16T16:09:34.436Z"
   },
   {
    "duration": 7,
    "start_time": "2022-03-16T16:09:34.512Z"
   },
   {
    "duration": 10,
    "start_time": "2022-03-16T16:09:34.521Z"
   },
   {
    "duration": 72,
    "start_time": "2022-03-16T16:09:34.533Z"
   },
   {
    "duration": 8,
    "start_time": "2022-03-16T16:09:34.607Z"
   },
   {
    "duration": 69,
    "start_time": "2022-03-16T16:09:34.617Z"
   },
   {
    "duration": 25,
    "start_time": "2022-03-16T16:09:34.689Z"
   },
   {
    "duration": 15,
    "start_time": "2022-03-16T16:09:34.716Z"
   },
   {
    "duration": 85,
    "start_time": "2022-03-16T16:09:34.733Z"
   },
   {
    "duration": 16,
    "start_time": "2022-03-16T16:09:34.821Z"
   },
   {
    "duration": 46,
    "start_time": "2022-03-16T16:09:34.839Z"
   },
   {
    "duration": 17,
    "start_time": "2022-03-16T16:09:34.888Z"
   },
   {
    "duration": 77,
    "start_time": "2022-03-16T16:09:34.907Z"
   },
   {
    "duration": 21,
    "start_time": "2022-03-16T16:09:34.988Z"
   },
   {
    "duration": 13,
    "start_time": "2022-03-16T16:09:35.011Z"
   },
   {
    "duration": 95,
    "start_time": "2022-03-16T16:09:35.027Z"
   },
   {
    "duration": 17,
    "start_time": "2022-03-16T16:09:35.125Z"
   },
   {
    "duration": 17,
    "start_time": "2022-03-16T16:09:35.145Z"
   },
   {
    "duration": 736,
    "start_time": "2022-03-16T16:10:42.843Z"
   },
   {
    "duration": 4,
    "start_time": "2022-03-16T16:10:43.582Z"
   },
   {
    "duration": 82,
    "start_time": "2022-03-16T16:10:43.590Z"
   },
   {
    "duration": 51,
    "start_time": "2022-03-16T16:10:43.675Z"
   },
   {
    "duration": 15,
    "start_time": "2022-03-16T16:10:43.729Z"
   },
   {
    "duration": 42,
    "start_time": "2022-03-16T16:10:43.746Z"
   },
   {
    "duration": 44,
    "start_time": "2022-03-16T16:10:43.791Z"
   },
   {
    "duration": 10,
    "start_time": "2022-03-16T16:10:43.839Z"
   },
   {
    "duration": 40,
    "start_time": "2022-03-16T16:10:43.852Z"
   },
   {
    "duration": 12,
    "start_time": "2022-03-16T16:10:43.896Z"
   },
   {
    "duration": 19,
    "start_time": "2022-03-16T16:10:43.910Z"
   },
   {
    "duration": 60,
    "start_time": "2022-03-16T16:10:43.932Z"
   },
   {
    "duration": 22,
    "start_time": "2022-03-16T16:10:43.995Z"
   },
   {
    "duration": 11,
    "start_time": "2022-03-16T16:10:44.019Z"
   },
   {
    "duration": 12,
    "start_time": "2022-03-16T16:10:44.032Z"
   },
   {
    "duration": 13,
    "start_time": "2022-03-16T16:10:44.083Z"
   },
   {
    "duration": 15,
    "start_time": "2022-03-16T16:10:44.098Z"
   },
   {
    "duration": 9,
    "start_time": "2022-03-16T16:10:44.116Z"
   },
   {
    "duration": 11,
    "start_time": "2022-03-16T16:10:44.127Z"
   },
   {
    "duration": 15,
    "start_time": "2022-03-16T16:10:44.183Z"
   },
   {
    "duration": 507,
    "start_time": "2022-03-16T16:10:44.201Z"
   },
   {
    "duration": 16,
    "start_time": "2022-03-16T16:10:44.711Z"
   },
   {
    "duration": 8,
    "start_time": "2022-03-16T16:10:44.734Z"
   },
   {
    "duration": 37,
    "start_time": "2022-03-16T16:10:44.745Z"
   },
   {
    "duration": 30,
    "start_time": "2022-03-16T16:10:44.785Z"
   },
   {
    "duration": 67,
    "start_time": "2022-03-16T16:10:44.817Z"
   },
   {
    "duration": 15,
    "start_time": "2022-03-16T16:10:44.887Z"
   },
   {
    "duration": 24,
    "start_time": "2022-03-16T16:10:44.904Z"
   },
   {
    "duration": 52,
    "start_time": "2022-03-16T16:10:44.931Z"
   },
   {
    "duration": 49,
    "start_time": "2022-03-16T16:10:44.986Z"
   },
   {
    "duration": 10,
    "start_time": "2022-03-16T16:10:45.039Z"
   },
   {
    "duration": 15,
    "start_time": "2022-03-16T16:10:45.081Z"
   },
   {
    "duration": 13,
    "start_time": "2022-03-16T16:10:45.100Z"
   },
   {
    "duration": 17,
    "start_time": "2022-03-16T16:10:45.116Z"
   },
   {
    "duration": 54,
    "start_time": "2022-03-16T16:10:45.136Z"
   },
   {
    "duration": 32,
    "start_time": "2022-03-16T16:10:45.194Z"
   },
   {
    "duration": 7,
    "start_time": "2022-03-16T16:10:45.229Z"
   },
   {
    "duration": 82,
    "start_time": "2022-03-16T16:10:45.238Z"
   },
   {
    "duration": 7,
    "start_time": "2022-03-16T16:10:45.323Z"
   },
   {
    "duration": 23,
    "start_time": "2022-03-16T16:10:45.332Z"
   },
   {
    "duration": 55,
    "start_time": "2022-03-16T16:10:45.357Z"
   },
   {
    "duration": 6,
    "start_time": "2022-03-16T16:10:45.415Z"
   },
   {
    "duration": 79,
    "start_time": "2022-03-16T16:10:45.424Z"
   },
   {
    "duration": 20,
    "start_time": "2022-03-16T16:10:45.506Z"
   },
   {
    "duration": 15,
    "start_time": "2022-03-16T16:10:45.528Z"
   },
   {
    "duration": 79,
    "start_time": "2022-03-16T16:10:45.545Z"
   },
   {
    "duration": 16,
    "start_time": "2022-03-16T16:10:45.627Z"
   },
   {
    "duration": 50,
    "start_time": "2022-03-16T16:10:45.646Z"
   },
   {
    "duration": 18,
    "start_time": "2022-03-16T16:10:45.699Z"
   },
   {
    "duration": 65,
    "start_time": "2022-03-16T16:10:45.720Z"
   },
   {
    "duration": 23,
    "start_time": "2022-03-16T16:10:45.788Z"
   },
   {
    "duration": 13,
    "start_time": "2022-03-16T16:10:45.813Z"
   },
   {
    "duration": 100,
    "start_time": "2022-03-16T16:10:45.828Z"
   },
   {
    "duration": 17,
    "start_time": "2022-03-16T16:10:45.931Z"
   },
   {
    "duration": 34,
    "start_time": "2022-03-16T16:10:45.951Z"
   }
  ],
  "kernelspec": {
   "display_name": "Python 3 (ipykernel)",
   "language": "python",
   "name": "python3"
  },
  "language_info": {
   "codemirror_mode": {
    "name": "ipython",
    "version": 3
   },
   "file_extension": ".py",
   "mimetype": "text/x-python",
   "name": "python",
   "nbconvert_exporter": "python",
   "pygments_lexer": "ipython3",
   "version": "3.11.5"
  },
  "toc": {
   "base_numbering": 1,
   "nav_menu": {},
   "number_sections": false,
   "sideBar": true,
   "skip_h1_title": false,
   "title_cell": "Table of Contents",
   "title_sidebar": "Contents",
   "toc_cell": false,
   "toc_position": {
    "height": "calc(100% - 180px)",
    "left": "10px",
    "top": "150px",
    "width": "345px"
   },
   "toc_section_display": true,
   "toc_window_display": true
  }
 },
 "nbformat": 4,
 "nbformat_minor": 5
}
